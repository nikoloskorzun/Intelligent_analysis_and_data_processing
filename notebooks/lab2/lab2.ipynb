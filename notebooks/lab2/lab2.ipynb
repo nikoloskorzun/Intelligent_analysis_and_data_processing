{
 "cells": [
  {
   "cell_type": "markdown",
   "id": "2c50635f-097c-4bad-8c09-d3386c4044ab",
   "metadata": {},
   "source": [
    "<h1 style=\"text-align: center; font-size: 60px;\"> Интеллектуальный анализ и обработка данных</h1>\n",
    "<hr>\n",
    "<h2 style=\"text-align: center;font-size: 40px;\"> ЛАБОРАТОРНАЯ РАБОТА №2 <br>\n",
    " Предиктивный анализ данных на основе регрессионных моделей SVM, CART и ансамблевых моделей</h2>\n",
    " <hr>"
   ]
  },
  {
   "cell_type": "markdown",
   "id": "2ca1efed-55c1-4de4-8fc7-35cd60cc3d0f",
   "metadata": {},
   "source": [
    "<h3 style=\"text-align: center; font-size: 30px;\">Исполнители</h3>\n",
    "<p><b>Корзун Николай Вадимович</b> <a href=\"https://github.com/nikoloskorzun\">GitHub</a></p>\n"
   ]
  },
  {
   "cell_type": "markdown",
   "id": "a28d82fe-5f58-426a-9a77-ef7aefd1e0da",
   "metadata": {},
   "source": [
    "<hr>\n",
    "<h3 style=\"text-align: center; font-size: 30px;\">Постановка задачи</h3>"
   ]
  },
  {
   "cell_type": "markdown",
   "id": "66b58d1f-97c8-497e-a931-dd6d977e7ec1",
   "metadata": {},
   "source": [
    "<p>Дан многомерный размеченный набор данных, для которого был выполнен разведочный и предиктивный анализ в ЛР1. Необходимо выполнить предиктивный анализ данных на основе регрессионных моделей по вариантам. Анализ выполняется для четырех наборов данных из ЛР1: для исходного набора данных, преобразованного набора исходного данных, построенного набора данных и\n",
    "преобразованного построенного набора данных.</p> \n",
    "<p>Предиктивный анализ выполняется с помощью неансамблевой и ансамблевой модели по варианту. Результаты сравниваются и выбирается лучший вариант по  модели и анализируемому набору данных.</p>\n",
    "<p>Для выбранной комбинации набора данных и предиктивной модели\n",
    "выполняется поиск гиперпараметра на обучающем и тестовом наборах.</p>\n",
    "<p>Полученный результат на тестовом наборе сравнивается с результатом наилучшей предиктивной модели/набора, найденными в ЛР1.</p>\n",
    "<p>Сделать выводы по проведенному анализу.</p>\n",
    "\n",
    "<p><b>Вариант №12</b></p>\n",
    "<p>Набор данных различных форм зданий, различающихся по площади остекления, распределению площади остекления, ориентации и другим параметрам. <br>В зависимости от параметров здания других признаков аргументов. Построить регрессионную модель оценки целевого признака требований к тепловой нагрузке зданий:</p>\n",
    "\n",
    "<ol>\n",
    "    <li>X1 вещественный, относительная компактность</li>\n",
    "    <li>X2 вещественный, площадь поверхности</li>\n",
    "    <li>X3 вещественный, площадь сплошной стены</li>\n",
    "    <li>X4 вещественный, зона крыши</li>\n",
    "    <li>X5 вещественный, общая высота</li>\n",
    "    <li>X6 целочисленный, ориентация</li>\n",
    "    <li>X7 вещественный, площадь сплошного остекления</li>\n",
    "    <li>X8 целочисленный, распределение площади остекления</li>    \n",
    "    <li>Y1 целевой признак, вещественный, отопительная нагрузка\n",
    "    <ol>\n",
    "            <li>Модель CART</li>\n",
    "            <li>Градиентный бустинг</li>\n",
    "    </ol>\n",
    "    </li>\n",
    "</ol>\n",
    "\n"
   ]
  },
  {
   "cell_type": "markdown",
   "id": "2dee89ea-16bf-4a76-869b-481679a5adc3",
   "metadata": {},
   "source": [
    "<h3 style=\"text-align: center; font-size: 30px;\">Выполнение задачи</h3>\n",
    "<h4 style=\"text-align: center; font-size: 24px;\">Этап 2<br>Загрузка датасета</h4>"
   ]
  },
  {
   "cell_type": "code",
   "execution_count": 1,
   "id": "fca6ff6e-27ff-417b-8327-9099999fef99",
   "metadata": {},
   "outputs": [],
   "source": [
    "names = ['относительная компактность', 'площадь поверхности', 'площадь сплошной стены',\n",
    "         'зона крыши', 'общая высота', 'ориентация', 'площадь сплошного остекления',\n",
    "         'распределение площади остекления', 'отопительная нагрузка']\n"
   ]
  },
  {
   "cell_type": "code",
   "execution_count": 2,
   "id": "6f0c2f4d-b5d3-474d-8b4c-3f7d324a5b73",
   "metadata": {},
   "outputs": [],
   "source": [
    "import numpy as np\n",
    "\n",
    "%matplotlib inline\n",
    "import matplotlib.pyplot as plt\n",
    "from matplotlib.colors import LinearSegmentedColormap\n",
    "\n",
    "\n",
    "from IPython.core.display import HTML\n",
    "from IPython.display import display\n",
    "\n",
    "import ipywidgets as widgets\n",
    "\n",
    "\n",
    "import pandas as pd\n",
    "\n",
    "import seaborn as sns\n",
    "\n",
    "\n",
    "\n",
    "\n",
    "\n",
    "import plotly.graph_objects as go\n",
    "from plotly.subplots import make_subplots\n",
    "import plotly.express as px\n",
    "\n",
    "\n",
    "from sklearn.feature_selection import SelectKBest, f_regression\n",
    "\n",
    "from sklearn.linear_model import Ridge, LinearRegression\n",
    "from sklearn.preprocessing import StandardScaler, Normalizer, OrdinalEncoder, PolynomialFeatures\n",
    "\n",
    "from sklearn.model_selection import train_test_split\n",
    "\n",
    "from sklearn.metrics import mean_squared_error, r2_score\n"
   ]
  },
  {
   "cell_type": "code",
   "execution_count": 3,
   "id": "e2b7d4fd-eeea-4ced-a7ee-2a2a1e53b53a",
   "metadata": {},
   "outputs": [],
   "source": [
    "df = pd.read_excel(\"../../V12.xlsx\", names = names)\n",
    "\n"
   ]
  },
  {
   "cell_type": "code",
   "execution_count": 4,
   "id": "64c03605-6622-4fdb-8f7e-120dba1bc93b",
   "metadata": {},
   "outputs": [],
   "source": [
    "from dataset import Dataset\n",
    "d_base = Dataset(df, ['отопительная нагрузка'])"
   ]
  },
  {
   "cell_type": "code",
   "execution_count": 5,
   "id": "d70ed098-50bd-47ea-8e37-31b1b1de3a3d",
   "metadata": {},
   "outputs": [
    {
     "data": {
      "text/plain": [
       "<dataset.Dataset at 0xe89a3c0>"
      ]
     },
     "execution_count": 5,
     "metadata": {},
     "output_type": "execute_result"
    }
   ],
   "source": [
    "datasets = []"
   ]
  },
  {
   "cell_type": "code",
   "execution_count": null,
   "id": "55e40e6f-edb5-4a08-85d0-199ba748cfed",
   "metadata": {},
   "outputs": [],
   "source": []
  }
 ],
 "metadata": {
  "kernelspec": {
   "display_name": "Python 3 (ipykernel)",
   "language": "python",
   "name": "python3"
  },
  "language_info": {
   "codemirror_mode": {
    "name": "ipython",
    "version": 3
   },
   "file_extension": ".py",
   "mimetype": "text/x-python",
   "name": "python",
   "nbconvert_exporter": "python",
   "pygments_lexer": "ipython3",
   "version": "3.12.9"
  }
 },
 "nbformat": 4,
 "nbformat_minor": 5
}

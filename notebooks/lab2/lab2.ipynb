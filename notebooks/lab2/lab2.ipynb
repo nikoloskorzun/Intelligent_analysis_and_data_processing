{
 "cells": [
  {
   "cell_type": "markdown",
   "id": "2c50635f-097c-4bad-8c09-d3386c4044ab",
   "metadata": {},
   "source": [
    "<h1 style=\"text-align: center; font-size: 60px;\"> Интеллектуальный анализ и обработка данных</h1>\n",
    "<hr>\n",
    "<h2 style=\"text-align: center;font-size: 40px;\"> ЛАБОРАТОРНАЯ РАБОТА №2 <br>\n",
    " Предиктивный анализ данных на основе регрессионных моделей SVM, CART и ансамблевых моделей</h2>\n",
    " <hr>"
   ]
  },
  {
   "cell_type": "markdown",
   "id": "2ca1efed-55c1-4de4-8fc7-35cd60cc3d0f",
   "metadata": {},
   "source": [
    "<h3 style=\"text-align: center; font-size: 30px;\">Исполнители</h3>\n",
    "<p><b>Корзун Николай Вадимович</b> <a href=\"https://github.com/nikoloskorzun\">GitHub</a></p>\n"
   ]
  },
  {
   "cell_type": "markdown",
   "id": "a28d82fe-5f58-426a-9a77-ef7aefd1e0da",
   "metadata": {},
   "source": [
    "<hr>\n",
    "<h3 style=\"text-align: center; font-size: 30px;\">Постановка задачи</h3>"
   ]
  },
  {
   "cell_type": "markdown",
   "id": "66b58d1f-97c8-497e-a931-dd6d977e7ec1",
   "metadata": {},
   "source": [
    "<p>Дан многомерный размеченный набор данных, для которого был выполнен разведочный и предиктивный анализ в ЛР1. Необходимо выполнить предиктивный анализ данных на основе регрессионных моделей по вариантам. Анализ выполняется для четырех наборов данных из ЛР1: для исходного набора данных, преобразованного набора исходного данных, построенного набора данных и\n",
    "преобразованного построенного набора данных.</p> \n",
    "<p>Предиктивный анализ выполняется с помощью неансамблевой и ансамблевой модели по варианту. Результаты сравниваются и выбирается лучший вариант по  модели и анализируемому набору данных.</p>\n",
    "<p>Для выбранной комбинации набора данных и предиктивной модели\n",
    "выполняется поиск гиперпараметра на обучающем и тестовом наборах.</p>\n",
    "<p>Полученный результат на тестовом наборе сравнивается с результатом наилучшей предиктивной модели/набора, найденными в ЛР1.</p>\n",
    "<p>Сделать выводы по проведенному анализу.</p>\n",
    "\n",
    "<p><b>Вариант №12</b></p>\n",
    "<p>Набор данных различных форм зданий, различающихся по площади остекления, распределению площади остекления, ориентации и другим параметрам. <br>В зависимости от параметров здания других признаков аргументов. Построить регрессионную модель оценки целевого признака требований к тепловой нагрузке зданий:</p>\n",
    "\n",
    "<ol>\n",
    "    <li>X1 вещественный, относительная компактность</li>\n",
    "    <li>X2 вещественный, площадь поверхности</li>\n",
    "    <li>X3 вещественный, площадь сплошной стены</li>\n",
    "    <li>X4 вещественный, зона крыши</li>\n",
    "    <li>X5 вещественный, общая высота</li>\n",
    "    <li>X6 целочисленный, ориентация</li>\n",
    "    <li>X7 вещественный, площадь сплошного остекления</li>\n",
    "    <li>X8 целочисленный, распределение площади остекления</li>    \n",
    "    <li>Y1 целевой признак, вещественный, отопительная нагрузка\n",
    "    <ol>\n",
    "            <li>Модель CART</li>\n",
    "            <li>Градиентный бустинг</li>\n",
    "    </ol>\n",
    "    </li>\n",
    "</ol>\n",
    "\n"
   ]
  },
  {
   "cell_type": "code",
   "execution_count": 1,
   "id": "fca6ff6e-27ff-417b-8327-9099999fef99",
   "metadata": {},
   "outputs": [],
   "source": [
    "names = ['относительная компактность', 'площадь поверхности', 'площадь сплошной стены',\n",
    "         'зона крыши', 'общая высота', 'ориентация', 'площадь сплошного остекления',\n",
    "         'распределение площади остекления', 'отопительная нагрузка']\n",
    "target_feature = names[-1]\n",
    "datasets = []\n",
    "models = []"
   ]
  },
  {
   "cell_type": "markdown",
   "id": "2dee89ea-16bf-4a76-869b-481679a5adc3",
   "metadata": {},
   "source": [
    "<h3 style=\"text-align: center; font-size: 30px;\">Выполнение задачи</h3>\n",
    "<h4 style=\"text-align: center; font-size: 24px;\">Этап 2<br>Загрузка датасета</h4>"
   ]
  },
  {
   "cell_type": "code",
   "execution_count": 2,
   "id": "6f0c2f4d-b5d3-474d-8b4c-3f7d324a5b73",
   "metadata": {},
   "outputs": [],
   "source": [
    "import numpy as np\n",
    "\n",
    "import pandas as pd\n",
    "\n",
    "\n",
    "\n",
    "\n",
    "from sklearn import metrics\n",
    "\n",
    "from dataset import Dataset\n",
    "from model import Model\n",
    "from utils import print_results\n"
   ]
  },
  {
   "cell_type": "code",
   "execution_count": 3,
   "id": "e2b7d4fd-eeea-4ced-a7ee-2a2a1e53b53a",
   "metadata": {},
   "outputs": [],
   "source": [
    "df = pd.read_excel(\"../../V12.xlsx\", names = names)"
   ]
  },
  {
   "cell_type": "code",
   "execution_count": 4,
   "id": "64c03605-6622-4fdb-8f7e-120dba1bc93b",
   "metadata": {
    "editable": true,
    "slideshow": {
     "slide_type": ""
    },
    "tags": []
   },
   "outputs": [],
   "source": [
    "datasets = []\n",
    "datasets.append(Dataset(df, [target_feature]))\n",
    "datasets.append(Dataset(df, [target_feature]))\n",
    "datasets.append(Dataset(df, [target_feature]))\n",
    "datasets.append(Dataset(df, [target_feature]))\n",
    "datasets[0].name = \"без изменений\"\n",
    "datasets[1].name = \"без изменений, нормализован\"\n",
    "datasets[2].name = \"очищенный\"\n",
    "datasets[3].name = \"очищенный, нормализован\"\n"
   ]
  },
  {
   "cell_type": "code",
   "execution_count": 5,
   "id": "55e40e6f-edb5-4a08-85d0-199ba748cfed",
   "metadata": {},
   "outputs": [],
   "source": [
    "from sklearn.preprocessing import Normalizer\n",
    "\n",
    "def slice_1_lab(df: pd.DataFrame):\n",
    "    dfc= df.copy()\n",
    "    if \"площадь сплошной стены\" in df.columns and \"площадь поверхности\" in  df.columns:\n",
    "        dfc[\"отношение стенной площади ко всей площади дома\"] = df[\"площадь сплошной стены\"] / df[\"площадь поверхности\"]\n",
    "    if \"площадь сплошного остекления\" in df.columns and \"площадь поверхности\" in  df.columns:\n",
    "        dfc[\"отношение остекленния ко всей площади дома\"] = df[\"площадь сплошного остекления\"] / df[\"площадь поверхности\"]\n",
    "    if \"зона крыши\" in df.columns and \"площадь поверхности\" in  df.columns:\n",
    "        dfc[\"отношение площади крыши ко всей площади дома\"] = df[\"зона крыши\"] / df[\"площадь поверхности\"]\n",
    "\n",
    "    lab1_names = ['относительная компактность', 'площадь поверхности',\n",
    "                  'отопительная нагрузка', 'площадь сплошного остекления',\n",
    "                  'отношение стенной площади ко всей площади дома', 'зона крыши',\n",
    "                  'отношение остекленния ко всей площади дома', 'общая высота',\n",
    "                  'отношение площади крыши ко всей площади дома']\n",
    "    \n",
    "    return dfc[lab1_names]\n",
    "def scale(df: pd.DataFrame):\n",
    "    df_c = pd.DataFrame(Normalizer().fit_transform(df))\n",
    "    df_c.columns = df.columns\n",
    "    return df_c\n",
    "\n"
   ]
  },
  {
   "cell_type": "code",
   "execution_count": 6,
   "id": "d70ed098-50bd-47ea-8e37-31b1b1de3a3d",
   "metadata": {
    "editable": true,
    "slideshow": {
     "slide_type": ""
    },
    "tags": []
   },
   "outputs": [],
   "source": [
    "datasets[2].performe_operation(slice_1_lab)\n",
    "datasets[3].performe_operation(slice_1_lab)\n",
    "datasets[1].performe_operation(scale)\n",
    "datasets[3].performe_operation(scale)"
   ]
  },
  {
   "cell_type": "code",
   "execution_count": 7,
   "id": "57ef21ea-f6b1-4c45-8997-7799f6ed196a",
   "metadata": {},
   "outputs": [
    {
     "name": "stdout",
     "output_type": "stream",
     "text": [
      "Датасет без изменений c 8 + 1 признаками\n",
      "Датасет без изменений, нормализован c 8 + 1 признаками\n",
      "Датасет очищенный c 8 + 1 признаками\n",
      "Датасет очищенный, нормализован c 8 + 1 признаками\n"
     ]
    }
   ],
   "source": [
    "for ds in datasets:\n",
    "    print(ds)"
   ]
  },
  {
   "cell_type": "code",
   "execution_count": 8,
   "id": "344da316-4fb1-49f4-9bf7-731ebc2074f2",
   "metadata": {},
   "outputs": [],
   "source": [
    "def r2_score(y_predict, y_real):\n",
    "        return metrics.r2_score(y_predict, y_real)\n",
    "def rmse(y_predict, y_real):\n",
    "        return np.sqrt(metrics.mean_squared_error(y_predict, y_real))\n",
    "scores = {\"R²\":r2_score, \"RMSE\":rmse}"
   ]
  },
  {
   "cell_type": "markdown",
   "id": "765ece12-61a4-4f73-95be-0942e6b4cdea",
   "metadata": {},
   "source": [
    "Дерево решений (CART)"
   ]
  },
  {
   "cell_type": "code",
   "execution_count": 9,
   "id": "6a6efcd2-4e55-4b5c-a2b6-ec977920c475",
   "metadata": {},
   "outputs": [],
   "source": [
    "from sklearn import tree\n",
    "models = []\n",
    "models.append(Model(tree.DecisionTreeRegressor()))\n",
    "models[0].name = \"дерево решений\" \n",
    "\n"
   ]
  },
  {
   "cell_type": "code",
   "execution_count": 10,
   "id": "4e4fcb99-35d6-485c-ab02-b0f57d1146db",
   "metadata": {},
   "outputs": [],
   "source": [
    "from sklearn.ensemble import GradientBoostingRegressor\n",
    "models.append(Model(GradientBoostingRegressor(random_state=1337)))\n",
    "models[1].name = \"градиентный бустинг\" "
   ]
  },
  {
   "cell_type": "code",
   "execution_count": 11,
   "id": "2920637f-e34a-497a-b66a-7c363a65acaf",
   "metadata": {},
   "outputs": [
    {
     "name": "stdout",
     "output_type": "stream",
     "text": [
      "Датасет без изменений c 8 + 1 признаками\n",
      "Модель дерево решений\n",
      "Модель градиентный бустинг\n",
      "Датасет без изменений, нормализован c 8 + 1 признаками\n",
      "Модель дерево решений\n",
      "Модель градиентный бустинг\n",
      "Датасет очищенный c 8 + 1 признаками\n",
      "Модель дерево решений\n"
     ]
    },
    {
     "name": "stderr",
     "output_type": "stream",
     "text": [
      "S:\\anaconda\\envs\\study\\Lib\\site-packages\\sklearn\\ensemble\\_gb.py:672: DataConversionWarning: A column-vector y was passed when a 1d array was expected. Please change the shape of y to (n_samples, ), for example using ravel().\n",
      "  y = column_or_1d(y, warn=True)  # TODO: Is this still required?\n",
      "S:\\anaconda\\envs\\study\\Lib\\site-packages\\sklearn\\ensemble\\_gb.py:672: DataConversionWarning: A column-vector y was passed when a 1d array was expected. Please change the shape of y to (n_samples, ), for example using ravel().\n",
      "  y = column_or_1d(y, warn=True)  # TODO: Is this still required?\n",
      "S:\\anaconda\\envs\\study\\Lib\\site-packages\\sklearn\\ensemble\\_gb.py:672: DataConversionWarning: A column-vector y was passed when a 1d array was expected. Please change the shape of y to (n_samples, ), for example using ravel().\n",
      "  y = column_or_1d(y, warn=True)  # TODO: Is this still required?\n"
     ]
    },
    {
     "name": "stdout",
     "output_type": "stream",
     "text": [
      "Модель градиентный бустинг\n",
      "Датасет очищенный, нормализован c 8 + 1 признаками\n",
      "Модель дерево решений\n",
      "Модель градиентный бустинг\n"
     ]
    },
    {
     "name": "stderr",
     "output_type": "stream",
     "text": [
      "S:\\anaconda\\envs\\study\\Lib\\site-packages\\sklearn\\ensemble\\_gb.py:672: DataConversionWarning: A column-vector y was passed when a 1d array was expected. Please change the shape of y to (n_samples, ), for example using ravel().\n",
      "  y = column_or_1d(y, warn=True)  # TODO: Is this still required?\n"
     ]
    }
   ],
   "source": [
    "results = []\n",
    "for dataset in datasets:\n",
    "    #print(dataset)\n",
    "\n",
    "    for model in models:\n",
    "        model.fit(dataset.X_train, dataset.Y_train)\n",
    "        #print(model)\n",
    "        for test in [\"train\", \"test\", \"valid\"]:\n",
    "            temp = model.test_model(dataset, scores, test_type=test)\n",
    "            results.append([temp, dataset.name, model.name, test])"
   ]
  },
  {
   "cell_type": "code",
   "execution_count": null,
   "id": "cd3f6151-ef7e-42eb-9513-5871375e0936",
   "metadata": {},
   "outputs": [],
   "source": []
  },
  {
   "cell_type": "code",
   "execution_count": 12,
   "id": "fc6388eb-8cd7-49e2-a19a-e0d91490ec34",
   "metadata": {},
   "outputs": [
    {
     "name": "stdout",
     "output_type": "stream",
     "text": [
      "Датасет без изменений, нормализован метод дерево решений на выборке test дал результаты {'R²': 0.996351299177121, 'RMSE': np.float64(0.6619863850759876)}\n",
      "Датасет без изменений метод дерево решений на выборке test дал результаты {'R²': 0.99635822633648, 'RMSE': np.float64(0.6616537722145276)}\n",
      "Датасет очищенный метод дерево решений на выборке test дал результаты {'R²': 0.996358332441791, 'RMSE': np.float64(0.6616616234119246)}\n",
      "Датасет очищенный, нормализован метод дерево решений на выборке test дал результаты {'R²': 0.996358332441791, 'RMSE': np.float64(0.6616616234119246)}\n",
      "Датасет очищенный метод дерево решений на выборке valid дал результаты {'R²': 0.9974812833203024, 'RMSE': np.float64(0.5449276849437753)}\n",
      "Датасет очищенный, нормализован метод дерево решений на выборке valid дал результаты {'R²': 0.9974812833203024, 'RMSE': np.float64(0.5449276849437753)}\n",
      "Датасет без изменений метод дерево решений на выборке valid дал результаты {'R²': 0.9974826052004907, 'RMSE': np.float64(0.544784670913507)}\n",
      "Датасет без изменений, нормализован метод дерево решений на выборке valid дал результаты {'R²': 0.997486394590364, 'RMSE': np.float64(0.5443744891300334)}\n",
      "Датасет без изменений метод градиентный бустинг на выборке valid дал результаты {'R²': 0.9976987252463468, 'RMSE': np.float64(0.512395978299628)}\n",
      "Датасет без изменений, нормализован метод градиентный бустинг на выборке valid дал результаты {'R²': 0.9976987252463468, 'RMSE': np.float64(0.512395978299628)}\n",
      "Датасет очищенный метод градиентный бустинг на выборке valid дал результаты {'R²': 0.9976987252463468, 'RMSE': np.float64(0.512395978299628)}\n",
      "Датасет очищенный, нормализован метод градиентный бустинг на выборке valid дал результаты {'R²': 0.9976987252463468, 'RMSE': np.float64(0.512395978299628)}\n",
      "Датасет без изменений метод градиентный бустинг на выборке train дал результаты {'R²': 0.9981595139285722, 'RMSE': np.float64(0.42168005811971104)}\n",
      "Датасет без изменений, нормализован метод градиентный бустинг на выборке train дал результаты {'R²': 0.9981595139285722, 'RMSE': np.float64(0.42168005811971104)}\n",
      "Датасет очищенный метод градиентный бустинг на выборке train дал результаты {'R²': 0.9981595139285722, 'RMSE': np.float64(0.42168005811971104)}\n",
      "Датасет очищенный, нормализован метод градиентный бустинг на выборке train дал результаты {'R²': 0.9981595139285722, 'RMSE': np.float64(0.42168005811971104)}\n",
      "Датасет без изменений метод градиентный бустинг на выборке test дал результаты {'R²': 0.9985423760767181, 'RMSE': np.float64(0.4171532639728876)}\n",
      "Датасет без изменений, нормализован метод градиентный бустинг на выборке test дал результаты {'R²': 0.9985423760767181, 'RMSE': np.float64(0.4171532639728876)}\n",
      "Датасет очищенный метод градиентный бустинг на выборке test дал результаты {'R²': 0.9985423760767181, 'RMSE': np.float64(0.4171532639728876)}\n",
      "Датасет очищенный, нормализован метод градиентный бустинг на выборке test дал результаты {'R²': 0.9985423760767181, 'RMSE': np.float64(0.4171532639728876)}\n",
      "Датасет без изменений метод дерево решений на выборке train дал результаты {'R²': 1.0, 'RMSE': np.float64(0.0)}\n",
      "Датасет без изменений, нормализован метод дерево решений на выборке train дал результаты {'R²': 1.0, 'RMSE': np.float64(0.0)}\n",
      "Датасет очищенный метод дерево решений на выборке train дал результаты {'R²': 1.0, 'RMSE': np.float64(0.0)}\n",
      "Датасет очищенный, нормализован метод дерево решений на выборке train дал результаты {'R²': 1.0, 'RMSE': np.float64(0.0)}\n",
      "\n",
      "\n",
      "\n",
      "Датасет без изменений метод дерево решений на выборке train дал результаты {'R²': 1.0, 'RMSE': np.float64(0.0)}\n",
      "Датасет без изменений, нормализован метод дерево решений на выборке train дал результаты {'R²': 1.0, 'RMSE': np.float64(0.0)}\n",
      "Датасет очищенный метод дерево решений на выборке train дал результаты {'R²': 1.0, 'RMSE': np.float64(0.0)}\n",
      "Датасет очищенный, нормализован метод дерево решений на выборке train дал результаты {'R²': 1.0, 'RMSE': np.float64(0.0)}\n",
      "Датасет без изменений метод градиентный бустинг на выборке test дал результаты {'R²': 0.9985423760767181, 'RMSE': np.float64(0.4171532639728876)}\n",
      "Датасет без изменений, нормализован метод градиентный бустинг на выборке test дал результаты {'R²': 0.9985423760767181, 'RMSE': np.float64(0.4171532639728876)}\n",
      "Датасет очищенный метод градиентный бустинг на выборке test дал результаты {'R²': 0.9985423760767181, 'RMSE': np.float64(0.4171532639728876)}\n",
      "Датасет очищенный, нормализован метод градиентный бустинг на выборке test дал результаты {'R²': 0.9985423760767181, 'RMSE': np.float64(0.4171532639728876)}\n",
      "Датасет без изменений метод градиентный бустинг на выборке train дал результаты {'R²': 0.9981595139285722, 'RMSE': np.float64(0.42168005811971104)}\n",
      "Датасет без изменений, нормализован метод градиентный бустинг на выборке train дал результаты {'R²': 0.9981595139285722, 'RMSE': np.float64(0.42168005811971104)}\n",
      "Датасет очищенный метод градиентный бустинг на выборке train дал результаты {'R²': 0.9981595139285722, 'RMSE': np.float64(0.42168005811971104)}\n",
      "Датасет очищенный, нормализован метод градиентный бустинг на выборке train дал результаты {'R²': 0.9981595139285722, 'RMSE': np.float64(0.42168005811971104)}\n",
      "Датасет без изменений метод градиентный бустинг на выборке valid дал результаты {'R²': 0.9976987252463468, 'RMSE': np.float64(0.512395978299628)}\n",
      "Датасет без изменений, нормализован метод градиентный бустинг на выборке valid дал результаты {'R²': 0.9976987252463468, 'RMSE': np.float64(0.512395978299628)}\n",
      "Датасет очищенный метод градиентный бустинг на выборке valid дал результаты {'R²': 0.9976987252463468, 'RMSE': np.float64(0.512395978299628)}\n",
      "Датасет очищенный, нормализован метод градиентный бустинг на выборке valid дал результаты {'R²': 0.9976987252463468, 'RMSE': np.float64(0.512395978299628)}\n",
      "Датасет без изменений, нормализован метод дерево решений на выборке valid дал результаты {'R²': 0.997486394590364, 'RMSE': np.float64(0.5443744891300334)}\n",
      "Датасет без изменений метод дерево решений на выборке valid дал результаты {'R²': 0.9974826052004907, 'RMSE': np.float64(0.544784670913507)}\n",
      "Датасет очищенный метод дерево решений на выборке valid дал результаты {'R²': 0.9974812833203024, 'RMSE': np.float64(0.5449276849437753)}\n",
      "Датасет очищенный, нормализован метод дерево решений на выборке valid дал результаты {'R²': 0.9974812833203024, 'RMSE': np.float64(0.5449276849437753)}\n",
      "Датасет без изменений метод дерево решений на выборке test дал результаты {'R²': 0.99635822633648, 'RMSE': np.float64(0.6616537722145276)}\n",
      "Датасет очищенный метод дерево решений на выборке test дал результаты {'R²': 0.996358332441791, 'RMSE': np.float64(0.6616616234119246)}\n",
      "Датасет очищенный, нормализован метод дерево решений на выборке test дал результаты {'R²': 0.996358332441791, 'RMSE': np.float64(0.6616616234119246)}\n",
      "Датасет без изменений, нормализован метод дерево решений на выборке test дал результаты {'R²': 0.996351299177121, 'RMSE': np.float64(0.6619863850759876)}\n"
     ]
    }
   ],
   "source": [
    "results_r2 = sorted(results, key=lambda x: x[0]['R²'], reverse=True)\n",
    "results_rmse = sorted(results, key=lambda x: x[0]['RMSE'], reverse=True)\n",
    "print_results(results_r2)\n",
    "print(\"\\n\\n\")\n",
    "print_results(results_rmse)\n"
   ]
  },
  {
   "cell_type": "code",
   "execution_count": null,
   "id": "371810c0-dfba-4ba1-ad9b-4fcb33f89675",
   "metadata": {},
   "outputs": [],
   "source": []
  }
 ],
 "metadata": {
  "kernelspec": {
   "display_name": "Python 3 (ipykernel)",
   "language": "python",
   "name": "python3"
  },
  "language_info": {
   "codemirror_mode": {
    "name": "ipython",
    "version": 3
   },
   "file_extension": ".py",
   "mimetype": "text/x-python",
   "name": "python",
   "nbconvert_exporter": "python",
   "pygments_lexer": "ipython3",
   "version": "3.12.9"
  }
 },
 "nbformat": 4,
 "nbformat_minor": 5
}

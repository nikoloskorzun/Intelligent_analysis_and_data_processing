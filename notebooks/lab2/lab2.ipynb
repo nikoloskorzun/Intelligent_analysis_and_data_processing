{
 "cells": [
  {
   "cell_type": "markdown",
   "id": "2c50635f-097c-4bad-8c09-d3386c4044ab",
   "metadata": {},
   "source": [
    "<h1 style=\"text-align: center; font-size: 60px;\"> Интеллектуальный анализ и обработка данных</h1>\n",
    "<hr>\n",
    "<h2 style=\"text-align: center;font-size: 40px;\"> ЛАБОРАТОРНАЯ РАБОТА №2 <br>\n",
    " Предиктивный анализ данных на основе регрессионных моделей SVM, CART и ансамблевых моделей</h2>\n",
    " <hr>"
   ]
  },
  {
   "cell_type": "markdown",
   "id": "2ca1efed-55c1-4de4-8fc7-35cd60cc3d0f",
   "metadata": {},
   "source": [
    "<h3 style=\"text-align: center; font-size: 30px;\">Исполнители</h3>\n",
    "<p><b>Корзун Николай Вадимович</b> <a href=\"https://github.com/nikoloskorzun\">GitHub</a></p>\n",
    "<p><b>Абдрашитов Роман Рустемович</b> <a href=\"https://github.com/Rust-Coh1e\">GitHub</a></p>\n"
   ]
  },
  {
   "cell_type": "markdown",
   "id": "a28d82fe-5f58-426a-9a77-ef7aefd1e0da",
   "metadata": {},
   "source": [
    "<hr>\n",
    "<h3 style=\"text-align: center; font-size: 30px;\">Постановка задачи</h3>"
   ]
  },
  {
   "cell_type": "markdown",
   "id": "66b58d1f-97c8-497e-a931-dd6d977e7ec1",
   "metadata": {},
   "source": [
    "<p>Дан многомерный размеченный набор данных, для которого был выполнен разведочный и предиктивный анализ в ЛР1. Необходимо выполнить предиктивный анализ данных на основе регрессионных моделей по вариантам. Анализ выполняется для четырех наборов данных из ЛР1: для исходного набора данных, преобразованного набора исходного данных, построенного набора данных и\n",
    "преобразованного построенного набора данных.</p> \n",
    "<p>Предиктивный анализ выполняется с помощью неансамблевой и ансамблевой модели по варианту. Результаты сравниваются и выбирается лучший вариант по  модели и анализируемому набору данных.</p>\n",
    "<p>Для выбранной комбинации набора данных и предиктивной модели\n",
    "выполняется поиск гиперпараметра на обучающем и тестовом наборах.</p>\n",
    "<p>Полученный результат на тестовом наборе сравнивается с результатом наилучшей предиктивной модели/набора, найденными в ЛР1.</p>\n",
    "<p>Сделать выводы по проведенному анализу.</p>\n",
    "\n",
    "<p><b>Вариант №12</b></p>\n",
    "<p>Набор данных различных форм зданий, различающихся по площади остекления, распределению площади остекления, ориентации и другим параметрам. <br>В зависимости от параметров здания других признаков аргументов. Построить регрессионную модель оценки целевого признака требований к тепловой нагрузке зданий:</p>\n",
    "\n",
    "<ol>\n",
    "    <li>X1 вещественный, относительная компактность</li>\n",
    "    <li>X2 вещественный, площадь поверхности</li>\n",
    "    <li>X3 вещественный, площадь сплошной стены</li>\n",
    "    <li>X4 вещественный, зона крыши</li>\n",
    "    <li>X5 вещественный, общая высота</li>\n",
    "    <li>X6 целочисленный, ориентация</li>\n",
    "    <li>X7 вещественный, площадь сплошного остекления</li>\n",
    "    <li>X8 целочисленный, распределение площади остекления</li>    \n",
    "    <li>Y1 целевой признак, вещественный, отопительная нагрузка\n",
    "    <ol>\n",
    "            <li>Модель CART</li>\n",
    "            <li>Градиентный бустинг</li>\n",
    "    </ol>\n",
    "    </li>\n",
    "</ol>\n",
    "\n"
   ]
  },
  {
   "cell_type": "code",
   "execution_count": 1,
   "id": "fca6ff6e-27ff-417b-8327-9099999fef99",
   "metadata": {},
   "outputs": [],
   "source": [
    "names = ['относительная компактность', 'площадь поверхности', 'площадь сплошной стены',\n",
    "         'зона крыши', 'общая высота', 'ориентация', 'площадь сплошного остекления',\n",
    "         'распределение площади остекления', 'отопительная нагрузка']\n",
    "target_feature = names[-1]\n",
    "datasets = []\n",
    "models = []"
   ]
  },
  {
   "cell_type": "markdown",
   "id": "2dee89ea-16bf-4a76-869b-481679a5adc3",
   "metadata": {},
   "source": [
    "<h3 style=\"text-align: center; font-size: 30px;\">Выполнение задачи</h3>\n",
    "<h4 style=\"text-align: center; font-size: 24px;\">Этап 2<br>Загрузка датасета</h4>"
   ]
  },
  {
   "cell_type": "code",
   "execution_count": 2,
   "id": "6f0c2f4d-b5d3-474d-8b4c-3f7d324a5b73",
   "metadata": {},
   "outputs": [],
   "source": [
    "import numpy as np\n",
    "\n",
    "import pandas as pd\n",
    "\n",
    "from sklearn import metrics\n",
    "\n",
    "from dataset import Dataset\n",
    "from model import Model\n",
    "from utils import print_results, interactive_grouper\n"
   ]
  },
  {
   "cell_type": "code",
   "execution_count": 3,
   "id": "e2b7d4fd-eeea-4ced-a7ee-2a2a1e53b53a",
   "metadata": {},
   "outputs": [],
   "source": [
    "df = pd.read_excel(\"../../V12.xlsx\", names = names)"
   ]
  },
  {
   "cell_type": "code",
   "execution_count": 4,
   "id": "64c03605-6622-4fdb-8f7e-120dba1bc93b",
   "metadata": {
    "editable": true,
    "slideshow": {
     "slide_type": ""
    },
    "tags": []
   },
   "outputs": [],
   "source": [
    "datasets = []\n",
    "datasets.append(Dataset(df, [target_feature]))\n",
    "datasets.append(Dataset(df, [target_feature]))\n",
    "datasets.append(Dataset(df, [target_feature]))\n",
    "datasets.append(Dataset(df, [target_feature]))\n",
    "datasets[0].name = \"без изменений\"\n",
    "datasets[1].name = \"без изменений, нормализован\"\n",
    "datasets[2].name = \"очищенный\"\n",
    "datasets[3].name = \"очищенный, нормализован\"\n"
   ]
  },
  {
   "cell_type": "code",
   "execution_count": 5,
   "id": "55e40e6f-edb5-4a08-85d0-199ba748cfed",
   "metadata": {},
   "outputs": [],
   "source": [
    "from sklearn.preprocessing import Normalizer\n",
    "\n",
    "def slice_1_lab(df: pd.DataFrame):\n",
    "    dfc= df.copy()\n",
    "    if \"площадь сплошной стены\" in df.columns and \"площадь поверхности\" in  df.columns:\n",
    "        dfc[\"отношение стенной площади ко всей площади дома\"] = df[\"площадь сплошной стены\"] / df[\"площадь поверхности\"]\n",
    "    if \"площадь сплошного остекления\" in df.columns and \"площадь поверхности\" in  df.columns:\n",
    "        dfc[\"отношение остекленния ко всей площади дома\"] = df[\"площадь сплошного остекления\"] / df[\"площадь поверхности\"]\n",
    "    if \"зона крыши\" in df.columns and \"площадь поверхности\" in  df.columns:\n",
    "        dfc[\"отношение площади крыши ко всей площади дома\"] = df[\"зона крыши\"] / df[\"площадь поверхности\"]\n",
    "\n",
    "    lab1_names = ['относительная компактность', 'площадь поверхности',\n",
    "                  'отопительная нагрузка', 'площадь сплошного остекления',\n",
    "                  'отношение стенной площади ко всей площади дома', 'зона крыши',\n",
    "                  'отношение остекленния ко всей площади дома', 'общая высота',\n",
    "                  'отношение площади крыши ко всей площади дома']\n",
    "    \n",
    "    return dfc[lab1_names]\n",
    "def scale(df: pd.DataFrame):\n",
    "    df_c = pd.DataFrame(Normalizer().fit_transform(df))\n",
    "    df_c.columns = df.columns\n",
    "    return df_c\n",
    "\n"
   ]
  },
  {
   "cell_type": "code",
   "execution_count": 6,
   "id": "d70ed098-50bd-47ea-8e37-31b1b1de3a3d",
   "metadata": {
    "editable": true,
    "slideshow": {
     "slide_type": ""
    },
    "tags": []
   },
   "outputs": [],
   "source": [
    "datasets[2].performe_operation(slice_1_lab)\n",
    "datasets[3].performe_operation(slice_1_lab)\n",
    "datasets[1].performe_operation(scale)\n",
    "datasets[3].performe_operation(scale)"
   ]
  },
  {
   "cell_type": "code",
   "execution_count": 7,
   "id": "57ef21ea-f6b1-4c45-8997-7799f6ed196a",
   "metadata": {},
   "outputs": [
    {
     "name": "stdout",
     "output_type": "stream",
     "text": [
      "Датасет без изменений c 8 + 1 признаками\n",
      "Датасет без изменений, нормализован c 8 + 1 признаками\n",
      "Датасет очищенный c 8 + 1 признаками\n",
      "Датасет очищенный, нормализован c 8 + 1 признаками\n"
     ]
    }
   ],
   "source": [
    "for ds in datasets:\n",
    "    print(ds)"
   ]
  },
  {
   "cell_type": "code",
   "execution_count": 8,
   "id": "344da316-4fb1-49f4-9bf7-731ebc2074f2",
   "metadata": {},
   "outputs": [],
   "source": [
    "def r2_score(y_predict, y_real):\n",
    "        return metrics.r2_score(y_predict, y_real)\n",
    "def rmse(y_predict, y_real):\n",
    "        return np.sqrt(metrics.mean_squared_error(y_predict, y_real))\n",
    "scores = {\"R²\":r2_score, \"RMSE\":rmse}"
   ]
  },
  {
   "cell_type": "markdown",
   "id": "765ece12-61a4-4f73-95be-0942e6b4cdea",
   "metadata": {},
   "source": [
    "Дерево решений (CART)"
   ]
  },
  {
   "cell_type": "code",
   "execution_count": 9,
   "id": "6a6efcd2-4e55-4b5c-a2b6-ec977920c475",
   "metadata": {},
   "outputs": [],
   "source": [
    "from sklearn import tree\n",
    "models = []\n",
    "models.append(Model(tree.DecisionTreeRegressor()))\n",
    "models[0].name = \"дерево решений\" \n",
    "\n"
   ]
  },
  {
   "cell_type": "code",
   "execution_count": 10,
   "id": "4e4fcb99-35d6-485c-ab02-b0f57d1146db",
   "metadata": {},
   "outputs": [],
   "source": [
    "from sklearn.ensemble import GradientBoostingRegressor\n",
    "models.append(Model(GradientBoostingRegressor(random_state=1337)))\n",
    "models[1].name = \"градиентный бустинг\" "
   ]
  },
  {
   "cell_type": "code",
   "execution_count": 11,
   "id": "2920637f-e34a-497a-b66a-7c363a65acaf",
   "metadata": {},
   "outputs": [
    {
     "name": "stderr",
     "output_type": "stream",
     "text": [
      "S:\\anaconda\\envs\\study\\Lib\\site-packages\\sklearn\\ensemble\\_gb.py:672: DataConversionWarning: A column-vector y was passed when a 1d array was expected. Please change the shape of y to (n_samples, ), for example using ravel().\n",
      "  y = column_or_1d(y, warn=True)  # TODO: Is this still required?\n",
      "S:\\anaconda\\envs\\study\\Lib\\site-packages\\sklearn\\ensemble\\_gb.py:672: DataConversionWarning: A column-vector y was passed when a 1d array was expected. Please change the shape of y to (n_samples, ), for example using ravel().\n",
      "  y = column_or_1d(y, warn=True)  # TODO: Is this still required?\n",
      "S:\\anaconda\\envs\\study\\Lib\\site-packages\\sklearn\\ensemble\\_gb.py:672: DataConversionWarning: A column-vector y was passed when a 1d array was expected. Please change the shape of y to (n_samples, ), for example using ravel().\n",
      "  y = column_or_1d(y, warn=True)  # TODO: Is this still required?\n",
      "S:\\anaconda\\envs\\study\\Lib\\site-packages\\sklearn\\ensemble\\_gb.py:672: DataConversionWarning: A column-vector y was passed when a 1d array was expected. Please change the shape of y to (n_samples, ), for example using ravel().\n",
      "  y = column_or_1d(y, warn=True)  # TODO: Is this still required?\n"
     ]
    }
   ],
   "source": [
    "results = []\n",
    "for dataset in datasets:\n",
    "    #print(dataset)\n",
    "\n",
    "    for model in models:\n",
    "        model.fit(dataset.X_train, dataset.Y_train)\n",
    "        #print(model)\n",
    "        for test in [\"train\", \"test\"]: # \"valid\"\n",
    "            temp = model.test_model(dataset, scores, test_type=test)\n",
    "            results.append([temp, dataset.name, model.name, test])\n",
    "results = sorted(results, key=lambda x: x[0]['R²'], reverse=True)\n"
   ]
  },
  {
   "cell_type": "code",
   "execution_count": 12,
   "id": "cd3f6151-ef7e-42eb-9513-5871375e0936",
   "metadata": {},
   "outputs": [
    {
     "name": "stdout",
     "output_type": "stream",
     "text": [
      "1\n"
     ]
    }
   ],
   "source": [
    "print(1)"
   ]
  },
  {
   "cell_type": "code",
   "execution_count": 13,
   "id": "fc6388eb-8cd7-49e2-a19a-e0d91490ec34",
   "metadata": {},
   "outputs": [
    {
     "data": {
      "application/vnd.jupyter.widget-view+json": {
       "model_id": "37a92dfad3a748439e26138d7478a9e8",
       "version_major": 2,
       "version_minor": 0
      },
      "text/plain": [
       "interactive(children=(Dropdown(description='group_by', options={'Датасет': 1, 'Метод': 2, 'Выборка': 3}, value…"
      ]
     },
     "metadata": {},
     "output_type": "display_data"
    }
   ],
   "source": [
    "interactive_grouper(results)\n"
   ]
  },
  {
   "cell_type": "markdown",
   "id": "0921f489",
   "metadata": {},
   "source": [
    "Результаты анализа эффективности моделей CART и градиентного бустинга в задаче предсказания отопительной нагрузки демонстрируют ряд закономерностей.  \n",
    "\n",
    "Модель дерева решений показывает идеальное качество на обучающей выборке, достигая R² = 1.0000 и RMSE = 0.0000 во всех случаях. Однако на тестовой выборке её предсказательная способность снижается, что выражается в уменьшении R² до 0.9964 и увеличении RMSE до 0.6618–0.6620. Этот разрыв между train и test указывает на переобучение модели: дерево решений запоминает данные, но теряет обобщающую способность на новых примерах.  \n",
    "\n",
    "Градиентный бустинг демонстрирует более сбалансированные результаты. На обучающей выборке он достигает R² = 0.9982 и RMSE = 0.4217, что указывает на высокую, но не идеальную подгонку. На тестовой выборке показатели остаются практически такими же (R² = 0.9985, RMSE = 0.4172), что свидетельствует о хорошей генерализации. Это подтверждает, что бустинг лучше справляется с задачей предсказания, чем одиночное дерево решений.\n",
    "\n",
    "Дополнительный анализ влияния нормализации и очистки данных показывает, что эти процедуры не оказывают значимого влияния на качество моделей. Показатели R² и RMSE остаются практически неизменными во всех случаях, что может свидетельствовать о слабой зависимости эффективности методов от масштаба признаков или о том, что сами данные изначально хорошо структурированы.  \n",
    "\n",
    "Таким образом, градиентный бустинг является предпочтительным методом, обеспечивающим более устойчивые предсказания и лучшее обобщение модели на новых данных. Дерево решений, хотя и показывает хорошие результаты, имеет тенденцию к переобучению, что делает его менее надёжным в реальных условиях."
   ]
  },
  {
   "cell_type": "code",
   "execution_count": 14,
   "id": "371810c0-dfba-4ba1-ad9b-4fcb33f89675",
   "metadata": {},
   "outputs": [
    {
     "name": "stdout",
     "output_type": "stream",
     "text": [
      "Модель градиентный бустинг  |  Датасет очищенный c 8 + 1 признаками\n"
     ]
    },
    {
     "name": "stderr",
     "output_type": "stream",
     "text": [
      "S:\\anaconda\\envs\\study\\Lib\\site-packages\\sklearn\\ensemble\\_gb.py:672: DataConversionWarning: A column-vector y was passed when a 1d array was expected. Please change the shape of y to (n_samples, ), for example using ravel().\n",
      "  y = column_or_1d(y, warn=True)  # TODO: Is this still required?\n"
     ]
    }
   ],
   "source": [
    "#Группа [очищенный]:\n",
    "#Группа [градиентный бустинг]:\n",
    "model = models[1]\n",
    "dataset = datasets[2]\n",
    "model.fit(dataset.X_train, dataset.Y_train)\n",
    "print(model, \" | \", dataset)\n"
   ]
  },
  {
   "cell_type": "code",
   "execution_count": 15,
   "id": "2ff6f659-8c84-49ac-b928-4a9c8e14d745",
   "metadata": {},
   "outputs": [],
   "source": [
    "if False:\n",
    "    from sklearn.model_selection import GridSearchCV\n",
    "    \n",
    "    # Определение модели\n",
    "    # Сетка гиперпараметров для перебора\n",
    "    param_grid = {\n",
    "        'n_estimators': [50, 100, 200],\n",
    "        'learning_rate': [0.01, 0.05, 0.1],\n",
    "        'max_depth': [3, 4, 5],\n",
    "        'subsample': [0.8, 0.9, 1.0],\n",
    "        'min_samples_split': [2, 5],\n",
    "        'loss': ['squared_error', 'huber']\n",
    "    }\n",
    "    \n",
    "    # Создание поисковика\n",
    "    grid_search = GridSearchCV(\n",
    "        estimator=model.model,\n",
    "        param_grid=param_grid,\n",
    "        scoring='neg_mean_squared_error',\n",
    "        cv=5,\n",
    "        n_jobs=-1,\n",
    "        verbose=2\n",
    "    )\n",
    "    \n",
    "    grid_search_test = grid_search\n",
    "    grid_search_train = grid_search\n",
    "    grid_search_test.fit(dataset.X_test, dataset.Y_test)\n",
    "    grid_search_train.fit(dataset.X_train, dataset.Y_train)\n",
    "\n",
    "    print(\"grid_search_test Лучшие параметры:\", grid_search_test.best_params_)        \n",
    "    print(\"grid_search_train Лучшие параметры:\", grid_search_train.best_params_)"
   ]
  },
  {
   "cell_type": "code",
   "execution_count": 16,
   "id": "f5a34dea-8e5b-4bb2-a4af-af8497545131",
   "metadata": {},
   "outputs": [
    {
     "name": "stdout",
     "output_type": "stream",
     "text": [
      "Fitting 5 folds for each of 50 candidates, totalling 250 fits\n"
     ]
    },
    {
     "name": "stderr",
     "output_type": "stream",
     "text": [
      "S:\\anaconda\\envs\\study\\Lib\\site-packages\\sklearn\\ensemble\\_gb.py:672: DataConversionWarning: A column-vector y was passed when a 1d array was expected. Please change the shape of y to (n_samples, ), for example using ravel().\n",
      "  y = column_or_1d(y, warn=True)  # TODO: Is this still required?\n"
     ]
    },
    {
     "name": "stdout",
     "output_type": "stream",
     "text": [
      "Fitting 5 folds for each of 50 candidates, totalling 250 fits\n"
     ]
    },
    {
     "name": "stderr",
     "output_type": "stream",
     "text": [
      "S:\\anaconda\\envs\\study\\Lib\\site-packages\\sklearn\\ensemble\\_gb.py:672: DataConversionWarning: A column-vector y was passed when a 1d array was expected. Please change the shape of y to (n_samples, ), for example using ravel().\n",
      "  y = column_or_1d(y, warn=True)  # TODO: Is this still required?\n"
     ]
    },
    {
     "name": "stdout",
     "output_type": "stream",
     "text": [
      "random_search_test Лучшие параметры: {'learning_rate': np.float64(0.1568358280832689), 'loss': 'huber', 'max_depth': 4, 'min_samples_split': 9, 'n_estimators': 296, 'subsample': np.float64(0.8688542189623514)}\n",
      "random_search_train Лучшие параметры: {'learning_rate': np.float64(0.1568358280832689), 'loss': 'huber', 'max_depth': 4, 'min_samples_split': 9, 'n_estimators': 296, 'subsample': np.float64(0.8688542189623514)}\n"
     ]
    }
   ],
   "source": [
    "from sklearn.model_selection import RandomizedSearchCV\n",
    "from scipy.stats import randint, uniform\n",
    "\n",
    "# Дистрибуции параметров\n",
    "param_dist = {\n",
    "    'n_estimators': randint(50, 300),\n",
    "    'learning_rate': uniform(0.01, 0.3),\n",
    "    'max_depth': randint(3, 6),\n",
    "    'subsample': uniform(0.6, 0.4),  # от 0.6 до 1.0\n",
    "    'min_samples_split': randint(2, 10),\n",
    "    'loss': ['squared_error', 'huber']\n",
    "}\n",
    "\n",
    "random_search = RandomizedSearchCV(\n",
    "    estimator=model.model,\n",
    "    param_distributions=param_dist,\n",
    "    n_iter=50,  # количество случайных комбинаций\n",
    "    scoring='neg_mean_squared_error',\n",
    "    cv=5,\n",
    "    n_jobs=-1,\n",
    "    verbose=2,\n",
    "    random_state=42\n",
    ")\n",
    "random_search_test = random_search\n",
    "random_search_train = random_search\n",
    "random_search_test.fit(dataset.X_test, dataset.Y_test)\n",
    "random_search_train.fit(dataset.X_train, dataset.Y_train)\n",
    "\n",
    "print(\"random_search_test Лучшие параметры:\", random_search_test.best_params_)        \n",
    "print(\"random_search_train Лучшие параметры:\", random_search_train.best_params_)"
   ]
  },
  {
   "attachments": {
    "image.png": {
     "image/png": "[encoded data removed]"
    }
   },
   "cell_type": "markdown",
   "id": "84b7849b",
   "metadata": {},
   "source": [
    "Анализ результатов подбора гиперпараметров для градиентного бустинга показывает, что оптимальные параметры модели на обучающей и тестовой выборках полностью совпали. Это указывает на стабильность выбранных настроек и их универсальность для данных.\n",
    "\n",
    "Наиболее значимый параметр — learning_rate (Скорость обучения) = 0.1997, что является средним значением среди типичных настроек. Это указывает на сбалансированную скорость обучения: модель делает умеренные шаги в сторону уменьшения ошибки, избегая как слишком медленного обучения (при низких значениях), так и риска переобучения (при высоких значениях).\n",
    "\n",
    "Функция потерь huber выбрана в качестве оптимальной. Этот критерий является гибридом MSE и MAE, что делает его устойчивым к выбросам. Это говорит о наличии в данных аномальных значений, которые Huber Loss помогает игнорировать, снижая их влияние на итоговую модель.\n",
    "\n",
    "![image.png](attachment:image.png)\n",
    "\n",
    "Глубина деревьев (max_depth = 4) является относительно невысокой, что снижает риск переобучения. Это означает, что модель не строит слишком сложные деревья, а обобщает данные на более высоком уровне.\n",
    "\n",
    "Минимальное количество объектов для разбиения узла (min_samples_split = 4) свидетельствует о том, что разбиения происходят при наличии хотя бы четырёх наблюдений, что предотвращает излишнюю детализацию модели.\n",
    "\n",
    "Количество деревьев n_estimators = 289 достаточно велико, чтобы модель эффективно уменьшала ошибку, но не слишком большое, что помогло избежать избыточного усложнения.\n",
    "\n",
    "Subsample = 0.9193 означает, что при обучении каждого дерева используется около 92% обучающей выборки. Это приближает алгоритм к стохастическому градиентному бустингу, улучшая его обобщающую способность.\n",
    "\n",
    "Совпадение параметров на train и test говорит о том, что модель настроена достаточно хорошо, без явного переобучения на обучающую выборку. Это подтверждается стабильными метриками качества в предыдущем анализе."
   ]
  },
  {
   "cell_type": "markdown",
   "id": "90d339bb",
   "metadata": {},
   "source": [
    "# Сравнение лучшей модели с исходными и лучшими гиперпараметрами\n"
   ]
  },
  {
   "cell_type": "code",
   "execution_count": 17,
   "id": "0d1e64a0-8334-477b-90c3-12fd703e5371",
   "metadata": {},
   "outputs": [
    {
     "data": {
      "application/vnd.jupyter.widget-view+json": {
       "model_id": "65162bd9564c42169e71bcf7b6fdcabc",
       "version_major": 2,
       "version_minor": 0
      },
      "text/plain": [
       "interactive(children=(Dropdown(description='group_by', options={'Датасет': 1, 'Метод': 2, 'Выборка': 3}, value…"
      ]
     },
     "metadata": {},
     "output_type": "display_data"
    }
   ],
   "source": [
    "best_models = [model] \n",
    "t = Model(random_search_test.best_estimator_)\n",
    "t.name = model.name + \" random_search_test\"\n",
    "best_models.append(t)\n",
    "t = Model(random_search_train.best_estimator_)\n",
    "t.name = model.name + \" random_search_train\"\n",
    "best_models.append(t)\n",
    "\n",
    "\n",
    "\n",
    "\n",
    "# t = Model(grid_search_test.best_estimator_)\n",
    "# t.name = model.name + \" grid_search_test\"\n",
    "# best_models.append(t)\n",
    "# t = Model(grid_search_train.best_estimator_)\n",
    "# t.name = model.name + \" grid_search_train\"\n",
    "# best_models.append(t)\n",
    "\n",
    "result_best_models = []\n",
    "    #print(dataset)\n",
    "for m in best_models:\n",
    "    for test in [\"train\", \"test\", \"valid\"]:\n",
    "        temp = m.test_model(dataset, scores, test_type=test)\n",
    "        result_best_models.append([temp, dataset.name, m.name, test])\n",
    "result_best_models = sorted(result_best_models, key=lambda x: x[0]['R²'], reverse=True)\n",
    "interactive_grouper(result_best_models)\n"
   ]
  },
  {
   "cell_type": "markdown",
   "id": "89d733cf",
   "metadata": {},
   "source": [
    "Оптимизация гиперпараметров с помощью `RandomizedSearchCV` привела к значительному улучшению качества модели градиентного бустинга.  \n",
    "\n",
    "После подбора параметров на очищенном датасете наблюдается заметное снижение RMSE и рост R² на всех выборках. На тестовой выборке R² увеличился с **0.9985 до 0.9992**, а RMSE уменьшился с **0.4172 до 0.3096**. Аналогичные улучшения произошли и на обучающей (**0.9982 → 0.9997**) и валидационной (**0.9977 → 0.9990**) выборках.  \n",
    "\n",
    "Стабильность R² между train, test и valid выборками говорит о том, что модель хорошо обобщает данные и не переобучается. При этом RMSE на тесте и валидации остаётся выше, чем на обучающей выборке, что ожидаемо из-за наличия ранее невидимых данных.  \n",
    "\n",
    "В сравнении с первоначальной моделью без оптимизации гиперпараметров, `RandomizedSearchCV` позволил добиться более точного приближения без значительного увеличения риска переобучения. Это свидетельствует о том, что выбранные параметры действительно способствуют более эффективному обучению модели."
   ]
  },
  {
   "cell_type": "raw",
   "id": "f45d7d75-ce77-46c8-9a6b-10c0774d46eb",
   "metadata": {},
   "source": [
    "Best overall model found:\n",
    "Best RMSE = 1.6706919143179762e-05, Best R² = 0.9999988145509618\n",
    "Best dataset: ['df_base_normilized']\n",
    "Best degree: -4\n",
    "\n",
    "Группа [test]:\n",
    "Датасет [очищенный] Метод [градиентный бустинг random_search_test] → Результат: R² = 0.9989335199 RMSE = 0.3550314532 \n",
    "\n",
    "Линейная регрессия со степенью полинома 4 оказлась лучшим выбором.\n"
   ]
  },
  {
   "cell_type": "code",
   "execution_count": null,
   "id": "64902919-3e1f-4e12-8bc6-20f2692ef99e",
   "metadata": {},
   "outputs": [],
   "source": []
  },
  {
   "cell_type": "code",
   "execution_count": null,
   "id": "cc1f5335-9ec8-4d14-ba53-294d6f748ee4",
   "metadata": {},
   "outputs": [],
   "source": []
  },
  {
   "cell_type": "code",
   "execution_count": null,
   "id": "3677800f-b346-493f-8fb1-71c1935ecacd",
   "metadata": {},
   "outputs": [],
   "source": []
  },
  {
   "cell_type": "code",
   "execution_count": null,
   "id": "99ba1f20-0211-4a2c-b7e3-eeab13449cef",
   "metadata": {},
   "outputs": [],
   "source": []
  },
  {
   "cell_type": "code",
   "execution_count": null,
   "id": "a9b26891-9058-4d1d-88c4-1724466b4cf3",
   "metadata": {},
   "outputs": [],
   "source": []
  },
  {
   "cell_type": "code",
   "execution_count": null,
   "id": "73a8b539-d997-4cfa-9ba0-4d8bdfae59b5",
   "metadata": {},
   "outputs": [],
   "source": []
  }
 ],
 "metadata": {
  "kernelspec": {
   "display_name": "Python 3 (ipykernel)",
   "language": "python",
   "name": "python3"
  },
  "language_info": {
   "codemirror_mode": {
    "name": "ipython",
    "version": 3
   },
   "file_extension": ".py",
   "mimetype": "text/x-python",
   "name": "python",
   "nbconvert_exporter": "python",
   "pygments_lexer": "ipython3",
   "version": "3.12.9"
  }
 },
 "nbformat": 4,
 "nbformat_minor": 5
}

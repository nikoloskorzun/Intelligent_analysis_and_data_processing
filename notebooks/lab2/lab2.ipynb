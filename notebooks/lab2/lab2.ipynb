{
 "cells": [
  {
   "cell_type": "markdown",
   "id": "2c50635f-097c-4bad-8c09-d3386c4044ab",
   "metadata": {},
   "source": [
    "<h1 style=\"text-align: center; font-size: 60px;\"> Интеллектуальный анализ и обработка данных</h1>\n",
    "<hr>\n",
    "<h2 style=\"text-align: center;font-size: 40px;\"> ЛАБОРАТОРНАЯ РАБОТА №2 <br>\n",
    " Предиктивный анализ данных на основе регрессионных моделей SVM, CART и ансамблевых моделей</h2>\n",
    " <hr>"
   ]
  },
  {
   "cell_type": "markdown",
   "id": "2ca1efed-55c1-4de4-8fc7-35cd60cc3d0f",
   "metadata": {},
   "source": [
    "<h3 style=\"text-align: center; font-size: 30px;\">Исполнители</h3>\n",
    "<p><b>Корзун Николай Вадимович</b> <a href=\"https://github.com/nikoloskorzun\">GitHub</a></p>\n"
   ]
  },
  {
   "cell_type": "markdown",
   "id": "a28d82fe-5f58-426a-9a77-ef7aefd1e0da",
   "metadata": {},
   "source": [
    "<hr>\n",
    "<h3 style=\"text-align: center; font-size: 30px;\">Постановка задачи</h3>"
   ]
  },
  {
   "cell_type": "markdown",
   "id": "66b58d1f-97c8-497e-a931-dd6d977e7ec1",
   "metadata": {},
   "source": [
    "<p>Дан многомерный размеченный набор данных, для которого был выполнен разведочный и предиктивный анализ в ЛР1. Необходимо выполнить предиктивный анализ данных на основе регрессионных моделей по вариантам. Анализ выполняется для четырех наборов данных из ЛР1: для исходного набора данных, преобразованного набора исходного данных, построенного набора данных и\n",
    "преобразованного построенного набора данных.</p> \n",
    "<p>Предиктивный анализ выполняется с помощью неансамблевой и ансамблевой модели по варианту. Результаты сравниваются и выбирается лучший вариант по  модели и анализируемому набору данных.</p>\n",
    "<p>Для выбранной комбинации набора данных и предиктивной модели\n",
    "выполняется поиск гиперпараметра на обучающем и тестовом наборах.</p>\n",
    "<p>Полученный результат на тестовом наборе сравнивается с результатом наилучшей предиктивной модели/набора, найденными в ЛР1.</p>\n",
    "<p>Сделать выводы по проведенному анализу.</p>\n",
    "\n",
    "<p><b>Вариант №12</b></p>\n",
    "<p>Набор данных различных форм зданий, различающихся по площади остекления, распределению площади остекления, ориентации и другим параметрам. <br>В зависимости от параметров здания других признаков аргументов. Построить регрессионную модель оценки целевого признака требований к тепловой нагрузке зданий:</p>\n",
    "\n",
    "<ol>\n",
    "    <li>X1 вещественный, относительная компактность</li>\n",
    "    <li>X2 вещественный, площадь поверхности</li>\n",
    "    <li>X3 вещественный, площадь сплошной стены</li>\n",
    "    <li>X4 вещественный, зона крыши</li>\n",
    "    <li>X5 вещественный, общая высота</li>\n",
    "    <li>X6 целочисленный, ориентация</li>\n",
    "    <li>X7 вещественный, площадь сплошного остекления</li>\n",
    "    <li>X8 целочисленный, распределение площади остекления</li>    \n",
    "    <li>Y1 целевой признак, вещественный, отопительная нагрузка\n",
    "    <ol>\n",
    "            <li>Модель CART</li>\n",
    "            <li>Градиентный бустинг</li>\n",
    "    </ol>\n",
    "    </li>\n",
    "</ol>\n",
    "\n"
   ]
  },
  {
   "cell_type": "code",
   "execution_count": 1,
   "id": "fca6ff6e-27ff-417b-8327-9099999fef99",
   "metadata": {},
   "outputs": [],
   "source": [
    "names = ['относительная компактность', 'площадь поверхности', 'площадь сплошной стены',\n",
    "         'зона крыши', 'общая высота', 'ориентация', 'площадь сплошного остекления',\n",
    "         'распределение площади остекления', 'отопительная нагрузка']\n",
    "target_feature = names[-1]\n",
    "datasets = []\n",
    "models = []"
   ]
  },
  {
   "cell_type": "markdown",
   "id": "2dee89ea-16bf-4a76-869b-481679a5adc3",
   "metadata": {},
   "source": [
    "<h3 style=\"text-align: center; font-size: 30px;\">Выполнение задачи</h3>\n",
    "<h4 style=\"text-align: center; font-size: 24px;\">Этап 2<br>Загрузка датасета</h4>"
   ]
  },
  {
   "cell_type": "code",
   "execution_count": 2,
   "id": "6f0c2f4d-b5d3-474d-8b4c-3f7d324a5b73",
   "metadata": {},
   "outputs": [],
   "source": [
    "import numpy as np\n",
    "\n",
    "import pandas as pd\n",
    "\n",
    "from sklearn import metrics\n",
    "\n",
    "from dataset import Dataset\n",
    "from model import Model\n",
    "from utils import print_results, interactive_grouper\n"
   ]
  },
  {
   "cell_type": "code",
   "execution_count": 3,
   "id": "e2b7d4fd-eeea-4ced-a7ee-2a2a1e53b53a",
   "metadata": {},
   "outputs": [],
   "source": [
    "df = pd.read_excel(\"../../V12.xlsx\", names = names)"
   ]
  },
  {
   "cell_type": "code",
   "execution_count": 4,
   "id": "64c03605-6622-4fdb-8f7e-120dba1bc93b",
   "metadata": {
    "editable": true,
    "slideshow": {
     "slide_type": ""
    },
    "tags": []
   },
   "outputs": [],
   "source": [
    "datasets = []\n",
    "datasets.append(Dataset(df, [target_feature]))\n",
    "datasets.append(Dataset(df, [target_feature]))\n",
    "datasets.append(Dataset(df, [target_feature]))\n",
    "datasets.append(Dataset(df, [target_feature]))\n",
    "datasets[0].name = \"без изменений\"\n",
    "datasets[1].name = \"без изменений, нормализован\"\n",
    "datasets[2].name = \"очищенный\"\n",
    "datasets[3].name = \"очищенный, нормализован\"\n"
   ]
  },
  {
   "cell_type": "code",
   "execution_count": 5,
   "id": "55e40e6f-edb5-4a08-85d0-199ba748cfed",
   "metadata": {},
   "outputs": [],
   "source": [
    "from sklearn.preprocessing import Normalizer\n",
    "\n",
    "def slice_1_lab(df: pd.DataFrame):\n",
    "    dfc= df.copy()\n",
    "    if \"площадь сплошной стены\" in df.columns and \"площадь поверхности\" in  df.columns:\n",
    "        dfc[\"отношение стенной площади ко всей площади дома\"] = df[\"площадь сплошной стены\"] / df[\"площадь поверхности\"]\n",
    "    if \"площадь сплошного остекления\" in df.columns and \"площадь поверхности\" in  df.columns:\n",
    "        dfc[\"отношение остекленния ко всей площади дома\"] = df[\"площадь сплошного остекления\"] / df[\"площадь поверхности\"]\n",
    "    if \"зона крыши\" in df.columns and \"площадь поверхности\" in  df.columns:\n",
    "        dfc[\"отношение площади крыши ко всей площади дома\"] = df[\"зона крыши\"] / df[\"площадь поверхности\"]\n",
    "\n",
    "    lab1_names = ['относительная компактность', 'площадь поверхности',\n",
    "                  'отопительная нагрузка', 'площадь сплошного остекления',\n",
    "                  'отношение стенной площади ко всей площади дома', 'зона крыши',\n",
    "                  'отношение остекленния ко всей площади дома', 'общая высота',\n",
    "                  'отношение площади крыши ко всей площади дома']\n",
    "    \n",
    "    return dfc[lab1_names]\n",
    "def scale(df: pd.DataFrame):\n",
    "    df_c = pd.DataFrame(Normalizer().fit_transform(df))\n",
    "    df_c.columns = df.columns\n",
    "    return df_c\n",
    "\n"
   ]
  },
  {
   "cell_type": "code",
   "execution_count": 6,
   "id": "d70ed098-50bd-47ea-8e37-31b1b1de3a3d",
   "metadata": {
    "editable": true,
    "slideshow": {
     "slide_type": ""
    },
    "tags": []
   },
   "outputs": [],
   "source": [
    "datasets[2].performe_operation(slice_1_lab)\n",
    "datasets[3].performe_operation(slice_1_lab)\n",
    "datasets[1].performe_operation(scale)\n",
    "datasets[3].performe_operation(scale)"
   ]
  },
  {
   "cell_type": "code",
   "execution_count": 7,
   "id": "57ef21ea-f6b1-4c45-8997-7799f6ed196a",
   "metadata": {},
   "outputs": [
    {
     "name": "stdout",
     "output_type": "stream",
     "text": [
      "Датасет без изменений c 8 + 1 признаками\n",
      "Датасет без изменений, нормализован c 8 + 1 признаками\n",
      "Датасет очищенный c 8 + 1 признаками\n",
      "Датасет очищенный, нормализован c 8 + 1 признаками\n"
     ]
    }
   ],
   "source": [
    "for ds in datasets:\n",
    "    print(ds)"
   ]
  },
  {
   "cell_type": "code",
   "execution_count": 8,
   "id": "344da316-4fb1-49f4-9bf7-731ebc2074f2",
   "metadata": {},
   "outputs": [],
   "source": [
    "def r2_score(y_predict, y_real):\n",
    "        return metrics.r2_score(y_predict, y_real)\n",
    "def rmse(y_predict, y_real):\n",
    "        return np.sqrt(metrics.mean_squared_error(y_predict, y_real))\n",
    "scores = {\"R²\":r2_score, \"RMSE\":rmse}"
   ]
  },
  {
   "cell_type": "markdown",
   "id": "765ece12-61a4-4f73-95be-0942e6b4cdea",
   "metadata": {},
   "source": [
    "Дерево решений (CART)"
   ]
  },
  {
   "cell_type": "code",
   "execution_count": 9,
   "id": "6a6efcd2-4e55-4b5c-a2b6-ec977920c475",
   "metadata": {},
   "outputs": [],
   "source": [
    "from sklearn import tree\n",
    "models = []\n",
    "models.append(Model(tree.DecisionTreeRegressor()))\n",
    "models[0].name = \"дерево решений\" \n",
    "\n"
   ]
  },
  {
   "cell_type": "code",
   "execution_count": 10,
   "id": "4e4fcb99-35d6-485c-ab02-b0f57d1146db",
   "metadata": {},
   "outputs": [],
   "source": [
    "from sklearn.ensemble import GradientBoostingRegressor\n",
    "models.append(Model(GradientBoostingRegressor(random_state=1337)))\n",
    "models[1].name = \"градиентный бустинг\" "
   ]
  },
  {
   "cell_type": "code",
   "execution_count": 11,
   "id": "2920637f-e34a-497a-b66a-7c363a65acaf",
   "metadata": {},
   "outputs": [
    {
     "name": "stderr",
     "output_type": "stream",
     "text": [
      "S:\\anaconda\\envs\\study\\Lib\\site-packages\\sklearn\\ensemble\\_gb.py:672: DataConversionWarning: A column-vector y was passed when a 1d array was expected. Please change the shape of y to (n_samples, ), for example using ravel().\n",
      "  y = column_or_1d(y, warn=True)  # TODO: Is this still required?\n",
      "S:\\anaconda\\envs\\study\\Lib\\site-packages\\sklearn\\ensemble\\_gb.py:672: DataConversionWarning: A column-vector y was passed when a 1d array was expected. Please change the shape of y to (n_samples, ), for example using ravel().\n",
      "  y = column_or_1d(y, warn=True)  # TODO: Is this still required?\n",
      "S:\\anaconda\\envs\\study\\Lib\\site-packages\\sklearn\\ensemble\\_gb.py:672: DataConversionWarning: A column-vector y was passed when a 1d array was expected. Please change the shape of y to (n_samples, ), for example using ravel().\n",
      "  y = column_or_1d(y, warn=True)  # TODO: Is this still required?\n",
      "S:\\anaconda\\envs\\study\\Lib\\site-packages\\sklearn\\ensemble\\_gb.py:672: DataConversionWarning: A column-vector y was passed when a 1d array was expected. Please change the shape of y to (n_samples, ), for example using ravel().\n",
      "  y = column_or_1d(y, warn=True)  # TODO: Is this still required?\n"
     ]
    }
   ],
   "source": [
    "results = []\n",
    "for dataset in datasets:\n",
    "    #print(dataset)\n",
    "\n",
    "    for model in models:\n",
    "        model.fit(dataset.X_train, dataset.Y_train)\n",
    "        #print(model)\n",
    "        for test in [\"train\", \"test\"]: # \"valid\"\n",
    "            temp = model.test_model(dataset, scores, test_type=test)\n",
    "            results.append([temp, dataset.name, model.name, test])\n",
    "results = sorted(results, key=lambda x: x[0]['R²'], reverse=True)\n"
   ]
  },
  {
   "cell_type": "code",
   "execution_count": null,
   "id": "cd3f6151-ef7e-42eb-9513-5871375e0936",
   "metadata": {},
   "outputs": [],
   "source": []
  },
  {
   "cell_type": "code",
   "execution_count": 12,
   "id": "fc6388eb-8cd7-49e2-a19a-e0d91490ec34",
   "metadata": {},
   "outputs": [
    {
     "data": {
      "application/vnd.jupyter.widget-view+json": {
       "model_id": "d26b3ab3d0254f12afd288d74024ed90",
       "version_major": 2,
       "version_minor": 0
      },
      "text/plain": [
       "interactive(children=(Dropdown(description='group_by', options={'Датасет': 1, 'Метод': 2, 'Выборка': 3}, value…"
      ]
     },
     "metadata": {},
     "output_type": "display_data"
    }
   ],
   "source": [
    "interactive_grouper(results)\n"
   ]
  },
  {
   "cell_type": "code",
   "execution_count": 13,
   "id": "371810c0-dfba-4ba1-ad9b-4fcb33f89675",
   "metadata": {},
   "outputs": [
    {
     "name": "stdout",
     "output_type": "stream",
     "text": [
      "Модель градиентный бустинг  |  Датасет очищенный c 8 + 1 признаками\n"
     ]
    },
    {
     "name": "stderr",
     "output_type": "stream",
     "text": [
      "S:\\anaconda\\envs\\study\\Lib\\site-packages\\sklearn\\ensemble\\_gb.py:672: DataConversionWarning: A column-vector y was passed when a 1d array was expected. Please change the shape of y to (n_samples, ), for example using ravel().\n",
      "  y = column_or_1d(y, warn=True)  # TODO: Is this still required?\n"
     ]
    }
   ],
   "source": [
    "#Группа [очищенный]:\n",
    "#Группа [градиентный бустинг]:\n",
    "model = models[1]\n",
    "dataset = datasets[2]\n",
    "model.fit(dataset.X_train, dataset.Y_train)\n",
    "print(model, \" | \", dataset)\n"
   ]
  },
  {
   "cell_type": "code",
   "execution_count": 15,
   "id": "2ff6f659-8c84-49ac-b928-4a9c8e14d745",
   "metadata": {},
   "outputs": [
    {
     "name": "stdout",
     "output_type": "stream",
     "text": [
      "Fitting 5 folds for each of 324 candidates, totalling 1620 fits\n"
     ]
    },
    {
     "name": "stderr",
     "output_type": "stream",
     "text": [
      "S:\\anaconda\\envs\\study\\Lib\\site-packages\\sklearn\\ensemble\\_gb.py:672: DataConversionWarning: A column-vector y was passed when a 1d array was expected. Please change the shape of y to (n_samples, ), for example using ravel().\n",
      "  y = column_or_1d(y, warn=True)  # TODO: Is this still required?\n"
     ]
    },
    {
     "name": "stdout",
     "output_type": "stream",
     "text": [
      "Fitting 5 folds for each of 324 candidates, totalling 1620 fits\n",
      "grid_search_test Лучшие параметры: {'learning_rate': 0.1, 'loss': 'squared_error', 'max_depth': 4, 'min_samples_split': 2, 'n_estimators': 200, 'subsample': 1.0}\n",
      "grid_search_train Лучшие параметры: {'learning_rate': 0.1, 'loss': 'squared_error', 'max_depth': 4, 'min_samples_split': 2, 'n_estimators': 200, 'subsample': 1.0}\n"
     ]
    },
    {
     "name": "stderr",
     "output_type": "stream",
     "text": [
      "S:\\anaconda\\envs\\study\\Lib\\site-packages\\sklearn\\ensemble\\_gb.py:672: DataConversionWarning: A column-vector y was passed when a 1d array was expected. Please change the shape of y to (n_samples, ), for example using ravel().\n",
      "  y = column_or_1d(y, warn=True)  # TODO: Is this still required?\n"
     ]
    }
   ],
   "source": [
    "if True:\n",
    "    from sklearn.model_selection import GridSearchCV\n",
    "    \n",
    "    # Определение модели\n",
    "    # Сетка гиперпараметров для перебора\n",
    "    param_grid = {\n",
    "        'n_estimators': [50, 100, 200],\n",
    "        'learning_rate': [0.01, 0.05, 0.1],\n",
    "        'max_depth': [3, 4, 5],\n",
    "        'subsample': [0.8, 0.9, 1.0],\n",
    "        'min_samples_split': [2, 5],\n",
    "        'loss': ['squared_error', 'huber']\n",
    "    }\n",
    "    \n",
    "    # Создание поисковика\n",
    "    grid_search = GridSearchCV(\n",
    "        estimator=model.model,\n",
    "        param_grid=param_grid,\n",
    "        scoring='neg_mean_squared_error',\n",
    "        cv=5,\n",
    "        n_jobs=-1,\n",
    "        verbose=2\n",
    "    )\n",
    "    \n",
    "    grid_search_test = grid_search\n",
    "    grid_search_train = grid_search\n",
    "    grid_search_test.fit(dataset.X_test, dataset.Y_test)\n",
    "    grid_search_train.fit(dataset.X_train, dataset.Y_train)\n",
    "\n",
    "    print(\"grid_search_test Лучшие параметры:\", grid_search_test.best_params_)        \n",
    "    print(\"grid_search_train Лучшие параметры:\", grid_search_train.best_params_)"
   ]
  },
  {
   "cell_type": "code",
   "execution_count": 17,
   "id": "f5a34dea-8e5b-4bb2-a4af-af8497545131",
   "metadata": {},
   "outputs": [
    {
     "name": "stdout",
     "output_type": "stream",
     "text": [
      "Fitting 5 folds for each of 50 candidates, totalling 250 fits\n"
     ]
    },
    {
     "name": "stderr",
     "output_type": "stream",
     "text": [
      "S:\\anaconda\\envs\\study\\Lib\\site-packages\\sklearn\\ensemble\\_gb.py:672: DataConversionWarning: A column-vector y was passed when a 1d array was expected. Please change the shape of y to (n_samples, ), for example using ravel().\n",
      "  y = column_or_1d(y, warn=True)  # TODO: Is this still required?\n"
     ]
    },
    {
     "name": "stdout",
     "output_type": "stream",
     "text": [
      "Fitting 5 folds for each of 50 candidates, totalling 250 fits\n"
     ]
    },
    {
     "name": "stderr",
     "output_type": "stream",
     "text": [
      "S:\\anaconda\\envs\\study\\Lib\\site-packages\\sklearn\\ensemble\\_gb.py:672: DataConversionWarning: A column-vector y was passed when a 1d array was expected. Please change the shape of y to (n_samples, ), for example using ravel().\n",
      "  y = column_or_1d(y, warn=True)  # TODO: Is this still required?\n"
     ]
    },
    {
     "name": "stdout",
     "output_type": "stream",
     "text": [
      "random_search_test Лучшие параметры: {'learning_rate': np.float64(0.19969174917807384), 'loss': 'huber', 'max_depth': 4, 'min_samples_split': 4, 'n_estimators': 289, 'subsample': np.float64(0.9193380499938204)}\n",
      "random_search_train Лучшие параметры: {'learning_rate': np.float64(0.19969174917807384), 'loss': 'huber', 'max_depth': 4, 'min_samples_split': 4, 'n_estimators': 289, 'subsample': np.float64(0.9193380499938204)}\n"
     ]
    }
   ],
   "source": [
    "from sklearn.model_selection import RandomizedSearchCV\n",
    "from scipy.stats import randint, uniform\n",
    "\n",
    "# Дистрибуции параметров\n",
    "param_dist = {\n",
    "    'n_estimators': randint(50, 300),\n",
    "    'learning_rate': uniform(0.01, 0.3),\n",
    "    'max_depth': randint(3, 6),\n",
    "    'subsample': uniform(0.6, 0.4),  # от 0.6 до 1.0\n",
    "    'min_samples_split': randint(2, 10),\n",
    "    'loss': ['squared_error', 'huber']\n",
    "}\n",
    "\n",
    "random_search = RandomizedSearchCV(\n",
    "    estimator=model.model,\n",
    "    param_distributions=param_dist,\n",
    "    n_iter=50,  # количество случайных комбинаций\n",
    "    scoring='neg_mean_squared_error',\n",
    "    cv=5,\n",
    "    n_jobs=-1,\n",
    "    verbose=2,\n",
    "    random_state=42\n",
    ")\n",
    "random_search_test = random_search\n",
    "random_search_train = random_search\n",
    "random_search_test.fit(dataset.X_test, dataset.Y_test)\n",
    "random_search_train.fit(dataset.X_train, dataset.Y_train)\n",
    "\n",
    "print(\"random_search_test Лучшие параметры:\", random_search_test.best_params_)        \n",
    "print(\"random_search_train Лучшие параметры:\", random_search_train.best_params_)"
   ]
  },
  {
   "cell_type": "code",
   "execution_count": 19,
   "id": "0d1e64a0-8334-477b-90c3-12fd703e5371",
   "metadata": {},
   "outputs": [
    {
     "data": {
      "application/vnd.jupyter.widget-view+json": {
       "model_id": "a231fd4835b942b9ab5fe868a36c2985",
       "version_major": 2,
       "version_minor": 0
      },
      "text/plain": [
       "interactive(children=(Dropdown(description='group_by', options={'Датасет': 1, 'Метод': 2, 'Выборка': 3}, value…"
      ]
     },
     "metadata": {},
     "output_type": "display_data"
    }
   ],
   "source": [
    "best_models = [model] \n",
    "t = Model(random_search_test.best_estimator_)\n",
    "t.name = model.name + \" random_search_test\"\n",
    "best_models.append(t)\n",
    "t = Model(random_search_train.best_estimator_)\n",
    "t.name = model.name + \" random_search_train\"\n",
    "best_models.append(t)\n",
    "\n",
    "t = Model(grid_search_test.best_estimator_)\n",
    "t.name = model.name + \" grid_search_test\"\n",
    "best_models.append(t)\n",
    "t = Model(grid_search_train.best_estimator_)\n",
    "t.name = model.name + \" grid_search_train\"\n",
    "best_models.append(t)\n",
    "\n",
    "\n",
    "result_best_models = []\n",
    "for m in best_models:\n",
    "    for test in [\"train\", \"test\", \"valid\"]:\n",
    "\n",
    "        temp = m.test_model(dataset, scores, test_type=test)\n",
    "        result_best_models.append([temp, dataset.name, m.name, test])\n",
    "result_best_models = sorted(result_best_models, key=lambda x: x[0]['R²'], reverse=True)\n",
    "interactive_grouper(result_best_models)\n"
   ]
  },
  {
   "cell_type": "code",
   "execution_count": null,
   "id": "9ccdb611-ed82-4079-b5e2-bb74926731e2",
   "metadata": {},
   "outputs": [],
   "source": []
  }
 ],
 "metadata": {
  "kernelspec": {
   "display_name": "Python 3 (ipykernel)",
   "language": "python",
   "name": "python3"
  },
  "language_info": {
   "codemirror_mode": {
    "name": "ipython",
    "version": 3
   },
   "file_extension": ".py",
   "mimetype": "text/x-python",
   "name": "python",
   "nbconvert_exporter": "python",
   "pygments_lexer": "ipython3",
   "version": "3.12.9"
  }
 },
 "nbformat": 4,
 "nbformat_minor": 5
}

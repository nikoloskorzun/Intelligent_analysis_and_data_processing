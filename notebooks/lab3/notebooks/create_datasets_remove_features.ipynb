{
 "cells": [
  {
   "cell_type": "code",
   "execution_count": 1,
   "id": "97c4609a-bcb8-41df-91dc-0e61ae540748",
   "metadata": {},
   "outputs": [],
   "source": [
    "%load_ext autoreload\n",
    "%autoreload 2\n",
    "import sys\n",
    "import os\n",
    "current_dir = os.getcwd()\n",
    "libs_path = os.path.abspath(os.path.join(current_dir, \"..\", \"libs\"))\n",
    "if libs_path not in sys.path:\n",
    "    sys.path.append(libs_path)"
   ]
  },
  {
   "cell_type": "code",
   "execution_count": 2,
   "id": "e7bb4681-62ff-482a-af3e-97048d8b25c3",
   "metadata": {},
   "outputs": [],
   "source": [
    "import pandas as pd\n",
    "from IPython.display import display\n",
    "from ipywidgets import interact\n",
    "import numpy as np\n",
    "pd.set_option('display.precision', 3)\n",
    "import data_processing as dp"
   ]
  },
  {
   "cell_type": "code",
   "execution_count": 3,
   "id": "2cfeb764-a97c-4d6b-8e84-e43461cf904e",
   "metadata": {},
   "outputs": [
    {
     "data": {
      "application/vnd.jupyter.widget-view+json": {
       "model_id": "24de7577c0904f54985fd56e93ba6e2c",
       "version_major": 2,
       "version_minor": 0
      },
      "text/plain": [
       "SelectMultiple(description='Датасеты:', layout=Layout(width='500px'), options={'.ipynb_checkpoints': 'E:\\\\stud…"
      ]
     },
     "metadata": {},
     "output_type": "display_data"
    },
    {
     "data": {
      "application/vnd.jupyter.widget-view+json": {
       "model_id": "646e3d90413c421e87dc9da9da74bbe6",
       "version_major": 2,
       "version_minor": 0
      },
      "text/plain": [
       "Button(description='ОК', style=ButtonStyle())"
      ]
     },
     "metadata": {},
     "output_type": "display_data"
    },
    {
     "data": {
      "application/vnd.jupyter.widget-view+json": {
       "model_id": "de4170a2c36f42a58b14dc0c79ade9d1",
       "version_major": 2,
       "version_minor": 0
      },
      "text/plain": [
       "Output()"
      ]
     },
     "metadata": {},
     "output_type": "display_data"
    }
   ],
   "source": [
    "res=dp.load_datasets()"
   ]
  },
  {
   "cell_type": "code",
   "execution_count": 4,
   "id": "3c6f9f6c-ec1f-49d0-a470-c1d25e34e6b0",
   "metadata": {},
   "outputs": [],
   "source": [
    "datasets = []\n",
    "\n",
    "for fn in res.options:\n",
    "\n",
    "    if res.options[fn] not in res.value:\n",
    "        continue\n",
    "    dataset = dp.Dataset(pd.read_csv(res.options[fn]), name=fn)\n",
    "\n",
    "    dataset.target_features = [\"Cover_Type\"]\n",
    "    datasets.append(dataset)"
   ]
  },
  {
   "cell_type": "code",
   "execution_count": 5,
   "id": "56f125e4-c3e1-4884-9088-9c5e3cde1987",
   "metadata": {},
   "outputs": [
    {
     "name": "stdout",
     "output_type": "stream",
     "text": [
      "df_enhanced.csv\n"
     ]
    }
   ],
   "source": [
    "for d in datasets:\n",
    "    print(d.name)\n",
    "\n",
    "dataset = datasets[0]"
   ]
  },
  {
   "cell_type": "code",
   "execution_count": 11,
   "id": "73d99ef1-63d8-48ae-945e-9b80d8ce0a7b",
   "metadata": {},
   "outputs": [
    {
     "name": "stdout",
     "output_type": "stream",
     "text": [
      "Index(['Elevation', 'Aspect', 'Slope', 'Horizontal_Distance_To_Hydrology',\n",
      "       'Vertical_Distance_To_Hydrology', 'Horizontal_Distance_To_Roadways',\n",
      "       'Hillshade_9am', 'Hillshade_Noon', 'Hillshade_3pm',\n",
      "       'Horizontal_Distance_To_Fire_Points', 'Wilderness_Area_0',\n",
      "       'Wilderness_Area_1', 'Wilderness_Area_2', 'Wilderness_Area_3',\n",
      "       'Soil_Type_3', 'Soil_Type_5', 'Soil_Type_9', 'Soil_Type_10',\n",
      "       'Soil_Type_11', 'Soil_Type_12', 'Soil_Type_19', 'Soil_Type_21',\n",
      "       'Soil_Type_22', 'Soil_Type_23', 'Soil_Type_28', 'Soil_Type_29',\n",
      "       'Soil_Type_30', 'Soil_Type_31', 'Soil_Type_32', 'Soil_Type_37',\n",
      "       'Soil_Type_38', 'Soil_Type_39', 'Distance_to_Water', 'Avg_Hillshade',\n",
      "       'Hydro_Road_Fire_Distance', 'Elevation_x_Slope'],\n",
      "      dtype='object')\n",
      "36 (505354, 59)\n"
     ]
    }
   ],
   "source": [
    "from sklearn.feature_selection import SelectKBest, f_classif, VarianceThreshold\n",
    "\n",
    "\n",
    "# 1. VarianceThreshold\n",
    "# Определим порог. Признаки с дисперсией ниже этого порога будут удалены.\n",
    "# Начнем с очень низкого порога, чтобы отфильтровать только совсем уж бесполезные признаки.\n",
    "# Для бинарных признаков (Wilderness_Area, Soil_Type), низкая дисперсия может означать,\n",
    "# что подавляющее большинство значений равно 0 или 1, что может быть информативным.\n",
    "# Поэтому применим VarianceThreshold только к числовым признакам, а затем к бинарным.\n",
    "# Или, лучше, применим его ко всему X, но с порогом, который учитывает размах значений.\n",
    "\n",
    "# Для начала, исключим бинарные признаки из рассмотрения VarianceThreshold, если они сильно различаются.\n",
    "# Но, учитывая, что они уже One-Hot encoded, и они могут быть разряженными,\n",
    "# VarianceThreshold может быть полезен для их фильтрации, если класс представлен слишком редко.\n",
    "# Однако, лучше использовать VarianceThreshold после One-Hot Encoding, если бы он не был сделан.\n",
    "# В данном случае, бинарные признаки уже в X_original.\n",
    "X_original = dataset.drop(dataset.target_features, axis=1)\n",
    "\n",
    "# Порог, например, 0.01.\n",
    "selector = VarianceThreshold(threshold=0.01) # Можно настроить порог\n",
    "selector.fit(X_original)\n",
    "# Получаем названия признаков, которые прошли отбор\n",
    "features_after_variance_threshold = X_original.columns[selector.get_support()]\n",
    "print(features_after_variance_threshold)\n",
    "print(len(features_after_variance_threshold), dataset.shape)"
   ]
  },
  {
   "cell_type": "code",
   "execution_count": null,
   "id": "dc66b73d-ae7d-4ca4-ae09-dff46476aa2e",
   "metadata": {},
   "outputs": [],
   "source": []
  },
  {
   "cell_type": "code",
   "execution_count": 17,
   "id": "3ba9cd19-6689-415f-8eb8-77adb9665889",
   "metadata": {},
   "outputs": [
    {
     "name": "stdout",
     "output_type": "stream",
     "text": [
      "\n",
      "Количество признаков после VarianceThreshold (порог 0.01): 36\n",
      "Удаленные признаки VarianceThreshold: ['Soil_Type_7', 'Soil_Type_34', 'Soil_Type_0', 'Soil_Type_25', 'Soil_Type_6', 'Soil_Type_4', 'Soil_Type_16', 'Soil_Type_2', 'Soil_Type_13', 'Soil_Type_8', 'Soil_Type_36', 'Soil_Type_17', 'Soil_Type_1', 'Soil_Type_14', 'Soil_Type_15', 'Soil_Type_27', 'Soil_Type_35', 'Soil_Type_26', 'Soil_Type_20', 'Soil_Type_18', 'Soil_Type_24', 'Soil_Type_33']\n",
      "\n",
      "Количество признаков после SelectKBest (k=30): 30\n",
      "Отобранные признаки SelectKBest: ['Elevation', 'Slope', 'Horizontal_Distance_To_Hydrology', 'Vertical_Distance_To_Hydrology', 'Horizontal_Distance_To_Roadways', 'Hillshade_9am', 'Hillshade_Noon', 'Hillshade_3pm', 'Horizontal_Distance_To_Fire_Points', 'Wilderness_Area_0', 'Wilderness_Area_2', 'Wilderness_Area_3', 'Soil_Type_3', 'Soil_Type_5', 'Soil_Type_9', 'Soil_Type_10', 'Soil_Type_11', 'Soil_Type_12', 'Soil_Type_21', 'Soil_Type_22', 'Soil_Type_28', 'Soil_Type_29', 'Soil_Type_31', 'Soil_Type_37', 'Soil_Type_38', 'Soil_Type_39', 'Distance_to_Water', 'Avg_Hillshade', 'Hydro_Road_Fire_Distance', 'Elevation_x_Slope']\n",
      "Размер сформированного набора данных: (505354, 31)\n"
     ]
    },
    {
     "name": "stderr",
     "output_type": "stream",
     "text": [
      "S:\\anaconda\\envs\\study\\Lib\\site-packages\\sklearn\\utils\\validation.py:1408: DataConversionWarning: A column-vector y was passed when a 1d array was expected. Please change the shape of y to (n_samples, ), for example using ravel().\n",
      "  y = column_or_1d(y, warn=True)\n"
     ]
    }
   ],
   "source": [
    "\n",
    "print(f\"\\nКоличество признаков после VarianceThreshold (порог 0.01): {len(features_after_variance_threshold)}\")\n",
    "print(f\"Удаленные признаки VarianceThreshold: {list(set(X_original.columns) - set(features_after_variance_threshold))}\")\n",
    "\n",
    "# Создадим DataFrame с признаками после VarianceThreshold\n",
    "X_vt = X_original[features_after_variance_threshold]\n",
    "\n",
    "# 2. SelectKBest с f_classif\n",
    "# Выберем, например, 30 лучших признаков. Это число можно подбирать.\n",
    "# Поскольку у нас 54 признака, 30 - это значительное сокращение.\n",
    "k_best_selector = SelectKBest(score_func=f_classif, k=30) # Можно попробовать и другие значения K\n",
    "k_best_selector.fit(X_vt, dataset[dataset.target_features]) # Используем данные после VarianceThreshold\n",
    "features_selected_kbest = X_vt.columns[k_best_selector.get_support()]\n",
    "\n",
    "print(f\"\\nКоличество признаков после SelectKBest (k=30): {len(features_selected_kbest)}\")\n",
    "print(f\"Отобранные признаки SelectKBest: {list(features_selected_kbest)}\")\n",
    "\n",
    "# Сформируем окончательный набор данных из существенных признаков\n",
    "df_selected_features = dataset[features_selected_kbest.tolist() + dataset.target_features]\n",
    "\n",
    "\n",
    "print(f\"Размер сформированного набора данных: {df_selected_features.shape}\")"
   ]
  },
  {
   "cell_type": "code",
   "execution_count": 18,
   "id": "fbb2853b-003d-4599-b949-5531421d7090",
   "metadata": {},
   "outputs": [],
   "source": [
    "df_selected_features.to_csv(\"../datasets/df_selected_features.csv\", index=False)\n"
   ]
  }
 ],
 "metadata": {
  "kernelspec": {
   "display_name": "Python 3 (ipykernel)",
   "language": "python",
   "name": "python3"
  },
  "language_info": {
   "codemirror_mode": {
    "name": "ipython",
    "version": 3
   },
   "file_extension": ".py",
   "mimetype": "text/x-python",
   "name": "python",
   "nbconvert_exporter": "python",
   "pygments_lexer": "ipython3",
   "version": "3.12.9"
  }
 },
 "nbformat": 4,
 "nbformat_minor": 5
}

{
 "cells": [
  {
   "cell_type": "code",
   "execution_count": 29,
   "id": "97c4609a-bcb8-41df-91dc-0e61ae540748",
   "metadata": {},
   "outputs": [
    {
     "name": "stdout",
     "output_type": "stream",
     "text": [
      "The autoreload extension is already loaded. To reload it, use:\n",
      "  %reload_ext autoreload\n"
     ]
    }
   ],
   "source": [
    "%load_ext autoreload\n",
    "%autoreload 2\n",
    "import sys\n",
    "import os\n",
    "current_dir = os.getcwd()\n",
    "libs_path = os.path.abspath(os.path.join(current_dir, \"..\", \"libs\"))\n",
    "if libs_path not in sys.path:\n",
    "    sys.path.append(libs_path)"
   ]
  },
  {
   "cell_type": "code",
   "execution_count": 30,
   "id": "e7bb4681-62ff-482a-af3e-97048d8b25c3",
   "metadata": {},
   "outputs": [],
   "source": [
    "import pandas as pd\n",
    "from IPython.display import display\n",
    "from ipywidgets import interact\n",
    "import numpy as np\n",
    "pd.set_option('display.precision', 3)\n",
    "import data_processing as dp"
   ]
  },
  {
   "cell_type": "code",
   "execution_count": 31,
   "id": "2cfeb764-a97c-4d6b-8e84-e43461cf904e",
   "metadata": {},
   "outputs": [
    {
     "data": {
      "application/vnd.jupyter.widget-view+json": {
       "model_id": "772a5c3902824c8e8dc2004ae04f33a8",
       "version_major": 2,
       "version_minor": 0
      },
      "text/plain": [
       "SelectMultiple(description='Датасеты:', layout=Layout(width='500px'), options={'.ipynb_checkpoints': 'E:\\\\stud…"
      ]
     },
     "metadata": {},
     "output_type": "display_data"
    },
    {
     "data": {
      "application/vnd.jupyter.widget-view+json": {
       "model_id": "75515c3c48624d6d8112f8ede2d1048f",
       "version_major": 2,
       "version_minor": 0
      },
      "text/plain": [
       "Button(description='ОК', style=ButtonStyle())"
      ]
     },
     "metadata": {},
     "output_type": "display_data"
    },
    {
     "data": {
      "application/vnd.jupyter.widget-view+json": {
       "model_id": "99db741b12894925aede4891ac455216",
       "version_major": 2,
       "version_minor": 0
      },
      "text/plain": [
       "Output()"
      ]
     },
     "metadata": {},
     "output_type": "display_data"
    }
   ],
   "source": [
    "res=dp.load_datasets()"
   ]
  },
  {
   "cell_type": "code",
   "execution_count": 32,
   "id": "3c6f9f6c-ec1f-49d0-a470-c1d25e34e6b0",
   "metadata": {},
   "outputs": [],
   "source": [
    "datasets = []\n",
    "\n",
    "for fn in res.options:\n",
    "\n",
    "    if res.options[fn] not in res.value:\n",
    "        continue\n",
    "    dataset = dp.Dataset(pd.read_csv(res.options[fn]), name=fn)\n",
    "\n",
    "    dataset.target_features = [\"Cover_Type\"]\n",
    "    datasets.append(dataset)"
   ]
  },
  {
   "cell_type": "code",
   "execution_count": 37,
   "id": "56f125e4-c3e1-4884-9088-9c5e3cde1987",
   "metadata": {},
   "outputs": [
    {
     "name": "stdout",
     "output_type": "stream",
     "text": [
      "df_enhanced.csv\n",
      "df_enhanced.csv_selected_features.csv\n",
      "df_enhanced_one-hot.csv\n",
      "df_enhanced_one-hot.csv_selected_features.csv\n",
      "V4_classification_lr3.csv\n"
     ]
    }
   ],
   "source": [
    "for d in datasets:\n",
    "    print(d.name)\n",
    "\n",
    "from sklearn.preprocessing import MinMaxScaler, OneHotEncoder\n",
    "from sklearn.compose import ColumnTransformer\n",
    "\n",
    "\n",
    "binary_features_all = [\"Wilderness_Area\", \"Soil_Type\"]"
   ]
  },
  {
   "cell_type": "code",
   "execution_count": null,
   "id": "cc37295a-6556-4a5e-b70e-feb1920f7376",
   "metadata": {},
   "outputs": [],
   "source": []
  },
  {
   "cell_type": "code",
   "execution_count": 40,
   "id": "22633f45-0da3-49c2-804c-c19577a55925",
   "metadata": {},
   "outputs": [
    {
     "name": "stdout",
     "output_type": "stream",
     "text": [
      "df_enhanced.csv\n",
      "df_enhanced.csv_selected_features.csv\n",
      "df_enhanced_one-hot.csv\n",
      "df_enhanced_one-hot.csv_selected_features.csv\n",
      "V4_classification_lr3.csv\n"
     ]
    }
   ],
   "source": [
    "\n",
    "for d in datasets:\n",
    "    print(d.name)\n",
    "\n",
    "    if \"one-hot\" not in d.name:\n",
    "        soil_type_features = []\n",
    "        for feature in d.columns:\n",
    "            if feature[:5] == \"Soil_Type_0\"[:5]:\n",
    "                soil_type_features.append(feature)\n",
    "\n",
    "        wilderness_area_features = []\n",
    "        for feature in d.columns:\n",
    "            if feature[:5] == \"Wilderness_Area_0\"[:5]:\n",
    "                wilderness_area_features.append(feature)\n",
    "        binary_features_all = wilderness_area_features + soil_type_features\n",
    "\n",
    "    else:\n",
    "        binary_features_all = [\"Wilderness_Area\", \"Soil_Type\"]\n",
    "        \n",
    "    # Создаем препроцессор для масштабирования числовых признаков\n",
    "    preprocessor_original = ColumnTransformer(\n",
    "        transformers=[\n",
    "            ('num', MinMaxScaler(), list((set(d.columns) - set(binary_features_all) - set(d.target_features))) )],\n",
    "        remainder='passthrough' # Оставляем остальные признаки как есть (бинарные)\n",
    "    )\n",
    "\n",
    "    XXX = preprocessor_original.fit_transform(d.drop(d.target_features, axis=1))\n",
    "    df_scaled = pd.DataFrame(XXX, columns=(list((set(d.columns) - set(binary_features_all) - set(d.target_features))) + binary_features_all))\n",
    "\n",
    "    df_scaled[d.target_features] = d[d.target_features].values # Добавляем целевой признак\n",
    "\n",
    "    df_scaled.to_csv(f\"../datasets/{d.name}_scaled.csv\", index=False)\n"
   ]
  },
  {
   "cell_type": "code",
   "execution_count": null,
   "id": "73d99ef1-63d8-48ae-945e-9b80d8ce0a7b",
   "metadata": {},
   "outputs": [],
   "source": []
  },
  {
   "cell_type": "code",
   "execution_count": null,
   "id": "dc66b73d-ae7d-4ca4-ae09-dff46476aa2e",
   "metadata": {},
   "outputs": [],
   "source": []
  },
  {
   "cell_type": "code",
   "execution_count": null,
   "id": "3ba9cd19-6689-415f-8eb8-77adb9665889",
   "metadata": {},
   "outputs": [],
   "source": []
  },
  {
   "cell_type": "code",
   "execution_count": null,
   "id": "fbb2853b-003d-4599-b949-5531421d7090",
   "metadata": {},
   "outputs": [],
   "source": []
  },
  {
   "cell_type": "code",
   "execution_count": null,
   "id": "b152e607-ccef-4391-9445-8977d7b6a1b6",
   "metadata": {},
   "outputs": [],
   "source": []
  }
 ],
 "metadata": {
  "kernelspec": {
   "display_name": "Python 3 (ipykernel)",
   "language": "python",
   "name": "python3"
  },
  "language_info": {
   "codemirror_mode": {
    "name": "ipython",
    "version": 3
   },
   "file_extension": ".py",
   "mimetype": "text/x-python",
   "name": "python",
   "nbconvert_exporter": "python",
   "pygments_lexer": "ipython3",
   "version": "3.12.9"
  }
 },
 "nbformat": 4,
 "nbformat_minor": 5
}

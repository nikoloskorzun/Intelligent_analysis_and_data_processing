{
 "cells": [
  {
   "cell_type": "code",
   "execution_count": 1,
   "id": "97c4609a-bcb8-41df-91dc-0e61ae540748",
   "metadata": {},
   "outputs": [],
   "source": [
    "%load_ext autoreload\n",
    "%autoreload 2\n",
    "import sys\n",
    "import os\n",
    "current_dir = os.getcwd()\n",
    "libs_path = os.path.abspath(os.path.join(current_dir, \"..\", \"libs\"))\n",
    "if libs_path not in sys.path:\n",
    "    sys.path.append(libs_path)"
   ]
  },
  {
   "cell_type": "code",
   "execution_count": 2,
   "id": "e7bb4681-62ff-482a-af3e-97048d8b25c3",
   "metadata": {},
   "outputs": [],
   "source": [
    "import pandas as pd\n",
    "from IPython.display import display\n",
    "from ipywidgets import interact\n",
    "import numpy as np\n",
    "pd.set_option('display.precision', 3)\n",
    "import data_processing as dp"
   ]
  },
  {
   "cell_type": "code",
   "execution_count": 3,
   "id": "2cfeb764-a97c-4d6b-8e84-e43461cf904e",
   "metadata": {},
   "outputs": [
    {
     "data": {
      "application/vnd.jupyter.widget-view+json": {
       "model_id": "c37e288b44bd49b8a5d1ad9c14493de7",
       "version_major": 2,
       "version_minor": 0
      },
      "text/plain": [
       "SelectMultiple(description='Датасеты:', layout=Layout(width='500px'), options={'.ipynb_checkpoints': 'E:\\\\stud…"
      ]
     },
     "metadata": {},
     "output_type": "display_data"
    },
    {
     "data": {
      "application/vnd.jupyter.widget-view+json": {
       "model_id": "c4139eb0ea8648548b81e8050462fb3f",
       "version_major": 2,
       "version_minor": 0
      },
      "text/plain": [
       "Button(description='ОК', style=ButtonStyle())"
      ]
     },
     "metadata": {},
     "output_type": "display_data"
    },
    {
     "data": {
      "application/vnd.jupyter.widget-view+json": {
       "model_id": "53bf7f1d1e0643bf9836b8c343792f90",
       "version_major": 2,
       "version_minor": 0
      },
      "text/plain": [
       "Output()"
      ]
     },
     "metadata": {},
     "output_type": "display_data"
    }
   ],
   "source": [
    "res=dp.load_datasets()"
   ]
  },
  {
   "cell_type": "code",
   "execution_count": 4,
   "id": "3c6f9f6c-ec1f-49d0-a470-c1d25e34e6b0",
   "metadata": {},
   "outputs": [],
   "source": [
    "datasets = []\n",
    "\n",
    "for fn in res.options:\n",
    "\n",
    "    if res.options[fn] not in res.value:\n",
    "        continue\n",
    "    dataset = dp.Dataset(pd.read_csv(res.options[fn]), name=fn)\n",
    "\n",
    "    dataset.target_features = [\"Cover_Type\"]\n",
    "    datasets.append(dataset)"
   ]
  },
  {
   "cell_type": "code",
   "execution_count": 5,
   "id": "56f125e4-c3e1-4884-9088-9c5e3cde1987",
   "metadata": {},
   "outputs": [
    {
     "name": "stdout",
     "output_type": "stream",
     "text": [
      "df_enhanced.csv\n",
      "df_enhanced.csv_scaled.csv\n",
      "df_enhanced.csv_selected_features.csv\n",
      "df_enhanced.csv_selected_features.csv_scaled.csv\n",
      "df_enhanced_one-hot.csv\n",
      "df_enhanced_one-hot.csv_scaled.csv\n",
      "df_enhanced_one-hot.csv_selected_features.csv\n",
      "df_enhanced_one-hot.csv_selected_features.csv_scaled.csv\n",
      "V4_classification_lr3.csv\n",
      "V4_classification_lr3.csv_scaled.csv\n"
     ]
    }
   ],
   "source": [
    "for d in datasets:\n",
    "    print(d.name)\n",
    "\n"
   ]
  },
  {
   "cell_type": "code",
   "execution_count": 6,
   "id": "f48baf61-c156-4751-8f9c-cb9defe73db3",
   "metadata": {},
   "outputs": [],
   "source": [
    "from tensorflow.keras.models import Sequential\n",
    "from tensorflow.keras.layers import Dense, Conv1D, Flatten, Input, MaxPooling1D, BatchNormalization\n",
    "from tensorflow.keras.optimizers import SGD, Adam, RMSprop\n",
    "import xgboost as xgb    \n",
    "\n",
    "def create_mlp_model(input_shape, num_classes, optimizer='adam', learning_rate=0.001, dense_units=[128, 64]):\n",
    "    model = Sequential()\n",
    "    model.add(Input(shape=(input_shape,)))\n",
    "    for du in dense_units:\n",
    "        model.add(Dense(du, activation='relu'))\n",
    "    model.add(Dense(num_classes, activation='softmax'))\n",
    "    if optimizer == 'sgd':\n",
    "        opt = SGD(learning_rate=learning_rate)\n",
    "    elif optimizer == 'adam':\n",
    "        opt = Adam(learning_rate=learning_rate)\n",
    "    elif optimizer == 'rmsprop':\n",
    "        opt = RMSprop(learning_rate=learning_rate)\n",
    "    else:\n",
    "        opt = Adam(learning_rate=learning_rate)\n",
    "    model.compile(optimizer=opt, loss='categorical_crossentropy', metrics=['accuracy'])\n",
    "    return model\n",
    "\n",
    "def create_1d_cnn_model(input_shape, num_classes, filters=[128, 256],\n",
    "                         kernel_size=3, pool_size=2, use_batch_norm=True, dense_units=[128, 64],\n",
    "                         optimizer='adam', learning_rate=0.001):\n",
    "    model = Sequential()\n",
    "    model.add(Input(shape=(input_shape, 1))) # input_shape уже должен быть (num_features, 1)\n",
    "    i=0\n",
    "    for f in filters:\n",
    "        model.add(Conv1D(filters=f, kernel_size=kernel_size, activation='relu', padding='same'))\n",
    "        if use_batch_norm:\n",
    "            model.add(BatchNormalization())\n",
    "        # Добавляем MaxPooling1D, если есть смысл и достаточное количество признаков\n",
    "        if input_shape > pool_size * (i + 1) : # Убедимся, что размерность не станет слишком маленькой\n",
    "            model.add(MaxPooling1D(pool_size=pool_size))\n",
    "        else:\n",
    "            # Если MaxPooling1D может сделать размерность 0, пропускаем его\n",
    "            # или можно настроить логику по-другому, например, убрать padding='same'\n",
    "            # и добавить его только на первом слое\n",
    "            pass # Пропускаем MaxPooling, если он приведет к 0 размерности\n",
    "        i+=1\n",
    "    model.add(Flatten())\n",
    "    for du in dense_units:\n",
    "        model.add(Dense(du, activation='relu'))\n",
    "        if use_batch_norm: # Можно добавить BatchNormalization и здесь, но это опционально\n",
    "            model.add(BatchNormalization())\n",
    "\n",
    "    model.add(Dense(num_classes, activation='softmax'))\n",
    "\n",
    "    # Выбор оптимизатора\n",
    "    if optimizer == 'sgd':\n",
    "        opt = SGD(learning_rate=learning_rate)\n",
    "    elif optimizer == 'adam':\n",
    "        opt = Adam(learning_rate=learning_rate)\n",
    "    elif optimizer == 'rmsprop':\n",
    "        opt = RMSprop(learning_rate=learning_rate)\n",
    "    else:\n",
    "        opt = Adam(learning_rate=learning_rate) # Default\n",
    "\n",
    "    model.compile(optimizer=opt, loss='categorical_crossentropy', metrics=['accuracy'])\n",
    "    return model\n",
    "\n",
    "def create_gr_b(n_estimators, learning_rate, max_depth, random_state, dtrain, dtest):\n",
    "    params = {\n",
    "        'objective': 'multi:softmax',  # Бинарная классификация\n",
    "\n",
    "    'num_class': 7,\n",
    "    'eval_metric': 'mlogloss',\n",
    "        \n",
    "        'learning_rate': learning_rate,           # Скорость обучения\n",
    "        'max_depth': max_depth,                  # Глубина деревьев\n",
    "        'subsample': 0.9,                \n",
    "        'colsample_bytree': 0.8,         \n",
    "        'alpha': 0.1,                    # L1 регуляризация\n",
    "        'lambda': 1,                     # L2 регуляризация\n",
    "        'seed': random_state,                      # Для воспроизводимости\n",
    "        'early_stopping_rounds': 10      # Ранняя остановка\n",
    "    }\n",
    "\n",
    "    # Обучение модели\n",
    "    model = xgb.train(\n",
    "        params,\n",
    "        dtrain,\n",
    "        num_boost_round=n_estimators,             # Максимальное число деревьев\n",
    "        evals=[(dtest, 'eval')],          # Данные для валидации\n",
    "        verbose_eval=10                  # Вывод каждые 10 итераций\n",
    "    )\n",
    "    return model, params\n",
    "    "
   ]
  },
  {
   "cell_type": "code",
   "execution_count": 7,
   "id": "065b563d-2e70-442a-a044-0a45740467da",
   "metadata": {},
   "outputs": [],
   "source": [
    "from itertools import product\n",
    "\n",
    "def all_combinations(args_dict):\n",
    "    # Получаем имена аргументов и их возможные значения\n",
    "    arg_names = args_dict.keys()\n",
    "    values = args_dict.values()\n",
    "    res = []\n",
    "    # Перебираем все комбинации значений\n",
    "    for combination in product(*values):\n",
    "        # Создаем словарь с аргументами\n",
    "        kwargs = dict(zip(arg_names, combination))\n",
    "        # Вызываем функцию с текущей комбинацией\n",
    "        res.append(kwargs)\n",
    "    return res\n",
    "\n"
   ]
  },
  {
   "cell_type": "code",
   "execution_count": 8,
   "id": "cc37295a-6556-4a5e-b70e-feb1920f7376",
   "metadata": {},
   "outputs": [
    {
     "name": "stderr",
     "output_type": "stream",
     "text": [
      "C:\\Users\\nikol\\AppData\\Local\\Temp\\ipykernel_14832\\3180493565.py:13: FutureWarning: Calling int on a single element Series is deprecated and will raise a TypeError in the future. Use int(ser.iloc[0]) instead\n",
      "  num_classes = int(d[d.target_features].nunique()) # ИСПРАВЛЕНИЕ: Количество уникальных классов\n"
     ]
    },
    {
     "name": "stdout",
     "output_type": "stream",
     "text": [
      "36\n",
      "0 {'n_estimators': 100, 'learning_rate': 0.1, 'max_depth': 3, 'random_state': 1337, 'dtrain': <xgboost.core.DMatrix object at 0x0000000024576750>, 'dtest': <xgboost.core.DMatrix object at 0x00000000238BE870>}\n",
      "[0]\teval-mlogloss:1.77507\n"
     ]
    },
    {
     "name": "stderr",
     "output_type": "stream",
     "text": [
      "S:\\anaconda\\envs\\study\\Lib\\site-packages\\xgboost\\training.py:183: UserWarning: [17:15:02] WARNING: C:\\b\\abs_d97hy_84m6\\croot\\xgboost-split_1749630932152\\work\\src\\learner.cc:738: \n",
      "Parameters: { \"early_stopping_rounds\" } are not used.\n",
      "\n",
      "  bst.update(dtrain, iteration=i, fobj=obj)\n"
     ]
    },
    {
     "name": "stdout",
     "output_type": "stream",
     "text": [
      "[10]\teval-mlogloss:1.05767\n",
      "[20]\teval-mlogloss:0.82547\n",
      "[30]\teval-mlogloss:0.71985\n",
      "[40]\teval-mlogloss:0.66459\n",
      "[50]\teval-mlogloss:0.63000\n",
      "[60]\teval-mlogloss:0.60714\n",
      "[70]\teval-mlogloss:0.59080\n",
      "[80]\teval-mlogloss:0.57846\n",
      "[90]\teval-mlogloss:0.56933\n",
      "[99]\teval-mlogloss:0.56158\n",
      "1 {'n_estimators': 100, 'learning_rate': 0.1, 'max_depth': 4, 'random_state': 1337, 'dtrain': <xgboost.core.DMatrix object at 0x0000000024576750>, 'dtest': <xgboost.core.DMatrix object at 0x00000000238BE870>}\n",
      "[0]\teval-mlogloss:1.76742\n"
     ]
    },
    {
     "name": "stderr",
     "output_type": "stream",
     "text": [
      "S:\\anaconda\\envs\\study\\Lib\\site-packages\\xgboost\\training.py:183: UserWarning: [17:15:07] WARNING: C:\\b\\abs_d97hy_84m6\\croot\\xgboost-split_1749630932152\\work\\src\\learner.cc:738: \n",
      "Parameters: { \"early_stopping_rounds\" } are not used.\n",
      "\n",
      "  bst.update(dtrain, iteration=i, fobj=obj)\n"
     ]
    },
    {
     "name": "stdout",
     "output_type": "stream",
     "text": [
      "[10]\teval-mlogloss:1.02415\n",
      "[20]\teval-mlogloss:0.78522\n",
      "[30]\teval-mlogloss:0.67628\n",
      "[40]\teval-mlogloss:0.61812\n",
      "[50]\teval-mlogloss:0.58199\n",
      "[60]\teval-mlogloss:0.55880\n",
      "[70]\teval-mlogloss:0.54255\n",
      "[80]\teval-mlogloss:0.52948\n",
      "[90]\teval-mlogloss:0.51952\n",
      "[99]\teval-mlogloss:0.51185\n",
      "2 {'n_estimators': 100, 'learning_rate': 0.1, 'max_depth': 5, 'random_state': 1337, 'dtrain': <xgboost.core.DMatrix object at 0x0000000024576750>, 'dtest': <xgboost.core.DMatrix object at 0x00000000238BE870>}\n",
      "[0]\teval-mlogloss:1.76084\n"
     ]
    },
    {
     "name": "stderr",
     "output_type": "stream",
     "text": [
      "S:\\anaconda\\envs\\study\\Lib\\site-packages\\xgboost\\training.py:183: UserWarning: [17:15:13] WARNING: C:\\b\\abs_d97hy_84m6\\croot\\xgboost-split_1749630932152\\work\\src\\learner.cc:738: \n",
      "Parameters: { \"early_stopping_rounds\" } are not used.\n",
      "\n",
      "  bst.update(dtrain, iteration=i, fobj=obj)\n"
     ]
    },
    {
     "name": "stdout",
     "output_type": "stream",
     "text": [
      "[10]\teval-mlogloss:0.99281\n",
      "[20]\teval-mlogloss:0.74569\n",
      "[30]\teval-mlogloss:0.63306\n",
      "[40]\teval-mlogloss:0.57292\n",
      "[50]\teval-mlogloss:0.53513\n",
      "[60]\teval-mlogloss:0.51102\n",
      "[70]\teval-mlogloss:0.49463\n",
      "[80]\teval-mlogloss:0.48202\n",
      "[90]\teval-mlogloss:0.47216\n",
      "[99]\teval-mlogloss:0.46484\n",
      "3 {'n_estimators': 100, 'learning_rate': 0.2, 'max_depth': 3, 'random_state': 1337, 'dtrain': <xgboost.core.DMatrix object at 0x0000000024576750>, 'dtest': <xgboost.core.DMatrix object at 0x00000000238BE870>}\n",
      "[0]\teval-mlogloss:1.61606\n"
     ]
    },
    {
     "name": "stderr",
     "output_type": "stream",
     "text": [
      "S:\\anaconda\\envs\\study\\Lib\\site-packages\\xgboost\\training.py:183: UserWarning: [17:15:20] WARNING: C:\\b\\abs_d97hy_84m6\\croot\\xgboost-split_1749630932152\\work\\src\\learner.cc:738: \n",
      "Parameters: { \"early_stopping_rounds\" } are not used.\n",
      "\n",
      "  bst.update(dtrain, iteration=i, fobj=obj)\n"
     ]
    },
    {
     "name": "stdout",
     "output_type": "stream",
     "text": [
      "[10]\teval-mlogloss:0.79844\n",
      "[20]\teval-mlogloss:0.65691\n",
      "[30]\teval-mlogloss:0.60156\n",
      "[40]\teval-mlogloss:0.57465\n",
      "[50]\teval-mlogloss:0.55820\n",
      "[60]\teval-mlogloss:0.54535\n",
      "[70]\teval-mlogloss:0.53445\n",
      "[80]\teval-mlogloss:0.52448\n",
      "[90]\teval-mlogloss:0.51557\n",
      "[99]\teval-mlogloss:0.50882\n",
      "4 {'n_estimators': 100, 'learning_rate': 0.2, 'max_depth': 4, 'random_state': 1337, 'dtrain': <xgboost.core.DMatrix object at 0x0000000024576750>, 'dtest': <xgboost.core.DMatrix object at 0x00000000238BE870>}\n",
      "[0]\teval-mlogloss:1.60137\n"
     ]
    },
    {
     "name": "stderr",
     "output_type": "stream",
     "text": [
      "S:\\anaconda\\envs\\study\\Lib\\site-packages\\xgboost\\training.py:183: UserWarning: [17:15:27] WARNING: C:\\b\\abs_d97hy_84m6\\croot\\xgboost-split_1749630932152\\work\\src\\learner.cc:738: \n",
      "Parameters: { \"early_stopping_rounds\" } are not used.\n",
      "\n",
      "  bst.update(dtrain, iteration=i, fobj=obj)\n"
     ]
    },
    {
     "name": "stdout",
     "output_type": "stream",
     "text": [
      "[10]\teval-mlogloss:0.75682\n",
      "[20]\teval-mlogloss:0.60952\n",
      "[30]\teval-mlogloss:0.55393\n",
      "[40]\teval-mlogloss:0.52585\n",
      "[50]\teval-mlogloss:0.50853\n",
      "[60]\teval-mlogloss:0.49532\n",
      "[70]\teval-mlogloss:0.48442\n",
      "[80]\teval-mlogloss:0.47331\n",
      "[90]\teval-mlogloss:0.46195\n",
      "[99]\teval-mlogloss:0.45190\n",
      "5 {'n_estimators': 100, 'learning_rate': 0.2, 'max_depth': 5, 'random_state': 1337, 'dtrain': <xgboost.core.DMatrix object at 0x0000000024576750>, 'dtest': <xgboost.core.DMatrix object at 0x00000000238BE870>}\n",
      "[0]\teval-mlogloss:1.58874\n"
     ]
    },
    {
     "name": "stderr",
     "output_type": "stream",
     "text": [
      "S:\\anaconda\\envs\\study\\Lib\\site-packages\\xgboost\\training.py:183: UserWarning: [17:15:33] WARNING: C:\\b\\abs_d97hy_84m6\\croot\\xgboost-split_1749630932152\\work\\src\\learner.cc:738: \n",
      "Parameters: { \"early_stopping_rounds\" } are not used.\n",
      "\n",
      "  bst.update(dtrain, iteration=i, fobj=obj)\n"
     ]
    },
    {
     "name": "stdout",
     "output_type": "stream",
     "text": [
      "[10]\teval-mlogloss:0.71635\n",
      "[20]\teval-mlogloss:0.56406\n",
      "[30]\teval-mlogloss:0.50879\n",
      "[40]\teval-mlogloss:0.47997\n",
      "[50]\teval-mlogloss:0.46057\n",
      "[60]\teval-mlogloss:0.44612\n",
      "[70]\teval-mlogloss:0.43397\n",
      "[80]\teval-mlogloss:0.42361\n",
      "[90]\teval-mlogloss:0.40912\n",
      "[99]\teval-mlogloss:0.39997\n",
      "6 {'n_estimators': 100, 'learning_rate': 0.05, 'max_depth': 3, 'random_state': 1337, 'dtrain': <xgboost.core.DMatrix object at 0x0000000024576750>, 'dtest': <xgboost.core.DMatrix object at 0x00000000238BE870>}\n",
      "[0]\teval-mlogloss:1.85912\n"
     ]
    },
    {
     "name": "stderr",
     "output_type": "stream",
     "text": [
      "S:\\anaconda\\envs\\study\\Lib\\site-packages\\xgboost\\training.py:183: UserWarning: [17:15:40] WARNING: C:\\b\\abs_d97hy_84m6\\croot\\xgboost-split_1749630932152\\work\\src\\learner.cc:738: \n",
      "Parameters: { \"early_stopping_rounds\" } are not used.\n",
      "\n",
      "  bst.update(dtrain, iteration=i, fobj=obj)\n"
     ]
    },
    {
     "name": "stdout",
     "output_type": "stream",
     "text": [
      "[10]\teval-mlogloss:1.34355\n",
      "[20]\teval-mlogloss:1.08927\n",
      "[30]\teval-mlogloss:0.93616\n",
      "[40]\teval-mlogloss:0.83851\n",
      "[50]\teval-mlogloss:0.77314\n",
      "[60]\teval-mlogloss:0.72715\n",
      "[70]\teval-mlogloss:0.69440\n",
      "[80]\teval-mlogloss:0.66899\n",
      "[90]\teval-mlogloss:0.64935\n",
      "[99]\teval-mlogloss:0.63495\n",
      "7 {'n_estimators': 100, 'learning_rate': 0.05, 'max_depth': 4, 'random_state': 1337, 'dtrain': <xgboost.core.DMatrix object at 0x0000000024576750>, 'dtest': <xgboost.core.DMatrix object at 0x00000000238BE870>}\n",
      "[0]\teval-mlogloss:1.85522\n"
     ]
    },
    {
     "name": "stderr",
     "output_type": "stream",
     "text": [
      "S:\\anaconda\\envs\\study\\Lib\\site-packages\\xgboost\\training.py:183: UserWarning: [17:15:46] WARNING: C:\\b\\abs_d97hy_84m6\\croot\\xgboost-split_1749630932152\\work\\src\\learner.cc:738: \n",
      "Parameters: { \"early_stopping_rounds\" } are not used.\n",
      "\n",
      "  bst.update(dtrain, iteration=i, fobj=obj)\n"
     ]
    },
    {
     "name": "stdout",
     "output_type": "stream",
     "text": [
      "[10]\teval-mlogloss:1.32040\n",
      "[20]\teval-mlogloss:1.05754\n",
      "[30]\teval-mlogloss:0.89901\n",
      "[40]\teval-mlogloss:0.79883\n",
      "[50]\teval-mlogloss:0.73071\n",
      "[60]\teval-mlogloss:0.68302\n",
      "[70]\teval-mlogloss:0.64875\n",
      "[80]\teval-mlogloss:0.62189\n",
      "[90]\teval-mlogloss:0.60135\n",
      "[99]\teval-mlogloss:0.58659\n",
      "8 {'n_estimators': 100, 'learning_rate': 0.05, 'max_depth': 5, 'random_state': 1337, 'dtrain': <xgboost.core.DMatrix object at 0x0000000024576750>, 'dtest': <xgboost.core.DMatrix object at 0x00000000238BE870>}\n",
      "[0]\teval-mlogloss:1.85188\n"
     ]
    },
    {
     "name": "stderr",
     "output_type": "stream",
     "text": [
      "S:\\anaconda\\envs\\study\\Lib\\site-packages\\xgboost\\training.py:183: UserWarning: [17:15:51] WARNING: C:\\b\\abs_d97hy_84m6\\croot\\xgboost-split_1749630932152\\work\\src\\learner.cc:738: \n",
      "Parameters: { \"early_stopping_rounds\" } are not used.\n",
      "\n",
      "  bst.update(dtrain, iteration=i, fobj=obj)\n"
     ]
    },
    {
     "name": "stdout",
     "output_type": "stream",
     "text": [
      "[10]\teval-mlogloss:1.29937\n",
      "[20]\teval-mlogloss:1.02821\n",
      "[30]\teval-mlogloss:0.86375\n",
      "[40]\teval-mlogloss:0.75995\n",
      "[50]\teval-mlogloss:0.68990\n",
      "[60]\teval-mlogloss:0.64137\n",
      "[70]\teval-mlogloss:0.60573\n",
      "[80]\teval-mlogloss:0.57740\n",
      "[90]\teval-mlogloss:0.55593\n",
      "[99]\teval-mlogloss:0.54071\n",
      "9 {'n_estimators': 50, 'learning_rate': 0.1, 'max_depth': 3, 'random_state': 1337, 'dtrain': <xgboost.core.DMatrix object at 0x0000000024576750>, 'dtest': <xgboost.core.DMatrix object at 0x00000000238BE870>}\n",
      "[0]\teval-mlogloss:1.77507\n"
     ]
    },
    {
     "name": "stderr",
     "output_type": "stream",
     "text": [
      "S:\\anaconda\\envs\\study\\Lib\\site-packages\\xgboost\\training.py:183: UserWarning: [17:15:58] WARNING: C:\\b\\abs_d97hy_84m6\\croot\\xgboost-split_1749630932152\\work\\src\\learner.cc:738: \n",
      "Parameters: { \"early_stopping_rounds\" } are not used.\n",
      "\n",
      "  bst.update(dtrain, iteration=i, fobj=obj)\n"
     ]
    },
    {
     "name": "stdout",
     "output_type": "stream",
     "text": [
      "[10]\teval-mlogloss:1.05767\n",
      "[20]\teval-mlogloss:0.82547\n",
      "[30]\teval-mlogloss:0.71985\n",
      "[40]\teval-mlogloss:0.66459\n",
      "[49]\teval-mlogloss:0.63269\n",
      "10 {'n_estimators': 50, 'learning_rate': 0.1, 'max_depth': 4, 'random_state': 1337, 'dtrain': <xgboost.core.DMatrix object at 0x0000000024576750>, 'dtest': <xgboost.core.DMatrix object at 0x00000000238BE870>}\n",
      "[0]\teval-mlogloss:1.76742\n"
     ]
    },
    {
     "name": "stderr",
     "output_type": "stream",
     "text": [
      "S:\\anaconda\\envs\\study\\Lib\\site-packages\\xgboost\\training.py:183: UserWarning: [17:16:00] WARNING: C:\\b\\abs_d97hy_84m6\\croot\\xgboost-split_1749630932152\\work\\src\\learner.cc:738: \n",
      "Parameters: { \"early_stopping_rounds\" } are not used.\n",
      "\n",
      "  bst.update(dtrain, iteration=i, fobj=obj)\n"
     ]
    },
    {
     "name": "stdout",
     "output_type": "stream",
     "text": [
      "[10]\teval-mlogloss:1.02415\n",
      "[20]\teval-mlogloss:0.78522\n",
      "[30]\teval-mlogloss:0.67628\n",
      "[40]\teval-mlogloss:0.61812\n",
      "[49]\teval-mlogloss:0.58493\n",
      "11 {'n_estimators': 50, 'learning_rate': 0.1, 'max_depth': 5, 'random_state': 1337, 'dtrain': <xgboost.core.DMatrix object at 0x0000000024576750>, 'dtest': <xgboost.core.DMatrix object at 0x00000000238BE870>}\n",
      "[0]\teval-mlogloss:1.76084\n"
     ]
    },
    {
     "name": "stderr",
     "output_type": "stream",
     "text": [
      "S:\\anaconda\\envs\\study\\Lib\\site-packages\\xgboost\\training.py:183: UserWarning: [17:16:03] WARNING: C:\\b\\abs_d97hy_84m6\\croot\\xgboost-split_1749630932152\\work\\src\\learner.cc:738: \n",
      "Parameters: { \"early_stopping_rounds\" } are not used.\n",
      "\n",
      "  bst.update(dtrain, iteration=i, fobj=obj)\n"
     ]
    },
    {
     "name": "stdout",
     "output_type": "stream",
     "text": [
      "[10]\teval-mlogloss:0.99281\n",
      "[20]\teval-mlogloss:0.74569\n",
      "[30]\teval-mlogloss:0.63306\n",
      "[40]\teval-mlogloss:0.57292\n",
      "[49]\teval-mlogloss:0.53809\n",
      "12 {'n_estimators': 50, 'learning_rate': 0.2, 'max_depth': 3, 'random_state': 1337, 'dtrain': <xgboost.core.DMatrix object at 0x0000000024576750>, 'dtest': <xgboost.core.DMatrix object at 0x00000000238BE870>}\n",
      "[0]\teval-mlogloss:1.61606\n"
     ]
    },
    {
     "name": "stderr",
     "output_type": "stream",
     "text": [
      "S:\\anaconda\\envs\\study\\Lib\\site-packages\\xgboost\\training.py:183: UserWarning: [17:16:06] WARNING: C:\\b\\abs_d97hy_84m6\\croot\\xgboost-split_1749630932152\\work\\src\\learner.cc:738: \n",
      "Parameters: { \"early_stopping_rounds\" } are not used.\n",
      "\n",
      "  bst.update(dtrain, iteration=i, fobj=obj)\n"
     ]
    },
    {
     "name": "stdout",
     "output_type": "stream",
     "text": [
      "[10]\teval-mlogloss:0.79844\n",
      "[20]\teval-mlogloss:0.65691\n",
      "[30]\teval-mlogloss:0.60156\n",
      "[40]\teval-mlogloss:0.57465\n",
      "[49]\teval-mlogloss:0.55974\n",
      "13 {'n_estimators': 50, 'learning_rate': 0.2, 'max_depth': 4, 'random_state': 1337, 'dtrain': <xgboost.core.DMatrix object at 0x0000000024576750>, 'dtest': <xgboost.core.DMatrix object at 0x00000000238BE870>}\n",
      "[0]\teval-mlogloss:1.60137\n"
     ]
    },
    {
     "name": "stderr",
     "output_type": "stream",
     "text": [
      "S:\\anaconda\\envs\\study\\Lib\\site-packages\\xgboost\\training.py:183: UserWarning: [17:16:08] WARNING: C:\\b\\abs_d97hy_84m6\\croot\\xgboost-split_1749630932152\\work\\src\\learner.cc:738: \n",
      "Parameters: { \"early_stopping_rounds\" } are not used.\n",
      "\n",
      "  bst.update(dtrain, iteration=i, fobj=obj)\n"
     ]
    },
    {
     "name": "stdout",
     "output_type": "stream",
     "text": [
      "[10]\teval-mlogloss:0.75682\n",
      "[20]\teval-mlogloss:0.60952\n",
      "[30]\teval-mlogloss:0.55393\n",
      "[40]\teval-mlogloss:0.52585\n",
      "[49]\teval-mlogloss:0.50993\n",
      "14 {'n_estimators': 50, 'learning_rate': 0.2, 'max_depth': 5, 'random_state': 1337, 'dtrain': <xgboost.core.DMatrix object at 0x0000000024576750>, 'dtest': <xgboost.core.DMatrix object at 0x00000000238BE870>}\n",
      "[0]\teval-mlogloss:1.58874\n"
     ]
    },
    {
     "name": "stderr",
     "output_type": "stream",
     "text": [
      "S:\\anaconda\\envs\\study\\Lib\\site-packages\\xgboost\\training.py:183: UserWarning: [17:16:11] WARNING: C:\\b\\abs_d97hy_84m6\\croot\\xgboost-split_1749630932152\\work\\src\\learner.cc:738: \n",
      "Parameters: { \"early_stopping_rounds\" } are not used.\n",
      "\n",
      "  bst.update(dtrain, iteration=i, fobj=obj)\n"
     ]
    },
    {
     "name": "stdout",
     "output_type": "stream",
     "text": [
      "[10]\teval-mlogloss:0.71635\n",
      "[20]\teval-mlogloss:0.56406\n",
      "[30]\teval-mlogloss:0.50879\n",
      "[40]\teval-mlogloss:0.47997\n",
      "[49]\teval-mlogloss:0.46160\n",
      "15 {'n_estimators': 50, 'learning_rate': 0.05, 'max_depth': 3, 'random_state': 1337, 'dtrain': <xgboost.core.DMatrix object at 0x0000000024576750>, 'dtest': <xgboost.core.DMatrix object at 0x00000000238BE870>}\n",
      "[0]\teval-mlogloss:1.85912\n"
     ]
    },
    {
     "name": "stderr",
     "output_type": "stream",
     "text": [
      "S:\\anaconda\\envs\\study\\Lib\\site-packages\\xgboost\\training.py:183: UserWarning: [17:16:15] WARNING: C:\\b\\abs_d97hy_84m6\\croot\\xgboost-split_1749630932152\\work\\src\\learner.cc:738: \n",
      "Parameters: { \"early_stopping_rounds\" } are not used.\n",
      "\n",
      "  bst.update(dtrain, iteration=i, fobj=obj)\n"
     ]
    },
    {
     "name": "stdout",
     "output_type": "stream",
     "text": [
      "[10]\teval-mlogloss:1.34355\n",
      "[20]\teval-mlogloss:1.08927\n",
      "[30]\teval-mlogloss:0.93616\n",
      "[40]\teval-mlogloss:0.83851\n",
      "[49]\teval-mlogloss:0.77858\n",
      "16 {'n_estimators': 50, 'learning_rate': 0.05, 'max_depth': 4, 'random_state': 1337, 'dtrain': <xgboost.core.DMatrix object at 0x0000000024576750>, 'dtest': <xgboost.core.DMatrix object at 0x00000000238BE870>}\n",
      "[0]\teval-mlogloss:1.85522\n"
     ]
    },
    {
     "name": "stderr",
     "output_type": "stream",
     "text": [
      "S:\\anaconda\\envs\\study\\Lib\\site-packages\\xgboost\\training.py:183: UserWarning: [17:16:17] WARNING: C:\\b\\abs_d97hy_84m6\\croot\\xgboost-split_1749630932152\\work\\src\\learner.cc:738: \n",
      "Parameters: { \"early_stopping_rounds\" } are not used.\n",
      "\n",
      "  bst.update(dtrain, iteration=i, fobj=obj)\n"
     ]
    },
    {
     "name": "stdout",
     "output_type": "stream",
     "text": [
      "[10]\teval-mlogloss:1.32040\n",
      "[20]\teval-mlogloss:1.05754\n",
      "[30]\teval-mlogloss:0.89901\n",
      "[40]\teval-mlogloss:0.79883\n",
      "[49]\teval-mlogloss:0.73639\n",
      "17 {'n_estimators': 50, 'learning_rate': 0.05, 'max_depth': 5, 'random_state': 1337, 'dtrain': <xgboost.core.DMatrix object at 0x0000000024576750>, 'dtest': <xgboost.core.DMatrix object at 0x00000000238BE870>}\n",
      "[0]\teval-mlogloss:1.85188\n"
     ]
    },
    {
     "name": "stderr",
     "output_type": "stream",
     "text": [
      "S:\\anaconda\\envs\\study\\Lib\\site-packages\\xgboost\\training.py:183: UserWarning: [17:16:19] WARNING: C:\\b\\abs_d97hy_84m6\\croot\\xgboost-split_1749630932152\\work\\src\\learner.cc:738: \n",
      "Parameters: { \"early_stopping_rounds\" } are not used.\n",
      "\n",
      "  bst.update(dtrain, iteration=i, fobj=obj)\n"
     ]
    },
    {
     "name": "stdout",
     "output_type": "stream",
     "text": [
      "[10]\teval-mlogloss:1.29937\n",
      "[20]\teval-mlogloss:1.02821\n",
      "[30]\teval-mlogloss:0.86375\n",
      "[40]\teval-mlogloss:0.75995\n",
      "[49]\teval-mlogloss:0.69573\n",
      "18 {'n_estimators': 20, 'learning_rate': 0.1, 'max_depth': 3, 'random_state': 1337, 'dtrain': <xgboost.core.DMatrix object at 0x0000000024576750>, 'dtest': <xgboost.core.DMatrix object at 0x00000000238BE870>}\n",
      "[0]\teval-mlogloss:1.77507\n"
     ]
    },
    {
     "name": "stderr",
     "output_type": "stream",
     "text": [
      "S:\\anaconda\\envs\\study\\Lib\\site-packages\\xgboost\\training.py:183: UserWarning: [17:16:22] WARNING: C:\\b\\abs_d97hy_84m6\\croot\\xgboost-split_1749630932152\\work\\src\\learner.cc:738: \n",
      "Parameters: { \"early_stopping_rounds\" } are not used.\n",
      "\n",
      "  bst.update(dtrain, iteration=i, fobj=obj)\n"
     ]
    },
    {
     "name": "stdout",
     "output_type": "stream",
     "text": [
      "[10]\teval-mlogloss:1.05767\n",
      "[19]\teval-mlogloss:0.84140\n",
      "19 {'n_estimators': 20, 'learning_rate': 0.1, 'max_depth': 4, 'random_state': 1337, 'dtrain': <xgboost.core.DMatrix object at 0x0000000024576750>, 'dtest': <xgboost.core.DMatrix object at 0x00000000238BE870>}\n",
      "[0]\teval-mlogloss:1.76742\n"
     ]
    },
    {
     "name": "stderr",
     "output_type": "stream",
     "text": [
      "S:\\anaconda\\envs\\study\\Lib\\site-packages\\xgboost\\training.py:183: UserWarning: [17:16:23] WARNING: C:\\b\\abs_d97hy_84m6\\croot\\xgboost-split_1749630932152\\work\\src\\learner.cc:738: \n",
      "Parameters: { \"early_stopping_rounds\" } are not used.\n",
      "\n",
      "  bst.update(dtrain, iteration=i, fobj=obj)\n"
     ]
    },
    {
     "name": "stdout",
     "output_type": "stream",
     "text": [
      "[10]\teval-mlogloss:1.02415\n",
      "[19]\teval-mlogloss:0.80110\n",
      "20 {'n_estimators': 20, 'learning_rate': 0.1, 'max_depth': 5, 'random_state': 1337, 'dtrain': <xgboost.core.DMatrix object at 0x0000000024576750>, 'dtest': <xgboost.core.DMatrix object at 0x00000000238BE870>}\n",
      "[0]\teval-mlogloss:1.76084\n"
     ]
    },
    {
     "name": "stderr",
     "output_type": "stream",
     "text": [
      "S:\\anaconda\\envs\\study\\Lib\\site-packages\\xgboost\\training.py:183: UserWarning: [17:16:24] WARNING: C:\\b\\abs_d97hy_84m6\\croot\\xgboost-split_1749630932152\\work\\src\\learner.cc:738: \n",
      "Parameters: { \"early_stopping_rounds\" } are not used.\n",
      "\n",
      "  bst.update(dtrain, iteration=i, fobj=obj)\n"
     ]
    },
    {
     "name": "stdout",
     "output_type": "stream",
     "text": [
      "[10]\teval-mlogloss:0.99281\n",
      "[19]\teval-mlogloss:0.76207\n",
      "21 {'n_estimators': 20, 'learning_rate': 0.2, 'max_depth': 3, 'random_state': 1337, 'dtrain': <xgboost.core.DMatrix object at 0x0000000024576750>, 'dtest': <xgboost.core.DMatrix object at 0x00000000238BE870>}\n",
      "[0]\teval-mlogloss:1.61606\n"
     ]
    },
    {
     "name": "stderr",
     "output_type": "stream",
     "text": [
      "S:\\anaconda\\envs\\study\\Lib\\site-packages\\xgboost\\training.py:183: UserWarning: [17:16:26] WARNING: C:\\b\\abs_d97hy_84m6\\croot\\xgboost-split_1749630932152\\work\\src\\learner.cc:738: \n",
      "Parameters: { \"early_stopping_rounds\" } are not used.\n",
      "\n",
      "  bst.update(dtrain, iteration=i, fobj=obj)\n"
     ]
    },
    {
     "name": "stdout",
     "output_type": "stream",
     "text": [
      "[10]\teval-mlogloss:0.79844\n",
      "[19]\teval-mlogloss:0.66475\n",
      "22 {'n_estimators': 20, 'learning_rate': 0.2, 'max_depth': 4, 'random_state': 1337, 'dtrain': <xgboost.core.DMatrix object at 0x0000000024576750>, 'dtest': <xgboost.core.DMatrix object at 0x00000000238BE870>}\n",
      "[0]\teval-mlogloss:1.60137\n"
     ]
    },
    {
     "name": "stderr",
     "output_type": "stream",
     "text": [
      "S:\\anaconda\\envs\\study\\Lib\\site-packages\\xgboost\\training.py:183: UserWarning: [17:16:27] WARNING: C:\\b\\abs_d97hy_84m6\\croot\\xgboost-split_1749630932152\\work\\src\\learner.cc:738: \n",
      "Parameters: { \"early_stopping_rounds\" } are not used.\n",
      "\n",
      "  bst.update(dtrain, iteration=i, fobj=obj)\n"
     ]
    },
    {
     "name": "stdout",
     "output_type": "stream",
     "text": [
      "[10]\teval-mlogloss:0.75682\n",
      "[19]\teval-mlogloss:0.61729\n",
      "23 {'n_estimators': 20, 'learning_rate': 0.2, 'max_depth': 5, 'random_state': 1337, 'dtrain': <xgboost.core.DMatrix object at 0x0000000024576750>, 'dtest': <xgboost.core.DMatrix object at 0x00000000238BE870>}\n",
      "[0]\teval-mlogloss:1.58874\n"
     ]
    },
    {
     "name": "stderr",
     "output_type": "stream",
     "text": [
      "S:\\anaconda\\envs\\study\\Lib\\site-packages\\xgboost\\training.py:183: UserWarning: [17:16:28] WARNING: C:\\b\\abs_d97hy_84m6\\croot\\xgboost-split_1749630932152\\work\\src\\learner.cc:738: \n",
      "Parameters: { \"early_stopping_rounds\" } are not used.\n",
      "\n",
      "  bst.update(dtrain, iteration=i, fobj=obj)\n"
     ]
    },
    {
     "name": "stdout",
     "output_type": "stream",
     "text": [
      "[10]\teval-mlogloss:0.71635\n",
      "[19]\teval-mlogloss:0.57258\n",
      "24 {'n_estimators': 20, 'learning_rate': 0.05, 'max_depth': 3, 'random_state': 1337, 'dtrain': <xgboost.core.DMatrix object at 0x0000000024576750>, 'dtest': <xgboost.core.DMatrix object at 0x00000000238BE870>}\n",
      "[0]\teval-mlogloss:1.85912\n"
     ]
    },
    {
     "name": "stderr",
     "output_type": "stream",
     "text": [
      "S:\\anaconda\\envs\\study\\Lib\\site-packages\\xgboost\\training.py:183: UserWarning: [17:16:29] WARNING: C:\\b\\abs_d97hy_84m6\\croot\\xgboost-split_1749630932152\\work\\src\\learner.cc:738: \n",
      "Parameters: { \"early_stopping_rounds\" } are not used.\n",
      "\n",
      "  bst.update(dtrain, iteration=i, fobj=obj)\n"
     ]
    },
    {
     "name": "stdout",
     "output_type": "stream",
     "text": [
      "[10]\teval-mlogloss:1.34355\n",
      "[19]\teval-mlogloss:1.10949\n",
      "25 {'n_estimators': 20, 'learning_rate': 0.05, 'max_depth': 4, 'random_state': 1337, 'dtrain': <xgboost.core.DMatrix object at 0x0000000024576750>, 'dtest': <xgboost.core.DMatrix object at 0x00000000238BE870>}\n",
      "[0]\teval-mlogloss:1.85522\n"
     ]
    },
    {
     "name": "stderr",
     "output_type": "stream",
     "text": [
      "S:\\anaconda\\envs\\study\\Lib\\site-packages\\xgboost\\training.py:183: UserWarning: [17:16:30] WARNING: C:\\b\\abs_d97hy_84m6\\croot\\xgboost-split_1749630932152\\work\\src\\learner.cc:738: \n",
      "Parameters: { \"early_stopping_rounds\" } are not used.\n",
      "\n",
      "  bst.update(dtrain, iteration=i, fobj=obj)\n"
     ]
    },
    {
     "name": "stdout",
     "output_type": "stream",
     "text": [
      "[10]\teval-mlogloss:1.32040\n",
      "[19]\teval-mlogloss:1.07837\n",
      "26 {'n_estimators': 20, 'learning_rate': 0.05, 'max_depth': 5, 'random_state': 1337, 'dtrain': <xgboost.core.DMatrix object at 0x0000000024576750>, 'dtest': <xgboost.core.DMatrix object at 0x00000000238BE870>}\n",
      "[0]\teval-mlogloss:1.85188\n"
     ]
    },
    {
     "name": "stderr",
     "output_type": "stream",
     "text": [
      "S:\\anaconda\\envs\\study\\Lib\\site-packages\\xgboost\\training.py:183: UserWarning: [17:16:31] WARNING: C:\\b\\abs_d97hy_84m6\\croot\\xgboost-split_1749630932152\\work\\src\\learner.cc:738: \n",
      "Parameters: { \"early_stopping_rounds\" } are not used.\n",
      "\n",
      "  bst.update(dtrain, iteration=i, fobj=obj)\n"
     ]
    },
    {
     "name": "stdout",
     "output_type": "stream",
     "text": [
      "[10]\teval-mlogloss:1.29937\n",
      "[19]\teval-mlogloss:1.04952\n",
      "27 {'n_estimators': 200, 'learning_rate': 0.1, 'max_depth': 3, 'random_state': 1337, 'dtrain': <xgboost.core.DMatrix object at 0x0000000024576750>, 'dtest': <xgboost.core.DMatrix object at 0x00000000238BE870>}\n",
      "[0]\teval-mlogloss:1.77507\n"
     ]
    },
    {
     "name": "stderr",
     "output_type": "stream",
     "text": [
      "S:\\anaconda\\envs\\study\\Lib\\site-packages\\xgboost\\training.py:183: UserWarning: [17:16:33] WARNING: C:\\b\\abs_d97hy_84m6\\croot\\xgboost-split_1749630932152\\work\\src\\learner.cc:738: \n",
      "Parameters: { \"early_stopping_rounds\" } are not used.\n",
      "\n",
      "  bst.update(dtrain, iteration=i, fobj=obj)\n"
     ]
    },
    {
     "name": "stdout",
     "output_type": "stream",
     "text": [
      "[10]\teval-mlogloss:1.05767\n",
      "[20]\teval-mlogloss:0.82547\n",
      "[30]\teval-mlogloss:0.71985\n",
      "[40]\teval-mlogloss:0.66459\n",
      "[50]\teval-mlogloss:0.63000\n",
      "[60]\teval-mlogloss:0.60714\n",
      "[70]\teval-mlogloss:0.59080\n",
      "[80]\teval-mlogloss:0.57846\n",
      "[90]\teval-mlogloss:0.56933\n",
      "[100]\teval-mlogloss:0.56080\n",
      "[110]\teval-mlogloss:0.55391\n",
      "[120]\teval-mlogloss:0.54725\n",
      "[130]\teval-mlogloss:0.54128\n",
      "[140]\teval-mlogloss:0.53593\n",
      "[150]\teval-mlogloss:0.53042\n",
      "[160]\teval-mlogloss:0.52638\n",
      "[170]\teval-mlogloss:0.52176\n",
      "[180]\teval-mlogloss:0.51764\n",
      "[190]\teval-mlogloss:0.51411\n",
      "[199]\teval-mlogloss:0.51053\n",
      "28 {'n_estimators': 200, 'learning_rate': 0.1, 'max_depth': 4, 'random_state': 1337, 'dtrain': <xgboost.core.DMatrix object at 0x0000000024576750>, 'dtest': <xgboost.core.DMatrix object at 0x00000000238BE870>}\n",
      "[0]\teval-mlogloss:1.76742\n"
     ]
    },
    {
     "name": "stderr",
     "output_type": "stream",
     "text": [
      "S:\\anaconda\\envs\\study\\Lib\\site-packages\\xgboost\\training.py:183: UserWarning: [17:16:43] WARNING: C:\\b\\abs_d97hy_84m6\\croot\\xgboost-split_1749630932152\\work\\src\\learner.cc:738: \n",
      "Parameters: { \"early_stopping_rounds\" } are not used.\n",
      "\n",
      "  bst.update(dtrain, iteration=i, fobj=obj)\n"
     ]
    },
    {
     "name": "stdout",
     "output_type": "stream",
     "text": [
      "[10]\teval-mlogloss:1.02415\n",
      "[20]\teval-mlogloss:0.78522\n",
      "[30]\teval-mlogloss:0.67628\n",
      "[40]\teval-mlogloss:0.61812\n",
      "[50]\teval-mlogloss:0.58199\n",
      "[60]\teval-mlogloss:0.55880\n",
      "[70]\teval-mlogloss:0.54255\n",
      "[80]\teval-mlogloss:0.52948\n",
      "[90]\teval-mlogloss:0.51952\n",
      "[100]\teval-mlogloss:0.51094\n",
      "[110]\teval-mlogloss:0.50310\n",
      "[120]\teval-mlogloss:0.49598\n",
      "[130]\teval-mlogloss:0.49037\n",
      "[140]\teval-mlogloss:0.48465\n",
      "[150]\teval-mlogloss:0.47921\n",
      "[160]\teval-mlogloss:0.47382\n",
      "[170]\teval-mlogloss:0.46914\n",
      "[180]\teval-mlogloss:0.46394\n",
      "[190]\teval-mlogloss:0.46009\n",
      "[199]\teval-mlogloss:0.45512\n",
      "29 {'n_estimators': 200, 'learning_rate': 0.1, 'max_depth': 5, 'random_state': 1337, 'dtrain': <xgboost.core.DMatrix object at 0x0000000024576750>, 'dtest': <xgboost.core.DMatrix object at 0x00000000238BE870>}\n",
      "[0]\teval-mlogloss:1.76084\n"
     ]
    },
    {
     "name": "stderr",
     "output_type": "stream",
     "text": [
      "S:\\anaconda\\envs\\study\\Lib\\site-packages\\xgboost\\training.py:183: UserWarning: [17:16:54] WARNING: C:\\b\\abs_d97hy_84m6\\croot\\xgboost-split_1749630932152\\work\\src\\learner.cc:738: \n",
      "Parameters: { \"early_stopping_rounds\" } are not used.\n",
      "\n",
      "  bst.update(dtrain, iteration=i, fobj=obj)\n"
     ]
    },
    {
     "name": "stdout",
     "output_type": "stream",
     "text": [
      "[10]\teval-mlogloss:0.99281\n",
      "[20]\teval-mlogloss:0.74569\n",
      "[30]\teval-mlogloss:0.63306\n",
      "[40]\teval-mlogloss:0.57292\n",
      "[50]\teval-mlogloss:0.53513\n",
      "[60]\teval-mlogloss:0.51102\n",
      "[70]\teval-mlogloss:0.49463\n",
      "[80]\teval-mlogloss:0.48202\n",
      "[90]\teval-mlogloss:0.47216\n",
      "[100]\teval-mlogloss:0.46384\n",
      "[110]\teval-mlogloss:0.45659\n",
      "[120]\teval-mlogloss:0.44889\n",
      "[130]\teval-mlogloss:0.44294\n",
      "[140]\teval-mlogloss:0.43726\n",
      "[150]\teval-mlogloss:0.43047\n",
      "[160]\teval-mlogloss:0.42433\n",
      "[170]\teval-mlogloss:0.41896\n",
      "[180]\teval-mlogloss:0.41417\n",
      "[190]\teval-mlogloss:0.40954\n",
      "[199]\teval-mlogloss:0.40399\n",
      "30 {'n_estimators': 200, 'learning_rate': 0.2, 'max_depth': 3, 'random_state': 1337, 'dtrain': <xgboost.core.DMatrix object at 0x0000000024576750>, 'dtest': <xgboost.core.DMatrix object at 0x00000000238BE870>}\n",
      "[0]\teval-mlogloss:1.61606\n"
     ]
    },
    {
     "name": "stderr",
     "output_type": "stream",
     "text": [
      "S:\\anaconda\\envs\\study\\Lib\\site-packages\\xgboost\\training.py:183: UserWarning: [17:17:06] WARNING: C:\\b\\abs_d97hy_84m6\\croot\\xgboost-split_1749630932152\\work\\src\\learner.cc:738: \n",
      "Parameters: { \"early_stopping_rounds\" } are not used.\n",
      "\n",
      "  bst.update(dtrain, iteration=i, fobj=obj)\n"
     ]
    },
    {
     "name": "stdout",
     "output_type": "stream",
     "text": [
      "[10]\teval-mlogloss:0.79844\n",
      "[20]\teval-mlogloss:0.65691\n",
      "[30]\teval-mlogloss:0.60156\n",
      "[40]\teval-mlogloss:0.57465\n",
      "[50]\teval-mlogloss:0.55820\n",
      "[60]\teval-mlogloss:0.54535\n",
      "[70]\teval-mlogloss:0.53445\n",
      "[80]\teval-mlogloss:0.52448\n",
      "[90]\teval-mlogloss:0.51557\n",
      "[100]\teval-mlogloss:0.50828\n",
      "[110]\teval-mlogloss:0.50175\n",
      "[120]\teval-mlogloss:0.49451\n",
      "[130]\teval-mlogloss:0.48955\n",
      "[140]\teval-mlogloss:0.48460\n",
      "[150]\teval-mlogloss:0.47837\n",
      "[160]\teval-mlogloss:0.47265\n",
      "[170]\teval-mlogloss:0.46835\n",
      "[180]\teval-mlogloss:0.46363\n",
      "[190]\teval-mlogloss:0.46028\n",
      "[199]\teval-mlogloss:0.45649\n",
      "31 {'n_estimators': 200, 'learning_rate': 0.2, 'max_depth': 4, 'random_state': 1337, 'dtrain': <xgboost.core.DMatrix object at 0x0000000024576750>, 'dtest': <xgboost.core.DMatrix object at 0x00000000238BE870>}\n",
      "[0]\teval-mlogloss:1.60137\n"
     ]
    },
    {
     "name": "stderr",
     "output_type": "stream",
     "text": [
      "S:\\anaconda\\envs\\study\\Lib\\site-packages\\xgboost\\training.py:183: UserWarning: [17:17:17] WARNING: C:\\b\\abs_d97hy_84m6\\croot\\xgboost-split_1749630932152\\work\\src\\learner.cc:738: \n",
      "Parameters: { \"early_stopping_rounds\" } are not used.\n",
      "\n",
      "  bst.update(dtrain, iteration=i, fobj=obj)\n"
     ]
    },
    {
     "name": "stdout",
     "output_type": "stream",
     "text": [
      "[10]\teval-mlogloss:0.75682\n",
      "[20]\teval-mlogloss:0.60952\n",
      "[30]\teval-mlogloss:0.55393\n",
      "[40]\teval-mlogloss:0.52585\n",
      "[50]\teval-mlogloss:0.50853\n",
      "[60]\teval-mlogloss:0.49532\n",
      "[70]\teval-mlogloss:0.48442\n",
      "[80]\teval-mlogloss:0.47331\n",
      "[90]\teval-mlogloss:0.46195\n",
      "[100]\teval-mlogloss:0.45067\n",
      "[110]\teval-mlogloss:0.44245\n",
      "[120]\teval-mlogloss:0.43407\n",
      "[130]\teval-mlogloss:0.42681\n",
      "[140]\teval-mlogloss:0.41992\n",
      "[150]\teval-mlogloss:0.41326\n",
      "[160]\teval-mlogloss:0.40801\n",
      "[170]\teval-mlogloss:0.40126\n",
      "[180]\teval-mlogloss:0.39653\n",
      "[190]\teval-mlogloss:0.39130\n",
      "[199]\teval-mlogloss:0.38641\n",
      "32 {'n_estimators': 200, 'learning_rate': 0.2, 'max_depth': 5, 'random_state': 1337, 'dtrain': <xgboost.core.DMatrix object at 0x0000000024576750>, 'dtest': <xgboost.core.DMatrix object at 0x00000000238BE870>}\n",
      "[0]\teval-mlogloss:1.58874\n"
     ]
    },
    {
     "name": "stderr",
     "output_type": "stream",
     "text": [
      "S:\\anaconda\\envs\\study\\Lib\\site-packages\\xgboost\\training.py:183: UserWarning: [17:17:28] WARNING: C:\\b\\abs_d97hy_84m6\\croot\\xgboost-split_1749630932152\\work\\src\\learner.cc:738: \n",
      "Parameters: { \"early_stopping_rounds\" } are not used.\n",
      "\n",
      "  bst.update(dtrain, iteration=i, fobj=obj)\n"
     ]
    },
    {
     "name": "stdout",
     "output_type": "stream",
     "text": [
      "[10]\teval-mlogloss:0.71635\n",
      "[20]\teval-mlogloss:0.56406\n",
      "[30]\teval-mlogloss:0.50879\n",
      "[40]\teval-mlogloss:0.47997\n",
      "[50]\teval-mlogloss:0.46057\n",
      "[60]\teval-mlogloss:0.44612\n",
      "[70]\teval-mlogloss:0.43397\n",
      "[80]\teval-mlogloss:0.42361\n",
      "[90]\teval-mlogloss:0.40912\n",
      "[100]\teval-mlogloss:0.39889\n",
      "[110]\teval-mlogloss:0.38941\n",
      "[120]\teval-mlogloss:0.38028\n",
      "[130]\teval-mlogloss:0.37231\n",
      "[140]\teval-mlogloss:0.36511\n",
      "[150]\teval-mlogloss:0.35848\n",
      "[160]\teval-mlogloss:0.35191\n",
      "[170]\teval-mlogloss:0.34459\n",
      "[180]\teval-mlogloss:0.33847\n",
      "[190]\teval-mlogloss:0.33318\n",
      "[199]\teval-mlogloss:0.32783\n",
      "33 {'n_estimators': 200, 'learning_rate': 0.05, 'max_depth': 3, 'random_state': 1337, 'dtrain': <xgboost.core.DMatrix object at 0x0000000024576750>, 'dtest': <xgboost.core.DMatrix object at 0x00000000238BE870>}\n",
      "[0]\teval-mlogloss:1.85912\n"
     ]
    },
    {
     "name": "stderr",
     "output_type": "stream",
     "text": [
      "S:\\anaconda\\envs\\study\\Lib\\site-packages\\xgboost\\training.py:183: UserWarning: [17:17:40] WARNING: C:\\b\\abs_d97hy_84m6\\croot\\xgboost-split_1749630932152\\work\\src\\learner.cc:738: \n",
      "Parameters: { \"early_stopping_rounds\" } are not used.\n",
      "\n",
      "  bst.update(dtrain, iteration=i, fobj=obj)\n"
     ]
    },
    {
     "name": "stdout",
     "output_type": "stream",
     "text": [
      "[10]\teval-mlogloss:1.34355\n",
      "[20]\teval-mlogloss:1.08927\n",
      "[30]\teval-mlogloss:0.93616\n",
      "[40]\teval-mlogloss:0.83851\n",
      "[50]\teval-mlogloss:0.77314\n",
      "[60]\teval-mlogloss:0.72715\n",
      "[70]\teval-mlogloss:0.69440\n",
      "[80]\teval-mlogloss:0.66899\n",
      "[90]\teval-mlogloss:0.64935\n",
      "[100]\teval-mlogloss:0.63347\n",
      "[110]\teval-mlogloss:0.62070\n",
      "[120]\teval-mlogloss:0.60990\n",
      "[130]\teval-mlogloss:0.60068\n",
      "[140]\teval-mlogloss:0.59342\n",
      "[150]\teval-mlogloss:0.58689\n",
      "[160]\teval-mlogloss:0.58125\n",
      "[170]\teval-mlogloss:0.57644\n",
      "[180]\teval-mlogloss:0.57159\n",
      "[190]\teval-mlogloss:0.56774\n",
      "[199]\teval-mlogloss:0.56408\n",
      "34 {'n_estimators': 200, 'learning_rate': 0.05, 'max_depth': 4, 'random_state': 1337, 'dtrain': <xgboost.core.DMatrix object at 0x0000000024576750>, 'dtest': <xgboost.core.DMatrix object at 0x00000000238BE870>}\n",
      "[0]\teval-mlogloss:1.85522\n"
     ]
    },
    {
     "name": "stderr",
     "output_type": "stream",
     "text": [
      "S:\\anaconda\\envs\\study\\Lib\\site-packages\\xgboost\\training.py:183: UserWarning: [17:17:51] WARNING: C:\\b\\abs_d97hy_84m6\\croot\\xgboost-split_1749630932152\\work\\src\\learner.cc:738: \n",
      "Parameters: { \"early_stopping_rounds\" } are not used.\n",
      "\n",
      "  bst.update(dtrain, iteration=i, fobj=obj)\n"
     ]
    },
    {
     "name": "stdout",
     "output_type": "stream",
     "text": [
      "[10]\teval-mlogloss:1.32040\n",
      "[20]\teval-mlogloss:1.05754\n",
      "[30]\teval-mlogloss:0.89901\n",
      "[40]\teval-mlogloss:0.79883\n",
      "[50]\teval-mlogloss:0.73071\n",
      "[60]\teval-mlogloss:0.68302\n",
      "[70]\teval-mlogloss:0.64875\n",
      "[80]\teval-mlogloss:0.62189\n",
      "[90]\teval-mlogloss:0.60135\n",
      "[100]\teval-mlogloss:0.58502\n",
      "[110]\teval-mlogloss:0.57161\n",
      "[120]\teval-mlogloss:0.56088\n",
      "[130]\teval-mlogloss:0.55170\n",
      "[140]\teval-mlogloss:0.54379\n",
      "[150]\teval-mlogloss:0.53728\n",
      "[160]\teval-mlogloss:0.53128\n",
      "[170]\teval-mlogloss:0.52578\n",
      "[180]\teval-mlogloss:0.52116\n",
      "[190]\teval-mlogloss:0.51708\n",
      "[199]\teval-mlogloss:0.51362\n",
      "35 {'n_estimators': 200, 'learning_rate': 0.05, 'max_depth': 5, 'random_state': 1337, 'dtrain': <xgboost.core.DMatrix object at 0x0000000024576750>, 'dtest': <xgboost.core.DMatrix object at 0x00000000238BE870>}\n",
      "[0]\teval-mlogloss:1.85188\n"
     ]
    },
    {
     "name": "stderr",
     "output_type": "stream",
     "text": [
      "S:\\anaconda\\envs\\study\\Lib\\site-packages\\xgboost\\training.py:183: UserWarning: [17:18:02] WARNING: C:\\b\\abs_d97hy_84m6\\croot\\xgboost-split_1749630932152\\work\\src\\learner.cc:738: \n",
      "Parameters: { \"early_stopping_rounds\" } are not used.\n",
      "\n",
      "  bst.update(dtrain, iteration=i, fobj=obj)\n"
     ]
    },
    {
     "name": "stdout",
     "output_type": "stream",
     "text": [
      "[10]\teval-mlogloss:1.29937\n",
      "[20]\teval-mlogloss:1.02821\n",
      "[30]\teval-mlogloss:0.86375\n",
      "[40]\teval-mlogloss:0.75995\n",
      "[50]\teval-mlogloss:0.68990\n",
      "[60]\teval-mlogloss:0.64137\n",
      "[70]\teval-mlogloss:0.60573\n",
      "[80]\teval-mlogloss:0.57740\n",
      "[90]\teval-mlogloss:0.55593\n",
      "[100]\teval-mlogloss:0.53889\n",
      "[110]\teval-mlogloss:0.52516\n",
      "[120]\teval-mlogloss:0.51421\n",
      "[130]\teval-mlogloss:0.50481\n",
      "[140]\teval-mlogloss:0.49707\n",
      "[150]\teval-mlogloss:0.49053\n",
      "[160]\teval-mlogloss:0.48464\n",
      "[170]\teval-mlogloss:0.47932\n",
      "[180]\teval-mlogloss:0.47415\n",
      "[190]\teval-mlogloss:0.47015\n",
      "[199]\teval-mlogloss:0.46668\n"
     ]
    },
    {
     "name": "stderr",
     "output_type": "stream",
     "text": [
      "C:\\Users\\nikol\\AppData\\Local\\Temp\\ipykernel_14832\\3180493565.py:13: FutureWarning: Calling int on a single element Series is deprecated and will raise a TypeError in the future. Use int(ser.iloc[0]) instead\n",
      "  num_classes = int(d[d.target_features].nunique()) # ИСПРАВЛЕНИЕ: Количество уникальных классов\n"
     ]
    },
    {
     "name": "stdout",
     "output_type": "stream",
     "text": [
      "36\n",
      "0 {'n_estimators': 100, 'learning_rate': 0.1, 'max_depth': 3, 'random_state': 1337, 'dtrain': <xgboost.core.DMatrix object at 0x000000002422CB30>, 'dtest': <xgboost.core.DMatrix object at 0x000000002422F4A0>}\n",
      "[0]\teval-mlogloss:1.77705\n"
     ]
    },
    {
     "name": "stderr",
     "output_type": "stream",
     "text": [
      "S:\\anaconda\\envs\\study\\Lib\\site-packages\\xgboost\\training.py:183: UserWarning: [17:18:15] WARNING: C:\\b\\abs_d97hy_84m6\\croot\\xgboost-split_1749630932152\\work\\src\\learner.cc:738: \n",
      "Parameters: { \"early_stopping_rounds\" } are not used.\n",
      "\n",
      "  bst.update(dtrain, iteration=i, fobj=obj)\n"
     ]
    },
    {
     "name": "stdout",
     "output_type": "stream",
     "text": [
      "[10]\teval-mlogloss:1.05943\n",
      "[20]\teval-mlogloss:0.82976\n",
      "[30]\teval-mlogloss:0.72144\n",
      "[40]\teval-mlogloss:0.66603\n",
      "[50]\teval-mlogloss:0.63138\n",
      "[60]\teval-mlogloss:0.60806\n",
      "[70]\teval-mlogloss:0.59233\n",
      "[80]\teval-mlogloss:0.57990\n",
      "[90]\teval-mlogloss:0.57007\n",
      "[99]\teval-mlogloss:0.56314\n",
      "1 {'n_estimators': 100, 'learning_rate': 0.1, 'max_depth': 4, 'random_state': 1337, 'dtrain': <xgboost.core.DMatrix object at 0x000000002422CB30>, 'dtest': <xgboost.core.DMatrix object at 0x000000002422F4A0>}\n",
      "[0]\teval-mlogloss:1.76947\n"
     ]
    },
    {
     "name": "stderr",
     "output_type": "stream",
     "text": [
      "S:\\anaconda\\envs\\study\\Lib\\site-packages\\xgboost\\training.py:183: UserWarning: [17:18:20] WARNING: C:\\b\\abs_d97hy_84m6\\croot\\xgboost-split_1749630932152\\work\\src\\learner.cc:738: \n",
      "Parameters: { \"early_stopping_rounds\" } are not used.\n",
      "\n",
      "  bst.update(dtrain, iteration=i, fobj=obj)\n"
     ]
    },
    {
     "name": "stdout",
     "output_type": "stream",
     "text": [
      "[10]\teval-mlogloss:1.02704\n",
      "[20]\teval-mlogloss:0.79058\n",
      "[30]\teval-mlogloss:0.67789\n",
      "[40]\teval-mlogloss:0.61891\n",
      "[50]\teval-mlogloss:0.58247\n",
      "[60]\teval-mlogloss:0.55862\n",
      "[70]\teval-mlogloss:0.54226\n",
      "[80]\teval-mlogloss:0.52990\n",
      "[90]\teval-mlogloss:0.51958\n",
      "[99]\teval-mlogloss:0.51182\n",
      "2 {'n_estimators': 100, 'learning_rate': 0.1, 'max_depth': 5, 'random_state': 1337, 'dtrain': <xgboost.core.DMatrix object at 0x000000002422CB30>, 'dtest': <xgboost.core.DMatrix object at 0x000000002422F4A0>}\n",
      "[0]\teval-mlogloss:1.76321\n"
     ]
    },
    {
     "name": "stderr",
     "output_type": "stream",
     "text": [
      "S:\\anaconda\\envs\\study\\Lib\\site-packages\\xgboost\\training.py:183: UserWarning: [17:18:26] WARNING: C:\\b\\abs_d97hy_84m6\\croot\\xgboost-split_1749630932152\\work\\src\\learner.cc:738: \n",
      "Parameters: { \"early_stopping_rounds\" } are not used.\n",
      "\n",
      "  bst.update(dtrain, iteration=i, fobj=obj)\n"
     ]
    },
    {
     "name": "stdout",
     "output_type": "stream",
     "text": [
      "[10]\teval-mlogloss:0.99617\n",
      "[20]\teval-mlogloss:0.75068\n",
      "[30]\teval-mlogloss:0.63531\n",
      "[40]\teval-mlogloss:0.57454\n",
      "[50]\teval-mlogloss:0.53693\n",
      "[60]\teval-mlogloss:0.51197\n",
      "[70]\teval-mlogloss:0.49462\n",
      "[80]\teval-mlogloss:0.48291\n",
      "[90]\teval-mlogloss:0.47299\n",
      "[99]\teval-mlogloss:0.46564\n",
      "3 {'n_estimators': 100, 'learning_rate': 0.2, 'max_depth': 3, 'random_state': 1337, 'dtrain': <xgboost.core.DMatrix object at 0x000000002422CB30>, 'dtest': <xgboost.core.DMatrix object at 0x000000002422F4A0>}\n",
      "[0]\teval-mlogloss:1.61986\n"
     ]
    },
    {
     "name": "stderr",
     "output_type": "stream",
     "text": [
      "S:\\anaconda\\envs\\study\\Lib\\site-packages\\xgboost\\training.py:183: UserWarning: [17:18:31] WARNING: C:\\b\\abs_d97hy_84m6\\croot\\xgboost-split_1749630932152\\work\\src\\learner.cc:738: \n",
      "Parameters: { \"early_stopping_rounds\" } are not used.\n",
      "\n",
      "  bst.update(dtrain, iteration=i, fobj=obj)\n"
     ]
    },
    {
     "name": "stdout",
     "output_type": "stream",
     "text": [
      "[10]\teval-mlogloss:0.80007\n",
      "[20]\teval-mlogloss:0.65702\n",
      "[30]\teval-mlogloss:0.60225\n",
      "[40]\teval-mlogloss:0.57563\n",
      "[50]\teval-mlogloss:0.55857\n",
      "[60]\teval-mlogloss:0.54540\n",
      "[70]\teval-mlogloss:0.53414\n",
      "[80]\teval-mlogloss:0.52387\n",
      "[90]\teval-mlogloss:0.51560\n",
      "[99]\teval-mlogloss:0.50876\n",
      "4 {'n_estimators': 100, 'learning_rate': 0.2, 'max_depth': 4, 'random_state': 1337, 'dtrain': <xgboost.core.DMatrix object at 0x000000002422CB30>, 'dtest': <xgboost.core.DMatrix object at 0x000000002422F4A0>}\n",
      "[0]\teval-mlogloss:1.60526\n"
     ]
    },
    {
     "name": "stderr",
     "output_type": "stream",
     "text": [
      "S:\\anaconda\\envs\\study\\Lib\\site-packages\\xgboost\\training.py:183: UserWarning: [17:18:37] WARNING: C:\\b\\abs_d97hy_84m6\\croot\\xgboost-split_1749630932152\\work\\src\\learner.cc:738: \n",
      "Parameters: { \"early_stopping_rounds\" } are not used.\n",
      "\n",
      "  bst.update(dtrain, iteration=i, fobj=obj)\n"
     ]
    },
    {
     "name": "stdout",
     "output_type": "stream",
     "text": [
      "[10]\teval-mlogloss:0.75865\n",
      "[20]\teval-mlogloss:0.61046\n",
      "[30]\teval-mlogloss:0.55356\n",
      "[40]\teval-mlogloss:0.52686\n",
      "[50]\teval-mlogloss:0.50903\n",
      "[60]\teval-mlogloss:0.49513\n",
      "[70]\teval-mlogloss:0.48288\n",
      "[80]\teval-mlogloss:0.47179\n",
      "[90]\teval-mlogloss:0.46194\n",
      "[99]\teval-mlogloss:0.45309\n",
      "5 {'n_estimators': 100, 'learning_rate': 0.2, 'max_depth': 5, 'random_state': 1337, 'dtrain': <xgboost.core.DMatrix object at 0x000000002422CB30>, 'dtest': <xgboost.core.DMatrix object at 0x000000002422F4A0>}\n",
      "[0]\teval-mlogloss:1.59327\n"
     ]
    },
    {
     "name": "stderr",
     "output_type": "stream",
     "text": [
      "S:\\anaconda\\envs\\study\\Lib\\site-packages\\xgboost\\training.py:183: UserWarning: [17:18:42] WARNING: C:\\b\\abs_d97hy_84m6\\croot\\xgboost-split_1749630932152\\work\\src\\learner.cc:738: \n",
      "Parameters: { \"early_stopping_rounds\" } are not used.\n",
      "\n",
      "  bst.update(dtrain, iteration=i, fobj=obj)\n"
     ]
    },
    {
     "name": "stdout",
     "output_type": "stream",
     "text": [
      "[10]\teval-mlogloss:0.72036\n",
      "[20]\teval-mlogloss:0.56835\n",
      "[30]\teval-mlogloss:0.50814\n",
      "[40]\teval-mlogloss:0.48090\n",
      "[50]\teval-mlogloss:0.46243\n",
      "[60]\teval-mlogloss:0.44708\n",
      "[70]\teval-mlogloss:0.43401\n",
      "[80]\teval-mlogloss:0.42201\n",
      "[90]\teval-mlogloss:0.41009\n",
      "[99]\teval-mlogloss:0.40052\n",
      "6 {'n_estimators': 100, 'learning_rate': 0.05, 'max_depth': 3, 'random_state': 1337, 'dtrain': <xgboost.core.DMatrix object at 0x000000002422CB30>, 'dtest': <xgboost.core.DMatrix object at 0x000000002422F4A0>}\n",
      "[0]\teval-mlogloss:1.86012\n"
     ]
    },
    {
     "name": "stderr",
     "output_type": "stream",
     "text": [
      "S:\\anaconda\\envs\\study\\Lib\\site-packages\\xgboost\\training.py:183: UserWarning: [17:18:48] WARNING: C:\\b\\abs_d97hy_84m6\\croot\\xgboost-split_1749630932152\\work\\src\\learner.cc:738: \n",
      "Parameters: { \"early_stopping_rounds\" } are not used.\n",
      "\n",
      "  bst.update(dtrain, iteration=i, fobj=obj)\n"
     ]
    },
    {
     "name": "stdout",
     "output_type": "stream",
     "text": [
      "[10]\teval-mlogloss:1.34535\n",
      "[20]\teval-mlogloss:1.09649\n",
      "[30]\teval-mlogloss:0.94015\n",
      "[40]\teval-mlogloss:0.84173\n",
      "[50]\teval-mlogloss:0.77538\n",
      "[60]\teval-mlogloss:0.72895\n",
      "[70]\teval-mlogloss:0.69478\n",
      "[80]\teval-mlogloss:0.66922\n",
      "[90]\teval-mlogloss:0.64955\n",
      "[99]\teval-mlogloss:0.63540\n",
      "7 {'n_estimators': 100, 'learning_rate': 0.05, 'max_depth': 4, 'random_state': 1337, 'dtrain': <xgboost.core.DMatrix object at 0x000000002422CB30>, 'dtest': <xgboost.core.DMatrix object at 0x000000002422F4A0>}\n",
      "[0]\teval-mlogloss:1.85627\n"
     ]
    },
    {
     "name": "stderr",
     "output_type": "stream",
     "text": [
      "S:\\anaconda\\envs\\study\\Lib\\site-packages\\xgboost\\training.py:183: UserWarning: [17:18:53] WARNING: C:\\b\\abs_d97hy_84m6\\croot\\xgboost-split_1749630932152\\work\\src\\learner.cc:738: \n",
      "Parameters: { \"early_stopping_rounds\" } are not used.\n",
      "\n",
      "  bst.update(dtrain, iteration=i, fobj=obj)\n"
     ]
    },
    {
     "name": "stdout",
     "output_type": "stream",
     "text": [
      "[10]\teval-mlogloss:1.32314\n",
      "[20]\teval-mlogloss:1.06544\n",
      "[30]\teval-mlogloss:0.90337\n",
      "[40]\teval-mlogloss:0.80123\n",
      "[50]\teval-mlogloss:0.73219\n",
      "[60]\teval-mlogloss:0.68425\n",
      "[70]\teval-mlogloss:0.64832\n",
      "[80]\teval-mlogloss:0.62118\n",
      "[90]\teval-mlogloss:0.60036\n",
      "[99]\teval-mlogloss:0.58529\n",
      "8 {'n_estimators': 100, 'learning_rate': 0.05, 'max_depth': 5, 'random_state': 1337, 'dtrain': <xgboost.core.DMatrix object at 0x000000002422CB30>, 'dtest': <xgboost.core.DMatrix object at 0x000000002422F4A0>}\n",
      "[0]\teval-mlogloss:1.85309\n"
     ]
    },
    {
     "name": "stderr",
     "output_type": "stream",
     "text": [
      "S:\\anaconda\\envs\\study\\Lib\\site-packages\\xgboost\\training.py:183: UserWarning: [17:18:58] WARNING: C:\\b\\abs_d97hy_84m6\\croot\\xgboost-split_1749630932152\\work\\src\\learner.cc:738: \n",
      "Parameters: { \"early_stopping_rounds\" } are not used.\n",
      "\n",
      "  bst.update(dtrain, iteration=i, fobj=obj)\n"
     ]
    },
    {
     "name": "stdout",
     "output_type": "stream",
     "text": [
      "[10]\teval-mlogloss:1.30179\n",
      "[20]\teval-mlogloss:1.03575\n",
      "[30]\teval-mlogloss:0.86817\n",
      "[40]\teval-mlogloss:0.76213\n",
      "[50]\teval-mlogloss:0.69114\n",
      "[60]\teval-mlogloss:0.64160\n",
      "[70]\teval-mlogloss:0.60533\n",
      "[80]\teval-mlogloss:0.57704\n",
      "[90]\teval-mlogloss:0.55537\n",
      "[99]\teval-mlogloss:0.53988\n",
      "9 {'n_estimators': 50, 'learning_rate': 0.1, 'max_depth': 3, 'random_state': 1337, 'dtrain': <xgboost.core.DMatrix object at 0x000000002422CB30>, 'dtest': <xgboost.core.DMatrix object at 0x000000002422F4A0>}\n",
      "[0]\teval-mlogloss:1.77705\n"
     ]
    },
    {
     "name": "stderr",
     "output_type": "stream",
     "text": [
      "S:\\anaconda\\envs\\study\\Lib\\site-packages\\xgboost\\training.py:183: UserWarning: [17:19:04] WARNING: C:\\b\\abs_d97hy_84m6\\croot\\xgboost-split_1749630932152\\work\\src\\learner.cc:738: \n",
      "Parameters: { \"early_stopping_rounds\" } are not used.\n",
      "\n",
      "  bst.update(dtrain, iteration=i, fobj=obj)\n"
     ]
    },
    {
     "name": "stdout",
     "output_type": "stream",
     "text": [
      "[10]\teval-mlogloss:1.05943\n",
      "[20]\teval-mlogloss:0.82976\n",
      "[30]\teval-mlogloss:0.72144\n",
      "[40]\teval-mlogloss:0.66603\n",
      "[49]\teval-mlogloss:0.63407\n",
      "10 {'n_estimators': 50, 'learning_rate': 0.1, 'max_depth': 4, 'random_state': 1337, 'dtrain': <xgboost.core.DMatrix object at 0x000000002422CB30>, 'dtest': <xgboost.core.DMatrix object at 0x000000002422F4A0>}\n",
      "[0]\teval-mlogloss:1.76947\n"
     ]
    },
    {
     "name": "stderr",
     "output_type": "stream",
     "text": [
      "S:\\anaconda\\envs\\study\\Lib\\site-packages\\xgboost\\training.py:183: UserWarning: [17:19:07] WARNING: C:\\b\\abs_d97hy_84m6\\croot\\xgboost-split_1749630932152\\work\\src\\learner.cc:738: \n",
      "Parameters: { \"early_stopping_rounds\" } are not used.\n",
      "\n",
      "  bst.update(dtrain, iteration=i, fobj=obj)\n"
     ]
    },
    {
     "name": "stdout",
     "output_type": "stream",
     "text": [
      "[10]\teval-mlogloss:1.02704\n",
      "[20]\teval-mlogloss:0.79058\n",
      "[30]\teval-mlogloss:0.67789\n",
      "[40]\teval-mlogloss:0.61891\n",
      "[49]\teval-mlogloss:0.58495\n",
      "11 {'n_estimators': 50, 'learning_rate': 0.1, 'max_depth': 5, 'random_state': 1337, 'dtrain': <xgboost.core.DMatrix object at 0x000000002422CB30>, 'dtest': <xgboost.core.DMatrix object at 0x000000002422F4A0>}\n",
      "[0]\teval-mlogloss:1.76321\n"
     ]
    },
    {
     "name": "stderr",
     "output_type": "stream",
     "text": [
      "S:\\anaconda\\envs\\study\\Lib\\site-packages\\xgboost\\training.py:183: UserWarning: [17:19:10] WARNING: C:\\b\\abs_d97hy_84m6\\croot\\xgboost-split_1749630932152\\work\\src\\learner.cc:738: \n",
      "Parameters: { \"early_stopping_rounds\" } are not used.\n",
      "\n",
      "  bst.update(dtrain, iteration=i, fobj=obj)\n"
     ]
    },
    {
     "name": "stdout",
     "output_type": "stream",
     "text": [
      "[10]\teval-mlogloss:0.99617\n",
      "[20]\teval-mlogloss:0.75068\n",
      "[30]\teval-mlogloss:0.63531\n",
      "[40]\teval-mlogloss:0.57454\n",
      "[49]\teval-mlogloss:0.53957\n",
      "12 {'n_estimators': 50, 'learning_rate': 0.2, 'max_depth': 3, 'random_state': 1337, 'dtrain': <xgboost.core.DMatrix object at 0x000000002422CB30>, 'dtest': <xgboost.core.DMatrix object at 0x000000002422F4A0>}\n",
      "[0]\teval-mlogloss:1.61986\n"
     ]
    },
    {
     "name": "stderr",
     "output_type": "stream",
     "text": [
      "S:\\anaconda\\envs\\study\\Lib\\site-packages\\xgboost\\training.py:183: UserWarning: [17:19:12] WARNING: C:\\b\\abs_d97hy_84m6\\croot\\xgboost-split_1749630932152\\work\\src\\learner.cc:738: \n",
      "Parameters: { \"early_stopping_rounds\" } are not used.\n",
      "\n",
      "  bst.update(dtrain, iteration=i, fobj=obj)\n"
     ]
    },
    {
     "name": "stdout",
     "output_type": "stream",
     "text": [
      "[10]\teval-mlogloss:0.80007\n",
      "[20]\teval-mlogloss:0.65702\n",
      "[30]\teval-mlogloss:0.60225\n",
      "[40]\teval-mlogloss:0.57563\n",
      "[49]\teval-mlogloss:0.55999\n",
      "13 {'n_estimators': 50, 'learning_rate': 0.2, 'max_depth': 4, 'random_state': 1337, 'dtrain': <xgboost.core.DMatrix object at 0x000000002422CB30>, 'dtest': <xgboost.core.DMatrix object at 0x000000002422F4A0>}\n",
      "[0]\teval-mlogloss:1.60526\n"
     ]
    },
    {
     "name": "stderr",
     "output_type": "stream",
     "text": [
      "S:\\anaconda\\envs\\study\\Lib\\site-packages\\xgboost\\training.py:183: UserWarning: [17:19:15] WARNING: C:\\b\\abs_d97hy_84m6\\croot\\xgboost-split_1749630932152\\work\\src\\learner.cc:738: \n",
      "Parameters: { \"early_stopping_rounds\" } are not used.\n",
      "\n",
      "  bst.update(dtrain, iteration=i, fobj=obj)\n"
     ]
    },
    {
     "name": "stdout",
     "output_type": "stream",
     "text": [
      "[10]\teval-mlogloss:0.75865\n",
      "[20]\teval-mlogloss:0.61046\n",
      "[30]\teval-mlogloss:0.55356\n",
      "[40]\teval-mlogloss:0.52686\n",
      "[49]\teval-mlogloss:0.51028\n",
      "14 {'n_estimators': 50, 'learning_rate': 0.2, 'max_depth': 5, 'random_state': 1337, 'dtrain': <xgboost.core.DMatrix object at 0x000000002422CB30>, 'dtest': <xgboost.core.DMatrix object at 0x000000002422F4A0>}\n",
      "[0]\teval-mlogloss:1.59327\n"
     ]
    },
    {
     "name": "stderr",
     "output_type": "stream",
     "text": [
      "S:\\anaconda\\envs\\study\\Lib\\site-packages\\xgboost\\training.py:183: UserWarning: [17:19:17] WARNING: C:\\b\\abs_d97hy_84m6\\croot\\xgboost-split_1749630932152\\work\\src\\learner.cc:738: \n",
      "Parameters: { \"early_stopping_rounds\" } are not used.\n",
      "\n",
      "  bst.update(dtrain, iteration=i, fobj=obj)\n"
     ]
    },
    {
     "name": "stdout",
     "output_type": "stream",
     "text": [
      "[10]\teval-mlogloss:0.72036\n",
      "[20]\teval-mlogloss:0.56835\n",
      "[30]\teval-mlogloss:0.50814\n",
      "[40]\teval-mlogloss:0.48090\n",
      "[49]\teval-mlogloss:0.46422\n",
      "15 {'n_estimators': 50, 'learning_rate': 0.05, 'max_depth': 3, 'random_state': 1337, 'dtrain': <xgboost.core.DMatrix object at 0x000000002422CB30>, 'dtest': <xgboost.core.DMatrix object at 0x000000002422F4A0>}\n",
      "[0]\teval-mlogloss:1.86012\n"
     ]
    },
    {
     "name": "stderr",
     "output_type": "stream",
     "text": [
      "S:\\anaconda\\envs\\study\\Lib\\site-packages\\xgboost\\training.py:183: UserWarning: [17:19:20] WARNING: C:\\b\\abs_d97hy_84m6\\croot\\xgboost-split_1749630932152\\work\\src\\learner.cc:738: \n",
      "Parameters: { \"early_stopping_rounds\" } are not used.\n",
      "\n",
      "  bst.update(dtrain, iteration=i, fobj=obj)\n"
     ]
    },
    {
     "name": "stdout",
     "output_type": "stream",
     "text": [
      "[10]\teval-mlogloss:1.34535\n",
      "[20]\teval-mlogloss:1.09649\n",
      "[30]\teval-mlogloss:0.94015\n",
      "[40]\teval-mlogloss:0.84173\n",
      "[49]\teval-mlogloss:0.78098\n",
      "16 {'n_estimators': 50, 'learning_rate': 0.05, 'max_depth': 4, 'random_state': 1337, 'dtrain': <xgboost.core.DMatrix object at 0x000000002422CB30>, 'dtest': <xgboost.core.DMatrix object at 0x000000002422F4A0>}\n",
      "[0]\teval-mlogloss:1.85627\n"
     ]
    },
    {
     "name": "stderr",
     "output_type": "stream",
     "text": [
      "S:\\anaconda\\envs\\study\\Lib\\site-packages\\sklearn\\metrics\\_classification.py:1565: UndefinedMetricWarning: Precision is ill-defined and being set to 0.0 in labels with no predicted samples. Use `zero_division` parameter to control this behavior.\n",
      "  _warn_prf(average, modifier, f\"{metric.capitalize()} is\", len(result))\n",
      "S:\\anaconda\\envs\\study\\Lib\\site-packages\\sklearn\\metrics\\_classification.py:1565: UndefinedMetricWarning: Precision is ill-defined and being set to 0.0 in labels with no predicted samples. Use `zero_division` parameter to control this behavior.\n",
      "  _warn_prf(average, modifier, f\"{metric.capitalize()} is\", len(result))\n",
      "S:\\anaconda\\envs\\study\\Lib\\site-packages\\sklearn\\metrics\\_classification.py:1565: UndefinedMetricWarning: Precision is ill-defined and being set to 0.0 in labels with no predicted samples. Use `zero_division` parameter to control this behavior.\n",
      "  _warn_prf(average, modifier, f\"{metric.capitalize()} is\", len(result))\n",
      "S:\\anaconda\\envs\\study\\Lib\\site-packages\\xgboost\\training.py:183: UserWarning: [17:19:23] WARNING: C:\\b\\abs_d97hy_84m6\\croot\\xgboost-split_1749630932152\\work\\src\\learner.cc:738: \n",
      "Parameters: { \"early_stopping_rounds\" } are not used.\n",
      "\n",
      "  bst.update(dtrain, iteration=i, fobj=obj)\n"
     ]
    },
    {
     "name": "stdout",
     "output_type": "stream",
     "text": [
      "[10]\teval-mlogloss:1.32314\n",
      "[20]\teval-mlogloss:1.06544\n",
      "[30]\teval-mlogloss:0.90337\n",
      "[40]\teval-mlogloss:0.80123\n",
      "[49]\teval-mlogloss:0.73797\n",
      "17 {'n_estimators': 50, 'learning_rate': 0.05, 'max_depth': 5, 'random_state': 1337, 'dtrain': <xgboost.core.DMatrix object at 0x000000002422CB30>, 'dtest': <xgboost.core.DMatrix object at 0x000000002422F4A0>}\n",
      "[0]\teval-mlogloss:1.85309\n"
     ]
    },
    {
     "name": "stderr",
     "output_type": "stream",
     "text": [
      "S:\\anaconda\\envs\\study\\Lib\\site-packages\\xgboost\\training.py:183: UserWarning: [17:19:26] WARNING: C:\\b\\abs_d97hy_84m6\\croot\\xgboost-split_1749630932152\\work\\src\\learner.cc:738: \n",
      "Parameters: { \"early_stopping_rounds\" } are not used.\n",
      "\n",
      "  bst.update(dtrain, iteration=i, fobj=obj)\n"
     ]
    },
    {
     "name": "stdout",
     "output_type": "stream",
     "text": [
      "[10]\teval-mlogloss:1.30179\n",
      "[20]\teval-mlogloss:1.03575\n",
      "[30]\teval-mlogloss:0.86817\n",
      "[40]\teval-mlogloss:0.76213\n",
      "[49]\teval-mlogloss:0.69707\n",
      "18 {'n_estimators': 20, 'learning_rate': 0.1, 'max_depth': 3, 'random_state': 1337, 'dtrain': <xgboost.core.DMatrix object at 0x000000002422CB30>, 'dtest': <xgboost.core.DMatrix object at 0x000000002422F4A0>}\n",
      "[0]\teval-mlogloss:1.77705\n"
     ]
    },
    {
     "name": "stderr",
     "output_type": "stream",
     "text": [
      "S:\\anaconda\\envs\\study\\Lib\\site-packages\\xgboost\\training.py:183: UserWarning: [17:19:29] WARNING: C:\\b\\abs_d97hy_84m6\\croot\\xgboost-split_1749630932152\\work\\src\\learner.cc:738: \n",
      "Parameters: { \"early_stopping_rounds\" } are not used.\n",
      "\n",
      "  bst.update(dtrain, iteration=i, fobj=obj)\n"
     ]
    },
    {
     "name": "stdout",
     "output_type": "stream",
     "text": [
      "[10]\teval-mlogloss:1.05943\n",
      "[19]\teval-mlogloss:0.84383\n",
      "19 {'n_estimators': 20, 'learning_rate': 0.1, 'max_depth': 4, 'random_state': 1337, 'dtrain': <xgboost.core.DMatrix object at 0x000000002422CB30>, 'dtest': <xgboost.core.DMatrix object at 0x000000002422F4A0>}\n",
      "[0]\teval-mlogloss:1.76947\n"
     ]
    },
    {
     "name": "stderr",
     "output_type": "stream",
     "text": [
      "S:\\anaconda\\envs\\study\\Lib\\site-packages\\xgboost\\training.py:183: UserWarning: [17:19:30] WARNING: C:\\b\\abs_d97hy_84m6\\croot\\xgboost-split_1749630932152\\work\\src\\learner.cc:738: \n",
      "Parameters: { \"early_stopping_rounds\" } are not used.\n",
      "\n",
      "  bst.update(dtrain, iteration=i, fobj=obj)\n"
     ]
    },
    {
     "name": "stdout",
     "output_type": "stream",
     "text": [
      "[10]\teval-mlogloss:1.02704\n",
      "[19]\teval-mlogloss:0.80501\n",
      "20 {'n_estimators': 20, 'learning_rate': 0.1, 'max_depth': 5, 'random_state': 1337, 'dtrain': <xgboost.core.DMatrix object at 0x000000002422CB30>, 'dtest': <xgboost.core.DMatrix object at 0x000000002422F4A0>}\n",
      "[0]\teval-mlogloss:1.76321\n"
     ]
    },
    {
     "name": "stderr",
     "output_type": "stream",
     "text": [
      "S:\\anaconda\\envs\\study\\Lib\\site-packages\\xgboost\\training.py:183: UserWarning: [17:19:31] WARNING: C:\\b\\abs_d97hy_84m6\\croot\\xgboost-split_1749630932152\\work\\src\\learner.cc:738: \n",
      "Parameters: { \"early_stopping_rounds\" } are not used.\n",
      "\n",
      "  bst.update(dtrain, iteration=i, fobj=obj)\n"
     ]
    },
    {
     "name": "stdout",
     "output_type": "stream",
     "text": [
      "[10]\teval-mlogloss:0.99617\n",
      "[19]\teval-mlogloss:0.76589\n",
      "21 {'n_estimators': 20, 'learning_rate': 0.2, 'max_depth': 3, 'random_state': 1337, 'dtrain': <xgboost.core.DMatrix object at 0x000000002422CB30>, 'dtest': <xgboost.core.DMatrix object at 0x000000002422F4A0>}\n",
      "[0]\teval-mlogloss:1.61986\n"
     ]
    },
    {
     "name": "stderr",
     "output_type": "stream",
     "text": [
      "S:\\anaconda\\envs\\study\\Lib\\site-packages\\xgboost\\training.py:183: UserWarning: [17:19:32] WARNING: C:\\b\\abs_d97hy_84m6\\croot\\xgboost-split_1749630932152\\work\\src\\learner.cc:738: \n",
      "Parameters: { \"early_stopping_rounds\" } are not used.\n",
      "\n",
      "  bst.update(dtrain, iteration=i, fobj=obj)\n"
     ]
    },
    {
     "name": "stdout",
     "output_type": "stream",
     "text": [
      "[10]\teval-mlogloss:0.80007\n",
      "[19]\teval-mlogloss:0.66468\n",
      "22 {'n_estimators': 20, 'learning_rate': 0.2, 'max_depth': 4, 'random_state': 1337, 'dtrain': <xgboost.core.DMatrix object at 0x000000002422CB30>, 'dtest': <xgboost.core.DMatrix object at 0x000000002422F4A0>}\n",
      "[0]\teval-mlogloss:1.60526\n"
     ]
    },
    {
     "name": "stderr",
     "output_type": "stream",
     "text": [
      "S:\\anaconda\\envs\\study\\Lib\\site-packages\\sklearn\\metrics\\_classification.py:1565: UndefinedMetricWarning: Precision is ill-defined and being set to 0.0 in labels with no predicted samples. Use `zero_division` parameter to control this behavior.\n",
      "  _warn_prf(average, modifier, f\"{metric.capitalize()} is\", len(result))\n",
      "S:\\anaconda\\envs\\study\\Lib\\site-packages\\sklearn\\metrics\\_classification.py:1565: UndefinedMetricWarning: Precision is ill-defined and being set to 0.0 in labels with no predicted samples. Use `zero_division` parameter to control this behavior.\n",
      "  _warn_prf(average, modifier, f\"{metric.capitalize()} is\", len(result))\n",
      "S:\\anaconda\\envs\\study\\Lib\\site-packages\\sklearn\\metrics\\_classification.py:1565: UndefinedMetricWarning: Precision is ill-defined and being set to 0.0 in labels with no predicted samples. Use `zero_division` parameter to control this behavior.\n",
      "  _warn_prf(average, modifier, f\"{metric.capitalize()} is\", len(result))\n",
      "S:\\anaconda\\envs\\study\\Lib\\site-packages\\xgboost\\training.py:183: UserWarning: [17:19:33] WARNING: C:\\b\\abs_d97hy_84m6\\croot\\xgboost-split_1749630932152\\work\\src\\learner.cc:738: \n",
      "Parameters: { \"early_stopping_rounds\" } are not used.\n",
      "\n",
      "  bst.update(dtrain, iteration=i, fobj=obj)\n"
     ]
    },
    {
     "name": "stdout",
     "output_type": "stream",
     "text": [
      "[10]\teval-mlogloss:0.75865\n",
      "[19]\teval-mlogloss:0.61848\n",
      "23 {'n_estimators': 20, 'learning_rate': 0.2, 'max_depth': 5, 'random_state': 1337, 'dtrain': <xgboost.core.DMatrix object at 0x000000002422CB30>, 'dtest': <xgboost.core.DMatrix object at 0x000000002422F4A0>}\n",
      "[0]\teval-mlogloss:1.59327\n"
     ]
    },
    {
     "name": "stderr",
     "output_type": "stream",
     "text": [
      "S:\\anaconda\\envs\\study\\Lib\\site-packages\\xgboost\\training.py:183: UserWarning: [17:19:34] WARNING: C:\\b\\abs_d97hy_84m6\\croot\\xgboost-split_1749630932152\\work\\src\\learner.cc:738: \n",
      "Parameters: { \"early_stopping_rounds\" } are not used.\n",
      "\n",
      "  bst.update(dtrain, iteration=i, fobj=obj)\n"
     ]
    },
    {
     "name": "stdout",
     "output_type": "stream",
     "text": [
      "[10]\teval-mlogloss:0.72036\n",
      "[19]\teval-mlogloss:0.57661\n",
      "24 {'n_estimators': 20, 'learning_rate': 0.05, 'max_depth': 3, 'random_state': 1337, 'dtrain': <xgboost.core.DMatrix object at 0x000000002422CB30>, 'dtest': <xgboost.core.DMatrix object at 0x000000002422F4A0>}\n",
      "[0]\teval-mlogloss:1.86012\n"
     ]
    },
    {
     "name": "stderr",
     "output_type": "stream",
     "text": [
      "S:\\anaconda\\envs\\study\\Lib\\site-packages\\xgboost\\training.py:183: UserWarning: [17:19:35] WARNING: C:\\b\\abs_d97hy_84m6\\croot\\xgboost-split_1749630932152\\work\\src\\learner.cc:738: \n",
      "Parameters: { \"early_stopping_rounds\" } are not used.\n",
      "\n",
      "  bst.update(dtrain, iteration=i, fobj=obj)\n"
     ]
    },
    {
     "name": "stdout",
     "output_type": "stream",
     "text": [
      "[10]\teval-mlogloss:1.34535\n",
      "[19]\teval-mlogloss:1.11401\n",
      "25 {'n_estimators': 20, 'learning_rate': 0.05, 'max_depth': 4, 'random_state': 1337, 'dtrain': <xgboost.core.DMatrix object at 0x000000002422CB30>, 'dtest': <xgboost.core.DMatrix object at 0x000000002422F4A0>}\n",
      "[0]\teval-mlogloss:1.85627\n"
     ]
    },
    {
     "name": "stderr",
     "output_type": "stream",
     "text": [
      "S:\\anaconda\\envs\\study\\Lib\\site-packages\\xgboost\\training.py:183: UserWarning: [17:19:36] WARNING: C:\\b\\abs_d97hy_84m6\\croot\\xgboost-split_1749630932152\\work\\src\\learner.cc:738: \n",
      "Parameters: { \"early_stopping_rounds\" } are not used.\n",
      "\n",
      "  bst.update(dtrain, iteration=i, fobj=obj)\n"
     ]
    },
    {
     "name": "stdout",
     "output_type": "stream",
     "text": [
      "[10]\teval-mlogloss:1.32314\n",
      "[19]\teval-mlogloss:1.08347\n",
      "26 {'n_estimators': 20, 'learning_rate': 0.05, 'max_depth': 5, 'random_state': 1337, 'dtrain': <xgboost.core.DMatrix object at 0x000000002422CB30>, 'dtest': <xgboost.core.DMatrix object at 0x000000002422F4A0>}\n",
      "[0]\teval-mlogloss:1.85309\n"
     ]
    },
    {
     "name": "stderr",
     "output_type": "stream",
     "text": [
      "S:\\anaconda\\envs\\study\\Lib\\site-packages\\xgboost\\training.py:183: UserWarning: [17:19:37] WARNING: C:\\b\\abs_d97hy_84m6\\croot\\xgboost-split_1749630932152\\work\\src\\learner.cc:738: \n",
      "Parameters: { \"early_stopping_rounds\" } are not used.\n",
      "\n",
      "  bst.update(dtrain, iteration=i, fobj=obj)\n"
     ]
    },
    {
     "name": "stdout",
     "output_type": "stream",
     "text": [
      "[10]\teval-mlogloss:1.30179\n",
      "[19]\teval-mlogloss:1.05441\n",
      "27 {'n_estimators': 200, 'learning_rate': 0.1, 'max_depth': 3, 'random_state': 1337, 'dtrain': <xgboost.core.DMatrix object at 0x000000002422CB30>, 'dtest': <xgboost.core.DMatrix object at 0x000000002422F4A0>}\n",
      "[0]\teval-mlogloss:1.77705\n"
     ]
    },
    {
     "name": "stderr",
     "output_type": "stream",
     "text": [
      "S:\\anaconda\\envs\\study\\Lib\\site-packages\\xgboost\\training.py:183: UserWarning: [17:19:38] WARNING: C:\\b\\abs_d97hy_84m6\\croot\\xgboost-split_1749630932152\\work\\src\\learner.cc:738: \n",
      "Parameters: { \"early_stopping_rounds\" } are not used.\n",
      "\n",
      "  bst.update(dtrain, iteration=i, fobj=obj)\n"
     ]
    },
    {
     "name": "stdout",
     "output_type": "stream",
     "text": [
      "[10]\teval-mlogloss:1.05943\n",
      "[20]\teval-mlogloss:0.82976\n",
      "[30]\teval-mlogloss:0.72144\n",
      "[40]\teval-mlogloss:0.66603\n",
      "[50]\teval-mlogloss:0.63138\n",
      "[60]\teval-mlogloss:0.60806\n",
      "[70]\teval-mlogloss:0.59233\n",
      "[80]\teval-mlogloss:0.57990\n",
      "[90]\teval-mlogloss:0.57007\n",
      "[100]\teval-mlogloss:0.56234\n",
      "[110]\teval-mlogloss:0.55521\n",
      "[120]\teval-mlogloss:0.54891\n",
      "[130]\teval-mlogloss:0.54306\n",
      "[140]\teval-mlogloss:0.53759\n",
      "[150]\teval-mlogloss:0.53200\n",
      "[160]\teval-mlogloss:0.52789\n",
      "[170]\teval-mlogloss:0.52288\n",
      "[180]\teval-mlogloss:0.51880\n",
      "[190]\teval-mlogloss:0.51516\n",
      "[199]\teval-mlogloss:0.51152\n",
      "28 {'n_estimators': 200, 'learning_rate': 0.1, 'max_depth': 4, 'random_state': 1337, 'dtrain': <xgboost.core.DMatrix object at 0x000000002422CB30>, 'dtest': <xgboost.core.DMatrix object at 0x000000002422F4A0>}\n",
      "[0]\teval-mlogloss:1.76947\n"
     ]
    },
    {
     "name": "stderr",
     "output_type": "stream",
     "text": [
      "S:\\anaconda\\envs\\study\\Lib\\site-packages\\xgboost\\training.py:183: UserWarning: [17:19:49] WARNING: C:\\b\\abs_d97hy_84m6\\croot\\xgboost-split_1749630932152\\work\\src\\learner.cc:738: \n",
      "Parameters: { \"early_stopping_rounds\" } are not used.\n",
      "\n",
      "  bst.update(dtrain, iteration=i, fobj=obj)\n"
     ]
    },
    {
     "name": "stdout",
     "output_type": "stream",
     "text": [
      "[10]\teval-mlogloss:1.02704\n",
      "[20]\teval-mlogloss:0.79058\n",
      "[30]\teval-mlogloss:0.67789\n",
      "[40]\teval-mlogloss:0.61891\n",
      "[50]\teval-mlogloss:0.58247\n",
      "[60]\teval-mlogloss:0.55862\n",
      "[70]\teval-mlogloss:0.54226\n",
      "[80]\teval-mlogloss:0.52990\n",
      "[90]\teval-mlogloss:0.51958\n",
      "[100]\teval-mlogloss:0.51054\n",
      "[110]\teval-mlogloss:0.50331\n",
      "[120]\teval-mlogloss:0.49663\n",
      "[130]\teval-mlogloss:0.49025\n",
      "[140]\teval-mlogloss:0.48454\n",
      "[150]\teval-mlogloss:0.47870\n",
      "[160]\teval-mlogloss:0.47382\n",
      "[170]\teval-mlogloss:0.46864\n",
      "[180]\teval-mlogloss:0.46360\n",
      "[190]\teval-mlogloss:0.45950\n",
      "[199]\teval-mlogloss:0.45532\n",
      "29 {'n_estimators': 200, 'learning_rate': 0.1, 'max_depth': 5, 'random_state': 1337, 'dtrain': <xgboost.core.DMatrix object at 0x000000002422CB30>, 'dtest': <xgboost.core.DMatrix object at 0x000000002422F4A0>}\n",
      "[0]\teval-mlogloss:1.76321\n"
     ]
    },
    {
     "name": "stderr",
     "output_type": "stream",
     "text": [
      "S:\\anaconda\\envs\\study\\Lib\\site-packages\\xgboost\\training.py:183: UserWarning: [17:20:00] WARNING: C:\\b\\abs_d97hy_84m6\\croot\\xgboost-split_1749630932152\\work\\src\\learner.cc:738: \n",
      "Parameters: { \"early_stopping_rounds\" } are not used.\n",
      "\n",
      "  bst.update(dtrain, iteration=i, fobj=obj)\n"
     ]
    },
    {
     "name": "stdout",
     "output_type": "stream",
     "text": [
      "[10]\teval-mlogloss:0.99617\n",
      "[20]\teval-mlogloss:0.75068\n",
      "[30]\teval-mlogloss:0.63531\n",
      "[40]\teval-mlogloss:0.57454\n",
      "[50]\teval-mlogloss:0.53693\n",
      "[60]\teval-mlogloss:0.51197\n",
      "[70]\teval-mlogloss:0.49462\n",
      "[80]\teval-mlogloss:0.48291\n",
      "[90]\teval-mlogloss:0.47299\n",
      "[100]\teval-mlogloss:0.46458\n",
      "[110]\teval-mlogloss:0.45698\n",
      "[120]\teval-mlogloss:0.45018\n",
      "[130]\teval-mlogloss:0.44393\n",
      "[140]\teval-mlogloss:0.43843\n",
      "[150]\teval-mlogloss:0.43167\n",
      "[160]\teval-mlogloss:0.42616\n",
      "[170]\teval-mlogloss:0.42041\n",
      "[180]\teval-mlogloss:0.41463\n",
      "[190]\teval-mlogloss:0.40986\n",
      "[199]\teval-mlogloss:0.40448\n",
      "30 {'n_estimators': 200, 'learning_rate': 0.2, 'max_depth': 3, 'random_state': 1337, 'dtrain': <xgboost.core.DMatrix object at 0x000000002422CB30>, 'dtest': <xgboost.core.DMatrix object at 0x000000002422F4A0>}\n",
      "[0]\teval-mlogloss:1.61986\n"
     ]
    },
    {
     "name": "stderr",
     "output_type": "stream",
     "text": [
      "S:\\anaconda\\envs\\study\\Lib\\site-packages\\xgboost\\training.py:183: UserWarning: [17:20:12] WARNING: C:\\b\\abs_d97hy_84m6\\croot\\xgboost-split_1749630932152\\work\\src\\learner.cc:738: \n",
      "Parameters: { \"early_stopping_rounds\" } are not used.\n",
      "\n",
      "  bst.update(dtrain, iteration=i, fobj=obj)\n"
     ]
    },
    {
     "name": "stdout",
     "output_type": "stream",
     "text": [
      "[10]\teval-mlogloss:0.80007\n",
      "[20]\teval-mlogloss:0.65702\n",
      "[30]\teval-mlogloss:0.60225\n",
      "[40]\teval-mlogloss:0.57563\n",
      "[50]\teval-mlogloss:0.55857\n",
      "[60]\teval-mlogloss:0.54540\n",
      "[70]\teval-mlogloss:0.53414\n",
      "[80]\teval-mlogloss:0.52387\n",
      "[90]\teval-mlogloss:0.51560\n",
      "[100]\teval-mlogloss:0.50806\n",
      "[110]\teval-mlogloss:0.50092\n",
      "[120]\teval-mlogloss:0.49393\n",
      "[130]\teval-mlogloss:0.48756\n",
      "[140]\teval-mlogloss:0.48272\n",
      "[150]\teval-mlogloss:0.47673\n",
      "[160]\teval-mlogloss:0.47198\n",
      "[170]\teval-mlogloss:0.46816\n",
      "[180]\teval-mlogloss:0.46328\n",
      "[190]\teval-mlogloss:0.45953\n",
      "[199]\teval-mlogloss:0.45527\n",
      "31 {'n_estimators': 200, 'learning_rate': 0.2, 'max_depth': 4, 'random_state': 1337, 'dtrain': <xgboost.core.DMatrix object at 0x000000002422CB30>, 'dtest': <xgboost.core.DMatrix object at 0x000000002422F4A0>}\n",
      "[0]\teval-mlogloss:1.60526\n"
     ]
    },
    {
     "name": "stderr",
     "output_type": "stream",
     "text": [
      "S:\\anaconda\\envs\\study\\Lib\\site-packages\\xgboost\\training.py:183: UserWarning: [17:20:22] WARNING: C:\\b\\abs_d97hy_84m6\\croot\\xgboost-split_1749630932152\\work\\src\\learner.cc:738: \n",
      "Parameters: { \"early_stopping_rounds\" } are not used.\n",
      "\n",
      "  bst.update(dtrain, iteration=i, fobj=obj)\n"
     ]
    },
    {
     "name": "stdout",
     "output_type": "stream",
     "text": [
      "[10]\teval-mlogloss:0.75865\n",
      "[20]\teval-mlogloss:0.61046\n",
      "[30]\teval-mlogloss:0.55356\n",
      "[40]\teval-mlogloss:0.52686\n",
      "[50]\teval-mlogloss:0.50903\n",
      "[60]\teval-mlogloss:0.49513\n",
      "[70]\teval-mlogloss:0.48288\n",
      "[80]\teval-mlogloss:0.47179\n",
      "[90]\teval-mlogloss:0.46194\n",
      "[100]\teval-mlogloss:0.45232\n",
      "[110]\teval-mlogloss:0.44444\n",
      "[120]\teval-mlogloss:0.43503\n",
      "[130]\teval-mlogloss:0.42809\n",
      "[140]\teval-mlogloss:0.42197\n",
      "[150]\teval-mlogloss:0.41601\n",
      "[160]\teval-mlogloss:0.41049\n",
      "[170]\teval-mlogloss:0.40372\n",
      "[180]\teval-mlogloss:0.39779\n",
      "[190]\teval-mlogloss:0.39277\n",
      "[199]\teval-mlogloss:0.38840\n",
      "32 {'n_estimators': 200, 'learning_rate': 0.2, 'max_depth': 5, 'random_state': 1337, 'dtrain': <xgboost.core.DMatrix object at 0x000000002422CB30>, 'dtest': <xgboost.core.DMatrix object at 0x000000002422F4A0>}\n",
      "[0]\teval-mlogloss:1.59327\n"
     ]
    },
    {
     "name": "stderr",
     "output_type": "stream",
     "text": [
      "S:\\anaconda\\envs\\study\\Lib\\site-packages\\xgboost\\training.py:183: UserWarning: [17:20:33] WARNING: C:\\b\\abs_d97hy_84m6\\croot\\xgboost-split_1749630932152\\work\\src\\learner.cc:738: \n",
      "Parameters: { \"early_stopping_rounds\" } are not used.\n",
      "\n",
      "  bst.update(dtrain, iteration=i, fobj=obj)\n"
     ]
    },
    {
     "name": "stdout",
     "output_type": "stream",
     "text": [
      "[10]\teval-mlogloss:0.72036\n",
      "[20]\teval-mlogloss:0.56835\n",
      "[30]\teval-mlogloss:0.50814\n",
      "[40]\teval-mlogloss:0.48090\n",
      "[50]\teval-mlogloss:0.46243\n",
      "[60]\teval-mlogloss:0.44708\n",
      "[70]\teval-mlogloss:0.43401\n",
      "[80]\teval-mlogloss:0.42201\n",
      "[90]\teval-mlogloss:0.41009\n",
      "[100]\teval-mlogloss:0.39981\n",
      "[110]\teval-mlogloss:0.39148\n",
      "[120]\teval-mlogloss:0.38121\n",
      "[130]\teval-mlogloss:0.37394\n",
      "[140]\teval-mlogloss:0.36625\n",
      "[150]\teval-mlogloss:0.35731\n",
      "[160]\teval-mlogloss:0.35076\n",
      "[170]\teval-mlogloss:0.34585\n",
      "[180]\teval-mlogloss:0.33958\n",
      "[190]\teval-mlogloss:0.33368\n",
      "[199]\teval-mlogloss:0.32786\n",
      "33 {'n_estimators': 200, 'learning_rate': 0.05, 'max_depth': 3, 'random_state': 1337, 'dtrain': <xgboost.core.DMatrix object at 0x000000002422CB30>, 'dtest': <xgboost.core.DMatrix object at 0x000000002422F4A0>}\n",
      "[0]\teval-mlogloss:1.86012\n"
     ]
    },
    {
     "name": "stderr",
     "output_type": "stream",
     "text": [
      "S:\\anaconda\\envs\\study\\Lib\\site-packages\\xgboost\\training.py:183: UserWarning: [17:20:45] WARNING: C:\\b\\abs_d97hy_84m6\\croot\\xgboost-split_1749630932152\\work\\src\\learner.cc:738: \n",
      "Parameters: { \"early_stopping_rounds\" } are not used.\n",
      "\n",
      "  bst.update(dtrain, iteration=i, fobj=obj)\n"
     ]
    },
    {
     "name": "stdout",
     "output_type": "stream",
     "text": [
      "[10]\teval-mlogloss:1.34535\n",
      "[20]\teval-mlogloss:1.09649\n",
      "[30]\teval-mlogloss:0.94015\n",
      "[40]\teval-mlogloss:0.84173\n",
      "[50]\teval-mlogloss:0.77538\n",
      "[60]\teval-mlogloss:0.72895\n",
      "[70]\teval-mlogloss:0.69478\n",
      "[80]\teval-mlogloss:0.66922\n",
      "[90]\teval-mlogloss:0.64955\n",
      "[100]\teval-mlogloss:0.63397\n",
      "[110]\teval-mlogloss:0.62096\n",
      "[120]\teval-mlogloss:0.60989\n",
      "[130]\teval-mlogloss:0.60088\n",
      "[140]\teval-mlogloss:0.59362\n",
      "[150]\teval-mlogloss:0.58679\n",
      "[160]\teval-mlogloss:0.58140\n",
      "[170]\teval-mlogloss:0.57613\n",
      "[180]\teval-mlogloss:0.57136\n",
      "[190]\teval-mlogloss:0.56741\n",
      "[199]\teval-mlogloss:0.56400\n",
      "34 {'n_estimators': 200, 'learning_rate': 0.05, 'max_depth': 4, 'random_state': 1337, 'dtrain': <xgboost.core.DMatrix object at 0x000000002422CB30>, 'dtest': <xgboost.core.DMatrix object at 0x000000002422F4A0>}\n",
      "[0]\teval-mlogloss:1.85627\n"
     ]
    },
    {
     "name": "stderr",
     "output_type": "stream",
     "text": [
      "S:\\anaconda\\envs\\study\\Lib\\site-packages\\xgboost\\training.py:183: UserWarning: [17:20:55] WARNING: C:\\b\\abs_d97hy_84m6\\croot\\xgboost-split_1749630932152\\work\\src\\learner.cc:738: \n",
      "Parameters: { \"early_stopping_rounds\" } are not used.\n",
      "\n",
      "  bst.update(dtrain, iteration=i, fobj=obj)\n"
     ]
    },
    {
     "name": "stdout",
     "output_type": "stream",
     "text": [
      "[10]\teval-mlogloss:1.32314\n",
      "[20]\teval-mlogloss:1.06544\n",
      "[30]\teval-mlogloss:0.90337\n",
      "[40]\teval-mlogloss:0.80123\n",
      "[50]\teval-mlogloss:0.73219\n",
      "[60]\teval-mlogloss:0.68425\n",
      "[70]\teval-mlogloss:0.64832\n",
      "[80]\teval-mlogloss:0.62118\n",
      "[90]\teval-mlogloss:0.60036\n",
      "[100]\teval-mlogloss:0.58389\n",
      "[110]\teval-mlogloss:0.57041\n",
      "[120]\teval-mlogloss:0.55934\n",
      "[130]\teval-mlogloss:0.55025\n",
      "[140]\teval-mlogloss:0.54237\n",
      "[150]\teval-mlogloss:0.53588\n",
      "[160]\teval-mlogloss:0.53037\n",
      "[170]\teval-mlogloss:0.52544\n",
      "[180]\teval-mlogloss:0.52025\n",
      "[190]\teval-mlogloss:0.51612\n",
      "[199]\teval-mlogloss:0.51283\n",
      "35 {'n_estimators': 200, 'learning_rate': 0.05, 'max_depth': 5, 'random_state': 1337, 'dtrain': <xgboost.core.DMatrix object at 0x000000002422CB30>, 'dtest': <xgboost.core.DMatrix object at 0x000000002422F4A0>}\n",
      "[0]\teval-mlogloss:1.85309\n"
     ]
    },
    {
     "name": "stderr",
     "output_type": "stream",
     "text": [
      "S:\\anaconda\\envs\\study\\Lib\\site-packages\\xgboost\\training.py:183: UserWarning: [17:21:06] WARNING: C:\\b\\abs_d97hy_84m6\\croot\\xgboost-split_1749630932152\\work\\src\\learner.cc:738: \n",
      "Parameters: { \"early_stopping_rounds\" } are not used.\n",
      "\n",
      "  bst.update(dtrain, iteration=i, fobj=obj)\n"
     ]
    },
    {
     "name": "stdout",
     "output_type": "stream",
     "text": [
      "[10]\teval-mlogloss:1.30179\n",
      "[20]\teval-mlogloss:1.03575\n",
      "[30]\teval-mlogloss:0.86817\n",
      "[40]\teval-mlogloss:0.76213\n",
      "[50]\teval-mlogloss:0.69114\n",
      "[60]\teval-mlogloss:0.64160\n",
      "[70]\teval-mlogloss:0.60533\n",
      "[80]\teval-mlogloss:0.57704\n",
      "[90]\teval-mlogloss:0.55537\n",
      "[100]\teval-mlogloss:0.53845\n",
      "[110]\teval-mlogloss:0.52445\n",
      "[120]\teval-mlogloss:0.51304\n",
      "[130]\teval-mlogloss:0.50376\n",
      "[140]\teval-mlogloss:0.49618\n",
      "[150]\teval-mlogloss:0.48967\n",
      "[160]\teval-mlogloss:0.48394\n",
      "[170]\teval-mlogloss:0.47894\n",
      "[180]\teval-mlogloss:0.47351\n",
      "[190]\teval-mlogloss:0.46915\n",
      "[199]\teval-mlogloss:0.46576\n"
     ]
    },
    {
     "name": "stderr",
     "output_type": "stream",
     "text": [
      "C:\\Users\\nikol\\AppData\\Local\\Temp\\ipykernel_14832\\3180493565.py:13: FutureWarning: Calling int on a single element Series is deprecated and will raise a TypeError in the future. Use int(ser.iloc[0]) instead\n",
      "  num_classes = int(d[d.target_features].nunique()) # ИСПРАВЛЕНИЕ: Количество уникальных классов\n",
      "S:\\anaconda\\envs\\study\\Lib\\site-packages\\xgboost\\training.py:183: UserWarning: [17:21:18] WARNING: C:\\b\\abs_d97hy_84m6\\croot\\xgboost-split_1749630932152\\work\\src\\learner.cc:738: \n",
      "Parameters: { \"early_stopping_rounds\" } are not used.\n",
      "\n",
      "  bst.update(dtrain, iteration=i, fobj=obj)\n"
     ]
    },
    {
     "name": "stdout",
     "output_type": "stream",
     "text": [
      "36\n",
      "0 {'n_estimators': 100, 'learning_rate': 0.1, 'max_depth': 3, 'random_state': 1337, 'dtrain': <xgboost.core.DMatrix object at 0x000000002461CDD0>, 'dtest': <xgboost.core.DMatrix object at 0x000000002461CCE0>}\n",
      "[0]\teval-mlogloss:1.81453\n",
      "[10]\teval-mlogloss:1.08733\n",
      "[20]\teval-mlogloss:0.86007\n",
      "[30]\teval-mlogloss:0.76025\n",
      "[40]\teval-mlogloss:0.70805\n",
      "[50]\teval-mlogloss:0.67595\n",
      "[60]\teval-mlogloss:0.65513\n",
      "[70]\teval-mlogloss:0.64103\n",
      "[80]\teval-mlogloss:0.63084\n",
      "[90]\teval-mlogloss:0.62282\n",
      "[99]\teval-mlogloss:0.61615\n",
      "1 {'n_estimators': 100, 'learning_rate': 0.1, 'max_depth': 4, 'random_state': 1337, 'dtrain': <xgboost.core.DMatrix object at 0x000000002461CDD0>, 'dtest': <xgboost.core.DMatrix object at 0x000000002461CCE0>}\n",
      "[0]\teval-mlogloss:1.81062\n"
     ]
    },
    {
     "name": "stderr",
     "output_type": "stream",
     "text": [
      "S:\\anaconda\\envs\\study\\Lib\\site-packages\\sklearn\\metrics\\_classification.py:1565: UndefinedMetricWarning: Precision is ill-defined and being set to 0.0 in labels with no predicted samples. Use `zero_division` parameter to control this behavior.\n",
      "  _warn_prf(average, modifier, f\"{metric.capitalize()} is\", len(result))\n",
      "S:\\anaconda\\envs\\study\\Lib\\site-packages\\sklearn\\metrics\\_classification.py:1565: UndefinedMetricWarning: Precision is ill-defined and being set to 0.0 in labels with no predicted samples. Use `zero_division` parameter to control this behavior.\n",
      "  _warn_prf(average, modifier, f\"{metric.capitalize()} is\", len(result))\n",
      "S:\\anaconda\\envs\\study\\Lib\\site-packages\\sklearn\\metrics\\_classification.py:1565: UndefinedMetricWarning: Precision is ill-defined and being set to 0.0 in labels with no predicted samples. Use `zero_division` parameter to control this behavior.\n",
      "  _warn_prf(average, modifier, f\"{metric.capitalize()} is\", len(result))\n",
      "S:\\anaconda\\envs\\study\\Lib\\site-packages\\xgboost\\training.py:183: UserWarning: [17:21:21] WARNING: C:\\b\\abs_d97hy_84m6\\croot\\xgboost-split_1749630932152\\work\\src\\learner.cc:738: \n",
      "Parameters: { \"early_stopping_rounds\" } are not used.\n",
      "\n",
      "  bst.update(dtrain, iteration=i, fobj=obj)\n"
     ]
    },
    {
     "name": "stdout",
     "output_type": "stream",
     "text": [
      "[10]\teval-mlogloss:1.06156\n",
      "[20]\teval-mlogloss:0.82710\n",
      "[30]\teval-mlogloss:0.72419\n",
      "[40]\teval-mlogloss:0.67085\n",
      "[50]\teval-mlogloss:0.63846\n",
      "[60]\teval-mlogloss:0.61811\n",
      "[70]\teval-mlogloss:0.60368\n",
      "[80]\teval-mlogloss:0.59356\n",
      "[90]\teval-mlogloss:0.58424\n",
      "[99]\teval-mlogloss:0.57692\n",
      "2 {'n_estimators': 100, 'learning_rate': 0.1, 'max_depth': 5, 'random_state': 1337, 'dtrain': <xgboost.core.DMatrix object at 0x000000002461CDD0>, 'dtest': <xgboost.core.DMatrix object at 0x000000002461CCE0>}\n",
      "[0]\teval-mlogloss:1.80653\n"
     ]
    },
    {
     "name": "stderr",
     "output_type": "stream",
     "text": [
      "S:\\anaconda\\envs\\study\\Lib\\site-packages\\xgboost\\training.py:183: UserWarning: [17:21:24] WARNING: C:\\b\\abs_d97hy_84m6\\croot\\xgboost-split_1749630932152\\work\\src\\learner.cc:738: \n",
      "Parameters: { \"early_stopping_rounds\" } are not used.\n",
      "\n",
      "  bst.update(dtrain, iteration=i, fobj=obj)\n"
     ]
    },
    {
     "name": "stdout",
     "output_type": "stream",
     "text": [
      "[10]\teval-mlogloss:1.03790\n",
      "[20]\teval-mlogloss:0.79646\n",
      "[30]\teval-mlogloss:0.68921\n",
      "[40]\teval-mlogloss:0.63495\n",
      "[50]\teval-mlogloss:0.60215\n",
      "[60]\teval-mlogloss:0.58130\n",
      "[70]\teval-mlogloss:0.56611\n",
      "[80]\teval-mlogloss:0.55481\n",
      "[90]\teval-mlogloss:0.54542\n",
      "[99]\teval-mlogloss:0.53693\n",
      "3 {'n_estimators': 100, 'learning_rate': 0.2, 'max_depth': 3, 'random_state': 1337, 'dtrain': <xgboost.core.DMatrix object at 0x000000002461CDD0>, 'dtest': <xgboost.core.DMatrix object at 0x000000002461CCE0>}\n",
      "[0]\teval-mlogloss:1.69172\n"
     ]
    },
    {
     "name": "stderr",
     "output_type": "stream",
     "text": [
      "S:\\anaconda\\envs\\study\\Lib\\site-packages\\xgboost\\training.py:183: UserWarning: [17:21:28] WARNING: C:\\b\\abs_d97hy_84m6\\croot\\xgboost-split_1749630932152\\work\\src\\learner.cc:738: \n",
      "Parameters: { \"early_stopping_rounds\" } are not used.\n",
      "\n",
      "  bst.update(dtrain, iteration=i, fobj=obj)\n"
     ]
    },
    {
     "name": "stdout",
     "output_type": "stream",
     "text": [
      "[10]\teval-mlogloss:0.83955\n",
      "[20]\teval-mlogloss:0.69984\n",
      "[30]\teval-mlogloss:0.65115\n",
      "[40]\teval-mlogloss:0.62820\n",
      "[50]\teval-mlogloss:0.61432\n",
      "[60]\teval-mlogloss:0.60483\n",
      "[70]\teval-mlogloss:0.59493\n",
      "[80]\teval-mlogloss:0.58645\n",
      "[90]\teval-mlogloss:0.57822\n",
      "[99]\teval-mlogloss:0.57207\n",
      "4 {'n_estimators': 100, 'learning_rate': 0.2, 'max_depth': 4, 'random_state': 1337, 'dtrain': <xgboost.core.DMatrix object at 0x000000002461CDD0>, 'dtest': <xgboost.core.DMatrix object at 0x000000002461CCE0>}\n",
      "[0]\teval-mlogloss:1.68417\n"
     ]
    },
    {
     "name": "stderr",
     "output_type": "stream",
     "text": [
      "S:\\anaconda\\envs\\study\\Lib\\site-packages\\xgboost\\training.py:183: UserWarning: [17:21:32] WARNING: C:\\b\\abs_d97hy_84m6\\croot\\xgboost-split_1749630932152\\work\\src\\learner.cc:738: \n",
      "Parameters: { \"early_stopping_rounds\" } are not used.\n",
      "\n",
      "  bst.update(dtrain, iteration=i, fobj=obj)\n"
     ]
    },
    {
     "name": "stdout",
     "output_type": "stream",
     "text": [
      "[10]\teval-mlogloss:0.80512\n",
      "[20]\teval-mlogloss:0.66297\n",
      "[30]\teval-mlogloss:0.61370\n",
      "[40]\teval-mlogloss:0.58935\n",
      "[50]\teval-mlogloss:0.57349\n",
      "[60]\teval-mlogloss:0.56139\n",
      "[70]\teval-mlogloss:0.55240\n",
      "[80]\teval-mlogloss:0.54256\n",
      "[90]\teval-mlogloss:0.53141\n",
      "[99]\teval-mlogloss:0.52365\n",
      "5 {'n_estimators': 100, 'learning_rate': 0.2, 'max_depth': 5, 'random_state': 1337, 'dtrain': <xgboost.core.DMatrix object at 0x000000002461CDD0>, 'dtest': <xgboost.core.DMatrix object at 0x000000002461CCE0>}\n",
      "[0]\teval-mlogloss:1.67631\n"
     ]
    },
    {
     "name": "stderr",
     "output_type": "stream",
     "text": [
      "S:\\anaconda\\envs\\study\\Lib\\site-packages\\xgboost\\training.py:183: UserWarning: [17:21:35] WARNING: C:\\b\\abs_d97hy_84m6\\croot\\xgboost-split_1749630932152\\work\\src\\learner.cc:738: \n",
      "Parameters: { \"early_stopping_rounds\" } are not used.\n",
      "\n",
      "  bst.update(dtrain, iteration=i, fobj=obj)\n"
     ]
    },
    {
     "name": "stdout",
     "output_type": "stream",
     "text": [
      "[10]\teval-mlogloss:0.77367\n",
      "[20]\teval-mlogloss:0.62826\n",
      "[30]\teval-mlogloss:0.57808\n",
      "[40]\teval-mlogloss:0.55264\n",
      "[50]\teval-mlogloss:0.53487\n",
      "[60]\teval-mlogloss:0.52156\n",
      "[70]\teval-mlogloss:0.50702\n",
      "[80]\teval-mlogloss:0.49558\n",
      "[90]\teval-mlogloss:0.48471\n",
      "[99]\teval-mlogloss:0.47652\n",
      "6 {'n_estimators': 100, 'learning_rate': 0.05, 'max_depth': 3, 'random_state': 1337, 'dtrain': <xgboost.core.DMatrix object at 0x000000002461CDD0>, 'dtest': <xgboost.core.DMatrix object at 0x000000002461CCE0>}\n",
      "[0]\teval-mlogloss:1.87919\n"
     ]
    },
    {
     "name": "stderr",
     "output_type": "stream",
     "text": [
      "S:\\anaconda\\envs\\study\\Lib\\site-packages\\xgboost\\training.py:183: UserWarning: [17:21:39] WARNING: C:\\b\\abs_d97hy_84m6\\croot\\xgboost-split_1749630932152\\work\\src\\learner.cc:738: \n",
      "Parameters: { \"early_stopping_rounds\" } are not used.\n",
      "\n",
      "  bst.update(dtrain, iteration=i, fobj=obj)\n"
     ]
    },
    {
     "name": "stdout",
     "output_type": "stream",
     "text": [
      "[10]\teval-mlogloss:1.36510\n",
      "[20]\teval-mlogloss:1.11320\n",
      "[30]\teval-mlogloss:0.96668\n",
      "[40]\teval-mlogloss:0.87186\n",
      "[50]\teval-mlogloss:0.80889\n",
      "[60]\teval-mlogloss:0.76565\n",
      "[70]\teval-mlogloss:0.73384\n",
      "[80]\teval-mlogloss:0.70968\n",
      "[90]\teval-mlogloss:0.69112\n",
      "[99]\teval-mlogloss:0.67788\n",
      "7 {'n_estimators': 100, 'learning_rate': 0.05, 'max_depth': 4, 'random_state': 1337, 'dtrain': <xgboost.core.DMatrix object at 0x000000002461CDD0>, 'dtest': <xgboost.core.DMatrix object at 0x000000002461CCE0>}\n",
      "[0]\teval-mlogloss:1.87721\n"
     ]
    },
    {
     "name": "stderr",
     "output_type": "stream",
     "text": [
      "S:\\anaconda\\envs\\study\\Lib\\site-packages\\sklearn\\metrics\\_classification.py:1565: UndefinedMetricWarning: Precision is ill-defined and being set to 0.0 in labels with no predicted samples. Use `zero_division` parameter to control this behavior.\n",
      "  _warn_prf(average, modifier, f\"{metric.capitalize()} is\", len(result))\n",
      "S:\\anaconda\\envs\\study\\Lib\\site-packages\\sklearn\\metrics\\_classification.py:1565: UndefinedMetricWarning: Precision is ill-defined and being set to 0.0 in labels with no predicted samples. Use `zero_division` parameter to control this behavior.\n",
      "  _warn_prf(average, modifier, f\"{metric.capitalize()} is\", len(result))\n",
      "S:\\anaconda\\envs\\study\\Lib\\site-packages\\sklearn\\metrics\\_classification.py:1565: UndefinedMetricWarning: Precision is ill-defined and being set to 0.0 in labels with no predicted samples. Use `zero_division` parameter to control this behavior.\n",
      "  _warn_prf(average, modifier, f\"{metric.capitalize()} is\", len(result))\n",
      "S:\\anaconda\\envs\\study\\Lib\\site-packages\\xgboost\\training.py:183: UserWarning: [17:21:42] WARNING: C:\\b\\abs_d97hy_84m6\\croot\\xgboost-split_1749630932152\\work\\src\\learner.cc:738: \n",
      "Parameters: { \"early_stopping_rounds\" } are not used.\n",
      "\n",
      "  bst.update(dtrain, iteration=i, fobj=obj)\n"
     ]
    },
    {
     "name": "stdout",
     "output_type": "stream",
     "text": [
      "[10]\teval-mlogloss:1.34725\n",
      "[20]\teval-mlogloss:1.08803\n",
      "[30]\teval-mlogloss:0.93657\n",
      "[40]\teval-mlogloss:0.83918\n",
      "[50]\teval-mlogloss:0.77488\n",
      "[60]\teval-mlogloss:0.73046\n",
      "[70]\teval-mlogloss:0.69843\n",
      "[80]\teval-mlogloss:0.67441\n",
      "[90]\teval-mlogloss:0.65586\n",
      "[99]\teval-mlogloss:0.64245\n",
      "8 {'n_estimators': 100, 'learning_rate': 0.05, 'max_depth': 5, 'random_state': 1337, 'dtrain': <xgboost.core.DMatrix object at 0x000000002461CDD0>, 'dtest': <xgboost.core.DMatrix object at 0x000000002461CCE0>}\n",
      "[0]\teval-mlogloss:1.87513\n"
     ]
    },
    {
     "name": "stderr",
     "output_type": "stream",
     "text": [
      "S:\\anaconda\\envs\\study\\Lib\\site-packages\\xgboost\\training.py:183: UserWarning: [17:21:45] WARNING: C:\\b\\abs_d97hy_84m6\\croot\\xgboost-split_1749630932152\\work\\src\\learner.cc:738: \n",
      "Parameters: { \"early_stopping_rounds\" } are not used.\n",
      "\n",
      "  bst.update(dtrain, iteration=i, fobj=obj)\n"
     ]
    },
    {
     "name": "stdout",
     "output_type": "stream",
     "text": [
      "[10]\teval-mlogloss:1.33067\n",
      "[20]\teval-mlogloss:1.06442\n",
      "[30]\teval-mlogloss:0.90816\n",
      "[40]\teval-mlogloss:0.80704\n",
      "[50]\teval-mlogloss:0.74108\n",
      "[60]\teval-mlogloss:0.69598\n",
      "[70]\teval-mlogloss:0.66290\n",
      "[80]\teval-mlogloss:0.63877\n",
      "[90]\teval-mlogloss:0.62019\n",
      "[99]\teval-mlogloss:0.60687\n",
      "9 {'n_estimators': 50, 'learning_rate': 0.1, 'max_depth': 3, 'random_state': 1337, 'dtrain': <xgboost.core.DMatrix object at 0x000000002461CDD0>, 'dtest': <xgboost.core.DMatrix object at 0x000000002461CCE0>}\n",
      "[0]\teval-mlogloss:1.81453\n"
     ]
    },
    {
     "name": "stderr",
     "output_type": "stream",
     "text": [
      "S:\\anaconda\\envs\\study\\Lib\\site-packages\\xgboost\\training.py:183: UserWarning: [17:21:49] WARNING: C:\\b\\abs_d97hy_84m6\\croot\\xgboost-split_1749630932152\\work\\src\\learner.cc:738: \n",
      "Parameters: { \"early_stopping_rounds\" } are not used.\n",
      "\n",
      "  bst.update(dtrain, iteration=i, fobj=obj)\n"
     ]
    },
    {
     "name": "stdout",
     "output_type": "stream",
     "text": [
      "[10]\teval-mlogloss:1.08733\n",
      "[20]\teval-mlogloss:0.86007\n",
      "[30]\teval-mlogloss:0.76025\n",
      "[40]\teval-mlogloss:0.70805\n",
      "[49]\teval-mlogloss:0.67867\n",
      "10 {'n_estimators': 50, 'learning_rate': 0.1, 'max_depth': 4, 'random_state': 1337, 'dtrain': <xgboost.core.DMatrix object at 0x000000002461CDD0>, 'dtest': <xgboost.core.DMatrix object at 0x000000002461CCE0>}\n",
      "[0]\teval-mlogloss:1.81062\n"
     ]
    },
    {
     "name": "stderr",
     "output_type": "stream",
     "text": [
      "S:\\anaconda\\envs\\study\\Lib\\site-packages\\sklearn\\metrics\\_classification.py:1565: UndefinedMetricWarning: Precision is ill-defined and being set to 0.0 in labels with no predicted samples. Use `zero_division` parameter to control this behavior.\n",
      "  _warn_prf(average, modifier, f\"{metric.capitalize()} is\", len(result))\n",
      "S:\\anaconda\\envs\\study\\Lib\\site-packages\\sklearn\\metrics\\_classification.py:1565: UndefinedMetricWarning: Precision is ill-defined and being set to 0.0 in labels with no predicted samples. Use `zero_division` parameter to control this behavior.\n",
      "  _warn_prf(average, modifier, f\"{metric.capitalize()} is\", len(result))\n",
      "S:\\anaconda\\envs\\study\\Lib\\site-packages\\sklearn\\metrics\\_classification.py:1565: UndefinedMetricWarning: Precision is ill-defined and being set to 0.0 in labels with no predicted samples. Use `zero_division` parameter to control this behavior.\n",
      "  _warn_prf(average, modifier, f\"{metric.capitalize()} is\", len(result))\n",
      "S:\\anaconda\\envs\\study\\Lib\\site-packages\\xgboost\\training.py:183: UserWarning: [17:21:51] WARNING: C:\\b\\abs_d97hy_84m6\\croot\\xgboost-split_1749630932152\\work\\src\\learner.cc:738: \n",
      "Parameters: { \"early_stopping_rounds\" } are not used.\n",
      "\n",
      "  bst.update(dtrain, iteration=i, fobj=obj)\n"
     ]
    },
    {
     "name": "stdout",
     "output_type": "stream",
     "text": [
      "[10]\teval-mlogloss:1.06156\n",
      "[20]\teval-mlogloss:0.82710\n",
      "[30]\teval-mlogloss:0.72419\n",
      "[40]\teval-mlogloss:0.67085\n",
      "[49]\teval-mlogloss:0.64122\n",
      "11 {'n_estimators': 50, 'learning_rate': 0.1, 'max_depth': 5, 'random_state': 1337, 'dtrain': <xgboost.core.DMatrix object at 0x000000002461CDD0>, 'dtest': <xgboost.core.DMatrix object at 0x000000002461CCE0>}\n",
      "[0]\teval-mlogloss:1.80653\n"
     ]
    },
    {
     "name": "stderr",
     "output_type": "stream",
     "text": [
      "S:\\anaconda\\envs\\study\\Lib\\site-packages\\xgboost\\training.py:183: UserWarning: [17:21:53] WARNING: C:\\b\\abs_d97hy_84m6\\croot\\xgboost-split_1749630932152\\work\\src\\learner.cc:738: \n",
      "Parameters: { \"early_stopping_rounds\" } are not used.\n",
      "\n",
      "  bst.update(dtrain, iteration=i, fobj=obj)\n"
     ]
    },
    {
     "name": "stdout",
     "output_type": "stream",
     "text": [
      "[10]\teval-mlogloss:1.03790\n",
      "[20]\teval-mlogloss:0.79646\n",
      "[30]\teval-mlogloss:0.68921\n",
      "[40]\teval-mlogloss:0.63495\n",
      "[49]\teval-mlogloss:0.60484\n",
      "12 {'n_estimators': 50, 'learning_rate': 0.2, 'max_depth': 3, 'random_state': 1337, 'dtrain': <xgboost.core.DMatrix object at 0x000000002461CDD0>, 'dtest': <xgboost.core.DMatrix object at 0x000000002461CCE0>}\n",
      "[0]\teval-mlogloss:1.69172\n"
     ]
    },
    {
     "name": "stderr",
     "output_type": "stream",
     "text": [
      "S:\\anaconda\\envs\\study\\Lib\\site-packages\\xgboost\\training.py:183: UserWarning: [17:21:54] WARNING: C:\\b\\abs_d97hy_84m6\\croot\\xgboost-split_1749630932152\\work\\src\\learner.cc:738: \n",
      "Parameters: { \"early_stopping_rounds\" } are not used.\n",
      "\n",
      "  bst.update(dtrain, iteration=i, fobj=obj)\n"
     ]
    },
    {
     "name": "stdout",
     "output_type": "stream",
     "text": [
      "[10]\teval-mlogloss:0.83955\n",
      "[20]\teval-mlogloss:0.69984\n",
      "[30]\teval-mlogloss:0.65115\n",
      "[40]\teval-mlogloss:0.62820\n",
      "[49]\teval-mlogloss:0.61510\n",
      "13 {'n_estimators': 50, 'learning_rate': 0.2, 'max_depth': 4, 'random_state': 1337, 'dtrain': <xgboost.core.DMatrix object at 0x000000002461CDD0>, 'dtest': <xgboost.core.DMatrix object at 0x000000002461CCE0>}\n",
      "[0]\teval-mlogloss:1.68417\n"
     ]
    },
    {
     "name": "stderr",
     "output_type": "stream",
     "text": [
      "S:\\anaconda\\envs\\study\\Lib\\site-packages\\xgboost\\training.py:183: UserWarning: [17:21:56] WARNING: C:\\b\\abs_d97hy_84m6\\croot\\xgboost-split_1749630932152\\work\\src\\learner.cc:738: \n",
      "Parameters: { \"early_stopping_rounds\" } are not used.\n",
      "\n",
      "  bst.update(dtrain, iteration=i, fobj=obj)\n"
     ]
    },
    {
     "name": "stdout",
     "output_type": "stream",
     "text": [
      "[10]\teval-mlogloss:0.80512\n",
      "[20]\teval-mlogloss:0.66297\n",
      "[30]\teval-mlogloss:0.61370\n",
      "[40]\teval-mlogloss:0.58935\n",
      "[49]\teval-mlogloss:0.57522\n",
      "14 {'n_estimators': 50, 'learning_rate': 0.2, 'max_depth': 5, 'random_state': 1337, 'dtrain': <xgboost.core.DMatrix object at 0x000000002461CDD0>, 'dtest': <xgboost.core.DMatrix object at 0x000000002461CCE0>}\n",
      "[0]\teval-mlogloss:1.67631\n"
     ]
    },
    {
     "name": "stderr",
     "output_type": "stream",
     "text": [
      "S:\\anaconda\\envs\\study\\Lib\\site-packages\\xgboost\\training.py:183: UserWarning: [17:21:58] WARNING: C:\\b\\abs_d97hy_84m6\\croot\\xgboost-split_1749630932152\\work\\src\\learner.cc:738: \n",
      "Parameters: { \"early_stopping_rounds\" } are not used.\n",
      "\n",
      "  bst.update(dtrain, iteration=i, fobj=obj)\n"
     ]
    },
    {
     "name": "stdout",
     "output_type": "stream",
     "text": [
      "[10]\teval-mlogloss:0.77367\n",
      "[20]\teval-mlogloss:0.62826\n",
      "[30]\teval-mlogloss:0.57808\n",
      "[40]\teval-mlogloss:0.55264\n",
      "[49]\teval-mlogloss:0.53699\n",
      "15 {'n_estimators': 50, 'learning_rate': 0.05, 'max_depth': 3, 'random_state': 1337, 'dtrain': <xgboost.core.DMatrix object at 0x000000002461CDD0>, 'dtest': <xgboost.core.DMatrix object at 0x000000002461CCE0>}\n",
      "[0]\teval-mlogloss:1.87919\n"
     ]
    },
    {
     "name": "stderr",
     "output_type": "stream",
     "text": [
      "S:\\anaconda\\envs\\study\\Lib\\site-packages\\xgboost\\training.py:183: UserWarning: [17:22:00] WARNING: C:\\b\\abs_d97hy_84m6\\croot\\xgboost-split_1749630932152\\work\\src\\learner.cc:738: \n",
      "Parameters: { \"early_stopping_rounds\" } are not used.\n",
      "\n",
      "  bst.update(dtrain, iteration=i, fobj=obj)\n"
     ]
    },
    {
     "name": "stdout",
     "output_type": "stream",
     "text": [
      "[10]\teval-mlogloss:1.36510\n",
      "[20]\teval-mlogloss:1.11320\n",
      "[30]\teval-mlogloss:0.96668\n",
      "[40]\teval-mlogloss:0.87186\n",
      "[49]\teval-mlogloss:0.81437\n",
      "16 {'n_estimators': 50, 'learning_rate': 0.05, 'max_depth': 4, 'random_state': 1337, 'dtrain': <xgboost.core.DMatrix object at 0x000000002461CDD0>, 'dtest': <xgboost.core.DMatrix object at 0x000000002461CCE0>}\n",
      "[0]\teval-mlogloss:1.87721\n"
     ]
    },
    {
     "name": "stderr",
     "output_type": "stream",
     "text": [
      "S:\\anaconda\\envs\\study\\Lib\\site-packages\\sklearn\\metrics\\_classification.py:1565: UndefinedMetricWarning: Precision is ill-defined and being set to 0.0 in labels with no predicted samples. Use `zero_division` parameter to control this behavior.\n",
      "  _warn_prf(average, modifier, f\"{metric.capitalize()} is\", len(result))\n",
      "S:\\anaconda\\envs\\study\\Lib\\site-packages\\sklearn\\metrics\\_classification.py:1565: UndefinedMetricWarning: Precision is ill-defined and being set to 0.0 in labels with no predicted samples. Use `zero_division` parameter to control this behavior.\n",
      "  _warn_prf(average, modifier, f\"{metric.capitalize()} is\", len(result))\n",
      "S:\\anaconda\\envs\\study\\Lib\\site-packages\\sklearn\\metrics\\_classification.py:1565: UndefinedMetricWarning: Precision is ill-defined and being set to 0.0 in labels with no predicted samples. Use `zero_division` parameter to control this behavior.\n",
      "  _warn_prf(average, modifier, f\"{metric.capitalize()} is\", len(result))\n",
      "S:\\anaconda\\envs\\study\\Lib\\site-packages\\xgboost\\training.py:183: UserWarning: [17:22:02] WARNING: C:\\b\\abs_d97hy_84m6\\croot\\xgboost-split_1749630932152\\work\\src\\learner.cc:738: \n",
      "Parameters: { \"early_stopping_rounds\" } are not used.\n",
      "\n",
      "  bst.update(dtrain, iteration=i, fobj=obj)\n"
     ]
    },
    {
     "name": "stdout",
     "output_type": "stream",
     "text": [
      "[10]\teval-mlogloss:1.34725\n",
      "[20]\teval-mlogloss:1.08803\n",
      "[30]\teval-mlogloss:0.93657\n",
      "[40]\teval-mlogloss:0.83918\n",
      "[49]\teval-mlogloss:0.78057\n",
      "17 {'n_estimators': 50, 'learning_rate': 0.05, 'max_depth': 5, 'random_state': 1337, 'dtrain': <xgboost.core.DMatrix object at 0x000000002461CDD0>, 'dtest': <xgboost.core.DMatrix object at 0x000000002461CCE0>}\n",
      "[0]\teval-mlogloss:1.87513\n"
     ]
    },
    {
     "name": "stderr",
     "output_type": "stream",
     "text": [
      "S:\\anaconda\\envs\\study\\Lib\\site-packages\\xgboost\\training.py:183: UserWarning: [17:22:04] WARNING: C:\\b\\abs_d97hy_84m6\\croot\\xgboost-split_1749630932152\\work\\src\\learner.cc:738: \n",
      "Parameters: { \"early_stopping_rounds\" } are not used.\n",
      "\n",
      "  bst.update(dtrain, iteration=i, fobj=obj)\n"
     ]
    },
    {
     "name": "stdout",
     "output_type": "stream",
     "text": [
      "[10]\teval-mlogloss:1.33067\n",
      "[20]\teval-mlogloss:1.06442\n",
      "[30]\teval-mlogloss:0.90816\n",
      "[40]\teval-mlogloss:0.80704\n",
      "[49]\teval-mlogloss:0.74689\n",
      "18 {'n_estimators': 20, 'learning_rate': 0.1, 'max_depth': 3, 'random_state': 1337, 'dtrain': <xgboost.core.DMatrix object at 0x000000002461CDD0>, 'dtest': <xgboost.core.DMatrix object at 0x000000002461CCE0>}\n",
      "[0]\teval-mlogloss:1.81453\n"
     ]
    },
    {
     "name": "stderr",
     "output_type": "stream",
     "text": [
      "S:\\anaconda\\envs\\study\\Lib\\site-packages\\xgboost\\training.py:183: UserWarning: [17:22:06] WARNING: C:\\b\\abs_d97hy_84m6\\croot\\xgboost-split_1749630932152\\work\\src\\learner.cc:738: \n",
      "Parameters: { \"early_stopping_rounds\" } are not used.\n",
      "\n",
      "  bst.update(dtrain, iteration=i, fobj=obj)\n"
     ]
    },
    {
     "name": "stdout",
     "output_type": "stream",
     "text": [
      "[10]\teval-mlogloss:1.08733\n",
      "[19]\teval-mlogloss:0.87547\n",
      "19 {'n_estimators': 20, 'learning_rate': 0.1, 'max_depth': 4, 'random_state': 1337, 'dtrain': <xgboost.core.DMatrix object at 0x000000002461CDD0>, 'dtest': <xgboost.core.DMatrix object at 0x000000002461CCE0>}\n",
      "[0]\teval-mlogloss:1.81062\n"
     ]
    },
    {
     "name": "stderr",
     "output_type": "stream",
     "text": [
      "S:\\anaconda\\envs\\study\\Lib\\site-packages\\sklearn\\metrics\\_classification.py:1565: UndefinedMetricWarning: Precision is ill-defined and being set to 0.0 in labels with no predicted samples. Use `zero_division` parameter to control this behavior.\n",
      "  _warn_prf(average, modifier, f\"{metric.capitalize()} is\", len(result))\n",
      "S:\\anaconda\\envs\\study\\Lib\\site-packages\\sklearn\\metrics\\_classification.py:1565: UndefinedMetricWarning: Precision is ill-defined and being set to 0.0 in labels with no predicted samples. Use `zero_division` parameter to control this behavior.\n",
      "  _warn_prf(average, modifier, f\"{metric.capitalize()} is\", len(result))\n",
      "S:\\anaconda\\envs\\study\\Lib\\site-packages\\sklearn\\metrics\\_classification.py:1565: UndefinedMetricWarning: Precision is ill-defined and being set to 0.0 in labels with no predicted samples. Use `zero_division` parameter to control this behavior.\n",
      "  _warn_prf(average, modifier, f\"{metric.capitalize()} is\", len(result))\n",
      "S:\\anaconda\\envs\\study\\Lib\\site-packages\\xgboost\\training.py:183: UserWarning: [17:22:06] WARNING: C:\\b\\abs_d97hy_84m6\\croot\\xgboost-split_1749630932152\\work\\src\\learner.cc:738: \n",
      "Parameters: { \"early_stopping_rounds\" } are not used.\n",
      "\n",
      "  bst.update(dtrain, iteration=i, fobj=obj)\n"
     ]
    },
    {
     "name": "stdout",
     "output_type": "stream",
     "text": [
      "[10]\teval-mlogloss:1.06156\n",
      "[19]\teval-mlogloss:0.84285\n",
      "20 {'n_estimators': 20, 'learning_rate': 0.1, 'max_depth': 5, 'random_state': 1337, 'dtrain': <xgboost.core.DMatrix object at 0x000000002461CDD0>, 'dtest': <xgboost.core.DMatrix object at 0x000000002461CCE0>}\n",
      "[0]\teval-mlogloss:1.80653\n"
     ]
    },
    {
     "name": "stderr",
     "output_type": "stream",
     "text": [
      "S:\\anaconda\\envs\\study\\Lib\\site-packages\\xgboost\\training.py:183: UserWarning: [17:22:07] WARNING: C:\\b\\abs_d97hy_84m6\\croot\\xgboost-split_1749630932152\\work\\src\\learner.cc:738: \n",
      "Parameters: { \"early_stopping_rounds\" } are not used.\n",
      "\n",
      "  bst.update(dtrain, iteration=i, fobj=obj)\n"
     ]
    },
    {
     "name": "stdout",
     "output_type": "stream",
     "text": [
      "[10]\teval-mlogloss:1.03790\n",
      "[19]\teval-mlogloss:0.81279\n",
      "21 {'n_estimators': 20, 'learning_rate': 0.2, 'max_depth': 3, 'random_state': 1337, 'dtrain': <xgboost.core.DMatrix object at 0x000000002461CDD0>, 'dtest': <xgboost.core.DMatrix object at 0x000000002461CCE0>}\n",
      "[0]\teval-mlogloss:1.69172\n"
     ]
    },
    {
     "name": "stderr",
     "output_type": "stream",
     "text": [
      "S:\\anaconda\\envs\\study\\Lib\\site-packages\\xgboost\\training.py:183: UserWarning: [17:22:08] WARNING: C:\\b\\abs_d97hy_84m6\\croot\\xgboost-split_1749630932152\\work\\src\\learner.cc:738: \n",
      "Parameters: { \"early_stopping_rounds\" } are not used.\n",
      "\n",
      "  bst.update(dtrain, iteration=i, fobj=obj)\n"
     ]
    },
    {
     "name": "stdout",
     "output_type": "stream",
     "text": [
      "[10]\teval-mlogloss:0.83955\n",
      "[19]\teval-mlogloss:0.70747\n",
      "22 {'n_estimators': 20, 'learning_rate': 0.2, 'max_depth': 4, 'random_state': 1337, 'dtrain': <xgboost.core.DMatrix object at 0x000000002461CDD0>, 'dtest': <xgboost.core.DMatrix object at 0x000000002461CCE0>}\n",
      "[0]\teval-mlogloss:1.68417\n"
     ]
    },
    {
     "name": "stderr",
     "output_type": "stream",
     "text": [
      "S:\\anaconda\\envs\\study\\Lib\\site-packages\\sklearn\\metrics\\_classification.py:1565: UndefinedMetricWarning: Precision is ill-defined and being set to 0.0 in labels with no predicted samples. Use `zero_division` parameter to control this behavior.\n",
      "  _warn_prf(average, modifier, f\"{metric.capitalize()} is\", len(result))\n",
      "S:\\anaconda\\envs\\study\\Lib\\site-packages\\sklearn\\metrics\\_classification.py:1565: UndefinedMetricWarning: Precision is ill-defined and being set to 0.0 in labels with no predicted samples. Use `zero_division` parameter to control this behavior.\n",
      "  _warn_prf(average, modifier, f\"{metric.capitalize()} is\", len(result))\n",
      "S:\\anaconda\\envs\\study\\Lib\\site-packages\\sklearn\\metrics\\_classification.py:1565: UndefinedMetricWarning: Precision is ill-defined and being set to 0.0 in labels with no predicted samples. Use `zero_division` parameter to control this behavior.\n",
      "  _warn_prf(average, modifier, f\"{metric.capitalize()} is\", len(result))\n",
      "S:\\anaconda\\envs\\study\\Lib\\site-packages\\xgboost\\training.py:183: UserWarning: [17:22:09] WARNING: C:\\b\\abs_d97hy_84m6\\croot\\xgboost-split_1749630932152\\work\\src\\learner.cc:738: \n",
      "Parameters: { \"early_stopping_rounds\" } are not used.\n",
      "\n",
      "  bst.update(dtrain, iteration=i, fobj=obj)\n"
     ]
    },
    {
     "name": "stdout",
     "output_type": "stream",
     "text": [
      "[10]\teval-mlogloss:0.80512\n",
      "[19]\teval-mlogloss:0.67061\n",
      "23 {'n_estimators': 20, 'learning_rate': 0.2, 'max_depth': 5, 'random_state': 1337, 'dtrain': <xgboost.core.DMatrix object at 0x000000002461CDD0>, 'dtest': <xgboost.core.DMatrix object at 0x000000002461CCE0>}\n",
      "[0]\teval-mlogloss:1.67631\n"
     ]
    },
    {
     "name": "stderr",
     "output_type": "stream",
     "text": [
      "S:\\anaconda\\envs\\study\\Lib\\site-packages\\xgboost\\training.py:183: UserWarning: [17:22:09] WARNING: C:\\b\\abs_d97hy_84m6\\croot\\xgboost-split_1749630932152\\work\\src\\learner.cc:738: \n",
      "Parameters: { \"early_stopping_rounds\" } are not used.\n",
      "\n",
      "  bst.update(dtrain, iteration=i, fobj=obj)\n"
     ]
    },
    {
     "name": "stdout",
     "output_type": "stream",
     "text": [
      "[10]\teval-mlogloss:0.77367\n",
      "[19]\teval-mlogloss:0.63642\n",
      "24 {'n_estimators': 20, 'learning_rate': 0.05, 'max_depth': 3, 'random_state': 1337, 'dtrain': <xgboost.core.DMatrix object at 0x000000002461CDD0>, 'dtest': <xgboost.core.DMatrix object at 0x000000002461CCE0>}\n",
      "[0]\teval-mlogloss:1.87919\n"
     ]
    },
    {
     "name": "stderr",
     "output_type": "stream",
     "text": [
      "S:\\anaconda\\envs\\study\\Lib\\site-packages\\xgboost\\training.py:183: UserWarning: [17:22:10] WARNING: C:\\b\\abs_d97hy_84m6\\croot\\xgboost-split_1749630932152\\work\\src\\learner.cc:738: \n",
      "Parameters: { \"early_stopping_rounds\" } are not used.\n",
      "\n",
      "  bst.update(dtrain, iteration=i, fobj=obj)\n"
     ]
    },
    {
     "name": "stdout",
     "output_type": "stream",
     "text": [
      "[10]\teval-mlogloss:1.36510\n",
      "[19]\teval-mlogloss:1.13327\n",
      "25 {'n_estimators': 20, 'learning_rate': 0.05, 'max_depth': 4, 'random_state': 1337, 'dtrain': <xgboost.core.DMatrix object at 0x000000002461CDD0>, 'dtest': <xgboost.core.DMatrix object at 0x000000002461CCE0>}\n",
      "[0]\teval-mlogloss:1.87721\n"
     ]
    },
    {
     "name": "stderr",
     "output_type": "stream",
     "text": [
      "S:\\anaconda\\envs\\study\\Lib\\site-packages\\sklearn\\metrics\\_classification.py:1565: UndefinedMetricWarning: Precision is ill-defined and being set to 0.0 in labels with no predicted samples. Use `zero_division` parameter to control this behavior.\n",
      "  _warn_prf(average, modifier, f\"{metric.capitalize()} is\", len(result))\n",
      "S:\\anaconda\\envs\\study\\Lib\\site-packages\\sklearn\\metrics\\_classification.py:1565: UndefinedMetricWarning: Precision is ill-defined and being set to 0.0 in labels with no predicted samples. Use `zero_division` parameter to control this behavior.\n",
      "  _warn_prf(average, modifier, f\"{metric.capitalize()} is\", len(result))\n",
      "S:\\anaconda\\envs\\study\\Lib\\site-packages\\sklearn\\metrics\\_classification.py:1565: UndefinedMetricWarning: Precision is ill-defined and being set to 0.0 in labels with no predicted samples. Use `zero_division` parameter to control this behavior.\n",
      "  _warn_prf(average, modifier, f\"{metric.capitalize()} is\", len(result))\n",
      "S:\\anaconda\\envs\\study\\Lib\\site-packages\\xgboost\\training.py:183: UserWarning: [17:22:11] WARNING: C:\\b\\abs_d97hy_84m6\\croot\\xgboost-split_1749630932152\\work\\src\\learner.cc:738: \n",
      "Parameters: { \"early_stopping_rounds\" } are not used.\n",
      "\n",
      "  bst.update(dtrain, iteration=i, fobj=obj)\n"
     ]
    },
    {
     "name": "stdout",
     "output_type": "stream",
     "text": [
      "[10]\teval-mlogloss:1.34725\n",
      "[19]\teval-mlogloss:1.10857\n",
      "26 {'n_estimators': 20, 'learning_rate': 0.05, 'max_depth': 5, 'random_state': 1337, 'dtrain': <xgboost.core.DMatrix object at 0x000000002461CDD0>, 'dtest': <xgboost.core.DMatrix object at 0x000000002461CCE0>}\n",
      "[0]\teval-mlogloss:1.87513\n"
     ]
    },
    {
     "name": "stderr",
     "output_type": "stream",
     "text": [
      "S:\\anaconda\\envs\\study\\Lib\\site-packages\\xgboost\\training.py:183: UserWarning: [17:22:11] WARNING: C:\\b\\abs_d97hy_84m6\\croot\\xgboost-split_1749630932152\\work\\src\\learner.cc:738: \n",
      "Parameters: { \"early_stopping_rounds\" } are not used.\n",
      "\n",
      "  bst.update(dtrain, iteration=i, fobj=obj)\n"
     ]
    },
    {
     "name": "stdout",
     "output_type": "stream",
     "text": [
      "[10]\teval-mlogloss:1.33067\n",
      "[19]\teval-mlogloss:1.08544\n",
      "27 {'n_estimators': 200, 'learning_rate': 0.1, 'max_depth': 3, 'random_state': 1337, 'dtrain': <xgboost.core.DMatrix object at 0x000000002461CDD0>, 'dtest': <xgboost.core.DMatrix object at 0x000000002461CCE0>}\n",
      "[0]\teval-mlogloss:1.81453\n"
     ]
    },
    {
     "name": "stderr",
     "output_type": "stream",
     "text": [
      "S:\\anaconda\\envs\\study\\Lib\\site-packages\\xgboost\\training.py:183: UserWarning: [17:22:12] WARNING: C:\\b\\abs_d97hy_84m6\\croot\\xgboost-split_1749630932152\\work\\src\\learner.cc:738: \n",
      "Parameters: { \"early_stopping_rounds\" } are not used.\n",
      "\n",
      "  bst.update(dtrain, iteration=i, fobj=obj)\n"
     ]
    },
    {
     "name": "stdout",
     "output_type": "stream",
     "text": [
      "[10]\teval-mlogloss:1.08733\n",
      "[20]\teval-mlogloss:0.86007\n",
      "[30]\teval-mlogloss:0.76025\n",
      "[40]\teval-mlogloss:0.70805\n",
      "[50]\teval-mlogloss:0.67595\n",
      "[60]\teval-mlogloss:0.65513\n",
      "[70]\teval-mlogloss:0.64103\n",
      "[80]\teval-mlogloss:0.63084\n",
      "[90]\teval-mlogloss:0.62282\n",
      "[100]\teval-mlogloss:0.61555\n",
      "[110]\teval-mlogloss:0.61045\n",
      "[120]\teval-mlogloss:0.60553\n",
      "[130]\teval-mlogloss:0.60127\n",
      "[140]\teval-mlogloss:0.59591\n",
      "[150]\teval-mlogloss:0.59158\n",
      "[160]\teval-mlogloss:0.58735\n",
      "[170]\teval-mlogloss:0.58288\n",
      "[180]\teval-mlogloss:0.57996\n",
      "[190]\teval-mlogloss:0.57630\n",
      "[199]\teval-mlogloss:0.57342\n",
      "28 {'n_estimators': 200, 'learning_rate': 0.1, 'max_depth': 4, 'random_state': 1337, 'dtrain': <xgboost.core.DMatrix object at 0x000000002461CDD0>, 'dtest': <xgboost.core.DMatrix object at 0x000000002461CCE0>}\n",
      "[0]\teval-mlogloss:1.81062\n"
     ]
    },
    {
     "name": "stderr",
     "output_type": "stream",
     "text": [
      "S:\\anaconda\\envs\\study\\Lib\\site-packages\\xgboost\\training.py:183: UserWarning: [17:22:19] WARNING: C:\\b\\abs_d97hy_84m6\\croot\\xgboost-split_1749630932152\\work\\src\\learner.cc:738: \n",
      "Parameters: { \"early_stopping_rounds\" } are not used.\n",
      "\n",
      "  bst.update(dtrain, iteration=i, fobj=obj)\n"
     ]
    },
    {
     "name": "stdout",
     "output_type": "stream",
     "text": [
      "[10]\teval-mlogloss:1.06156\n",
      "[20]\teval-mlogloss:0.82710\n",
      "[30]\teval-mlogloss:0.72419\n",
      "[40]\teval-mlogloss:0.67085\n",
      "[50]\teval-mlogloss:0.63846\n",
      "[60]\teval-mlogloss:0.61811\n",
      "[70]\teval-mlogloss:0.60368\n",
      "[80]\teval-mlogloss:0.59356\n",
      "[90]\teval-mlogloss:0.58424\n",
      "[100]\teval-mlogloss:0.57633\n",
      "[110]\teval-mlogloss:0.56978\n",
      "[120]\teval-mlogloss:0.56419\n",
      "[130]\teval-mlogloss:0.55831\n",
      "[140]\teval-mlogloss:0.55360\n",
      "[150]\teval-mlogloss:0.54877\n",
      "[160]\teval-mlogloss:0.54445\n",
      "[170]\teval-mlogloss:0.53922\n",
      "[180]\teval-mlogloss:0.53435\n",
      "[190]\teval-mlogloss:0.52983\n",
      "[199]\teval-mlogloss:0.52578\n",
      "29 {'n_estimators': 200, 'learning_rate': 0.1, 'max_depth': 5, 'random_state': 1337, 'dtrain': <xgboost.core.DMatrix object at 0x000000002461CDD0>, 'dtest': <xgboost.core.DMatrix object at 0x000000002461CCE0>}\n",
      "[0]\teval-mlogloss:1.80653\n"
     ]
    },
    {
     "name": "stderr",
     "output_type": "stream",
     "text": [
      "S:\\anaconda\\envs\\study\\Lib\\site-packages\\xgboost\\training.py:183: UserWarning: [17:22:26] WARNING: C:\\b\\abs_d97hy_84m6\\croot\\xgboost-split_1749630932152\\work\\src\\learner.cc:738: \n",
      "Parameters: { \"early_stopping_rounds\" } are not used.\n",
      "\n",
      "  bst.update(dtrain, iteration=i, fobj=obj)\n"
     ]
    },
    {
     "name": "stdout",
     "output_type": "stream",
     "text": [
      "[10]\teval-mlogloss:1.03790\n",
      "[20]\teval-mlogloss:0.79646\n",
      "[30]\teval-mlogloss:0.68921\n",
      "[40]\teval-mlogloss:0.63495\n",
      "[50]\teval-mlogloss:0.60215\n",
      "[60]\teval-mlogloss:0.58130\n",
      "[70]\teval-mlogloss:0.56611\n",
      "[80]\teval-mlogloss:0.55481\n",
      "[90]\teval-mlogloss:0.54542\n",
      "[100]\teval-mlogloss:0.53575\n",
      "[110]\teval-mlogloss:0.52927\n",
      "[120]\teval-mlogloss:0.52062\n",
      "[130]\teval-mlogloss:0.51399\n",
      "[140]\teval-mlogloss:0.50769\n",
      "[150]\teval-mlogloss:0.50201\n",
      "[160]\teval-mlogloss:0.49739\n",
      "[170]\teval-mlogloss:0.49202\n",
      "[180]\teval-mlogloss:0.48695\n",
      "[190]\teval-mlogloss:0.48186\n",
      "[199]\teval-mlogloss:0.47765\n",
      "30 {'n_estimators': 200, 'learning_rate': 0.2, 'max_depth': 3, 'random_state': 1337, 'dtrain': <xgboost.core.DMatrix object at 0x000000002461CDD0>, 'dtest': <xgboost.core.DMatrix object at 0x000000002461CCE0>}\n",
      "[0]\teval-mlogloss:1.69172\n"
     ]
    },
    {
     "name": "stderr",
     "output_type": "stream",
     "text": [
      "S:\\anaconda\\envs\\study\\Lib\\site-packages\\xgboost\\training.py:183: UserWarning: [17:22:33] WARNING: C:\\b\\abs_d97hy_84m6\\croot\\xgboost-split_1749630932152\\work\\src\\learner.cc:738: \n",
      "Parameters: { \"early_stopping_rounds\" } are not used.\n",
      "\n",
      "  bst.update(dtrain, iteration=i, fobj=obj)\n"
     ]
    },
    {
     "name": "stdout",
     "output_type": "stream",
     "text": [
      "[10]\teval-mlogloss:0.83955\n",
      "[20]\teval-mlogloss:0.69984\n",
      "[30]\teval-mlogloss:0.65115\n",
      "[40]\teval-mlogloss:0.62820\n",
      "[50]\teval-mlogloss:0.61432\n",
      "[60]\teval-mlogloss:0.60483\n",
      "[70]\teval-mlogloss:0.59493\n",
      "[80]\teval-mlogloss:0.58645\n",
      "[90]\teval-mlogloss:0.57822\n",
      "[100]\teval-mlogloss:0.57133\n",
      "[110]\teval-mlogloss:0.56521\n",
      "[120]\teval-mlogloss:0.55853\n",
      "[130]\teval-mlogloss:0.55365\n",
      "[140]\teval-mlogloss:0.54847\n",
      "[150]\teval-mlogloss:0.54333\n",
      "[160]\teval-mlogloss:0.53921\n",
      "[170]\teval-mlogloss:0.53523\n",
      "[180]\teval-mlogloss:0.53122\n",
      "[190]\teval-mlogloss:0.52730\n",
      "[199]\teval-mlogloss:0.52360\n",
      "31 {'n_estimators': 200, 'learning_rate': 0.2, 'max_depth': 4, 'random_state': 1337, 'dtrain': <xgboost.core.DMatrix object at 0x000000002461CDD0>, 'dtest': <xgboost.core.DMatrix object at 0x000000002461CCE0>}\n",
      "[0]\teval-mlogloss:1.68417\n"
     ]
    },
    {
     "name": "stderr",
     "output_type": "stream",
     "text": [
      "S:\\anaconda\\envs\\study\\Lib\\site-packages\\xgboost\\training.py:183: UserWarning: [17:22:40] WARNING: C:\\b\\abs_d97hy_84m6\\croot\\xgboost-split_1749630932152\\work\\src\\learner.cc:738: \n",
      "Parameters: { \"early_stopping_rounds\" } are not used.\n",
      "\n",
      "  bst.update(dtrain, iteration=i, fobj=obj)\n"
     ]
    },
    {
     "name": "stdout",
     "output_type": "stream",
     "text": [
      "[10]\teval-mlogloss:0.80512\n",
      "[20]\teval-mlogloss:0.66297\n",
      "[30]\teval-mlogloss:0.61370\n",
      "[40]\teval-mlogloss:0.58935\n",
      "[50]\teval-mlogloss:0.57349\n",
      "[60]\teval-mlogloss:0.56139\n",
      "[70]\teval-mlogloss:0.55240\n",
      "[80]\teval-mlogloss:0.54256\n",
      "[90]\teval-mlogloss:0.53141\n",
      "[100]\teval-mlogloss:0.52215\n",
      "[110]\teval-mlogloss:0.51484\n",
      "[120]\teval-mlogloss:0.50755\n",
      "[130]\teval-mlogloss:0.50110\n",
      "[140]\teval-mlogloss:0.49453\n",
      "[150]\teval-mlogloss:0.48957\n",
      "[160]\teval-mlogloss:0.48458\n",
      "[170]\teval-mlogloss:0.47985\n",
      "[180]\teval-mlogloss:0.47498\n",
      "[190]\teval-mlogloss:0.46992\n",
      "[199]\teval-mlogloss:0.46600\n",
      "32 {'n_estimators': 200, 'learning_rate': 0.2, 'max_depth': 5, 'random_state': 1337, 'dtrain': <xgboost.core.DMatrix object at 0x000000002461CDD0>, 'dtest': <xgboost.core.DMatrix object at 0x000000002461CCE0>}\n",
      "[0]\teval-mlogloss:1.67631\n"
     ]
    },
    {
     "name": "stderr",
     "output_type": "stream",
     "text": [
      "S:\\anaconda\\envs\\study\\Lib\\site-packages\\xgboost\\training.py:183: UserWarning: [17:22:47] WARNING: C:\\b\\abs_d97hy_84m6\\croot\\xgboost-split_1749630932152\\work\\src\\learner.cc:738: \n",
      "Parameters: { \"early_stopping_rounds\" } are not used.\n",
      "\n",
      "  bst.update(dtrain, iteration=i, fobj=obj)\n"
     ]
    },
    {
     "name": "stdout",
     "output_type": "stream",
     "text": [
      "[10]\teval-mlogloss:0.77367\n",
      "[20]\teval-mlogloss:0.62826\n",
      "[30]\teval-mlogloss:0.57808\n",
      "[40]\teval-mlogloss:0.55264\n",
      "[50]\teval-mlogloss:0.53487\n",
      "[60]\teval-mlogloss:0.52156\n",
      "[70]\teval-mlogloss:0.50702\n",
      "[80]\teval-mlogloss:0.49558\n",
      "[90]\teval-mlogloss:0.48471\n",
      "[100]\teval-mlogloss:0.47519\n",
      "[110]\teval-mlogloss:0.46684\n",
      "[120]\teval-mlogloss:0.45849\n",
      "[130]\teval-mlogloss:0.45001\n",
      "[140]\teval-mlogloss:0.44263\n",
      "[150]\teval-mlogloss:0.43656\n",
      "[160]\teval-mlogloss:0.43046\n",
      "[170]\teval-mlogloss:0.42464\n",
      "[180]\teval-mlogloss:0.41961\n",
      "[190]\teval-mlogloss:0.41399\n",
      "[199]\teval-mlogloss:0.40973\n",
      "33 {'n_estimators': 200, 'learning_rate': 0.05, 'max_depth': 3, 'random_state': 1337, 'dtrain': <xgboost.core.DMatrix object at 0x000000002461CDD0>, 'dtest': <xgboost.core.DMatrix object at 0x000000002461CCE0>}\n",
      "[0]\teval-mlogloss:1.87919\n"
     ]
    },
    {
     "name": "stderr",
     "output_type": "stream",
     "text": [
      "S:\\anaconda\\envs\\study\\Lib\\site-packages\\xgboost\\training.py:183: UserWarning: [17:22:55] WARNING: C:\\b\\abs_d97hy_84m6\\croot\\xgboost-split_1749630932152\\work\\src\\learner.cc:738: \n",
      "Parameters: { \"early_stopping_rounds\" } are not used.\n",
      "\n",
      "  bst.update(dtrain, iteration=i, fobj=obj)\n"
     ]
    },
    {
     "name": "stdout",
     "output_type": "stream",
     "text": [
      "[10]\teval-mlogloss:1.36510\n",
      "[20]\teval-mlogloss:1.11320\n",
      "[30]\teval-mlogloss:0.96668\n",
      "[40]\teval-mlogloss:0.87186\n",
      "[50]\teval-mlogloss:0.80889\n",
      "[60]\teval-mlogloss:0.76565\n",
      "[70]\teval-mlogloss:0.73384\n",
      "[80]\teval-mlogloss:0.70968\n",
      "[90]\teval-mlogloss:0.69112\n",
      "[100]\teval-mlogloss:0.67665\n",
      "[110]\teval-mlogloss:0.66504\n",
      "[120]\teval-mlogloss:0.65588\n",
      "[130]\teval-mlogloss:0.64810\n",
      "[140]\teval-mlogloss:0.64157\n",
      "[150]\teval-mlogloss:0.63603\n",
      "[160]\teval-mlogloss:0.63116\n",
      "[170]\teval-mlogloss:0.62698\n",
      "[180]\teval-mlogloss:0.62334\n",
      "[190]\teval-mlogloss:0.62005\n",
      "[199]\teval-mlogloss:0.61732\n",
      "34 {'n_estimators': 200, 'learning_rate': 0.05, 'max_depth': 4, 'random_state': 1337, 'dtrain': <xgboost.core.DMatrix object at 0x000000002461CDD0>, 'dtest': <xgboost.core.DMatrix object at 0x000000002461CCE0>}\n",
      "[0]\teval-mlogloss:1.87721\n"
     ]
    },
    {
     "name": "stderr",
     "output_type": "stream",
     "text": [
      "S:\\anaconda\\envs\\study\\Lib\\site-packages\\sklearn\\metrics\\_classification.py:1565: UndefinedMetricWarning: Precision is ill-defined and being set to 0.0 in labels with no predicted samples. Use `zero_division` parameter to control this behavior.\n",
      "  _warn_prf(average, modifier, f\"{metric.capitalize()} is\", len(result))\n",
      "S:\\anaconda\\envs\\study\\Lib\\site-packages\\sklearn\\metrics\\_classification.py:1565: UndefinedMetricWarning: Precision is ill-defined and being set to 0.0 in labels with no predicted samples. Use `zero_division` parameter to control this behavior.\n",
      "  _warn_prf(average, modifier, f\"{metric.capitalize()} is\", len(result))\n",
      "S:\\anaconda\\envs\\study\\Lib\\site-packages\\sklearn\\metrics\\_classification.py:1565: UndefinedMetricWarning: Precision is ill-defined and being set to 0.0 in labels with no predicted samples. Use `zero_division` parameter to control this behavior.\n",
      "  _warn_prf(average, modifier, f\"{metric.capitalize()} is\", len(result))\n",
      "S:\\anaconda\\envs\\study\\Lib\\site-packages\\xgboost\\training.py:183: UserWarning: [17:23:02] WARNING: C:\\b\\abs_d97hy_84m6\\croot\\xgboost-split_1749630932152\\work\\src\\learner.cc:738: \n",
      "Parameters: { \"early_stopping_rounds\" } are not used.\n",
      "\n",
      "  bst.update(dtrain, iteration=i, fobj=obj)\n"
     ]
    },
    {
     "name": "stdout",
     "output_type": "stream",
     "text": [
      "[10]\teval-mlogloss:1.34725\n",
      "[20]\teval-mlogloss:1.08803\n",
      "[30]\teval-mlogloss:0.93657\n",
      "[40]\teval-mlogloss:0.83918\n",
      "[50]\teval-mlogloss:0.77488\n",
      "[60]\teval-mlogloss:0.73046\n",
      "[70]\teval-mlogloss:0.69843\n",
      "[80]\teval-mlogloss:0.67441\n",
      "[90]\teval-mlogloss:0.65586\n",
      "[100]\teval-mlogloss:0.64120\n",
      "[110]\teval-mlogloss:0.62921\n",
      "[120]\teval-mlogloss:0.61970\n",
      "[130]\teval-mlogloss:0.61162\n",
      "[140]\teval-mlogloss:0.60503\n",
      "[150]\teval-mlogloss:0.59927\n",
      "[160]\teval-mlogloss:0.59461\n",
      "[170]\teval-mlogloss:0.59040\n",
      "[180]\teval-mlogloss:0.58643\n",
      "[190]\teval-mlogloss:0.58241\n",
      "[199]\teval-mlogloss:0.57917\n",
      "35 {'n_estimators': 200, 'learning_rate': 0.05, 'max_depth': 5, 'random_state': 1337, 'dtrain': <xgboost.core.DMatrix object at 0x000000002461CDD0>, 'dtest': <xgboost.core.DMatrix object at 0x000000002461CCE0>}\n",
      "[0]\teval-mlogloss:1.87513\n"
     ]
    },
    {
     "name": "stderr",
     "output_type": "stream",
     "text": [
      "S:\\anaconda\\envs\\study\\Lib\\site-packages\\xgboost\\training.py:183: UserWarning: [17:23:10] WARNING: C:\\b\\abs_d97hy_84m6\\croot\\xgboost-split_1749630932152\\work\\src\\learner.cc:738: \n",
      "Parameters: { \"early_stopping_rounds\" } are not used.\n",
      "\n",
      "  bst.update(dtrain, iteration=i, fobj=obj)\n"
     ]
    },
    {
     "name": "stdout",
     "output_type": "stream",
     "text": [
      "[10]\teval-mlogloss:1.33067\n",
      "[20]\teval-mlogloss:1.06442\n",
      "[30]\teval-mlogloss:0.90816\n",
      "[40]\teval-mlogloss:0.80704\n",
      "[50]\teval-mlogloss:0.74108\n",
      "[60]\teval-mlogloss:0.69598\n",
      "[70]\teval-mlogloss:0.66290\n",
      "[80]\teval-mlogloss:0.63877\n",
      "[90]\teval-mlogloss:0.62019\n",
      "[100]\teval-mlogloss:0.60542\n",
      "[110]\teval-mlogloss:0.59338\n",
      "[120]\teval-mlogloss:0.58368\n",
      "[130]\teval-mlogloss:0.57562\n",
      "[140]\teval-mlogloss:0.56840\n",
      "[150]\teval-mlogloss:0.56223\n",
      "[160]\teval-mlogloss:0.55727\n",
      "[170]\teval-mlogloss:0.55208\n",
      "[180]\teval-mlogloss:0.54765\n",
      "[190]\teval-mlogloss:0.54301\n",
      "[199]\teval-mlogloss:0.53894\n"
     ]
    },
    {
     "name": "stderr",
     "output_type": "stream",
     "text": [
      "C:\\Users\\nikol\\AppData\\Local\\Temp\\ipykernel_14832\\3180493565.py:13: FutureWarning: Calling int on a single element Series is deprecated and will raise a TypeError in the future. Use int(ser.iloc[0]) instead\n",
      "  num_classes = int(d[d.target_features].nunique()) # ИСПРАВЛЕНИЕ: Количество уникальных классов\n",
      "S:\\anaconda\\envs\\study\\Lib\\site-packages\\xgboost\\training.py:183: UserWarning: [17:23:17] WARNING: C:\\b\\abs_d97hy_84m6\\croot\\xgboost-split_1749630932152\\work\\src\\learner.cc:738: \n",
      "Parameters: { \"early_stopping_rounds\" } are not used.\n",
      "\n",
      "  bst.update(dtrain, iteration=i, fobj=obj)\n"
     ]
    },
    {
     "name": "stdout",
     "output_type": "stream",
     "text": [
      "36\n",
      "0 {'n_estimators': 100, 'learning_rate': 0.1, 'max_depth': 3, 'random_state': 1337, 'dtrain': <xgboost.core.DMatrix object at 0x0000000024576750>, 'dtest': <xgboost.core.DMatrix object at 0x0000000010B88830>}\n",
      "[0]\teval-mlogloss:1.77748\n",
      "[10]\teval-mlogloss:1.09134\n",
      "[20]\teval-mlogloss:0.86264\n",
      "[30]\teval-mlogloss:0.75844\n",
      "[40]\teval-mlogloss:0.70601\n",
      "[50]\teval-mlogloss:0.67417\n",
      "[60]\teval-mlogloss:0.65434\n",
      "[70]\teval-mlogloss:0.63987\n",
      "[80]\teval-mlogloss:0.62971\n",
      "[90]\teval-mlogloss:0.62231\n",
      "[99]\teval-mlogloss:0.61636\n",
      "1 {'n_estimators': 100, 'learning_rate': 0.1, 'max_depth': 4, 'random_state': 1337, 'dtrain': <xgboost.core.DMatrix object at 0x0000000024576750>, 'dtest': <xgboost.core.DMatrix object at 0x0000000010B88830>}\n",
      "[0]\teval-mlogloss:1.77218\n"
     ]
    },
    {
     "name": "stderr",
     "output_type": "stream",
     "text": [
      "S:\\anaconda\\envs\\study\\Lib\\site-packages\\xgboost\\training.py:183: UserWarning: [17:23:21] WARNING: C:\\b\\abs_d97hy_84m6\\croot\\xgboost-split_1749630932152\\work\\src\\learner.cc:738: \n",
      "Parameters: { \"early_stopping_rounds\" } are not used.\n",
      "\n",
      "  bst.update(dtrain, iteration=i, fobj=obj)\n"
     ]
    },
    {
     "name": "stdout",
     "output_type": "stream",
     "text": [
      "[10]\teval-mlogloss:1.06519\n",
      "[20]\teval-mlogloss:0.83063\n",
      "[30]\teval-mlogloss:0.72437\n",
      "[40]\teval-mlogloss:0.67100\n",
      "[50]\teval-mlogloss:0.63913\n",
      "[60]\teval-mlogloss:0.61871\n",
      "[70]\teval-mlogloss:0.60452\n",
      "[80]\teval-mlogloss:0.59385\n",
      "[90]\teval-mlogloss:0.58627\n",
      "[99]\teval-mlogloss:0.57987\n",
      "2 {'n_estimators': 100, 'learning_rate': 0.1, 'max_depth': 5, 'random_state': 1337, 'dtrain': <xgboost.core.DMatrix object at 0x0000000024576750>, 'dtest': <xgboost.core.DMatrix object at 0x0000000010B88830>}\n",
      "[0]\teval-mlogloss:1.76652\n"
     ]
    },
    {
     "name": "stderr",
     "output_type": "stream",
     "text": [
      "S:\\anaconda\\envs\\study\\Lib\\site-packages\\xgboost\\training.py:183: UserWarning: [17:23:25] WARNING: C:\\b\\abs_d97hy_84m6\\croot\\xgboost-split_1749630932152\\work\\src\\learner.cc:738: \n",
      "Parameters: { \"early_stopping_rounds\" } are not used.\n",
      "\n",
      "  bst.update(dtrain, iteration=i, fobj=obj)\n"
     ]
    },
    {
     "name": "stdout",
     "output_type": "stream",
     "text": [
      "[10]\teval-mlogloss:1.04061\n",
      "[20]\teval-mlogloss:0.79834\n",
      "[30]\teval-mlogloss:0.68776\n",
      "[40]\teval-mlogloss:0.63402\n",
      "[50]\teval-mlogloss:0.60284\n",
      "[60]\teval-mlogloss:0.58175\n",
      "[70]\teval-mlogloss:0.56653\n",
      "[80]\teval-mlogloss:0.55503\n",
      "[90]\teval-mlogloss:0.54623\n",
      "[99]\teval-mlogloss:0.53958\n",
      "3 {'n_estimators': 100, 'learning_rate': 0.2, 'max_depth': 3, 'random_state': 1337, 'dtrain': <xgboost.core.DMatrix object at 0x0000000024576750>, 'dtest': <xgboost.core.DMatrix object at 0x0000000010B88830>}\n",
      "[0]\teval-mlogloss:1.62073\n"
     ]
    },
    {
     "name": "stderr",
     "output_type": "stream",
     "text": [
      "S:\\anaconda\\envs\\study\\Lib\\site-packages\\xgboost\\training.py:183: UserWarning: [17:23:29] WARNING: C:\\b\\abs_d97hy_84m6\\croot\\xgboost-split_1749630932152\\work\\src\\learner.cc:738: \n",
      "Parameters: { \"early_stopping_rounds\" } are not used.\n",
      "\n",
      "  bst.update(dtrain, iteration=i, fobj=obj)\n"
     ]
    },
    {
     "name": "stdout",
     "output_type": "stream",
     "text": [
      "[10]\teval-mlogloss:0.83843\n",
      "[20]\teval-mlogloss:0.69863\n",
      "[30]\teval-mlogloss:0.64992\n",
      "[40]\teval-mlogloss:0.62754\n",
      "[50]\teval-mlogloss:0.61392\n",
      "[60]\teval-mlogloss:0.60372\n",
      "[70]\teval-mlogloss:0.59453\n",
      "[80]\teval-mlogloss:0.58532\n",
      "[90]\teval-mlogloss:0.57648\n",
      "[99]\teval-mlogloss:0.57063\n",
      "4 {'n_estimators': 100, 'learning_rate': 0.2, 'max_depth': 4, 'random_state': 1337, 'dtrain': <xgboost.core.DMatrix object at 0x0000000024576750>, 'dtest': <xgboost.core.DMatrix object at 0x0000000010B88830>}\n",
      "[0]\teval-mlogloss:1.61056\n"
     ]
    },
    {
     "name": "stderr",
     "output_type": "stream",
     "text": [
      "S:\\anaconda\\envs\\study\\Lib\\site-packages\\xgboost\\training.py:183: UserWarning: [17:23:32] WARNING: C:\\b\\abs_d97hy_84m6\\croot\\xgboost-split_1749630932152\\work\\src\\learner.cc:738: \n",
      "Parameters: { \"early_stopping_rounds\" } are not used.\n",
      "\n",
      "  bst.update(dtrain, iteration=i, fobj=obj)\n"
     ]
    },
    {
     "name": "stdout",
     "output_type": "stream",
     "text": [
      "[10]\teval-mlogloss:0.80768\n",
      "[20]\teval-mlogloss:0.66486\n",
      "[30]\teval-mlogloss:0.61555\n",
      "[40]\teval-mlogloss:0.59287\n",
      "[50]\teval-mlogloss:0.57873\n",
      "[60]\teval-mlogloss:0.56647\n",
      "[70]\teval-mlogloss:0.55459\n",
      "[80]\teval-mlogloss:0.54462\n",
      "[90]\teval-mlogloss:0.53480\n",
      "[99]\teval-mlogloss:0.52725\n",
      "5 {'n_estimators': 100, 'learning_rate': 0.2, 'max_depth': 5, 'random_state': 1337, 'dtrain': <xgboost.core.DMatrix object at 0x0000000024576750>, 'dtest': <xgboost.core.DMatrix object at 0x0000000010B88830>}\n",
      "[0]\teval-mlogloss:1.59972\n"
     ]
    },
    {
     "name": "stderr",
     "output_type": "stream",
     "text": [
      "S:\\anaconda\\envs\\study\\Lib\\site-packages\\xgboost\\training.py:183: UserWarning: [17:23:36] WARNING: C:\\b\\abs_d97hy_84m6\\croot\\xgboost-split_1749630932152\\work\\src\\learner.cc:738: \n",
      "Parameters: { \"early_stopping_rounds\" } are not used.\n",
      "\n",
      "  bst.update(dtrain, iteration=i, fobj=obj)\n"
     ]
    },
    {
     "name": "stdout",
     "output_type": "stream",
     "text": [
      "[10]\teval-mlogloss:0.77394\n",
      "[20]\teval-mlogloss:0.62672\n",
      "[30]\teval-mlogloss:0.57571\n",
      "[40]\teval-mlogloss:0.55122\n",
      "[50]\teval-mlogloss:0.53449\n",
      "[60]\teval-mlogloss:0.52062\n",
      "[70]\teval-mlogloss:0.50777\n",
      "[80]\teval-mlogloss:0.49517\n",
      "[90]\teval-mlogloss:0.48531\n",
      "[99]\teval-mlogloss:0.47750\n",
      "6 {'n_estimators': 100, 'learning_rate': 0.05, 'max_depth': 3, 'random_state': 1337, 'dtrain': <xgboost.core.DMatrix object at 0x0000000024576750>, 'dtest': <xgboost.core.DMatrix object at 0x0000000010B88830>}\n",
      "[0]\teval-mlogloss:1.86034\n"
     ]
    },
    {
     "name": "stderr",
     "output_type": "stream",
     "text": [
      "S:\\anaconda\\envs\\study\\Lib\\site-packages\\xgboost\\training.py:183: UserWarning: [17:23:40] WARNING: C:\\b\\abs_d97hy_84m6\\croot\\xgboost-split_1749630932152\\work\\src\\learner.cc:738: \n",
      "Parameters: { \"early_stopping_rounds\" } are not used.\n",
      "\n",
      "  bst.update(dtrain, iteration=i, fobj=obj)\n"
     ]
    },
    {
     "name": "stdout",
     "output_type": "stream",
     "text": [
      "[10]\teval-mlogloss:1.36833\n",
      "[20]\teval-mlogloss:1.11695\n",
      "[30]\teval-mlogloss:0.96541\n",
      "[40]\teval-mlogloss:0.87372\n",
      "[50]\teval-mlogloss:0.81078\n",
      "[60]\teval-mlogloss:0.76685\n",
      "[70]\teval-mlogloss:0.73410\n",
      "[80]\teval-mlogloss:0.70962\n",
      "[90]\teval-mlogloss:0.69129\n",
      "[99]\teval-mlogloss:0.67831\n",
      "7 {'n_estimators': 100, 'learning_rate': 0.05, 'max_depth': 4, 'random_state': 1337, 'dtrain': <xgboost.core.DMatrix object at 0x0000000024576750>, 'dtest': <xgboost.core.DMatrix object at 0x0000000010B88830>}\n",
      "[0]\teval-mlogloss:1.85764\n"
     ]
    },
    {
     "name": "stderr",
     "output_type": "stream",
     "text": [
      "S:\\anaconda\\envs\\study\\Lib\\site-packages\\sklearn\\metrics\\_classification.py:1565: UndefinedMetricWarning: Precision is ill-defined and being set to 0.0 in labels with no predicted samples. Use `zero_division` parameter to control this behavior.\n",
      "  _warn_prf(average, modifier, f\"{metric.capitalize()} is\", len(result))\n",
      "S:\\anaconda\\envs\\study\\Lib\\site-packages\\sklearn\\metrics\\_classification.py:1565: UndefinedMetricWarning: Precision is ill-defined and being set to 0.0 in labels with no predicted samples. Use `zero_division` parameter to control this behavior.\n",
      "  _warn_prf(average, modifier, f\"{metric.capitalize()} is\", len(result))\n",
      "S:\\anaconda\\envs\\study\\Lib\\site-packages\\sklearn\\metrics\\_classification.py:1565: UndefinedMetricWarning: Precision is ill-defined and being set to 0.0 in labels with no predicted samples. Use `zero_division` parameter to control this behavior.\n",
      "  _warn_prf(average, modifier, f\"{metric.capitalize()} is\", len(result))\n",
      "S:\\anaconda\\envs\\study\\Lib\\site-packages\\xgboost\\training.py:183: UserWarning: [17:23:43] WARNING: C:\\b\\abs_d97hy_84m6\\croot\\xgboost-split_1749630932152\\work\\src\\learner.cc:738: \n",
      "Parameters: { \"early_stopping_rounds\" } are not used.\n",
      "\n",
      "  bst.update(dtrain, iteration=i, fobj=obj)\n"
     ]
    },
    {
     "name": "stdout",
     "output_type": "stream",
     "text": [
      "[10]\teval-mlogloss:1.35069\n",
      "[20]\teval-mlogloss:1.09201\n",
      "[30]\teval-mlogloss:0.93538\n",
      "[40]\teval-mlogloss:0.84136\n",
      "[50]\teval-mlogloss:0.77738\n",
      "[60]\teval-mlogloss:0.73246\n",
      "[70]\teval-mlogloss:0.69913\n",
      "[80]\teval-mlogloss:0.67490\n",
      "[90]\teval-mlogloss:0.65629\n",
      "[99]\teval-mlogloss:0.64330\n",
      "8 {'n_estimators': 100, 'learning_rate': 0.05, 'max_depth': 5, 'random_state': 1337, 'dtrain': <xgboost.core.DMatrix object at 0x0000000024576750>, 'dtest': <xgboost.core.DMatrix object at 0x0000000010B88830>}\n",
      "[0]\teval-mlogloss:1.85476\n"
     ]
    },
    {
     "name": "stderr",
     "output_type": "stream",
     "text": [
      "S:\\anaconda\\envs\\study\\Lib\\site-packages\\xgboost\\training.py:183: UserWarning: [17:23:46] WARNING: C:\\b\\abs_d97hy_84m6\\croot\\xgboost-split_1749630932152\\work\\src\\learner.cc:738: \n",
      "Parameters: { \"early_stopping_rounds\" } are not used.\n",
      "\n",
      "  bst.update(dtrain, iteration=i, fobj=obj)\n"
     ]
    },
    {
     "name": "stdout",
     "output_type": "stream",
     "text": [
      "[10]\teval-mlogloss:1.33368\n",
      "[20]\teval-mlogloss:1.06746\n",
      "[30]\teval-mlogloss:0.90640\n",
      "[40]\teval-mlogloss:0.80912\n",
      "[50]\teval-mlogloss:0.74334\n",
      "[60]\teval-mlogloss:0.69697\n",
      "[70]\teval-mlogloss:0.66298\n",
      "[80]\teval-mlogloss:0.63857\n",
      "[90]\teval-mlogloss:0.61991\n",
      "[99]\teval-mlogloss:0.60654\n",
      "9 {'n_estimators': 50, 'learning_rate': 0.1, 'max_depth': 3, 'random_state': 1337, 'dtrain': <xgboost.core.DMatrix object at 0x0000000024576750>, 'dtest': <xgboost.core.DMatrix object at 0x0000000010B88830>}\n",
      "[0]\teval-mlogloss:1.77748\n"
     ]
    },
    {
     "name": "stderr",
     "output_type": "stream",
     "text": [
      "S:\\anaconda\\envs\\study\\Lib\\site-packages\\xgboost\\training.py:183: UserWarning: [17:23:50] WARNING: C:\\b\\abs_d97hy_84m6\\croot\\xgboost-split_1749630932152\\work\\src\\learner.cc:738: \n",
      "Parameters: { \"early_stopping_rounds\" } are not used.\n",
      "\n",
      "  bst.update(dtrain, iteration=i, fobj=obj)\n"
     ]
    },
    {
     "name": "stdout",
     "output_type": "stream",
     "text": [
      "[10]\teval-mlogloss:1.09134\n",
      "[20]\teval-mlogloss:0.86264\n",
      "[30]\teval-mlogloss:0.75844\n",
      "[40]\teval-mlogloss:0.70601\n",
      "[49]\teval-mlogloss:0.67667\n",
      "10 {'n_estimators': 50, 'learning_rate': 0.1, 'max_depth': 4, 'random_state': 1337, 'dtrain': <xgboost.core.DMatrix object at 0x0000000024576750>, 'dtest': <xgboost.core.DMatrix object at 0x0000000010B88830>}\n",
      "[0]\teval-mlogloss:1.77218\n"
     ]
    },
    {
     "name": "stderr",
     "output_type": "stream",
     "text": [
      "S:\\anaconda\\envs\\study\\Lib\\site-packages\\sklearn\\metrics\\_classification.py:1565: UndefinedMetricWarning: Precision is ill-defined and being set to 0.0 in labels with no predicted samples. Use `zero_division` parameter to control this behavior.\n",
      "  _warn_prf(average, modifier, f\"{metric.capitalize()} is\", len(result))\n",
      "S:\\anaconda\\envs\\study\\Lib\\site-packages\\sklearn\\metrics\\_classification.py:1565: UndefinedMetricWarning: Precision is ill-defined and being set to 0.0 in labels with no predicted samples. Use `zero_division` parameter to control this behavior.\n",
      "  _warn_prf(average, modifier, f\"{metric.capitalize()} is\", len(result))\n",
      "S:\\anaconda\\envs\\study\\Lib\\site-packages\\sklearn\\metrics\\_classification.py:1565: UndefinedMetricWarning: Precision is ill-defined and being set to 0.0 in labels with no predicted samples. Use `zero_division` parameter to control this behavior.\n",
      "  _warn_prf(average, modifier, f\"{metric.capitalize()} is\", len(result))\n",
      "S:\\anaconda\\envs\\study\\Lib\\site-packages\\xgboost\\training.py:183: UserWarning: [17:23:52] WARNING: C:\\b\\abs_d97hy_84m6\\croot\\xgboost-split_1749630932152\\work\\src\\learner.cc:738: \n",
      "Parameters: { \"early_stopping_rounds\" } are not used.\n",
      "\n",
      "  bst.update(dtrain, iteration=i, fobj=obj)\n"
     ]
    },
    {
     "name": "stdout",
     "output_type": "stream",
     "text": [
      "[10]\teval-mlogloss:1.06519\n",
      "[20]\teval-mlogloss:0.83063\n",
      "[30]\teval-mlogloss:0.72437\n",
      "[40]\teval-mlogloss:0.67100\n",
      "[49]\teval-mlogloss:0.64144\n",
      "11 {'n_estimators': 50, 'learning_rate': 0.1, 'max_depth': 5, 'random_state': 1337, 'dtrain': <xgboost.core.DMatrix object at 0x0000000024576750>, 'dtest': <xgboost.core.DMatrix object at 0x0000000010B88830>}\n",
      "[0]\teval-mlogloss:1.76652\n"
     ]
    },
    {
     "name": "stderr",
     "output_type": "stream",
     "text": [
      "S:\\anaconda\\envs\\study\\Lib\\site-packages\\xgboost\\training.py:183: UserWarning: [17:23:54] WARNING: C:\\b\\abs_d97hy_84m6\\croot\\xgboost-split_1749630932152\\work\\src\\learner.cc:738: \n",
      "Parameters: { \"early_stopping_rounds\" } are not used.\n",
      "\n",
      "  bst.update(dtrain, iteration=i, fobj=obj)\n"
     ]
    },
    {
     "name": "stdout",
     "output_type": "stream",
     "text": [
      "[10]\teval-mlogloss:1.04061\n",
      "[20]\teval-mlogloss:0.79834\n",
      "[30]\teval-mlogloss:0.68776\n",
      "[40]\teval-mlogloss:0.63402\n",
      "[49]\teval-mlogloss:0.60515\n",
      "12 {'n_estimators': 50, 'learning_rate': 0.2, 'max_depth': 3, 'random_state': 1337, 'dtrain': <xgboost.core.DMatrix object at 0x0000000024576750>, 'dtest': <xgboost.core.DMatrix object at 0x0000000010B88830>}\n",
      "[0]\teval-mlogloss:1.62073\n"
     ]
    },
    {
     "name": "stderr",
     "output_type": "stream",
     "text": [
      "S:\\anaconda\\envs\\study\\Lib\\site-packages\\xgboost\\training.py:183: UserWarning: [17:23:56] WARNING: C:\\b\\abs_d97hy_84m6\\croot\\xgboost-split_1749630932152\\work\\src\\learner.cc:738: \n",
      "Parameters: { \"early_stopping_rounds\" } are not used.\n",
      "\n",
      "  bst.update(dtrain, iteration=i, fobj=obj)\n"
     ]
    },
    {
     "name": "stdout",
     "output_type": "stream",
     "text": [
      "[10]\teval-mlogloss:0.83843\n",
      "[20]\teval-mlogloss:0.69863\n",
      "[30]\teval-mlogloss:0.64992\n",
      "[40]\teval-mlogloss:0.62754\n",
      "[49]\teval-mlogloss:0.61524\n",
      "13 {'n_estimators': 50, 'learning_rate': 0.2, 'max_depth': 4, 'random_state': 1337, 'dtrain': <xgboost.core.DMatrix object at 0x0000000024576750>, 'dtest': <xgboost.core.DMatrix object at 0x0000000010B88830>}\n",
      "[0]\teval-mlogloss:1.61056\n"
     ]
    },
    {
     "name": "stderr",
     "output_type": "stream",
     "text": [
      "S:\\anaconda\\envs\\study\\Lib\\site-packages\\xgboost\\training.py:183: UserWarning: [17:23:58] WARNING: C:\\b\\abs_d97hy_84m6\\croot\\xgboost-split_1749630932152\\work\\src\\learner.cc:738: \n",
      "Parameters: { \"early_stopping_rounds\" } are not used.\n",
      "\n",
      "  bst.update(dtrain, iteration=i, fobj=obj)\n"
     ]
    },
    {
     "name": "stdout",
     "output_type": "stream",
     "text": [
      "[10]\teval-mlogloss:0.80768\n",
      "[20]\teval-mlogloss:0.66486\n",
      "[30]\teval-mlogloss:0.61555\n",
      "[40]\teval-mlogloss:0.59287\n",
      "[49]\teval-mlogloss:0.57979\n",
      "14 {'n_estimators': 50, 'learning_rate': 0.2, 'max_depth': 5, 'random_state': 1337, 'dtrain': <xgboost.core.DMatrix object at 0x0000000024576750>, 'dtest': <xgboost.core.DMatrix object at 0x0000000010B88830>}\n",
      "[0]\teval-mlogloss:1.59972\n"
     ]
    },
    {
     "name": "stderr",
     "output_type": "stream",
     "text": [
      "S:\\anaconda\\envs\\study\\Lib\\site-packages\\xgboost\\training.py:183: UserWarning: [17:24:00] WARNING: C:\\b\\abs_d97hy_84m6\\croot\\xgboost-split_1749630932152\\work\\src\\learner.cc:738: \n",
      "Parameters: { \"early_stopping_rounds\" } are not used.\n",
      "\n",
      "  bst.update(dtrain, iteration=i, fobj=obj)\n"
     ]
    },
    {
     "name": "stdout",
     "output_type": "stream",
     "text": [
      "[10]\teval-mlogloss:0.77394\n",
      "[20]\teval-mlogloss:0.62672\n",
      "[30]\teval-mlogloss:0.57571\n",
      "[40]\teval-mlogloss:0.55122\n",
      "[49]\teval-mlogloss:0.53598\n",
      "15 {'n_estimators': 50, 'learning_rate': 0.05, 'max_depth': 3, 'random_state': 1337, 'dtrain': <xgboost.core.DMatrix object at 0x0000000024576750>, 'dtest': <xgboost.core.DMatrix object at 0x0000000010B88830>}\n",
      "[0]\teval-mlogloss:1.86034\n"
     ]
    },
    {
     "name": "stderr",
     "output_type": "stream",
     "text": [
      "S:\\anaconda\\envs\\study\\Lib\\site-packages\\xgboost\\training.py:183: UserWarning: [17:24:01] WARNING: C:\\b\\abs_d97hy_84m6\\croot\\xgboost-split_1749630932152\\work\\src\\learner.cc:738: \n",
      "Parameters: { \"early_stopping_rounds\" } are not used.\n",
      "\n",
      "  bst.update(dtrain, iteration=i, fobj=obj)\n"
     ]
    },
    {
     "name": "stdout",
     "output_type": "stream",
     "text": [
      "[10]\teval-mlogloss:1.36833\n",
      "[20]\teval-mlogloss:1.11695\n",
      "[30]\teval-mlogloss:0.96541\n",
      "[40]\teval-mlogloss:0.87372\n",
      "[49]\teval-mlogloss:0.81636\n",
      "16 {'n_estimators': 50, 'learning_rate': 0.05, 'max_depth': 4, 'random_state': 1337, 'dtrain': <xgboost.core.DMatrix object at 0x0000000024576750>, 'dtest': <xgboost.core.DMatrix object at 0x0000000010B88830>}\n",
      "[0]\teval-mlogloss:1.85764\n"
     ]
    },
    {
     "name": "stderr",
     "output_type": "stream",
     "text": [
      "S:\\anaconda\\envs\\study\\Lib\\site-packages\\sklearn\\metrics\\_classification.py:1565: UndefinedMetricWarning: Precision is ill-defined and being set to 0.0 in labels with no predicted samples. Use `zero_division` parameter to control this behavior.\n",
      "  _warn_prf(average, modifier, f\"{metric.capitalize()} is\", len(result))\n",
      "S:\\anaconda\\envs\\study\\Lib\\site-packages\\sklearn\\metrics\\_classification.py:1565: UndefinedMetricWarning: Precision is ill-defined and being set to 0.0 in labels with no predicted samples. Use `zero_division` parameter to control this behavior.\n",
      "  _warn_prf(average, modifier, f\"{metric.capitalize()} is\", len(result))\n",
      "S:\\anaconda\\envs\\study\\Lib\\site-packages\\sklearn\\metrics\\_classification.py:1565: UndefinedMetricWarning: Precision is ill-defined and being set to 0.0 in labels with no predicted samples. Use `zero_division` parameter to control this behavior.\n",
      "  _warn_prf(average, modifier, f\"{metric.capitalize()} is\", len(result))\n",
      "S:\\anaconda\\envs\\study\\Lib\\site-packages\\xgboost\\training.py:183: UserWarning: [17:24:03] WARNING: C:\\b\\abs_d97hy_84m6\\croot\\xgboost-split_1749630932152\\work\\src\\learner.cc:738: \n",
      "Parameters: { \"early_stopping_rounds\" } are not used.\n",
      "\n",
      "  bst.update(dtrain, iteration=i, fobj=obj)\n"
     ]
    },
    {
     "name": "stdout",
     "output_type": "stream",
     "text": [
      "[10]\teval-mlogloss:1.35069\n",
      "[20]\teval-mlogloss:1.09201\n",
      "[30]\teval-mlogloss:0.93538\n",
      "[40]\teval-mlogloss:0.84136\n",
      "[49]\teval-mlogloss:0.78293\n",
      "17 {'n_estimators': 50, 'learning_rate': 0.05, 'max_depth': 5, 'random_state': 1337, 'dtrain': <xgboost.core.DMatrix object at 0x0000000024576750>, 'dtest': <xgboost.core.DMatrix object at 0x0000000010B88830>}\n",
      "[0]\teval-mlogloss:1.85476\n"
     ]
    },
    {
     "name": "stderr",
     "output_type": "stream",
     "text": [
      "S:\\anaconda\\envs\\study\\Lib\\site-packages\\xgboost\\training.py:183: UserWarning: [17:24:05] WARNING: C:\\b\\abs_d97hy_84m6\\croot\\xgboost-split_1749630932152\\work\\src\\learner.cc:738: \n",
      "Parameters: { \"early_stopping_rounds\" } are not used.\n",
      "\n",
      "  bst.update(dtrain, iteration=i, fobj=obj)\n"
     ]
    },
    {
     "name": "stdout",
     "output_type": "stream",
     "text": [
      "[10]\teval-mlogloss:1.33368\n",
      "[20]\teval-mlogloss:1.06746\n",
      "[30]\teval-mlogloss:0.90640\n",
      "[40]\teval-mlogloss:0.80912\n",
      "[49]\teval-mlogloss:0.74916\n",
      "18 {'n_estimators': 20, 'learning_rate': 0.1, 'max_depth': 3, 'random_state': 1337, 'dtrain': <xgboost.core.DMatrix object at 0x0000000024576750>, 'dtest': <xgboost.core.DMatrix object at 0x0000000010B88830>}\n",
      "[0]\teval-mlogloss:1.77748\n"
     ]
    },
    {
     "name": "stderr",
     "output_type": "stream",
     "text": [
      "S:\\anaconda\\envs\\study\\Lib\\site-packages\\xgboost\\training.py:183: UserWarning: [17:24:06] WARNING: C:\\b\\abs_d97hy_84m6\\croot\\xgboost-split_1749630932152\\work\\src\\learner.cc:738: \n",
      "Parameters: { \"early_stopping_rounds\" } are not used.\n",
      "\n",
      "  bst.update(dtrain, iteration=i, fobj=obj)\n"
     ]
    },
    {
     "name": "stdout",
     "output_type": "stream",
     "text": [
      "[10]\teval-mlogloss:1.09134\n",
      "[19]\teval-mlogloss:0.87756\n",
      "19 {'n_estimators': 20, 'learning_rate': 0.1, 'max_depth': 4, 'random_state': 1337, 'dtrain': <xgboost.core.DMatrix object at 0x0000000024576750>, 'dtest': <xgboost.core.DMatrix object at 0x0000000010B88830>}\n",
      "[0]\teval-mlogloss:1.77218\n"
     ]
    },
    {
     "name": "stderr",
     "output_type": "stream",
     "text": [
      "S:\\anaconda\\envs\\study\\Lib\\site-packages\\sklearn\\metrics\\_classification.py:1565: UndefinedMetricWarning: Precision is ill-defined and being set to 0.0 in labels with no predicted samples. Use `zero_division` parameter to control this behavior.\n",
      "  _warn_prf(average, modifier, f\"{metric.capitalize()} is\", len(result))\n",
      "S:\\anaconda\\envs\\study\\Lib\\site-packages\\sklearn\\metrics\\_classification.py:1565: UndefinedMetricWarning: Precision is ill-defined and being set to 0.0 in labels with no predicted samples. Use `zero_division` parameter to control this behavior.\n",
      "  _warn_prf(average, modifier, f\"{metric.capitalize()} is\", len(result))\n",
      "S:\\anaconda\\envs\\study\\Lib\\site-packages\\sklearn\\metrics\\_classification.py:1565: UndefinedMetricWarning: Precision is ill-defined and being set to 0.0 in labels with no predicted samples. Use `zero_division` parameter to control this behavior.\n",
      "  _warn_prf(average, modifier, f\"{metric.capitalize()} is\", len(result))\n",
      "S:\\anaconda\\envs\\study\\Lib\\site-packages\\xgboost\\training.py:183: UserWarning: [17:24:07] WARNING: C:\\b\\abs_d97hy_84m6\\croot\\xgboost-split_1749630932152\\work\\src\\learner.cc:738: \n",
      "Parameters: { \"early_stopping_rounds\" } are not used.\n",
      "\n",
      "  bst.update(dtrain, iteration=i, fobj=obj)\n"
     ]
    },
    {
     "name": "stdout",
     "output_type": "stream",
     "text": [
      "[10]\teval-mlogloss:1.06519\n",
      "[19]\teval-mlogloss:0.84572\n",
      "20 {'n_estimators': 20, 'learning_rate': 0.1, 'max_depth': 5, 'random_state': 1337, 'dtrain': <xgboost.core.DMatrix object at 0x0000000024576750>, 'dtest': <xgboost.core.DMatrix object at 0x0000000010B88830>}\n",
      "[0]\teval-mlogloss:1.76652\n"
     ]
    },
    {
     "name": "stderr",
     "output_type": "stream",
     "text": [
      "S:\\anaconda\\envs\\study\\Lib\\site-packages\\xgboost\\training.py:183: UserWarning: [17:24:08] WARNING: C:\\b\\abs_d97hy_84m6\\croot\\xgboost-split_1749630932152\\work\\src\\learner.cc:738: \n",
      "Parameters: { \"early_stopping_rounds\" } are not used.\n",
      "\n",
      "  bst.update(dtrain, iteration=i, fobj=obj)\n"
     ]
    },
    {
     "name": "stdout",
     "output_type": "stream",
     "text": [
      "[10]\teval-mlogloss:1.04061\n",
      "[19]\teval-mlogloss:0.81406\n",
      "21 {'n_estimators': 20, 'learning_rate': 0.2, 'max_depth': 3, 'random_state': 1337, 'dtrain': <xgboost.core.DMatrix object at 0x0000000024576750>, 'dtest': <xgboost.core.DMatrix object at 0x0000000010B88830>}\n",
      "[0]\teval-mlogloss:1.62073\n"
     ]
    },
    {
     "name": "stderr",
     "output_type": "stream",
     "text": [
      "S:\\anaconda\\envs\\study\\Lib\\site-packages\\xgboost\\training.py:183: UserWarning: [17:24:09] WARNING: C:\\b\\abs_d97hy_84m6\\croot\\xgboost-split_1749630932152\\work\\src\\learner.cc:738: \n",
      "Parameters: { \"early_stopping_rounds\" } are not used.\n",
      "\n",
      "  bst.update(dtrain, iteration=i, fobj=obj)\n"
     ]
    },
    {
     "name": "stdout",
     "output_type": "stream",
     "text": [
      "[10]\teval-mlogloss:0.83843\n",
      "[19]\teval-mlogloss:0.70587\n",
      "22 {'n_estimators': 20, 'learning_rate': 0.2, 'max_depth': 4, 'random_state': 1337, 'dtrain': <xgboost.core.DMatrix object at 0x0000000024576750>, 'dtest': <xgboost.core.DMatrix object at 0x0000000010B88830>}\n",
      "[0]\teval-mlogloss:1.61056\n"
     ]
    },
    {
     "name": "stderr",
     "output_type": "stream",
     "text": [
      "S:\\anaconda\\envs\\study\\Lib\\site-packages\\sklearn\\metrics\\_classification.py:1565: UndefinedMetricWarning: Precision is ill-defined and being set to 0.0 in labels with no predicted samples. Use `zero_division` parameter to control this behavior.\n",
      "  _warn_prf(average, modifier, f\"{metric.capitalize()} is\", len(result))\n",
      "S:\\anaconda\\envs\\study\\Lib\\site-packages\\sklearn\\metrics\\_classification.py:1565: UndefinedMetricWarning: Precision is ill-defined and being set to 0.0 in labels with no predicted samples. Use `zero_division` parameter to control this behavior.\n",
      "  _warn_prf(average, modifier, f\"{metric.capitalize()} is\", len(result))\n",
      "S:\\anaconda\\envs\\study\\Lib\\site-packages\\sklearn\\metrics\\_classification.py:1565: UndefinedMetricWarning: Precision is ill-defined and being set to 0.0 in labels with no predicted samples. Use `zero_division` parameter to control this behavior.\n",
      "  _warn_prf(average, modifier, f\"{metric.capitalize()} is\", len(result))\n",
      "S:\\anaconda\\envs\\study\\Lib\\site-packages\\xgboost\\training.py:183: UserWarning: [17:24:09] WARNING: C:\\b\\abs_d97hy_84m6\\croot\\xgboost-split_1749630932152\\work\\src\\learner.cc:738: \n",
      "Parameters: { \"early_stopping_rounds\" } are not used.\n",
      "\n",
      "  bst.update(dtrain, iteration=i, fobj=obj)\n"
     ]
    },
    {
     "name": "stdout",
     "output_type": "stream",
     "text": [
      "[10]\teval-mlogloss:0.80768\n",
      "[19]\teval-mlogloss:0.67205\n",
      "23 {'n_estimators': 20, 'learning_rate': 0.2, 'max_depth': 5, 'random_state': 1337, 'dtrain': <xgboost.core.DMatrix object at 0x0000000024576750>, 'dtest': <xgboost.core.DMatrix object at 0x0000000010B88830>}\n",
      "[0]\teval-mlogloss:1.59972\n"
     ]
    },
    {
     "name": "stderr",
     "output_type": "stream",
     "text": [
      "S:\\anaconda\\envs\\study\\Lib\\site-packages\\xgboost\\training.py:183: UserWarning: [17:24:10] WARNING: C:\\b\\abs_d97hy_84m6\\croot\\xgboost-split_1749630932152\\work\\src\\learner.cc:738: \n",
      "Parameters: { \"early_stopping_rounds\" } are not used.\n",
      "\n",
      "  bst.update(dtrain, iteration=i, fobj=obj)\n"
     ]
    },
    {
     "name": "stdout",
     "output_type": "stream",
     "text": [
      "[10]\teval-mlogloss:0.77394\n",
      "[19]\teval-mlogloss:0.63447\n",
      "24 {'n_estimators': 20, 'learning_rate': 0.05, 'max_depth': 3, 'random_state': 1337, 'dtrain': <xgboost.core.DMatrix object at 0x0000000024576750>, 'dtest': <xgboost.core.DMatrix object at 0x0000000010B88830>}\n",
      "[0]\teval-mlogloss:1.86034\n"
     ]
    },
    {
     "name": "stderr",
     "output_type": "stream",
     "text": [
      "S:\\anaconda\\envs\\study\\Lib\\site-packages\\xgboost\\training.py:183: UserWarning: [17:24:11] WARNING: C:\\b\\abs_d97hy_84m6\\croot\\xgboost-split_1749630932152\\work\\src\\learner.cc:738: \n",
      "Parameters: { \"early_stopping_rounds\" } are not used.\n",
      "\n",
      "  bst.update(dtrain, iteration=i, fobj=obj)\n"
     ]
    },
    {
     "name": "stdout",
     "output_type": "stream",
     "text": [
      "[10]\teval-mlogloss:1.36833\n",
      "[19]\teval-mlogloss:1.13601\n",
      "25 {'n_estimators': 20, 'learning_rate': 0.05, 'max_depth': 4, 'random_state': 1337, 'dtrain': <xgboost.core.DMatrix object at 0x0000000024576750>, 'dtest': <xgboost.core.DMatrix object at 0x0000000010B88830>}\n",
      "[0]\teval-mlogloss:1.85764\n"
     ]
    },
    {
     "name": "stderr",
     "output_type": "stream",
     "text": [
      "S:\\anaconda\\envs\\study\\Lib\\site-packages\\sklearn\\metrics\\_classification.py:1565: UndefinedMetricWarning: Precision is ill-defined and being set to 0.0 in labels with no predicted samples. Use `zero_division` parameter to control this behavior.\n",
      "  _warn_prf(average, modifier, f\"{metric.capitalize()} is\", len(result))\n",
      "S:\\anaconda\\envs\\study\\Lib\\site-packages\\sklearn\\metrics\\_classification.py:1565: UndefinedMetricWarning: Precision is ill-defined and being set to 0.0 in labels with no predicted samples. Use `zero_division` parameter to control this behavior.\n",
      "  _warn_prf(average, modifier, f\"{metric.capitalize()} is\", len(result))\n",
      "S:\\anaconda\\envs\\study\\Lib\\site-packages\\sklearn\\metrics\\_classification.py:1565: UndefinedMetricWarning: Precision is ill-defined and being set to 0.0 in labels with no predicted samples. Use `zero_division` parameter to control this behavior.\n",
      "  _warn_prf(average, modifier, f\"{metric.capitalize()} is\", len(result))\n",
      "S:\\anaconda\\envs\\study\\Lib\\site-packages\\xgboost\\training.py:183: UserWarning: [17:24:12] WARNING: C:\\b\\abs_d97hy_84m6\\croot\\xgboost-split_1749630932152\\work\\src\\learner.cc:738: \n",
      "Parameters: { \"early_stopping_rounds\" } are not used.\n",
      "\n",
      "  bst.update(dtrain, iteration=i, fobj=obj)\n"
     ]
    },
    {
     "name": "stdout",
     "output_type": "stream",
     "text": [
      "[10]\teval-mlogloss:1.35069\n",
      "[19]\teval-mlogloss:1.11153\n",
      "26 {'n_estimators': 20, 'learning_rate': 0.05, 'max_depth': 5, 'random_state': 1337, 'dtrain': <xgboost.core.DMatrix object at 0x0000000024576750>, 'dtest': <xgboost.core.DMatrix object at 0x0000000010B88830>}\n",
      "[0]\teval-mlogloss:1.85476\n"
     ]
    },
    {
     "name": "stderr",
     "output_type": "stream",
     "text": [
      "S:\\anaconda\\envs\\study\\Lib\\site-packages\\xgboost\\training.py:183: UserWarning: [17:24:13] WARNING: C:\\b\\abs_d97hy_84m6\\croot\\xgboost-split_1749630932152\\work\\src\\learner.cc:738: \n",
      "Parameters: { \"early_stopping_rounds\" } are not used.\n",
      "\n",
      "  bst.update(dtrain, iteration=i, fobj=obj)\n"
     ]
    },
    {
     "name": "stdout",
     "output_type": "stream",
     "text": [
      "[10]\teval-mlogloss:1.33368\n",
      "[19]\teval-mlogloss:1.08761\n",
      "27 {'n_estimators': 200, 'learning_rate': 0.1, 'max_depth': 3, 'random_state': 1337, 'dtrain': <xgboost.core.DMatrix object at 0x0000000024576750>, 'dtest': <xgboost.core.DMatrix object at 0x0000000010B88830>}\n",
      "[0]\teval-mlogloss:1.77748\n"
     ]
    },
    {
     "name": "stderr",
     "output_type": "stream",
     "text": [
      "S:\\anaconda\\envs\\study\\Lib\\site-packages\\xgboost\\training.py:183: UserWarning: [17:24:14] WARNING: C:\\b\\abs_d97hy_84m6\\croot\\xgboost-split_1749630932152\\work\\src\\learner.cc:738: \n",
      "Parameters: { \"early_stopping_rounds\" } are not used.\n",
      "\n",
      "  bst.update(dtrain, iteration=i, fobj=obj)\n"
     ]
    },
    {
     "name": "stdout",
     "output_type": "stream",
     "text": [
      "[10]\teval-mlogloss:1.09134\n",
      "[20]\teval-mlogloss:0.86264\n",
      "[30]\teval-mlogloss:0.75844\n",
      "[40]\teval-mlogloss:0.70601\n",
      "[50]\teval-mlogloss:0.67417\n",
      "[60]\teval-mlogloss:0.65434\n",
      "[70]\teval-mlogloss:0.63987\n",
      "[80]\teval-mlogloss:0.62971\n",
      "[90]\teval-mlogloss:0.62231\n",
      "[100]\teval-mlogloss:0.61567\n",
      "[110]\teval-mlogloss:0.61010\n",
      "[120]\teval-mlogloss:0.60458\n",
      "[130]\teval-mlogloss:0.60029\n",
      "[140]\teval-mlogloss:0.59654\n",
      "[150]\teval-mlogloss:0.59244\n",
      "[160]\teval-mlogloss:0.58776\n",
      "[170]\teval-mlogloss:0.58353\n",
      "[180]\teval-mlogloss:0.58000\n",
      "[190]\teval-mlogloss:0.57585\n",
      "[199]\teval-mlogloss:0.57314\n",
      "28 {'n_estimators': 200, 'learning_rate': 0.1, 'max_depth': 4, 'random_state': 1337, 'dtrain': <xgboost.core.DMatrix object at 0x0000000024576750>, 'dtest': <xgboost.core.DMatrix object at 0x0000000010B88830>}\n",
      "[0]\teval-mlogloss:1.77218\n"
     ]
    },
    {
     "name": "stderr",
     "output_type": "stream",
     "text": [
      "S:\\anaconda\\envs\\study\\Lib\\site-packages\\xgboost\\training.py:183: UserWarning: [17:24:20] WARNING: C:\\b\\abs_d97hy_84m6\\croot\\xgboost-split_1749630932152\\work\\src\\learner.cc:738: \n",
      "Parameters: { \"early_stopping_rounds\" } are not used.\n",
      "\n",
      "  bst.update(dtrain, iteration=i, fobj=obj)\n"
     ]
    },
    {
     "name": "stdout",
     "output_type": "stream",
     "text": [
      "[10]\teval-mlogloss:1.06519\n",
      "[20]\teval-mlogloss:0.83063\n",
      "[30]\teval-mlogloss:0.72437\n",
      "[40]\teval-mlogloss:0.67100\n",
      "[50]\teval-mlogloss:0.63913\n",
      "[60]\teval-mlogloss:0.61871\n",
      "[70]\teval-mlogloss:0.60452\n",
      "[80]\teval-mlogloss:0.59385\n",
      "[90]\teval-mlogloss:0.58627\n",
      "[100]\teval-mlogloss:0.57932\n",
      "[110]\teval-mlogloss:0.57290\n",
      "[120]\teval-mlogloss:0.56662\n",
      "[130]\teval-mlogloss:0.56017\n",
      "[140]\teval-mlogloss:0.55470\n",
      "[150]\teval-mlogloss:0.54967\n",
      "[160]\teval-mlogloss:0.54418\n",
      "[170]\teval-mlogloss:0.53873\n",
      "[180]\teval-mlogloss:0.53450\n",
      "[190]\teval-mlogloss:0.52982\n",
      "[199]\teval-mlogloss:0.52591\n",
      "29 {'n_estimators': 200, 'learning_rate': 0.1, 'max_depth': 5, 'random_state': 1337, 'dtrain': <xgboost.core.DMatrix object at 0x0000000024576750>, 'dtest': <xgboost.core.DMatrix object at 0x0000000010B88830>}\n",
      "[0]\teval-mlogloss:1.76652\n"
     ]
    },
    {
     "name": "stderr",
     "output_type": "stream",
     "text": [
      "S:\\anaconda\\envs\\study\\Lib\\site-packages\\xgboost\\training.py:183: UserWarning: [17:24:27] WARNING: C:\\b\\abs_d97hy_84m6\\croot\\xgboost-split_1749630932152\\work\\src\\learner.cc:738: \n",
      "Parameters: { \"early_stopping_rounds\" } are not used.\n",
      "\n",
      "  bst.update(dtrain, iteration=i, fobj=obj)\n"
     ]
    },
    {
     "name": "stdout",
     "output_type": "stream",
     "text": [
      "[10]\teval-mlogloss:1.04061\n",
      "[20]\teval-mlogloss:0.79834\n",
      "[30]\teval-mlogloss:0.68776\n",
      "[40]\teval-mlogloss:0.63402\n",
      "[50]\teval-mlogloss:0.60284\n",
      "[60]\teval-mlogloss:0.58175\n",
      "[70]\teval-mlogloss:0.56653\n",
      "[80]\teval-mlogloss:0.55503\n",
      "[90]\teval-mlogloss:0.54623\n",
      "[100]\teval-mlogloss:0.53903\n",
      "[110]\teval-mlogloss:0.53181\n",
      "[120]\teval-mlogloss:0.52359\n",
      "[130]\teval-mlogloss:0.51608\n",
      "[140]\teval-mlogloss:0.50925\n",
      "[150]\teval-mlogloss:0.50372\n",
      "[160]\teval-mlogloss:0.49898\n",
      "[170]\teval-mlogloss:0.49359\n",
      "[180]\teval-mlogloss:0.48880\n",
      "[190]\teval-mlogloss:0.48349\n",
      "[199]\teval-mlogloss:0.47912\n",
      "30 {'n_estimators': 200, 'learning_rate': 0.2, 'max_depth': 3, 'random_state': 1337, 'dtrain': <xgboost.core.DMatrix object at 0x0000000024576750>, 'dtest': <xgboost.core.DMatrix object at 0x0000000010B88830>}\n",
      "[0]\teval-mlogloss:1.62073\n"
     ]
    },
    {
     "name": "stderr",
     "output_type": "stream",
     "text": [
      "S:\\anaconda\\envs\\study\\Lib\\site-packages\\xgboost\\training.py:183: UserWarning: [17:24:34] WARNING: C:\\b\\abs_d97hy_84m6\\croot\\xgboost-split_1749630932152\\work\\src\\learner.cc:738: \n",
      "Parameters: { \"early_stopping_rounds\" } are not used.\n",
      "\n",
      "  bst.update(dtrain, iteration=i, fobj=obj)\n"
     ]
    },
    {
     "name": "stdout",
     "output_type": "stream",
     "text": [
      "[10]\teval-mlogloss:0.83843\n",
      "[20]\teval-mlogloss:0.69863\n",
      "[30]\teval-mlogloss:0.64992\n",
      "[40]\teval-mlogloss:0.62754\n",
      "[50]\teval-mlogloss:0.61392\n",
      "[60]\teval-mlogloss:0.60372\n",
      "[70]\teval-mlogloss:0.59453\n",
      "[80]\teval-mlogloss:0.58532\n",
      "[90]\teval-mlogloss:0.57648\n",
      "[100]\teval-mlogloss:0.57015\n",
      "[110]\teval-mlogloss:0.56397\n",
      "[120]\teval-mlogloss:0.55816\n",
      "[130]\teval-mlogloss:0.55308\n",
      "[140]\teval-mlogloss:0.54767\n",
      "[150]\teval-mlogloss:0.54314\n",
      "[160]\teval-mlogloss:0.53892\n",
      "[170]\teval-mlogloss:0.53468\n",
      "[180]\teval-mlogloss:0.53113\n",
      "[190]\teval-mlogloss:0.52708\n",
      "[199]\teval-mlogloss:0.52419\n",
      "31 {'n_estimators': 200, 'learning_rate': 0.2, 'max_depth': 4, 'random_state': 1337, 'dtrain': <xgboost.core.DMatrix object at 0x0000000024576750>, 'dtest': <xgboost.core.DMatrix object at 0x0000000010B88830>}\n",
      "[0]\teval-mlogloss:1.61056\n"
     ]
    },
    {
     "name": "stderr",
     "output_type": "stream",
     "text": [
      "S:\\anaconda\\envs\\study\\Lib\\site-packages\\xgboost\\training.py:183: UserWarning: [17:24:41] WARNING: C:\\b\\abs_d97hy_84m6\\croot\\xgboost-split_1749630932152\\work\\src\\learner.cc:738: \n",
      "Parameters: { \"early_stopping_rounds\" } are not used.\n",
      "\n",
      "  bst.update(dtrain, iteration=i, fobj=obj)\n"
     ]
    },
    {
     "name": "stdout",
     "output_type": "stream",
     "text": [
      "[10]\teval-mlogloss:0.80768\n",
      "[20]\teval-mlogloss:0.66486\n",
      "[30]\teval-mlogloss:0.61555\n",
      "[40]\teval-mlogloss:0.59287\n",
      "[50]\teval-mlogloss:0.57873\n",
      "[60]\teval-mlogloss:0.56647\n",
      "[70]\teval-mlogloss:0.55459\n",
      "[80]\teval-mlogloss:0.54462\n",
      "[90]\teval-mlogloss:0.53480\n",
      "[100]\teval-mlogloss:0.52645\n",
      "[110]\teval-mlogloss:0.51731\n",
      "[120]\teval-mlogloss:0.50974\n",
      "[130]\teval-mlogloss:0.50347\n",
      "[140]\teval-mlogloss:0.49621\n",
      "[150]\teval-mlogloss:0.49012\n",
      "[160]\teval-mlogloss:0.48513\n",
      "[170]\teval-mlogloss:0.47965\n",
      "[180]\teval-mlogloss:0.47527\n",
      "[190]\teval-mlogloss:0.47038\n",
      "[199]\teval-mlogloss:0.46651\n",
      "32 {'n_estimators': 200, 'learning_rate': 0.2, 'max_depth': 5, 'random_state': 1337, 'dtrain': <xgboost.core.DMatrix object at 0x0000000024576750>, 'dtest': <xgboost.core.DMatrix object at 0x0000000010B88830>}\n",
      "[0]\teval-mlogloss:1.59972\n"
     ]
    },
    {
     "name": "stderr",
     "output_type": "stream",
     "text": [
      "S:\\anaconda\\envs\\study\\Lib\\site-packages\\xgboost\\training.py:183: UserWarning: [17:24:50] WARNING: C:\\b\\abs_d97hy_84m6\\croot\\xgboost-split_1749630932152\\work\\src\\learner.cc:738: \n",
      "Parameters: { \"early_stopping_rounds\" } are not used.\n",
      "\n",
      "  bst.update(dtrain, iteration=i, fobj=obj)\n"
     ]
    },
    {
     "name": "stdout",
     "output_type": "stream",
     "text": [
      "[10]\teval-mlogloss:0.77394\n",
      "[20]\teval-mlogloss:0.62672\n",
      "[30]\teval-mlogloss:0.57571\n",
      "[40]\teval-mlogloss:0.55122\n",
      "[50]\teval-mlogloss:0.53449\n",
      "[60]\teval-mlogloss:0.52062\n",
      "[70]\teval-mlogloss:0.50777\n",
      "[80]\teval-mlogloss:0.49517\n",
      "[90]\teval-mlogloss:0.48531\n",
      "[100]\teval-mlogloss:0.47630\n",
      "[110]\teval-mlogloss:0.46610\n",
      "[120]\teval-mlogloss:0.45867\n",
      "[130]\teval-mlogloss:0.45077\n",
      "[140]\teval-mlogloss:0.44317\n",
      "[150]\teval-mlogloss:0.43667\n",
      "[160]\teval-mlogloss:0.43103\n",
      "[170]\teval-mlogloss:0.42444\n",
      "[180]\teval-mlogloss:0.41956\n",
      "[190]\teval-mlogloss:0.41423\n",
      "[199]\teval-mlogloss:0.40985\n",
      "33 {'n_estimators': 200, 'learning_rate': 0.05, 'max_depth': 3, 'random_state': 1337, 'dtrain': <xgboost.core.DMatrix object at 0x0000000024576750>, 'dtest': <xgboost.core.DMatrix object at 0x0000000010B88830>}\n",
      "[0]\teval-mlogloss:1.86034\n"
     ]
    },
    {
     "name": "stderr",
     "output_type": "stream",
     "text": [
      "S:\\anaconda\\envs\\study\\Lib\\site-packages\\xgboost\\training.py:183: UserWarning: [17:24:59] WARNING: C:\\b\\abs_d97hy_84m6\\croot\\xgboost-split_1749630932152\\work\\src\\learner.cc:738: \n",
      "Parameters: { \"early_stopping_rounds\" } are not used.\n",
      "\n",
      "  bst.update(dtrain, iteration=i, fobj=obj)\n"
     ]
    },
    {
     "name": "stdout",
     "output_type": "stream",
     "text": [
      "[10]\teval-mlogloss:1.36833\n",
      "[20]\teval-mlogloss:1.11695\n",
      "[30]\teval-mlogloss:0.96541\n",
      "[40]\teval-mlogloss:0.87372\n",
      "[50]\teval-mlogloss:0.81078\n",
      "[60]\teval-mlogloss:0.76685\n",
      "[70]\teval-mlogloss:0.73410\n",
      "[80]\teval-mlogloss:0.70962\n",
      "[90]\teval-mlogloss:0.69129\n",
      "[100]\teval-mlogloss:0.67726\n",
      "[110]\teval-mlogloss:0.66567\n",
      "[120]\teval-mlogloss:0.65581\n",
      "[130]\teval-mlogloss:0.64768\n",
      "[140]\teval-mlogloss:0.64099\n",
      "[150]\teval-mlogloss:0.63559\n",
      "[160]\teval-mlogloss:0.63078\n",
      "[170]\teval-mlogloss:0.62652\n",
      "[180]\teval-mlogloss:0.62243\n",
      "[190]\teval-mlogloss:0.61879\n",
      "[199]\teval-mlogloss:0.61588\n",
      "34 {'n_estimators': 200, 'learning_rate': 0.05, 'max_depth': 4, 'random_state': 1337, 'dtrain': <xgboost.core.DMatrix object at 0x0000000024576750>, 'dtest': <xgboost.core.DMatrix object at 0x0000000010B88830>}\n",
      "[0]\teval-mlogloss:1.85764\n"
     ]
    },
    {
     "name": "stderr",
     "output_type": "stream",
     "text": [
      "S:\\anaconda\\envs\\study\\Lib\\site-packages\\sklearn\\metrics\\_classification.py:1565: UndefinedMetricWarning: Precision is ill-defined and being set to 0.0 in labels with no predicted samples. Use `zero_division` parameter to control this behavior.\n",
      "  _warn_prf(average, modifier, f\"{metric.capitalize()} is\", len(result))\n",
      "S:\\anaconda\\envs\\study\\Lib\\site-packages\\sklearn\\metrics\\_classification.py:1565: UndefinedMetricWarning: Precision is ill-defined and being set to 0.0 in labels with no predicted samples. Use `zero_division` parameter to control this behavior.\n",
      "  _warn_prf(average, modifier, f\"{metric.capitalize()} is\", len(result))\n",
      "S:\\anaconda\\envs\\study\\Lib\\site-packages\\sklearn\\metrics\\_classification.py:1565: UndefinedMetricWarning: Precision is ill-defined and being set to 0.0 in labels with no predicted samples. Use `zero_division` parameter to control this behavior.\n",
      "  _warn_prf(average, modifier, f\"{metric.capitalize()} is\", len(result))\n",
      "S:\\anaconda\\envs\\study\\Lib\\site-packages\\xgboost\\training.py:183: UserWarning: [17:25:07] WARNING: C:\\b\\abs_d97hy_84m6\\croot\\xgboost-split_1749630932152\\work\\src\\learner.cc:738: \n",
      "Parameters: { \"early_stopping_rounds\" } are not used.\n",
      "\n",
      "  bst.update(dtrain, iteration=i, fobj=obj)\n"
     ]
    },
    {
     "name": "stdout",
     "output_type": "stream",
     "text": [
      "[10]\teval-mlogloss:1.35069\n",
      "[20]\teval-mlogloss:1.09201\n",
      "[30]\teval-mlogloss:0.93538\n",
      "[40]\teval-mlogloss:0.84136\n",
      "[50]\teval-mlogloss:0.77738\n",
      "[60]\teval-mlogloss:0.73246\n",
      "[70]\teval-mlogloss:0.69913\n",
      "[80]\teval-mlogloss:0.67490\n",
      "[90]\teval-mlogloss:0.65629\n",
      "[100]\teval-mlogloss:0.64211\n",
      "[110]\teval-mlogloss:0.63043\n",
      "[120]\teval-mlogloss:0.62050\n",
      "[130]\teval-mlogloss:0.61231\n",
      "[140]\teval-mlogloss:0.60536\n",
      "[150]\teval-mlogloss:0.59984\n",
      "[160]\teval-mlogloss:0.59497\n",
      "[170]\teval-mlogloss:0.59053\n",
      "[180]\teval-mlogloss:0.58651\n",
      "[190]\teval-mlogloss:0.58259\n",
      "[199]\teval-mlogloss:0.57958\n",
      "35 {'n_estimators': 200, 'learning_rate': 0.05, 'max_depth': 5, 'random_state': 1337, 'dtrain': <xgboost.core.DMatrix object at 0x0000000024576750>, 'dtest': <xgboost.core.DMatrix object at 0x0000000010B88830>}\n",
      "[0]\teval-mlogloss:1.85476\n"
     ]
    },
    {
     "name": "stderr",
     "output_type": "stream",
     "text": [
      "S:\\anaconda\\envs\\study\\Lib\\site-packages\\xgboost\\training.py:183: UserWarning: [17:25:14] WARNING: C:\\b\\abs_d97hy_84m6\\croot\\xgboost-split_1749630932152\\work\\src\\learner.cc:738: \n",
      "Parameters: { \"early_stopping_rounds\" } are not used.\n",
      "\n",
      "  bst.update(dtrain, iteration=i, fobj=obj)\n"
     ]
    },
    {
     "name": "stdout",
     "output_type": "stream",
     "text": [
      "[10]\teval-mlogloss:1.33368\n",
      "[20]\teval-mlogloss:1.06746\n",
      "[30]\teval-mlogloss:0.90640\n",
      "[40]\teval-mlogloss:0.80912\n",
      "[50]\teval-mlogloss:0.74334\n",
      "[60]\teval-mlogloss:0.69697\n",
      "[70]\teval-mlogloss:0.66298\n",
      "[80]\teval-mlogloss:0.63857\n",
      "[90]\teval-mlogloss:0.61991\n",
      "[100]\teval-mlogloss:0.60532\n",
      "[110]\teval-mlogloss:0.59347\n",
      "[120]\teval-mlogloss:0.58356\n",
      "[130]\teval-mlogloss:0.57549\n",
      "[140]\teval-mlogloss:0.56816\n",
      "[150]\teval-mlogloss:0.56210\n",
      "[160]\teval-mlogloss:0.55668\n",
      "[170]\teval-mlogloss:0.55166\n",
      "[180]\teval-mlogloss:0.54716\n",
      "[190]\teval-mlogloss:0.54250\n",
      "[199]\teval-mlogloss:0.53887\n"
     ]
    },
    {
     "name": "stderr",
     "output_type": "stream",
     "text": [
      "C:\\Users\\nikol\\AppData\\Local\\Temp\\ipykernel_14832\\3180493565.py:13: FutureWarning: Calling int on a single element Series is deprecated and will raise a TypeError in the future. Use int(ser.iloc[0]) instead\n",
      "  num_classes = int(d[d.target_features].nunique()) # ИСПРАВЛЕНИЕ: Количество уникальных классов\n"
     ]
    },
    {
     "name": "stdout",
     "output_type": "stream",
     "text": [
      "36\n",
      "0 {'n_estimators': 100, 'learning_rate': 0.1, 'max_depth': 3, 'random_state': 1337, 'dtrain': <xgboost.core.DMatrix object at 0x000000002461F590>, 'dtest': <xgboost.core.DMatrix object at 0x000000002460B950>}\n",
      "[0]\teval-mlogloss:1.78894\n"
     ]
    },
    {
     "name": "stderr",
     "output_type": "stream",
     "text": [
      "S:\\anaconda\\envs\\study\\Lib\\site-packages\\xgboost\\training.py:183: UserWarning: [17:25:23] WARNING: C:\\b\\abs_d97hy_84m6\\croot\\xgboost-split_1749630932152\\work\\src\\learner.cc:738: \n",
      "Parameters: { \"early_stopping_rounds\" } are not used.\n",
      "\n",
      "  bst.update(dtrain, iteration=i, fobj=obj)\n"
     ]
    },
    {
     "name": "stdout",
     "output_type": "stream",
     "text": [
      "[10]\teval-mlogloss:1.06568\n",
      "[20]\teval-mlogloss:0.82366\n",
      "[30]\teval-mlogloss:0.71790\n",
      "[40]\teval-mlogloss:0.66211\n",
      "[50]\teval-mlogloss:0.62962\n",
      "[60]\teval-mlogloss:0.60682\n",
      "[70]\teval-mlogloss:0.59121\n",
      "[80]\teval-mlogloss:0.57912\n",
      "[90]\teval-mlogloss:0.56941\n",
      "[99]\teval-mlogloss:0.56234\n",
      "1 {'n_estimators': 100, 'learning_rate': 0.1, 'max_depth': 4, 'random_state': 1337, 'dtrain': <xgboost.core.DMatrix object at 0x000000002461F590>, 'dtest': <xgboost.core.DMatrix object at 0x000000002460B950>}\n",
      "[0]\teval-mlogloss:1.77874\n"
     ]
    },
    {
     "name": "stderr",
     "output_type": "stream",
     "text": [
      "S:\\anaconda\\envs\\study\\Lib\\site-packages\\xgboost\\training.py:183: UserWarning: [17:25:27] WARNING: C:\\b\\abs_d97hy_84m6\\croot\\xgboost-split_1749630932152\\work\\src\\learner.cc:738: \n",
      "Parameters: { \"early_stopping_rounds\" } are not used.\n",
      "\n",
      "  bst.update(dtrain, iteration=i, fobj=obj)\n"
     ]
    },
    {
     "name": "stdout",
     "output_type": "stream",
     "text": [
      "[10]\teval-mlogloss:1.03341\n",
      "[20]\teval-mlogloss:0.78586\n",
      "[30]\teval-mlogloss:0.67628\n",
      "[40]\teval-mlogloss:0.61862\n",
      "[50]\teval-mlogloss:0.58471\n",
      "[60]\teval-mlogloss:0.56059\n",
      "[70]\teval-mlogloss:0.54373\n",
      "[80]\teval-mlogloss:0.53140\n",
      "[90]\teval-mlogloss:0.52121\n",
      "[99]\teval-mlogloss:0.51326\n",
      "2 {'n_estimators': 100, 'learning_rate': 0.1, 'max_depth': 5, 'random_state': 1337, 'dtrain': <xgboost.core.DMatrix object at 0x000000002461F590>, 'dtest': <xgboost.core.DMatrix object at 0x000000002460B950>}\n",
      "[0]\teval-mlogloss:1.77211\n"
     ]
    },
    {
     "name": "stderr",
     "output_type": "stream",
     "text": [
      "S:\\anaconda\\envs\\study\\Lib\\site-packages\\xgboost\\training.py:183: UserWarning: [17:25:31] WARNING: C:\\b\\abs_d97hy_84m6\\croot\\xgboost-split_1749630932152\\work\\src\\learner.cc:738: \n",
      "Parameters: { \"early_stopping_rounds\" } are not used.\n",
      "\n",
      "  bst.update(dtrain, iteration=i, fobj=obj)\n"
     ]
    },
    {
     "name": "stdout",
     "output_type": "stream",
     "text": [
      "[10]\teval-mlogloss:1.00268\n",
      "[20]\teval-mlogloss:0.74736\n",
      "[30]\teval-mlogloss:0.63436\n",
      "[40]\teval-mlogloss:0.57566\n",
      "[50]\teval-mlogloss:0.53999\n",
      "[60]\teval-mlogloss:0.51623\n",
      "[70]\teval-mlogloss:0.49877\n",
      "[80]\teval-mlogloss:0.48481\n",
      "[90]\teval-mlogloss:0.47442\n",
      "[99]\teval-mlogloss:0.46572\n",
      "3 {'n_estimators': 100, 'learning_rate': 0.2, 'max_depth': 3, 'random_state': 1337, 'dtrain': <xgboost.core.DMatrix object at 0x000000002461F590>, 'dtest': <xgboost.core.DMatrix object at 0x000000002460B950>}\n",
      "[0]\teval-mlogloss:1.64238\n"
     ]
    },
    {
     "name": "stderr",
     "output_type": "stream",
     "text": [
      "S:\\anaconda\\envs\\study\\Lib\\site-packages\\xgboost\\training.py:183: UserWarning: [17:25:36] WARNING: C:\\b\\abs_d97hy_84m6\\croot\\xgboost-split_1749630932152\\work\\src\\learner.cc:738: \n",
      "Parameters: { \"early_stopping_rounds\" } are not used.\n",
      "\n",
      "  bst.update(dtrain, iteration=i, fobj=obj)\n"
     ]
    },
    {
     "name": "stdout",
     "output_type": "stream",
     "text": [
      "[10]\teval-mlogloss:0.80526\n",
      "[20]\teval-mlogloss:0.65583\n",
      "[30]\teval-mlogloss:0.60331\n",
      "[40]\teval-mlogloss:0.57782\n",
      "[50]\teval-mlogloss:0.56022\n",
      "[60]\teval-mlogloss:0.54529\n",
      "[70]\teval-mlogloss:0.53434\n",
      "[80]\teval-mlogloss:0.52440\n",
      "[90]\teval-mlogloss:0.51465\n",
      "[99]\teval-mlogloss:0.50750\n",
      "4 {'n_estimators': 100, 'learning_rate': 0.2, 'max_depth': 4, 'random_state': 1337, 'dtrain': <xgboost.core.DMatrix object at 0x000000002461F590>, 'dtest': <xgboost.core.DMatrix object at 0x000000002460B950>}\n",
      "[0]\teval-mlogloss:1.62285\n"
     ]
    },
    {
     "name": "stderr",
     "output_type": "stream",
     "text": [
      "S:\\anaconda\\envs\\study\\Lib\\site-packages\\xgboost\\training.py:183: UserWarning: [17:25:40] WARNING: C:\\b\\abs_d97hy_84m6\\croot\\xgboost-split_1749630932152\\work\\src\\learner.cc:738: \n",
      "Parameters: { \"early_stopping_rounds\" } are not used.\n",
      "\n",
      "  bst.update(dtrain, iteration=i, fobj=obj)\n"
     ]
    },
    {
     "name": "stdout",
     "output_type": "stream",
     "text": [
      "[10]\teval-mlogloss:0.76471\n",
      "[20]\teval-mlogloss:0.61304\n",
      "[30]\teval-mlogloss:0.55700\n",
      "[40]\teval-mlogloss:0.52999\n",
      "[50]\teval-mlogloss:0.51155\n",
      "[60]\teval-mlogloss:0.49752\n",
      "[70]\teval-mlogloss:0.48544\n",
      "[80]\teval-mlogloss:0.47394\n",
      "[90]\teval-mlogloss:0.46198\n",
      "[99]\teval-mlogloss:0.45403\n",
      "5 {'n_estimators': 100, 'learning_rate': 0.2, 'max_depth': 5, 'random_state': 1337, 'dtrain': <xgboost.core.DMatrix object at 0x000000002461F590>, 'dtest': <xgboost.core.DMatrix object at 0x000000002460B950>}\n",
      "[0]\teval-mlogloss:1.61016\n"
     ]
    },
    {
     "name": "stderr",
     "output_type": "stream",
     "text": [
      "S:\\anaconda\\envs\\study\\Lib\\site-packages\\xgboost\\training.py:183: UserWarning: [17:25:45] WARNING: C:\\b\\abs_d97hy_84m6\\croot\\xgboost-split_1749630932152\\work\\src\\learner.cc:738: \n",
      "Parameters: { \"early_stopping_rounds\" } are not used.\n",
      "\n",
      "  bst.update(dtrain, iteration=i, fobj=obj)\n"
     ]
    },
    {
     "name": "stdout",
     "output_type": "stream",
     "text": [
      "[10]\teval-mlogloss:0.72574\n",
      "[20]\teval-mlogloss:0.56821\n",
      "[30]\teval-mlogloss:0.50890\n",
      "[40]\teval-mlogloss:0.48159\n",
      "[50]\teval-mlogloss:0.46210\n",
      "[60]\teval-mlogloss:0.44734\n",
      "[70]\teval-mlogloss:0.43467\n",
      "[80]\teval-mlogloss:0.42158\n",
      "[90]\teval-mlogloss:0.40951\n",
      "[99]\teval-mlogloss:0.39914\n",
      "6 {'n_estimators': 100, 'learning_rate': 0.05, 'max_depth': 3, 'random_state': 1337, 'dtrain': <xgboost.core.DMatrix object at 0x000000002461F590>, 'dtest': <xgboost.core.DMatrix object at 0x000000002460B950>}\n",
      "[0]\teval-mlogloss:1.86619\n"
     ]
    },
    {
     "name": "stderr",
     "output_type": "stream",
     "text": [
      "S:\\anaconda\\envs\\study\\Lib\\site-packages\\xgboost\\training.py:183: UserWarning: [17:25:50] WARNING: C:\\b\\abs_d97hy_84m6\\croot\\xgboost-split_1749630932152\\work\\src\\learner.cc:738: \n",
      "Parameters: { \"early_stopping_rounds\" } are not used.\n",
      "\n",
      "  bst.update(dtrain, iteration=i, fobj=obj)\n"
     ]
    },
    {
     "name": "stdout",
     "output_type": "stream",
     "text": [
      "[10]\teval-mlogloss:1.35319\n",
      "[20]\teval-mlogloss:1.08960\n",
      "[30]\teval-mlogloss:0.93573\n",
      "[40]\teval-mlogloss:0.83718\n",
      "[50]\teval-mlogloss:0.77109\n",
      "[60]\teval-mlogloss:0.72497\n",
      "[70]\teval-mlogloss:0.69147\n",
      "[80]\teval-mlogloss:0.66625\n",
      "[90]\teval-mlogloss:0.64715\n",
      "[99]\teval-mlogloss:0.63338\n",
      "7 {'n_estimators': 100, 'learning_rate': 0.05, 'max_depth': 4, 'random_state': 1337, 'dtrain': <xgboost.core.DMatrix object at 0x000000002461F590>, 'dtest': <xgboost.core.DMatrix object at 0x000000002460B950>}\n",
      "[0]\teval-mlogloss:1.86100\n"
     ]
    },
    {
     "name": "stderr",
     "output_type": "stream",
     "text": [
      "S:\\anaconda\\envs\\study\\Lib\\site-packages\\xgboost\\training.py:183: UserWarning: [17:25:53] WARNING: C:\\b\\abs_d97hy_84m6\\croot\\xgboost-split_1749630932152\\work\\src\\learner.cc:738: \n",
      "Parameters: { \"early_stopping_rounds\" } are not used.\n",
      "\n",
      "  bst.update(dtrain, iteration=i, fobj=obj)\n"
     ]
    },
    {
     "name": "stdout",
     "output_type": "stream",
     "text": [
      "[10]\teval-mlogloss:1.32838\n",
      "[20]\teval-mlogloss:1.05830\n",
      "[30]\teval-mlogloss:0.90067\n",
      "[40]\teval-mlogloss:0.79865\n",
      "[50]\teval-mlogloss:0.73102\n",
      "[60]\teval-mlogloss:0.68352\n",
      "[70]\teval-mlogloss:0.64818\n",
      "[80]\teval-mlogloss:0.62242\n",
      "[90]\teval-mlogloss:0.60200\n",
      "[99]\teval-mlogloss:0.58681\n",
      "8 {'n_estimators': 100, 'learning_rate': 0.05, 'max_depth': 5, 'random_state': 1337, 'dtrain': <xgboost.core.DMatrix object at 0x000000002461F590>, 'dtest': <xgboost.core.DMatrix object at 0x000000002460B950>}\n",
      "[0]\teval-mlogloss:1.85763\n"
     ]
    },
    {
     "name": "stderr",
     "output_type": "stream",
     "text": [
      "S:\\anaconda\\envs\\study\\Lib\\site-packages\\xgboost\\training.py:183: UserWarning: [17:25:57] WARNING: C:\\b\\abs_d97hy_84m6\\croot\\xgboost-split_1749630932152\\work\\src\\learner.cc:738: \n",
      "Parameters: { \"early_stopping_rounds\" } are not used.\n",
      "\n",
      "  bst.update(dtrain, iteration=i, fobj=obj)\n"
     ]
    },
    {
     "name": "stdout",
     "output_type": "stream",
     "text": [
      "[10]\teval-mlogloss:1.30642\n",
      "[20]\teval-mlogloss:1.02857\n",
      "[30]\teval-mlogloss:0.86634\n",
      "[40]\teval-mlogloss:0.76112\n",
      "[50]\teval-mlogloss:0.69115\n",
      "[60]\teval-mlogloss:0.64116\n",
      "[70]\teval-mlogloss:0.60467\n",
      "[80]\teval-mlogloss:0.57768\n",
      "[90]\teval-mlogloss:0.55664\n",
      "[99]\teval-mlogloss:0.54124\n",
      "9 {'n_estimators': 50, 'learning_rate': 0.1, 'max_depth': 3, 'random_state': 1337, 'dtrain': <xgboost.core.DMatrix object at 0x000000002461F590>, 'dtest': <xgboost.core.DMatrix object at 0x000000002460B950>}\n",
      "[0]\teval-mlogloss:1.78894\n"
     ]
    },
    {
     "name": "stderr",
     "output_type": "stream",
     "text": [
      "S:\\anaconda\\envs\\study\\Lib\\site-packages\\xgboost\\training.py:183: UserWarning: [17:26:01] WARNING: C:\\b\\abs_d97hy_84m6\\croot\\xgboost-split_1749630932152\\work\\src\\learner.cc:738: \n",
      "Parameters: { \"early_stopping_rounds\" } are not used.\n",
      "\n",
      "  bst.update(dtrain, iteration=i, fobj=obj)\n"
     ]
    },
    {
     "name": "stdout",
     "output_type": "stream",
     "text": [
      "[10]\teval-mlogloss:1.06568\n",
      "[20]\teval-mlogloss:0.82366\n",
      "[30]\teval-mlogloss:0.71790\n",
      "[40]\teval-mlogloss:0.66211\n",
      "[49]\teval-mlogloss:0.63224\n",
      "10 {'n_estimators': 50, 'learning_rate': 0.1, 'max_depth': 4, 'random_state': 1337, 'dtrain': <xgboost.core.DMatrix object at 0x000000002461F590>, 'dtest': <xgboost.core.DMatrix object at 0x000000002460B950>}\n",
      "[0]\teval-mlogloss:1.77874\n"
     ]
    },
    {
     "name": "stderr",
     "output_type": "stream",
     "text": [
      "S:\\anaconda\\envs\\study\\Lib\\site-packages\\xgboost\\training.py:183: UserWarning: [17:26:03] WARNING: C:\\b\\abs_d97hy_84m6\\croot\\xgboost-split_1749630932152\\work\\src\\learner.cc:738: \n",
      "Parameters: { \"early_stopping_rounds\" } are not used.\n",
      "\n",
      "  bst.update(dtrain, iteration=i, fobj=obj)\n"
     ]
    },
    {
     "name": "stdout",
     "output_type": "stream",
     "text": [
      "[10]\teval-mlogloss:1.03341\n",
      "[20]\teval-mlogloss:0.78586\n",
      "[30]\teval-mlogloss:0.67628\n",
      "[40]\teval-mlogloss:0.61862\n",
      "[49]\teval-mlogloss:0.58752\n",
      "11 {'n_estimators': 50, 'learning_rate': 0.1, 'max_depth': 5, 'random_state': 1337, 'dtrain': <xgboost.core.DMatrix object at 0x000000002461F590>, 'dtest': <xgboost.core.DMatrix object at 0x000000002460B950>}\n",
      "[0]\teval-mlogloss:1.77211\n"
     ]
    },
    {
     "name": "stderr",
     "output_type": "stream",
     "text": [
      "S:\\anaconda\\envs\\study\\Lib\\site-packages\\xgboost\\training.py:183: UserWarning: [17:26:05] WARNING: C:\\b\\abs_d97hy_84m6\\croot\\xgboost-split_1749630932152\\work\\src\\learner.cc:738: \n",
      "Parameters: { \"early_stopping_rounds\" } are not used.\n",
      "\n",
      "  bst.update(dtrain, iteration=i, fobj=obj)\n"
     ]
    },
    {
     "name": "stdout",
     "output_type": "stream",
     "text": [
      "[10]\teval-mlogloss:1.00268\n",
      "[20]\teval-mlogloss:0.74736\n",
      "[30]\teval-mlogloss:0.63436\n",
      "[40]\teval-mlogloss:0.57566\n",
      "[49]\teval-mlogloss:0.54306\n",
      "12 {'n_estimators': 50, 'learning_rate': 0.2, 'max_depth': 3, 'random_state': 1337, 'dtrain': <xgboost.core.DMatrix object at 0x000000002461F590>, 'dtest': <xgboost.core.DMatrix object at 0x000000002460B950>}\n",
      "[0]\teval-mlogloss:1.64238\n"
     ]
    },
    {
     "name": "stderr",
     "output_type": "stream",
     "text": [
      "S:\\anaconda\\envs\\study\\Lib\\site-packages\\xgboost\\training.py:183: UserWarning: [17:26:07] WARNING: C:\\b\\abs_d97hy_84m6\\croot\\xgboost-split_1749630932152\\work\\src\\learner.cc:738: \n",
      "Parameters: { \"early_stopping_rounds\" } are not used.\n",
      "\n",
      "  bst.update(dtrain, iteration=i, fobj=obj)\n"
     ]
    },
    {
     "name": "stdout",
     "output_type": "stream",
     "text": [
      "[10]\teval-mlogloss:0.80526\n",
      "[20]\teval-mlogloss:0.65583\n",
      "[30]\teval-mlogloss:0.60331\n",
      "[40]\teval-mlogloss:0.57782\n",
      "[49]\teval-mlogloss:0.56188\n",
      "13 {'n_estimators': 50, 'learning_rate': 0.2, 'max_depth': 4, 'random_state': 1337, 'dtrain': <xgboost.core.DMatrix object at 0x000000002461F590>, 'dtest': <xgboost.core.DMatrix object at 0x000000002460B950>}\n",
      "[0]\teval-mlogloss:1.62285\n"
     ]
    },
    {
     "name": "stderr",
     "output_type": "stream",
     "text": [
      "S:\\anaconda\\envs\\study\\Lib\\site-packages\\xgboost\\training.py:183: UserWarning: [17:26:09] WARNING: C:\\b\\abs_d97hy_84m6\\croot\\xgboost-split_1749630932152\\work\\src\\learner.cc:738: \n",
      "Parameters: { \"early_stopping_rounds\" } are not used.\n",
      "\n",
      "  bst.update(dtrain, iteration=i, fobj=obj)\n"
     ]
    },
    {
     "name": "stdout",
     "output_type": "stream",
     "text": [
      "[10]\teval-mlogloss:0.76471\n",
      "[20]\teval-mlogloss:0.61304\n",
      "[30]\teval-mlogloss:0.55700\n",
      "[40]\teval-mlogloss:0.52999\n",
      "[49]\teval-mlogloss:0.51306\n",
      "14 {'n_estimators': 50, 'learning_rate': 0.2, 'max_depth': 5, 'random_state': 1337, 'dtrain': <xgboost.core.DMatrix object at 0x000000002461F590>, 'dtest': <xgboost.core.DMatrix object at 0x000000002460B950>}\n",
      "[0]\teval-mlogloss:1.61016\n"
     ]
    },
    {
     "name": "stderr",
     "output_type": "stream",
     "text": [
      "S:\\anaconda\\envs\\study\\Lib\\site-packages\\xgboost\\training.py:183: UserWarning: [17:26:11] WARNING: C:\\b\\abs_d97hy_84m6\\croot\\xgboost-split_1749630932152\\work\\src\\learner.cc:738: \n",
      "Parameters: { \"early_stopping_rounds\" } are not used.\n",
      "\n",
      "  bst.update(dtrain, iteration=i, fobj=obj)\n"
     ]
    },
    {
     "name": "stdout",
     "output_type": "stream",
     "text": [
      "[10]\teval-mlogloss:0.72574\n",
      "[20]\teval-mlogloss:0.56821\n",
      "[30]\teval-mlogloss:0.50890\n",
      "[40]\teval-mlogloss:0.48159\n",
      "[49]\teval-mlogloss:0.46331\n",
      "15 {'n_estimators': 50, 'learning_rate': 0.05, 'max_depth': 3, 'random_state': 1337, 'dtrain': <xgboost.core.DMatrix object at 0x000000002461F590>, 'dtest': <xgboost.core.DMatrix object at 0x000000002460B950>}\n",
      "[0]\teval-mlogloss:1.86619\n"
     ]
    },
    {
     "name": "stderr",
     "output_type": "stream",
     "text": [
      "S:\\anaconda\\envs\\study\\Lib\\site-packages\\xgboost\\training.py:183: UserWarning: [17:26:13] WARNING: C:\\b\\abs_d97hy_84m6\\croot\\xgboost-split_1749630932152\\work\\src\\learner.cc:738: \n",
      "Parameters: { \"early_stopping_rounds\" } are not used.\n",
      "\n",
      "  bst.update(dtrain, iteration=i, fobj=obj)\n"
     ]
    },
    {
     "name": "stdout",
     "output_type": "stream",
     "text": [
      "[10]\teval-mlogloss:1.35319\n",
      "[20]\teval-mlogloss:1.08960\n",
      "[30]\teval-mlogloss:0.93573\n",
      "[40]\teval-mlogloss:0.83718\n",
      "[49]\teval-mlogloss:0.77660\n",
      "16 {'n_estimators': 50, 'learning_rate': 0.05, 'max_depth': 4, 'random_state': 1337, 'dtrain': <xgboost.core.DMatrix object at 0x000000002461F590>, 'dtest': <xgboost.core.DMatrix object at 0x000000002460B950>}\n",
      "[0]\teval-mlogloss:1.86100\n"
     ]
    },
    {
     "name": "stderr",
     "output_type": "stream",
     "text": [
      "S:\\anaconda\\envs\\study\\Lib\\site-packages\\xgboost\\training.py:183: UserWarning: [17:26:14] WARNING: C:\\b\\abs_d97hy_84m6\\croot\\xgboost-split_1749630932152\\work\\src\\learner.cc:738: \n",
      "Parameters: { \"early_stopping_rounds\" } are not used.\n",
      "\n",
      "  bst.update(dtrain, iteration=i, fobj=obj)\n"
     ]
    },
    {
     "name": "stdout",
     "output_type": "stream",
     "text": [
      "[10]\teval-mlogloss:1.32838\n",
      "[20]\teval-mlogloss:1.05830\n",
      "[30]\teval-mlogloss:0.90067\n",
      "[40]\teval-mlogloss:0.79865\n",
      "[49]\teval-mlogloss:0.73667\n",
      "17 {'n_estimators': 50, 'learning_rate': 0.05, 'max_depth': 5, 'random_state': 1337, 'dtrain': <xgboost.core.DMatrix object at 0x000000002461F590>, 'dtest': <xgboost.core.DMatrix object at 0x000000002460B950>}\n",
      "[0]\teval-mlogloss:1.85763\n"
     ]
    },
    {
     "name": "stderr",
     "output_type": "stream",
     "text": [
      "S:\\anaconda\\envs\\study\\Lib\\site-packages\\xgboost\\training.py:183: UserWarning: [17:26:16] WARNING: C:\\b\\abs_d97hy_84m6\\croot\\xgboost-split_1749630932152\\work\\src\\learner.cc:738: \n",
      "Parameters: { \"early_stopping_rounds\" } are not used.\n",
      "\n",
      "  bst.update(dtrain, iteration=i, fobj=obj)\n"
     ]
    },
    {
     "name": "stdout",
     "output_type": "stream",
     "text": [
      "[10]\teval-mlogloss:1.30642\n",
      "[20]\teval-mlogloss:1.02857\n",
      "[30]\teval-mlogloss:0.86634\n",
      "[40]\teval-mlogloss:0.76112\n",
      "[49]\teval-mlogloss:0.69703\n",
      "18 {'n_estimators': 20, 'learning_rate': 0.1, 'max_depth': 3, 'random_state': 1337, 'dtrain': <xgboost.core.DMatrix object at 0x000000002461F590>, 'dtest': <xgboost.core.DMatrix object at 0x000000002460B950>}\n",
      "[0]\teval-mlogloss:1.78894\n"
     ]
    },
    {
     "name": "stderr",
     "output_type": "stream",
     "text": [
      "S:\\anaconda\\envs\\study\\Lib\\site-packages\\xgboost\\training.py:183: UserWarning: [17:26:19] WARNING: C:\\b\\abs_d97hy_84m6\\croot\\xgboost-split_1749630932152\\work\\src\\learner.cc:738: \n",
      "Parameters: { \"early_stopping_rounds\" } are not used.\n",
      "\n",
      "  bst.update(dtrain, iteration=i, fobj=obj)\n"
     ]
    },
    {
     "name": "stdout",
     "output_type": "stream",
     "text": [
      "[10]\teval-mlogloss:1.06568\n",
      "[19]\teval-mlogloss:0.83954\n",
      "19 {'n_estimators': 20, 'learning_rate': 0.1, 'max_depth': 4, 'random_state': 1337, 'dtrain': <xgboost.core.DMatrix object at 0x000000002461F590>, 'dtest': <xgboost.core.DMatrix object at 0x000000002460B950>}\n",
      "[0]\teval-mlogloss:1.77874\n"
     ]
    },
    {
     "name": "stderr",
     "output_type": "stream",
     "text": [
      "S:\\anaconda\\envs\\study\\Lib\\site-packages\\xgboost\\training.py:183: UserWarning: [17:26:19] WARNING: C:\\b\\abs_d97hy_84m6\\croot\\xgboost-split_1749630932152\\work\\src\\learner.cc:738: \n",
      "Parameters: { \"early_stopping_rounds\" } are not used.\n",
      "\n",
      "  bst.update(dtrain, iteration=i, fobj=obj)\n"
     ]
    },
    {
     "name": "stdout",
     "output_type": "stream",
     "text": [
      "[10]\teval-mlogloss:1.03341\n",
      "[19]\teval-mlogloss:0.80176\n",
      "20 {'n_estimators': 20, 'learning_rate': 0.1, 'max_depth': 5, 'random_state': 1337, 'dtrain': <xgboost.core.DMatrix object at 0x000000002461F590>, 'dtest': <xgboost.core.DMatrix object at 0x000000002460B950>}\n",
      "[0]\teval-mlogloss:1.77211\n"
     ]
    },
    {
     "name": "stderr",
     "output_type": "stream",
     "text": [
      "S:\\anaconda\\envs\\study\\Lib\\site-packages\\xgboost\\training.py:183: UserWarning: [17:26:20] WARNING: C:\\b\\abs_d97hy_84m6\\croot\\xgboost-split_1749630932152\\work\\src\\learner.cc:738: \n",
      "Parameters: { \"early_stopping_rounds\" } are not used.\n",
      "\n",
      "  bst.update(dtrain, iteration=i, fobj=obj)\n"
     ]
    },
    {
     "name": "stdout",
     "output_type": "stream",
     "text": [
      "[10]\teval-mlogloss:1.00268\n",
      "[19]\teval-mlogloss:0.76386\n",
      "21 {'n_estimators': 20, 'learning_rate': 0.2, 'max_depth': 3, 'random_state': 1337, 'dtrain': <xgboost.core.DMatrix object at 0x000000002461F590>, 'dtest': <xgboost.core.DMatrix object at 0x000000002460B950>}\n",
      "[0]\teval-mlogloss:1.64238\n"
     ]
    },
    {
     "name": "stderr",
     "output_type": "stream",
     "text": [
      "S:\\anaconda\\envs\\study\\Lib\\site-packages\\xgboost\\training.py:183: UserWarning: [17:26:22] WARNING: C:\\b\\abs_d97hy_84m6\\croot\\xgboost-split_1749630932152\\work\\src\\learner.cc:738: \n",
      "Parameters: { \"early_stopping_rounds\" } are not used.\n",
      "\n",
      "  bst.update(dtrain, iteration=i, fobj=obj)\n"
     ]
    },
    {
     "name": "stdout",
     "output_type": "stream",
     "text": [
      "[10]\teval-mlogloss:0.80526\n",
      "[19]\teval-mlogloss:0.66359\n",
      "22 {'n_estimators': 20, 'learning_rate': 0.2, 'max_depth': 4, 'random_state': 1337, 'dtrain': <xgboost.core.DMatrix object at 0x000000002461F590>, 'dtest': <xgboost.core.DMatrix object at 0x000000002460B950>}\n",
      "[0]\teval-mlogloss:1.62285\n"
     ]
    },
    {
     "name": "stderr",
     "output_type": "stream",
     "text": [
      "S:\\anaconda\\envs\\study\\Lib\\site-packages\\xgboost\\training.py:183: UserWarning: [17:26:22] WARNING: C:\\b\\abs_d97hy_84m6\\croot\\xgboost-split_1749630932152\\work\\src\\learner.cc:738: \n",
      "Parameters: { \"early_stopping_rounds\" } are not used.\n",
      "\n",
      "  bst.update(dtrain, iteration=i, fobj=obj)\n"
     ]
    },
    {
     "name": "stdout",
     "output_type": "stream",
     "text": [
      "[10]\teval-mlogloss:0.76471\n",
      "[19]\teval-mlogloss:0.62159\n",
      "23 {'n_estimators': 20, 'learning_rate': 0.2, 'max_depth': 5, 'random_state': 1337, 'dtrain': <xgboost.core.DMatrix object at 0x000000002461F590>, 'dtest': <xgboost.core.DMatrix object at 0x000000002460B950>}\n",
      "[0]\teval-mlogloss:1.61016\n"
     ]
    },
    {
     "name": "stderr",
     "output_type": "stream",
     "text": [
      "S:\\anaconda\\envs\\study\\Lib\\site-packages\\xgboost\\training.py:183: UserWarning: [17:26:23] WARNING: C:\\b\\abs_d97hy_84m6\\croot\\xgboost-split_1749630932152\\work\\src\\learner.cc:738: \n",
      "Parameters: { \"early_stopping_rounds\" } are not used.\n",
      "\n",
      "  bst.update(dtrain, iteration=i, fobj=obj)\n"
     ]
    },
    {
     "name": "stdout",
     "output_type": "stream",
     "text": [
      "[10]\teval-mlogloss:0.72574\n",
      "[19]\teval-mlogloss:0.57676\n",
      "24 {'n_estimators': 20, 'learning_rate': 0.05, 'max_depth': 3, 'random_state': 1337, 'dtrain': <xgboost.core.DMatrix object at 0x000000002461F590>, 'dtest': <xgboost.core.DMatrix object at 0x000000002460B950>}\n",
      "[0]\teval-mlogloss:1.86619\n"
     ]
    },
    {
     "name": "stderr",
     "output_type": "stream",
     "text": [
      "S:\\anaconda\\envs\\study\\Lib\\site-packages\\xgboost\\training.py:183: UserWarning: [17:26:24] WARNING: C:\\b\\abs_d97hy_84m6\\croot\\xgboost-split_1749630932152\\work\\src\\learner.cc:738: \n",
      "Parameters: { \"early_stopping_rounds\" } are not used.\n",
      "\n",
      "  bst.update(dtrain, iteration=i, fobj=obj)\n"
     ]
    },
    {
     "name": "stdout",
     "output_type": "stream",
     "text": [
      "[10]\teval-mlogloss:1.35319\n",
      "[19]\teval-mlogloss:1.10950\n",
      "25 {'n_estimators': 20, 'learning_rate': 0.05, 'max_depth': 4, 'random_state': 1337, 'dtrain': <xgboost.core.DMatrix object at 0x000000002461F590>, 'dtest': <xgboost.core.DMatrix object at 0x000000002460B950>}\n",
      "[0]\teval-mlogloss:1.86100\n"
     ]
    },
    {
     "name": "stderr",
     "output_type": "stream",
     "text": [
      "S:\\anaconda\\envs\\study\\Lib\\site-packages\\sklearn\\metrics\\_classification.py:1565: UndefinedMetricWarning: Precision is ill-defined and being set to 0.0 in labels with no predicted samples. Use `zero_division` parameter to control this behavior.\n",
      "  _warn_prf(average, modifier, f\"{metric.capitalize()} is\", len(result))\n",
      "S:\\anaconda\\envs\\study\\Lib\\site-packages\\sklearn\\metrics\\_classification.py:1565: UndefinedMetricWarning: Precision is ill-defined and being set to 0.0 in labels with no predicted samples. Use `zero_division` parameter to control this behavior.\n",
      "  _warn_prf(average, modifier, f\"{metric.capitalize()} is\", len(result))\n",
      "S:\\anaconda\\envs\\study\\Lib\\site-packages\\sklearn\\metrics\\_classification.py:1565: UndefinedMetricWarning: Precision is ill-defined and being set to 0.0 in labels with no predicted samples. Use `zero_division` parameter to control this behavior.\n",
      "  _warn_prf(average, modifier, f\"{metric.capitalize()} is\", len(result))\n",
      "S:\\anaconda\\envs\\study\\Lib\\site-packages\\xgboost\\training.py:183: UserWarning: [17:26:25] WARNING: C:\\b\\abs_d97hy_84m6\\croot\\xgboost-split_1749630932152\\work\\src\\learner.cc:738: \n",
      "Parameters: { \"early_stopping_rounds\" } are not used.\n",
      "\n",
      "  bst.update(dtrain, iteration=i, fobj=obj)\n"
     ]
    },
    {
     "name": "stdout",
     "output_type": "stream",
     "text": [
      "[10]\teval-mlogloss:1.32838\n",
      "[19]\teval-mlogloss:1.07866\n",
      "26 {'n_estimators': 20, 'learning_rate': 0.05, 'max_depth': 5, 'random_state': 1337, 'dtrain': <xgboost.core.DMatrix object at 0x000000002461F590>, 'dtest': <xgboost.core.DMatrix object at 0x000000002460B950>}\n",
      "[0]\teval-mlogloss:1.85763\n"
     ]
    },
    {
     "name": "stderr",
     "output_type": "stream",
     "text": [
      "S:\\anaconda\\envs\\study\\Lib\\site-packages\\xgboost\\training.py:183: UserWarning: [17:26:26] WARNING: C:\\b\\abs_d97hy_84m6\\croot\\xgboost-split_1749630932152\\work\\src\\learner.cc:738: \n",
      "Parameters: { \"early_stopping_rounds\" } are not used.\n",
      "\n",
      "  bst.update(dtrain, iteration=i, fobj=obj)\n"
     ]
    },
    {
     "name": "stdout",
     "output_type": "stream",
     "text": [
      "[10]\teval-mlogloss:1.30642\n",
      "[19]\teval-mlogloss:1.04933\n",
      "27 {'n_estimators': 200, 'learning_rate': 0.1, 'max_depth': 3, 'random_state': 1337, 'dtrain': <xgboost.core.DMatrix object at 0x000000002461F590>, 'dtest': <xgboost.core.DMatrix object at 0x000000002460B950>}\n",
      "[0]\teval-mlogloss:1.78894\n"
     ]
    },
    {
     "name": "stderr",
     "output_type": "stream",
     "text": [
      "S:\\anaconda\\envs\\study\\Lib\\site-packages\\xgboost\\training.py:183: UserWarning: [17:26:27] WARNING: C:\\b\\abs_d97hy_84m6\\croot\\xgboost-split_1749630932152\\work\\src\\learner.cc:738: \n",
      "Parameters: { \"early_stopping_rounds\" } are not used.\n",
      "\n",
      "  bst.update(dtrain, iteration=i, fobj=obj)\n"
     ]
    },
    {
     "name": "stdout",
     "output_type": "stream",
     "text": [
      "[10]\teval-mlogloss:1.06568\n",
      "[20]\teval-mlogloss:0.82366\n",
      "[30]\teval-mlogloss:0.71790\n",
      "[40]\teval-mlogloss:0.66211\n",
      "[50]\teval-mlogloss:0.62962\n",
      "[60]\teval-mlogloss:0.60682\n",
      "[70]\teval-mlogloss:0.59121\n",
      "[80]\teval-mlogloss:0.57912\n",
      "[90]\teval-mlogloss:0.56941\n",
      "[100]\teval-mlogloss:0.56160\n",
      "[110]\teval-mlogloss:0.55460\n",
      "[120]\teval-mlogloss:0.54794\n",
      "[130]\teval-mlogloss:0.54178\n",
      "[140]\teval-mlogloss:0.53582\n",
      "[150]\teval-mlogloss:0.52960\n",
      "[160]\teval-mlogloss:0.52459\n",
      "[170]\teval-mlogloss:0.52028\n",
      "[180]\teval-mlogloss:0.51611\n",
      "[190]\teval-mlogloss:0.51224\n",
      "[199]\teval-mlogloss:0.50857\n",
      "28 {'n_estimators': 200, 'learning_rate': 0.1, 'max_depth': 4, 'random_state': 1337, 'dtrain': <xgboost.core.DMatrix object at 0x000000002461F590>, 'dtest': <xgboost.core.DMatrix object at 0x000000002460B950>}\n",
      "[0]\teval-mlogloss:1.77874\n"
     ]
    },
    {
     "name": "stderr",
     "output_type": "stream",
     "text": [
      "S:\\anaconda\\envs\\study\\Lib\\site-packages\\xgboost\\training.py:183: UserWarning: [17:26:35] WARNING: C:\\b\\abs_d97hy_84m6\\croot\\xgboost-split_1749630932152\\work\\src\\learner.cc:738: \n",
      "Parameters: { \"early_stopping_rounds\" } are not used.\n",
      "\n",
      "  bst.update(dtrain, iteration=i, fobj=obj)\n"
     ]
    },
    {
     "name": "stdout",
     "output_type": "stream",
     "text": [
      "[10]\teval-mlogloss:1.03341\n",
      "[20]\teval-mlogloss:0.78586\n",
      "[30]\teval-mlogloss:0.67628\n",
      "[40]\teval-mlogloss:0.61862\n",
      "[50]\teval-mlogloss:0.58471\n",
      "[60]\teval-mlogloss:0.56059\n",
      "[70]\teval-mlogloss:0.54373\n",
      "[80]\teval-mlogloss:0.53140\n",
      "[90]\teval-mlogloss:0.52121\n",
      "[100]\teval-mlogloss:0.51247\n",
      "[110]\teval-mlogloss:0.50570\n",
      "[120]\teval-mlogloss:0.49935\n",
      "[130]\teval-mlogloss:0.49284\n",
      "[140]\teval-mlogloss:0.48683\n",
      "[150]\teval-mlogloss:0.48098\n",
      "[160]\teval-mlogloss:0.47613\n",
      "[170]\teval-mlogloss:0.47068\n",
      "[180]\teval-mlogloss:0.46591\n",
      "[190]\teval-mlogloss:0.46187\n",
      "[199]\teval-mlogloss:0.45643\n",
      "29 {'n_estimators': 200, 'learning_rate': 0.1, 'max_depth': 5, 'random_state': 1337, 'dtrain': <xgboost.core.DMatrix object at 0x000000002461F590>, 'dtest': <xgboost.core.DMatrix object at 0x000000002460B950>}\n",
      "[0]\teval-mlogloss:1.77211\n"
     ]
    },
    {
     "name": "stderr",
     "output_type": "stream",
     "text": [
      "S:\\anaconda\\envs\\study\\Lib\\site-packages\\xgboost\\training.py:183: UserWarning: [17:26:44] WARNING: C:\\b\\abs_d97hy_84m6\\croot\\xgboost-split_1749630932152\\work\\src\\learner.cc:738: \n",
      "Parameters: { \"early_stopping_rounds\" } are not used.\n",
      "\n",
      "  bst.update(dtrain, iteration=i, fobj=obj)\n"
     ]
    },
    {
     "name": "stdout",
     "output_type": "stream",
     "text": [
      "[10]\teval-mlogloss:1.00268\n",
      "[20]\teval-mlogloss:0.74736\n",
      "[30]\teval-mlogloss:0.63436\n",
      "[40]\teval-mlogloss:0.57566\n",
      "[50]\teval-mlogloss:0.53999\n",
      "[60]\teval-mlogloss:0.51623\n",
      "[70]\teval-mlogloss:0.49877\n",
      "[80]\teval-mlogloss:0.48481\n",
      "[90]\teval-mlogloss:0.47442\n",
      "[100]\teval-mlogloss:0.46474\n",
      "[110]\teval-mlogloss:0.45659\n",
      "[120]\teval-mlogloss:0.44979\n",
      "[130]\teval-mlogloss:0.44172\n",
      "[140]\teval-mlogloss:0.43631\n",
      "[150]\teval-mlogloss:0.42993\n",
      "[160]\teval-mlogloss:0.42327\n",
      "[170]\teval-mlogloss:0.41755\n",
      "[180]\teval-mlogloss:0.41228\n",
      "[190]\teval-mlogloss:0.40585\n",
      "[199]\teval-mlogloss:0.40140\n",
      "30 {'n_estimators': 200, 'learning_rate': 0.2, 'max_depth': 3, 'random_state': 1337, 'dtrain': <xgboost.core.DMatrix object at 0x000000002461F590>, 'dtest': <xgboost.core.DMatrix object at 0x000000002460B950>}\n",
      "[0]\teval-mlogloss:1.64238\n"
     ]
    },
    {
     "name": "stderr",
     "output_type": "stream",
     "text": [
      "S:\\anaconda\\envs\\study\\Lib\\site-packages\\xgboost\\training.py:183: UserWarning: [17:26:54] WARNING: C:\\b\\abs_d97hy_84m6\\croot\\xgboost-split_1749630932152\\work\\src\\learner.cc:738: \n",
      "Parameters: { \"early_stopping_rounds\" } are not used.\n",
      "\n",
      "  bst.update(dtrain, iteration=i, fobj=obj)\n"
     ]
    },
    {
     "name": "stdout",
     "output_type": "stream",
     "text": [
      "[10]\teval-mlogloss:0.80526\n",
      "[20]\teval-mlogloss:0.65583\n",
      "[30]\teval-mlogloss:0.60331\n",
      "[40]\teval-mlogloss:0.57782\n",
      "[50]\teval-mlogloss:0.56022\n",
      "[60]\teval-mlogloss:0.54529\n",
      "[70]\teval-mlogloss:0.53434\n",
      "[80]\teval-mlogloss:0.52440\n",
      "[90]\teval-mlogloss:0.51465\n",
      "[100]\teval-mlogloss:0.50710\n",
      "[110]\teval-mlogloss:0.49930\n",
      "[120]\teval-mlogloss:0.49317\n",
      "[130]\teval-mlogloss:0.48742\n",
      "[140]\teval-mlogloss:0.48221\n",
      "[150]\teval-mlogloss:0.47719\n",
      "[160]\teval-mlogloss:0.47264\n",
      "[170]\teval-mlogloss:0.46823\n",
      "[180]\teval-mlogloss:0.46419\n",
      "[190]\teval-mlogloss:0.45934\n",
      "[199]\teval-mlogloss:0.45546\n",
      "31 {'n_estimators': 200, 'learning_rate': 0.2, 'max_depth': 4, 'random_state': 1337, 'dtrain': <xgboost.core.DMatrix object at 0x000000002461F590>, 'dtest': <xgboost.core.DMatrix object at 0x000000002460B950>}\n",
      "[0]\teval-mlogloss:1.62285\n"
     ]
    },
    {
     "name": "stderr",
     "output_type": "stream",
     "text": [
      "S:\\anaconda\\envs\\study\\Lib\\site-packages\\xgboost\\training.py:183: UserWarning: [17:27:01] WARNING: C:\\b\\abs_d97hy_84m6\\croot\\xgboost-split_1749630932152\\work\\src\\learner.cc:738: \n",
      "Parameters: { \"early_stopping_rounds\" } are not used.\n",
      "\n",
      "  bst.update(dtrain, iteration=i, fobj=obj)\n"
     ]
    },
    {
     "name": "stdout",
     "output_type": "stream",
     "text": [
      "[10]\teval-mlogloss:0.76471\n",
      "[20]\teval-mlogloss:0.61304\n",
      "[30]\teval-mlogloss:0.55700\n",
      "[40]\teval-mlogloss:0.52999\n",
      "[50]\teval-mlogloss:0.51155\n",
      "[60]\teval-mlogloss:0.49752\n",
      "[70]\teval-mlogloss:0.48544\n",
      "[80]\teval-mlogloss:0.47394\n",
      "[90]\teval-mlogloss:0.46198\n",
      "[100]\teval-mlogloss:0.45306\n",
      "[110]\teval-mlogloss:0.44453\n",
      "[120]\teval-mlogloss:0.43676\n",
      "[130]\teval-mlogloss:0.42885\n",
      "[140]\teval-mlogloss:0.42165\n",
      "[150]\teval-mlogloss:0.41535\n",
      "[160]\teval-mlogloss:0.41013\n",
      "[170]\teval-mlogloss:0.40413\n",
      "[180]\teval-mlogloss:0.39879\n",
      "[190]\teval-mlogloss:0.39422\n",
      "[199]\teval-mlogloss:0.38947\n",
      "32 {'n_estimators': 200, 'learning_rate': 0.2, 'max_depth': 5, 'random_state': 1337, 'dtrain': <xgboost.core.DMatrix object at 0x000000002461F590>, 'dtest': <xgboost.core.DMatrix object at 0x000000002460B950>}\n",
      "[0]\teval-mlogloss:1.61016\n"
     ]
    },
    {
     "name": "stderr",
     "output_type": "stream",
     "text": [
      "S:\\anaconda\\envs\\study\\Lib\\site-packages\\xgboost\\training.py:183: UserWarning: [17:27:10] WARNING: C:\\b\\abs_d97hy_84m6\\croot\\xgboost-split_1749630932152\\work\\src\\learner.cc:738: \n",
      "Parameters: { \"early_stopping_rounds\" } are not used.\n",
      "\n",
      "  bst.update(dtrain, iteration=i, fobj=obj)\n"
     ]
    },
    {
     "name": "stdout",
     "output_type": "stream",
     "text": [
      "[10]\teval-mlogloss:0.72574\n",
      "[20]\teval-mlogloss:0.56821\n",
      "[30]\teval-mlogloss:0.50890\n",
      "[40]\teval-mlogloss:0.48159\n",
      "[50]\teval-mlogloss:0.46210\n",
      "[60]\teval-mlogloss:0.44734\n",
      "[70]\teval-mlogloss:0.43467\n",
      "[80]\teval-mlogloss:0.42158\n",
      "[90]\teval-mlogloss:0.40951\n",
      "[100]\teval-mlogloss:0.39850\n",
      "[110]\teval-mlogloss:0.38907\n",
      "[120]\teval-mlogloss:0.38004\n",
      "[130]\teval-mlogloss:0.37159\n",
      "[140]\teval-mlogloss:0.36451\n",
      "[150]\teval-mlogloss:0.35759\n",
      "[160]\teval-mlogloss:0.35037\n",
      "[170]\teval-mlogloss:0.34316\n",
      "[180]\teval-mlogloss:0.33499\n",
      "[190]\teval-mlogloss:0.32777\n",
      "[199]\teval-mlogloss:0.32301\n",
      "33 {'n_estimators': 200, 'learning_rate': 0.05, 'max_depth': 3, 'random_state': 1337, 'dtrain': <xgboost.core.DMatrix object at 0x000000002461F590>, 'dtest': <xgboost.core.DMatrix object at 0x000000002460B950>}\n",
      "[0]\teval-mlogloss:1.86619\n"
     ]
    },
    {
     "name": "stderr",
     "output_type": "stream",
     "text": [
      "S:\\anaconda\\envs\\study\\Lib\\site-packages\\xgboost\\training.py:183: UserWarning: [17:27:21] WARNING: C:\\b\\abs_d97hy_84m6\\croot\\xgboost-split_1749630932152\\work\\src\\learner.cc:738: \n",
      "Parameters: { \"early_stopping_rounds\" } are not used.\n",
      "\n",
      "  bst.update(dtrain, iteration=i, fobj=obj)\n"
     ]
    },
    {
     "name": "stdout",
     "output_type": "stream",
     "text": [
      "[10]\teval-mlogloss:1.35319\n",
      "[20]\teval-mlogloss:1.08960\n",
      "[30]\teval-mlogloss:0.93573\n",
      "[40]\teval-mlogloss:0.83718\n",
      "[50]\teval-mlogloss:0.77109\n",
      "[60]\teval-mlogloss:0.72497\n",
      "[70]\teval-mlogloss:0.69147\n",
      "[80]\teval-mlogloss:0.66625\n",
      "[90]\teval-mlogloss:0.64715\n",
      "[100]\teval-mlogloss:0.63188\n",
      "[110]\teval-mlogloss:0.61929\n",
      "[120]\teval-mlogloss:0.60870\n",
      "[130]\teval-mlogloss:0.60001\n",
      "[140]\teval-mlogloss:0.59243\n",
      "[150]\teval-mlogloss:0.58590\n",
      "[160]\teval-mlogloss:0.58022\n",
      "[170]\teval-mlogloss:0.57533\n",
      "[180]\teval-mlogloss:0.57094\n",
      "[190]\teval-mlogloss:0.56670\n",
      "[199]\teval-mlogloss:0.56329\n",
      "34 {'n_estimators': 200, 'learning_rate': 0.05, 'max_depth': 4, 'random_state': 1337, 'dtrain': <xgboost.core.DMatrix object at 0x000000002461F590>, 'dtest': <xgboost.core.DMatrix object at 0x000000002460B950>}\n",
      "[0]\teval-mlogloss:1.86100\n"
     ]
    },
    {
     "name": "stderr",
     "output_type": "stream",
     "text": [
      "S:\\anaconda\\envs\\study\\Lib\\site-packages\\xgboost\\training.py:183: UserWarning: [17:27:29] WARNING: C:\\b\\abs_d97hy_84m6\\croot\\xgboost-split_1749630932152\\work\\src\\learner.cc:738: \n",
      "Parameters: { \"early_stopping_rounds\" } are not used.\n",
      "\n",
      "  bst.update(dtrain, iteration=i, fobj=obj)\n"
     ]
    },
    {
     "name": "stdout",
     "output_type": "stream",
     "text": [
      "[10]\teval-mlogloss:1.32838\n",
      "[20]\teval-mlogloss:1.05830\n",
      "[30]\teval-mlogloss:0.90067\n",
      "[40]\teval-mlogloss:0.79865\n",
      "[50]\teval-mlogloss:0.73102\n",
      "[60]\teval-mlogloss:0.68352\n",
      "[70]\teval-mlogloss:0.64818\n",
      "[80]\teval-mlogloss:0.62242\n",
      "[90]\teval-mlogloss:0.60200\n",
      "[100]\teval-mlogloss:0.58529\n",
      "[110]\teval-mlogloss:0.57173\n",
      "[120]\teval-mlogloss:0.56078\n",
      "[130]\teval-mlogloss:0.55150\n",
      "[140]\teval-mlogloss:0.54385\n",
      "[150]\teval-mlogloss:0.53746\n",
      "[160]\teval-mlogloss:0.53193\n",
      "[170]\teval-mlogloss:0.52702\n",
      "[180]\teval-mlogloss:0.52205\n",
      "[190]\teval-mlogloss:0.51720\n",
      "[199]\teval-mlogloss:0.51335\n",
      "35 {'n_estimators': 200, 'learning_rate': 0.05, 'max_depth': 5, 'random_state': 1337, 'dtrain': <xgboost.core.DMatrix object at 0x000000002461F590>, 'dtest': <xgboost.core.DMatrix object at 0x000000002460B950>}\n",
      "[0]\teval-mlogloss:1.85763\n"
     ]
    },
    {
     "name": "stderr",
     "output_type": "stream",
     "text": [
      "S:\\anaconda\\envs\\study\\Lib\\site-packages\\xgboost\\training.py:183: UserWarning: [17:27:38] WARNING: C:\\b\\abs_d97hy_84m6\\croot\\xgboost-split_1749630932152\\work\\src\\learner.cc:738: \n",
      "Parameters: { \"early_stopping_rounds\" } are not used.\n",
      "\n",
      "  bst.update(dtrain, iteration=i, fobj=obj)\n"
     ]
    },
    {
     "name": "stdout",
     "output_type": "stream",
     "text": [
      "[10]\teval-mlogloss:1.30642\n",
      "[20]\teval-mlogloss:1.02857\n",
      "[30]\teval-mlogloss:0.86634\n",
      "[40]\teval-mlogloss:0.76112\n",
      "[50]\teval-mlogloss:0.69115\n",
      "[60]\teval-mlogloss:0.64116\n",
      "[70]\teval-mlogloss:0.60467\n",
      "[80]\teval-mlogloss:0.57768\n",
      "[90]\teval-mlogloss:0.55664\n",
      "[100]\teval-mlogloss:0.53964\n",
      "[110]\teval-mlogloss:0.52622\n",
      "[120]\teval-mlogloss:0.51444\n",
      "[130]\teval-mlogloss:0.50522\n",
      "[140]\teval-mlogloss:0.49746\n",
      "[150]\teval-mlogloss:0.49015\n",
      "[160]\teval-mlogloss:0.48436\n",
      "[170]\teval-mlogloss:0.47911\n",
      "[180]\teval-mlogloss:0.47423\n",
      "[190]\teval-mlogloss:0.46958\n",
      "[199]\teval-mlogloss:0.46574\n"
     ]
    },
    {
     "name": "stderr",
     "output_type": "stream",
     "text": [
      "C:\\Users\\nikol\\AppData\\Local\\Temp\\ipykernel_14832\\3180493565.py:13: FutureWarning: Calling int on a single element Series is deprecated and will raise a TypeError in the future. Use int(ser.iloc[0]) instead\n",
      "  num_classes = int(d[d.target_features].nunique()) # ИСПРАВЛЕНИЕ: Количество уникальных классов\n"
     ]
    },
    {
     "name": "stdout",
     "output_type": "stream",
     "text": [
      "36\n",
      "0 {'n_estimators': 100, 'learning_rate': 0.1, 'max_depth': 3, 'random_state': 1337, 'dtrain': <xgboost.core.DMatrix object at 0x0000000010B3E0F0>, 'dtest': <xgboost.core.DMatrix object at 0x0000000010B3E990>}\n",
      "[0]\teval-mlogloss:1.77524\n"
     ]
    },
    {
     "name": "stderr",
     "output_type": "stream",
     "text": [
      "S:\\anaconda\\envs\\study\\Lib\\site-packages\\xgboost\\training.py:183: UserWarning: [17:27:47] WARNING: C:\\b\\abs_d97hy_84m6\\croot\\xgboost-split_1749630932152\\work\\src\\learner.cc:738: \n",
      "Parameters: { \"early_stopping_rounds\" } are not used.\n",
      "\n",
      "  bst.update(dtrain, iteration=i, fobj=obj)\n"
     ]
    },
    {
     "name": "stdout",
     "output_type": "stream",
     "text": [
      "[10]\teval-mlogloss:1.06293\n",
      "[20]\teval-mlogloss:0.82146\n",
      "[30]\teval-mlogloss:0.71729\n",
      "[40]\teval-mlogloss:0.66275\n",
      "[50]\teval-mlogloss:0.62953\n",
      "[60]\teval-mlogloss:0.60713\n",
      "[70]\teval-mlogloss:0.59153\n",
      "[80]\teval-mlogloss:0.58041\n",
      "[90]\teval-mlogloss:0.57088\n",
      "[99]\teval-mlogloss:0.56319\n",
      "1 {'n_estimators': 100, 'learning_rate': 0.1, 'max_depth': 4, 'random_state': 1337, 'dtrain': <xgboost.core.DMatrix object at 0x0000000010B3E0F0>, 'dtest': <xgboost.core.DMatrix object at 0x0000000010B3E990>}\n",
      "[0]\teval-mlogloss:1.76829\n"
     ]
    },
    {
     "name": "stderr",
     "output_type": "stream",
     "text": [
      "S:\\anaconda\\envs\\study\\Lib\\site-packages\\xgboost\\training.py:183: UserWarning: [17:27:50] WARNING: C:\\b\\abs_d97hy_84m6\\croot\\xgboost-split_1749630932152\\work\\src\\learner.cc:738: \n",
      "Parameters: { \"early_stopping_rounds\" } are not used.\n",
      "\n",
      "  bst.update(dtrain, iteration=i, fobj=obj)\n"
     ]
    },
    {
     "name": "stdout",
     "output_type": "stream",
     "text": [
      "[10]\teval-mlogloss:1.03100\n",
      "[20]\teval-mlogloss:0.78406\n",
      "[30]\teval-mlogloss:0.67656\n",
      "[40]\teval-mlogloss:0.62016\n",
      "[50]\teval-mlogloss:0.58509\n",
      "[60]\teval-mlogloss:0.56056\n",
      "[70]\teval-mlogloss:0.54407\n",
      "[80]\teval-mlogloss:0.53186\n",
      "[90]\teval-mlogloss:0.52186\n",
      "[99]\teval-mlogloss:0.51337\n",
      "2 {'n_estimators': 100, 'learning_rate': 0.1, 'max_depth': 5, 'random_state': 1337, 'dtrain': <xgboost.core.DMatrix object at 0x0000000010B3E0F0>, 'dtest': <xgboost.core.DMatrix object at 0x0000000010B3E990>}\n",
      "[0]\teval-mlogloss:1.75980\n"
     ]
    },
    {
     "name": "stderr",
     "output_type": "stream",
     "text": [
      "S:\\anaconda\\envs\\study\\Lib\\site-packages\\xgboost\\training.py:183: UserWarning: [17:27:54] WARNING: C:\\b\\abs_d97hy_84m6\\croot\\xgboost-split_1749630932152\\work\\src\\learner.cc:738: \n",
      "Parameters: { \"early_stopping_rounds\" } are not used.\n",
      "\n",
      "  bst.update(dtrain, iteration=i, fobj=obj)\n"
     ]
    },
    {
     "name": "stdout",
     "output_type": "stream",
     "text": [
      "[10]\teval-mlogloss:0.99882\n",
      "[20]\teval-mlogloss:0.74420\n",
      "[30]\teval-mlogloss:0.63412\n",
      "[40]\teval-mlogloss:0.57544\n",
      "[50]\teval-mlogloss:0.53842\n",
      "[60]\teval-mlogloss:0.51419\n",
      "[70]\teval-mlogloss:0.49804\n",
      "[80]\teval-mlogloss:0.48637\n",
      "[90]\teval-mlogloss:0.47460\n",
      "[99]\teval-mlogloss:0.46688\n",
      "3 {'n_estimators': 100, 'learning_rate': 0.2, 'max_depth': 3, 'random_state': 1337, 'dtrain': <xgboost.core.DMatrix object at 0x0000000010B3E0F0>, 'dtest': <xgboost.core.DMatrix object at 0x0000000010B3E990>}\n",
      "[0]\teval-mlogloss:1.61634\n"
     ]
    },
    {
     "name": "stderr",
     "output_type": "stream",
     "text": [
      "S:\\anaconda\\envs\\study\\Lib\\site-packages\\xgboost\\training.py:183: UserWarning: [17:27:59] WARNING: C:\\b\\abs_d97hy_84m6\\croot\\xgboost-split_1749630932152\\work\\src\\learner.cc:738: \n",
      "Parameters: { \"early_stopping_rounds\" } are not used.\n",
      "\n",
      "  bst.update(dtrain, iteration=i, fobj=obj)\n"
     ]
    },
    {
     "name": "stdout",
     "output_type": "stream",
     "text": [
      "[10]\teval-mlogloss:0.79919\n",
      "[20]\teval-mlogloss:0.65457\n",
      "[30]\teval-mlogloss:0.60361\n",
      "[40]\teval-mlogloss:0.57818\n",
      "[50]\teval-mlogloss:0.56055\n",
      "[60]\teval-mlogloss:0.54805\n",
      "[70]\teval-mlogloss:0.53634\n",
      "[80]\teval-mlogloss:0.52626\n",
      "[90]\teval-mlogloss:0.51745\n",
      "[99]\teval-mlogloss:0.50999\n",
      "4 {'n_estimators': 100, 'learning_rate': 0.2, 'max_depth': 4, 'random_state': 1337, 'dtrain': <xgboost.core.DMatrix object at 0x0000000010B3E0F0>, 'dtest': <xgboost.core.DMatrix object at 0x0000000010B3E990>}\n",
      "[0]\teval-mlogloss:1.60303\n"
     ]
    },
    {
     "name": "stderr",
     "output_type": "stream",
     "text": [
      "S:\\anaconda\\envs\\study\\Lib\\site-packages\\xgboost\\training.py:183: UserWarning: [17:28:03] WARNING: C:\\b\\abs_d97hy_84m6\\croot\\xgboost-split_1749630932152\\work\\src\\learner.cc:738: \n",
      "Parameters: { \"early_stopping_rounds\" } are not used.\n",
      "\n",
      "  bst.update(dtrain, iteration=i, fobj=obj)\n"
     ]
    },
    {
     "name": "stdout",
     "output_type": "stream",
     "text": [
      "[10]\teval-mlogloss:0.76264\n",
      "[20]\teval-mlogloss:0.61148\n",
      "[30]\teval-mlogloss:0.55663\n",
      "[40]\teval-mlogloss:0.52961\n",
      "[50]\teval-mlogloss:0.51092\n",
      "[60]\teval-mlogloss:0.49741\n",
      "[70]\teval-mlogloss:0.48445\n",
      "[80]\teval-mlogloss:0.47290\n",
      "[90]\teval-mlogloss:0.46353\n",
      "[99]\teval-mlogloss:0.45491\n",
      "5 {'n_estimators': 100, 'learning_rate': 0.2, 'max_depth': 5, 'random_state': 1337, 'dtrain': <xgboost.core.DMatrix object at 0x0000000010B3E0F0>, 'dtest': <xgboost.core.DMatrix object at 0x0000000010B3E990>}\n",
      "[0]\teval-mlogloss:1.58677\n"
     ]
    },
    {
     "name": "stderr",
     "output_type": "stream",
     "text": [
      "S:\\anaconda\\envs\\study\\Lib\\site-packages\\xgboost\\training.py:183: UserWarning: [17:28:07] WARNING: C:\\b\\abs_d97hy_84m6\\croot\\xgboost-split_1749630932152\\work\\src\\learner.cc:738: \n",
      "Parameters: { \"early_stopping_rounds\" } are not used.\n",
      "\n",
      "  bst.update(dtrain, iteration=i, fobj=obj)\n"
     ]
    },
    {
     "name": "stdout",
     "output_type": "stream",
     "text": [
      "[10]\teval-mlogloss:0.72184\n",
      "[20]\teval-mlogloss:0.56592\n",
      "[30]\teval-mlogloss:0.50869\n",
      "[40]\teval-mlogloss:0.48166\n",
      "[50]\teval-mlogloss:0.46247\n",
      "[60]\teval-mlogloss:0.44640\n",
      "[70]\teval-mlogloss:0.43309\n",
      "[80]\teval-mlogloss:0.42251\n",
      "[90]\teval-mlogloss:0.40880\n",
      "[99]\teval-mlogloss:0.39908\n",
      "6 {'n_estimators': 100, 'learning_rate': 0.05, 'max_depth': 3, 'random_state': 1337, 'dtrain': <xgboost.core.DMatrix object at 0x0000000010B3E0F0>, 'dtest': <xgboost.core.DMatrix object at 0x0000000010B3E990>}\n",
      "[0]\teval-mlogloss:1.85920\n"
     ]
    },
    {
     "name": "stderr",
     "output_type": "stream",
     "text": [
      "S:\\anaconda\\envs\\study\\Lib\\site-packages\\xgboost\\training.py:183: UserWarning: [17:28:12] WARNING: C:\\b\\abs_d97hy_84m6\\croot\\xgboost-split_1749630932152\\work\\src\\learner.cc:738: \n",
      "Parameters: { \"early_stopping_rounds\" } are not used.\n",
      "\n",
      "  bst.update(dtrain, iteration=i, fobj=obj)\n"
     ]
    },
    {
     "name": "stdout",
     "output_type": "stream",
     "text": [
      "[10]\teval-mlogloss:1.35215\n",
      "[20]\teval-mlogloss:1.08748\n",
      "[30]\teval-mlogloss:0.93565\n",
      "[40]\teval-mlogloss:0.83809\n",
      "[50]\teval-mlogloss:0.77280\n",
      "[60]\teval-mlogloss:0.72678\n",
      "[70]\teval-mlogloss:0.69291\n",
      "[80]\teval-mlogloss:0.66770\n",
      "[90]\teval-mlogloss:0.64834\n",
      "[99]\teval-mlogloss:0.63423\n",
      "7 {'n_estimators': 100, 'learning_rate': 0.05, 'max_depth': 4, 'random_state': 1337, 'dtrain': <xgboost.core.DMatrix object at 0x0000000010B3E0F0>, 'dtest': <xgboost.core.DMatrix object at 0x0000000010B3E990>}\n",
      "[0]\teval-mlogloss:1.85567\n"
     ]
    },
    {
     "name": "stderr",
     "output_type": "stream",
     "text": [
      "S:\\anaconda\\envs\\study\\Lib\\site-packages\\xgboost\\training.py:183: UserWarning: [17:28:16] WARNING: C:\\b\\abs_d97hy_84m6\\croot\\xgboost-split_1749630932152\\work\\src\\learner.cc:738: \n",
      "Parameters: { \"early_stopping_rounds\" } are not used.\n",
      "\n",
      "  bst.update(dtrain, iteration=i, fobj=obj)\n"
     ]
    },
    {
     "name": "stdout",
     "output_type": "stream",
     "text": [
      "[10]\teval-mlogloss:1.32717\n",
      "[20]\teval-mlogloss:1.05499\n",
      "[30]\teval-mlogloss:0.89946\n",
      "[40]\teval-mlogloss:0.79874\n",
      "[50]\teval-mlogloss:0.73155\n",
      "[60]\teval-mlogloss:0.68473\n",
      "[70]\teval-mlogloss:0.64986\n",
      "[80]\teval-mlogloss:0.62377\n",
      "[90]\teval-mlogloss:0.60308\n",
      "[99]\teval-mlogloss:0.58813\n",
      "8 {'n_estimators': 100, 'learning_rate': 0.05, 'max_depth': 5, 'random_state': 1337, 'dtrain': <xgboost.core.DMatrix object at 0x0000000010B3E0F0>, 'dtest': <xgboost.core.DMatrix object at 0x0000000010B3E990>}\n",
      "[0]\teval-mlogloss:1.85134\n"
     ]
    },
    {
     "name": "stderr",
     "output_type": "stream",
     "text": [
      "S:\\anaconda\\envs\\study\\Lib\\site-packages\\xgboost\\training.py:183: UserWarning: [17:28:21] WARNING: C:\\b\\abs_d97hy_84m6\\croot\\xgboost-split_1749630932152\\work\\src\\learner.cc:738: \n",
      "Parameters: { \"early_stopping_rounds\" } are not used.\n",
      "\n",
      "  bst.update(dtrain, iteration=i, fobj=obj)\n"
     ]
    },
    {
     "name": "stdout",
     "output_type": "stream",
     "text": [
      "[10]\teval-mlogloss:1.30544\n",
      "[20]\teval-mlogloss:1.02491\n",
      "[30]\teval-mlogloss:0.86480\n",
      "[40]\teval-mlogloss:0.76117\n",
      "[50]\teval-mlogloss:0.69076\n",
      "[60]\teval-mlogloss:0.64164\n",
      "[70]\teval-mlogloss:0.60638\n",
      "[80]\teval-mlogloss:0.58022\n",
      "[90]\teval-mlogloss:0.55818\n",
      "[99]\teval-mlogloss:0.54302\n",
      "9 {'n_estimators': 50, 'learning_rate': 0.1, 'max_depth': 3, 'random_state': 1337, 'dtrain': <xgboost.core.DMatrix object at 0x0000000010B3E0F0>, 'dtest': <xgboost.core.DMatrix object at 0x0000000010B3E990>}\n",
      "[0]\teval-mlogloss:1.77524\n"
     ]
    },
    {
     "name": "stderr",
     "output_type": "stream",
     "text": [
      "S:\\anaconda\\envs\\study\\Lib\\site-packages\\xgboost\\training.py:183: UserWarning: [17:28:26] WARNING: C:\\b\\abs_d97hy_84m6\\croot\\xgboost-split_1749630932152\\work\\src\\learner.cc:738: \n",
      "Parameters: { \"early_stopping_rounds\" } are not used.\n",
      "\n",
      "  bst.update(dtrain, iteration=i, fobj=obj)\n"
     ]
    },
    {
     "name": "stdout",
     "output_type": "stream",
     "text": [
      "[10]\teval-mlogloss:1.06293\n",
      "[20]\teval-mlogloss:0.82146\n",
      "[30]\teval-mlogloss:0.71729\n",
      "[40]\teval-mlogloss:0.66275\n",
      "[49]\teval-mlogloss:0.63225\n",
      "10 {'n_estimators': 50, 'learning_rate': 0.1, 'max_depth': 4, 'random_state': 1337, 'dtrain': <xgboost.core.DMatrix object at 0x0000000010B3E0F0>, 'dtest': <xgboost.core.DMatrix object at 0x0000000010B3E990>}\n",
      "[0]\teval-mlogloss:1.76829\n"
     ]
    },
    {
     "name": "stderr",
     "output_type": "stream",
     "text": [
      "S:\\anaconda\\envs\\study\\Lib\\site-packages\\xgboost\\training.py:183: UserWarning: [17:28:28] WARNING: C:\\b\\abs_d97hy_84m6\\croot\\xgboost-split_1749630932152\\work\\src\\learner.cc:738: \n",
      "Parameters: { \"early_stopping_rounds\" } are not used.\n",
      "\n",
      "  bst.update(dtrain, iteration=i, fobj=obj)\n"
     ]
    },
    {
     "name": "stdout",
     "output_type": "stream",
     "text": [
      "[10]\teval-mlogloss:1.03100\n",
      "[20]\teval-mlogloss:0.78406\n",
      "[30]\teval-mlogloss:0.67656\n",
      "[40]\teval-mlogloss:0.62016\n",
      "[49]\teval-mlogloss:0.58761\n",
      "11 {'n_estimators': 50, 'learning_rate': 0.1, 'max_depth': 5, 'random_state': 1337, 'dtrain': <xgboost.core.DMatrix object at 0x0000000010B3E0F0>, 'dtest': <xgboost.core.DMatrix object at 0x0000000010B3E990>}\n",
      "[0]\teval-mlogloss:1.75980\n"
     ]
    },
    {
     "name": "stderr",
     "output_type": "stream",
     "text": [
      "S:\\anaconda\\envs\\study\\Lib\\site-packages\\xgboost\\training.py:183: UserWarning: [17:28:31] WARNING: C:\\b\\abs_d97hy_84m6\\croot\\xgboost-split_1749630932152\\work\\src\\learner.cc:738: \n",
      "Parameters: { \"early_stopping_rounds\" } are not used.\n",
      "\n",
      "  bst.update(dtrain, iteration=i, fobj=obj)\n"
     ]
    },
    {
     "name": "stdout",
     "output_type": "stream",
     "text": [
      "[10]\teval-mlogloss:0.99882\n",
      "[20]\teval-mlogloss:0.74420\n",
      "[30]\teval-mlogloss:0.63412\n",
      "[40]\teval-mlogloss:0.57544\n",
      "[49]\teval-mlogloss:0.54150\n",
      "12 {'n_estimators': 50, 'learning_rate': 0.2, 'max_depth': 3, 'random_state': 1337, 'dtrain': <xgboost.core.DMatrix object at 0x0000000010B3E0F0>, 'dtest': <xgboost.core.DMatrix object at 0x0000000010B3E990>}\n",
      "[0]\teval-mlogloss:1.61634\n"
     ]
    },
    {
     "name": "stderr",
     "output_type": "stream",
     "text": [
      "S:\\anaconda\\envs\\study\\Lib\\site-packages\\xgboost\\training.py:183: UserWarning: [17:28:34] WARNING: C:\\b\\abs_d97hy_84m6\\croot\\xgboost-split_1749630932152\\work\\src\\learner.cc:738: \n",
      "Parameters: { \"early_stopping_rounds\" } are not used.\n",
      "\n",
      "  bst.update(dtrain, iteration=i, fobj=obj)\n"
     ]
    },
    {
     "name": "stdout",
     "output_type": "stream",
     "text": [
      "[10]\teval-mlogloss:0.79919\n",
      "[20]\teval-mlogloss:0.65457\n",
      "[30]\teval-mlogloss:0.60361\n",
      "[40]\teval-mlogloss:0.57818\n",
      "[49]\teval-mlogloss:0.56170\n",
      "13 {'n_estimators': 50, 'learning_rate': 0.2, 'max_depth': 4, 'random_state': 1337, 'dtrain': <xgboost.core.DMatrix object at 0x0000000010B3E0F0>, 'dtest': <xgboost.core.DMatrix object at 0x0000000010B3E990>}\n",
      "[0]\teval-mlogloss:1.60303\n"
     ]
    },
    {
     "name": "stderr",
     "output_type": "stream",
     "text": [
      "S:\\anaconda\\envs\\study\\Lib\\site-packages\\xgboost\\training.py:183: UserWarning: [17:28:36] WARNING: C:\\b\\abs_d97hy_84m6\\croot\\xgboost-split_1749630932152\\work\\src\\learner.cc:738: \n",
      "Parameters: { \"early_stopping_rounds\" } are not used.\n",
      "\n",
      "  bst.update(dtrain, iteration=i, fobj=obj)\n"
     ]
    },
    {
     "name": "stdout",
     "output_type": "stream",
     "text": [
      "[10]\teval-mlogloss:0.76264\n",
      "[20]\teval-mlogloss:0.61148\n",
      "[30]\teval-mlogloss:0.55663\n",
      "[40]\teval-mlogloss:0.52961\n",
      "[49]\teval-mlogloss:0.51246\n",
      "14 {'n_estimators': 50, 'learning_rate': 0.2, 'max_depth': 5, 'random_state': 1337, 'dtrain': <xgboost.core.DMatrix object at 0x0000000010B3E0F0>, 'dtest': <xgboost.core.DMatrix object at 0x0000000010B3E990>}\n",
      "[0]\teval-mlogloss:1.58677\n"
     ]
    },
    {
     "name": "stderr",
     "output_type": "stream",
     "text": [
      "S:\\anaconda\\envs\\study\\Lib\\site-packages\\xgboost\\training.py:183: UserWarning: [17:28:39] WARNING: C:\\b\\abs_d97hy_84m6\\croot\\xgboost-split_1749630932152\\work\\src\\learner.cc:738: \n",
      "Parameters: { \"early_stopping_rounds\" } are not used.\n",
      "\n",
      "  bst.update(dtrain, iteration=i, fobj=obj)\n"
     ]
    },
    {
     "name": "stdout",
     "output_type": "stream",
     "text": [
      "[10]\teval-mlogloss:0.72184\n",
      "[20]\teval-mlogloss:0.56592\n",
      "[30]\teval-mlogloss:0.50869\n",
      "[40]\teval-mlogloss:0.48166\n",
      "[49]\teval-mlogloss:0.46399\n",
      "15 {'n_estimators': 50, 'learning_rate': 0.05, 'max_depth': 3, 'random_state': 1337, 'dtrain': <xgboost.core.DMatrix object at 0x0000000010B3E0F0>, 'dtest': <xgboost.core.DMatrix object at 0x0000000010B3E990>}\n",
      "[0]\teval-mlogloss:1.85920\n"
     ]
    },
    {
     "name": "stderr",
     "output_type": "stream",
     "text": [
      "S:\\anaconda\\envs\\study\\Lib\\site-packages\\xgboost\\training.py:183: UserWarning: [17:28:42] WARNING: C:\\b\\abs_d97hy_84m6\\croot\\xgboost-split_1749630932152\\work\\src\\learner.cc:738: \n",
      "Parameters: { \"early_stopping_rounds\" } are not used.\n",
      "\n",
      "  bst.update(dtrain, iteration=i, fobj=obj)\n"
     ]
    },
    {
     "name": "stdout",
     "output_type": "stream",
     "text": [
      "[10]\teval-mlogloss:1.35215\n",
      "[20]\teval-mlogloss:1.08748\n",
      "[30]\teval-mlogloss:0.93565\n",
      "[40]\teval-mlogloss:0.83809\n",
      "[49]\teval-mlogloss:0.77831\n",
      "16 {'n_estimators': 50, 'learning_rate': 0.05, 'max_depth': 4, 'random_state': 1337, 'dtrain': <xgboost.core.DMatrix object at 0x0000000010B3E0F0>, 'dtest': <xgboost.core.DMatrix object at 0x0000000010B3E990>}\n",
      "[0]\teval-mlogloss:1.85567\n"
     ]
    },
    {
     "name": "stderr",
     "output_type": "stream",
     "text": [
      "S:\\anaconda\\envs\\study\\Lib\\site-packages\\xgboost\\training.py:183: UserWarning: [17:28:44] WARNING: C:\\b\\abs_d97hy_84m6\\croot\\xgboost-split_1749630932152\\work\\src\\learner.cc:738: \n",
      "Parameters: { \"early_stopping_rounds\" } are not used.\n",
      "\n",
      "  bst.update(dtrain, iteration=i, fobj=obj)\n"
     ]
    },
    {
     "name": "stdout",
     "output_type": "stream",
     "text": [
      "[10]\teval-mlogloss:1.32717\n",
      "[20]\teval-mlogloss:1.05499\n",
      "[30]\teval-mlogloss:0.89946\n",
      "[40]\teval-mlogloss:0.79874\n",
      "[49]\teval-mlogloss:0.73704\n",
      "17 {'n_estimators': 50, 'learning_rate': 0.05, 'max_depth': 5, 'random_state': 1337, 'dtrain': <xgboost.core.DMatrix object at 0x0000000010B3E0F0>, 'dtest': <xgboost.core.DMatrix object at 0x0000000010B3E990>}\n",
      "[0]\teval-mlogloss:1.85134\n"
     ]
    },
    {
     "name": "stderr",
     "output_type": "stream",
     "text": [
      "S:\\anaconda\\envs\\study\\Lib\\site-packages\\xgboost\\training.py:183: UserWarning: [17:28:47] WARNING: C:\\b\\abs_d97hy_84m6\\croot\\xgboost-split_1749630932152\\work\\src\\learner.cc:738: \n",
      "Parameters: { \"early_stopping_rounds\" } are not used.\n",
      "\n",
      "  bst.update(dtrain, iteration=i, fobj=obj)\n"
     ]
    },
    {
     "name": "stdout",
     "output_type": "stream",
     "text": [
      "[10]\teval-mlogloss:1.30544\n",
      "[20]\teval-mlogloss:1.02491\n",
      "[30]\teval-mlogloss:0.86480\n",
      "[40]\teval-mlogloss:0.76117\n",
      "[49]\teval-mlogloss:0.69652\n",
      "18 {'n_estimators': 20, 'learning_rate': 0.1, 'max_depth': 3, 'random_state': 1337, 'dtrain': <xgboost.core.DMatrix object at 0x0000000010B3E0F0>, 'dtest': <xgboost.core.DMatrix object at 0x0000000010B3E990>}\n",
      "[0]\teval-mlogloss:1.77524\n"
     ]
    },
    {
     "name": "stderr",
     "output_type": "stream",
     "text": [
      "S:\\anaconda\\envs\\study\\Lib\\site-packages\\xgboost\\training.py:183: UserWarning: [17:28:50] WARNING: C:\\b\\abs_d97hy_84m6\\croot\\xgboost-split_1749630932152\\work\\src\\learner.cc:738: \n",
      "Parameters: { \"early_stopping_rounds\" } are not used.\n",
      "\n",
      "  bst.update(dtrain, iteration=i, fobj=obj)\n"
     ]
    },
    {
     "name": "stdout",
     "output_type": "stream",
     "text": [
      "[10]\teval-mlogloss:1.06293\n",
      "[19]\teval-mlogloss:0.83714\n",
      "19 {'n_estimators': 20, 'learning_rate': 0.1, 'max_depth': 4, 'random_state': 1337, 'dtrain': <xgboost.core.DMatrix object at 0x0000000010B3E0F0>, 'dtest': <xgboost.core.DMatrix object at 0x0000000010B3E990>}\n",
      "[0]\teval-mlogloss:1.76829\n"
     ]
    },
    {
     "name": "stderr",
     "output_type": "stream",
     "text": [
      "S:\\anaconda\\envs\\study\\Lib\\site-packages\\sklearn\\metrics\\_classification.py:1565: UndefinedMetricWarning: Precision is ill-defined and being set to 0.0 in labels with no predicted samples. Use `zero_division` parameter to control this behavior.\n",
      "  _warn_prf(average, modifier, f\"{metric.capitalize()} is\", len(result))\n",
      "S:\\anaconda\\envs\\study\\Lib\\site-packages\\sklearn\\metrics\\_classification.py:1565: UndefinedMetricWarning: Precision is ill-defined and being set to 0.0 in labels with no predicted samples. Use `zero_division` parameter to control this behavior.\n",
      "  _warn_prf(average, modifier, f\"{metric.capitalize()} is\", len(result))\n",
      "S:\\anaconda\\envs\\study\\Lib\\site-packages\\sklearn\\metrics\\_classification.py:1565: UndefinedMetricWarning: Precision is ill-defined and being set to 0.0 in labels with no predicted samples. Use `zero_division` parameter to control this behavior.\n",
      "  _warn_prf(average, modifier, f\"{metric.capitalize()} is\", len(result))\n",
      "S:\\anaconda\\envs\\study\\Lib\\site-packages\\xgboost\\training.py:183: UserWarning: [17:28:51] WARNING: C:\\b\\abs_d97hy_84m6\\croot\\xgboost-split_1749630932152\\work\\src\\learner.cc:738: \n",
      "Parameters: { \"early_stopping_rounds\" } are not used.\n",
      "\n",
      "  bst.update(dtrain, iteration=i, fobj=obj)\n"
     ]
    },
    {
     "name": "stdout",
     "output_type": "stream",
     "text": [
      "[10]\teval-mlogloss:1.03100\n",
      "[19]\teval-mlogloss:0.80002\n",
      "20 {'n_estimators': 20, 'learning_rate': 0.1, 'max_depth': 5, 'random_state': 1337, 'dtrain': <xgboost.core.DMatrix object at 0x0000000010B3E0F0>, 'dtest': <xgboost.core.DMatrix object at 0x0000000010B3E990>}\n",
      "[0]\teval-mlogloss:1.75980\n"
     ]
    },
    {
     "name": "stderr",
     "output_type": "stream",
     "text": [
      "S:\\anaconda\\envs\\study\\Lib\\site-packages\\xgboost\\training.py:183: UserWarning: [17:28:52] WARNING: C:\\b\\abs_d97hy_84m6\\croot\\xgboost-split_1749630932152\\work\\src\\learner.cc:738: \n",
      "Parameters: { \"early_stopping_rounds\" } are not used.\n",
      "\n",
      "  bst.update(dtrain, iteration=i, fobj=obj)\n"
     ]
    },
    {
     "name": "stdout",
     "output_type": "stream",
     "text": [
      "[10]\teval-mlogloss:0.99882\n",
      "[19]\teval-mlogloss:0.76089\n",
      "21 {'n_estimators': 20, 'learning_rate': 0.2, 'max_depth': 3, 'random_state': 1337, 'dtrain': <xgboost.core.DMatrix object at 0x0000000010B3E0F0>, 'dtest': <xgboost.core.DMatrix object at 0x0000000010B3E990>}\n",
      "[0]\teval-mlogloss:1.61634\n"
     ]
    },
    {
     "name": "stderr",
     "output_type": "stream",
     "text": [
      "S:\\anaconda\\envs\\study\\Lib\\site-packages\\xgboost\\training.py:183: UserWarning: [17:28:53] WARNING: C:\\b\\abs_d97hy_84m6\\croot\\xgboost-split_1749630932152\\work\\src\\learner.cc:738: \n",
      "Parameters: { \"early_stopping_rounds\" } are not used.\n",
      "\n",
      "  bst.update(dtrain, iteration=i, fobj=obj)\n"
     ]
    },
    {
     "name": "stdout",
     "output_type": "stream",
     "text": [
      "[10]\teval-mlogloss:0.79919\n",
      "[19]\teval-mlogloss:0.66257\n",
      "22 {'n_estimators': 20, 'learning_rate': 0.2, 'max_depth': 4, 'random_state': 1337, 'dtrain': <xgboost.core.DMatrix object at 0x0000000010B3E0F0>, 'dtest': <xgboost.core.DMatrix object at 0x0000000010B3E990>}\n",
      "[0]\teval-mlogloss:1.60303\n"
     ]
    },
    {
     "name": "stderr",
     "output_type": "stream",
     "text": [
      "S:\\anaconda\\envs\\study\\Lib\\site-packages\\xgboost\\training.py:183: UserWarning: [17:28:54] WARNING: C:\\b\\abs_d97hy_84m6\\croot\\xgboost-split_1749630932152\\work\\src\\learner.cc:738: \n",
      "Parameters: { \"early_stopping_rounds\" } are not used.\n",
      "\n",
      "  bst.update(dtrain, iteration=i, fobj=obj)\n"
     ]
    },
    {
     "name": "stdout",
     "output_type": "stream",
     "text": [
      "[10]\teval-mlogloss:0.76264\n",
      "[19]\teval-mlogloss:0.62064\n",
      "23 {'n_estimators': 20, 'learning_rate': 0.2, 'max_depth': 5, 'random_state': 1337, 'dtrain': <xgboost.core.DMatrix object at 0x0000000010B3E0F0>, 'dtest': <xgboost.core.DMatrix object at 0x0000000010B3E990>}\n",
      "[0]\teval-mlogloss:1.58677\n"
     ]
    },
    {
     "name": "stderr",
     "output_type": "stream",
     "text": [
      "S:\\anaconda\\envs\\study\\Lib\\site-packages\\xgboost\\training.py:183: UserWarning: [17:28:55] WARNING: C:\\b\\abs_d97hy_84m6\\croot\\xgboost-split_1749630932152\\work\\src\\learner.cc:738: \n",
      "Parameters: { \"early_stopping_rounds\" } are not used.\n",
      "\n",
      "  bst.update(dtrain, iteration=i, fobj=obj)\n"
     ]
    },
    {
     "name": "stdout",
     "output_type": "stream",
     "text": [
      "[10]\teval-mlogloss:0.72184\n",
      "[19]\teval-mlogloss:0.57543\n",
      "24 {'n_estimators': 20, 'learning_rate': 0.05, 'max_depth': 3, 'random_state': 1337, 'dtrain': <xgboost.core.DMatrix object at 0x0000000010B3E0F0>, 'dtest': <xgboost.core.DMatrix object at 0x0000000010B3E990>}\n",
      "[0]\teval-mlogloss:1.85920\n"
     ]
    },
    {
     "name": "stderr",
     "output_type": "stream",
     "text": [
      "S:\\anaconda\\envs\\study\\Lib\\site-packages\\xgboost\\training.py:183: UserWarning: [17:28:56] WARNING: C:\\b\\abs_d97hy_84m6\\croot\\xgboost-split_1749630932152\\work\\src\\learner.cc:738: \n",
      "Parameters: { \"early_stopping_rounds\" } are not used.\n",
      "\n",
      "  bst.update(dtrain, iteration=i, fobj=obj)\n"
     ]
    },
    {
     "name": "stdout",
     "output_type": "stream",
     "text": [
      "[10]\teval-mlogloss:1.35215\n",
      "[19]\teval-mlogloss:1.10762\n",
      "25 {'n_estimators': 20, 'learning_rate': 0.05, 'max_depth': 4, 'random_state': 1337, 'dtrain': <xgboost.core.DMatrix object at 0x0000000010B3E0F0>, 'dtest': <xgboost.core.DMatrix object at 0x0000000010B3E990>}\n",
      "[0]\teval-mlogloss:1.85567\n"
     ]
    },
    {
     "name": "stderr",
     "output_type": "stream",
     "text": [
      "S:\\anaconda\\envs\\study\\Lib\\site-packages\\sklearn\\metrics\\_classification.py:1565: UndefinedMetricWarning: Precision is ill-defined and being set to 0.0 in labels with no predicted samples. Use `zero_division` parameter to control this behavior.\n",
      "  _warn_prf(average, modifier, f\"{metric.capitalize()} is\", len(result))\n",
      "S:\\anaconda\\envs\\study\\Lib\\site-packages\\sklearn\\metrics\\_classification.py:1565: UndefinedMetricWarning: Precision is ill-defined and being set to 0.0 in labels with no predicted samples. Use `zero_division` parameter to control this behavior.\n",
      "  _warn_prf(average, modifier, f\"{metric.capitalize()} is\", len(result))\n",
      "S:\\anaconda\\envs\\study\\Lib\\site-packages\\sklearn\\metrics\\_classification.py:1565: UndefinedMetricWarning: Precision is ill-defined and being set to 0.0 in labels with no predicted samples. Use `zero_division` parameter to control this behavior.\n",
      "  _warn_prf(average, modifier, f\"{metric.capitalize()} is\", len(result))\n",
      "S:\\anaconda\\envs\\study\\Lib\\site-packages\\xgboost\\training.py:183: UserWarning: [17:28:57] WARNING: C:\\b\\abs_d97hy_84m6\\croot\\xgboost-split_1749630932152\\work\\src\\learner.cc:738: \n",
      "Parameters: { \"early_stopping_rounds\" } are not used.\n",
      "\n",
      "  bst.update(dtrain, iteration=i, fobj=obj)\n"
     ]
    },
    {
     "name": "stdout",
     "output_type": "stream",
     "text": [
      "[10]\teval-mlogloss:1.32717\n",
      "[19]\teval-mlogloss:1.07586\n",
      "26 {'n_estimators': 20, 'learning_rate': 0.05, 'max_depth': 5, 'random_state': 1337, 'dtrain': <xgboost.core.DMatrix object at 0x0000000010B3E0F0>, 'dtest': <xgboost.core.DMatrix object at 0x0000000010B3E990>}\n",
      "[0]\teval-mlogloss:1.85134\n"
     ]
    },
    {
     "name": "stderr",
     "output_type": "stream",
     "text": [
      "S:\\anaconda\\envs\\study\\Lib\\site-packages\\xgboost\\training.py:183: UserWarning: [17:28:58] WARNING: C:\\b\\abs_d97hy_84m6\\croot\\xgboost-split_1749630932152\\work\\src\\learner.cc:738: \n",
      "Parameters: { \"early_stopping_rounds\" } are not used.\n",
      "\n",
      "  bst.update(dtrain, iteration=i, fobj=obj)\n"
     ]
    },
    {
     "name": "stdout",
     "output_type": "stream",
     "text": [
      "[10]\teval-mlogloss:1.30544\n",
      "[19]\teval-mlogloss:1.04637\n",
      "27 {'n_estimators': 200, 'learning_rate': 0.1, 'max_depth': 3, 'random_state': 1337, 'dtrain': <xgboost.core.DMatrix object at 0x0000000010B3E0F0>, 'dtest': <xgboost.core.DMatrix object at 0x0000000010B3E990>}\n",
      "[0]\teval-mlogloss:1.77524\n"
     ]
    },
    {
     "name": "stderr",
     "output_type": "stream",
     "text": [
      "S:\\anaconda\\envs\\study\\Lib\\site-packages\\xgboost\\training.py:183: UserWarning: [17:29:00] WARNING: C:\\b\\abs_d97hy_84m6\\croot\\xgboost-split_1749630932152\\work\\src\\learner.cc:738: \n",
      "Parameters: { \"early_stopping_rounds\" } are not used.\n",
      "\n",
      "  bst.update(dtrain, iteration=i, fobj=obj)\n"
     ]
    },
    {
     "name": "stdout",
     "output_type": "stream",
     "text": [
      "[10]\teval-mlogloss:1.06293\n",
      "[20]\teval-mlogloss:0.82146\n",
      "[30]\teval-mlogloss:0.71729\n",
      "[40]\teval-mlogloss:0.66275\n",
      "[50]\teval-mlogloss:0.62953\n",
      "[60]\teval-mlogloss:0.60713\n",
      "[70]\teval-mlogloss:0.59153\n",
      "[80]\teval-mlogloss:0.58041\n",
      "[90]\teval-mlogloss:0.57088\n",
      "[100]\teval-mlogloss:0.56257\n",
      "[110]\teval-mlogloss:0.55567\n",
      "[120]\teval-mlogloss:0.54881\n",
      "[130]\teval-mlogloss:0.54267\n",
      "[140]\teval-mlogloss:0.53720\n",
      "[150]\teval-mlogloss:0.53202\n",
      "[160]\teval-mlogloss:0.52662\n",
      "[170]\teval-mlogloss:0.52188\n",
      "[180]\teval-mlogloss:0.51712\n",
      "[190]\teval-mlogloss:0.51277\n",
      "[199]\teval-mlogloss:0.50922\n",
      "28 {'n_estimators': 200, 'learning_rate': 0.1, 'max_depth': 4, 'random_state': 1337, 'dtrain': <xgboost.core.DMatrix object at 0x0000000010B3E0F0>, 'dtest': <xgboost.core.DMatrix object at 0x0000000010B3E990>}\n",
      "[0]\teval-mlogloss:1.76829\n"
     ]
    },
    {
     "name": "stderr",
     "output_type": "stream",
     "text": [
      "S:\\anaconda\\envs\\study\\Lib\\site-packages\\xgboost\\training.py:183: UserWarning: [17:29:10] WARNING: C:\\b\\abs_d97hy_84m6\\croot\\xgboost-split_1749630932152\\work\\src\\learner.cc:738: \n",
      "Parameters: { \"early_stopping_rounds\" } are not used.\n",
      "\n",
      "  bst.update(dtrain, iteration=i, fobj=obj)\n"
     ]
    },
    {
     "name": "stdout",
     "output_type": "stream",
     "text": [
      "[10]\teval-mlogloss:1.03100\n",
      "[20]\teval-mlogloss:0.78406\n",
      "[30]\teval-mlogloss:0.67656\n",
      "[40]\teval-mlogloss:0.62016\n",
      "[50]\teval-mlogloss:0.58509\n",
      "[60]\teval-mlogloss:0.56056\n",
      "[70]\teval-mlogloss:0.54407\n",
      "[80]\teval-mlogloss:0.53186\n",
      "[90]\teval-mlogloss:0.52186\n",
      "[100]\teval-mlogloss:0.51256\n",
      "[110]\teval-mlogloss:0.50419\n",
      "[120]\teval-mlogloss:0.49727\n",
      "[130]\teval-mlogloss:0.49125\n",
      "[140]\teval-mlogloss:0.48546\n",
      "[150]\teval-mlogloss:0.47981\n",
      "[160]\teval-mlogloss:0.47445\n",
      "[170]\teval-mlogloss:0.46941\n",
      "[180]\teval-mlogloss:0.46364\n",
      "[190]\teval-mlogloss:0.45847\n",
      "[199]\teval-mlogloss:0.45411\n",
      "29 {'n_estimators': 200, 'learning_rate': 0.1, 'max_depth': 5, 'random_state': 1337, 'dtrain': <xgboost.core.DMatrix object at 0x0000000010B3E0F0>, 'dtest': <xgboost.core.DMatrix object at 0x0000000010B3E990>}\n",
      "[0]\teval-mlogloss:1.75980\n"
     ]
    },
    {
     "name": "stderr",
     "output_type": "stream",
     "text": [
      "S:\\anaconda\\envs\\study\\Lib\\site-packages\\xgboost\\training.py:183: UserWarning: [17:29:20] WARNING: C:\\b\\abs_d97hy_84m6\\croot\\xgboost-split_1749630932152\\work\\src\\learner.cc:738: \n",
      "Parameters: { \"early_stopping_rounds\" } are not used.\n",
      "\n",
      "  bst.update(dtrain, iteration=i, fobj=obj)\n"
     ]
    },
    {
     "name": "stdout",
     "output_type": "stream",
     "text": [
      "[10]\teval-mlogloss:0.99882\n",
      "[20]\teval-mlogloss:0.74420\n",
      "[30]\teval-mlogloss:0.63412\n",
      "[40]\teval-mlogloss:0.57544\n",
      "[50]\teval-mlogloss:0.53842\n",
      "[60]\teval-mlogloss:0.51419\n",
      "[70]\teval-mlogloss:0.49804\n",
      "[80]\teval-mlogloss:0.48637\n",
      "[90]\teval-mlogloss:0.47460\n",
      "[100]\teval-mlogloss:0.46611\n",
      "[110]\teval-mlogloss:0.45719\n",
      "[120]\teval-mlogloss:0.45026\n",
      "[130]\teval-mlogloss:0.44320\n",
      "[140]\teval-mlogloss:0.43543\n",
      "[150]\teval-mlogloss:0.42869\n",
      "[160]\teval-mlogloss:0.42269\n",
      "[170]\teval-mlogloss:0.41699\n",
      "[180]\teval-mlogloss:0.41058\n",
      "[190]\teval-mlogloss:0.40504\n",
      "[199]\teval-mlogloss:0.40064\n",
      "30 {'n_estimators': 200, 'learning_rate': 0.2, 'max_depth': 3, 'random_state': 1337, 'dtrain': <xgboost.core.DMatrix object at 0x0000000010B3E0F0>, 'dtest': <xgboost.core.DMatrix object at 0x0000000010B3E990>}\n",
      "[0]\teval-mlogloss:1.61634\n"
     ]
    },
    {
     "name": "stderr",
     "output_type": "stream",
     "text": [
      "S:\\anaconda\\envs\\study\\Lib\\site-packages\\xgboost\\training.py:183: UserWarning: [17:29:31] WARNING: C:\\b\\abs_d97hy_84m6\\croot\\xgboost-split_1749630932152\\work\\src\\learner.cc:738: \n",
      "Parameters: { \"early_stopping_rounds\" } are not used.\n",
      "\n",
      "  bst.update(dtrain, iteration=i, fobj=obj)\n"
     ]
    },
    {
     "name": "stdout",
     "output_type": "stream",
     "text": [
      "[10]\teval-mlogloss:0.79919\n",
      "[20]\teval-mlogloss:0.65457\n",
      "[30]\teval-mlogloss:0.60361\n",
      "[40]\teval-mlogloss:0.57818\n",
      "[50]\teval-mlogloss:0.56055\n",
      "[60]\teval-mlogloss:0.54805\n",
      "[70]\teval-mlogloss:0.53634\n",
      "[80]\teval-mlogloss:0.52626\n",
      "[90]\teval-mlogloss:0.51745\n",
      "[100]\teval-mlogloss:0.50933\n",
      "[110]\teval-mlogloss:0.50050\n",
      "[120]\teval-mlogloss:0.49452\n",
      "[130]\teval-mlogloss:0.48870\n",
      "[140]\teval-mlogloss:0.48372\n",
      "[150]\teval-mlogloss:0.47850\n",
      "[160]\teval-mlogloss:0.47308\n",
      "[170]\teval-mlogloss:0.46851\n",
      "[180]\teval-mlogloss:0.46397\n",
      "[190]\teval-mlogloss:0.46009\n",
      "[199]\teval-mlogloss:0.45634\n",
      "31 {'n_estimators': 200, 'learning_rate': 0.2, 'max_depth': 4, 'random_state': 1337, 'dtrain': <xgboost.core.DMatrix object at 0x0000000010B3E0F0>, 'dtest': <xgboost.core.DMatrix object at 0x0000000010B3E990>}\n",
      "[0]\teval-mlogloss:1.60303\n"
     ]
    },
    {
     "name": "stderr",
     "output_type": "stream",
     "text": [
      "S:\\anaconda\\envs\\study\\Lib\\site-packages\\xgboost\\training.py:183: UserWarning: [17:29:41] WARNING: C:\\b\\abs_d97hy_84m6\\croot\\xgboost-split_1749630932152\\work\\src\\learner.cc:738: \n",
      "Parameters: { \"early_stopping_rounds\" } are not used.\n",
      "\n",
      "  bst.update(dtrain, iteration=i, fobj=obj)\n"
     ]
    },
    {
     "name": "stdout",
     "output_type": "stream",
     "text": [
      "[10]\teval-mlogloss:0.76264\n",
      "[20]\teval-mlogloss:0.61148\n",
      "[30]\teval-mlogloss:0.55663\n",
      "[40]\teval-mlogloss:0.52961\n",
      "[50]\teval-mlogloss:0.51092\n",
      "[60]\teval-mlogloss:0.49741\n",
      "[70]\teval-mlogloss:0.48445\n",
      "[80]\teval-mlogloss:0.47290\n",
      "[90]\teval-mlogloss:0.46353\n",
      "[100]\teval-mlogloss:0.45392\n",
      "[110]\teval-mlogloss:0.44399\n",
      "[120]\teval-mlogloss:0.43667\n",
      "[130]\teval-mlogloss:0.42911\n",
      "[140]\teval-mlogloss:0.42313\n",
      "[150]\teval-mlogloss:0.41782\n",
      "[160]\teval-mlogloss:0.41237\n",
      "[170]\teval-mlogloss:0.40653\n",
      "[180]\teval-mlogloss:0.40017\n",
      "[190]\teval-mlogloss:0.39518\n",
      "[199]\teval-mlogloss:0.39054\n",
      "32 {'n_estimators': 200, 'learning_rate': 0.2, 'max_depth': 5, 'random_state': 1337, 'dtrain': <xgboost.core.DMatrix object at 0x0000000010B3E0F0>, 'dtest': <xgboost.core.DMatrix object at 0x0000000010B3E990>}\n",
      "[0]\teval-mlogloss:1.58677\n"
     ]
    },
    {
     "name": "stderr",
     "output_type": "stream",
     "text": [
      "S:\\anaconda\\envs\\study\\Lib\\site-packages\\xgboost\\training.py:183: UserWarning: [17:29:51] WARNING: C:\\b\\abs_d97hy_84m6\\croot\\xgboost-split_1749630932152\\work\\src\\learner.cc:738: \n",
      "Parameters: { \"early_stopping_rounds\" } are not used.\n",
      "\n",
      "  bst.update(dtrain, iteration=i, fobj=obj)\n"
     ]
    },
    {
     "name": "stdout",
     "output_type": "stream",
     "text": [
      "[10]\teval-mlogloss:0.72184\n",
      "[20]\teval-mlogloss:0.56592\n",
      "[30]\teval-mlogloss:0.50869\n",
      "[40]\teval-mlogloss:0.48166\n",
      "[50]\teval-mlogloss:0.46247\n",
      "[60]\teval-mlogloss:0.44640\n",
      "[70]\teval-mlogloss:0.43309\n",
      "[80]\teval-mlogloss:0.42251\n",
      "[90]\teval-mlogloss:0.40880\n",
      "[100]\teval-mlogloss:0.39789\n",
      "[110]\teval-mlogloss:0.39002\n",
      "[120]\teval-mlogloss:0.38189\n",
      "[130]\teval-mlogloss:0.37277\n",
      "[140]\teval-mlogloss:0.36580\n",
      "[150]\teval-mlogloss:0.35753\n",
      "[160]\teval-mlogloss:0.35012\n",
      "[170]\teval-mlogloss:0.34321\n",
      "[180]\teval-mlogloss:0.33735\n",
      "[190]\teval-mlogloss:0.33025\n",
      "[199]\teval-mlogloss:0.32487\n",
      "33 {'n_estimators': 200, 'learning_rate': 0.05, 'max_depth': 3, 'random_state': 1337, 'dtrain': <xgboost.core.DMatrix object at 0x0000000010B3E0F0>, 'dtest': <xgboost.core.DMatrix object at 0x0000000010B3E990>}\n",
      "[0]\teval-mlogloss:1.85920\n"
     ]
    },
    {
     "name": "stderr",
     "output_type": "stream",
     "text": [
      "S:\\anaconda\\envs\\study\\Lib\\site-packages\\xgboost\\training.py:183: UserWarning: [17:30:02] WARNING: C:\\b\\abs_d97hy_84m6\\croot\\xgboost-split_1749630932152\\work\\src\\learner.cc:738: \n",
      "Parameters: { \"early_stopping_rounds\" } are not used.\n",
      "\n",
      "  bst.update(dtrain, iteration=i, fobj=obj)\n"
     ]
    },
    {
     "name": "stdout",
     "output_type": "stream",
     "text": [
      "[10]\teval-mlogloss:1.35215\n",
      "[20]\teval-mlogloss:1.08748\n",
      "[30]\teval-mlogloss:0.93565\n",
      "[40]\teval-mlogloss:0.83809\n",
      "[50]\teval-mlogloss:0.77280\n",
      "[60]\teval-mlogloss:0.72678\n",
      "[70]\teval-mlogloss:0.69291\n",
      "[80]\teval-mlogloss:0.66770\n",
      "[90]\teval-mlogloss:0.64834\n",
      "[100]\teval-mlogloss:0.63269\n",
      "[110]\teval-mlogloss:0.61977\n",
      "[120]\teval-mlogloss:0.60893\n",
      "[130]\teval-mlogloss:0.60027\n",
      "[140]\teval-mlogloss:0.59328\n",
      "[150]\teval-mlogloss:0.58694\n",
      "[160]\teval-mlogloss:0.58105\n",
      "[170]\teval-mlogloss:0.57597\n",
      "[180]\teval-mlogloss:0.57135\n",
      "[190]\teval-mlogloss:0.56710\n",
      "[199]\teval-mlogloss:0.56384\n",
      "34 {'n_estimators': 200, 'learning_rate': 0.05, 'max_depth': 4, 'random_state': 1337, 'dtrain': <xgboost.core.DMatrix object at 0x0000000010B3E0F0>, 'dtest': <xgboost.core.DMatrix object at 0x0000000010B3E990>}\n",
      "[0]\teval-mlogloss:1.85567\n"
     ]
    },
    {
     "name": "stderr",
     "output_type": "stream",
     "text": [
      "S:\\anaconda\\envs\\study\\Lib\\site-packages\\xgboost\\training.py:183: UserWarning: [17:30:13] WARNING: C:\\b\\abs_d97hy_84m6\\croot\\xgboost-split_1749630932152\\work\\src\\learner.cc:738: \n",
      "Parameters: { \"early_stopping_rounds\" } are not used.\n",
      "\n",
      "  bst.update(dtrain, iteration=i, fobj=obj)\n"
     ]
    },
    {
     "name": "stdout",
     "output_type": "stream",
     "text": [
      "[10]\teval-mlogloss:1.32717\n",
      "[20]\teval-mlogloss:1.05499\n",
      "[30]\teval-mlogloss:0.89946\n",
      "[40]\teval-mlogloss:0.79874\n",
      "[50]\teval-mlogloss:0.73155\n",
      "[60]\teval-mlogloss:0.68473\n",
      "[70]\teval-mlogloss:0.64986\n",
      "[80]\teval-mlogloss:0.62377\n",
      "[90]\teval-mlogloss:0.60308\n",
      "[100]\teval-mlogloss:0.58660\n",
      "[110]\teval-mlogloss:0.57265\n",
      "[120]\teval-mlogloss:0.56168\n",
      "[130]\teval-mlogloss:0.55243\n",
      "[140]\teval-mlogloss:0.54523\n",
      "[150]\teval-mlogloss:0.53854\n",
      "[160]\teval-mlogloss:0.53253\n",
      "[170]\teval-mlogloss:0.52702\n",
      "[180]\teval-mlogloss:0.52199\n",
      "[190]\teval-mlogloss:0.51776\n",
      "[199]\teval-mlogloss:0.51421\n",
      "35 {'n_estimators': 200, 'learning_rate': 0.05, 'max_depth': 5, 'random_state': 1337, 'dtrain': <xgboost.core.DMatrix object at 0x0000000010B3E0F0>, 'dtest': <xgboost.core.DMatrix object at 0x0000000010B3E990>}\n",
      "[0]\teval-mlogloss:1.85134\n"
     ]
    },
    {
     "name": "stderr",
     "output_type": "stream",
     "text": [
      "S:\\anaconda\\envs\\study\\Lib\\site-packages\\xgboost\\training.py:183: UserWarning: [17:30:24] WARNING: C:\\b\\abs_d97hy_84m6\\croot\\xgboost-split_1749630932152\\work\\src\\learner.cc:738: \n",
      "Parameters: { \"early_stopping_rounds\" } are not used.\n",
      "\n",
      "  bst.update(dtrain, iteration=i, fobj=obj)\n"
     ]
    },
    {
     "name": "stdout",
     "output_type": "stream",
     "text": [
      "[10]\teval-mlogloss:1.30544\n",
      "[20]\teval-mlogloss:1.02491\n",
      "[30]\teval-mlogloss:0.86480\n",
      "[40]\teval-mlogloss:0.76117\n",
      "[50]\teval-mlogloss:0.69076\n",
      "[60]\teval-mlogloss:0.64164\n",
      "[70]\teval-mlogloss:0.60638\n",
      "[80]\teval-mlogloss:0.58022\n",
      "[90]\teval-mlogloss:0.55818\n",
      "[100]\teval-mlogloss:0.54147\n",
      "[110]\teval-mlogloss:0.52748\n",
      "[120]\teval-mlogloss:0.51609\n",
      "[130]\teval-mlogloss:0.50598\n",
      "[140]\teval-mlogloss:0.49813\n",
      "[150]\teval-mlogloss:0.49143\n",
      "[160]\teval-mlogloss:0.48537\n",
      "[170]\teval-mlogloss:0.47951\n",
      "[180]\teval-mlogloss:0.47379\n",
      "[190]\teval-mlogloss:0.46925\n",
      "[199]\teval-mlogloss:0.46585\n"
     ]
    },
    {
     "name": "stderr",
     "output_type": "stream",
     "text": [
      "C:\\Users\\nikol\\AppData\\Local\\Temp\\ipykernel_14832\\3180493565.py:13: FutureWarning: Calling int on a single element Series is deprecated and will raise a TypeError in the future. Use int(ser.iloc[0]) instead\n",
      "  num_classes = int(d[d.target_features].nunique()) # ИСПРАВЛЕНИЕ: Количество уникальных классов\n"
     ]
    },
    {
     "name": "stdout",
     "output_type": "stream",
     "text": [
      "36\n",
      "0 {'n_estimators': 100, 'learning_rate': 0.1, 'max_depth': 3, 'random_state': 1337, 'dtrain': <xgboost.core.DMatrix object at 0x0000000024647D10>, 'dtest': <xgboost.core.DMatrix object at 0x000000002460B950>}\n",
      "[0]\teval-mlogloss:1.81101\n"
     ]
    },
    {
     "name": "stderr",
     "output_type": "stream",
     "text": [
      "S:\\anaconda\\envs\\study\\Lib\\site-packages\\xgboost\\training.py:183: UserWarning: [17:30:36] WARNING: C:\\b\\abs_d97hy_84m6\\croot\\xgboost-split_1749630932152\\work\\src\\learner.cc:738: \n",
      "Parameters: { \"early_stopping_rounds\" } are not used.\n",
      "\n",
      "  bst.update(dtrain, iteration=i, fobj=obj)\n"
     ]
    },
    {
     "name": "stdout",
     "output_type": "stream",
     "text": [
      "[10]\teval-mlogloss:1.06572\n",
      "[20]\teval-mlogloss:0.82656\n",
      "[30]\teval-mlogloss:0.72099\n",
      "[40]\teval-mlogloss:0.66521\n",
      "[50]\teval-mlogloss:0.63158\n",
      "[60]\teval-mlogloss:0.60926\n",
      "[70]\teval-mlogloss:0.59330\n",
      "[80]\teval-mlogloss:0.58248\n",
      "[90]\teval-mlogloss:0.57278\n",
      "[99]\teval-mlogloss:0.56556\n",
      "1 {'n_estimators': 100, 'learning_rate': 0.1, 'max_depth': 4, 'random_state': 1337, 'dtrain': <xgboost.core.DMatrix object at 0x0000000024647D10>, 'dtest': <xgboost.core.DMatrix object at 0x000000002460B950>}\n",
      "[0]\teval-mlogloss:1.80427\n"
     ]
    },
    {
     "name": "stderr",
     "output_type": "stream",
     "text": [
      "S:\\anaconda\\envs\\study\\Lib\\site-packages\\xgboost\\training.py:183: UserWarning: [17:30:40] WARNING: C:\\b\\abs_d97hy_84m6\\croot\\xgboost-split_1749630932152\\work\\src\\learner.cc:738: \n",
      "Parameters: { \"early_stopping_rounds\" } are not used.\n",
      "\n",
      "  bst.update(dtrain, iteration=i, fobj=obj)\n"
     ]
    },
    {
     "name": "stdout",
     "output_type": "stream",
     "text": [
      "[10]\teval-mlogloss:1.03289\n",
      "[20]\teval-mlogloss:0.78730\n",
      "[30]\teval-mlogloss:0.67733\n",
      "[40]\teval-mlogloss:0.62024\n",
      "[50]\teval-mlogloss:0.58596\n",
      "[60]\teval-mlogloss:0.56325\n",
      "[70]\teval-mlogloss:0.54701\n",
      "[80]\teval-mlogloss:0.53537\n",
      "[90]\teval-mlogloss:0.52548\n",
      "[99]\teval-mlogloss:0.51797\n",
      "2 {'n_estimators': 100, 'learning_rate': 0.1, 'max_depth': 5, 'random_state': 1337, 'dtrain': <xgboost.core.DMatrix object at 0x0000000024647D10>, 'dtest': <xgboost.core.DMatrix object at 0x000000002460B950>}\n",
      "[0]\teval-mlogloss:1.79827\n"
     ]
    },
    {
     "name": "stderr",
     "output_type": "stream",
     "text": [
      "S:\\anaconda\\envs\\study\\Lib\\site-packages\\xgboost\\training.py:183: UserWarning: [17:30:46] WARNING: C:\\b\\abs_d97hy_84m6\\croot\\xgboost-split_1749630932152\\work\\src\\learner.cc:738: \n",
      "Parameters: { \"early_stopping_rounds\" } are not used.\n",
      "\n",
      "  bst.update(dtrain, iteration=i, fobj=obj)\n"
     ]
    },
    {
     "name": "stdout",
     "output_type": "stream",
     "text": [
      "[10]\teval-mlogloss:1.00275\n",
      "[20]\teval-mlogloss:0.74953\n",
      "[30]\teval-mlogloss:0.63776\n",
      "[40]\teval-mlogloss:0.57792\n",
      "[50]\teval-mlogloss:0.54199\n",
      "[60]\teval-mlogloss:0.51902\n",
      "[70]\teval-mlogloss:0.50202\n",
      "[80]\teval-mlogloss:0.49023\n",
      "[90]\teval-mlogloss:0.47899\n",
      "[99]\teval-mlogloss:0.47115\n",
      "3 {'n_estimators': 100, 'learning_rate': 0.2, 'max_depth': 3, 'random_state': 1337, 'dtrain': <xgboost.core.DMatrix object at 0x0000000024647D10>, 'dtest': <xgboost.core.DMatrix object at 0x000000002460B950>}\n",
      "[0]\teval-mlogloss:1.68479\n"
     ]
    },
    {
     "name": "stderr",
     "output_type": "stream",
     "text": [
      "S:\\anaconda\\envs\\study\\Lib\\site-packages\\xgboost\\training.py:183: UserWarning: [17:30:51] WARNING: C:\\b\\abs_d97hy_84m6\\croot\\xgboost-split_1749630932152\\work\\src\\learner.cc:738: \n",
      "Parameters: { \"early_stopping_rounds\" } are not used.\n",
      "\n",
      "  bst.update(dtrain, iteration=i, fobj=obj)\n"
     ]
    },
    {
     "name": "stdout",
     "output_type": "stream",
     "text": [
      "[10]\teval-mlogloss:0.80451\n",
      "[20]\teval-mlogloss:0.65936\n",
      "[30]\teval-mlogloss:0.60744\n",
      "[40]\teval-mlogloss:0.58049\n",
      "[50]\teval-mlogloss:0.56400\n",
      "[60]\teval-mlogloss:0.55017\n",
      "[70]\teval-mlogloss:0.53857\n",
      "[80]\teval-mlogloss:0.52921\n",
      "[90]\teval-mlogloss:0.52003\n",
      "[99]\teval-mlogloss:0.51359\n",
      "4 {'n_estimators': 100, 'learning_rate': 0.2, 'max_depth': 4, 'random_state': 1337, 'dtrain': <xgboost.core.DMatrix object at 0x0000000024647D10>, 'dtest': <xgboost.core.DMatrix object at 0x000000002460B950>}\n",
      "[0]\teval-mlogloss:1.67185\n"
     ]
    },
    {
     "name": "stderr",
     "output_type": "stream",
     "text": [
      "S:\\anaconda\\envs\\study\\Lib\\site-packages\\xgboost\\training.py:183: UserWarning: [17:30:56] WARNING: C:\\b\\abs_d97hy_84m6\\croot\\xgboost-split_1749630932152\\work\\src\\learner.cc:738: \n",
      "Parameters: { \"early_stopping_rounds\" } are not used.\n",
      "\n",
      "  bst.update(dtrain, iteration=i, fobj=obj)\n"
     ]
    },
    {
     "name": "stdout",
     "output_type": "stream",
     "text": [
      "[10]\teval-mlogloss:0.76471\n",
      "[20]\teval-mlogloss:0.61460\n",
      "[30]\teval-mlogloss:0.55987\n",
      "[40]\teval-mlogloss:0.53175\n",
      "[50]\teval-mlogloss:0.51435\n",
      "[60]\teval-mlogloss:0.50111\n",
      "[70]\teval-mlogloss:0.48902\n",
      "[80]\teval-mlogloss:0.47746\n",
      "[90]\teval-mlogloss:0.46625\n",
      "[99]\teval-mlogloss:0.45781\n",
      "5 {'n_estimators': 100, 'learning_rate': 0.2, 'max_depth': 5, 'random_state': 1337, 'dtrain': <xgboost.core.DMatrix object at 0x0000000024647D10>, 'dtest': <xgboost.core.DMatrix object at 0x000000002460B950>}\n",
      "[0]\teval-mlogloss:1.66031\n"
     ]
    },
    {
     "name": "stderr",
     "output_type": "stream",
     "text": [
      "S:\\anaconda\\envs\\study\\Lib\\site-packages\\xgboost\\training.py:183: UserWarning: [17:31:01] WARNING: C:\\b\\abs_d97hy_84m6\\croot\\xgboost-split_1749630932152\\work\\src\\learner.cc:738: \n",
      "Parameters: { \"early_stopping_rounds\" } are not used.\n",
      "\n",
      "  bst.update(dtrain, iteration=i, fobj=obj)\n"
     ]
    },
    {
     "name": "stdout",
     "output_type": "stream",
     "text": [
      "[10]\teval-mlogloss:0.72491\n",
      "[20]\teval-mlogloss:0.56944\n",
      "[30]\teval-mlogloss:0.51414\n",
      "[40]\teval-mlogloss:0.48702\n",
      "[50]\teval-mlogloss:0.46740\n",
      "[60]\teval-mlogloss:0.45286\n",
      "[70]\teval-mlogloss:0.43882\n",
      "[80]\teval-mlogloss:0.42582\n",
      "[90]\teval-mlogloss:0.41314\n",
      "[99]\teval-mlogloss:0.40385\n",
      "6 {'n_estimators': 100, 'learning_rate': 0.05, 'max_depth': 3, 'random_state': 1337, 'dtrain': <xgboost.core.DMatrix object at 0x0000000024647D10>, 'dtest': <xgboost.core.DMatrix object at 0x000000002460B950>}\n",
      "[0]\teval-mlogloss:1.87742\n"
     ]
    },
    {
     "name": "stderr",
     "output_type": "stream",
     "text": [
      "S:\\anaconda\\envs\\study\\Lib\\site-packages\\xgboost\\training.py:183: UserWarning: [17:31:06] WARNING: C:\\b\\abs_d97hy_84m6\\croot\\xgboost-split_1749630932152\\work\\src\\learner.cc:738: \n",
      "Parameters: { \"early_stopping_rounds\" } are not used.\n",
      "\n",
      "  bst.update(dtrain, iteration=i, fobj=obj)\n"
     ]
    },
    {
     "name": "stdout",
     "output_type": "stream",
     "text": [
      "[10]\teval-mlogloss:1.35239\n",
      "[20]\teval-mlogloss:1.09128\n",
      "[30]\teval-mlogloss:0.93667\n",
      "[40]\teval-mlogloss:0.83740\n",
      "[50]\teval-mlogloss:0.77198\n",
      "[60]\teval-mlogloss:0.72721\n",
      "[70]\teval-mlogloss:0.69385\n",
      "[80]\teval-mlogloss:0.66887\n",
      "[90]\teval-mlogloss:0.64930\n",
      "[99]\teval-mlogloss:0.63539\n",
      "7 {'n_estimators': 100, 'learning_rate': 0.05, 'max_depth': 4, 'random_state': 1337, 'dtrain': <xgboost.core.DMatrix object at 0x0000000024647D10>, 'dtest': <xgboost.core.DMatrix object at 0x000000002460B950>}\n",
      "[0]\teval-mlogloss:1.87399\n"
     ]
    },
    {
     "name": "stderr",
     "output_type": "stream",
     "text": [
      "S:\\anaconda\\envs\\study\\Lib\\site-packages\\sklearn\\metrics\\_classification.py:1565: UndefinedMetricWarning: Precision is ill-defined and being set to 0.0 in labels with no predicted samples. Use `zero_division` parameter to control this behavior.\n",
      "  _warn_prf(average, modifier, f\"{metric.capitalize()} is\", len(result))\n",
      "S:\\anaconda\\envs\\study\\Lib\\site-packages\\sklearn\\metrics\\_classification.py:1565: UndefinedMetricWarning: Precision is ill-defined and being set to 0.0 in labels with no predicted samples. Use `zero_division` parameter to control this behavior.\n",
      "  _warn_prf(average, modifier, f\"{metric.capitalize()} is\", len(result))\n",
      "S:\\anaconda\\envs\\study\\Lib\\site-packages\\sklearn\\metrics\\_classification.py:1565: UndefinedMetricWarning: Precision is ill-defined and being set to 0.0 in labels with no predicted samples. Use `zero_division` parameter to control this behavior.\n",
      "  _warn_prf(average, modifier, f\"{metric.capitalize()} is\", len(result))\n",
      "S:\\anaconda\\envs\\study\\Lib\\site-packages\\xgboost\\training.py:183: UserWarning: [17:31:11] WARNING: C:\\b\\abs_d97hy_84m6\\croot\\xgboost-split_1749630932152\\work\\src\\learner.cc:738: \n",
      "Parameters: { \"early_stopping_rounds\" } are not used.\n",
      "\n",
      "  bst.update(dtrain, iteration=i, fobj=obj)\n"
     ]
    },
    {
     "name": "stdout",
     "output_type": "stream",
     "text": [
      "[10]\teval-mlogloss:1.32926\n",
      "[20]\teval-mlogloss:1.06032\n",
      "[30]\teval-mlogloss:0.90039\n",
      "[40]\teval-mlogloss:0.79831\n",
      "[50]\teval-mlogloss:0.73129\n",
      "[60]\teval-mlogloss:0.68504\n",
      "[70]\teval-mlogloss:0.65023\n",
      "[80]\teval-mlogloss:0.62461\n",
      "[90]\teval-mlogloss:0.60440\n",
      "[99]\teval-mlogloss:0.58959\n",
      "8 {'n_estimators': 100, 'learning_rate': 0.05, 'max_depth': 5, 'random_state': 1337, 'dtrain': <xgboost.core.DMatrix object at 0x0000000024647D10>, 'dtest': <xgboost.core.DMatrix object at 0x000000002460B950>}\n",
      "[0]\teval-mlogloss:1.87095\n"
     ]
    },
    {
     "name": "stderr",
     "output_type": "stream",
     "text": [
      "S:\\anaconda\\envs\\study\\Lib\\site-packages\\xgboost\\training.py:183: UserWarning: [17:31:16] WARNING: C:\\b\\abs_d97hy_84m6\\croot\\xgboost-split_1749630932152\\work\\src\\learner.cc:738: \n",
      "Parameters: { \"early_stopping_rounds\" } are not used.\n",
      "\n",
      "  bst.update(dtrain, iteration=i, fobj=obj)\n"
     ]
    },
    {
     "name": "stdout",
     "output_type": "stream",
     "text": [
      "[10]\teval-mlogloss:1.30829\n",
      "[20]\teval-mlogloss:1.03057\n",
      "[30]\teval-mlogloss:0.86590\n",
      "[40]\teval-mlogloss:0.76025\n",
      "[50]\teval-mlogloss:0.69106\n",
      "[60]\teval-mlogloss:0.64345\n",
      "[70]\teval-mlogloss:0.60814\n",
      "[80]\teval-mlogloss:0.58107\n",
      "[90]\teval-mlogloss:0.56047\n",
      "[99]\teval-mlogloss:0.54580\n",
      "9 {'n_estimators': 50, 'learning_rate': 0.1, 'max_depth': 3, 'random_state': 1337, 'dtrain': <xgboost.core.DMatrix object at 0x0000000024647D10>, 'dtest': <xgboost.core.DMatrix object at 0x000000002460B950>}\n",
      "[0]\teval-mlogloss:1.81101\n"
     ]
    },
    {
     "name": "stderr",
     "output_type": "stream",
     "text": [
      "S:\\anaconda\\envs\\study\\Lib\\site-packages\\xgboost\\training.py:183: UserWarning: [17:31:21] WARNING: C:\\b\\abs_d97hy_84m6\\croot\\xgboost-split_1749630932152\\work\\src\\learner.cc:738: \n",
      "Parameters: { \"early_stopping_rounds\" } are not used.\n",
      "\n",
      "  bst.update(dtrain, iteration=i, fobj=obj)\n"
     ]
    },
    {
     "name": "stdout",
     "output_type": "stream",
     "text": [
      "[10]\teval-mlogloss:1.06572\n",
      "[20]\teval-mlogloss:0.82656\n",
      "[30]\teval-mlogloss:0.72099\n",
      "[40]\teval-mlogloss:0.66521\n",
      "[49]\teval-mlogloss:0.63429\n",
      "10 {'n_estimators': 50, 'learning_rate': 0.1, 'max_depth': 4, 'random_state': 1337, 'dtrain': <xgboost.core.DMatrix object at 0x0000000024647D10>, 'dtest': <xgboost.core.DMatrix object at 0x000000002460B950>}\n",
      "[0]\teval-mlogloss:1.80427\n"
     ]
    },
    {
     "name": "stderr",
     "output_type": "stream",
     "text": [
      "S:\\anaconda\\envs\\study\\Lib\\site-packages\\xgboost\\training.py:183: UserWarning: [17:31:23] WARNING: C:\\b\\abs_d97hy_84m6\\croot\\xgboost-split_1749630932152\\work\\src\\learner.cc:738: \n",
      "Parameters: { \"early_stopping_rounds\" } are not used.\n",
      "\n",
      "  bst.update(dtrain, iteration=i, fobj=obj)\n"
     ]
    },
    {
     "name": "stdout",
     "output_type": "stream",
     "text": [
      "[10]\teval-mlogloss:1.03289\n",
      "[20]\teval-mlogloss:0.78730\n",
      "[30]\teval-mlogloss:0.67733\n",
      "[40]\teval-mlogloss:0.62024\n",
      "[49]\teval-mlogloss:0.58876\n",
      "11 {'n_estimators': 50, 'learning_rate': 0.1, 'max_depth': 5, 'random_state': 1337, 'dtrain': <xgboost.core.DMatrix object at 0x0000000024647D10>, 'dtest': <xgboost.core.DMatrix object at 0x000000002460B950>}\n",
      "[0]\teval-mlogloss:1.79827\n"
     ]
    },
    {
     "name": "stderr",
     "output_type": "stream",
     "text": [
      "S:\\anaconda\\envs\\study\\Lib\\site-packages\\xgboost\\training.py:183: UserWarning: [17:31:26] WARNING: C:\\b\\abs_d97hy_84m6\\croot\\xgboost-split_1749630932152\\work\\src\\learner.cc:738: \n",
      "Parameters: { \"early_stopping_rounds\" } are not used.\n",
      "\n",
      "  bst.update(dtrain, iteration=i, fobj=obj)\n"
     ]
    },
    {
     "name": "stdout",
     "output_type": "stream",
     "text": [
      "[10]\teval-mlogloss:1.00275\n",
      "[20]\teval-mlogloss:0.74953\n",
      "[30]\teval-mlogloss:0.63776\n",
      "[40]\teval-mlogloss:0.57792\n",
      "[49]\teval-mlogloss:0.54488\n",
      "12 {'n_estimators': 50, 'learning_rate': 0.2, 'max_depth': 3, 'random_state': 1337, 'dtrain': <xgboost.core.DMatrix object at 0x0000000024647D10>, 'dtest': <xgboost.core.DMatrix object at 0x000000002460B950>}\n",
      "[0]\teval-mlogloss:1.68479\n"
     ]
    },
    {
     "name": "stderr",
     "output_type": "stream",
     "text": [
      "S:\\anaconda\\envs\\study\\Lib\\site-packages\\xgboost\\training.py:183: UserWarning: [17:31:29] WARNING: C:\\b\\abs_d97hy_84m6\\croot\\xgboost-split_1749630932152\\work\\src\\learner.cc:738: \n",
      "Parameters: { \"early_stopping_rounds\" } are not used.\n",
      "\n",
      "  bst.update(dtrain, iteration=i, fobj=obj)\n"
     ]
    },
    {
     "name": "stdout",
     "output_type": "stream",
     "text": [
      "[10]\teval-mlogloss:0.80451\n",
      "[20]\teval-mlogloss:0.65936\n",
      "[30]\teval-mlogloss:0.60744\n",
      "[40]\teval-mlogloss:0.58049\n",
      "[49]\teval-mlogloss:0.56546\n",
      "13 {'n_estimators': 50, 'learning_rate': 0.2, 'max_depth': 4, 'random_state': 1337, 'dtrain': <xgboost.core.DMatrix object at 0x0000000024647D10>, 'dtest': <xgboost.core.DMatrix object at 0x000000002460B950>}\n",
      "[0]\teval-mlogloss:1.67185\n"
     ]
    },
    {
     "name": "stderr",
     "output_type": "stream",
     "text": [
      "S:\\anaconda\\envs\\study\\Lib\\site-packages\\xgboost\\training.py:183: UserWarning: [17:31:31] WARNING: C:\\b\\abs_d97hy_84m6\\croot\\xgboost-split_1749630932152\\work\\src\\learner.cc:738: \n",
      "Parameters: { \"early_stopping_rounds\" } are not used.\n",
      "\n",
      "  bst.update(dtrain, iteration=i, fobj=obj)\n"
     ]
    },
    {
     "name": "stdout",
     "output_type": "stream",
     "text": [
      "[10]\teval-mlogloss:0.76471\n",
      "[20]\teval-mlogloss:0.61460\n",
      "[30]\teval-mlogloss:0.55987\n",
      "[40]\teval-mlogloss:0.53175\n",
      "[49]\teval-mlogloss:0.51534\n",
      "14 {'n_estimators': 50, 'learning_rate': 0.2, 'max_depth': 5, 'random_state': 1337, 'dtrain': <xgboost.core.DMatrix object at 0x0000000024647D10>, 'dtest': <xgboost.core.DMatrix object at 0x000000002460B950>}\n",
      "[0]\teval-mlogloss:1.66031\n"
     ]
    },
    {
     "name": "stderr",
     "output_type": "stream",
     "text": [
      "S:\\anaconda\\envs\\study\\Lib\\site-packages\\xgboost\\training.py:183: UserWarning: [17:31:34] WARNING: C:\\b\\abs_d97hy_84m6\\croot\\xgboost-split_1749630932152\\work\\src\\learner.cc:738: \n",
      "Parameters: { \"early_stopping_rounds\" } are not used.\n",
      "\n",
      "  bst.update(dtrain, iteration=i, fobj=obj)\n"
     ]
    },
    {
     "name": "stdout",
     "output_type": "stream",
     "text": [
      "[10]\teval-mlogloss:0.72491\n",
      "[20]\teval-mlogloss:0.56944\n",
      "[30]\teval-mlogloss:0.51414\n",
      "[40]\teval-mlogloss:0.48702\n",
      "[49]\teval-mlogloss:0.46873\n",
      "15 {'n_estimators': 50, 'learning_rate': 0.05, 'max_depth': 3, 'random_state': 1337, 'dtrain': <xgboost.core.DMatrix object at 0x0000000024647D10>, 'dtest': <xgboost.core.DMatrix object at 0x000000002460B950>}\n",
      "[0]\teval-mlogloss:1.87742\n"
     ]
    },
    {
     "name": "stderr",
     "output_type": "stream",
     "text": [
      "S:\\anaconda\\envs\\study\\Lib\\site-packages\\xgboost\\training.py:183: UserWarning: [17:31:36] WARNING: C:\\b\\abs_d97hy_84m6\\croot\\xgboost-split_1749630932152\\work\\src\\learner.cc:738: \n",
      "Parameters: { \"early_stopping_rounds\" } are not used.\n",
      "\n",
      "  bst.update(dtrain, iteration=i, fobj=obj)\n"
     ]
    },
    {
     "name": "stdout",
     "output_type": "stream",
     "text": [
      "[10]\teval-mlogloss:1.35239\n",
      "[20]\teval-mlogloss:1.09128\n",
      "[30]\teval-mlogloss:0.93667\n",
      "[40]\teval-mlogloss:0.83740\n",
      "[49]\teval-mlogloss:0.77764\n",
      "16 {'n_estimators': 50, 'learning_rate': 0.05, 'max_depth': 4, 'random_state': 1337, 'dtrain': <xgboost.core.DMatrix object at 0x0000000024647D10>, 'dtest': <xgboost.core.DMatrix object at 0x000000002460B950>}\n",
      "[0]\teval-mlogloss:1.87399\n"
     ]
    },
    {
     "name": "stderr",
     "output_type": "stream",
     "text": [
      "S:\\anaconda\\envs\\study\\Lib\\site-packages\\sklearn\\metrics\\_classification.py:1565: UndefinedMetricWarning: Precision is ill-defined and being set to 0.0 in labels with no predicted samples. Use `zero_division` parameter to control this behavior.\n",
      "  _warn_prf(average, modifier, f\"{metric.capitalize()} is\", len(result))\n",
      "S:\\anaconda\\envs\\study\\Lib\\site-packages\\sklearn\\metrics\\_classification.py:1565: UndefinedMetricWarning: Precision is ill-defined and being set to 0.0 in labels with no predicted samples. Use `zero_division` parameter to control this behavior.\n",
      "  _warn_prf(average, modifier, f\"{metric.capitalize()} is\", len(result))\n",
      "S:\\anaconda\\envs\\study\\Lib\\site-packages\\sklearn\\metrics\\_classification.py:1565: UndefinedMetricWarning: Precision is ill-defined and being set to 0.0 in labels with no predicted samples. Use `zero_division` parameter to control this behavior.\n",
      "  _warn_prf(average, modifier, f\"{metric.capitalize()} is\", len(result))\n",
      "S:\\anaconda\\envs\\study\\Lib\\site-packages\\xgboost\\training.py:183: UserWarning: [17:31:39] WARNING: C:\\b\\abs_d97hy_84m6\\croot\\xgboost-split_1749630932152\\work\\src\\learner.cc:738: \n",
      "Parameters: { \"early_stopping_rounds\" } are not used.\n",
      "\n",
      "  bst.update(dtrain, iteration=i, fobj=obj)\n"
     ]
    },
    {
     "name": "stdout",
     "output_type": "stream",
     "text": [
      "[10]\teval-mlogloss:1.32926\n",
      "[20]\teval-mlogloss:1.06032\n",
      "[30]\teval-mlogloss:0.90039\n",
      "[40]\teval-mlogloss:0.79831\n",
      "[49]\teval-mlogloss:0.73700\n",
      "17 {'n_estimators': 50, 'learning_rate': 0.05, 'max_depth': 5, 'random_state': 1337, 'dtrain': <xgboost.core.DMatrix object at 0x0000000024647D10>, 'dtest': <xgboost.core.DMatrix object at 0x000000002460B950>}\n",
      "[0]\teval-mlogloss:1.87095\n"
     ]
    },
    {
     "name": "stderr",
     "output_type": "stream",
     "text": [
      "S:\\anaconda\\envs\\study\\Lib\\site-packages\\xgboost\\training.py:183: UserWarning: [17:31:41] WARNING: C:\\b\\abs_d97hy_84m6\\croot\\xgboost-split_1749630932152\\work\\src\\learner.cc:738: \n",
      "Parameters: { \"early_stopping_rounds\" } are not used.\n",
      "\n",
      "  bst.update(dtrain, iteration=i, fobj=obj)\n"
     ]
    },
    {
     "name": "stdout",
     "output_type": "stream",
     "text": [
      "[10]\teval-mlogloss:1.30829\n",
      "[20]\teval-mlogloss:1.03057\n",
      "[30]\teval-mlogloss:0.86590\n",
      "[40]\teval-mlogloss:0.76025\n",
      "[49]\teval-mlogloss:0.69687\n",
      "18 {'n_estimators': 20, 'learning_rate': 0.1, 'max_depth': 3, 'random_state': 1337, 'dtrain': <xgboost.core.DMatrix object at 0x0000000024647D10>, 'dtest': <xgboost.core.DMatrix object at 0x000000002460B950>}\n",
      "[0]\teval-mlogloss:1.81101\n"
     ]
    },
    {
     "name": "stderr",
     "output_type": "stream",
     "text": [
      "S:\\anaconda\\envs\\study\\Lib\\site-packages\\xgboost\\training.py:183: UserWarning: [17:31:44] WARNING: C:\\b\\abs_d97hy_84m6\\croot\\xgboost-split_1749630932152\\work\\src\\learner.cc:738: \n",
      "Parameters: { \"early_stopping_rounds\" } are not used.\n",
      "\n",
      "  bst.update(dtrain, iteration=i, fobj=obj)\n"
     ]
    },
    {
     "name": "stdout",
     "output_type": "stream",
     "text": [
      "[10]\teval-mlogloss:1.06572\n",
      "[19]\teval-mlogloss:0.84264\n",
      "19 {'n_estimators': 20, 'learning_rate': 0.1, 'max_depth': 4, 'random_state': 1337, 'dtrain': <xgboost.core.DMatrix object at 0x0000000024647D10>, 'dtest': <xgboost.core.DMatrix object at 0x000000002460B950>}\n",
      "[0]\teval-mlogloss:1.80427\n"
     ]
    },
    {
     "name": "stderr",
     "output_type": "stream",
     "text": [
      "S:\\anaconda\\envs\\study\\Lib\\site-packages\\sklearn\\metrics\\_classification.py:1565: UndefinedMetricWarning: Precision is ill-defined and being set to 0.0 in labels with no predicted samples. Use `zero_division` parameter to control this behavior.\n",
      "  _warn_prf(average, modifier, f\"{metric.capitalize()} is\", len(result))\n",
      "S:\\anaconda\\envs\\study\\Lib\\site-packages\\sklearn\\metrics\\_classification.py:1565: UndefinedMetricWarning: Precision is ill-defined and being set to 0.0 in labels with no predicted samples. Use `zero_division` parameter to control this behavior.\n",
      "  _warn_prf(average, modifier, f\"{metric.capitalize()} is\", len(result))\n",
      "S:\\anaconda\\envs\\study\\Lib\\site-packages\\sklearn\\metrics\\_classification.py:1565: UndefinedMetricWarning: Precision is ill-defined and being set to 0.0 in labels with no predicted samples. Use `zero_division` parameter to control this behavior.\n",
      "  _warn_prf(average, modifier, f\"{metric.capitalize()} is\", len(result))\n",
      "S:\\anaconda\\envs\\study\\Lib\\site-packages\\xgboost\\training.py:183: UserWarning: [17:31:44] WARNING: C:\\b\\abs_d97hy_84m6\\croot\\xgboost-split_1749630932152\\work\\src\\learner.cc:738: \n",
      "Parameters: { \"early_stopping_rounds\" } are not used.\n",
      "\n",
      "  bst.update(dtrain, iteration=i, fobj=obj)\n"
     ]
    },
    {
     "name": "stdout",
     "output_type": "stream",
     "text": [
      "[10]\teval-mlogloss:1.03289\n",
      "[19]\teval-mlogloss:0.80396\n",
      "20 {'n_estimators': 20, 'learning_rate': 0.1, 'max_depth': 5, 'random_state': 1337, 'dtrain': <xgboost.core.DMatrix object at 0x0000000024647D10>, 'dtest': <xgboost.core.DMatrix object at 0x000000002460B950>}\n",
      "[0]\teval-mlogloss:1.79827\n"
     ]
    },
    {
     "name": "stderr",
     "output_type": "stream",
     "text": [
      "S:\\anaconda\\envs\\study\\Lib\\site-packages\\xgboost\\training.py:183: UserWarning: [17:31:46] WARNING: C:\\b\\abs_d97hy_84m6\\croot\\xgboost-split_1749630932152\\work\\src\\learner.cc:738: \n",
      "Parameters: { \"early_stopping_rounds\" } are not used.\n",
      "\n",
      "  bst.update(dtrain, iteration=i, fobj=obj)\n"
     ]
    },
    {
     "name": "stdout",
     "output_type": "stream",
     "text": [
      "[10]\teval-mlogloss:1.00275\n",
      "[19]\teval-mlogloss:0.76679\n",
      "21 {'n_estimators': 20, 'learning_rate': 0.2, 'max_depth': 3, 'random_state': 1337, 'dtrain': <xgboost.core.DMatrix object at 0x0000000024647D10>, 'dtest': <xgboost.core.DMatrix object at 0x000000002460B950>}\n",
      "[0]\teval-mlogloss:1.68479\n"
     ]
    },
    {
     "name": "stderr",
     "output_type": "stream",
     "text": [
      "S:\\anaconda\\envs\\study\\Lib\\site-packages\\xgboost\\training.py:183: UserWarning: [17:31:47] WARNING: C:\\b\\abs_d97hy_84m6\\croot\\xgboost-split_1749630932152\\work\\src\\learner.cc:738: \n",
      "Parameters: { \"early_stopping_rounds\" } are not used.\n",
      "\n",
      "  bst.update(dtrain, iteration=i, fobj=obj)\n"
     ]
    },
    {
     "name": "stdout",
     "output_type": "stream",
     "text": [
      "[10]\teval-mlogloss:0.80451\n",
      "[19]\teval-mlogloss:0.66771\n",
      "22 {'n_estimators': 20, 'learning_rate': 0.2, 'max_depth': 4, 'random_state': 1337, 'dtrain': <xgboost.core.DMatrix object at 0x0000000024647D10>, 'dtest': <xgboost.core.DMatrix object at 0x000000002460B950>}\n",
      "[0]\teval-mlogloss:1.67185\n"
     ]
    },
    {
     "name": "stderr",
     "output_type": "stream",
     "text": [
      "S:\\anaconda\\envs\\study\\Lib\\site-packages\\xgboost\\training.py:183: UserWarning: [17:31:48] WARNING: C:\\b\\abs_d97hy_84m6\\croot\\xgboost-split_1749630932152\\work\\src\\learner.cc:738: \n",
      "Parameters: { \"early_stopping_rounds\" } are not used.\n",
      "\n",
      "  bst.update(dtrain, iteration=i, fobj=obj)\n"
     ]
    },
    {
     "name": "stdout",
     "output_type": "stream",
     "text": [
      "[10]\teval-mlogloss:0.76471\n",
      "[19]\teval-mlogloss:0.62323\n",
      "23 {'n_estimators': 20, 'learning_rate': 0.2, 'max_depth': 5, 'random_state': 1337, 'dtrain': <xgboost.core.DMatrix object at 0x0000000024647D10>, 'dtest': <xgboost.core.DMatrix object at 0x000000002460B950>}\n",
      "[0]\teval-mlogloss:1.66031\n"
     ]
    },
    {
     "name": "stderr",
     "output_type": "stream",
     "text": [
      "S:\\anaconda\\envs\\study\\Lib\\site-packages\\xgboost\\training.py:183: UserWarning: [17:31:48] WARNING: C:\\b\\abs_d97hy_84m6\\croot\\xgboost-split_1749630932152\\work\\src\\learner.cc:738: \n",
      "Parameters: { \"early_stopping_rounds\" } are not used.\n",
      "\n",
      "  bst.update(dtrain, iteration=i, fobj=obj)\n"
     ]
    },
    {
     "name": "stdout",
     "output_type": "stream",
     "text": [
      "[10]\teval-mlogloss:0.72491\n",
      "[19]\teval-mlogloss:0.57832\n",
      "24 {'n_estimators': 20, 'learning_rate': 0.05, 'max_depth': 3, 'random_state': 1337, 'dtrain': <xgboost.core.DMatrix object at 0x0000000024647D10>, 'dtest': <xgboost.core.DMatrix object at 0x000000002460B950>}\n",
      "[0]\teval-mlogloss:1.87742\n"
     ]
    },
    {
     "name": "stderr",
     "output_type": "stream",
     "text": [
      "S:\\anaconda\\envs\\study\\Lib\\site-packages\\xgboost\\training.py:183: UserWarning: [17:31:50] WARNING: C:\\b\\abs_d97hy_84m6\\croot\\xgboost-split_1749630932152\\work\\src\\learner.cc:738: \n",
      "Parameters: { \"early_stopping_rounds\" } are not used.\n",
      "\n",
      "  bst.update(dtrain, iteration=i, fobj=obj)\n"
     ]
    },
    {
     "name": "stdout",
     "output_type": "stream",
     "text": [
      "[10]\teval-mlogloss:1.35239\n",
      "[19]\teval-mlogloss:1.11196\n",
      "25 {'n_estimators': 20, 'learning_rate': 0.05, 'max_depth': 4, 'random_state': 1337, 'dtrain': <xgboost.core.DMatrix object at 0x0000000024647D10>, 'dtest': <xgboost.core.DMatrix object at 0x000000002460B950>}\n",
      "[0]\teval-mlogloss:1.87399\n"
     ]
    },
    {
     "name": "stderr",
     "output_type": "stream",
     "text": [
      "S:\\anaconda\\envs\\study\\Lib\\site-packages\\sklearn\\metrics\\_classification.py:1565: UndefinedMetricWarning: Precision is ill-defined and being set to 0.0 in labels with no predicted samples. Use `zero_division` parameter to control this behavior.\n",
      "  _warn_prf(average, modifier, f\"{metric.capitalize()} is\", len(result))\n",
      "S:\\anaconda\\envs\\study\\Lib\\site-packages\\sklearn\\metrics\\_classification.py:1565: UndefinedMetricWarning: Precision is ill-defined and being set to 0.0 in labels with no predicted samples. Use `zero_division` parameter to control this behavior.\n",
      "  _warn_prf(average, modifier, f\"{metric.capitalize()} is\", len(result))\n",
      "S:\\anaconda\\envs\\study\\Lib\\site-packages\\sklearn\\metrics\\_classification.py:1565: UndefinedMetricWarning: Precision is ill-defined and being set to 0.0 in labels with no predicted samples. Use `zero_division` parameter to control this behavior.\n",
      "  _warn_prf(average, modifier, f\"{metric.capitalize()} is\", len(result))\n",
      "S:\\anaconda\\envs\\study\\Lib\\site-packages\\xgboost\\training.py:183: UserWarning: [17:31:50] WARNING: C:\\b\\abs_d97hy_84m6\\croot\\xgboost-split_1749630932152\\work\\src\\learner.cc:738: \n",
      "Parameters: { \"early_stopping_rounds\" } are not used.\n",
      "\n",
      "  bst.update(dtrain, iteration=i, fobj=obj)\n"
     ]
    },
    {
     "name": "stdout",
     "output_type": "stream",
     "text": [
      "[10]\teval-mlogloss:1.32926\n",
      "[19]\teval-mlogloss:1.08178\n",
      "26 {'n_estimators': 20, 'learning_rate': 0.05, 'max_depth': 5, 'random_state': 1337, 'dtrain': <xgboost.core.DMatrix object at 0x0000000024647D10>, 'dtest': <xgboost.core.DMatrix object at 0x000000002460B950>}\n",
      "[0]\teval-mlogloss:1.87095\n"
     ]
    },
    {
     "name": "stderr",
     "output_type": "stream",
     "text": [
      "S:\\anaconda\\envs\\study\\Lib\\site-packages\\xgboost\\training.py:183: UserWarning: [17:31:51] WARNING: C:\\b\\abs_d97hy_84m6\\croot\\xgboost-split_1749630932152\\work\\src\\learner.cc:738: \n",
      "Parameters: { \"early_stopping_rounds\" } are not used.\n",
      "\n",
      "  bst.update(dtrain, iteration=i, fobj=obj)\n"
     ]
    },
    {
     "name": "stdout",
     "output_type": "stream",
     "text": [
      "[10]\teval-mlogloss:1.30829\n",
      "[19]\teval-mlogloss:1.05257\n",
      "27 {'n_estimators': 200, 'learning_rate': 0.1, 'max_depth': 3, 'random_state': 1337, 'dtrain': <xgboost.core.DMatrix object at 0x0000000024647D10>, 'dtest': <xgboost.core.DMatrix object at 0x000000002460B950>}\n",
      "[0]\teval-mlogloss:1.81101\n"
     ]
    },
    {
     "name": "stderr",
     "output_type": "stream",
     "text": [
      "S:\\anaconda\\envs\\study\\Lib\\site-packages\\xgboost\\training.py:183: UserWarning: [17:31:52] WARNING: C:\\b\\abs_d97hy_84m6\\croot\\xgboost-split_1749630932152\\work\\src\\learner.cc:738: \n",
      "Parameters: { \"early_stopping_rounds\" } are not used.\n",
      "\n",
      "  bst.update(dtrain, iteration=i, fobj=obj)\n"
     ]
    },
    {
     "name": "stdout",
     "output_type": "stream",
     "text": [
      "[10]\teval-mlogloss:1.06572\n",
      "[20]\teval-mlogloss:0.82656\n",
      "[30]\teval-mlogloss:0.72099\n",
      "[40]\teval-mlogloss:0.66521\n",
      "[50]\teval-mlogloss:0.63158\n",
      "[60]\teval-mlogloss:0.60926\n",
      "[70]\teval-mlogloss:0.59330\n",
      "[80]\teval-mlogloss:0.58248\n",
      "[90]\teval-mlogloss:0.57278\n",
      "[100]\teval-mlogloss:0.56480\n",
      "[110]\teval-mlogloss:0.55802\n",
      "[120]\teval-mlogloss:0.55143\n",
      "[130]\teval-mlogloss:0.54578\n",
      "[140]\teval-mlogloss:0.54046\n",
      "[150]\teval-mlogloss:0.53484\n",
      "[160]\teval-mlogloss:0.52961\n",
      "[170]\teval-mlogloss:0.52474\n",
      "[180]\teval-mlogloss:0.52115\n",
      "[190]\teval-mlogloss:0.51711\n",
      "[199]\teval-mlogloss:0.51359\n",
      "28 {'n_estimators': 200, 'learning_rate': 0.1, 'max_depth': 4, 'random_state': 1337, 'dtrain': <xgboost.core.DMatrix object at 0x0000000024647D10>, 'dtest': <xgboost.core.DMatrix object at 0x000000002460B950>}\n",
      "[0]\teval-mlogloss:1.80427\n"
     ]
    },
    {
     "name": "stderr",
     "output_type": "stream",
     "text": [
      "S:\\anaconda\\envs\\study\\Lib\\site-packages\\xgboost\\training.py:183: UserWarning: [17:32:01] WARNING: C:\\b\\abs_d97hy_84m6\\croot\\xgboost-split_1749630932152\\work\\src\\learner.cc:738: \n",
      "Parameters: { \"early_stopping_rounds\" } are not used.\n",
      "\n",
      "  bst.update(dtrain, iteration=i, fobj=obj)\n"
     ]
    },
    {
     "name": "stdout",
     "output_type": "stream",
     "text": [
      "[10]\teval-mlogloss:1.03289\n",
      "[20]\teval-mlogloss:0.78730\n",
      "[30]\teval-mlogloss:0.67733\n",
      "[40]\teval-mlogloss:0.62024\n",
      "[50]\teval-mlogloss:0.58596\n",
      "[60]\teval-mlogloss:0.56325\n",
      "[70]\teval-mlogloss:0.54701\n",
      "[80]\teval-mlogloss:0.53537\n",
      "[90]\teval-mlogloss:0.52548\n",
      "[100]\teval-mlogloss:0.51707\n",
      "[110]\teval-mlogloss:0.50996\n",
      "[120]\teval-mlogloss:0.50352\n",
      "[130]\teval-mlogloss:0.49672\n",
      "[140]\teval-mlogloss:0.49128\n",
      "[150]\teval-mlogloss:0.48581\n",
      "[160]\teval-mlogloss:0.48011\n",
      "[170]\teval-mlogloss:0.47496\n",
      "[180]\teval-mlogloss:0.46980\n",
      "[190]\teval-mlogloss:0.46517\n",
      "[199]\teval-mlogloss:0.46105\n",
      "29 {'n_estimators': 200, 'learning_rate': 0.1, 'max_depth': 5, 'random_state': 1337, 'dtrain': <xgboost.core.DMatrix object at 0x0000000024647D10>, 'dtest': <xgboost.core.DMatrix object at 0x000000002460B950>}\n",
      "[0]\teval-mlogloss:1.79827\n"
     ]
    },
    {
     "name": "stderr",
     "output_type": "stream",
     "text": [
      "S:\\anaconda\\envs\\study\\Lib\\site-packages\\xgboost\\training.py:183: UserWarning: [17:32:11] WARNING: C:\\b\\abs_d97hy_84m6\\croot\\xgboost-split_1749630932152\\work\\src\\learner.cc:738: \n",
      "Parameters: { \"early_stopping_rounds\" } are not used.\n",
      "\n",
      "  bst.update(dtrain, iteration=i, fobj=obj)\n"
     ]
    },
    {
     "name": "stdout",
     "output_type": "stream",
     "text": [
      "[10]\teval-mlogloss:1.00275\n",
      "[20]\teval-mlogloss:0.74953\n",
      "[30]\teval-mlogloss:0.63776\n",
      "[40]\teval-mlogloss:0.57792\n",
      "[50]\teval-mlogloss:0.54199\n",
      "[60]\teval-mlogloss:0.51902\n",
      "[70]\teval-mlogloss:0.50202\n",
      "[80]\teval-mlogloss:0.49023\n",
      "[90]\teval-mlogloss:0.47899\n",
      "[100]\teval-mlogloss:0.47026\n",
      "[110]\teval-mlogloss:0.46251\n",
      "[120]\teval-mlogloss:0.45539\n",
      "[130]\teval-mlogloss:0.44841\n",
      "[140]\teval-mlogloss:0.44146\n",
      "[150]\teval-mlogloss:0.43442\n",
      "[160]\teval-mlogloss:0.42847\n",
      "[170]\teval-mlogloss:0.42305\n",
      "[180]\teval-mlogloss:0.41789\n",
      "[190]\teval-mlogloss:0.41268\n",
      "[199]\teval-mlogloss:0.40821\n",
      "30 {'n_estimators': 200, 'learning_rate': 0.2, 'max_depth': 3, 'random_state': 1337, 'dtrain': <xgboost.core.DMatrix object at 0x0000000024647D10>, 'dtest': <xgboost.core.DMatrix object at 0x000000002460B950>}\n",
      "[0]\teval-mlogloss:1.68479\n"
     ]
    },
    {
     "name": "stderr",
     "output_type": "stream",
     "text": [
      "S:\\anaconda\\envs\\study\\Lib\\site-packages\\xgboost\\training.py:183: UserWarning: [17:32:21] WARNING: C:\\b\\abs_d97hy_84m6\\croot\\xgboost-split_1749630932152\\work\\src\\learner.cc:738: \n",
      "Parameters: { \"early_stopping_rounds\" } are not used.\n",
      "\n",
      "  bst.update(dtrain, iteration=i, fobj=obj)\n"
     ]
    },
    {
     "name": "stdout",
     "output_type": "stream",
     "text": [
      "[10]\teval-mlogloss:0.80451\n",
      "[20]\teval-mlogloss:0.65936\n",
      "[30]\teval-mlogloss:0.60744\n",
      "[40]\teval-mlogloss:0.58049\n",
      "[50]\teval-mlogloss:0.56400\n",
      "[60]\teval-mlogloss:0.55017\n",
      "[70]\teval-mlogloss:0.53857\n",
      "[80]\teval-mlogloss:0.52921\n",
      "[90]\teval-mlogloss:0.52003\n",
      "[100]\teval-mlogloss:0.51274\n",
      "[110]\teval-mlogloss:0.50515\n",
      "[120]\teval-mlogloss:0.49940\n",
      "[130]\teval-mlogloss:0.49329\n",
      "[140]\teval-mlogloss:0.48756\n",
      "[150]\teval-mlogloss:0.48270\n",
      "[160]\teval-mlogloss:0.47823\n",
      "[170]\teval-mlogloss:0.47353\n",
      "[180]\teval-mlogloss:0.46866\n",
      "[190]\teval-mlogloss:0.46497\n",
      "[199]\teval-mlogloss:0.46159\n",
      "31 {'n_estimators': 200, 'learning_rate': 0.2, 'max_depth': 4, 'random_state': 1337, 'dtrain': <xgboost.core.DMatrix object at 0x0000000024647D10>, 'dtest': <xgboost.core.DMatrix object at 0x000000002460B950>}\n",
      "[0]\teval-mlogloss:1.67185\n"
     ]
    },
    {
     "name": "stderr",
     "output_type": "stream",
     "text": [
      "S:\\anaconda\\envs\\study\\Lib\\site-packages\\xgboost\\training.py:183: UserWarning: [17:32:30] WARNING: C:\\b\\abs_d97hy_84m6\\croot\\xgboost-split_1749630932152\\work\\src\\learner.cc:738: \n",
      "Parameters: { \"early_stopping_rounds\" } are not used.\n",
      "\n",
      "  bst.update(dtrain, iteration=i, fobj=obj)\n"
     ]
    },
    {
     "name": "stdout",
     "output_type": "stream",
     "text": [
      "[10]\teval-mlogloss:0.76471\n",
      "[20]\teval-mlogloss:0.61460\n",
      "[30]\teval-mlogloss:0.55987\n",
      "[40]\teval-mlogloss:0.53175\n",
      "[50]\teval-mlogloss:0.51435\n",
      "[60]\teval-mlogloss:0.50111\n",
      "[70]\teval-mlogloss:0.48902\n",
      "[80]\teval-mlogloss:0.47746\n",
      "[90]\teval-mlogloss:0.46625\n",
      "[100]\teval-mlogloss:0.45664\n",
      "[110]\teval-mlogloss:0.44831\n",
      "[120]\teval-mlogloss:0.44085\n",
      "[130]\teval-mlogloss:0.43377\n",
      "[140]\teval-mlogloss:0.42789\n",
      "[150]\teval-mlogloss:0.42151\n",
      "[160]\teval-mlogloss:0.41561\n",
      "[170]\teval-mlogloss:0.41070\n",
      "[180]\teval-mlogloss:0.40578\n",
      "[190]\teval-mlogloss:0.40109\n",
      "[199]\teval-mlogloss:0.39621\n",
      "32 {'n_estimators': 200, 'learning_rate': 0.2, 'max_depth': 5, 'random_state': 1337, 'dtrain': <xgboost.core.DMatrix object at 0x0000000024647D10>, 'dtest': <xgboost.core.DMatrix object at 0x000000002460B950>}\n",
      "[0]\teval-mlogloss:1.66031\n"
     ]
    },
    {
     "name": "stderr",
     "output_type": "stream",
     "text": [
      "S:\\anaconda\\envs\\study\\Lib\\site-packages\\xgboost\\training.py:183: UserWarning: [17:32:39] WARNING: C:\\b\\abs_d97hy_84m6\\croot\\xgboost-split_1749630932152\\work\\src\\learner.cc:738: \n",
      "Parameters: { \"early_stopping_rounds\" } are not used.\n",
      "\n",
      "  bst.update(dtrain, iteration=i, fobj=obj)\n"
     ]
    },
    {
     "name": "stdout",
     "output_type": "stream",
     "text": [
      "[10]\teval-mlogloss:0.72491\n",
      "[20]\teval-mlogloss:0.56944\n",
      "[30]\teval-mlogloss:0.51414\n",
      "[40]\teval-mlogloss:0.48702\n",
      "[50]\teval-mlogloss:0.46740\n",
      "[60]\teval-mlogloss:0.45286\n",
      "[70]\teval-mlogloss:0.43882\n",
      "[80]\teval-mlogloss:0.42582\n",
      "[90]\teval-mlogloss:0.41314\n",
      "[100]\teval-mlogloss:0.40273\n",
      "[110]\teval-mlogloss:0.39148\n",
      "[120]\teval-mlogloss:0.38170\n",
      "[130]\teval-mlogloss:0.37266\n",
      "[140]\teval-mlogloss:0.36525\n",
      "[150]\teval-mlogloss:0.35988\n",
      "[160]\teval-mlogloss:0.35381\n",
      "[170]\teval-mlogloss:0.34822\n",
      "[180]\teval-mlogloss:0.34109\n",
      "[190]\teval-mlogloss:0.33645\n",
      "[199]\teval-mlogloss:0.33064\n",
      "33 {'n_estimators': 200, 'learning_rate': 0.05, 'max_depth': 3, 'random_state': 1337, 'dtrain': <xgboost.core.DMatrix object at 0x0000000024647D10>, 'dtest': <xgboost.core.DMatrix object at 0x000000002460B950>}\n",
      "[0]\teval-mlogloss:1.87742\n"
     ]
    },
    {
     "name": "stderr",
     "output_type": "stream",
     "text": [
      "S:\\anaconda\\envs\\study\\Lib\\site-packages\\xgboost\\training.py:183: UserWarning: [17:32:50] WARNING: C:\\b\\abs_d97hy_84m6\\croot\\xgboost-split_1749630932152\\work\\src\\learner.cc:738: \n",
      "Parameters: { \"early_stopping_rounds\" } are not used.\n",
      "\n",
      "  bst.update(dtrain, iteration=i, fobj=obj)\n"
     ]
    },
    {
     "name": "stdout",
     "output_type": "stream",
     "text": [
      "[10]\teval-mlogloss:1.35239\n",
      "[20]\teval-mlogloss:1.09128\n",
      "[30]\teval-mlogloss:0.93667\n",
      "[40]\teval-mlogloss:0.83740\n",
      "[50]\teval-mlogloss:0.77198\n",
      "[60]\teval-mlogloss:0.72721\n",
      "[70]\teval-mlogloss:0.69385\n",
      "[80]\teval-mlogloss:0.66887\n",
      "[90]\teval-mlogloss:0.64930\n",
      "[100]\teval-mlogloss:0.63404\n",
      "[110]\teval-mlogloss:0.62152\n",
      "[120]\teval-mlogloss:0.61084\n",
      "[130]\teval-mlogloss:0.60205\n",
      "[140]\teval-mlogloss:0.59501\n",
      "[150]\teval-mlogloss:0.58891\n",
      "[160]\teval-mlogloss:0.58347\n",
      "[170]\teval-mlogloss:0.57861\n",
      "[180]\teval-mlogloss:0.57389\n",
      "[190]\teval-mlogloss:0.56970\n",
      "[199]\teval-mlogloss:0.56654\n",
      "34 {'n_estimators': 200, 'learning_rate': 0.05, 'max_depth': 4, 'random_state': 1337, 'dtrain': <xgboost.core.DMatrix object at 0x0000000024647D10>, 'dtest': <xgboost.core.DMatrix object at 0x000000002460B950>}\n",
      "[0]\teval-mlogloss:1.87399\n"
     ]
    },
    {
     "name": "stderr",
     "output_type": "stream",
     "text": [
      "S:\\anaconda\\envs\\study\\Lib\\site-packages\\xgboost\\training.py:183: UserWarning: [17:32:58] WARNING: C:\\b\\abs_d97hy_84m6\\croot\\xgboost-split_1749630932152\\work\\src\\learner.cc:738: \n",
      "Parameters: { \"early_stopping_rounds\" } are not used.\n",
      "\n",
      "  bst.update(dtrain, iteration=i, fobj=obj)\n"
     ]
    },
    {
     "name": "stdout",
     "output_type": "stream",
     "text": [
      "[10]\teval-mlogloss:1.32926\n",
      "[20]\teval-mlogloss:1.06032\n",
      "[30]\teval-mlogloss:0.90039\n",
      "[40]\teval-mlogloss:0.79831\n",
      "[50]\teval-mlogloss:0.73129\n",
      "[60]\teval-mlogloss:0.68504\n",
      "[70]\teval-mlogloss:0.65023\n",
      "[80]\teval-mlogloss:0.62461\n",
      "[90]\teval-mlogloss:0.60440\n",
      "[100]\teval-mlogloss:0.58819\n",
      "[110]\teval-mlogloss:0.57507\n",
      "[120]\teval-mlogloss:0.56422\n",
      "[130]\teval-mlogloss:0.55498\n",
      "[140]\teval-mlogloss:0.54785\n",
      "[150]\teval-mlogloss:0.54154\n",
      "[160]\teval-mlogloss:0.53594\n",
      "[170]\teval-mlogloss:0.53051\n",
      "[180]\teval-mlogloss:0.52601\n",
      "[190]\teval-mlogloss:0.52173\n",
      "[199]\teval-mlogloss:0.51811\n",
      "35 {'n_estimators': 200, 'learning_rate': 0.05, 'max_depth': 5, 'random_state': 1337, 'dtrain': <xgboost.core.DMatrix object at 0x0000000024647D10>, 'dtest': <xgboost.core.DMatrix object at 0x000000002460B950>}\n",
      "[0]\teval-mlogloss:1.87095\n"
     ]
    },
    {
     "name": "stderr",
     "output_type": "stream",
     "text": [
      "S:\\anaconda\\envs\\study\\Lib\\site-packages\\xgboost\\training.py:183: UserWarning: [17:33:08] WARNING: C:\\b\\abs_d97hy_84m6\\croot\\xgboost-split_1749630932152\\work\\src\\learner.cc:738: \n",
      "Parameters: { \"early_stopping_rounds\" } are not used.\n",
      "\n",
      "  bst.update(dtrain, iteration=i, fobj=obj)\n"
     ]
    },
    {
     "name": "stdout",
     "output_type": "stream",
     "text": [
      "[10]\teval-mlogloss:1.30829\n",
      "[20]\teval-mlogloss:1.03057\n",
      "[30]\teval-mlogloss:0.86590\n",
      "[40]\teval-mlogloss:0.76025\n",
      "[50]\teval-mlogloss:0.69106\n",
      "[60]\teval-mlogloss:0.64345\n",
      "[70]\teval-mlogloss:0.60814\n",
      "[80]\teval-mlogloss:0.58107\n",
      "[90]\teval-mlogloss:0.56047\n",
      "[100]\teval-mlogloss:0.54438\n",
      "[110]\teval-mlogloss:0.53104\n",
      "[120]\teval-mlogloss:0.51980\n",
      "[130]\teval-mlogloss:0.51003\n",
      "[140]\teval-mlogloss:0.50223\n",
      "[150]\teval-mlogloss:0.49556\n",
      "[160]\teval-mlogloss:0.48928\n",
      "[170]\teval-mlogloss:0.48383\n",
      "[180]\teval-mlogloss:0.47871\n",
      "[190]\teval-mlogloss:0.47430\n",
      "[199]\teval-mlogloss:0.47080\n"
     ]
    },
    {
     "name": "stderr",
     "output_type": "stream",
     "text": [
      "C:\\Users\\nikol\\AppData\\Local\\Temp\\ipykernel_14832\\3180493565.py:13: FutureWarning: Calling int on a single element Series is deprecated and will raise a TypeError in the future. Use int(ser.iloc[0]) instead\n",
      "  num_classes = int(d[d.target_features].nunique()) # ИСПРАВЛЕНИЕ: Количество уникальных классов\n",
      "S:\\anaconda\\envs\\study\\Lib\\site-packages\\xgboost\\training.py:183: UserWarning: [17:33:18] WARNING: C:\\b\\abs_d97hy_84m6\\croot\\xgboost-split_1749630932152\\work\\src\\learner.cc:738: \n",
      "Parameters: { \"early_stopping_rounds\" } are not used.\n",
      "\n",
      "  bst.update(dtrain, iteration=i, fobj=obj)\n"
     ]
    },
    {
     "name": "stdout",
     "output_type": "stream",
     "text": [
      "36\n",
      "0 {'n_estimators': 100, 'learning_rate': 0.1, 'max_depth': 3, 'random_state': 1337, 'dtrain': <xgboost.core.DMatrix object at 0x00000000246114F0>, 'dtest': <xgboost.core.DMatrix object at 0x00000000245776E0>}\n",
      "[0]\teval-mlogloss:1.77815\n",
      "[10]\teval-mlogloss:1.06236\n",
      "[20]\teval-mlogloss:0.82521\n",
      "[30]\teval-mlogloss:0.71946\n",
      "[40]\teval-mlogloss:0.66409\n",
      "[50]\teval-mlogloss:0.63137\n",
      "[60]\teval-mlogloss:0.60906\n",
      "[70]\teval-mlogloss:0.59371\n",
      "[80]\teval-mlogloss:0.58233\n",
      "[90]\teval-mlogloss:0.57272\n",
      "[99]\teval-mlogloss:0.56558\n",
      "1 {'n_estimators': 100, 'learning_rate': 0.1, 'max_depth': 4, 'random_state': 1337, 'dtrain': <xgboost.core.DMatrix object at 0x00000000246114F0>, 'dtest': <xgboost.core.DMatrix object at 0x00000000245776E0>}\n",
      "[0]\teval-mlogloss:1.77230\n"
     ]
    },
    {
     "name": "stderr",
     "output_type": "stream",
     "text": [
      "S:\\anaconda\\envs\\study\\Lib\\site-packages\\xgboost\\training.py:183: UserWarning: [17:33:23] WARNING: C:\\b\\abs_d97hy_84m6\\croot\\xgboost-split_1749630932152\\work\\src\\learner.cc:738: \n",
      "Parameters: { \"early_stopping_rounds\" } are not used.\n",
      "\n",
      "  bst.update(dtrain, iteration=i, fobj=obj)\n"
     ]
    },
    {
     "name": "stdout",
     "output_type": "stream",
     "text": [
      "[10]\teval-mlogloss:1.03010\n",
      "[20]\teval-mlogloss:0.78630\n",
      "[30]\teval-mlogloss:0.67817\n",
      "[40]\teval-mlogloss:0.62118\n",
      "[50]\teval-mlogloss:0.58623\n",
      "[60]\teval-mlogloss:0.56250\n",
      "[70]\teval-mlogloss:0.54628\n",
      "[80]\teval-mlogloss:0.53499\n",
      "[90]\teval-mlogloss:0.52484\n",
      "[99]\teval-mlogloss:0.51724\n",
      "2 {'n_estimators': 100, 'learning_rate': 0.1, 'max_depth': 5, 'random_state': 1337, 'dtrain': <xgboost.core.DMatrix object at 0x00000000246114F0>, 'dtest': <xgboost.core.DMatrix object at 0x00000000245776E0>}\n",
      "[0]\teval-mlogloss:1.76436\n"
     ]
    },
    {
     "name": "stderr",
     "output_type": "stream",
     "text": [
      "S:\\anaconda\\envs\\study\\Lib\\site-packages\\xgboost\\training.py:183: UserWarning: [17:33:27] WARNING: C:\\b\\abs_d97hy_84m6\\croot\\xgboost-split_1749630932152\\work\\src\\learner.cc:738: \n",
      "Parameters: { \"early_stopping_rounds\" } are not used.\n",
      "\n",
      "  bst.update(dtrain, iteration=i, fobj=obj)\n"
     ]
    },
    {
     "name": "stdout",
     "output_type": "stream",
     "text": [
      "[10]\teval-mlogloss:0.99961\n",
      "[20]\teval-mlogloss:0.74785\n",
      "[30]\teval-mlogloss:0.63551\n",
      "[40]\teval-mlogloss:0.57827\n",
      "[50]\teval-mlogloss:0.54190\n",
      "[60]\teval-mlogloss:0.51655\n",
      "[70]\teval-mlogloss:0.50039\n",
      "[80]\teval-mlogloss:0.48832\n",
      "[90]\teval-mlogloss:0.47825\n",
      "[99]\teval-mlogloss:0.46983\n",
      "3 {'n_estimators': 100, 'learning_rate': 0.2, 'max_depth': 3, 'random_state': 1337, 'dtrain': <xgboost.core.DMatrix object at 0x00000000246114F0>, 'dtest': <xgboost.core.DMatrix object at 0x00000000245776E0>}\n",
      "[0]\teval-mlogloss:1.62203\n"
     ]
    },
    {
     "name": "stderr",
     "output_type": "stream",
     "text": [
      "S:\\anaconda\\envs\\study\\Lib\\site-packages\\xgboost\\training.py:183: UserWarning: [17:33:32] WARNING: C:\\b\\abs_d97hy_84m6\\croot\\xgboost-split_1749630932152\\work\\src\\learner.cc:738: \n",
      "Parameters: { \"early_stopping_rounds\" } are not used.\n",
      "\n",
      "  bst.update(dtrain, iteration=i, fobj=obj)\n"
     ]
    },
    {
     "name": "stdout",
     "output_type": "stream",
     "text": [
      "[10]\teval-mlogloss:0.80039\n",
      "[20]\teval-mlogloss:0.65663\n",
      "[30]\teval-mlogloss:0.60388\n",
      "[40]\teval-mlogloss:0.57895\n",
      "[50]\teval-mlogloss:0.56317\n",
      "[60]\teval-mlogloss:0.54930\n",
      "[70]\teval-mlogloss:0.53805\n",
      "[80]\teval-mlogloss:0.52873\n",
      "[90]\teval-mlogloss:0.51988\n",
      "[99]\teval-mlogloss:0.51344\n",
      "4 {'n_estimators': 100, 'learning_rate': 0.2, 'max_depth': 4, 'random_state': 1337, 'dtrain': <xgboost.core.DMatrix object at 0x00000000246114F0>, 'dtest': <xgboost.core.DMatrix object at 0x00000000245776E0>}\n",
      "[0]\teval-mlogloss:1.61078\n"
     ]
    },
    {
     "name": "stderr",
     "output_type": "stream",
     "text": [
      "S:\\anaconda\\envs\\study\\Lib\\site-packages\\xgboost\\training.py:183: UserWarning: [17:33:37] WARNING: C:\\b\\abs_d97hy_84m6\\croot\\xgboost-split_1749630932152\\work\\src\\learner.cc:738: \n",
      "Parameters: { \"early_stopping_rounds\" } are not used.\n",
      "\n",
      "  bst.update(dtrain, iteration=i, fobj=obj)\n"
     ]
    },
    {
     "name": "stdout",
     "output_type": "stream",
     "text": [
      "[10]\teval-mlogloss:0.76284\n",
      "[20]\teval-mlogloss:0.61411\n",
      "[30]\teval-mlogloss:0.55923\n",
      "[40]\teval-mlogloss:0.53260\n",
      "[50]\teval-mlogloss:0.51479\n",
      "[60]\teval-mlogloss:0.50072\n",
      "[70]\teval-mlogloss:0.48865\n",
      "[80]\teval-mlogloss:0.47721\n",
      "[90]\teval-mlogloss:0.46854\n",
      "[99]\teval-mlogloss:0.46001\n",
      "5 {'n_estimators': 100, 'learning_rate': 0.2, 'max_depth': 5, 'random_state': 1337, 'dtrain': <xgboost.core.DMatrix object at 0x00000000246114F0>, 'dtest': <xgboost.core.DMatrix object at 0x00000000245776E0>}\n",
      "[0]\teval-mlogloss:1.59557\n"
     ]
    },
    {
     "name": "stderr",
     "output_type": "stream",
     "text": [
      "S:\\anaconda\\envs\\study\\Lib\\site-packages\\xgboost\\training.py:183: UserWarning: [17:33:42] WARNING: C:\\b\\abs_d97hy_84m6\\croot\\xgboost-split_1749630932152\\work\\src\\learner.cc:738: \n",
      "Parameters: { \"early_stopping_rounds\" } are not used.\n",
      "\n",
      "  bst.update(dtrain, iteration=i, fobj=obj)\n"
     ]
    },
    {
     "name": "stdout",
     "output_type": "stream",
     "text": [
      "[10]\teval-mlogloss:0.72438\n",
      "[20]\teval-mlogloss:0.57084\n",
      "[30]\teval-mlogloss:0.51565\n",
      "[40]\teval-mlogloss:0.48780\n",
      "[50]\teval-mlogloss:0.46648\n",
      "[60]\teval-mlogloss:0.44949\n",
      "[70]\teval-mlogloss:0.43730\n",
      "[80]\teval-mlogloss:0.42454\n",
      "[90]\teval-mlogloss:0.41176\n",
      "[99]\teval-mlogloss:0.40131\n",
      "6 {'n_estimators': 100, 'learning_rate': 0.05, 'max_depth': 3, 'random_state': 1337, 'dtrain': <xgboost.core.DMatrix object at 0x00000000246114F0>, 'dtest': <xgboost.core.DMatrix object at 0x00000000245776E0>}\n",
      "[0]\teval-mlogloss:1.86067\n"
     ]
    },
    {
     "name": "stderr",
     "output_type": "stream",
     "text": [
      "S:\\anaconda\\envs\\study\\Lib\\site-packages\\xgboost\\training.py:183: UserWarning: [17:33:47] WARNING: C:\\b\\abs_d97hy_84m6\\croot\\xgboost-split_1749630932152\\work\\src\\learner.cc:738: \n",
      "Parameters: { \"early_stopping_rounds\" } are not used.\n",
      "\n",
      "  bst.update(dtrain, iteration=i, fobj=obj)\n"
     ]
    },
    {
     "name": "stdout",
     "output_type": "stream",
     "text": [
      "[10]\teval-mlogloss:1.35014\n",
      "[20]\teval-mlogloss:1.09154\n",
      "[30]\teval-mlogloss:0.93527\n",
      "[40]\teval-mlogloss:0.83685\n",
      "[50]\teval-mlogloss:0.77129\n",
      "[60]\teval-mlogloss:0.72621\n",
      "[70]\teval-mlogloss:0.69297\n",
      "[80]\teval-mlogloss:0.66854\n",
      "[90]\teval-mlogloss:0.64917\n",
      "[99]\teval-mlogloss:0.63519\n",
      "7 {'n_estimators': 100, 'learning_rate': 0.05, 'max_depth': 4, 'random_state': 1337, 'dtrain': <xgboost.core.DMatrix object at 0x00000000246114F0>, 'dtest': <xgboost.core.DMatrix object at 0x00000000245776E0>}\n",
      "[0]\teval-mlogloss:1.85770\n"
     ]
    },
    {
     "name": "stderr",
     "output_type": "stream",
     "text": [
      "S:\\anaconda\\envs\\study\\Lib\\site-packages\\xgboost\\training.py:183: UserWarning: [17:33:52] WARNING: C:\\b\\abs_d97hy_84m6\\croot\\xgboost-split_1749630932152\\work\\src\\learner.cc:738: \n",
      "Parameters: { \"early_stopping_rounds\" } are not used.\n",
      "\n",
      "  bst.update(dtrain, iteration=i, fobj=obj)\n"
     ]
    },
    {
     "name": "stdout",
     "output_type": "stream",
     "text": [
      "[10]\teval-mlogloss:1.32654\n",
      "[20]\teval-mlogloss:1.05990\n",
      "[30]\teval-mlogloss:0.89889\n",
      "[40]\teval-mlogloss:0.79810\n",
      "[50]\teval-mlogloss:0.73073\n",
      "[60]\teval-mlogloss:0.68473\n",
      "[70]\teval-mlogloss:0.65042\n",
      "[80]\teval-mlogloss:0.62442\n",
      "[90]\teval-mlogloss:0.60439\n",
      "[99]\teval-mlogloss:0.58983\n",
      "8 {'n_estimators': 100, 'learning_rate': 0.05, 'max_depth': 5, 'random_state': 1337, 'dtrain': <xgboost.core.DMatrix object at 0x00000000246114F0>, 'dtest': <xgboost.core.DMatrix object at 0x00000000245776E0>}\n",
      "[0]\teval-mlogloss:1.85366\n"
     ]
    },
    {
     "name": "stderr",
     "output_type": "stream",
     "text": [
      "S:\\anaconda\\envs\\study\\Lib\\site-packages\\xgboost\\training.py:183: UserWarning: [17:33:57] WARNING: C:\\b\\abs_d97hy_84m6\\croot\\xgboost-split_1749630932152\\work\\src\\learner.cc:738: \n",
      "Parameters: { \"early_stopping_rounds\" } are not used.\n",
      "\n",
      "  bst.update(dtrain, iteration=i, fobj=obj)\n"
     ]
    },
    {
     "name": "stdout",
     "output_type": "stream",
     "text": [
      "[10]\teval-mlogloss:1.30440\n",
      "[20]\teval-mlogloss:1.03004\n",
      "[30]\teval-mlogloss:0.86455\n",
      "[40]\teval-mlogloss:0.76068\n",
      "[50]\teval-mlogloss:0.69114\n",
      "[60]\teval-mlogloss:0.64407\n",
      "[70]\teval-mlogloss:0.60928\n",
      "[80]\teval-mlogloss:0.58244\n",
      "[90]\teval-mlogloss:0.56155\n",
      "[99]\teval-mlogloss:0.54688\n",
      "9 {'n_estimators': 50, 'learning_rate': 0.1, 'max_depth': 3, 'random_state': 1337, 'dtrain': <xgboost.core.DMatrix object at 0x00000000246114F0>, 'dtest': <xgboost.core.DMatrix object at 0x00000000245776E0>}\n",
      "[0]\teval-mlogloss:1.77815\n"
     ]
    },
    {
     "name": "stderr",
     "output_type": "stream",
     "text": [
      "S:\\anaconda\\envs\\study\\Lib\\site-packages\\xgboost\\training.py:183: UserWarning: [17:34:02] WARNING: C:\\b\\abs_d97hy_84m6\\croot\\xgboost-split_1749630932152\\work\\src\\learner.cc:738: \n",
      "Parameters: { \"early_stopping_rounds\" } are not used.\n",
      "\n",
      "  bst.update(dtrain, iteration=i, fobj=obj)\n"
     ]
    },
    {
     "name": "stdout",
     "output_type": "stream",
     "text": [
      "[10]\teval-mlogloss:1.06236\n",
      "[20]\teval-mlogloss:0.82521\n",
      "[30]\teval-mlogloss:0.71946\n",
      "[40]\teval-mlogloss:0.66409\n",
      "[49]\teval-mlogloss:0.63401\n",
      "10 {'n_estimators': 50, 'learning_rate': 0.1, 'max_depth': 4, 'random_state': 1337, 'dtrain': <xgboost.core.DMatrix object at 0x00000000246114F0>, 'dtest': <xgboost.core.DMatrix object at 0x00000000245776E0>}\n",
      "[0]\teval-mlogloss:1.77230\n"
     ]
    },
    {
     "name": "stderr",
     "output_type": "stream",
     "text": [
      "S:\\anaconda\\envs\\study\\Lib\\site-packages\\sklearn\\metrics\\_classification.py:1565: UndefinedMetricWarning: Precision is ill-defined and being set to 0.0 in labels with no predicted samples. Use `zero_division` parameter to control this behavior.\n",
      "  _warn_prf(average, modifier, f\"{metric.capitalize()} is\", len(result))\n",
      "S:\\anaconda\\envs\\study\\Lib\\site-packages\\sklearn\\metrics\\_classification.py:1565: UndefinedMetricWarning: Precision is ill-defined and being set to 0.0 in labels with no predicted samples. Use `zero_division` parameter to control this behavior.\n",
      "  _warn_prf(average, modifier, f\"{metric.capitalize()} is\", len(result))\n",
      "S:\\anaconda\\envs\\study\\Lib\\site-packages\\sklearn\\metrics\\_classification.py:1565: UndefinedMetricWarning: Precision is ill-defined and being set to 0.0 in labels with no predicted samples. Use `zero_division` parameter to control this behavior.\n",
      "  _warn_prf(average, modifier, f\"{metric.capitalize()} is\", len(result))\n",
      "S:\\anaconda\\envs\\study\\Lib\\site-packages\\xgboost\\training.py:183: UserWarning: [17:34:05] WARNING: C:\\b\\abs_d97hy_84m6\\croot\\xgboost-split_1749630932152\\work\\src\\learner.cc:738: \n",
      "Parameters: { \"early_stopping_rounds\" } are not used.\n",
      "\n",
      "  bst.update(dtrain, iteration=i, fobj=obj)\n"
     ]
    },
    {
     "name": "stdout",
     "output_type": "stream",
     "text": [
      "[10]\teval-mlogloss:1.03010\n",
      "[20]\teval-mlogloss:0.78630\n",
      "[30]\teval-mlogloss:0.67817\n",
      "[40]\teval-mlogloss:0.62118\n",
      "[49]\teval-mlogloss:0.58946\n",
      "11 {'n_estimators': 50, 'learning_rate': 0.1, 'max_depth': 5, 'random_state': 1337, 'dtrain': <xgboost.core.DMatrix object at 0x00000000246114F0>, 'dtest': <xgboost.core.DMatrix object at 0x00000000245776E0>}\n",
      "[0]\teval-mlogloss:1.76436\n"
     ]
    },
    {
     "name": "stderr",
     "output_type": "stream",
     "text": [
      "S:\\anaconda\\envs\\study\\Lib\\site-packages\\xgboost\\training.py:183: UserWarning: [17:34:07] WARNING: C:\\b\\abs_d97hy_84m6\\croot\\xgboost-split_1749630932152\\work\\src\\learner.cc:738: \n",
      "Parameters: { \"early_stopping_rounds\" } are not used.\n",
      "\n",
      "  bst.update(dtrain, iteration=i, fobj=obj)\n"
     ]
    },
    {
     "name": "stdout",
     "output_type": "stream",
     "text": [
      "[10]\teval-mlogloss:0.99961\n",
      "[20]\teval-mlogloss:0.74785\n",
      "[30]\teval-mlogloss:0.63551\n",
      "[40]\teval-mlogloss:0.57827\n",
      "[49]\teval-mlogloss:0.54572\n",
      "12 {'n_estimators': 50, 'learning_rate': 0.2, 'max_depth': 3, 'random_state': 1337, 'dtrain': <xgboost.core.DMatrix object at 0x00000000246114F0>, 'dtest': <xgboost.core.DMatrix object at 0x00000000245776E0>}\n",
      "[0]\teval-mlogloss:1.62203\n"
     ]
    },
    {
     "name": "stderr",
     "output_type": "stream",
     "text": [
      "S:\\anaconda\\envs\\study\\Lib\\site-packages\\xgboost\\training.py:183: UserWarning: [17:34:10] WARNING: C:\\b\\abs_d97hy_84m6\\croot\\xgboost-split_1749630932152\\work\\src\\learner.cc:738: \n",
      "Parameters: { \"early_stopping_rounds\" } are not used.\n",
      "\n",
      "  bst.update(dtrain, iteration=i, fobj=obj)\n"
     ]
    },
    {
     "name": "stdout",
     "output_type": "stream",
     "text": [
      "[10]\teval-mlogloss:0.80039\n",
      "[20]\teval-mlogloss:0.65663\n",
      "[30]\teval-mlogloss:0.60388\n",
      "[40]\teval-mlogloss:0.57895\n",
      "[49]\teval-mlogloss:0.56506\n",
      "13 {'n_estimators': 50, 'learning_rate': 0.2, 'max_depth': 4, 'random_state': 1337, 'dtrain': <xgboost.core.DMatrix object at 0x00000000246114F0>, 'dtest': <xgboost.core.DMatrix object at 0x00000000245776E0>}\n",
      "[0]\teval-mlogloss:1.61078\n"
     ]
    },
    {
     "name": "stderr",
     "output_type": "stream",
     "text": [
      "S:\\anaconda\\envs\\study\\Lib\\site-packages\\xgboost\\training.py:183: UserWarning: [17:34:12] WARNING: C:\\b\\abs_d97hy_84m6\\croot\\xgboost-split_1749630932152\\work\\src\\learner.cc:738: \n",
      "Parameters: { \"early_stopping_rounds\" } are not used.\n",
      "\n",
      "  bst.update(dtrain, iteration=i, fobj=obj)\n"
     ]
    },
    {
     "name": "stdout",
     "output_type": "stream",
     "text": [
      "[10]\teval-mlogloss:0.76284\n",
      "[20]\teval-mlogloss:0.61411\n",
      "[30]\teval-mlogloss:0.55923\n",
      "[40]\teval-mlogloss:0.53260\n",
      "[49]\teval-mlogloss:0.51639\n",
      "14 {'n_estimators': 50, 'learning_rate': 0.2, 'max_depth': 5, 'random_state': 1337, 'dtrain': <xgboost.core.DMatrix object at 0x00000000246114F0>, 'dtest': <xgboost.core.DMatrix object at 0x00000000245776E0>}\n",
      "[0]\teval-mlogloss:1.59557\n"
     ]
    },
    {
     "name": "stderr",
     "output_type": "stream",
     "text": [
      "S:\\anaconda\\envs\\study\\Lib\\site-packages\\xgboost\\training.py:183: UserWarning: [17:34:15] WARNING: C:\\b\\abs_d97hy_84m6\\croot\\xgboost-split_1749630932152\\work\\src\\learner.cc:738: \n",
      "Parameters: { \"early_stopping_rounds\" } are not used.\n",
      "\n",
      "  bst.update(dtrain, iteration=i, fobj=obj)\n"
     ]
    },
    {
     "name": "stdout",
     "output_type": "stream",
     "text": [
      "[10]\teval-mlogloss:0.72438\n",
      "[20]\teval-mlogloss:0.57084\n",
      "[30]\teval-mlogloss:0.51565\n",
      "[40]\teval-mlogloss:0.48780\n",
      "[49]\teval-mlogloss:0.46832\n",
      "15 {'n_estimators': 50, 'learning_rate': 0.05, 'max_depth': 3, 'random_state': 1337, 'dtrain': <xgboost.core.DMatrix object at 0x00000000246114F0>, 'dtest': <xgboost.core.DMatrix object at 0x00000000245776E0>}\n",
      "[0]\teval-mlogloss:1.86067\n"
     ]
    },
    {
     "name": "stderr",
     "output_type": "stream",
     "text": [
      "S:\\anaconda\\envs\\study\\Lib\\site-packages\\xgboost\\training.py:183: UserWarning: [17:34:17] WARNING: C:\\b\\abs_d97hy_84m6\\croot\\xgboost-split_1749630932152\\work\\src\\learner.cc:738: \n",
      "Parameters: { \"early_stopping_rounds\" } are not used.\n",
      "\n",
      "  bst.update(dtrain, iteration=i, fobj=obj)\n"
     ]
    },
    {
     "name": "stdout",
     "output_type": "stream",
     "text": [
      "[10]\teval-mlogloss:1.35014\n",
      "[20]\teval-mlogloss:1.09154\n",
      "[30]\teval-mlogloss:0.93527\n",
      "[40]\teval-mlogloss:0.83685\n",
      "[49]\teval-mlogloss:0.77688\n",
      "16 {'n_estimators': 50, 'learning_rate': 0.05, 'max_depth': 4, 'random_state': 1337, 'dtrain': <xgboost.core.DMatrix object at 0x00000000246114F0>, 'dtest': <xgboost.core.DMatrix object at 0x00000000245776E0>}\n",
      "[0]\teval-mlogloss:1.85770\n"
     ]
    },
    {
     "name": "stderr",
     "output_type": "stream",
     "text": [
      "S:\\anaconda\\envs\\study\\Lib\\site-packages\\xgboost\\training.py:183: UserWarning: [17:34:19] WARNING: C:\\b\\abs_d97hy_84m6\\croot\\xgboost-split_1749630932152\\work\\src\\learner.cc:738: \n",
      "Parameters: { \"early_stopping_rounds\" } are not used.\n",
      "\n",
      "  bst.update(dtrain, iteration=i, fobj=obj)\n"
     ]
    },
    {
     "name": "stdout",
     "output_type": "stream",
     "text": [
      "[10]\teval-mlogloss:1.32654\n",
      "[20]\teval-mlogloss:1.05990\n",
      "[30]\teval-mlogloss:0.89889\n",
      "[40]\teval-mlogloss:0.79810\n",
      "[49]\teval-mlogloss:0.73643\n",
      "17 {'n_estimators': 50, 'learning_rate': 0.05, 'max_depth': 5, 'random_state': 1337, 'dtrain': <xgboost.core.DMatrix object at 0x00000000246114F0>, 'dtest': <xgboost.core.DMatrix object at 0x00000000245776E0>}\n",
      "[0]\teval-mlogloss:1.85366\n"
     ]
    },
    {
     "name": "stderr",
     "output_type": "stream",
     "text": [
      "S:\\anaconda\\envs\\study\\Lib\\site-packages\\xgboost\\training.py:183: UserWarning: [17:34:22] WARNING: C:\\b\\abs_d97hy_84m6\\croot\\xgboost-split_1749630932152\\work\\src\\learner.cc:738: \n",
      "Parameters: { \"early_stopping_rounds\" } are not used.\n",
      "\n",
      "  bst.update(dtrain, iteration=i, fobj=obj)\n"
     ]
    },
    {
     "name": "stdout",
     "output_type": "stream",
     "text": [
      "[10]\teval-mlogloss:1.30440\n",
      "[20]\teval-mlogloss:1.03004\n",
      "[30]\teval-mlogloss:0.86455\n",
      "[40]\teval-mlogloss:0.76068\n",
      "[49]\teval-mlogloss:0.69712\n",
      "18 {'n_estimators': 20, 'learning_rate': 0.1, 'max_depth': 3, 'random_state': 1337, 'dtrain': <xgboost.core.DMatrix object at 0x00000000246114F0>, 'dtest': <xgboost.core.DMatrix object at 0x00000000245776E0>}\n",
      "[0]\teval-mlogloss:1.77815\n"
     ]
    },
    {
     "name": "stderr",
     "output_type": "stream",
     "text": [
      "S:\\anaconda\\envs\\study\\Lib\\site-packages\\xgboost\\training.py:183: UserWarning: [17:34:25] WARNING: C:\\b\\abs_d97hy_84m6\\croot\\xgboost-split_1749630932152\\work\\src\\learner.cc:738: \n",
      "Parameters: { \"early_stopping_rounds\" } are not used.\n",
      "\n",
      "  bst.update(dtrain, iteration=i, fobj=obj)\n"
     ]
    },
    {
     "name": "stdout",
     "output_type": "stream",
     "text": [
      "[10]\teval-mlogloss:1.06236\n",
      "[19]\teval-mlogloss:0.84175\n",
      "19 {'n_estimators': 20, 'learning_rate': 0.1, 'max_depth': 4, 'random_state': 1337, 'dtrain': <xgboost.core.DMatrix object at 0x00000000246114F0>, 'dtest': <xgboost.core.DMatrix object at 0x00000000245776E0>}\n",
      "[0]\teval-mlogloss:1.77230\n"
     ]
    },
    {
     "name": "stderr",
     "output_type": "stream",
     "text": [
      "S:\\anaconda\\envs\\study\\Lib\\site-packages\\xgboost\\training.py:183: UserWarning: [17:34:26] WARNING: C:\\b\\abs_d97hy_84m6\\croot\\xgboost-split_1749630932152\\work\\src\\learner.cc:738: \n",
      "Parameters: { \"early_stopping_rounds\" } are not used.\n",
      "\n",
      "  bst.update(dtrain, iteration=i, fobj=obj)\n"
     ]
    },
    {
     "name": "stdout",
     "output_type": "stream",
     "text": [
      "[10]\teval-mlogloss:1.03010\n",
      "[19]\teval-mlogloss:0.80339\n",
      "20 {'n_estimators': 20, 'learning_rate': 0.1, 'max_depth': 5, 'random_state': 1337, 'dtrain': <xgboost.core.DMatrix object at 0x00000000246114F0>, 'dtest': <xgboost.core.DMatrix object at 0x00000000245776E0>}\n",
      "[0]\teval-mlogloss:1.76436\n"
     ]
    },
    {
     "name": "stderr",
     "output_type": "stream",
     "text": [
      "S:\\anaconda\\envs\\study\\Lib\\site-packages\\xgboost\\training.py:183: UserWarning: [17:34:27] WARNING: C:\\b\\abs_d97hy_84m6\\croot\\xgboost-split_1749630932152\\work\\src\\learner.cc:738: \n",
      "Parameters: { \"early_stopping_rounds\" } are not used.\n",
      "\n",
      "  bst.update(dtrain, iteration=i, fobj=obj)\n"
     ]
    },
    {
     "name": "stdout",
     "output_type": "stream",
     "text": [
      "[10]\teval-mlogloss:0.99961\n",
      "[19]\teval-mlogloss:0.76544\n",
      "21 {'n_estimators': 20, 'learning_rate': 0.2, 'max_depth': 3, 'random_state': 1337, 'dtrain': <xgboost.core.DMatrix object at 0x00000000246114F0>, 'dtest': <xgboost.core.DMatrix object at 0x00000000245776E0>}\n",
      "[0]\teval-mlogloss:1.62203\n"
     ]
    },
    {
     "name": "stderr",
     "output_type": "stream",
     "text": [
      "S:\\anaconda\\envs\\study\\Lib\\site-packages\\xgboost\\training.py:183: UserWarning: [17:34:28] WARNING: C:\\b\\abs_d97hy_84m6\\croot\\xgboost-split_1749630932152\\work\\src\\learner.cc:738: \n",
      "Parameters: { \"early_stopping_rounds\" } are not used.\n",
      "\n",
      "  bst.update(dtrain, iteration=i, fobj=obj)\n"
     ]
    },
    {
     "name": "stdout",
     "output_type": "stream",
     "text": [
      "[10]\teval-mlogloss:0.80039\n",
      "[19]\teval-mlogloss:0.66477\n",
      "22 {'n_estimators': 20, 'learning_rate': 0.2, 'max_depth': 4, 'random_state': 1337, 'dtrain': <xgboost.core.DMatrix object at 0x00000000246114F0>, 'dtest': <xgboost.core.DMatrix object at 0x00000000245776E0>}\n",
      "[0]\teval-mlogloss:1.61078\n"
     ]
    },
    {
     "name": "stderr",
     "output_type": "stream",
     "text": [
      "S:\\anaconda\\envs\\study\\Lib\\site-packages\\xgboost\\training.py:183: UserWarning: [17:34:29] WARNING: C:\\b\\abs_d97hy_84m6\\croot\\xgboost-split_1749630932152\\work\\src\\learner.cc:738: \n",
      "Parameters: { \"early_stopping_rounds\" } are not used.\n",
      "\n",
      "  bst.update(dtrain, iteration=i, fobj=obj)\n"
     ]
    },
    {
     "name": "stdout",
     "output_type": "stream",
     "text": [
      "[10]\teval-mlogloss:0.76284\n",
      "[19]\teval-mlogloss:0.62367\n",
      "23 {'n_estimators': 20, 'learning_rate': 0.2, 'max_depth': 5, 'random_state': 1337, 'dtrain': <xgboost.core.DMatrix object at 0x00000000246114F0>, 'dtest': <xgboost.core.DMatrix object at 0x00000000245776E0>}\n",
      "[0]\teval-mlogloss:1.59557\n"
     ]
    },
    {
     "name": "stderr",
     "output_type": "stream",
     "text": [
      "S:\\anaconda\\envs\\study\\Lib\\site-packages\\xgboost\\training.py:183: UserWarning: [17:34:30] WARNING: C:\\b\\abs_d97hy_84m6\\croot\\xgboost-split_1749630932152\\work\\src\\learner.cc:738: \n",
      "Parameters: { \"early_stopping_rounds\" } are not used.\n",
      "\n",
      "  bst.update(dtrain, iteration=i, fobj=obj)\n"
     ]
    },
    {
     "name": "stdout",
     "output_type": "stream",
     "text": [
      "[10]\teval-mlogloss:0.72438\n",
      "[19]\teval-mlogloss:0.57953\n",
      "24 {'n_estimators': 20, 'learning_rate': 0.05, 'max_depth': 3, 'random_state': 1337, 'dtrain': <xgboost.core.DMatrix object at 0x00000000246114F0>, 'dtest': <xgboost.core.DMatrix object at 0x00000000245776E0>}\n",
      "[0]\teval-mlogloss:1.86067\n"
     ]
    },
    {
     "name": "stderr",
     "output_type": "stream",
     "text": [
      "S:\\anaconda\\envs\\study\\Lib\\site-packages\\xgboost\\training.py:183: UserWarning: [17:34:31] WARNING: C:\\b\\abs_d97hy_84m6\\croot\\xgboost-split_1749630932152\\work\\src\\learner.cc:738: \n",
      "Parameters: { \"early_stopping_rounds\" } are not used.\n",
      "\n",
      "  bst.update(dtrain, iteration=i, fobj=obj)\n"
     ]
    },
    {
     "name": "stdout",
     "output_type": "stream",
     "text": [
      "[10]\teval-mlogloss:1.35014\n",
      "[19]\teval-mlogloss:1.11247\n",
      "25 {'n_estimators': 20, 'learning_rate': 0.05, 'max_depth': 4, 'random_state': 1337, 'dtrain': <xgboost.core.DMatrix object at 0x00000000246114F0>, 'dtest': <xgboost.core.DMatrix object at 0x00000000245776E0>}\n",
      "[0]\teval-mlogloss:1.85770\n"
     ]
    },
    {
     "name": "stderr",
     "output_type": "stream",
     "text": [
      "S:\\anaconda\\envs\\study\\Lib\\site-packages\\sklearn\\metrics\\_classification.py:1565: UndefinedMetricWarning: Precision is ill-defined and being set to 0.0 in labels with no predicted samples. Use `zero_division` parameter to control this behavior.\n",
      "  _warn_prf(average, modifier, f\"{metric.capitalize()} is\", len(result))\n",
      "S:\\anaconda\\envs\\study\\Lib\\site-packages\\sklearn\\metrics\\_classification.py:1565: UndefinedMetricWarning: Precision is ill-defined and being set to 0.0 in labels with no predicted samples. Use `zero_division` parameter to control this behavior.\n",
      "  _warn_prf(average, modifier, f\"{metric.capitalize()} is\", len(result))\n",
      "S:\\anaconda\\envs\\study\\Lib\\site-packages\\sklearn\\metrics\\_classification.py:1565: UndefinedMetricWarning: Precision is ill-defined and being set to 0.0 in labels with no predicted samples. Use `zero_division` parameter to control this behavior.\n",
      "  _warn_prf(average, modifier, f\"{metric.capitalize()} is\", len(result))\n",
      "S:\\anaconda\\envs\\study\\Lib\\site-packages\\xgboost\\training.py:183: UserWarning: [17:34:32] WARNING: C:\\b\\abs_d97hy_84m6\\croot\\xgboost-split_1749630932152\\work\\src\\learner.cc:738: \n",
      "Parameters: { \"early_stopping_rounds\" } are not used.\n",
      "\n",
      "  bst.update(dtrain, iteration=i, fobj=obj)\n"
     ]
    },
    {
     "name": "stdout",
     "output_type": "stream",
     "text": [
      "[10]\teval-mlogloss:1.32654\n",
      "[19]\teval-mlogloss:1.08136\n",
      "26 {'n_estimators': 20, 'learning_rate': 0.05, 'max_depth': 5, 'random_state': 1337, 'dtrain': <xgboost.core.DMatrix object at 0x00000000246114F0>, 'dtest': <xgboost.core.DMatrix object at 0x00000000245776E0>}\n",
      "[0]\teval-mlogloss:1.85366\n"
     ]
    },
    {
     "name": "stderr",
     "output_type": "stream",
     "text": [
      "S:\\anaconda\\envs\\study\\Lib\\site-packages\\xgboost\\training.py:183: UserWarning: [17:34:33] WARNING: C:\\b\\abs_d97hy_84m6\\croot\\xgboost-split_1749630932152\\work\\src\\learner.cc:738: \n",
      "Parameters: { \"early_stopping_rounds\" } are not used.\n",
      "\n",
      "  bst.update(dtrain, iteration=i, fobj=obj)\n"
     ]
    },
    {
     "name": "stdout",
     "output_type": "stream",
     "text": [
      "[10]\teval-mlogloss:1.30440\n",
      "[19]\teval-mlogloss:1.05215\n",
      "27 {'n_estimators': 200, 'learning_rate': 0.1, 'max_depth': 3, 'random_state': 1337, 'dtrain': <xgboost.core.DMatrix object at 0x00000000246114F0>, 'dtest': <xgboost.core.DMatrix object at 0x00000000245776E0>}\n",
      "[0]\teval-mlogloss:1.77815\n"
     ]
    },
    {
     "name": "stderr",
     "output_type": "stream",
     "text": [
      "S:\\anaconda\\envs\\study\\Lib\\site-packages\\xgboost\\training.py:183: UserWarning: [17:34:34] WARNING: C:\\b\\abs_d97hy_84m6\\croot\\xgboost-split_1749630932152\\work\\src\\learner.cc:738: \n",
      "Parameters: { \"early_stopping_rounds\" } are not used.\n",
      "\n",
      "  bst.update(dtrain, iteration=i, fobj=obj)\n"
     ]
    },
    {
     "name": "stdout",
     "output_type": "stream",
     "text": [
      "[10]\teval-mlogloss:1.06236\n",
      "[20]\teval-mlogloss:0.82521\n",
      "[30]\teval-mlogloss:0.71946\n",
      "[40]\teval-mlogloss:0.66409\n",
      "[50]\teval-mlogloss:0.63137\n",
      "[60]\teval-mlogloss:0.60906\n",
      "[70]\teval-mlogloss:0.59371\n",
      "[80]\teval-mlogloss:0.58233\n",
      "[90]\teval-mlogloss:0.57272\n",
      "[100]\teval-mlogloss:0.56489\n",
      "[110]\teval-mlogloss:0.55837\n",
      "[120]\teval-mlogloss:0.55144\n",
      "[130]\teval-mlogloss:0.54600\n",
      "[140]\teval-mlogloss:0.54035\n",
      "[150]\teval-mlogloss:0.53434\n",
      "[160]\teval-mlogloss:0.52971\n",
      "[170]\teval-mlogloss:0.52496\n",
      "[180]\teval-mlogloss:0.52094\n",
      "[190]\teval-mlogloss:0.51694\n",
      "[199]\teval-mlogloss:0.51303\n",
      "28 {'n_estimators': 200, 'learning_rate': 0.1, 'max_depth': 4, 'random_state': 1337, 'dtrain': <xgboost.core.DMatrix object at 0x00000000246114F0>, 'dtest': <xgboost.core.DMatrix object at 0x00000000245776E0>}\n",
      "[0]\teval-mlogloss:1.77230\n"
     ]
    },
    {
     "name": "stderr",
     "output_type": "stream",
     "text": [
      "S:\\anaconda\\envs\\study\\Lib\\site-packages\\xgboost\\training.py:183: UserWarning: [17:34:44] WARNING: C:\\b\\abs_d97hy_84m6\\croot\\xgboost-split_1749630932152\\work\\src\\learner.cc:738: \n",
      "Parameters: { \"early_stopping_rounds\" } are not used.\n",
      "\n",
      "  bst.update(dtrain, iteration=i, fobj=obj)\n"
     ]
    },
    {
     "name": "stdout",
     "output_type": "stream",
     "text": [
      "[10]\teval-mlogloss:1.03010\n",
      "[20]\teval-mlogloss:0.78630\n",
      "[30]\teval-mlogloss:0.67817\n",
      "[40]\teval-mlogloss:0.62118\n",
      "[50]\teval-mlogloss:0.58623\n",
      "[60]\teval-mlogloss:0.56250\n",
      "[70]\teval-mlogloss:0.54628\n",
      "[80]\teval-mlogloss:0.53499\n",
      "[90]\teval-mlogloss:0.52484\n",
      "[100]\teval-mlogloss:0.51648\n",
      "[110]\teval-mlogloss:0.50924\n",
      "[120]\teval-mlogloss:0.50197\n",
      "[130]\teval-mlogloss:0.49605\n",
      "[140]\teval-mlogloss:0.49001\n",
      "[150]\teval-mlogloss:0.48382\n",
      "[160]\teval-mlogloss:0.47842\n",
      "[170]\teval-mlogloss:0.47335\n",
      "[180]\teval-mlogloss:0.46795\n",
      "[190]\teval-mlogloss:0.46361\n",
      "[199]\teval-mlogloss:0.45951\n",
      "29 {'n_estimators': 200, 'learning_rate': 0.1, 'max_depth': 5, 'random_state': 1337, 'dtrain': <xgboost.core.DMatrix object at 0x00000000246114F0>, 'dtest': <xgboost.core.DMatrix object at 0x00000000245776E0>}\n",
      "[0]\teval-mlogloss:1.76436\n"
     ]
    },
    {
     "name": "stderr",
     "output_type": "stream",
     "text": [
      "S:\\anaconda\\envs\\study\\Lib\\site-packages\\xgboost\\training.py:183: UserWarning: [17:34:54] WARNING: C:\\b\\abs_d97hy_84m6\\croot\\xgboost-split_1749630932152\\work\\src\\learner.cc:738: \n",
      "Parameters: { \"early_stopping_rounds\" } are not used.\n",
      "\n",
      "  bst.update(dtrain, iteration=i, fobj=obj)\n"
     ]
    },
    {
     "name": "stdout",
     "output_type": "stream",
     "text": [
      "[10]\teval-mlogloss:0.99961\n",
      "[20]\teval-mlogloss:0.74785\n",
      "[30]\teval-mlogloss:0.63551\n",
      "[40]\teval-mlogloss:0.57827\n",
      "[50]\teval-mlogloss:0.54190\n",
      "[60]\teval-mlogloss:0.51655\n",
      "[70]\teval-mlogloss:0.50039\n",
      "[80]\teval-mlogloss:0.48832\n",
      "[90]\teval-mlogloss:0.47825\n",
      "[100]\teval-mlogloss:0.46873\n",
      "[110]\teval-mlogloss:0.46065\n",
      "[120]\teval-mlogloss:0.45350\n",
      "[130]\teval-mlogloss:0.44726\n",
      "[140]\teval-mlogloss:0.44021\n",
      "[150]\teval-mlogloss:0.43348\n",
      "[160]\teval-mlogloss:0.42715\n",
      "[170]\teval-mlogloss:0.42167\n",
      "[180]\teval-mlogloss:0.41661\n",
      "[190]\teval-mlogloss:0.41124\n",
      "[199]\teval-mlogloss:0.40586\n",
      "30 {'n_estimators': 200, 'learning_rate': 0.2, 'max_depth': 3, 'random_state': 1337, 'dtrain': <xgboost.core.DMatrix object at 0x00000000246114F0>, 'dtest': <xgboost.core.DMatrix object at 0x00000000245776E0>}\n",
      "[0]\teval-mlogloss:1.62203\n"
     ]
    },
    {
     "name": "stderr",
     "output_type": "stream",
     "text": [
      "S:\\anaconda\\envs\\study\\Lib\\site-packages\\xgboost\\training.py:183: UserWarning: [17:35:04] WARNING: C:\\b\\abs_d97hy_84m6\\croot\\xgboost-split_1749630932152\\work\\src\\learner.cc:738: \n",
      "Parameters: { \"early_stopping_rounds\" } are not used.\n",
      "\n",
      "  bst.update(dtrain, iteration=i, fobj=obj)\n"
     ]
    },
    {
     "name": "stdout",
     "output_type": "stream",
     "text": [
      "[10]\teval-mlogloss:0.80039\n",
      "[20]\teval-mlogloss:0.65663\n",
      "[30]\teval-mlogloss:0.60388\n",
      "[40]\teval-mlogloss:0.57895\n",
      "[50]\teval-mlogloss:0.56317\n",
      "[60]\teval-mlogloss:0.54930\n",
      "[70]\teval-mlogloss:0.53805\n",
      "[80]\teval-mlogloss:0.52873\n",
      "[90]\teval-mlogloss:0.51988\n",
      "[100]\teval-mlogloss:0.51261\n",
      "[110]\teval-mlogloss:0.50479\n",
      "[120]\teval-mlogloss:0.49812\n",
      "[130]\teval-mlogloss:0.49183\n",
      "[140]\teval-mlogloss:0.48686\n",
      "[150]\teval-mlogloss:0.48220\n",
      "[160]\teval-mlogloss:0.47753\n",
      "[170]\teval-mlogloss:0.47372\n",
      "[180]\teval-mlogloss:0.46978\n",
      "[190]\teval-mlogloss:0.46526\n",
      "[199]\teval-mlogloss:0.46186\n",
      "31 {'n_estimators': 200, 'learning_rate': 0.2, 'max_depth': 4, 'random_state': 1337, 'dtrain': <xgboost.core.DMatrix object at 0x00000000246114F0>, 'dtest': <xgboost.core.DMatrix object at 0x00000000245776E0>}\n",
      "[0]\teval-mlogloss:1.61078\n"
     ]
    },
    {
     "name": "stderr",
     "output_type": "stream",
     "text": [
      "S:\\anaconda\\envs\\study\\Lib\\site-packages\\xgboost\\training.py:183: UserWarning: [17:35:14] WARNING: C:\\b\\abs_d97hy_84m6\\croot\\xgboost-split_1749630932152\\work\\src\\learner.cc:738: \n",
      "Parameters: { \"early_stopping_rounds\" } are not used.\n",
      "\n",
      "  bst.update(dtrain, iteration=i, fobj=obj)\n"
     ]
    },
    {
     "name": "stdout",
     "output_type": "stream",
     "text": [
      "[10]\teval-mlogloss:0.76284\n",
      "[20]\teval-mlogloss:0.61411\n",
      "[30]\teval-mlogloss:0.55923\n",
      "[40]\teval-mlogloss:0.53260\n",
      "[50]\teval-mlogloss:0.51479\n",
      "[60]\teval-mlogloss:0.50072\n",
      "[70]\teval-mlogloss:0.48865\n",
      "[80]\teval-mlogloss:0.47721\n",
      "[90]\teval-mlogloss:0.46854\n",
      "[100]\teval-mlogloss:0.45926\n",
      "[110]\teval-mlogloss:0.44897\n",
      "[120]\teval-mlogloss:0.44216\n",
      "[130]\teval-mlogloss:0.43463\n",
      "[140]\teval-mlogloss:0.42718\n",
      "[150]\teval-mlogloss:0.42042\n",
      "[160]\teval-mlogloss:0.41472\n",
      "[170]\teval-mlogloss:0.40995\n",
      "[180]\teval-mlogloss:0.40492\n",
      "[190]\teval-mlogloss:0.40020\n",
      "[199]\teval-mlogloss:0.39530\n",
      "32 {'n_estimators': 200, 'learning_rate': 0.2, 'max_depth': 5, 'random_state': 1337, 'dtrain': <xgboost.core.DMatrix object at 0x00000000246114F0>, 'dtest': <xgboost.core.DMatrix object at 0x00000000245776E0>}\n",
      "[0]\teval-mlogloss:1.59557\n"
     ]
    },
    {
     "name": "stderr",
     "output_type": "stream",
     "text": [
      "S:\\anaconda\\envs\\study\\Lib\\site-packages\\xgboost\\training.py:183: UserWarning: [17:35:24] WARNING: C:\\b\\abs_d97hy_84m6\\croot\\xgboost-split_1749630932152\\work\\src\\learner.cc:738: \n",
      "Parameters: { \"early_stopping_rounds\" } are not used.\n",
      "\n",
      "  bst.update(dtrain, iteration=i, fobj=obj)\n"
     ]
    },
    {
     "name": "stdout",
     "output_type": "stream",
     "text": [
      "[10]\teval-mlogloss:0.72438\n",
      "[20]\teval-mlogloss:0.57084\n",
      "[30]\teval-mlogloss:0.51565\n",
      "[40]\teval-mlogloss:0.48780\n",
      "[50]\teval-mlogloss:0.46648\n",
      "[60]\teval-mlogloss:0.44949\n",
      "[70]\teval-mlogloss:0.43730\n",
      "[80]\teval-mlogloss:0.42454\n",
      "[90]\teval-mlogloss:0.41176\n",
      "[100]\teval-mlogloss:0.40033\n",
      "[110]\teval-mlogloss:0.39074\n",
      "[120]\teval-mlogloss:0.38243\n",
      "[130]\teval-mlogloss:0.37518\n",
      "[140]\teval-mlogloss:0.36805\n",
      "[150]\teval-mlogloss:0.36068\n",
      "[160]\teval-mlogloss:0.35409\n",
      "[170]\teval-mlogloss:0.34860\n",
      "[180]\teval-mlogloss:0.34175\n",
      "[190]\teval-mlogloss:0.33534\n",
      "[199]\teval-mlogloss:0.32942\n",
      "33 {'n_estimators': 200, 'learning_rate': 0.05, 'max_depth': 3, 'random_state': 1337, 'dtrain': <xgboost.core.DMatrix object at 0x00000000246114F0>, 'dtest': <xgboost.core.DMatrix object at 0x00000000245776E0>}\n",
      "[0]\teval-mlogloss:1.86067\n"
     ]
    },
    {
     "name": "stderr",
     "output_type": "stream",
     "text": [
      "S:\\anaconda\\envs\\study\\Lib\\site-packages\\xgboost\\training.py:183: UserWarning: [17:35:35] WARNING: C:\\b\\abs_d97hy_84m6\\croot\\xgboost-split_1749630932152\\work\\src\\learner.cc:738: \n",
      "Parameters: { \"early_stopping_rounds\" } are not used.\n",
      "\n",
      "  bst.update(dtrain, iteration=i, fobj=obj)\n"
     ]
    },
    {
     "name": "stdout",
     "output_type": "stream",
     "text": [
      "[10]\teval-mlogloss:1.35014\n",
      "[20]\teval-mlogloss:1.09154\n",
      "[30]\teval-mlogloss:0.93527\n",
      "[40]\teval-mlogloss:0.83685\n",
      "[50]\teval-mlogloss:0.77129\n",
      "[60]\teval-mlogloss:0.72621\n",
      "[70]\teval-mlogloss:0.69297\n",
      "[80]\teval-mlogloss:0.66854\n",
      "[90]\teval-mlogloss:0.64917\n",
      "[100]\teval-mlogloss:0.63373\n",
      "[110]\teval-mlogloss:0.62132\n",
      "[120]\teval-mlogloss:0.61081\n",
      "[130]\teval-mlogloss:0.60203\n",
      "[140]\teval-mlogloss:0.59473\n",
      "[150]\teval-mlogloss:0.58850\n",
      "[160]\teval-mlogloss:0.58265\n",
      "[170]\teval-mlogloss:0.57818\n",
      "[180]\teval-mlogloss:0.57375\n",
      "[190]\teval-mlogloss:0.56987\n",
      "[199]\teval-mlogloss:0.56654\n",
      "34 {'n_estimators': 200, 'learning_rate': 0.05, 'max_depth': 4, 'random_state': 1337, 'dtrain': <xgboost.core.DMatrix object at 0x00000000246114F0>, 'dtest': <xgboost.core.DMatrix object at 0x00000000245776E0>}\n",
      "[0]\teval-mlogloss:1.85770\n"
     ]
    },
    {
     "name": "stderr",
     "output_type": "stream",
     "text": [
      "S:\\anaconda\\envs\\study\\Lib\\site-packages\\xgboost\\training.py:183: UserWarning: [17:35:44] WARNING: C:\\b\\abs_d97hy_84m6\\croot\\xgboost-split_1749630932152\\work\\src\\learner.cc:738: \n",
      "Parameters: { \"early_stopping_rounds\" } are not used.\n",
      "\n",
      "  bst.update(dtrain, iteration=i, fobj=obj)\n"
     ]
    },
    {
     "name": "stdout",
     "output_type": "stream",
     "text": [
      "[10]\teval-mlogloss:1.32654\n",
      "[20]\teval-mlogloss:1.05990\n",
      "[30]\teval-mlogloss:0.89889\n",
      "[40]\teval-mlogloss:0.79810\n",
      "[50]\teval-mlogloss:0.73073\n",
      "[60]\teval-mlogloss:0.68473\n",
      "[70]\teval-mlogloss:0.65042\n",
      "[80]\teval-mlogloss:0.62442\n",
      "[90]\teval-mlogloss:0.60439\n",
      "[100]\teval-mlogloss:0.58836\n",
      "[110]\teval-mlogloss:0.57525\n",
      "[120]\teval-mlogloss:0.56489\n",
      "[130]\teval-mlogloss:0.55567\n",
      "[140]\teval-mlogloss:0.54753\n",
      "[150]\teval-mlogloss:0.54114\n",
      "[160]\teval-mlogloss:0.53542\n",
      "[170]\teval-mlogloss:0.53013\n",
      "[180]\teval-mlogloss:0.52559\n",
      "[190]\teval-mlogloss:0.52114\n",
      "[199]\teval-mlogloss:0.51785\n",
      "35 {'n_estimators': 200, 'learning_rate': 0.05, 'max_depth': 5, 'random_state': 1337, 'dtrain': <xgboost.core.DMatrix object at 0x00000000246114F0>, 'dtest': <xgboost.core.DMatrix object at 0x00000000245776E0>}\n",
      "[0]\teval-mlogloss:1.85366\n"
     ]
    },
    {
     "name": "stderr",
     "output_type": "stream",
     "text": [
      "S:\\anaconda\\envs\\study\\Lib\\site-packages\\xgboost\\training.py:183: UserWarning: [17:35:54] WARNING: C:\\b\\abs_d97hy_84m6\\croot\\xgboost-split_1749630932152\\work\\src\\learner.cc:738: \n",
      "Parameters: { \"early_stopping_rounds\" } are not used.\n",
      "\n",
      "  bst.update(dtrain, iteration=i, fobj=obj)\n"
     ]
    },
    {
     "name": "stdout",
     "output_type": "stream",
     "text": [
      "[10]\teval-mlogloss:1.30440\n",
      "[20]\teval-mlogloss:1.03004\n",
      "[30]\teval-mlogloss:0.86455\n",
      "[40]\teval-mlogloss:0.76068\n",
      "[50]\teval-mlogloss:0.69114\n",
      "[60]\teval-mlogloss:0.64407\n",
      "[70]\teval-mlogloss:0.60928\n",
      "[80]\teval-mlogloss:0.58244\n",
      "[90]\teval-mlogloss:0.56155\n",
      "[100]\teval-mlogloss:0.54540\n",
      "[110]\teval-mlogloss:0.53224\n",
      "[120]\teval-mlogloss:0.52139\n",
      "[130]\teval-mlogloss:0.51234\n",
      "[140]\teval-mlogloss:0.50471\n",
      "[150]\teval-mlogloss:0.49781\n",
      "[160]\teval-mlogloss:0.49155\n",
      "[170]\teval-mlogloss:0.48613\n",
      "[180]\teval-mlogloss:0.48103\n",
      "[190]\teval-mlogloss:0.47627\n",
      "[199]\teval-mlogloss:0.47277\n"
     ]
    },
    {
     "name": "stderr",
     "output_type": "stream",
     "text": [
      "C:\\Users\\nikol\\AppData\\Local\\Temp\\ipykernel_14832\\3180493565.py:13: FutureWarning: Calling int on a single element Series is deprecated and will raise a TypeError in the future. Use int(ser.iloc[0]) instead\n",
      "  num_classes = int(d[d.target_features].nunique()) # ИСПРАВЛЕНИЕ: Количество уникальных классов\n"
     ]
    },
    {
     "name": "stdout",
     "output_type": "stream",
     "text": [
      "36\n",
      "0 {'n_estimators': 100, 'learning_rate': 0.1, 'max_depth': 3, 'random_state': 1337, 'dtrain': <xgboost.core.DMatrix object at 0x0000000024645610>, 'dtest': <xgboost.core.DMatrix object at 0x000000002460B950>}\n",
      "[0]\teval-mlogloss:1.79174\n"
     ]
    },
    {
     "name": "stderr",
     "output_type": "stream",
     "text": [
      "S:\\anaconda\\envs\\study\\Lib\\site-packages\\xgboost\\training.py:183: UserWarning: [17:36:05] WARNING: C:\\b\\abs_d97hy_84m6\\croot\\xgboost-split_1749630932152\\work\\src\\learner.cc:738: \n",
      "Parameters: { \"early_stopping_rounds\" } are not used.\n",
      "\n",
      "  bst.update(dtrain, iteration=i, fobj=obj)\n"
     ]
    },
    {
     "name": "stdout",
     "output_type": "stream",
     "text": [
      "[10]\teval-mlogloss:1.06306\n",
      "[20]\teval-mlogloss:0.83146\n",
      "[30]\teval-mlogloss:0.72482\n",
      "[40]\teval-mlogloss:0.67007\n",
      "[50]\teval-mlogloss:0.63507\n",
      "[60]\teval-mlogloss:0.61190\n",
      "[70]\teval-mlogloss:0.59644\n",
      "[80]\teval-mlogloss:0.58535\n",
      "[90]\teval-mlogloss:0.57653\n",
      "[99]\teval-mlogloss:0.56966\n",
      "1 {'n_estimators': 100, 'learning_rate': 0.1, 'max_depth': 4, 'random_state': 1337, 'dtrain': <xgboost.core.DMatrix object at 0x0000000024645610>, 'dtest': <xgboost.core.DMatrix object at 0x000000002460B950>}\n",
      "[0]\teval-mlogloss:1.78459\n"
     ]
    },
    {
     "name": "stderr",
     "output_type": "stream",
     "text": [
      "S:\\anaconda\\envs\\study\\Lib\\site-packages\\xgboost\\training.py:183: UserWarning: [17:36:12] WARNING: C:\\b\\abs_d97hy_84m6\\croot\\xgboost-split_1749630932152\\work\\src\\learner.cc:738: \n",
      "Parameters: { \"early_stopping_rounds\" } are not used.\n",
      "\n",
      "  bst.update(dtrain, iteration=i, fobj=obj)\n"
     ]
    },
    {
     "name": "stdout",
     "output_type": "stream",
     "text": [
      "[10]\teval-mlogloss:1.03055\n",
      "[20]\teval-mlogloss:0.79216\n",
      "[30]\teval-mlogloss:0.68293\n",
      "[40]\teval-mlogloss:0.62503\n",
      "[50]\teval-mlogloss:0.58897\n",
      "[60]\teval-mlogloss:0.56516\n",
      "[70]\teval-mlogloss:0.54917\n",
      "[80]\teval-mlogloss:0.53739\n",
      "[90]\teval-mlogloss:0.52831\n",
      "[99]\teval-mlogloss:0.52040\n",
      "2 {'n_estimators': 100, 'learning_rate': 0.1, 'max_depth': 5, 'random_state': 1337, 'dtrain': <xgboost.core.DMatrix object at 0x0000000024645610>, 'dtest': <xgboost.core.DMatrix object at 0x000000002460B950>}\n",
      "[0]\teval-mlogloss:1.77739\n"
     ]
    },
    {
     "name": "stderr",
     "output_type": "stream",
     "text": [
      "S:\\anaconda\\envs\\study\\Lib\\site-packages\\xgboost\\training.py:183: UserWarning: [17:36:19] WARNING: C:\\b\\abs_d97hy_84m6\\croot\\xgboost-split_1749630932152\\work\\src\\learner.cc:738: \n",
      "Parameters: { \"early_stopping_rounds\" } are not used.\n",
      "\n",
      "  bst.update(dtrain, iteration=i, fobj=obj)\n"
     ]
    },
    {
     "name": "stdout",
     "output_type": "stream",
     "text": [
      "[10]\teval-mlogloss:1.00019\n",
      "[20]\teval-mlogloss:0.75305\n",
      "[30]\teval-mlogloss:0.64068\n",
      "[40]\teval-mlogloss:0.58149\n",
      "[50]\teval-mlogloss:0.54434\n",
      "[60]\teval-mlogloss:0.52079\n",
      "[70]\teval-mlogloss:0.50437\n",
      "[80]\teval-mlogloss:0.49227\n",
      "[90]\teval-mlogloss:0.48177\n",
      "[99]\teval-mlogloss:0.47442\n",
      "3 {'n_estimators': 100, 'learning_rate': 0.2, 'max_depth': 3, 'random_state': 1337, 'dtrain': <xgboost.core.DMatrix object at 0x0000000024645610>, 'dtest': <xgboost.core.DMatrix object at 0x000000002460B950>}\n",
      "[0]\teval-mlogloss:1.64770\n"
     ]
    },
    {
     "name": "stderr",
     "output_type": "stream",
     "text": [
      "S:\\anaconda\\envs\\study\\Lib\\site-packages\\xgboost\\training.py:183: UserWarning: [17:36:27] WARNING: C:\\b\\abs_d97hy_84m6\\croot\\xgboost-split_1749630932152\\work\\src\\learner.cc:738: \n",
      "Parameters: { \"early_stopping_rounds\" } are not used.\n",
      "\n",
      "  bst.update(dtrain, iteration=i, fobj=obj)\n"
     ]
    },
    {
     "name": "stdout",
     "output_type": "stream",
     "text": [
      "[10]\teval-mlogloss:0.80208\n",
      "[20]\teval-mlogloss:0.66102\n",
      "[30]\teval-mlogloss:0.60853\n",
      "[40]\teval-mlogloss:0.58207\n",
      "[50]\teval-mlogloss:0.56583\n",
      "[60]\teval-mlogloss:0.55337\n",
      "[70]\teval-mlogloss:0.54284\n",
      "[80]\teval-mlogloss:0.53331\n",
      "[90]\teval-mlogloss:0.52515\n",
      "[99]\teval-mlogloss:0.51731\n",
      "4 {'n_estimators': 100, 'learning_rate': 0.2, 'max_depth': 4, 'random_state': 1337, 'dtrain': <xgboost.core.DMatrix object at 0x0000000024645610>, 'dtest': <xgboost.core.DMatrix object at 0x000000002460B950>}\n",
      "[0]\teval-mlogloss:1.63396\n"
     ]
    },
    {
     "name": "stderr",
     "output_type": "stream",
     "text": [
      "S:\\anaconda\\envs\\study\\Lib\\site-packages\\xgboost\\training.py:183: UserWarning: [17:36:34] WARNING: C:\\b\\abs_d97hy_84m6\\croot\\xgboost-split_1749630932152\\work\\src\\learner.cc:738: \n",
      "Parameters: { \"early_stopping_rounds\" } are not used.\n",
      "\n",
      "  bst.update(dtrain, iteration=i, fobj=obj)\n"
     ]
    },
    {
     "name": "stdout",
     "output_type": "stream",
     "text": [
      "[10]\teval-mlogloss:0.76368\n",
      "[20]\teval-mlogloss:0.61715\n",
      "[30]\teval-mlogloss:0.56271\n",
      "[40]\teval-mlogloss:0.53598\n",
      "[50]\teval-mlogloss:0.51815\n",
      "[60]\teval-mlogloss:0.50496\n",
      "[70]\teval-mlogloss:0.49163\n",
      "[80]\teval-mlogloss:0.48148\n",
      "[90]\teval-mlogloss:0.47118\n",
      "[99]\teval-mlogloss:0.46352\n",
      "5 {'n_estimators': 100, 'learning_rate': 0.2, 'max_depth': 5, 'random_state': 1337, 'dtrain': <xgboost.core.DMatrix object at 0x0000000024645610>, 'dtest': <xgboost.core.DMatrix object at 0x000000002460B950>}\n",
      "[0]\teval-mlogloss:1.62013\n"
     ]
    },
    {
     "name": "stderr",
     "output_type": "stream",
     "text": [
      "S:\\anaconda\\envs\\study\\Lib\\site-packages\\xgboost\\training.py:183: UserWarning: [17:36:42] WARNING: C:\\b\\abs_d97hy_84m6\\croot\\xgboost-split_1749630932152\\work\\src\\learner.cc:738: \n",
      "Parameters: { \"early_stopping_rounds\" } are not used.\n",
      "\n",
      "  bst.update(dtrain, iteration=i, fobj=obj)\n"
     ]
    },
    {
     "name": "stdout",
     "output_type": "stream",
     "text": [
      "[10]\teval-mlogloss:0.72492\n",
      "[20]\teval-mlogloss:0.57320\n",
      "[30]\teval-mlogloss:0.51645\n",
      "[40]\teval-mlogloss:0.48636\n",
      "[50]\teval-mlogloss:0.46836\n",
      "[60]\teval-mlogloss:0.45602\n",
      "[70]\teval-mlogloss:0.44313\n",
      "[80]\teval-mlogloss:0.43200\n",
      "[90]\teval-mlogloss:0.42129\n",
      "[99]\teval-mlogloss:0.41030\n",
      "6 {'n_estimators': 100, 'learning_rate': 0.05, 'max_depth': 3, 'random_state': 1337, 'dtrain': <xgboost.core.DMatrix object at 0x0000000024645610>, 'dtest': <xgboost.core.DMatrix object at 0x000000002460B950>}\n",
      "[0]\teval-mlogloss:1.86763\n"
     ]
    },
    {
     "name": "stderr",
     "output_type": "stream",
     "text": [
      "S:\\anaconda\\envs\\study\\Lib\\site-packages\\xgboost\\training.py:183: UserWarning: [17:36:50] WARNING: C:\\b\\abs_d97hy_84m6\\croot\\xgboost-split_1749630932152\\work\\src\\learner.cc:738: \n",
      "Parameters: { \"early_stopping_rounds\" } are not used.\n",
      "\n",
      "  bst.update(dtrain, iteration=i, fobj=obj)\n"
     ]
    },
    {
     "name": "stdout",
     "output_type": "stream",
     "text": [
      "[10]\teval-mlogloss:1.34799\n",
      "[20]\teval-mlogloss:1.09466\n",
      "[30]\teval-mlogloss:0.94123\n",
      "[40]\teval-mlogloss:0.84295\n",
      "[50]\teval-mlogloss:0.77689\n",
      "[60]\teval-mlogloss:0.73101\n",
      "[70]\teval-mlogloss:0.69825\n",
      "[80]\teval-mlogloss:0.67326\n",
      "[90]\teval-mlogloss:0.65370\n",
      "[99]\teval-mlogloss:0.63916\n",
      "7 {'n_estimators': 100, 'learning_rate': 0.05, 'max_depth': 4, 'random_state': 1337, 'dtrain': <xgboost.core.DMatrix object at 0x0000000024645610>, 'dtest': <xgboost.core.DMatrix object at 0x000000002460B950>}\n",
      "[0]\teval-mlogloss:1.86399\n"
     ]
    },
    {
     "name": "stderr",
     "output_type": "stream",
     "text": [
      "S:\\anaconda\\envs\\study\\Lib\\site-packages\\xgboost\\training.py:183: UserWarning: [17:36:56] WARNING: C:\\b\\abs_d97hy_84m6\\croot\\xgboost-split_1749630932152\\work\\src\\learner.cc:738: \n",
      "Parameters: { \"early_stopping_rounds\" } are not used.\n",
      "\n",
      "  bst.update(dtrain, iteration=i, fobj=obj)\n"
     ]
    },
    {
     "name": "stdout",
     "output_type": "stream",
     "text": [
      "[10]\teval-mlogloss:1.32585\n",
      "[20]\teval-mlogloss:1.06347\n",
      "[30]\teval-mlogloss:0.90464\n",
      "[40]\teval-mlogloss:0.80354\n",
      "[50]\teval-mlogloss:0.73562\n",
      "[60]\teval-mlogloss:0.68840\n",
      "[70]\teval-mlogloss:0.65372\n",
      "[80]\teval-mlogloss:0.62773\n",
      "[90]\teval-mlogloss:0.60678\n",
      "[99]\teval-mlogloss:0.59225\n",
      "8 {'n_estimators': 100, 'learning_rate': 0.05, 'max_depth': 5, 'random_state': 1337, 'dtrain': <xgboost.core.DMatrix object at 0x0000000024645610>, 'dtest': <xgboost.core.DMatrix object at 0x000000002460B950>}\n",
      "[0]\teval-mlogloss:1.86033\n"
     ]
    },
    {
     "name": "stderr",
     "output_type": "stream",
     "text": [
      "S:\\anaconda\\envs\\study\\Lib\\site-packages\\xgboost\\training.py:183: UserWarning: [17:37:04] WARNING: C:\\b\\abs_d97hy_84m6\\croot\\xgboost-split_1749630932152\\work\\src\\learner.cc:738: \n",
      "Parameters: { \"early_stopping_rounds\" } are not used.\n",
      "\n",
      "  bst.update(dtrain, iteration=i, fobj=obj)\n"
     ]
    },
    {
     "name": "stdout",
     "output_type": "stream",
     "text": [
      "[10]\teval-mlogloss:1.30449\n",
      "[20]\teval-mlogloss:1.03334\n",
      "[30]\teval-mlogloss:0.86963\n",
      "[40]\teval-mlogloss:0.76444\n",
      "[50]\teval-mlogloss:0.69416\n",
      "[60]\teval-mlogloss:0.64573\n",
      "[70]\teval-mlogloss:0.61030\n",
      "[80]\teval-mlogloss:0.58350\n",
      "[90]\teval-mlogloss:0.56193\n",
      "[99]\teval-mlogloss:0.54596\n",
      "9 {'n_estimators': 50, 'learning_rate': 0.1, 'max_depth': 3, 'random_state': 1337, 'dtrain': <xgboost.core.DMatrix object at 0x0000000024645610>, 'dtest': <xgboost.core.DMatrix object at 0x000000002460B950>}\n",
      "[0]\teval-mlogloss:1.79174\n"
     ]
    },
    {
     "name": "stderr",
     "output_type": "stream",
     "text": [
      "S:\\anaconda\\envs\\study\\Lib\\site-packages\\xgboost\\training.py:183: UserWarning: [17:37:11] WARNING: C:\\b\\abs_d97hy_84m6\\croot\\xgboost-split_1749630932152\\work\\src\\learner.cc:738: \n",
      "Parameters: { \"early_stopping_rounds\" } are not used.\n",
      "\n",
      "  bst.update(dtrain, iteration=i, fobj=obj)\n"
     ]
    },
    {
     "name": "stdout",
     "output_type": "stream",
     "text": [
      "[10]\teval-mlogloss:1.06306\n",
      "[20]\teval-mlogloss:0.83146\n",
      "[30]\teval-mlogloss:0.72482\n",
      "[40]\teval-mlogloss:0.67007\n",
      "[49]\teval-mlogloss:0.63775\n",
      "10 {'n_estimators': 50, 'learning_rate': 0.1, 'max_depth': 4, 'random_state': 1337, 'dtrain': <xgboost.core.DMatrix object at 0x0000000024645610>, 'dtest': <xgboost.core.DMatrix object at 0x000000002460B950>}\n",
      "[0]\teval-mlogloss:1.78459\n"
     ]
    },
    {
     "name": "stderr",
     "output_type": "stream",
     "text": [
      "S:\\anaconda\\envs\\study\\Lib\\site-packages\\xgboost\\training.py:183: UserWarning: [17:37:15] WARNING: C:\\b\\abs_d97hy_84m6\\croot\\xgboost-split_1749630932152\\work\\src\\learner.cc:738: \n",
      "Parameters: { \"early_stopping_rounds\" } are not used.\n",
      "\n",
      "  bst.update(dtrain, iteration=i, fobj=obj)\n"
     ]
    },
    {
     "name": "stdout",
     "output_type": "stream",
     "text": [
      "[10]\teval-mlogloss:1.03055\n",
      "[20]\teval-mlogloss:0.79216\n",
      "[30]\teval-mlogloss:0.68293\n",
      "[40]\teval-mlogloss:0.62503\n",
      "[49]\teval-mlogloss:0.59178\n",
      "11 {'n_estimators': 50, 'learning_rate': 0.1, 'max_depth': 5, 'random_state': 1337, 'dtrain': <xgboost.core.DMatrix object at 0x0000000024645610>, 'dtest': <xgboost.core.DMatrix object at 0x000000002460B950>}\n",
      "[0]\teval-mlogloss:1.77739\n"
     ]
    },
    {
     "name": "stderr",
     "output_type": "stream",
     "text": [
      "S:\\anaconda\\envs\\study\\Lib\\site-packages\\xgboost\\training.py:183: UserWarning: [17:37:18] WARNING: C:\\b\\abs_d97hy_84m6\\croot\\xgboost-split_1749630932152\\work\\src\\learner.cc:738: \n",
      "Parameters: { \"early_stopping_rounds\" } are not used.\n",
      "\n",
      "  bst.update(dtrain, iteration=i, fobj=obj)\n"
     ]
    },
    {
     "name": "stdout",
     "output_type": "stream",
     "text": [
      "[10]\teval-mlogloss:1.00019\n",
      "[20]\teval-mlogloss:0.75305\n",
      "[30]\teval-mlogloss:0.64068\n",
      "[40]\teval-mlogloss:0.58149\n",
      "[49]\teval-mlogloss:0.54726\n",
      "12 {'n_estimators': 50, 'learning_rate': 0.2, 'max_depth': 3, 'random_state': 1337, 'dtrain': <xgboost.core.DMatrix object at 0x0000000024645610>, 'dtest': <xgboost.core.DMatrix object at 0x000000002460B950>}\n",
      "[0]\teval-mlogloss:1.64770\n"
     ]
    },
    {
     "name": "stderr",
     "output_type": "stream",
     "text": [
      "S:\\anaconda\\envs\\study\\Lib\\site-packages\\xgboost\\training.py:183: UserWarning: [17:37:22] WARNING: C:\\b\\abs_d97hy_84m6\\croot\\xgboost-split_1749630932152\\work\\src\\learner.cc:738: \n",
      "Parameters: { \"early_stopping_rounds\" } are not used.\n",
      "\n",
      "  bst.update(dtrain, iteration=i, fobj=obj)\n"
     ]
    },
    {
     "name": "stdout",
     "output_type": "stream",
     "text": [
      "[10]\teval-mlogloss:0.80208\n",
      "[20]\teval-mlogloss:0.66102\n",
      "[30]\teval-mlogloss:0.60853\n",
      "[40]\teval-mlogloss:0.58207\n",
      "[49]\teval-mlogloss:0.56744\n",
      "13 {'n_estimators': 50, 'learning_rate': 0.2, 'max_depth': 4, 'random_state': 1337, 'dtrain': <xgboost.core.DMatrix object at 0x0000000024645610>, 'dtest': <xgboost.core.DMatrix object at 0x000000002460B950>}\n",
      "[0]\teval-mlogloss:1.63396\n"
     ]
    },
    {
     "name": "stderr",
     "output_type": "stream",
     "text": [
      "S:\\anaconda\\envs\\study\\Lib\\site-packages\\xgboost\\training.py:183: UserWarning: [17:37:26] WARNING: C:\\b\\abs_d97hy_84m6\\croot\\xgboost-split_1749630932152\\work\\src\\learner.cc:738: \n",
      "Parameters: { \"early_stopping_rounds\" } are not used.\n",
      "\n",
      "  bst.update(dtrain, iteration=i, fobj=obj)\n"
     ]
    },
    {
     "name": "stdout",
     "output_type": "stream",
     "text": [
      "[10]\teval-mlogloss:0.76368\n",
      "[20]\teval-mlogloss:0.61715\n",
      "[30]\teval-mlogloss:0.56271\n",
      "[40]\teval-mlogloss:0.53598\n",
      "[49]\teval-mlogloss:0.51986\n",
      "14 {'n_estimators': 50, 'learning_rate': 0.2, 'max_depth': 5, 'random_state': 1337, 'dtrain': <xgboost.core.DMatrix object at 0x0000000024645610>, 'dtest': <xgboost.core.DMatrix object at 0x000000002460B950>}\n",
      "[0]\teval-mlogloss:1.62013\n"
     ]
    },
    {
     "name": "stderr",
     "output_type": "stream",
     "text": [
      "S:\\anaconda\\envs\\study\\Lib\\site-packages\\xgboost\\training.py:183: UserWarning: [17:37:29] WARNING: C:\\b\\abs_d97hy_84m6\\croot\\xgboost-split_1749630932152\\work\\src\\learner.cc:738: \n",
      "Parameters: { \"early_stopping_rounds\" } are not used.\n",
      "\n",
      "  bst.update(dtrain, iteration=i, fobj=obj)\n"
     ]
    },
    {
     "name": "stdout",
     "output_type": "stream",
     "text": [
      "[10]\teval-mlogloss:0.72492\n",
      "[20]\teval-mlogloss:0.57320\n",
      "[30]\teval-mlogloss:0.51645\n",
      "[40]\teval-mlogloss:0.48636\n",
      "[49]\teval-mlogloss:0.46984\n",
      "15 {'n_estimators': 50, 'learning_rate': 0.05, 'max_depth': 3, 'random_state': 1337, 'dtrain': <xgboost.core.DMatrix object at 0x0000000024645610>, 'dtest': <xgboost.core.DMatrix object at 0x000000002460B950>}\n",
      "[0]\teval-mlogloss:1.86763\n"
     ]
    },
    {
     "name": "stderr",
     "output_type": "stream",
     "text": [
      "S:\\anaconda\\envs\\study\\Lib\\site-packages\\xgboost\\training.py:183: UserWarning: [17:37:33] WARNING: C:\\b\\abs_d97hy_84m6\\croot\\xgboost-split_1749630932152\\work\\src\\learner.cc:738: \n",
      "Parameters: { \"early_stopping_rounds\" } are not used.\n",
      "\n",
      "  bst.update(dtrain, iteration=i, fobj=obj)\n"
     ]
    },
    {
     "name": "stdout",
     "output_type": "stream",
     "text": [
      "[10]\teval-mlogloss:1.34799\n",
      "[20]\teval-mlogloss:1.09466\n",
      "[30]\teval-mlogloss:0.94123\n",
      "[40]\teval-mlogloss:0.84295\n",
      "[49]\teval-mlogloss:0.78230\n",
      "16 {'n_estimators': 50, 'learning_rate': 0.05, 'max_depth': 4, 'random_state': 1337, 'dtrain': <xgboost.core.DMatrix object at 0x0000000024645610>, 'dtest': <xgboost.core.DMatrix object at 0x000000002460B950>}\n",
      "[0]\teval-mlogloss:1.86399\n"
     ]
    },
    {
     "name": "stderr",
     "output_type": "stream",
     "text": [
      "S:\\anaconda\\envs\\study\\Lib\\site-packages\\xgboost\\training.py:183: UserWarning: [17:37:37] WARNING: C:\\b\\abs_d97hy_84m6\\croot\\xgboost-split_1749630932152\\work\\src\\learner.cc:738: \n",
      "Parameters: { \"early_stopping_rounds\" } are not used.\n",
      "\n",
      "  bst.update(dtrain, iteration=i, fobj=obj)\n"
     ]
    },
    {
     "name": "stdout",
     "output_type": "stream",
     "text": [
      "[10]\teval-mlogloss:1.32585\n",
      "[20]\teval-mlogloss:1.06347\n",
      "[30]\teval-mlogloss:0.90464\n",
      "[40]\teval-mlogloss:0.80354\n",
      "[49]\teval-mlogloss:0.74120\n",
      "17 {'n_estimators': 50, 'learning_rate': 0.05, 'max_depth': 5, 'random_state': 1337, 'dtrain': <xgboost.core.DMatrix object at 0x0000000024645610>, 'dtest': <xgboost.core.DMatrix object at 0x000000002460B950>}\n",
      "[0]\teval-mlogloss:1.86033\n"
     ]
    },
    {
     "name": "stderr",
     "output_type": "stream",
     "text": [
      "S:\\anaconda\\envs\\study\\Lib\\site-packages\\xgboost\\training.py:183: UserWarning: [17:37:40] WARNING: C:\\b\\abs_d97hy_84m6\\croot\\xgboost-split_1749630932152\\work\\src\\learner.cc:738: \n",
      "Parameters: { \"early_stopping_rounds\" } are not used.\n",
      "\n",
      "  bst.update(dtrain, iteration=i, fobj=obj)\n"
     ]
    },
    {
     "name": "stdout",
     "output_type": "stream",
     "text": [
      "[10]\teval-mlogloss:1.30449\n",
      "[20]\teval-mlogloss:1.03334\n",
      "[30]\teval-mlogloss:0.86963\n",
      "[40]\teval-mlogloss:0.76444\n",
      "[49]\teval-mlogloss:0.69996\n",
      "18 {'n_estimators': 20, 'learning_rate': 0.1, 'max_depth': 3, 'random_state': 1337, 'dtrain': <xgboost.core.DMatrix object at 0x0000000024645610>, 'dtest': <xgboost.core.DMatrix object at 0x000000002460B950>}\n",
      "[0]\teval-mlogloss:1.79174\n"
     ]
    },
    {
     "name": "stderr",
     "output_type": "stream",
     "text": [
      "S:\\anaconda\\envs\\study\\Lib\\site-packages\\xgboost\\training.py:183: UserWarning: [17:37:44] WARNING: C:\\b\\abs_d97hy_84m6\\croot\\xgboost-split_1749630932152\\work\\src\\learner.cc:738: \n",
      "Parameters: { \"early_stopping_rounds\" } are not used.\n",
      "\n",
      "  bst.update(dtrain, iteration=i, fobj=obj)\n"
     ]
    },
    {
     "name": "stdout",
     "output_type": "stream",
     "text": [
      "[10]\teval-mlogloss:1.06306\n",
      "[19]\teval-mlogloss:0.84661\n",
      "19 {'n_estimators': 20, 'learning_rate': 0.1, 'max_depth': 4, 'random_state': 1337, 'dtrain': <xgboost.core.DMatrix object at 0x0000000024645610>, 'dtest': <xgboost.core.DMatrix object at 0x000000002460B950>}\n",
      "[0]\teval-mlogloss:1.78459\n"
     ]
    },
    {
     "name": "stderr",
     "output_type": "stream",
     "text": [
      "S:\\anaconda\\envs\\study\\Lib\\site-packages\\sklearn\\metrics\\_classification.py:1565: UndefinedMetricWarning: Precision is ill-defined and being set to 0.0 in labels with no predicted samples. Use `zero_division` parameter to control this behavior.\n",
      "  _warn_prf(average, modifier, f\"{metric.capitalize()} is\", len(result))\n",
      "S:\\anaconda\\envs\\study\\Lib\\site-packages\\sklearn\\metrics\\_classification.py:1565: UndefinedMetricWarning: Precision is ill-defined and being set to 0.0 in labels with no predicted samples. Use `zero_division` parameter to control this behavior.\n",
      "  _warn_prf(average, modifier, f\"{metric.capitalize()} is\", len(result))\n",
      "S:\\anaconda\\envs\\study\\Lib\\site-packages\\sklearn\\metrics\\_classification.py:1565: UndefinedMetricWarning: Precision is ill-defined and being set to 0.0 in labels with no predicted samples. Use `zero_division` parameter to control this behavior.\n",
      "  _warn_prf(average, modifier, f\"{metric.capitalize()} is\", len(result))\n",
      "S:\\anaconda\\envs\\study\\Lib\\site-packages\\xgboost\\training.py:183: UserWarning: [17:37:45] WARNING: C:\\b\\abs_d97hy_84m6\\croot\\xgboost-split_1749630932152\\work\\src\\learner.cc:738: \n",
      "Parameters: { \"early_stopping_rounds\" } are not used.\n",
      "\n",
      "  bst.update(dtrain, iteration=i, fobj=obj)\n"
     ]
    },
    {
     "name": "stdout",
     "output_type": "stream",
     "text": [
      "[10]\teval-mlogloss:1.03055\n",
      "[19]\teval-mlogloss:0.80787\n",
      "20 {'n_estimators': 20, 'learning_rate': 0.1, 'max_depth': 5, 'random_state': 1337, 'dtrain': <xgboost.core.DMatrix object at 0x0000000024645610>, 'dtest': <xgboost.core.DMatrix object at 0x000000002460B950>}\n",
      "[0]\teval-mlogloss:1.77739\n"
     ]
    },
    {
     "name": "stderr",
     "output_type": "stream",
     "text": [
      "S:\\anaconda\\envs\\study\\Lib\\site-packages\\xgboost\\training.py:183: UserWarning: [17:37:46] WARNING: C:\\b\\abs_d97hy_84m6\\croot\\xgboost-split_1749630932152\\work\\src\\learner.cc:738: \n",
      "Parameters: { \"early_stopping_rounds\" } are not used.\n",
      "\n",
      "  bst.update(dtrain, iteration=i, fobj=obj)\n"
     ]
    },
    {
     "name": "stdout",
     "output_type": "stream",
     "text": [
      "[10]\teval-mlogloss:1.00019\n",
      "[19]\teval-mlogloss:0.76893\n",
      "21 {'n_estimators': 20, 'learning_rate': 0.2, 'max_depth': 3, 'random_state': 1337, 'dtrain': <xgboost.core.DMatrix object at 0x0000000024645610>, 'dtest': <xgboost.core.DMatrix object at 0x000000002460B950>}\n",
      "[0]\teval-mlogloss:1.64770\n"
     ]
    },
    {
     "name": "stderr",
     "output_type": "stream",
     "text": [
      "S:\\anaconda\\envs\\study\\Lib\\site-packages\\xgboost\\training.py:183: UserWarning: [17:37:48] WARNING: C:\\b\\abs_d97hy_84m6\\croot\\xgboost-split_1749630932152\\work\\src\\learner.cc:738: \n",
      "Parameters: { \"early_stopping_rounds\" } are not used.\n",
      "\n",
      "  bst.update(dtrain, iteration=i, fobj=obj)\n"
     ]
    },
    {
     "name": "stdout",
     "output_type": "stream",
     "text": [
      "[10]\teval-mlogloss:0.80208\n",
      "[19]\teval-mlogloss:0.66870\n",
      "22 {'n_estimators': 20, 'learning_rate': 0.2, 'max_depth': 4, 'random_state': 1337, 'dtrain': <xgboost.core.DMatrix object at 0x0000000024645610>, 'dtest': <xgboost.core.DMatrix object at 0x000000002460B950>}\n",
      "[0]\teval-mlogloss:1.63396\n"
     ]
    },
    {
     "name": "stderr",
     "output_type": "stream",
     "text": [
      "S:\\anaconda\\envs\\study\\Lib\\site-packages\\xgboost\\training.py:183: UserWarning: [17:37:49] WARNING: C:\\b\\abs_d97hy_84m6\\croot\\xgboost-split_1749630932152\\work\\src\\learner.cc:738: \n",
      "Parameters: { \"early_stopping_rounds\" } are not used.\n",
      "\n",
      "  bst.update(dtrain, iteration=i, fobj=obj)\n"
     ]
    },
    {
     "name": "stdout",
     "output_type": "stream",
     "text": [
      "[10]\teval-mlogloss:0.76368\n",
      "[19]\teval-mlogloss:0.62541\n",
      "23 {'n_estimators': 20, 'learning_rate': 0.2, 'max_depth': 5, 'random_state': 1337, 'dtrain': <xgboost.core.DMatrix object at 0x0000000024645610>, 'dtest': <xgboost.core.DMatrix object at 0x000000002460B950>}\n",
      "[0]\teval-mlogloss:1.62013\n"
     ]
    },
    {
     "name": "stderr",
     "output_type": "stream",
     "text": [
      "S:\\anaconda\\envs\\study\\Lib\\site-packages\\xgboost\\training.py:183: UserWarning: [17:37:51] WARNING: C:\\b\\abs_d97hy_84m6\\croot\\xgboost-split_1749630932152\\work\\src\\learner.cc:738: \n",
      "Parameters: { \"early_stopping_rounds\" } are not used.\n",
      "\n",
      "  bst.update(dtrain, iteration=i, fobj=obj)\n"
     ]
    },
    {
     "name": "stdout",
     "output_type": "stream",
     "text": [
      "[10]\teval-mlogloss:0.72492\n",
      "[19]\teval-mlogloss:0.58175\n",
      "24 {'n_estimators': 20, 'learning_rate': 0.05, 'max_depth': 3, 'random_state': 1337, 'dtrain': <xgboost.core.DMatrix object at 0x0000000024645610>, 'dtest': <xgboost.core.DMatrix object at 0x000000002460B950>}\n",
      "[0]\teval-mlogloss:1.86763\n"
     ]
    },
    {
     "name": "stderr",
     "output_type": "stream",
     "text": [
      "S:\\anaconda\\envs\\study\\Lib\\site-packages\\xgboost\\training.py:183: UserWarning: [17:37:52] WARNING: C:\\b\\abs_d97hy_84m6\\croot\\xgboost-split_1749630932152\\work\\src\\learner.cc:738: \n",
      "Parameters: { \"early_stopping_rounds\" } are not used.\n",
      "\n",
      "  bst.update(dtrain, iteration=i, fobj=obj)\n"
     ]
    },
    {
     "name": "stdout",
     "output_type": "stream",
     "text": [
      "[10]\teval-mlogloss:1.34799\n",
      "[19]\teval-mlogloss:1.11405\n",
      "25 {'n_estimators': 20, 'learning_rate': 0.05, 'max_depth': 4, 'random_state': 1337, 'dtrain': <xgboost.core.DMatrix object at 0x0000000024645610>, 'dtest': <xgboost.core.DMatrix object at 0x000000002460B950>}\n",
      "[0]\teval-mlogloss:1.86399\n"
     ]
    },
    {
     "name": "stderr",
     "output_type": "stream",
     "text": [
      "S:\\anaconda\\envs\\study\\Lib\\site-packages\\sklearn\\metrics\\_classification.py:1565: UndefinedMetricWarning: Precision is ill-defined and being set to 0.0 in labels with no predicted samples. Use `zero_division` parameter to control this behavior.\n",
      "  _warn_prf(average, modifier, f\"{metric.capitalize()} is\", len(result))\n",
      "S:\\anaconda\\envs\\study\\Lib\\site-packages\\sklearn\\metrics\\_classification.py:1565: UndefinedMetricWarning: Precision is ill-defined and being set to 0.0 in labels with no predicted samples. Use `zero_division` parameter to control this behavior.\n",
      "  _warn_prf(average, modifier, f\"{metric.capitalize()} is\", len(result))\n",
      "S:\\anaconda\\envs\\study\\Lib\\site-packages\\sklearn\\metrics\\_classification.py:1565: UndefinedMetricWarning: Precision is ill-defined and being set to 0.0 in labels with no predicted samples. Use `zero_division` parameter to control this behavior.\n",
      "  _warn_prf(average, modifier, f\"{metric.capitalize()} is\", len(result))\n",
      "S:\\anaconda\\envs\\study\\Lib\\site-packages\\xgboost\\training.py:183: UserWarning: [17:37:54] WARNING: C:\\b\\abs_d97hy_84m6\\croot\\xgboost-split_1749630932152\\work\\src\\learner.cc:738: \n",
      "Parameters: { \"early_stopping_rounds\" } are not used.\n",
      "\n",
      "  bst.update(dtrain, iteration=i, fobj=obj)\n"
     ]
    },
    {
     "name": "stdout",
     "output_type": "stream",
     "text": [
      "[10]\teval-mlogloss:1.32585\n",
      "[19]\teval-mlogloss:1.08357\n",
      "26 {'n_estimators': 20, 'learning_rate': 0.05, 'max_depth': 5, 'random_state': 1337, 'dtrain': <xgboost.core.DMatrix object at 0x0000000024645610>, 'dtest': <xgboost.core.DMatrix object at 0x000000002460B950>}\n",
      "[0]\teval-mlogloss:1.86033\n"
     ]
    },
    {
     "name": "stderr",
     "output_type": "stream",
     "text": [
      "S:\\anaconda\\envs\\study\\Lib\\site-packages\\xgboost\\training.py:183: UserWarning: [17:37:55] WARNING: C:\\b\\abs_d97hy_84m6\\croot\\xgboost-split_1749630932152\\work\\src\\learner.cc:738: \n",
      "Parameters: { \"early_stopping_rounds\" } are not used.\n",
      "\n",
      "  bst.update(dtrain, iteration=i, fobj=obj)\n"
     ]
    },
    {
     "name": "stdout",
     "output_type": "stream",
     "text": [
      "[10]\teval-mlogloss:1.30449\n",
      "[19]\teval-mlogloss:1.05391\n",
      "27 {'n_estimators': 200, 'learning_rate': 0.1, 'max_depth': 3, 'random_state': 1337, 'dtrain': <xgboost.core.DMatrix object at 0x0000000024645610>, 'dtest': <xgboost.core.DMatrix object at 0x000000002460B950>}\n",
      "[0]\teval-mlogloss:1.79174\n"
     ]
    },
    {
     "name": "stderr",
     "output_type": "stream",
     "text": [
      "S:\\anaconda\\envs\\study\\Lib\\site-packages\\xgboost\\training.py:183: UserWarning: [17:37:57] WARNING: C:\\b\\abs_d97hy_84m6\\croot\\xgboost-split_1749630932152\\work\\src\\learner.cc:738: \n",
      "Parameters: { \"early_stopping_rounds\" } are not used.\n",
      "\n",
      "  bst.update(dtrain, iteration=i, fobj=obj)\n"
     ]
    },
    {
     "name": "stdout",
     "output_type": "stream",
     "text": [
      "[10]\teval-mlogloss:1.06306\n",
      "[20]\teval-mlogloss:0.83146\n",
      "[30]\teval-mlogloss:0.72482\n",
      "[40]\teval-mlogloss:0.67007\n",
      "[50]\teval-mlogloss:0.63507\n",
      "[60]\teval-mlogloss:0.61190\n",
      "[70]\teval-mlogloss:0.59644\n",
      "[80]\teval-mlogloss:0.58535\n",
      "[90]\teval-mlogloss:0.57653\n",
      "[100]\teval-mlogloss:0.56865\n",
      "[110]\teval-mlogloss:0.56237\n",
      "[120]\teval-mlogloss:0.55613\n",
      "[130]\teval-mlogloss:0.54986\n",
      "[140]\teval-mlogloss:0.54463\n",
      "[150]\teval-mlogloss:0.53983\n",
      "[160]\teval-mlogloss:0.53502\n",
      "[170]\teval-mlogloss:0.53125\n",
      "[180]\teval-mlogloss:0.52745\n",
      "[190]\teval-mlogloss:0.52360\n",
      "[199]\teval-mlogloss:0.52030\n",
      "28 {'n_estimators': 200, 'learning_rate': 0.1, 'max_depth': 4, 'random_state': 1337, 'dtrain': <xgboost.core.DMatrix object at 0x0000000024645610>, 'dtest': <xgboost.core.DMatrix object at 0x000000002460B950>}\n",
      "[0]\teval-mlogloss:1.78459\n"
     ]
    },
    {
     "name": "stderr",
     "output_type": "stream",
     "text": [
      "S:\\anaconda\\envs\\study\\Lib\\site-packages\\xgboost\\training.py:183: UserWarning: [17:38:10] WARNING: C:\\b\\abs_d97hy_84m6\\croot\\xgboost-split_1749630932152\\work\\src\\learner.cc:738: \n",
      "Parameters: { \"early_stopping_rounds\" } are not used.\n",
      "\n",
      "  bst.update(dtrain, iteration=i, fobj=obj)\n"
     ]
    },
    {
     "name": "stdout",
     "output_type": "stream",
     "text": [
      "[10]\teval-mlogloss:1.03055\n",
      "[20]\teval-mlogloss:0.79216\n",
      "[30]\teval-mlogloss:0.68293\n",
      "[40]\teval-mlogloss:0.62503\n",
      "[50]\teval-mlogloss:0.58897\n",
      "[60]\teval-mlogloss:0.56516\n",
      "[70]\teval-mlogloss:0.54917\n",
      "[80]\teval-mlogloss:0.53739\n",
      "[90]\teval-mlogloss:0.52831\n",
      "[100]\teval-mlogloss:0.51935\n",
      "[110]\teval-mlogloss:0.51305\n",
      "[120]\teval-mlogloss:0.50637\n",
      "[130]\teval-mlogloss:0.50028\n",
      "[140]\teval-mlogloss:0.49471\n",
      "[150]\teval-mlogloss:0.48855\n",
      "[160]\teval-mlogloss:0.48308\n",
      "[170]\teval-mlogloss:0.47841\n",
      "[180]\teval-mlogloss:0.47344\n",
      "[190]\teval-mlogloss:0.46956\n",
      "[199]\teval-mlogloss:0.46575\n",
      "29 {'n_estimators': 200, 'learning_rate': 0.1, 'max_depth': 5, 'random_state': 1337, 'dtrain': <xgboost.core.DMatrix object at 0x0000000024645610>, 'dtest': <xgboost.core.DMatrix object at 0x000000002460B950>}\n",
      "[0]\teval-mlogloss:1.77739\n"
     ]
    },
    {
     "name": "stderr",
     "output_type": "stream",
     "text": [
      "S:\\anaconda\\envs\\study\\Lib\\site-packages\\xgboost\\training.py:183: UserWarning: [17:38:25] WARNING: C:\\b\\abs_d97hy_84m6\\croot\\xgboost-split_1749630932152\\work\\src\\learner.cc:738: \n",
      "Parameters: { \"early_stopping_rounds\" } are not used.\n",
      "\n",
      "  bst.update(dtrain, iteration=i, fobj=obj)\n"
     ]
    },
    {
     "name": "stdout",
     "output_type": "stream",
     "text": [
      "[10]\teval-mlogloss:1.00019\n",
      "[20]\teval-mlogloss:0.75305\n",
      "[30]\teval-mlogloss:0.64068\n",
      "[40]\teval-mlogloss:0.58149\n",
      "[50]\teval-mlogloss:0.54434\n",
      "[60]\teval-mlogloss:0.52079\n",
      "[70]\teval-mlogloss:0.50437\n",
      "[80]\teval-mlogloss:0.49227\n",
      "[90]\teval-mlogloss:0.48177\n",
      "[100]\teval-mlogloss:0.47339\n",
      "[110]\teval-mlogloss:0.46726\n",
      "[120]\teval-mlogloss:0.46105\n",
      "[130]\teval-mlogloss:0.45415\n",
      "[140]\teval-mlogloss:0.44848\n",
      "[150]\teval-mlogloss:0.44163\n",
      "[160]\teval-mlogloss:0.43454\n",
      "[170]\teval-mlogloss:0.42963\n",
      "[180]\teval-mlogloss:0.42516\n",
      "[190]\teval-mlogloss:0.42005\n",
      "[199]\teval-mlogloss:0.41570\n",
      "30 {'n_estimators': 200, 'learning_rate': 0.2, 'max_depth': 3, 'random_state': 1337, 'dtrain': <xgboost.core.DMatrix object at 0x0000000024645610>, 'dtest': <xgboost.core.DMatrix object at 0x000000002460B950>}\n",
      "[0]\teval-mlogloss:1.64770\n"
     ]
    },
    {
     "name": "stderr",
     "output_type": "stream",
     "text": [
      "S:\\anaconda\\envs\\study\\Lib\\site-packages\\xgboost\\training.py:183: UserWarning: [17:38:40] WARNING: C:\\b\\abs_d97hy_84m6\\croot\\xgboost-split_1749630932152\\work\\src\\learner.cc:738: \n",
      "Parameters: { \"early_stopping_rounds\" } are not used.\n",
      "\n",
      "  bst.update(dtrain, iteration=i, fobj=obj)\n"
     ]
    },
    {
     "name": "stdout",
     "output_type": "stream",
     "text": [
      "[10]\teval-mlogloss:0.80208\n",
      "[20]\teval-mlogloss:0.66102\n",
      "[30]\teval-mlogloss:0.60853\n",
      "[40]\teval-mlogloss:0.58207\n",
      "[50]\teval-mlogloss:0.56583\n",
      "[60]\teval-mlogloss:0.55337\n",
      "[70]\teval-mlogloss:0.54284\n",
      "[80]\teval-mlogloss:0.53331\n",
      "[90]\teval-mlogloss:0.52515\n",
      "[100]\teval-mlogloss:0.51651\n",
      "[110]\teval-mlogloss:0.51068\n",
      "[120]\teval-mlogloss:0.50467\n",
      "[130]\teval-mlogloss:0.49774\n",
      "[140]\teval-mlogloss:0.49211\n",
      "[150]\teval-mlogloss:0.48599\n",
      "[160]\teval-mlogloss:0.48214\n",
      "[170]\teval-mlogloss:0.47772\n",
      "[180]\teval-mlogloss:0.47341\n",
      "[190]\teval-mlogloss:0.47015\n",
      "[199]\teval-mlogloss:0.46649\n",
      "31 {'n_estimators': 200, 'learning_rate': 0.2, 'max_depth': 4, 'random_state': 1337, 'dtrain': <xgboost.core.DMatrix object at 0x0000000024645610>, 'dtest': <xgboost.core.DMatrix object at 0x000000002460B950>}\n",
      "[0]\teval-mlogloss:1.63396\n"
     ]
    },
    {
     "name": "stderr",
     "output_type": "stream",
     "text": [
      "S:\\anaconda\\envs\\study\\Lib\\site-packages\\xgboost\\training.py:183: UserWarning: [17:38:54] WARNING: C:\\b\\abs_d97hy_84m6\\croot\\xgboost-split_1749630932152\\work\\src\\learner.cc:738: \n",
      "Parameters: { \"early_stopping_rounds\" } are not used.\n",
      "\n",
      "  bst.update(dtrain, iteration=i, fobj=obj)\n"
     ]
    },
    {
     "name": "stdout",
     "output_type": "stream",
     "text": [
      "[10]\teval-mlogloss:0.76368\n",
      "[20]\teval-mlogloss:0.61715\n",
      "[30]\teval-mlogloss:0.56271\n",
      "[40]\teval-mlogloss:0.53598\n",
      "[50]\teval-mlogloss:0.51815\n",
      "[60]\teval-mlogloss:0.50496\n",
      "[70]\teval-mlogloss:0.49163\n",
      "[80]\teval-mlogloss:0.48148\n",
      "[90]\teval-mlogloss:0.47118\n",
      "[100]\teval-mlogloss:0.46249\n",
      "[110]\teval-mlogloss:0.45305\n",
      "[120]\teval-mlogloss:0.44649\n",
      "[130]\teval-mlogloss:0.43972\n",
      "[140]\teval-mlogloss:0.43260\n",
      "[150]\teval-mlogloss:0.42576\n",
      "[160]\teval-mlogloss:0.42044\n",
      "[170]\teval-mlogloss:0.41467\n",
      "[180]\teval-mlogloss:0.40963\n",
      "[190]\teval-mlogloss:0.40390\n",
      "[199]\teval-mlogloss:0.39929\n",
      "32 {'n_estimators': 200, 'learning_rate': 0.2, 'max_depth': 5, 'random_state': 1337, 'dtrain': <xgboost.core.DMatrix object at 0x0000000024645610>, 'dtest': <xgboost.core.DMatrix object at 0x000000002460B950>}\n",
      "[0]\teval-mlogloss:1.62013\n"
     ]
    },
    {
     "name": "stderr",
     "output_type": "stream",
     "text": [
      "S:\\anaconda\\envs\\study\\Lib\\site-packages\\xgboost\\training.py:183: UserWarning: [17:39:09] WARNING: C:\\b\\abs_d97hy_84m6\\croot\\xgboost-split_1749630932152\\work\\src\\learner.cc:738: \n",
      "Parameters: { \"early_stopping_rounds\" } are not used.\n",
      "\n",
      "  bst.update(dtrain, iteration=i, fobj=obj)\n"
     ]
    },
    {
     "name": "stdout",
     "output_type": "stream",
     "text": [
      "[10]\teval-mlogloss:0.72492\n",
      "[20]\teval-mlogloss:0.57320\n",
      "[30]\teval-mlogloss:0.51645\n",
      "[40]\teval-mlogloss:0.48636\n",
      "[50]\teval-mlogloss:0.46836\n",
      "[60]\teval-mlogloss:0.45602\n",
      "[70]\teval-mlogloss:0.44313\n",
      "[80]\teval-mlogloss:0.43200\n",
      "[90]\teval-mlogloss:0.42129\n",
      "[100]\teval-mlogloss:0.40949\n",
      "[110]\teval-mlogloss:0.40096\n",
      "[120]\teval-mlogloss:0.39296\n",
      "[130]\teval-mlogloss:0.38607\n",
      "[140]\teval-mlogloss:0.37881\n",
      "[150]\teval-mlogloss:0.37226\n",
      "[160]\teval-mlogloss:0.36603\n",
      "[170]\teval-mlogloss:0.35967\n",
      "[180]\teval-mlogloss:0.35412\n",
      "[190]\teval-mlogloss:0.34912\n",
      "[199]\teval-mlogloss:0.34457\n",
      "33 {'n_estimators': 200, 'learning_rate': 0.05, 'max_depth': 3, 'random_state': 1337, 'dtrain': <xgboost.core.DMatrix object at 0x0000000024645610>, 'dtest': <xgboost.core.DMatrix object at 0x000000002460B950>}\n",
      "[0]\teval-mlogloss:1.86763\n"
     ]
    },
    {
     "name": "stderr",
     "output_type": "stream",
     "text": [
      "S:\\anaconda\\envs\\study\\Lib\\site-packages\\xgboost\\training.py:183: UserWarning: [17:39:25] WARNING: C:\\b\\abs_d97hy_84m6\\croot\\xgboost-split_1749630932152\\work\\src\\learner.cc:738: \n",
      "Parameters: { \"early_stopping_rounds\" } are not used.\n",
      "\n",
      "  bst.update(dtrain, iteration=i, fobj=obj)\n"
     ]
    },
    {
     "name": "stdout",
     "output_type": "stream",
     "text": [
      "[10]\teval-mlogloss:1.34799\n",
      "[20]\teval-mlogloss:1.09466\n",
      "[30]\teval-mlogloss:0.94123\n",
      "[40]\teval-mlogloss:0.84295\n",
      "[50]\teval-mlogloss:0.77689\n",
      "[60]\teval-mlogloss:0.73101\n",
      "[70]\teval-mlogloss:0.69825\n",
      "[80]\teval-mlogloss:0.67326\n",
      "[90]\teval-mlogloss:0.65370\n",
      "[100]\teval-mlogloss:0.63779\n",
      "[110]\teval-mlogloss:0.62488\n",
      "[120]\teval-mlogloss:0.61443\n",
      "[130]\teval-mlogloss:0.60548\n",
      "[140]\teval-mlogloss:0.59819\n",
      "[150]\teval-mlogloss:0.59198\n",
      "[160]\teval-mlogloss:0.58655\n",
      "[170]\teval-mlogloss:0.58166\n",
      "[180]\teval-mlogloss:0.57728\n",
      "[190]\teval-mlogloss:0.57330\n",
      "[199]\teval-mlogloss:0.56992\n",
      "34 {'n_estimators': 200, 'learning_rate': 0.05, 'max_depth': 4, 'random_state': 1337, 'dtrain': <xgboost.core.DMatrix object at 0x0000000024645610>, 'dtest': <xgboost.core.DMatrix object at 0x000000002460B950>}\n",
      "[0]\teval-mlogloss:1.86399\n"
     ]
    },
    {
     "name": "stderr",
     "output_type": "stream",
     "text": [
      "S:\\anaconda\\envs\\study\\Lib\\site-packages\\xgboost\\training.py:183: UserWarning: [17:39:39] WARNING: C:\\b\\abs_d97hy_84m6\\croot\\xgboost-split_1749630932152\\work\\src\\learner.cc:738: \n",
      "Parameters: { \"early_stopping_rounds\" } are not used.\n",
      "\n",
      "  bst.update(dtrain, iteration=i, fobj=obj)\n"
     ]
    },
    {
     "name": "stdout",
     "output_type": "stream",
     "text": [
      "[10]\teval-mlogloss:1.32585\n",
      "[20]\teval-mlogloss:1.06347\n",
      "[30]\teval-mlogloss:0.90464\n",
      "[40]\teval-mlogloss:0.80354\n",
      "[50]\teval-mlogloss:0.73562\n",
      "[60]\teval-mlogloss:0.68840\n",
      "[70]\teval-mlogloss:0.65372\n",
      "[80]\teval-mlogloss:0.62773\n",
      "[90]\teval-mlogloss:0.60678\n",
      "[100]\teval-mlogloss:0.59098\n",
      "[110]\teval-mlogloss:0.57713\n",
      "[120]\teval-mlogloss:0.56646\n",
      "[130]\teval-mlogloss:0.55716\n",
      "[140]\teval-mlogloss:0.54970\n",
      "[150]\teval-mlogloss:0.54311\n",
      "[160]\teval-mlogloss:0.53758\n",
      "[170]\teval-mlogloss:0.53286\n",
      "[180]\teval-mlogloss:0.52801\n",
      "[190]\teval-mlogloss:0.52411\n",
      "[199]\teval-mlogloss:0.52082\n",
      "35 {'n_estimators': 200, 'learning_rate': 0.05, 'max_depth': 5, 'random_state': 1337, 'dtrain': <xgboost.core.DMatrix object at 0x0000000024645610>, 'dtest': <xgboost.core.DMatrix object at 0x000000002460B950>}\n",
      "[0]\teval-mlogloss:1.86033\n"
     ]
    },
    {
     "name": "stderr",
     "output_type": "stream",
     "text": [
      "S:\\anaconda\\envs\\study\\Lib\\site-packages\\xgboost\\training.py:183: UserWarning: [17:39:54] WARNING: C:\\b\\abs_d97hy_84m6\\croot\\xgboost-split_1749630932152\\work\\src\\learner.cc:738: \n",
      "Parameters: { \"early_stopping_rounds\" } are not used.\n",
      "\n",
      "  bst.update(dtrain, iteration=i, fobj=obj)\n"
     ]
    },
    {
     "name": "stdout",
     "output_type": "stream",
     "text": [
      "[10]\teval-mlogloss:1.30449\n",
      "[20]\teval-mlogloss:1.03334\n",
      "[30]\teval-mlogloss:0.86963\n",
      "[40]\teval-mlogloss:0.76444\n",
      "[50]\teval-mlogloss:0.69416\n",
      "[60]\teval-mlogloss:0.64573\n",
      "[70]\teval-mlogloss:0.61030\n",
      "[80]\teval-mlogloss:0.58350\n",
      "[90]\teval-mlogloss:0.56193\n",
      "[100]\teval-mlogloss:0.54462\n",
      "[110]\teval-mlogloss:0.53091\n",
      "[120]\teval-mlogloss:0.52009\n",
      "[130]\teval-mlogloss:0.51031\n",
      "[140]\teval-mlogloss:0.50286\n",
      "[150]\teval-mlogloss:0.49582\n",
      "[160]\teval-mlogloss:0.49038\n",
      "[170]\teval-mlogloss:0.48571\n",
      "[180]\teval-mlogloss:0.48086\n",
      "[190]\teval-mlogloss:0.47702\n",
      "[199]\teval-mlogloss:0.47322\n"
     ]
    },
    {
     "name": "stderr",
     "output_type": "stream",
     "text": [
      "C:\\Users\\nikol\\AppData\\Local\\Temp\\ipykernel_14832\\3180493565.py:13: FutureWarning: Calling int on a single element Series is deprecated and will raise a TypeError in the future. Use int(ser.iloc[0]) instead\n",
      "  num_classes = int(d[d.target_features].nunique()) # ИСПРАВЛЕНИЕ: Количество уникальных классов\n"
     ]
    },
    {
     "name": "stdout",
     "output_type": "stream",
     "text": [
      "36\n",
      "0 {'n_estimators': 100, 'learning_rate': 0.1, 'max_depth': 3, 'random_state': 1337, 'dtrain': <xgboost.core.DMatrix object at 0x000000002461E210>, 'dtest': <xgboost.core.DMatrix object at 0x000000002461CF50>}\n"
     ]
    },
    {
     "name": "stderr",
     "output_type": "stream",
     "text": [
      "S:\\anaconda\\envs\\study\\Lib\\site-packages\\xgboost\\training.py:183: UserWarning: [17:40:11] WARNING: C:\\b\\abs_d97hy_84m6\\croot\\xgboost-split_1749630932152\\work\\src\\learner.cc:738: \n",
      "Parameters: { \"early_stopping_rounds\" } are not used.\n",
      "\n",
      "  bst.update(dtrain, iteration=i, fobj=obj)\n"
     ]
    },
    {
     "name": "stdout",
     "output_type": "stream",
     "text": [
      "[0]\teval-mlogloss:1.77512\n",
      "[10]\teval-mlogloss:1.05970\n",
      "[20]\teval-mlogloss:0.82777\n",
      "[30]\teval-mlogloss:0.72393\n",
      "[40]\teval-mlogloss:0.66810\n",
      "[50]\teval-mlogloss:0.63428\n",
      "[60]\teval-mlogloss:0.61141\n",
      "[70]\teval-mlogloss:0.59612\n",
      "[80]\teval-mlogloss:0.58467\n",
      "[90]\teval-mlogloss:0.57540\n",
      "[99]\teval-mlogloss:0.56885\n",
      "1 {'n_estimators': 100, 'learning_rate': 0.1, 'max_depth': 4, 'random_state': 1337, 'dtrain': <xgboost.core.DMatrix object at 0x000000002461E210>, 'dtest': <xgboost.core.DMatrix object at 0x000000002461CF50>}\n",
      "[0]\teval-mlogloss:1.76727\n"
     ]
    },
    {
     "name": "stderr",
     "output_type": "stream",
     "text": [
      "S:\\anaconda\\envs\\study\\Lib\\site-packages\\xgboost\\training.py:183: UserWarning: [17:40:18] WARNING: C:\\b\\abs_d97hy_84m6\\croot\\xgboost-split_1749630932152\\work\\src\\learner.cc:738: \n",
      "Parameters: { \"early_stopping_rounds\" } are not used.\n",
      "\n",
      "  bst.update(dtrain, iteration=i, fobj=obj)\n"
     ]
    },
    {
     "name": "stdout",
     "output_type": "stream",
     "text": [
      "[10]\teval-mlogloss:1.02666\n",
      "[20]\teval-mlogloss:0.78739\n",
      "[30]\teval-mlogloss:0.68026\n",
      "[40]\teval-mlogloss:0.62253\n",
      "[50]\teval-mlogloss:0.58811\n",
      "[60]\teval-mlogloss:0.56479\n",
      "[70]\teval-mlogloss:0.54924\n",
      "[80]\teval-mlogloss:0.53750\n",
      "[90]\teval-mlogloss:0.52733\n",
      "[99]\teval-mlogloss:0.52049\n",
      "2 {'n_estimators': 100, 'learning_rate': 0.1, 'max_depth': 5, 'random_state': 1337, 'dtrain': <xgboost.core.DMatrix object at 0x000000002461E210>, 'dtest': <xgboost.core.DMatrix object at 0x000000002461CF50>}\n",
      "[0]\teval-mlogloss:1.75971\n"
     ]
    },
    {
     "name": "stderr",
     "output_type": "stream",
     "text": [
      "S:\\anaconda\\envs\\study\\Lib\\site-packages\\xgboost\\training.py:183: UserWarning: [17:40:25] WARNING: C:\\b\\abs_d97hy_84m6\\croot\\xgboost-split_1749630932152\\work\\src\\learner.cc:738: \n",
      "Parameters: { \"early_stopping_rounds\" } are not used.\n",
      "\n",
      "  bst.update(dtrain, iteration=i, fobj=obj)\n"
     ]
    },
    {
     "name": "stdout",
     "output_type": "stream",
     "text": [
      "[10]\teval-mlogloss:0.99490\n",
      "[20]\teval-mlogloss:0.74716\n",
      "[30]\teval-mlogloss:0.63674\n",
      "[40]\teval-mlogloss:0.57809\n",
      "[50]\teval-mlogloss:0.54221\n",
      "[60]\teval-mlogloss:0.51790\n",
      "[70]\teval-mlogloss:0.50113\n",
      "[80]\teval-mlogloss:0.48930\n",
      "[90]\teval-mlogloss:0.47904\n",
      "[99]\teval-mlogloss:0.47142\n",
      "3 {'n_estimators': 100, 'learning_rate': 0.2, 'max_depth': 3, 'random_state': 1337, 'dtrain': <xgboost.core.DMatrix object at 0x000000002461E210>, 'dtest': <xgboost.core.DMatrix object at 0x000000002461CF50>}\n",
      "[0]\teval-mlogloss:1.61612\n"
     ]
    },
    {
     "name": "stderr",
     "output_type": "stream",
     "text": [
      "S:\\anaconda\\envs\\study\\Lib\\site-packages\\xgboost\\training.py:183: UserWarning: [17:40:33] WARNING: C:\\b\\abs_d97hy_84m6\\croot\\xgboost-split_1749630932152\\work\\src\\learner.cc:738: \n",
      "Parameters: { \"early_stopping_rounds\" } are not used.\n",
      "\n",
      "  bst.update(dtrain, iteration=i, fobj=obj)\n"
     ]
    },
    {
     "name": "stdout",
     "output_type": "stream",
     "text": [
      "[10]\teval-mlogloss:0.80243\n",
      "[20]\teval-mlogloss:0.65942\n",
      "[30]\teval-mlogloss:0.60751\n",
      "[40]\teval-mlogloss:0.58245\n",
      "[50]\teval-mlogloss:0.56719\n",
      "[60]\teval-mlogloss:0.55425\n",
      "[70]\teval-mlogloss:0.54356\n",
      "[80]\teval-mlogloss:0.53335\n",
      "[90]\teval-mlogloss:0.52573\n",
      "[99]\teval-mlogloss:0.51942\n",
      "4 {'n_estimators': 100, 'learning_rate': 0.2, 'max_depth': 4, 'random_state': 1337, 'dtrain': <xgboost.core.DMatrix object at 0x000000002461E210>, 'dtest': <xgboost.core.DMatrix object at 0x000000002461CF50>}\n",
      "[0]\teval-mlogloss:1.60105\n"
     ]
    },
    {
     "name": "stderr",
     "output_type": "stream",
     "text": [
      "S:\\anaconda\\envs\\study\\Lib\\site-packages\\xgboost\\training.py:183: UserWarning: [17:40:40] WARNING: C:\\b\\abs_d97hy_84m6\\croot\\xgboost-split_1749630932152\\work\\src\\learner.cc:738: \n",
      "Parameters: { \"early_stopping_rounds\" } are not used.\n",
      "\n",
      "  bst.update(dtrain, iteration=i, fobj=obj)\n"
     ]
    },
    {
     "name": "stdout",
     "output_type": "stream",
     "text": [
      "[10]\teval-mlogloss:0.76272\n",
      "[20]\teval-mlogloss:0.61594\n",
      "[30]\teval-mlogloss:0.56278\n",
      "[40]\teval-mlogloss:0.53558\n",
      "[50]\teval-mlogloss:0.51846\n",
      "[60]\teval-mlogloss:0.50601\n",
      "[70]\teval-mlogloss:0.49420\n",
      "[80]\teval-mlogloss:0.48439\n",
      "[90]\teval-mlogloss:0.47455\n",
      "[99]\teval-mlogloss:0.46682\n",
      "5 {'n_estimators': 100, 'learning_rate': 0.2, 'max_depth': 5, 'random_state': 1337, 'dtrain': <xgboost.core.DMatrix object at 0x000000002461E210>, 'dtest': <xgboost.core.DMatrix object at 0x000000002461CF50>}\n",
      "[0]\teval-mlogloss:1.58652\n"
     ]
    },
    {
     "name": "stderr",
     "output_type": "stream",
     "text": [
      "S:\\anaconda\\envs\\study\\Lib\\site-packages\\xgboost\\training.py:183: UserWarning: [17:40:48] WARNING: C:\\b\\abs_d97hy_84m6\\croot\\xgboost-split_1749630932152\\work\\src\\learner.cc:738: \n",
      "Parameters: { \"early_stopping_rounds\" } are not used.\n",
      "\n",
      "  bst.update(dtrain, iteration=i, fobj=obj)\n"
     ]
    },
    {
     "name": "stdout",
     "output_type": "stream",
     "text": [
      "[10]\teval-mlogloss:0.72177\n",
      "[20]\teval-mlogloss:0.57003\n",
      "[30]\teval-mlogloss:0.51667\n",
      "[40]\teval-mlogloss:0.48850\n",
      "[50]\teval-mlogloss:0.47118\n",
      "[60]\teval-mlogloss:0.45774\n",
      "[70]\teval-mlogloss:0.44638\n",
      "[80]\teval-mlogloss:0.43400\n",
      "[90]\teval-mlogloss:0.42122\n",
      "[99]\teval-mlogloss:0.41080\n",
      "6 {'n_estimators': 100, 'learning_rate': 0.05, 'max_depth': 3, 'random_state': 1337, 'dtrain': <xgboost.core.DMatrix object at 0x000000002461E210>, 'dtest': <xgboost.core.DMatrix object at 0x000000002461CF50>}\n",
      "[0]\teval-mlogloss:1.85915\n"
     ]
    },
    {
     "name": "stderr",
     "output_type": "stream",
     "text": [
      "S:\\anaconda\\envs\\study\\Lib\\site-packages\\xgboost\\training.py:183: UserWarning: [17:40:56] WARNING: C:\\b\\abs_d97hy_84m6\\croot\\xgboost-split_1749630932152\\work\\src\\learner.cc:738: \n",
      "Parameters: { \"early_stopping_rounds\" } are not used.\n",
      "\n",
      "  bst.update(dtrain, iteration=i, fobj=obj)\n"
     ]
    },
    {
     "name": "stdout",
     "output_type": "stream",
     "text": [
      "[10]\teval-mlogloss:1.34467\n",
      "[20]\teval-mlogloss:1.09012\n",
      "[30]\teval-mlogloss:0.93819\n",
      "[40]\teval-mlogloss:0.84047\n",
      "[50]\teval-mlogloss:0.77641\n",
      "[60]\teval-mlogloss:0.73085\n",
      "[70]\teval-mlogloss:0.69797\n",
      "[80]\teval-mlogloss:0.67310\n",
      "[90]\teval-mlogloss:0.65344\n",
      "[99]\teval-mlogloss:0.63896\n",
      "7 {'n_estimators': 100, 'learning_rate': 0.05, 'max_depth': 4, 'random_state': 1337, 'dtrain': <xgboost.core.DMatrix object at 0x000000002461E210>, 'dtest': <xgboost.core.DMatrix object at 0x000000002461CF50>}\n",
      "[0]\teval-mlogloss:1.85515\n"
     ]
    },
    {
     "name": "stderr",
     "output_type": "stream",
     "text": [
      "S:\\anaconda\\envs\\study\\Lib\\site-packages\\xgboost\\training.py:183: UserWarning: [17:41:02] WARNING: C:\\b\\abs_d97hy_84m6\\croot\\xgboost-split_1749630932152\\work\\src\\learner.cc:738: \n",
      "Parameters: { \"early_stopping_rounds\" } are not used.\n",
      "\n",
      "  bst.update(dtrain, iteration=i, fobj=obj)\n"
     ]
    },
    {
     "name": "stdout",
     "output_type": "stream",
     "text": [
      "[10]\teval-mlogloss:1.32180\n",
      "[20]\teval-mlogloss:1.05835\n",
      "[30]\teval-mlogloss:0.90137\n",
      "[40]\teval-mlogloss:0.80076\n",
      "[50]\teval-mlogloss:0.73467\n",
      "[60]\teval-mlogloss:0.68771\n",
      "[70]\teval-mlogloss:0.65336\n",
      "[80]\teval-mlogloss:0.62746\n",
      "[90]\teval-mlogloss:0.60669\n",
      "[99]\teval-mlogloss:0.59177\n",
      "8 {'n_estimators': 100, 'learning_rate': 0.05, 'max_depth': 5, 'random_state': 1337, 'dtrain': <xgboost.core.DMatrix object at 0x000000002461E210>, 'dtest': <xgboost.core.DMatrix object at 0x000000002461CF50>}\n",
      "[0]\teval-mlogloss:1.85131\n"
     ]
    },
    {
     "name": "stderr",
     "output_type": "stream",
     "text": [
      "S:\\anaconda\\envs\\study\\Lib\\site-packages\\xgboost\\training.py:183: UserWarning: [17:41:10] WARNING: C:\\b\\abs_d97hy_84m6\\croot\\xgboost-split_1749630932152\\work\\src\\learner.cc:738: \n",
      "Parameters: { \"early_stopping_rounds\" } are not used.\n",
      "\n",
      "  bst.update(dtrain, iteration=i, fobj=obj)\n"
     ]
    },
    {
     "name": "stdout",
     "output_type": "stream",
     "text": [
      "[10]\teval-mlogloss:1.30052\n",
      "[20]\teval-mlogloss:1.02803\n",
      "[30]\teval-mlogloss:0.86564\n",
      "[40]\teval-mlogloss:0.76149\n",
      "[50]\teval-mlogloss:0.69318\n",
      "[60]\teval-mlogloss:0.64566\n",
      "[70]\teval-mlogloss:0.61044\n",
      "[80]\teval-mlogloss:0.58346\n",
      "[90]\teval-mlogloss:0.56206\n",
      "[99]\teval-mlogloss:0.54659\n",
      "9 {'n_estimators': 50, 'learning_rate': 0.1, 'max_depth': 3, 'random_state': 1337, 'dtrain': <xgboost.core.DMatrix object at 0x000000002461E210>, 'dtest': <xgboost.core.DMatrix object at 0x000000002461CF50>}\n",
      "[0]\teval-mlogloss:1.77512\n"
     ]
    },
    {
     "name": "stderr",
     "output_type": "stream",
     "text": [
      "S:\\anaconda\\envs\\study\\Lib\\site-packages\\xgboost\\training.py:183: UserWarning: [17:41:18] WARNING: C:\\b\\abs_d97hy_84m6\\croot\\xgboost-split_1749630932152\\work\\src\\learner.cc:738: \n",
      "Parameters: { \"early_stopping_rounds\" } are not used.\n",
      "\n",
      "  bst.update(dtrain, iteration=i, fobj=obj)\n"
     ]
    },
    {
     "name": "stdout",
     "output_type": "stream",
     "text": [
      "[10]\teval-mlogloss:1.05970\n",
      "[20]\teval-mlogloss:0.82777\n",
      "[30]\teval-mlogloss:0.72393\n",
      "[40]\teval-mlogloss:0.66810\n",
      "[49]\teval-mlogloss:0.63766\n",
      "10 {'n_estimators': 50, 'learning_rate': 0.1, 'max_depth': 4, 'random_state': 1337, 'dtrain': <xgboost.core.DMatrix object at 0x000000002461E210>, 'dtest': <xgboost.core.DMatrix object at 0x000000002461CF50>}\n",
      "[0]\teval-mlogloss:1.76727\n"
     ]
    },
    {
     "name": "stderr",
     "output_type": "stream",
     "text": [
      "S:\\anaconda\\envs\\study\\Lib\\site-packages\\xgboost\\training.py:183: UserWarning: [17:41:21] WARNING: C:\\b\\abs_d97hy_84m6\\croot\\xgboost-split_1749630932152\\work\\src\\learner.cc:738: \n",
      "Parameters: { \"early_stopping_rounds\" } are not used.\n",
      "\n",
      "  bst.update(dtrain, iteration=i, fobj=obj)\n"
     ]
    },
    {
     "name": "stdout",
     "output_type": "stream",
     "text": [
      "[10]\teval-mlogloss:1.02666\n",
      "[20]\teval-mlogloss:0.78739\n",
      "[30]\teval-mlogloss:0.68026\n",
      "[40]\teval-mlogloss:0.62253\n",
      "[49]\teval-mlogloss:0.59122\n",
      "11 {'n_estimators': 50, 'learning_rate': 0.1, 'max_depth': 5, 'random_state': 1337, 'dtrain': <xgboost.core.DMatrix object at 0x000000002461E210>, 'dtest': <xgboost.core.DMatrix object at 0x000000002461CF50>}\n",
      "[0]\teval-mlogloss:1.75971\n"
     ]
    },
    {
     "name": "stderr",
     "output_type": "stream",
     "text": [
      "S:\\anaconda\\envs\\study\\Lib\\site-packages\\xgboost\\training.py:183: UserWarning: [17:41:25] WARNING: C:\\b\\abs_d97hy_84m6\\croot\\xgboost-split_1749630932152\\work\\src\\learner.cc:738: \n",
      "Parameters: { \"early_stopping_rounds\" } are not used.\n",
      "\n",
      "  bst.update(dtrain, iteration=i, fobj=obj)\n"
     ]
    },
    {
     "name": "stdout",
     "output_type": "stream",
     "text": [
      "[10]\teval-mlogloss:0.99490\n",
      "[20]\teval-mlogloss:0.74716\n",
      "[30]\teval-mlogloss:0.63674\n",
      "[40]\teval-mlogloss:0.57809\n",
      "[49]\teval-mlogloss:0.54561\n",
      "12 {'n_estimators': 50, 'learning_rate': 0.2, 'max_depth': 3, 'random_state': 1337, 'dtrain': <xgboost.core.DMatrix object at 0x000000002461E210>, 'dtest': <xgboost.core.DMatrix object at 0x000000002461CF50>}\n",
      "[0]\teval-mlogloss:1.61612\n"
     ]
    },
    {
     "name": "stderr",
     "output_type": "stream",
     "text": [
      "S:\\anaconda\\envs\\study\\Lib\\site-packages\\xgboost\\training.py:183: UserWarning: [17:41:29] WARNING: C:\\b\\abs_d97hy_84m6\\croot\\xgboost-split_1749630932152\\work\\src\\learner.cc:738: \n",
      "Parameters: { \"early_stopping_rounds\" } are not used.\n",
      "\n",
      "  bst.update(dtrain, iteration=i, fobj=obj)\n"
     ]
    },
    {
     "name": "stdout",
     "output_type": "stream",
     "text": [
      "[10]\teval-mlogloss:0.80243\n",
      "[20]\teval-mlogloss:0.65942\n",
      "[30]\teval-mlogloss:0.60751\n",
      "[40]\teval-mlogloss:0.58245\n",
      "[49]\teval-mlogloss:0.56879\n",
      "13 {'n_estimators': 50, 'learning_rate': 0.2, 'max_depth': 4, 'random_state': 1337, 'dtrain': <xgboost.core.DMatrix object at 0x000000002461E210>, 'dtest': <xgboost.core.DMatrix object at 0x000000002461CF50>}\n",
      "[0]\teval-mlogloss:1.60105\n"
     ]
    },
    {
     "name": "stderr",
     "output_type": "stream",
     "text": [
      "S:\\anaconda\\envs\\study\\Lib\\site-packages\\xgboost\\training.py:183: UserWarning: [17:41:32] WARNING: C:\\b\\abs_d97hy_84m6\\croot\\xgboost-split_1749630932152\\work\\src\\learner.cc:738: \n",
      "Parameters: { \"early_stopping_rounds\" } are not used.\n",
      "\n",
      "  bst.update(dtrain, iteration=i, fobj=obj)\n"
     ]
    },
    {
     "name": "stdout",
     "output_type": "stream",
     "text": [
      "[10]\teval-mlogloss:0.76272\n",
      "[20]\teval-mlogloss:0.61594\n",
      "[30]\teval-mlogloss:0.56278\n",
      "[40]\teval-mlogloss:0.53558\n",
      "[49]\teval-mlogloss:0.51983\n",
      "14 {'n_estimators': 50, 'learning_rate': 0.2, 'max_depth': 5, 'random_state': 1337, 'dtrain': <xgboost.core.DMatrix object at 0x000000002461E210>, 'dtest': <xgboost.core.DMatrix object at 0x000000002461CF50>}\n",
      "[0]\teval-mlogloss:1.58652\n"
     ]
    },
    {
     "name": "stderr",
     "output_type": "stream",
     "text": [
      "S:\\anaconda\\envs\\study\\Lib\\site-packages\\xgboost\\training.py:183: UserWarning: [17:41:36] WARNING: C:\\b\\abs_d97hy_84m6\\croot\\xgboost-split_1749630932152\\work\\src\\learner.cc:738: \n",
      "Parameters: { \"early_stopping_rounds\" } are not used.\n",
      "\n",
      "  bst.update(dtrain, iteration=i, fobj=obj)\n"
     ]
    },
    {
     "name": "stdout",
     "output_type": "stream",
     "text": [
      "[10]\teval-mlogloss:0.72177\n",
      "[20]\teval-mlogloss:0.57003\n",
      "[30]\teval-mlogloss:0.51667\n",
      "[40]\teval-mlogloss:0.48850\n",
      "[49]\teval-mlogloss:0.47284\n",
      "15 {'n_estimators': 50, 'learning_rate': 0.05, 'max_depth': 3, 'random_state': 1337, 'dtrain': <xgboost.core.DMatrix object at 0x000000002461E210>, 'dtest': <xgboost.core.DMatrix object at 0x000000002461CF50>}\n",
      "[0]\teval-mlogloss:1.85915\n"
     ]
    },
    {
     "name": "stderr",
     "output_type": "stream",
     "text": [
      "S:\\anaconda\\envs\\study\\Lib\\site-packages\\xgboost\\training.py:183: UserWarning: [17:41:40] WARNING: C:\\b\\abs_d97hy_84m6\\croot\\xgboost-split_1749630932152\\work\\src\\learner.cc:738: \n",
      "Parameters: { \"early_stopping_rounds\" } are not used.\n",
      "\n",
      "  bst.update(dtrain, iteration=i, fobj=obj)\n"
     ]
    },
    {
     "name": "stdout",
     "output_type": "stream",
     "text": [
      "[10]\teval-mlogloss:1.34467\n",
      "[20]\teval-mlogloss:1.09012\n",
      "[30]\teval-mlogloss:0.93819\n",
      "[40]\teval-mlogloss:0.84047\n",
      "[49]\teval-mlogloss:0.78191\n",
      "16 {'n_estimators': 50, 'learning_rate': 0.05, 'max_depth': 4, 'random_state': 1337, 'dtrain': <xgboost.core.DMatrix object at 0x000000002461E210>, 'dtest': <xgboost.core.DMatrix object at 0x000000002461CF50>}\n",
      "[0]\teval-mlogloss:1.85515\n"
     ]
    },
    {
     "name": "stderr",
     "output_type": "stream",
     "text": [
      "S:\\anaconda\\envs\\study\\Lib\\site-packages\\sklearn\\metrics\\_classification.py:1565: UndefinedMetricWarning: Precision is ill-defined and being set to 0.0 in labels with no predicted samples. Use `zero_division` parameter to control this behavior.\n",
      "  _warn_prf(average, modifier, f\"{metric.capitalize()} is\", len(result))\n",
      "S:\\anaconda\\envs\\study\\Lib\\site-packages\\sklearn\\metrics\\_classification.py:1565: UndefinedMetricWarning: Precision is ill-defined and being set to 0.0 in labels with no predicted samples. Use `zero_division` parameter to control this behavior.\n",
      "  _warn_prf(average, modifier, f\"{metric.capitalize()} is\", len(result))\n",
      "S:\\anaconda\\envs\\study\\Lib\\site-packages\\sklearn\\metrics\\_classification.py:1565: UndefinedMetricWarning: Precision is ill-defined and being set to 0.0 in labels with no predicted samples. Use `zero_division` parameter to control this behavior.\n",
      "  _warn_prf(average, modifier, f\"{metric.capitalize()} is\", len(result))\n",
      "S:\\anaconda\\envs\\study\\Lib\\site-packages\\xgboost\\training.py:183: UserWarning: [17:41:43] WARNING: C:\\b\\abs_d97hy_84m6\\croot\\xgboost-split_1749630932152\\work\\src\\learner.cc:738: \n",
      "Parameters: { \"early_stopping_rounds\" } are not used.\n",
      "\n",
      "  bst.update(dtrain, iteration=i, fobj=obj)\n"
     ]
    },
    {
     "name": "stdout",
     "output_type": "stream",
     "text": [
      "[10]\teval-mlogloss:1.32180\n",
      "[20]\teval-mlogloss:1.05835\n",
      "[30]\teval-mlogloss:0.90137\n",
      "[40]\teval-mlogloss:0.80076\n",
      "[49]\teval-mlogloss:0.74058\n",
      "17 {'n_estimators': 50, 'learning_rate': 0.05, 'max_depth': 5, 'random_state': 1337, 'dtrain': <xgboost.core.DMatrix object at 0x000000002461E210>, 'dtest': <xgboost.core.DMatrix object at 0x000000002461CF50>}\n",
      "[0]\teval-mlogloss:1.85131\n"
     ]
    },
    {
     "name": "stderr",
     "output_type": "stream",
     "text": [
      "S:\\anaconda\\envs\\study\\Lib\\site-packages\\xgboost\\training.py:183: UserWarning: [17:41:47] WARNING: C:\\b\\abs_d97hy_84m6\\croot\\xgboost-split_1749630932152\\work\\src\\learner.cc:738: \n",
      "Parameters: { \"early_stopping_rounds\" } are not used.\n",
      "\n",
      "  bst.update(dtrain, iteration=i, fobj=obj)\n"
     ]
    },
    {
     "name": "stdout",
     "output_type": "stream",
     "text": [
      "[10]\teval-mlogloss:1.30052\n",
      "[20]\teval-mlogloss:1.02803\n",
      "[30]\teval-mlogloss:0.86564\n",
      "[40]\teval-mlogloss:0.76149\n",
      "[49]\teval-mlogloss:0.69896\n",
      "18 {'n_estimators': 20, 'learning_rate': 0.1, 'max_depth': 3, 'random_state': 1337, 'dtrain': <xgboost.core.DMatrix object at 0x000000002461E210>, 'dtest': <xgboost.core.DMatrix object at 0x000000002461CF50>}\n",
      "[0]\teval-mlogloss:1.77512\n"
     ]
    },
    {
     "name": "stderr",
     "output_type": "stream",
     "text": [
      "S:\\anaconda\\envs\\study\\Lib\\site-packages\\xgboost\\training.py:183: UserWarning: [17:41:50] WARNING: C:\\b\\abs_d97hy_84m6\\croot\\xgboost-split_1749630932152\\work\\src\\learner.cc:738: \n",
      "Parameters: { \"early_stopping_rounds\" } are not used.\n",
      "\n",
      "  bst.update(dtrain, iteration=i, fobj=obj)\n"
     ]
    },
    {
     "name": "stdout",
     "output_type": "stream",
     "text": [
      "[10]\teval-mlogloss:1.05970\n",
      "[19]\teval-mlogloss:0.84351\n",
      "19 {'n_estimators': 20, 'learning_rate': 0.1, 'max_depth': 4, 'random_state': 1337, 'dtrain': <xgboost.core.DMatrix object at 0x000000002461E210>, 'dtest': <xgboost.core.DMatrix object at 0x000000002461CF50>}\n",
      "[0]\teval-mlogloss:1.76727\n"
     ]
    },
    {
     "name": "stderr",
     "output_type": "stream",
     "text": [
      "S:\\anaconda\\envs\\study\\Lib\\site-packages\\xgboost\\training.py:183: UserWarning: [17:41:52] WARNING: C:\\b\\abs_d97hy_84m6\\croot\\xgboost-split_1749630932152\\work\\src\\learner.cc:738: \n",
      "Parameters: { \"early_stopping_rounds\" } are not used.\n",
      "\n",
      "  bst.update(dtrain, iteration=i, fobj=obj)\n"
     ]
    },
    {
     "name": "stdout",
     "output_type": "stream",
     "text": [
      "[10]\teval-mlogloss:1.02666\n",
      "[19]\teval-mlogloss:0.80359\n",
      "20 {'n_estimators': 20, 'learning_rate': 0.1, 'max_depth': 5, 'random_state': 1337, 'dtrain': <xgboost.core.DMatrix object at 0x000000002461E210>, 'dtest': <xgboost.core.DMatrix object at 0x000000002461CF50>}\n",
      "[0]\teval-mlogloss:1.75971\n"
     ]
    },
    {
     "name": "stderr",
     "output_type": "stream",
     "text": [
      "S:\\anaconda\\envs\\study\\Lib\\site-packages\\xgboost\\training.py:183: UserWarning: [17:41:53] WARNING: C:\\b\\abs_d97hy_84m6\\croot\\xgboost-split_1749630932152\\work\\src\\learner.cc:738: \n",
      "Parameters: { \"early_stopping_rounds\" } are not used.\n",
      "\n",
      "  bst.update(dtrain, iteration=i, fobj=obj)\n"
     ]
    },
    {
     "name": "stdout",
     "output_type": "stream",
     "text": [
      "[10]\teval-mlogloss:0.99490\n",
      "[19]\teval-mlogloss:0.76389\n",
      "21 {'n_estimators': 20, 'learning_rate': 0.2, 'max_depth': 3, 'random_state': 1337, 'dtrain': <xgboost.core.DMatrix object at 0x000000002461E210>, 'dtest': <xgboost.core.DMatrix object at 0x000000002461CF50>}\n",
      "[0]\teval-mlogloss:1.61612\n"
     ]
    },
    {
     "name": "stderr",
     "output_type": "stream",
     "text": [
      "S:\\anaconda\\envs\\study\\Lib\\site-packages\\xgboost\\training.py:183: UserWarning: [17:41:55] WARNING: C:\\b\\abs_d97hy_84m6\\croot\\xgboost-split_1749630932152\\work\\src\\learner.cc:738: \n",
      "Parameters: { \"early_stopping_rounds\" } are not used.\n",
      "\n",
      "  bst.update(dtrain, iteration=i, fobj=obj)\n"
     ]
    },
    {
     "name": "stdout",
     "output_type": "stream",
     "text": [
      "[10]\teval-mlogloss:0.80243\n",
      "[19]\teval-mlogloss:0.66746\n",
      "22 {'n_estimators': 20, 'learning_rate': 0.2, 'max_depth': 4, 'random_state': 1337, 'dtrain': <xgboost.core.DMatrix object at 0x000000002461E210>, 'dtest': <xgboost.core.DMatrix object at 0x000000002461CF50>}\n",
      "[0]\teval-mlogloss:1.60105\n"
     ]
    },
    {
     "name": "stderr",
     "output_type": "stream",
     "text": [
      "S:\\anaconda\\envs\\study\\Lib\\site-packages\\xgboost\\training.py:183: UserWarning: [17:41:56] WARNING: C:\\b\\abs_d97hy_84m6\\croot\\xgboost-split_1749630932152\\work\\src\\learner.cc:738: \n",
      "Parameters: { \"early_stopping_rounds\" } are not used.\n",
      "\n",
      "  bst.update(dtrain, iteration=i, fobj=obj)\n"
     ]
    },
    {
     "name": "stdout",
     "output_type": "stream",
     "text": [
      "[10]\teval-mlogloss:0.76272\n",
      "[19]\teval-mlogloss:0.62424\n",
      "23 {'n_estimators': 20, 'learning_rate': 0.2, 'max_depth': 5, 'random_state': 1337, 'dtrain': <xgboost.core.DMatrix object at 0x000000002461E210>, 'dtest': <xgboost.core.DMatrix object at 0x000000002461CF50>}\n",
      "[0]\teval-mlogloss:1.58652\n"
     ]
    },
    {
     "name": "stderr",
     "output_type": "stream",
     "text": [
      "S:\\anaconda\\envs\\study\\Lib\\site-packages\\xgboost\\training.py:183: UserWarning: [17:41:58] WARNING: C:\\b\\abs_d97hy_84m6\\croot\\xgboost-split_1749630932152\\work\\src\\learner.cc:738: \n",
      "Parameters: { \"early_stopping_rounds\" } are not used.\n",
      "\n",
      "  bst.update(dtrain, iteration=i, fobj=obj)\n"
     ]
    },
    {
     "name": "stdout",
     "output_type": "stream",
     "text": [
      "[10]\teval-mlogloss:0.72177\n",
      "[19]\teval-mlogloss:0.57896\n",
      "24 {'n_estimators': 20, 'learning_rate': 0.05, 'max_depth': 3, 'random_state': 1337, 'dtrain': <xgboost.core.DMatrix object at 0x000000002461E210>, 'dtest': <xgboost.core.DMatrix object at 0x000000002461CF50>}\n",
      "[0]\teval-mlogloss:1.85915\n"
     ]
    },
    {
     "name": "stderr",
     "output_type": "stream",
     "text": [
      "S:\\anaconda\\envs\\study\\Lib\\site-packages\\xgboost\\training.py:183: UserWarning: [17:41:59] WARNING: C:\\b\\abs_d97hy_84m6\\croot\\xgboost-split_1749630932152\\work\\src\\learner.cc:738: \n",
      "Parameters: { \"early_stopping_rounds\" } are not used.\n",
      "\n",
      "  bst.update(dtrain, iteration=i, fobj=obj)\n"
     ]
    },
    {
     "name": "stdout",
     "output_type": "stream",
     "text": [
      "[10]\teval-mlogloss:1.34467\n",
      "[19]\teval-mlogloss:1.11027\n",
      "25 {'n_estimators': 20, 'learning_rate': 0.05, 'max_depth': 4, 'random_state': 1337, 'dtrain': <xgboost.core.DMatrix object at 0x000000002461E210>, 'dtest': <xgboost.core.DMatrix object at 0x000000002461CF50>}\n",
      "[0]\teval-mlogloss:1.85515\n"
     ]
    },
    {
     "name": "stderr",
     "output_type": "stream",
     "text": [
      "S:\\anaconda\\envs\\study\\Lib\\site-packages\\sklearn\\metrics\\_classification.py:1565: UndefinedMetricWarning: Precision is ill-defined and being set to 0.0 in labels with no predicted samples. Use `zero_division` parameter to control this behavior.\n",
      "  _warn_prf(average, modifier, f\"{metric.capitalize()} is\", len(result))\n",
      "S:\\anaconda\\envs\\study\\Lib\\site-packages\\sklearn\\metrics\\_classification.py:1565: UndefinedMetricWarning: Precision is ill-defined and being set to 0.0 in labels with no predicted samples. Use `zero_division` parameter to control this behavior.\n",
      "  _warn_prf(average, modifier, f\"{metric.capitalize()} is\", len(result))\n",
      "S:\\anaconda\\envs\\study\\Lib\\site-packages\\sklearn\\metrics\\_classification.py:1565: UndefinedMetricWarning: Precision is ill-defined and being set to 0.0 in labels with no predicted samples. Use `zero_division` parameter to control this behavior.\n",
      "  _warn_prf(average, modifier, f\"{metric.capitalize()} is\", len(result))\n",
      "S:\\anaconda\\envs\\study\\Lib\\site-packages\\xgboost\\training.py:183: UserWarning: [17:42:01] WARNING: C:\\b\\abs_d97hy_84m6\\croot\\xgboost-split_1749630932152\\work\\src\\learner.cc:738: \n",
      "Parameters: { \"early_stopping_rounds\" } are not used.\n",
      "\n",
      "  bst.update(dtrain, iteration=i, fobj=obj)\n"
     ]
    },
    {
     "name": "stdout",
     "output_type": "stream",
     "text": [
      "[10]\teval-mlogloss:1.32180\n",
      "[19]\teval-mlogloss:1.07915\n",
      "26 {'n_estimators': 20, 'learning_rate': 0.05, 'max_depth': 5, 'random_state': 1337, 'dtrain': <xgboost.core.DMatrix object at 0x000000002461E210>, 'dtest': <xgboost.core.DMatrix object at 0x000000002461CF50>}\n",
      "[0]\teval-mlogloss:1.85131\n"
     ]
    },
    {
     "name": "stderr",
     "output_type": "stream",
     "text": [
      "S:\\anaconda\\envs\\study\\Lib\\site-packages\\xgboost\\training.py:183: UserWarning: [17:42:02] WARNING: C:\\b\\abs_d97hy_84m6\\croot\\xgboost-split_1749630932152\\work\\src\\learner.cc:738: \n",
      "Parameters: { \"early_stopping_rounds\" } are not used.\n",
      "\n",
      "  bst.update(dtrain, iteration=i, fobj=obj)\n"
     ]
    },
    {
     "name": "stdout",
     "output_type": "stream",
     "text": [
      "[10]\teval-mlogloss:1.30052\n",
      "[19]\teval-mlogloss:1.04946\n",
      "27 {'n_estimators': 200, 'learning_rate': 0.1, 'max_depth': 3, 'random_state': 1337, 'dtrain': <xgboost.core.DMatrix object at 0x000000002461E210>, 'dtest': <xgboost.core.DMatrix object at 0x000000002461CF50>}\n",
      "[0]\teval-mlogloss:1.77512\n"
     ]
    },
    {
     "name": "stderr",
     "output_type": "stream",
     "text": [
      "S:\\anaconda\\envs\\study\\Lib\\site-packages\\xgboost\\training.py:183: UserWarning: [17:42:04] WARNING: C:\\b\\abs_d97hy_84m6\\croot\\xgboost-split_1749630932152\\work\\src\\learner.cc:738: \n",
      "Parameters: { \"early_stopping_rounds\" } are not used.\n",
      "\n",
      "  bst.update(dtrain, iteration=i, fobj=obj)\n"
     ]
    },
    {
     "name": "stdout",
     "output_type": "stream",
     "text": [
      "[10]\teval-mlogloss:1.05970\n",
      "[20]\teval-mlogloss:0.82777\n",
      "[30]\teval-mlogloss:0.72393\n",
      "[40]\teval-mlogloss:0.66810\n",
      "[50]\teval-mlogloss:0.63428\n",
      "[60]\teval-mlogloss:0.61141\n",
      "[70]\teval-mlogloss:0.59612\n",
      "[80]\teval-mlogloss:0.58467\n",
      "[90]\teval-mlogloss:0.57540\n",
      "[100]\teval-mlogloss:0.56818\n",
      "[110]\teval-mlogloss:0.56204\n",
      "[120]\teval-mlogloss:0.55552\n",
      "[130]\teval-mlogloss:0.54987\n",
      "[140]\teval-mlogloss:0.54423\n",
      "[150]\teval-mlogloss:0.53901\n",
      "[160]\teval-mlogloss:0.53454\n",
      "[170]\teval-mlogloss:0.52983\n",
      "[180]\teval-mlogloss:0.52624\n",
      "[190]\teval-mlogloss:0.52270\n",
      "[199]\teval-mlogloss:0.51936\n",
      "28 {'n_estimators': 200, 'learning_rate': 0.1, 'max_depth': 4, 'random_state': 1337, 'dtrain': <xgboost.core.DMatrix object at 0x000000002461E210>, 'dtest': <xgboost.core.DMatrix object at 0x000000002461CF50>}\n",
      "[0]\teval-mlogloss:1.76727\n"
     ]
    },
    {
     "name": "stderr",
     "output_type": "stream",
     "text": [
      "S:\\anaconda\\envs\\study\\Lib\\site-packages\\xgboost\\training.py:183: UserWarning: [17:42:18] WARNING: C:\\b\\abs_d97hy_84m6\\croot\\xgboost-split_1749630932152\\work\\src\\learner.cc:738: \n",
      "Parameters: { \"early_stopping_rounds\" } are not used.\n",
      "\n",
      "  bst.update(dtrain, iteration=i, fobj=obj)\n"
     ]
    },
    {
     "name": "stdout",
     "output_type": "stream",
     "text": [
      "[10]\teval-mlogloss:1.02666\n",
      "[20]\teval-mlogloss:0.78739\n",
      "[30]\teval-mlogloss:0.68026\n",
      "[40]\teval-mlogloss:0.62253\n",
      "[50]\teval-mlogloss:0.58811\n",
      "[60]\teval-mlogloss:0.56479\n",
      "[70]\teval-mlogloss:0.54924\n",
      "[80]\teval-mlogloss:0.53750\n",
      "[90]\teval-mlogloss:0.52733\n",
      "[100]\teval-mlogloss:0.51990\n",
      "[110]\teval-mlogloss:0.51265\n",
      "[120]\teval-mlogloss:0.50583\n",
      "[130]\teval-mlogloss:0.49968\n",
      "[140]\teval-mlogloss:0.49430\n",
      "[150]\teval-mlogloss:0.48847\n",
      "[160]\teval-mlogloss:0.48387\n",
      "[170]\teval-mlogloss:0.47922\n",
      "[180]\teval-mlogloss:0.47470\n",
      "[190]\teval-mlogloss:0.46970\n",
      "[199]\teval-mlogloss:0.46560\n",
      "29 {'n_estimators': 200, 'learning_rate': 0.1, 'max_depth': 5, 'random_state': 1337, 'dtrain': <xgboost.core.DMatrix object at 0x000000002461E210>, 'dtest': <xgboost.core.DMatrix object at 0x000000002461CF50>}\n",
      "[0]\teval-mlogloss:1.75971\n"
     ]
    },
    {
     "name": "stderr",
     "output_type": "stream",
     "text": [
      "S:\\anaconda\\envs\\study\\Lib\\site-packages\\xgboost\\training.py:183: UserWarning: [17:42:33] WARNING: C:\\b\\abs_d97hy_84m6\\croot\\xgboost-split_1749630932152\\work\\src\\learner.cc:738: \n",
      "Parameters: { \"early_stopping_rounds\" } are not used.\n",
      "\n",
      "  bst.update(dtrain, iteration=i, fobj=obj)\n"
     ]
    },
    {
     "name": "stdout",
     "output_type": "stream",
     "text": [
      "[10]\teval-mlogloss:0.99490\n",
      "[20]\teval-mlogloss:0.74716\n",
      "[30]\teval-mlogloss:0.63674\n",
      "[40]\teval-mlogloss:0.57809\n",
      "[50]\teval-mlogloss:0.54221\n",
      "[60]\teval-mlogloss:0.51790\n",
      "[70]\teval-mlogloss:0.50113\n",
      "[80]\teval-mlogloss:0.48930\n",
      "[90]\teval-mlogloss:0.47904\n",
      "[100]\teval-mlogloss:0.47094\n",
      "[110]\teval-mlogloss:0.46378\n",
      "[120]\teval-mlogloss:0.45724\n",
      "[130]\teval-mlogloss:0.45111\n",
      "[140]\teval-mlogloss:0.44539\n",
      "[150]\teval-mlogloss:0.43934\n",
      "[160]\teval-mlogloss:0.43356\n",
      "[170]\teval-mlogloss:0.42819\n",
      "[180]\teval-mlogloss:0.42272\n",
      "[190]\teval-mlogloss:0.41829\n",
      "[199]\teval-mlogloss:0.41362\n",
      "30 {'n_estimators': 200, 'learning_rate': 0.2, 'max_depth': 3, 'random_state': 1337, 'dtrain': <xgboost.core.DMatrix object at 0x000000002461E210>, 'dtest': <xgboost.core.DMatrix object at 0x000000002461CF50>}\n",
      "[0]\teval-mlogloss:1.61612\n"
     ]
    },
    {
     "name": "stderr",
     "output_type": "stream",
     "text": [
      "S:\\anaconda\\envs\\study\\Lib\\site-packages\\xgboost\\training.py:183: UserWarning: [17:42:48] WARNING: C:\\b\\abs_d97hy_84m6\\croot\\xgboost-split_1749630932152\\work\\src\\learner.cc:738: \n",
      "Parameters: { \"early_stopping_rounds\" } are not used.\n",
      "\n",
      "  bst.update(dtrain, iteration=i, fobj=obj)\n"
     ]
    },
    {
     "name": "stdout",
     "output_type": "stream",
     "text": [
      "[10]\teval-mlogloss:0.80243\n",
      "[20]\teval-mlogloss:0.65942\n",
      "[30]\teval-mlogloss:0.60751\n",
      "[40]\teval-mlogloss:0.58245\n",
      "[50]\teval-mlogloss:0.56719\n",
      "[60]\teval-mlogloss:0.55425\n",
      "[70]\teval-mlogloss:0.54356\n",
      "[80]\teval-mlogloss:0.53335\n",
      "[90]\teval-mlogloss:0.52573\n",
      "[100]\teval-mlogloss:0.51891\n",
      "[110]\teval-mlogloss:0.51274\n",
      "[120]\teval-mlogloss:0.50613\n",
      "[130]\teval-mlogloss:0.50009\n",
      "[140]\teval-mlogloss:0.49497\n",
      "[150]\teval-mlogloss:0.48873\n",
      "[160]\teval-mlogloss:0.48320\n",
      "[170]\teval-mlogloss:0.47920\n",
      "[180]\teval-mlogloss:0.47497\n",
      "[190]\teval-mlogloss:0.47143\n",
      "[199]\teval-mlogloss:0.46809\n",
      "31 {'n_estimators': 200, 'learning_rate': 0.2, 'max_depth': 4, 'random_state': 1337, 'dtrain': <xgboost.core.DMatrix object at 0x000000002461E210>, 'dtest': <xgboost.core.DMatrix object at 0x000000002461CF50>}\n",
      "[0]\teval-mlogloss:1.60105\n"
     ]
    },
    {
     "name": "stderr",
     "output_type": "stream",
     "text": [
      "S:\\anaconda\\envs\\study\\Lib\\site-packages\\xgboost\\training.py:183: UserWarning: [17:43:02] WARNING: C:\\b\\abs_d97hy_84m6\\croot\\xgboost-split_1749630932152\\work\\src\\learner.cc:738: \n",
      "Parameters: { \"early_stopping_rounds\" } are not used.\n",
      "\n",
      "  bst.update(dtrain, iteration=i, fobj=obj)\n"
     ]
    },
    {
     "name": "stdout",
     "output_type": "stream",
     "text": [
      "[10]\teval-mlogloss:0.76272\n",
      "[20]\teval-mlogloss:0.61594\n",
      "[30]\teval-mlogloss:0.56278\n",
      "[40]\teval-mlogloss:0.53558\n",
      "[50]\teval-mlogloss:0.51846\n",
      "[60]\teval-mlogloss:0.50601\n",
      "[70]\teval-mlogloss:0.49420\n",
      "[80]\teval-mlogloss:0.48439\n",
      "[90]\teval-mlogloss:0.47455\n",
      "[100]\teval-mlogloss:0.46628\n",
      "[110]\teval-mlogloss:0.45706\n",
      "[120]\teval-mlogloss:0.44826\n",
      "[130]\teval-mlogloss:0.44072\n",
      "[140]\teval-mlogloss:0.43415\n",
      "[150]\teval-mlogloss:0.42795\n",
      "[160]\teval-mlogloss:0.42164\n",
      "[170]\teval-mlogloss:0.41586\n",
      "[180]\teval-mlogloss:0.41134\n",
      "[190]\teval-mlogloss:0.40730\n",
      "[199]\teval-mlogloss:0.40301\n",
      "32 {'n_estimators': 200, 'learning_rate': 0.2, 'max_depth': 5, 'random_state': 1337, 'dtrain': <xgboost.core.DMatrix object at 0x000000002461E210>, 'dtest': <xgboost.core.DMatrix object at 0x000000002461CF50>}\n",
      "[0]\teval-mlogloss:1.58652\n"
     ]
    },
    {
     "name": "stderr",
     "output_type": "stream",
     "text": [
      "S:\\anaconda\\envs\\study\\Lib\\site-packages\\xgboost\\training.py:183: UserWarning: [17:43:16] WARNING: C:\\b\\abs_d97hy_84m6\\croot\\xgboost-split_1749630932152\\work\\src\\learner.cc:738: \n",
      "Parameters: { \"early_stopping_rounds\" } are not used.\n",
      "\n",
      "  bst.update(dtrain, iteration=i, fobj=obj)\n"
     ]
    },
    {
     "name": "stdout",
     "output_type": "stream",
     "text": [
      "[10]\teval-mlogloss:0.72177\n",
      "[20]\teval-mlogloss:0.57003\n",
      "[30]\teval-mlogloss:0.51667\n",
      "[40]\teval-mlogloss:0.48850\n",
      "[50]\teval-mlogloss:0.47118\n",
      "[60]\teval-mlogloss:0.45774\n",
      "[70]\teval-mlogloss:0.44638\n",
      "[80]\teval-mlogloss:0.43400\n",
      "[90]\teval-mlogloss:0.42122\n",
      "[100]\teval-mlogloss:0.41038\n",
      "[110]\teval-mlogloss:0.40168\n",
      "[120]\teval-mlogloss:0.39344\n",
      "[130]\teval-mlogloss:0.38264\n",
      "[140]\teval-mlogloss:0.37515\n",
      "[150]\teval-mlogloss:0.36784\n",
      "[160]\teval-mlogloss:0.36225\n",
      "[170]\teval-mlogloss:0.35470\n",
      "[180]\teval-mlogloss:0.35007\n",
      "[190]\teval-mlogloss:0.34597\n",
      "[199]\teval-mlogloss:0.34037\n",
      "33 {'n_estimators': 200, 'learning_rate': 0.05, 'max_depth': 3, 'random_state': 1337, 'dtrain': <xgboost.core.DMatrix object at 0x000000002461E210>, 'dtest': <xgboost.core.DMatrix object at 0x000000002461CF50>}\n",
      "[0]\teval-mlogloss:1.85915\n"
     ]
    },
    {
     "name": "stderr",
     "output_type": "stream",
     "text": [
      "S:\\anaconda\\envs\\study\\Lib\\site-packages\\xgboost\\training.py:183: UserWarning: [17:43:32] WARNING: C:\\b\\abs_d97hy_84m6\\croot\\xgboost-split_1749630932152\\work\\src\\learner.cc:738: \n",
      "Parameters: { \"early_stopping_rounds\" } are not used.\n",
      "\n",
      "  bst.update(dtrain, iteration=i, fobj=obj)\n"
     ]
    },
    {
     "name": "stdout",
     "output_type": "stream",
     "text": [
      "[10]\teval-mlogloss:1.34467\n",
      "[20]\teval-mlogloss:1.09012\n",
      "[30]\teval-mlogloss:0.93819\n",
      "[40]\teval-mlogloss:0.84047\n",
      "[50]\teval-mlogloss:0.77641\n",
      "[60]\teval-mlogloss:0.73085\n",
      "[70]\teval-mlogloss:0.69797\n",
      "[80]\teval-mlogloss:0.67310\n",
      "[90]\teval-mlogloss:0.65344\n",
      "[100]\teval-mlogloss:0.63758\n",
      "[110]\teval-mlogloss:0.62469\n",
      "[120]\teval-mlogloss:0.61388\n",
      "[130]\teval-mlogloss:0.60519\n",
      "[140]\teval-mlogloss:0.59766\n",
      "[150]\teval-mlogloss:0.59165\n",
      "[160]\teval-mlogloss:0.58650\n",
      "[170]\teval-mlogloss:0.58169\n",
      "[180]\teval-mlogloss:0.57720\n",
      "[190]\teval-mlogloss:0.57349\n",
      "[199]\teval-mlogloss:0.57001\n",
      "34 {'n_estimators': 200, 'learning_rate': 0.05, 'max_depth': 4, 'random_state': 1337, 'dtrain': <xgboost.core.DMatrix object at 0x000000002461E210>, 'dtest': <xgboost.core.DMatrix object at 0x000000002461CF50>}\n",
      "[0]\teval-mlogloss:1.85515\n"
     ]
    },
    {
     "name": "stderr",
     "output_type": "stream",
     "text": [
      "S:\\anaconda\\envs\\study\\Lib\\site-packages\\xgboost\\training.py:183: UserWarning: [17:43:45] WARNING: C:\\b\\abs_d97hy_84m6\\croot\\xgboost-split_1749630932152\\work\\src\\learner.cc:738: \n",
      "Parameters: { \"early_stopping_rounds\" } are not used.\n",
      "\n",
      "  bst.update(dtrain, iteration=i, fobj=obj)\n"
     ]
    },
    {
     "name": "stdout",
     "output_type": "stream",
     "text": [
      "[10]\teval-mlogloss:1.32180\n",
      "[20]\teval-mlogloss:1.05835\n",
      "[30]\teval-mlogloss:0.90137\n",
      "[40]\teval-mlogloss:0.80076\n",
      "[50]\teval-mlogloss:0.73467\n",
      "[60]\teval-mlogloss:0.68771\n",
      "[70]\teval-mlogloss:0.65336\n",
      "[80]\teval-mlogloss:0.62746\n",
      "[90]\teval-mlogloss:0.60669\n",
      "[100]\teval-mlogloss:0.59025\n",
      "[110]\teval-mlogloss:0.57732\n",
      "[120]\teval-mlogloss:0.56698\n",
      "[130]\teval-mlogloss:0.55808\n",
      "[140]\teval-mlogloss:0.55056\n",
      "[150]\teval-mlogloss:0.54375\n",
      "[160]\teval-mlogloss:0.53821\n",
      "[170]\teval-mlogloss:0.53314\n",
      "[180]\teval-mlogloss:0.52837\n",
      "[190]\teval-mlogloss:0.52478\n",
      "[199]\teval-mlogloss:0.52108\n",
      "35 {'n_estimators': 200, 'learning_rate': 0.05, 'max_depth': 5, 'random_state': 1337, 'dtrain': <xgboost.core.DMatrix object at 0x000000002461E210>, 'dtest': <xgboost.core.DMatrix object at 0x000000002461CF50>}\n",
      "[0]\teval-mlogloss:1.85131\n"
     ]
    },
    {
     "name": "stderr",
     "output_type": "stream",
     "text": [
      "S:\\anaconda\\envs\\study\\Lib\\site-packages\\xgboost\\training.py:183: UserWarning: [17:44:00] WARNING: C:\\b\\abs_d97hy_84m6\\croot\\xgboost-split_1749630932152\\work\\src\\learner.cc:738: \n",
      "Parameters: { \"early_stopping_rounds\" } are not used.\n",
      "\n",
      "  bst.update(dtrain, iteration=i, fobj=obj)\n"
     ]
    },
    {
     "name": "stdout",
     "output_type": "stream",
     "text": [
      "[10]\teval-mlogloss:1.30052\n",
      "[20]\teval-mlogloss:1.02803\n",
      "[30]\teval-mlogloss:0.86564\n",
      "[40]\teval-mlogloss:0.76149\n",
      "[50]\teval-mlogloss:0.69318\n",
      "[60]\teval-mlogloss:0.64566\n",
      "[70]\teval-mlogloss:0.61044\n",
      "[80]\teval-mlogloss:0.58346\n",
      "[90]\teval-mlogloss:0.56206\n",
      "[100]\teval-mlogloss:0.54523\n",
      "[110]\teval-mlogloss:0.53200\n",
      "[120]\teval-mlogloss:0.52096\n",
      "[130]\teval-mlogloss:0.51169\n",
      "[140]\teval-mlogloss:0.50443\n",
      "[150]\teval-mlogloss:0.49747\n",
      "[160]\teval-mlogloss:0.49155\n",
      "[170]\teval-mlogloss:0.48609\n",
      "[180]\teval-mlogloss:0.48079\n",
      "[190]\teval-mlogloss:0.47713\n",
      "[199]\teval-mlogloss:0.47352\n"
     ]
    }
   ],
   "source": [
    "import matplotlib.pyplot as plt\n",
    "from xgboost import plot_importance\n",
    "from scikeras.wrappers import KerasClassifier\n",
    "from tensorflow.keras.utils import to_categorical\n",
    "from sklearn.metrics import accuracy_score, balanced_accuracy_score, f1_score, classification_report, confusion_matrix\n",
    "from tensorflow.keras.callbacks import EarlyStopping\n",
    "\n",
    "early_stopping = EarlyStopping(monitor='loss', patience=5, restore_best_weights=True, verbose=0)\n",
    "\n",
    "for d in datasets:\n",
    "\n",
    "    \n",
    "    num_classes = int(d[d.target_features].nunique()) # ИСПРАВЛЕНИЕ: Количество уникальных классов\n",
    "    assert num_classes == 7\n",
    "    #temp = []\n",
    "    #for i in range(num_classes):\n",
    "    #    temp.append(d.target_features[0] + f\"_{i}\")\n",
    "    #d.target_features = \n",
    "    #d[temp] = to_categorical(d[d.target_features].values - 1, num_classes=7) # Эта строка остается\n",
    "    #d = d.drop(d.target_features, axis=1)\n",
    "    #d = dp.Dataset(d)\n",
    "    #d.target_features = temp\n",
    "    #d.name = temp_name\n",
    "    d[d.target_features] -= 1\n",
    "    d.split_data(random_state=1337)\n",
    "    dtrain = xgb.DMatrix(d.X_train.values, label=d.Y_train.values)\n",
    "    dtest = xgb.DMatrix(d.X_test.values, label=d.Y_test.values)\n",
    "\n",
    "\n",
    "   \n",
    "    params_tree = {\"n_estimators\" : [100, 50, 20, 200], \"learning_rate\": [0.1, 0.2, 0.05], \"max_depth\": [3, 4, 5], \"random_state\": [1337]}\n",
    "    default_params = {\"dtrain\" : [dtrain] , \"dtest\": [dtest]}\n",
    "    tree_comb = all_combinations({**params_tree, **default_params })\n",
    "\n",
    "    #print(len(mlp_comb))\n",
    "    print(len(tree_comb))\n",
    "\n",
    "    iii = 0\n",
    "    #for el in mlp_comb:\n",
    "    for el in tree_comb:\n",
    "\n",
    "        print(iii, el)\n",
    "        iii+=1\n",
    "        #model = create_mlp_model(**el)\n",
    "        #model = create_1d_cnn_model(**el)\n",
    "\n",
    "        model, params = create_gr_b(**el)\n",
    "        y_pred_prob = model.predict(dtest)    # Вероятности класса\n",
    "        y_pred = y_pred_prob  # Преобразование в метки\n",
    "        #print(np.sum(y_pred_prob))\n",
    "        #print(np.sum(d.Y_test.values))\n",
    "        #print((d.Y_test.to_numpy()))\n",
    "        #y_pred = y_pred_prob\n",
    "        y_real = d.Y_test.values  # Преобразование в метки \n",
    "        with open('results_tree.txt', 'a', encoding='utf-8') as f:\n",
    "            f.write(f\"{d.name} {el}\\n\")\n",
    "\n",
    "            # Оценка модели\n",
    "            f.write(\"\\nТочность: {:.4f}\".format(accuracy_score(y_real, y_pred)))\n",
    "            f.write(\"\\nОтчет классификации:\")\n",
    "            f.write(f\"{classification_report(y_real, y_pred)}\")\n",
    "            \n",
    "            # Матрица ошибок\n",
    "            f.write(\"\\nМатрица ошибок:\")\n",
    "            f.write(f\"{confusion_matrix(y_real, y_pred)}\")\n",
    "        \n",
    "\n",
    "\n"
   ]
  },
  {
   "cell_type": "code",
   "execution_count": null,
   "id": "22633f45-0da3-49c2-804c-c19577a55925",
   "metadata": {},
   "outputs": [],
   "source": []
  },
  {
   "cell_type": "code",
   "execution_count": null,
   "id": "73d99ef1-63d8-48ae-945e-9b80d8ce0a7b",
   "metadata": {},
   "outputs": [],
   "source": []
  },
  {
   "cell_type": "code",
   "execution_count": 14,
   "id": "dc66b73d-ae7d-4ca4-ae09-dff46476aa2e",
   "metadata": {},
   "outputs": [
    {
     "name": "stdout",
     "output_type": "stream",
     "text": [
      "[]\n"
     ]
    }
   ],
   "source": [
    "import tensorflow as tf\n",
    "print(tf.config.list_physical_devices('GPU'))"
   ]
  },
  {
   "cell_type": "code",
   "execution_count": null,
   "id": "3ba9cd19-6689-415f-8eb8-77adb9665889",
   "metadata": {},
   "outputs": [],
   "source": []
  },
  {
   "cell_type": "code",
   "execution_count": null,
   "id": "fbb2853b-003d-4599-b949-5531421d7090",
   "metadata": {},
   "outputs": [],
   "source": []
  },
  {
   "cell_type": "code",
   "execution_count": null,
   "id": "b152e607-ccef-4391-9445-8977d7b6a1b6",
   "metadata": {},
   "outputs": [],
   "source": []
  }
 ],
 "metadata": {
  "kernelspec": {
   "display_name": "Python 3 (ipykernel)",
   "language": "python",
   "name": "python3"
  },
  "language_info": {
   "codemirror_mode": {
    "name": "ipython",
    "version": 3
   },
   "file_extension": ".py",
   "mimetype": "text/x-python",
   "name": "python",
   "nbconvert_exporter": "python",
   "pygments_lexer": "ipython3",
   "version": "3.12.9"
  }
 },
 "nbformat": 4,
 "nbformat_minor": 5
}

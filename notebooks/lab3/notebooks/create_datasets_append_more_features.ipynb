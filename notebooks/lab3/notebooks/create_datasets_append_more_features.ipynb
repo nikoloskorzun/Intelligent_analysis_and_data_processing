{
 "cells": [
  {
   "cell_type": "code",
   "execution_count": 15,
   "id": "97c4609a-bcb8-41df-91dc-0e61ae540748",
   "metadata": {},
   "outputs": [
    {
     "name": "stdout",
     "output_type": "stream",
     "text": [
      "The autoreload extension is already loaded. To reload it, use:\n",
      "  %reload_ext autoreload\n"
     ]
    }
   ],
   "source": [
    "%load_ext autoreload\n",
    "%autoreload 2\n",
    "import sys\n",
    "import os\n",
    "current_dir = os.getcwd()\n",
    "libs_path = os.path.abspath(os.path.join(current_dir, \"..\", \"libs\"))\n",
    "if libs_path not in sys.path:\n",
    "    sys.path.append(libs_path)"
   ]
  },
  {
   "cell_type": "code",
   "execution_count": 16,
   "id": "e7bb4681-62ff-482a-af3e-97048d8b25c3",
   "metadata": {},
   "outputs": [],
   "source": [
    "import pandas as pd\n",
    "from IPython.display import display\n",
    "from ipywidgets import interact\n",
    "import numpy as np\n",
    "pd.set_option('display.precision', 3)\n",
    "import data_processing as dp"
   ]
  },
  {
   "cell_type": "code",
   "execution_count": 18,
   "id": "2cfeb764-a97c-4d6b-8e84-e43461cf904e",
   "metadata": {},
   "outputs": [
    {
     "data": {
      "application/vnd.jupyter.widget-view+json": {
       "model_id": "2d8584fbe3c641139bcc32e631644da8",
       "version_major": 2,
       "version_minor": 0
      },
      "text/plain": [
       "SelectMultiple(description='Датасеты:', layout=Layout(width='500px'), options={'.ipynb_checkpoints': 'E:\\\\stud…"
      ]
     },
     "metadata": {},
     "output_type": "display_data"
    },
    {
     "data": {
      "application/vnd.jupyter.widget-view+json": {
       "model_id": "fda98fa2a1ee48db82a9cfe9c88b58aa",
       "version_major": 2,
       "version_minor": 0
      },
      "text/plain": [
       "Button(description='ОК', style=ButtonStyle())"
      ]
     },
     "metadata": {},
     "output_type": "display_data"
    },
    {
     "data": {
      "application/vnd.jupyter.widget-view+json": {
       "model_id": "f30678fc84524c6e9c3d6b4dc74de62e",
       "version_major": 2,
       "version_minor": 0
      },
      "text/plain": [
       "Output()"
      ]
     },
     "metadata": {},
     "output_type": "display_data"
    }
   ],
   "source": [
    "res=dp.load_datasets()"
   ]
  },
  {
   "cell_type": "code",
   "execution_count": 21,
   "id": "3c6f9f6c-ec1f-49d0-a470-c1d25e34e6b0",
   "metadata": {},
   "outputs": [],
   "source": [
    "datasets = []\n",
    "\n",
    "for fn in res.options:\n",
    "\n",
    "    if res.options[fn] not in res.value:\n",
    "        continue\n",
    "    dataset = dp.Dataset(pd.read_csv(res.options[fn]), name=fn)\n",
    "\n",
    "    dataset.target_features = [\"Cover_Type\"]\n",
    "    datasets.append(dataset)"
   ]
  },
  {
   "cell_type": "code",
   "execution_count": 24,
   "id": "56f125e4-c3e1-4884-9088-9c5e3cde1987",
   "metadata": {},
   "outputs": [
    {
     "name": "stdout",
     "output_type": "stream",
     "text": [
      "V4_classification_lr3.csv\n"
     ]
    }
   ],
   "source": [
    "for d in datasets:\n",
    "    print(d.name)\n",
    "\n",
    "one_hot_replace = False\n",
    "dataset = datasets[0]"
   ]
  },
  {
   "cell_type": "code",
   "execution_count": 25,
   "id": "3ba9cd19-6689-415f-8eb8-77adb9665889",
   "metadata": {},
   "outputs": [],
   "source": [
    "df_enhanced = dataset.copy()\n",
    "\n",
    "df_enhanced['Distance_to_Water'] = np.sqrt(df_enhanced['Horizontal_Distance_To_Hydrology']**2 +\n",
    "                                            df_enhanced['Vertical_Distance_To_Hydrology']**2)\n",
    "df_enhanced['Avg_Hillshade'] = (df_enhanced['Hillshade_9am'] + df_enhanced['Hillshade_Noon'] +\n",
    "                                 df_enhanced['Hillshade_3pm']) / 3\n",
    "df_enhanced['Hydro_Road_Fire_Distance'] = (df_enhanced['Horizontal_Distance_To_Hydrology'] +\n",
    "                                            df_enhanced['Horizontal_Distance_To_Roadways'] +\n",
    "                                            df_enhanced['Horizontal_Distance_To_Fire_Points'])\n",
    "df_enhanced['Elevation_x_Slope'] = df_enhanced['Elevation'] * df_enhanced['Slope']\n",
    "\n",
    "\n",
    "\n",
    "if one_hot_replace:\n",
    "    S = np.uint64(0)\n",
    "    soil_type_features = []\n",
    "    for feature in df_enhanced.columns:\n",
    "        if feature[:5] == \"Soil_Type_0\"[:5]:\n",
    "            soil_type_features.append(feature)\n",
    "            S+=np.sum(df_enhanced[feature])\n",
    "    \n",
    "    if S==df_enhanced.shape[0]:\n",
    "        df_enhanced['Soil_Type'] = np.sum(df_enhanced[soil_type_features] * np.arange(0, len(soil_type_features)), axis=1)\n",
    "        df_enhanced = df_enhanced.drop(soil_type_features, axis=1)\n",
    "    \n",
    "    S = np.uint64(0)\n",
    "    wilderness_area_features = []\n",
    "    for feature in df_enhanced.columns:\n",
    "        if feature[:5] == \"Wilderness_Area_0\"[:5]:\n",
    "            wilderness_area_features.append(feature)\n",
    "            S+=np.sum(df_enhanced[feature])\n",
    "    \n",
    "    if S==df_enhanced.shape[0]:\n",
    "        df_enhanced['Wilderness_Area'] = np.sum(df_enhanced[wilderness_area_features] * np.arange(0, len(wilderness_area_features)), axis=1)\n",
    "        df_enhanced = df_enhanced.drop(wilderness_area_features, axis=1)\n",
    "    \n",
    "    \n",
    "\n",
    "\n",
    "\n",
    "\n",
    "\n",
    "new_dataset = dp.Dataset(df_enhanced)\n",
    "\n",
    "\n",
    "\n",
    "\n",
    "\n",
    "\n",
    "\n",
    "if one_hot_replace:\n",
    "    new_dataset.to_csv(\"../datasets/df_enhanced_one-hot.csv\", index=False)\n",
    "else:\n",
    "    new_dataset.to_csv(\"../datasets/df_enhanced.csv\", index=False)\n"
   ]
  },
  {
   "cell_type": "code",
   "execution_count": null,
   "id": "fbb2853b-003d-4599-b949-5531421d7090",
   "metadata": {},
   "outputs": [],
   "source": []
  },
  {
   "cell_type": "code",
   "execution_count": null,
   "id": "060dcfca-cd39-4078-83e7-99fc7f0d1a9e",
   "metadata": {},
   "outputs": [],
   "source": []
  },
  {
   "cell_type": "code",
   "execution_count": null,
   "id": "27c324d8-d0df-4445-aa63-bf8b6c6ae50a",
   "metadata": {},
   "outputs": [],
   "source": []
  },
  {
   "cell_type": "code",
   "execution_count": null,
   "id": "6cc3937a-ff24-47b8-b4a0-7ad7528e7077",
   "metadata": {},
   "outputs": [],
   "source": []
  },
  {
   "cell_type": "code",
   "execution_count": null,
   "id": "e2263d02-17c1-4fa9-a016-da8c15ea5898",
   "metadata": {},
   "outputs": [],
   "source": []
  }
 ],
 "metadata": {
  "kernelspec": {
   "display_name": "Python 3 (ipykernel)",
   "language": "python",
   "name": "python3"
  },
  "language_info": {
   "codemirror_mode": {
    "name": "ipython",
    "version": 3
   },
   "file_extension": ".py",
   "mimetype": "text/x-python",
   "name": "python",
   "nbconvert_exporter": "python",
   "pygments_lexer": "ipython3",
   "version": "3.12.9"
  }
 },
 "nbformat": 4,
 "nbformat_minor": 5
}

{
 "cells": [
  {
   "cell_type": "markdown",
   "id": "2c50635f-097c-4bad-8c09-d3386c4044ab",
   "metadata": {},
   "source": [
    "<h1 style=\"text-align: center; font-size: 60px;\"> Интеллектуальный анализ и обработка данных</h1>\n",
    "<hr>\n",
    "<h2 style=\"text-align: center;font-size: 40px;\"> ЛАБОРАТОРНАЯ РАБОТА №1 <br>\n",
    " Разведочный и предиктивный анализ данных на основе регрессионных моделей</h2>\n",
    " <hr>"
   ]
  },
  {
   "cell_type": "markdown",
   "id": "2ca1efed-55c1-4de4-8fc7-35cd60cc3d0f",
   "metadata": {},
   "source": [
    "<h3 style=\"text-align: center; font-size: 30px;\">Исполнители</h3>\n",
    "<p><b>Корзун Николай Вадимович</b> <a href=\"https://github.com/nikoloskorzun\">GitHub</a></p>\n"
   ]
  },
  {
   "cell_type": "markdown",
   "id": "a28d82fe-5f58-426a-9a77-ef7aefd1e0da",
   "metadata": {},
   "source": [
    "<hr>\n",
    "<h3 style=\"text-align: center; font-size: 30px;\">Постановка задачи</h3>"
   ]
  },
  {
   "cell_type": "markdown",
   "id": "66b58d1f-97c8-497e-a931-dd6d977e7ec1",
   "metadata": {},
   "source": [
    "<p>Дан многомерный размеченный набор данных. Необходимо выполнить предиктивный анализ данных на основе регрессионных моделей в соответствии со следующей последовательностью этапов.</p> \n",
    "\n",
    "<ol>\n",
    "    <li>Загрузить необходимые пакеты и библиотеки.  </li>\n",
    "    <li>Загрузить данные из указанного источника.  \n",
    "    <li>Выполнить разведочный анализ данных в соответствии с этапами описанными в файле Этапы проекта машинного обучения в примерах 1/2.pdf: \n",
    "    <ol>\n",
    "        <li>Ознакомление с данными с помощью методов описательной статистики;  </li>\n",
    "        <li>Выполнить визуализацию данных одномерную для понимания распределения данных и многомерную для выяснения зависимостей между признаками;  </li>\n",
    "        <li>При необходимости выполнить очистку данных одним из методов.  </li>\n",
    "        <li>Проанализировать корреляционную зависимость между признаками;  </li>\n",
    "        <li>Поэкспериментировать с комбинациями атрибутов. При необходимости добавить новые атрибуты в набор данных.  </li>\n",
    "        <li>Выполнить отбор существенных признаков. Сформировать набор данных из существенных признаков.  </li>\n",
    "        <li>При необходимости преобразовать текстовые или категориальные признаки одним из методов.  </li>\n",
    "        <li>Выполнить масштабирование данных для обоих наборов (исходного и сформированного) одним из методов по варианту. </li>\n",
    "    </ol>\n",
    "    </li>\n",
    "    <li>Анализ выполняется для исходного набора данных, масштабированного (п.3.h) набора исходного данных, построенного набора данных (удаление неинформативных, добавление пользовательских ризнаков, приведение нечисловых признаков к численному виду) и масштабированного построенного набора данных. Во всех наборах данных выделить обучающую и тестовую выборки данных.  </li>\n",
    "<li>Сравнить линейную (по варианту) и полиномиальную регрессионные модели на обучающих выборках для всех наборов данных, включая их масштабированные варианты. Для оценки качества моделей использовать метрики: корень из среднеквадратичной ошибки, R2.  </li>\n",
    "<li>Для лучшей модели на лучшем наборе данных выполнить Grid поиск лучшего гиперпараметра регрессионной модели на обучающей выборке. Построить графики результатов поиска. Определить значение лучшего гиперпараметра. </li> \n",
    "<li>Для лучшей модели на лучшем наборе данных выполнить Grid поиск лучшего гиперпараметра регрессионной модели на тестовом наборе. Построить графики результатов поиска. Скорректировать значение лучшего гиперпараметра модели.  </li>\n",
    "<li>Сделать выводы по проведенному анализу.</li>\n",
    "    \n",
    "</ol>\n",
    "<p><b>Вариант №12</b></p>\n",
    "<p>Набор данных различных форм зданий, различающихся по площади остекления, распределению площади остекления, ориентации и другим параметрам. <br>В зависимости от параметров здания других признаков аргументов. Построить регрессионную модель оценки целевого признака требований к тепловой нагрузке зданий:</p>\n",
    "\n",
    "<ol>\n",
    "    <li>X1 вещественный, относительная компактность</li>\n",
    "    <li>X2 вещественный, площадь поверхности</li>\n",
    "    <li>X3 вещественный, площадь сплошной стены</li>\n",
    "    <li>X4 вещественный, зона крыши</li>\n",
    "    <li>X5 вещественный, общая высота</li>\n",
    "    <li>X6 целочисленный, ориентация</li>\n",
    "    <li>X7 вещественный, площадь сплошного остекления</li>\n",
    "    <li>X8 целочисленный, распределение площади остекления</li>    \n",
    "    <li>Y1 целевой признак, вещественный, отопительная нагрузка</li>\n",
    "</ol>\n",
    "\n",
    "a. Пункт 3.h – Нормализация\n",
    "b. Пункт 4 – гребневая регрессия (регуляризованная линейная регрессия"
   ]
  },
  {
   "cell_type": "markdown",
   "id": "2dee89ea-16bf-4a76-869b-481679a5adc3",
   "metadata": {},
   "source": [
    "<h3 style=\"text-align: center; font-size: 30px;\">Выполнение задачи</h3>\n",
    "<h4 style=\"text-align: center; font-size: 24px;\">Этап 2<br>Загрузка датасета</h4>"
   ]
  },
  {
   "cell_type": "code",
   "execution_count": 1,
   "id": "fca6ff6e-27ff-417b-8327-9099999fef99",
   "metadata": {},
   "outputs": [],
   "source": [
    "names = ['относительная компактность', 'площадь поверхности', 'площадь сплошной стены',\n",
    "         'зона крыши', 'общая высота', 'ориентация', 'площадь сплошного остекления',\n",
    "         'распределение площади остекления', 'отопительная нагрузка']\n"
   ]
  },
  {
   "cell_type": "code",
   "execution_count": 2,
   "id": "6f0c2f4d-b5d3-474d-8b4c-3f7d324a5b73",
   "metadata": {},
   "outputs": [],
   "source": [
    "import numpy as np\n",
    "\n",
    "%matplotlib inline\n",
    "import matplotlib.pyplot as plt\n",
    "from matplotlib.colors import LinearSegmentedColormap\n",
    "\n",
    "\n",
    "from IPython.core.display import HTML\n",
    "from IPython.display import display\n",
    "\n",
    "import ipywidgets as widgets\n",
    "\n",
    "\n",
    "import pandas as pd\n",
    "\n",
    "import seaborn as sns\n",
    "\n",
    "\n",
    "\n",
    "\n",
    "\n",
    "import plotly.graph_objects as go\n",
    "from plotly.subplots import make_subplots\n",
    "import plotly.express as px\n",
    "\n",
    "\n",
    "from sklearn.feature_selection import SelectKBest, f_regression\n",
    "\n",
    "from sklearn.linear_model import Ridge, LinearRegression\n",
    "from sklearn.preprocessing import StandardScaler, Normalizer, OrdinalEncoder, PolynomialFeatures\n",
    "\n",
    "from sklearn.model_selection import train_test_split\n",
    "\n",
    "from sklearn.metrics import mean_squared_error, r2_score\n"
   ]
  },
  {
   "cell_type": "code",
   "execution_count": 5,
   "id": "e2b7d4fd-eeea-4ced-a7ee-2a2a1e53b53a",
   "metadata": {},
   "outputs": [],
   "source": [
    "global df\n",
    "df = pd.read_excel(\"../../V12.xlsx\", names = names)\n",
    "global corr"
   ]
  },
  {
   "cell_type": "markdown",
   "id": "ffbb5381-0491-4cb7-ad38-f528981670ed",
   "metadata": {},
   "source": [
    "<h4 style=\"text-align: center; font-size: 24px;\">Этап 3<br>Разведочный анализ данных</h4>\n",
    "<h5 style=\"text-align: center; font-size: 20px;\">Описательная статистика</h5>"
   ]
  },
  {
   "cell_type": "code",
   "execution_count": 6,
   "id": "bfbc6a40-aa76-436e-bc1a-6c0bd1301211",
   "metadata": {},
   "outputs": [
    {
     "data": {
      "text/html": [
       "<p>размерность набора данных: <b>(768, 9)</b></p>"
      ],
      "text/plain": [
       "<IPython.core.display.HTML object>"
      ]
     },
     "execution_count": 6,
     "metadata": {},
     "output_type": "execute_result"
    }
   ],
   "source": [
    "HTML(f'<p>размерность набора данных: <b>{df.shape}</b></p>')"
   ]
  },
  {
   "cell_type": "code",
   "execution_count": 7,
   "id": "5677b332-cfb1-4377-94fb-a925a6f3a2e7",
   "metadata": {},
   "outputs": [
    {
     "name": "stdout",
     "output_type": "stream",
     "text": [
      "Типы атрибутов:\n",
      "\n",
      "<class 'pandas.core.frame.DataFrame'>\n",
      "RangeIndex: 768 entries, 0 to 767\n",
      "Data columns (total 9 columns):\n",
      " #   Column                            Non-Null Count  Dtype  \n",
      "---  ------                            --------------  -----  \n",
      " 0   относительная компактность        768 non-null    float64\n",
      " 1   площадь поверхности               768 non-null    float64\n",
      " 2   площадь сплошной стены            768 non-null    float64\n",
      " 3   зона крыши                        768 non-null    float64\n",
      " 4   общая высота                      768 non-null    float64\n",
      " 5   ориентация                        768 non-null    int64  \n",
      " 6   площадь сплошного остекления      768 non-null    float64\n",
      " 7   распределение площади остекления  768 non-null    int64  \n",
      " 8   отопительная нагрузка             768 non-null    float64\n",
      "dtypes: float64(7), int64(2)\n",
      "memory usage: 54.1 KB\n"
     ]
    }
   ],
   "source": [
    "print(\"Типы атрибутов:\", end=\"\\n\\n\")\n",
    "df.info()\n",
    "#df.head()"
   ]
  },
  {
   "cell_type": "code",
   "execution_count": 8,
   "id": "4cf84ede-b261-4c98-b11f-f16fcd59648c",
   "metadata": {},
   "outputs": [
    {
     "data": {
      "text/html": [
       "<div>\n",
       "<style scoped>\n",
       "    .dataframe tbody tr th:only-of-type {\n",
       "        vertical-align: middle;\n",
       "    }\n",
       "\n",
       "    .dataframe tbody tr th {\n",
       "        vertical-align: top;\n",
       "    }\n",
       "\n",
       "    .dataframe thead th {\n",
       "        text-align: right;\n",
       "    }\n",
       "</style>\n",
       "<table border=\"1\" class=\"dataframe\">\n",
       "  <thead>\n",
       "    <tr style=\"text-align: right;\">\n",
       "      <th></th>\n",
       "      <th>относительная компактность</th>\n",
       "      <th>площадь поверхности</th>\n",
       "      <th>площадь сплошной стены</th>\n",
       "      <th>зона крыши</th>\n",
       "      <th>общая высота</th>\n",
       "      <th>ориентация</th>\n",
       "      <th>площадь сплошного остекления</th>\n",
       "      <th>распределение площади остекления</th>\n",
       "      <th>отопительная нагрузка</th>\n",
       "    </tr>\n",
       "  </thead>\n",
       "  <tbody>\n",
       "    <tr>\n",
       "      <th>count</th>\n",
       "      <td>768.000</td>\n",
       "      <td>768.000</td>\n",
       "      <td>768.000</td>\n",
       "      <td>768.000</td>\n",
       "      <td>768.000</td>\n",
       "      <td>768.000</td>\n",
       "      <td>768.000</td>\n",
       "      <td>768.000</td>\n",
       "      <td>768.000</td>\n",
       "    </tr>\n",
       "    <tr>\n",
       "      <th>mean</th>\n",
       "      <td>0.764</td>\n",
       "      <td>671.708</td>\n",
       "      <td>318.500</td>\n",
       "      <td>176.604</td>\n",
       "      <td>5.250</td>\n",
       "      <td>3.500</td>\n",
       "      <td>0.234</td>\n",
       "      <td>2.812</td>\n",
       "      <td>22.307</td>\n",
       "    </tr>\n",
       "    <tr>\n",
       "      <th>std</th>\n",
       "      <td>0.106</td>\n",
       "      <td>88.086</td>\n",
       "      <td>43.626</td>\n",
       "      <td>45.166</td>\n",
       "      <td>1.751</td>\n",
       "      <td>1.119</td>\n",
       "      <td>0.133</td>\n",
       "      <td>1.551</td>\n",
       "      <td>10.090</td>\n",
       "    </tr>\n",
       "    <tr>\n",
       "      <th>min</th>\n",
       "      <td>0.620</td>\n",
       "      <td>514.500</td>\n",
       "      <td>245.000</td>\n",
       "      <td>110.250</td>\n",
       "      <td>3.500</td>\n",
       "      <td>2.000</td>\n",
       "      <td>0.000</td>\n",
       "      <td>0.000</td>\n",
       "      <td>6.010</td>\n",
       "    </tr>\n",
       "    <tr>\n",
       "      <th>25%</th>\n",
       "      <td>0.682</td>\n",
       "      <td>606.375</td>\n",
       "      <td>294.000</td>\n",
       "      <td>140.875</td>\n",
       "      <td>3.500</td>\n",
       "      <td>2.750</td>\n",
       "      <td>0.100</td>\n",
       "      <td>1.750</td>\n",
       "      <td>12.992</td>\n",
       "    </tr>\n",
       "    <tr>\n",
       "      <th>50%</th>\n",
       "      <td>0.750</td>\n",
       "      <td>673.750</td>\n",
       "      <td>318.500</td>\n",
       "      <td>183.750</td>\n",
       "      <td>5.250</td>\n",
       "      <td>3.500</td>\n",
       "      <td>0.250</td>\n",
       "      <td>3.000</td>\n",
       "      <td>18.950</td>\n",
       "    </tr>\n",
       "    <tr>\n",
       "      <th>75%</th>\n",
       "      <td>0.830</td>\n",
       "      <td>741.125</td>\n",
       "      <td>343.000</td>\n",
       "      <td>220.500</td>\n",
       "      <td>7.000</td>\n",
       "      <td>4.250</td>\n",
       "      <td>0.400</td>\n",
       "      <td>4.000</td>\n",
       "      <td>31.668</td>\n",
       "    </tr>\n",
       "    <tr>\n",
       "      <th>max</th>\n",
       "      <td>0.980</td>\n",
       "      <td>808.500</td>\n",
       "      <td>416.500</td>\n",
       "      <td>220.500</td>\n",
       "      <td>7.000</td>\n",
       "      <td>5.000</td>\n",
       "      <td>0.400</td>\n",
       "      <td>5.000</td>\n",
       "      <td>43.100</td>\n",
       "    </tr>\n",
       "  </tbody>\n",
       "</table>\n",
       "</div>"
      ],
      "text/plain": [
       "       относительная компактность  площадь поверхности  \\\n",
       "count                     768.000              768.000   \n",
       "mean                        0.764              671.708   \n",
       "std                         0.106               88.086   \n",
       "min                         0.620              514.500   \n",
       "25%                         0.682              606.375   \n",
       "50%                         0.750              673.750   \n",
       "75%                         0.830              741.125   \n",
       "max                         0.980              808.500   \n",
       "\n",
       "       площадь сплошной стены  зона крыши  общая высота  ориентация  \\\n",
       "count                 768.000     768.000       768.000     768.000   \n",
       "mean                  318.500     176.604         5.250       3.500   \n",
       "std                    43.626      45.166         1.751       1.119   \n",
       "min                   245.000     110.250         3.500       2.000   \n",
       "25%                   294.000     140.875         3.500       2.750   \n",
       "50%                   318.500     183.750         5.250       3.500   \n",
       "75%                   343.000     220.500         7.000       4.250   \n",
       "max                   416.500     220.500         7.000       5.000   \n",
       "\n",
       "       площадь сплошного остекления  распределение площади остекления  \\\n",
       "count                       768.000                           768.000   \n",
       "mean                          0.234                             2.812   \n",
       "std                           0.133                             1.551   \n",
       "min                           0.000                             0.000   \n",
       "25%                           0.100                             1.750   \n",
       "50%                           0.250                             3.000   \n",
       "75%                           0.400                             4.000   \n",
       "max                           0.400                             5.000   \n",
       "\n",
       "       отопительная нагрузка  \n",
       "count                768.000  \n",
       "mean                  22.307  \n",
       "std                   10.090  \n",
       "min                    6.010  \n",
       "25%                   12.992  \n",
       "50%                   18.950  \n",
       "75%                   31.668  \n",
       "max                   43.100  "
      ]
     },
     "execution_count": 8,
     "metadata": {},
     "output_type": "execute_result"
    }
   ],
   "source": [
    "pd.set_option('display.precision', 3)\n",
    "df.describe()"
   ]
  },
  {
   "cell_type": "markdown",
   "id": "0132a543-aa7c-4856-ab8a-babd2843408d",
   "metadata": {},
   "source": [
    "<h5 style=\"text-align: center; font-size: 20px;\">Визуализация данных</h5>"
   ]
  },
  {
   "cell_type": "code",
   "execution_count": 10,
   "id": "5b341e99-e21a-45fc-9c13-00025d61845c",
   "metadata": {
    "scrolled": true
   },
   "outputs": [
    {
     "data": {
      "application/vnd.jupyter.widget-view+json": {
       "model_id": "4e40041941b742439371f263335ca908",
       "version_major": 2,
       "version_minor": 0
      },
      "text/plain": [
       "interactive(children=(Dropdown(description='относительная компактность:', options=('100_n', 'sturges', 'scott'…"
      ]
     },
     "metadata": {},
     "output_type": "display_data"
    },
    {
     "data": {
      "text/plain": [
       "<function __main__.update_plots(**rules)>"
      ]
     },
     "execution_count": 10,
     "metadata": {},
     "output_type": "execute_result"
    }
   ],
   "source": [
    "\n",
    "# Функции для расчета количества бинов по разным правилам\n",
    "def sturges_bins(data):\n",
    "    n = len(data)\n",
    "    return int(np.ceil(np.log2(n)) + 1)\n",
    "\n",
    "def scott_bins(data):\n",
    "    h = 3.5 * np.std(data) / (len(data) ** (1/3))\n",
    "    return int(np.ceil((np.max(data) - np.min(data)) / h))\n",
    "\n",
    "def fd_bins(data):\n",
    "    iqr = np.percentile(data, 75) - np.percentile(data, 25)\n",
    "    h = 2 * iqr / (len(data) ** (1/3))\n",
    "    return int(np.ceil((np.max(data) - np.min(data)) / h))\n",
    "\n",
    "def sqrt_bins(data):\n",
    "    return int(np.ceil(np.sqrt(len(data))))\n",
    "\n",
    "# Словарь с доступными правилами\n",
    "rules_dict = {\n",
    "    '100_n': lambda _: 100,\n",
    "    'sturges': sturges_bins,\n",
    "    'scott': scott_bins,\n",
    "    'fd': fd_bins,\n",
    "    'sqrt': sqrt_bins,\n",
    "    '50_n': lambda _: 50,\n",
    "    '20_n': lambda _: 20,\n",
    "    '10_n': lambda _: 10,\n",
    "\n",
    "}\n",
    "# Создаем выпадающие списки для каждого столбца\n",
    "rule_widgets = {column: widgets.Dropdown(options=list(rules_dict.keys()), description=f'{column}:') for column in df.columns}\n",
    "\n",
    "# Функция для обновления графиков\n",
    "def update_plots(**rules):\n",
    "    n_cols = 3  # Количество графиков в ряду\n",
    "    n_rows = (len(df.columns) + n_cols - 1) // n_cols  # Количество рядов\n",
    "    \n",
    "    # Создаем subplot с помощью Plotly\n",
    "    fig = make_subplots(rows=n_rows, cols=n_cols, subplot_titles=df.columns)\n",
    "    \n",
    "    for i, column in enumerate(df.columns):\n",
    "        row = (i // n_cols) + 1\n",
    "        col = (i % n_cols) + 1\n",
    "        \n",
    "        rule = rules[column]  # Получаем правило для текущего столбца\n",
    "        \n",
    "        # Выбираем количество бинов в зависимости от правила\n",
    "\n",
    "        bins = rules_dict[rule](df[column])\n",
    "        #print(bins)\n",
    "        # Строим гистограмму\n",
    "        fig.add_trace(\n",
    "            go.Histogram(x=df[column], nbinsx=bins, name=column),\n",
    "            row=row, col=col\n",
    "        )\n",
    "    \n",
    "    # Настраиваем макет\n",
    "    fig.update_layout(\n",
    "        height=n_rows * 400,  # Высота графика\n",
    "        width=1200,  # Ширина графика\n",
    "        showlegend=False,  # Скрываем легенду\n",
    "        title_text=\"Одномерные графики - Гистограммы\"\n",
    "    )\n",
    "    \n",
    "    # Показываем график\n",
    "    fig.show()\n",
    "\n",
    "# Интерактивное обновление графиков\n",
    "widgets.interact(update_plots, **rule_widgets)"
   ]
  },
  {
   "cell_type": "markdown",
   "id": "7ca3fbd0-80e8-4a87-a09a-da3067ae1288",
   "metadata": {},
   "source": [
    "<h6 style=\"text-align: left; font-size: 20px;\">Одномерные графики - график плотности</h6>"
   ]
  },
  {
   "cell_type": "code",
   "execution_count": 11,
   "id": "74ac1ad7-7b8c-4a2e-b16e-fcc1c4b027ed",
   "metadata": {
    "scrolled": true
   },
   "outputs": [
    {
     "data": {
      "application/vnd.jupyter.widget-view+json": {
       "model_id": "74c6969c08e34253821f9958a765f7c9",
       "version_major": 2,
       "version_minor": 0
      },
      "text/plain": [
       "interactive(children=(Dropdown(description='kind', options=('density', 'kde'), value='density'), Output()), _d…"
      ]
     },
     "metadata": {},
     "output_type": "display_data"
    },
    {
     "data": {
      "text/plain": [
       "<function __main__.density(kind)>"
      ]
     },
     "execution_count": 11,
     "metadata": {},
     "output_type": "execute_result"
    }
   ],
   "source": [
    "def density(kind):\n",
    "    df.plot(kind=kind, subplots=True, layout=(3, 3), sharex=False, legend=True, fontsize=1, figsize=(15,15))\n",
    "    plt.show()\n",
    "widgets.interact(density, kind=[\"density\", \"kde\"]) #useless"
   ]
  },
  {
   "cell_type": "markdown",
   "id": "28757dcf-9757-4bff-ad8b-165329e19fb9",
   "metadata": {},
   "source": [
    "<h6 style=\"text-align: left; font-size: 20px;\">Многомерные графики: график корреляционной матрицы.</h6>\n"
   ]
  },
  {
   "cell_type": "code",
   "execution_count": 13,
   "id": "de46291e-6306-483f-859e-24669098fcac",
   "metadata": {
    "scrolled": true
   },
   "outputs": [
    {
     "data": {
      "application/vnd.jupyter.widget-view+json": {
       "model_id": "24faa258ca894424937c681936f46efe",
       "version_major": 2,
       "version_minor": 0
      },
      "text/plain": [
       "interactive(children=(Dropdown(description='method', options=('pearson', 'kendall', 'spearman'), value='pearso…"
      ]
     },
     "metadata": {},
     "output_type": "display_data"
    },
    {
     "data": {
      "text/plain": [
       "<function __main__.heatmap(method, **kwargs)>"
      ]
     },
     "execution_count": 13,
     "metadata": {},
     "output_type": "execute_result"
    }
   ],
   "source": [
    "\n",
    "def heatmap(method, **kwargs):\n",
    "    selected_items = [item for item, selected in kwargs.items() if selected]\n",
    "    global corr\n",
    "\n",
    "    if len(selected_items) <= 1:\n",
    "        corr = df.corr(method=method)\n",
    "\n",
    "        return\n",
    "    \n",
    "    corr = df[selected_items].corr(method=method)\n",
    "\n",
    "    \n",
    "    colors = [(1, 1, 1), (0, 0, 0), (1, 1, 1)]  # Белый -> Черный -> Белый\n",
    "    # Создаем цветовую карту\n",
    "    cmap = LinearSegmentedColormap.from_list('custom_cmap', colors, N=256)\n",
    "    plt.figure(figsize=(15, 15))\n",
    "    plt.title(f\"Матрицы корреляции method = {method}\")\n",
    "    sns.heatmap(corr, vmax=1, square=True, annot=True, cmap=cmap)\n",
    "    plt.show()\n",
    "    corr = df.corr(method=method)\n",
    "\n",
    "widgets.interact(heatmap, method = [\"pearson\", \"kendall\", \"spearman\"], **{item: widgets.Checkbox(description=item, value=False) for item in list(df.columns)})\n"
   ]
  },
  {
   "cell_type": "markdown",
   "id": "87a9f08e-910a-42ef-98ca-93c439d63567",
   "metadata": {},
   "source": [
    "<h6 style=\"text-align: left; font-size: 20px;\">Многомерные графики: матрица диаграммы рассеяния.</h6>\n",
    "<a id='scatter-diag-plots'></a>"
   ]
  },
  {
   "cell_type": "code",
   "execution_count": 15,
   "id": "8cbc4857-1b41-4818-a535-fcbf414f5165",
   "metadata": {
    "scrolled": true
   },
   "outputs": [
    {
     "data": {
      "application/vnd.jupyter.widget-view+json": {
       "model_id": "c4cac9dab7164285b53f5c950e6db87b",
       "version_major": 2,
       "version_minor": 0
      },
      "text/plain": [
       "interactive(children=(Checkbox(value=False, description='относительная компактность'), Checkbox(value=False, d…"
      ]
     },
     "metadata": {},
     "output_type": "display_data"
    },
    {
     "data": {
      "text/plain": [
       "<function __main__.scatterplots(**kwargs)>"
      ]
     },
     "execution_count": 15,
     "metadata": {},
     "output_type": "execute_result"
    }
   ],
   "source": [
    "\n",
    "# Функция, которая будет вызвана при изменении состояния чекбоксов\n",
    "def scatterplots(**kwargs):\n",
    "    selected_items = [item for item, selected in kwargs.items() if selected]\n",
    "    if len(selected_items) < 1:\n",
    "        return\n",
    "    pd.plotting.scatter_matrix(df[selected_items], figsize=(15, 15), diagonal='kde')\n",
    "    plt.show()\n",
    "\n",
    "\n",
    "widgets.interact(scatterplots, **{item: widgets.Checkbox(description=item, value=False) for item in list(df.columns)})  \n"
   ]
  },
  {
   "cell_type": "markdown",
   "id": "ffe93233-eb11-43de-be46-735f679e9f99",
   "metadata": {},
   "source": [
    "<h6 style=\"text-align: left; font-size: 20px;\">Многомерные графики: матрица диаграммы рассеяния.</h6>\n"
   ]
  },
  {
   "cell_type": "code",
   "execution_count": 16,
   "id": "75b737e3-6a23-4968-b927-49d5bd5b8065",
   "metadata": {},
   "outputs": [
    {
     "name": "stdout",
     "output_type": "stream",
     "text": [
      "общая высота                        0.889\n",
      "зона крыши                         -0.862\n",
      "площадь поверхности                -0.658\n",
      "относительная компактность          0.622\n",
      "площадь сплошной стены              0.456\n",
      "площадь сплошного остекления        0.270\n",
      "распределение площади остекления    0.087\n",
      "ориентация                         -0.003\n",
      "Name: отопительная нагрузка, dtype: float64\n"
     ]
    }
   ],
   "source": [
    "new_corr = corr[\"отопительная нагрузка\"].drop(\"отопительная нагрузка\").sort_values(ascending=False, key=lambda x: x.abs())\n",
    "print(new_corr)"
   ]
  },
  {
   "cell_type": "code",
   "execution_count": 17,
   "id": "0c2dc83c-3f5f-4706-806a-8321e321077f",
   "metadata": {},
   "outputs": [
    {
     "data": {
      "application/vnd.jupyter.widget-view+json": {
       "model_id": "a301cd2751be45a5842e0ff653c40419",
       "version_major": 2,
       "version_minor": 0
      },
      "text/plain": [
       "interactive(children=(Checkbox(value=False, description='относительная компактность'), Checkbox(value=False, d…"
      ]
     },
     "metadata": {},
     "output_type": "display_data"
    },
    {
     "data": {
      "text/plain": [
       "<function __main__.scatterplots(**kwargs)>"
      ]
     },
     "execution_count": 17,
     "metadata": {},
     "output_type": "execute_result"
    }
   ],
   "source": [
    "widgets.interact(scatterplots, **{item: widgets.Checkbox(description=item, value=False) for item in list(df.columns)})  "
   ]
  },
  {
   "cell_type": "markdown",
   "id": "dc0dde63-04b1-425a-984a-857973d16d8e",
   "metadata": {},
   "source": [
    "<h6 style=\"text-align: left; font-size: 20px;\">Экспериментирование с комбинациями атрибутов</h6>\n"
   ]
  },
  {
   "cell_type": "code",
   "execution_count": 18,
   "id": "4b1a1a07-e4b8-4d11-ab65-8bd602572924",
   "metadata": {},
   "outputs": [
    {
     "name": "stdout",
     "output_type": "stream",
     "text": [
      "общая высота                        0.889\n",
      "зона крыши                         -0.862\n",
      "площадь поверхности                -0.658\n",
      "относительная компактность          0.622\n",
      "площадь сплошной стены              0.456\n",
      "площадь сплошного остекления        0.270\n",
      "распределение площади остекления    0.087\n",
      "ориентация                         -0.003\n",
      "Name: отопительная нагрузка, dtype: float64\n"
     ]
    }
   ],
   "source": [
    "df_base = df.copy()\n",
    "df[\"отношение стенной площади ко всей площади дома\"] = df[\"площадь сплошной стены\"] / df[\"площадь поверхности\"]\n",
    "df[\"отношение остекленния ко всей площади дома\"] = df[\"площадь сплошного остекления\"] / df[\"площадь поверхности\"]\n",
    "df[\"отношение площади крыши ко всей площади дома\"] = df[\"зона крыши\"] / df[\"площадь поверхности\"]\n",
    "new_corr = corr[\"отопительная нагрузка\"].drop(\"отопительная нагрузка\").sort_values(ascending=False, key=lambda x: x.abs())\n",
    "print(new_corr)"
   ]
  },
  {
   "cell_type": "code",
   "execution_count": 19,
   "id": "1d49926d-9cbf-435d-8e38-1571551ebbf6",
   "metadata": {
    "scrolled": true
   },
   "outputs": [
    {
     "data": {
      "application/vnd.jupyter.widget-view+json": {
       "model_id": "20841bf22ad448dcaf3e056b37398487",
       "version_major": 2,
       "version_minor": 0
      },
      "text/plain": [
       "interactive(children=(Dropdown(description='method', options=('pearson', 'kendall', 'spearman'), value='pearso…"
      ]
     },
     "metadata": {},
     "output_type": "display_data"
    },
    {
     "data": {
      "text/plain": [
       "<function __main__.heatmap(method, **kwargs)>"
      ]
     },
     "execution_count": 19,
     "metadata": {},
     "output_type": "execute_result"
    }
   ],
   "source": [
    "#widgets.interact(scatterplots, **{item: widgets.Checkbox(description=item, value=False) for item in list(df.columns)})\n",
    "widgets.interact(heatmap, method = [\"pearson\", \"kendall\", \"spearman\"], **{item: widgets.Checkbox(description=item, value=False) for item in list(df.columns)})\n"
   ]
  },
  {
   "cell_type": "markdown",
   "id": "135228b2-1a90-4da2-ac53-198cca3a61c4",
   "metadata": {},
   "source": [
    "<h4 style=\"text-align: center; font-size: 24px;\">Этап 4<br>Подготовка данных</h4>\n",
    "<h5 style=\"text-align: center; font-size: 20px;\">Очистка данных</h5>"
   ]
  },
  {
   "cell_type": "code",
   "execution_count": 23,
   "id": "b5b06416-dafa-4fc9-bd93-716b17639a56",
   "metadata": {},
   "outputs": [
    {
     "name": "stdout",
     "output_type": "stream",
     "text": [
      "Не требуется\n"
     ]
    }
   ],
   "source": [
    "if np.sum(df.describe().head(1).to_numpy())/(df.shape[0] * df.shape[1]) == 1: # ==1 bad idea\n",
    "    print(\"Не требуется\")\n",
    "else:\n",
    "    pass"
   ]
  },
  {
   "cell_type": "markdown",
   "id": "8aa77716-1b1f-4f97-993a-3a04dd73a401",
   "metadata": {},
   "source": [
    "<h5 style=\"text-align: center; font-size: 20px;\">Отбор существенных(информативных) признаков</h5>"
   ]
  },
  {
   "cell_type": "code",
   "execution_count": 24,
   "id": "565cb820-fbd7-4b9c-83c4-af38cd6afde5",
   "metadata": {},
   "outputs": [],
   "source": [
    "df_X = df.drop(columns='отопительная нагрузка')\n",
    "df_Y = df['отопительная нагрузка']"
   ]
  },
  {
   "cell_type": "code",
   "execution_count": 25,
   "id": "6ebeb982-592a-401f-b905-f270fa30935e",
   "metadata": {},
   "outputs": [
    {
     "data": {
      "text/html": [
       "<div>\n",
       "<style scoped>\n",
       "    .dataframe tbody tr th:only-of-type {\n",
       "        vertical-align: middle;\n",
       "    }\n",
       "\n",
       "    .dataframe tbody tr th {\n",
       "        vertical-align: top;\n",
       "    }\n",
       "\n",
       "    .dataframe thead th {\n",
       "        text-align: right;\n",
       "    }\n",
       "</style>\n",
       "<table border=\"1\" class=\"dataframe\">\n",
       "  <thead>\n",
       "    <tr style=\"text-align: right;\">\n",
       "      <th></th>\n",
       "      <th>Признак</th>\n",
       "      <th>Оценка</th>\n",
       "      <th>Коэффициент корреляции</th>\n",
       "    </tr>\n",
       "  </thead>\n",
       "  <tbody>\n",
       "    <tr>\n",
       "      <th>5</th>\n",
       "      <td>ориентация</td>\n",
       "      <td>0.026</td>\n",
       "      <td>-0.003</td>\n",
       "    </tr>\n",
       "    <tr>\n",
       "      <th>7</th>\n",
       "      <td>распределение площади остекления</td>\n",
       "      <td>0.315</td>\n",
       "      <td>0.087</td>\n",
       "    </tr>\n",
       "    <tr>\n",
       "      <th>2</th>\n",
       "      <td>площадь сплошной стены</td>\n",
       "      <td>0.654</td>\n",
       "      <td>0.456</td>\n",
       "    </tr>\n",
       "    <tr>\n",
       "      <th>10</th>\n",
       "      <td>отношение площади крыши ко всей площади дома</td>\n",
       "      <td>1.258</td>\n",
       "      <td>-0.866</td>\n",
       "    </tr>\n",
       "    <tr>\n",
       "      <th>8</th>\n",
       "      <td>отношение стенной площади ко всей площади дома</td>\n",
       "      <td>1.258</td>\n",
       "      <td>0.866</td>\n",
       "    </tr>\n",
       "    <tr>\n",
       "      <th>6</th>\n",
       "      <td>площадь сплошного остекления</td>\n",
       "      <td>1.934</td>\n",
       "      <td>0.270</td>\n",
       "    </tr>\n",
       "    <tr>\n",
       "      <th>3</th>\n",
       "      <td>зона крыши</td>\n",
       "      <td>2.278</td>\n",
       "      <td>-0.862</td>\n",
       "    </tr>\n",
       "    <tr>\n",
       "      <th>1</th>\n",
       "      <td>площадь поверхности</td>\n",
       "      <td>2.660</td>\n",
       "      <td>-0.658</td>\n",
       "    </tr>\n",
       "    <tr>\n",
       "      <th>9</th>\n",
       "      <td>отношение остекленния ко всей площади дома</td>\n",
       "      <td>4.763</td>\n",
       "      <td>0.416</td>\n",
       "    </tr>\n",
       "    <tr>\n",
       "      <th>0</th>\n",
       "      <td>относительная компактность</td>\n",
       "      <td>7.594</td>\n",
       "      <td>0.622</td>\n",
       "    </tr>\n",
       "    <tr>\n",
       "      <th>4</th>\n",
       "      <td>общая высота</td>\n",
       "      <td>7.770</td>\n",
       "      <td>0.889</td>\n",
       "    </tr>\n",
       "  </tbody>\n",
       "</table>\n",
       "</div>"
      ],
      "text/plain": [
       "                                           Признак  Оценка  \\\n",
       "5                                       ориентация   0.026   \n",
       "7                 распределение площади остекления   0.315   \n",
       "2                           площадь сплошной стены   0.654   \n",
       "10    отношение площади крыши ко всей площади дома   1.258   \n",
       "8   отношение стенной площади ко всей площади дома   1.258   \n",
       "6                     площадь сплошного остекления   1.934   \n",
       "3                                       зона крыши   2.278   \n",
       "1                              площадь поверхности   2.660   \n",
       "9       отношение остекленния ко всей площади дома   4.763   \n",
       "0                       относительная компактность   7.594   \n",
       "4                                     общая высота   7.770   \n",
       "\n",
       "    Коэффициент корреляции  \n",
       "5                   -0.003  \n",
       "7                    0.087  \n",
       "2                    0.456  \n",
       "10                  -0.866  \n",
       "8                    0.866  \n",
       "6                    0.270  \n",
       "3                   -0.862  \n",
       "1                   -0.658  \n",
       "9                    0.416  \n",
       "0                    0.622  \n",
       "4                    0.889  "
      ]
     },
     "metadata": {},
     "output_type": "display_data"
    }
   ],
   "source": [
    "\n",
    "# Масштабирование данных (гребневая регрессия чувствительна к масштабу данных)\n",
    "scaler = StandardScaler()\n",
    "df_X_scaled = scaler.fit_transform(df_X)\n",
    "\n",
    "# Создание и обучение модели гребневой регрессии\n",
    "ridge = Ridge(alpha=1.0)  # alpha — параметр регуляризации\n",
    "ridge.fit(df_X_scaled, df_Y)\n",
    "\n",
    "# Получение коэффициентов модели\n",
    "coefficients = ridge.coef_\n",
    "\n",
    "# Создание DataFrame с оценками важности признаков\n",
    "df_scores = pd.DataFrame(coefficients, index=df_X.columns, columns=['Оценка'])\n",
    "\n",
    "# Добавление коэффициентов корреляции (если они уже есть в вашем коде)\n",
    "df_scores['Коэффициент корреляции'] = corr[\"отопительная нагрузка\"].drop(\"отопительная нагрузка\")\n",
    "\n",
    "# Переименовываем индекс в 'Признак'\n",
    "df_scores = df_scores.reset_index().rename(columns={'index': 'Признак'})\n",
    "\n",
    "# Сортировка по абсолютным значениям оценок (важности признаков)\n",
    "df_scores['Оценка'] = df_scores['Оценка'].abs()  # Используем абсолютные значения коэффициентов\n",
    "df_scores = df_scores.sort_values(by='Оценка', ascending=True)\n",
    "\n",
    "display(df_scores)"
   ]
  },
  {
   "cell_type": "code",
   "execution_count": 26,
   "id": "f2fc1118-4b50-4446-8634-d592d9143003",
   "metadata": {},
   "outputs": [
    {
     "data": {
      "text/html": [
       "<div>\n",
       "<style scoped>\n",
       "    .dataframe tbody tr th:only-of-type {\n",
       "        vertical-align: middle;\n",
       "    }\n",
       "\n",
       "    .dataframe tbody tr th {\n",
       "        vertical-align: top;\n",
       "    }\n",
       "\n",
       "    .dataframe thead th {\n",
       "        text-align: right;\n",
       "    }\n",
       "</style>\n",
       "<table border=\"1\" class=\"dataframe\">\n",
       "  <thead>\n",
       "    <tr style=\"text-align: right;\">\n",
       "      <th></th>\n",
       "      <th>Признак</th>\n",
       "      <th>Оценка</th>\n",
       "      <th>Коэффициент корреляции</th>\n",
       "    </tr>\n",
       "  </thead>\n",
       "  <tbody>\n",
       "    <tr>\n",
       "      <th>5</th>\n",
       "      <td>ориентация</td>\n",
       "      <td>0.005</td>\n",
       "      <td>-0.003</td>\n",
       "    </tr>\n",
       "    <tr>\n",
       "      <th>7</th>\n",
       "      <td>распределение площади остекления</td>\n",
       "      <td>5.892</td>\n",
       "      <td>0.087</td>\n",
       "    </tr>\n",
       "    <tr>\n",
       "      <th>6</th>\n",
       "      <td>площадь сплошного остекления</td>\n",
       "      <td>60.156</td>\n",
       "      <td>0.270</td>\n",
       "    </tr>\n",
       "    <tr>\n",
       "      <th>9</th>\n",
       "      <td>отношение остекленния ко всей площади дома</td>\n",
       "      <td>160.372</td>\n",
       "      <td>0.416</td>\n",
       "    </tr>\n",
       "    <tr>\n",
       "      <th>2</th>\n",
       "      <td>площадь сплошной стены</td>\n",
       "      <td>200.728</td>\n",
       "      <td>0.456</td>\n",
       "    </tr>\n",
       "    <tr>\n",
       "      <th>0</th>\n",
       "      <td>относительная компактность</td>\n",
       "      <td>484.046</td>\n",
       "      <td>0.622</td>\n",
       "    </tr>\n",
       "    <tr>\n",
       "      <th>1</th>\n",
       "      <td>площадь поверхности</td>\n",
       "      <td>585.260</td>\n",
       "      <td>-0.658</td>\n",
       "    </tr>\n",
       "    <tr>\n",
       "      <th>3</th>\n",
       "      <td>зона крыши</td>\n",
       "      <td>2211.620</td>\n",
       "      <td>-0.862</td>\n",
       "    </tr>\n",
       "    <tr>\n",
       "      <th>10</th>\n",
       "      <td>отношение площади крыши ко всей площади дома</td>\n",
       "      <td>2295.956</td>\n",
       "      <td>-0.866</td>\n",
       "    </tr>\n",
       "    <tr>\n",
       "      <th>8</th>\n",
       "      <td>отношение стенной площади ко всей площади дома</td>\n",
       "      <td>2295.956</td>\n",
       "      <td>0.866</td>\n",
       "    </tr>\n",
       "    <tr>\n",
       "      <th>4</th>\n",
       "      <td>общая высота</td>\n",
       "      <td>2900.590</td>\n",
       "      <td>0.889</td>\n",
       "    </tr>\n",
       "  </tbody>\n",
       "</table>\n",
       "</div>"
      ],
      "text/plain": [
       "                                           Признак    Оценка  \\\n",
       "5                                       ориентация     0.005   \n",
       "7                 распределение площади остекления     5.892   \n",
       "6                     площадь сплошного остекления    60.156   \n",
       "9       отношение остекленния ко всей площади дома   160.372   \n",
       "2                           площадь сплошной стены   200.728   \n",
       "0                       относительная компактность   484.046   \n",
       "1                              площадь поверхности   585.260   \n",
       "3                                       зона крыши  2211.620   \n",
       "10    отношение площади крыши ко всей площади дома  2295.956   \n",
       "8   отношение стенной площади ко всей площади дома  2295.956   \n",
       "4                                     общая высота  2900.590   \n",
       "\n",
       "    Коэффициент корреляции  \n",
       "5                   -0.003  \n",
       "7                    0.087  \n",
       "6                    0.270  \n",
       "9                    0.416  \n",
       "2                    0.456  \n",
       "0                    0.622  \n",
       "1                   -0.658  \n",
       "3                   -0.862  \n",
       "10                  -0.866  \n",
       "8                    0.866  \n",
       "4                    0.889  "
      ]
     },
     "metadata": {},
     "output_type": "display_data"
    }
   ],
   "source": [
    "bestfeatures = SelectKBest(f_regression, k=5)#todo поменять f_regression\n",
    "fit = bestfeatures.fit(df_X, df_Y)\n",
    "df_scores = pd.DataFrame(fit.scores_)\n",
    "df_columns = pd.DataFrame(df_X.columns)\n",
    "feature_scores = pd.concat([df_columns, df_scores, pd.DataFrame( corr[\"отопительная нагрузка\"\n",
    "].drop(\"отопительная нагрузка\").values)], axis=1)\n",
    "feature_scores.columns = ['Признак', 'Оценка', 'Коэффициент корреляции']\n",
    "feature_scores=feature_scores.sort_values(by='Оценка')\n",
    "display(feature_scores)"
   ]
  },
  {
   "cell_type": "markdown",
   "id": "eee51bb0-bae4-4122-aa97-a638f703c2d2",
   "metadata": {},
   "source": [
    "Сноска: реверс анализ типов данных\n",
    "\n",
    "Исходя из здравого смысла и шестого чувства предположим, что\n",
    "1. ориентация - это стороны света => есть потенцциальная возможность разбить на пару север-юг запад-восток (если влияние ветра не велико)\n",
    "2. распределение площади остекления => куда выходят окна 0-не выходят никуда\n",
    "3. площадь сплошного остекления. Размерность отличается от общей площади. "
   ]
  },
  {
   "cell_type": "code",
   "execution_count": 27,
   "id": "c56e6eb4-5b86-45c2-b012-1ed6c8d31719",
   "metadata": {},
   "outputs": [
    {
     "data": {
      "text/html": [
       "<div>\n",
       "<style scoped>\n",
       "    .dataframe tbody tr th:only-of-type {\n",
       "        vertical-align: middle;\n",
       "    }\n",
       "\n",
       "    .dataframe tbody tr th {\n",
       "        vertical-align: top;\n",
       "    }\n",
       "\n",
       "    .dataframe thead th {\n",
       "        text-align: right;\n",
       "    }\n",
       "</style>\n",
       "<table border=\"1\" class=\"dataframe\">\n",
       "  <thead>\n",
       "    <tr style=\"text-align: right;\">\n",
       "      <th></th>\n",
       "      <th>Признак</th>\n",
       "      <th>Оценка</th>\n",
       "      <th>Коэффициент корреляции</th>\n",
       "    </tr>\n",
       "  </thead>\n",
       "  <tbody>\n",
       "    <tr>\n",
       "      <th>5</th>\n",
       "      <td>ориентация</td>\n",
       "      <td>0.005</td>\n",
       "      <td>-0.003</td>\n",
       "    </tr>\n",
       "    <tr>\n",
       "      <th>7</th>\n",
       "      <td>распределение площади остекления</td>\n",
       "      <td>5.892</td>\n",
       "      <td>0.087</td>\n",
       "    </tr>\n",
       "    <tr>\n",
       "      <th>6</th>\n",
       "      <td>площадь сплошного остекления</td>\n",
       "      <td>60.156</td>\n",
       "      <td>0.270</td>\n",
       "    </tr>\n",
       "  </tbody>\n",
       "</table>\n",
       "</div>"
      ],
      "text/plain": [
       "                            Признак  Оценка  Коэффициент корреляции\n",
       "5                        ориентация   0.005                  -0.003\n",
       "7  распределение площади остекления   5.892                   0.087\n",
       "6      площадь сплошного остекления  60.156                   0.270"
      ]
     },
     "metadata": {},
     "output_type": "display_data"
    },
    {
     "data": {
      "text/html": [
       "<div>\n",
       "<style scoped>\n",
       "    .dataframe tbody tr th:only-of-type {\n",
       "        vertical-align: middle;\n",
       "    }\n",
       "\n",
       "    .dataframe tbody tr th {\n",
       "        vertical-align: top;\n",
       "    }\n",
       "\n",
       "    .dataframe thead th {\n",
       "        text-align: right;\n",
       "    }\n",
       "</style>\n",
       "<table border=\"1\" class=\"dataframe\">\n",
       "  <thead>\n",
       "    <tr style=\"text-align: right;\">\n",
       "      <th></th>\n",
       "      <th>относительная компактность</th>\n",
       "      <th>площадь поверхности</th>\n",
       "      <th>площадь сплошной стены</th>\n",
       "      <th>зона крыши</th>\n",
       "      <th>общая высота</th>\n",
       "      <th>ориентация</th>\n",
       "      <th>площадь сплошного остекления</th>\n",
       "      <th>распределение площади остекления</th>\n",
       "      <th>отопительная нагрузка</th>\n",
       "      <th>отношение стенной площади ко всей площади дома</th>\n",
       "      <th>отношение остекленния ко всей площади дома</th>\n",
       "      <th>отношение площади крыши ко всей площади дома</th>\n",
       "    </tr>\n",
       "  </thead>\n",
       "  <tbody>\n",
       "    <tr>\n",
       "      <th>0</th>\n",
       "      <td>0.98</td>\n",
       "      <td>514.5</td>\n",
       "      <td>294.0</td>\n",
       "      <td>110.25</td>\n",
       "      <td>7.0</td>\n",
       "      <td>2</td>\n",
       "      <td>0.0</td>\n",
       "      <td>0</td>\n",
       "      <td>15.55</td>\n",
       "      <td>0.571</td>\n",
       "      <td>0.0</td>\n",
       "      <td>0.214</td>\n",
       "    </tr>\n",
       "    <tr>\n",
       "      <th>1</th>\n",
       "      <td>0.98</td>\n",
       "      <td>514.5</td>\n",
       "      <td>294.0</td>\n",
       "      <td>110.25</td>\n",
       "      <td>7.0</td>\n",
       "      <td>3</td>\n",
       "      <td>0.0</td>\n",
       "      <td>0</td>\n",
       "      <td>15.55</td>\n",
       "      <td>0.571</td>\n",
       "      <td>0.0</td>\n",
       "      <td>0.214</td>\n",
       "    </tr>\n",
       "    <tr>\n",
       "      <th>2</th>\n",
       "      <td>0.98</td>\n",
       "      <td>514.5</td>\n",
       "      <td>294.0</td>\n",
       "      <td>110.25</td>\n",
       "      <td>7.0</td>\n",
       "      <td>4</td>\n",
       "      <td>0.0</td>\n",
       "      <td>0</td>\n",
       "      <td>15.55</td>\n",
       "      <td>0.571</td>\n",
       "      <td>0.0</td>\n",
       "      <td>0.214</td>\n",
       "    </tr>\n",
       "  </tbody>\n",
       "</table>\n",
       "</div>"
      ],
      "text/plain": [
       "   относительная компактность  площадь поверхности  площадь сплошной стены  \\\n",
       "0                        0.98                514.5                   294.0   \n",
       "1                        0.98                514.5                   294.0   \n",
       "2                        0.98                514.5                   294.0   \n",
       "\n",
       "   зона крыши  общая высота  ориентация  площадь сплошного остекления  \\\n",
       "0      110.25           7.0           2                           0.0   \n",
       "1      110.25           7.0           3                           0.0   \n",
       "2      110.25           7.0           4                           0.0   \n",
       "\n",
       "   распределение площади остекления  отопительная нагрузка  \\\n",
       "0                                 0                  15.55   \n",
       "1                                 0                  15.55   \n",
       "2                                 0                  15.55   \n",
       "\n",
       "   отношение стенной площади ко всей площади дома  \\\n",
       "0                                           0.571   \n",
       "1                                           0.571   \n",
       "2                                           0.571   \n",
       "\n",
       "   отношение остекленния ко всей площади дома  \\\n",
       "0                                         0.0   \n",
       "1                                         0.0   \n",
       "2                                         0.0   \n",
       "\n",
       "   отношение площади крыши ко всей площади дома  \n",
       "0                                         0.214  \n",
       "1                                         0.214  \n",
       "2                                         0.214  "
      ]
     },
     "metadata": {},
     "output_type": "display_data"
    },
    {
     "data": {
      "text/html": [
       "<div>\n",
       "<style scoped>\n",
       "    .dataframe tbody tr th:only-of-type {\n",
       "        vertical-align: middle;\n",
       "    }\n",
       "\n",
       "    .dataframe tbody tr th {\n",
       "        vertical-align: top;\n",
       "    }\n",
       "\n",
       "    .dataframe thead th {\n",
       "        text-align: right;\n",
       "    }\n",
       "</style>\n",
       "<table border=\"1\" class=\"dataframe\">\n",
       "  <thead>\n",
       "    <tr style=\"text-align: right;\">\n",
       "      <th></th>\n",
       "      <th>относительная компактность</th>\n",
       "      <th>площадь поверхности</th>\n",
       "      <th>площадь сплошной стены</th>\n",
       "      <th>зона крыши</th>\n",
       "      <th>общая высота</th>\n",
       "      <th>отопительная нагрузка</th>\n",
       "      <th>отношение стенной площади ко всей площади дома</th>\n",
       "      <th>отношение остекленния ко всей площади дома</th>\n",
       "      <th>отношение площади крыши ко всей площади дома</th>\n",
       "    </tr>\n",
       "  </thead>\n",
       "  <tbody>\n",
       "    <tr>\n",
       "      <th>0</th>\n",
       "      <td>0.98</td>\n",
       "      <td>514.5</td>\n",
       "      <td>294.0</td>\n",
       "      <td>110.25</td>\n",
       "      <td>7.0</td>\n",
       "      <td>15.55</td>\n",
       "      <td>0.571</td>\n",
       "      <td>0.0</td>\n",
       "      <td>0.214</td>\n",
       "    </tr>\n",
       "    <tr>\n",
       "      <th>1</th>\n",
       "      <td>0.98</td>\n",
       "      <td>514.5</td>\n",
       "      <td>294.0</td>\n",
       "      <td>110.25</td>\n",
       "      <td>7.0</td>\n",
       "      <td>15.55</td>\n",
       "      <td>0.571</td>\n",
       "      <td>0.0</td>\n",
       "      <td>0.214</td>\n",
       "    </tr>\n",
       "    <tr>\n",
       "      <th>2</th>\n",
       "      <td>0.98</td>\n",
       "      <td>514.5</td>\n",
       "      <td>294.0</td>\n",
       "      <td>110.25</td>\n",
       "      <td>7.0</td>\n",
       "      <td>15.55</td>\n",
       "      <td>0.571</td>\n",
       "      <td>0.0</td>\n",
       "      <td>0.214</td>\n",
       "    </tr>\n",
       "  </tbody>\n",
       "</table>\n",
       "</div>"
      ],
      "text/plain": [
       "   относительная компактность  площадь поверхности  площадь сплошной стены  \\\n",
       "0                        0.98                514.5                   294.0   \n",
       "1                        0.98                514.5                   294.0   \n",
       "2                        0.98                514.5                   294.0   \n",
       "\n",
       "   зона крыши  общая высота  отопительная нагрузка  \\\n",
       "0      110.25           7.0                  15.55   \n",
       "1      110.25           7.0                  15.55   \n",
       "2      110.25           7.0                  15.55   \n",
       "\n",
       "   отношение стенной площади ко всей площади дома  \\\n",
       "0                                           0.571   \n",
       "1                                           0.571   \n",
       "2                                           0.571   \n",
       "\n",
       "   отношение остекленния ко всей площади дома  \\\n",
       "0                                         0.0   \n",
       "1                                         0.0   \n",
       "2                                         0.0   \n",
       "\n",
       "   отношение площади крыши ко всей площади дома  \n",
       "0                                         0.214  \n",
       "1                                         0.214  \n",
       "2                                         0.214  "
      ]
     },
     "metadata": {},
     "output_type": "display_data"
    }
   ],
   "source": [
    "display(feature_scores[:3])\n",
    "display(df.head(3))\n",
    "if feature_scores[:3][\"Признак\"].to_list() == [col for col in feature_scores[:3][\"Признак\"].to_list() if col in df.columns]:\n",
    "    df.drop(feature_scores[:3][\"Признак\"].to_list(), axis=1, inplace=True)\n",
    "display(df.head(3))\n",
    "df_X = df.drop(columns='отопительная нагрузка')\n",
    "df_Y = df['отопительная нагрузка']"
   ]
  },
  {
   "cell_type": "markdown",
   "id": "05761ca2-a263-4e19-9d0a-a453c858b3eb",
   "metadata": {},
   "source": [
    "<h5 style=\"text-align: center; font-size: 20px;\">Преобразование данных</h5>"
   ]
  },
  {
   "cell_type": "markdown",
   "id": "a2f8569f-a0d9-4299-9935-8ba0c9284a9c",
   "metadata": {},
   "source": [
    "<h5 style=\"text-align: center; font-size: 20px;\">Обработка текстовых и категориальных атрибутов</h5>"
   ]
  },
  {
   "cell_type": "code",
   "execution_count": 28,
   "id": "5afa6dcc-aca9-4105-a41e-ecc863410cbe",
   "metadata": {},
   "outputs": [
    {
     "data": {
      "text/plain": [
       "[array([3.5, 7. ])]"
      ]
     },
     "metadata": {},
     "output_type": "display_data"
    }
   ],
   "source": [
    "list_od_ordinary_columns = [\"общая высота\", \"ориентация\", \"распределение площади остекления\"]\n",
    "for el in list_od_ordinary_columns:\n",
    "    if el in df.columns:\n",
    "        enc = OrdinalEncoder(dtype=np.int64)\n",
    "        df[el] = enc.fit_transform(pd.DataFrame(df[el]))\n",
    "        display(enc.categories_)\n"
   ]
  },
  {
   "cell_type": "markdown",
   "id": "23f2372a-cbb4-45ab-9968-2c3d1b4fd2a5",
   "metadata": {},
   "source": [
    "<h5 style=\"text-align: center; font-size: 20px;\">Масштабирование</h5>"
   ]
  },
  {
   "cell_type": "code",
   "execution_count": 29,
   "id": "bf79613b-6268-4bc6-b49b-fa19206610a2",
   "metadata": {},
   "outputs": [],
   "source": [
    "#Код для масштабирования"
   ]
  },
  {
   "cell_type": "markdown",
   "id": "7ad08bf3-eac2-43de-9ce0-2ea862960a6f",
   "metadata": {},
   "source": [
    "<h5 style=\"text-align: center; font-size: 20px;\">Стандартизация</h5>"
   ]
  },
  {
   "cell_type": "code",
   "execution_count": 30,
   "id": "e2febda9-eef5-4b1d-ae3e-7ee10390caeb",
   "metadata": {},
   "outputs": [],
   "source": [
    "#код для  Стандартизации"
   ]
  },
  {
   "cell_type": "markdown",
   "id": "fafe5cdb-56c6-4c1f-b1a2-51c6b1793aee",
   "metadata": {},
   "source": [
    "<h5 style=\"text-align: center; font-size: 20px;\">Нормализация</h5>"
   ]
  },
  {
   "cell_type": "code",
   "execution_count": 31,
   "id": "70c85028-e805-42e4-bc05-5ec8d2f68526",
   "metadata": {},
   "outputs": [
    {
     "data": {
      "text/html": [
       "<div>\n",
       "<style scoped>\n",
       "    .dataframe tbody tr th:only-of-type {\n",
       "        vertical-align: middle;\n",
       "    }\n",
       "\n",
       "    .dataframe tbody tr th {\n",
       "        vertical-align: top;\n",
       "    }\n",
       "\n",
       "    .dataframe thead th {\n",
       "        text-align: right;\n",
       "    }\n",
       "</style>\n",
       "<table border=\"1\" class=\"dataframe\">\n",
       "  <thead>\n",
       "    <tr style=\"text-align: right;\">\n",
       "      <th></th>\n",
       "      <th>относительная компактность</th>\n",
       "      <th>площадь поверхности</th>\n",
       "      <th>площадь сплошной стены</th>\n",
       "      <th>зона крыши</th>\n",
       "      <th>общая высота</th>\n",
       "      <th>отопительная нагрузка</th>\n",
       "      <th>отношение стенной площади ко всей площади дома</th>\n",
       "      <th>отношение остекленния ко всей площади дома</th>\n",
       "      <th>отношение площади крыши ко всей площади дома</th>\n",
       "    </tr>\n",
       "  </thead>\n",
       "  <tbody>\n",
       "    <tr>\n",
       "      <th>0</th>\n",
       "      <td>1.625e-03</td>\n",
       "      <td>0.853</td>\n",
       "      <td>0.488</td>\n",
       "      <td>0.183</td>\n",
       "      <td>0.002</td>\n",
       "      <td>0.026</td>\n",
       "      <td>9.477e-04</td>\n",
       "      <td>0.000e+00</td>\n",
       "      <td>3.554e-04</td>\n",
       "    </tr>\n",
       "    <tr>\n",
       "      <th>1</th>\n",
       "      <td>1.625e-03</td>\n",
       "      <td>0.853</td>\n",
       "      <td>0.488</td>\n",
       "      <td>0.183</td>\n",
       "      <td>0.002</td>\n",
       "      <td>0.026</td>\n",
       "      <td>9.477e-04</td>\n",
       "      <td>0.000e+00</td>\n",
       "      <td>3.554e-04</td>\n",
       "    </tr>\n",
       "    <tr>\n",
       "      <th>2</th>\n",
       "      <td>1.625e-03</td>\n",
       "      <td>0.853</td>\n",
       "      <td>0.488</td>\n",
       "      <td>0.183</td>\n",
       "      <td>0.002</td>\n",
       "      <td>0.026</td>\n",
       "      <td>9.477e-04</td>\n",
       "      <td>0.000e+00</td>\n",
       "      <td>3.554e-04</td>\n",
       "    </tr>\n",
       "    <tr>\n",
       "      <th>3</th>\n",
       "      <td>1.625e-03</td>\n",
       "      <td>0.853</td>\n",
       "      <td>0.488</td>\n",
       "      <td>0.183</td>\n",
       "      <td>0.002</td>\n",
       "      <td>0.026</td>\n",
       "      <td>9.477e-04</td>\n",
       "      <td>0.000e+00</td>\n",
       "      <td>3.554e-04</td>\n",
       "    </tr>\n",
       "    <tr>\n",
       "      <th>4</th>\n",
       "      <td>1.365e-03</td>\n",
       "      <td>0.855</td>\n",
       "      <td>0.483</td>\n",
       "      <td>0.186</td>\n",
       "      <td>0.002</td>\n",
       "      <td>0.032</td>\n",
       "      <td>8.576e-04</td>\n",
       "      <td>0.000e+00</td>\n",
       "      <td>3.298e-04</td>\n",
       "    </tr>\n",
       "    <tr>\n",
       "      <th>...</th>\n",
       "      <td>...</td>\n",
       "      <td>...</td>\n",
       "      <td>...</td>\n",
       "      <td>...</td>\n",
       "      <td>...</td>\n",
       "      <td>...</td>\n",
       "      <td>...</td>\n",
       "      <td>...</td>\n",
       "      <td>...</td>\n",
       "    </tr>\n",
       "    <tr>\n",
       "      <th>763</th>\n",
       "      <td>7.241e-04</td>\n",
       "      <td>0.887</td>\n",
       "      <td>0.388</td>\n",
       "      <td>0.249</td>\n",
       "      <td>0.000</td>\n",
       "      <td>0.020</td>\n",
       "      <td>4.950e-04</td>\n",
       "      <td>5.772e-07</td>\n",
       "      <td>3.182e-04</td>\n",
       "    </tr>\n",
       "    <tr>\n",
       "      <th>764</th>\n",
       "      <td>6.774e-04</td>\n",
       "      <td>0.883</td>\n",
       "      <td>0.402</td>\n",
       "      <td>0.241</td>\n",
       "      <td>0.000</td>\n",
       "      <td>0.018</td>\n",
       "      <td>4.967e-04</td>\n",
       "      <td>5.406e-07</td>\n",
       "      <td>2.980e-04</td>\n",
       "    </tr>\n",
       "    <tr>\n",
       "      <th>765</th>\n",
       "      <td>6.774e-04</td>\n",
       "      <td>0.883</td>\n",
       "      <td>0.402</td>\n",
       "      <td>0.241</td>\n",
       "      <td>0.000</td>\n",
       "      <td>0.018</td>\n",
       "      <td>4.967e-04</td>\n",
       "      <td>5.406e-07</td>\n",
       "      <td>2.980e-04</td>\n",
       "    </tr>\n",
       "    <tr>\n",
       "      <th>766</th>\n",
       "      <td>6.774e-04</td>\n",
       "      <td>0.883</td>\n",
       "      <td>0.402</td>\n",
       "      <td>0.241</td>\n",
       "      <td>0.000</td>\n",
       "      <td>0.018</td>\n",
       "      <td>4.967e-04</td>\n",
       "      <td>5.406e-07</td>\n",
       "      <td>2.980e-04</td>\n",
       "    </tr>\n",
       "    <tr>\n",
       "      <th>767</th>\n",
       "      <td>6.774e-04</td>\n",
       "      <td>0.883</td>\n",
       "      <td>0.402</td>\n",
       "      <td>0.241</td>\n",
       "      <td>0.000</td>\n",
       "      <td>0.018</td>\n",
       "      <td>4.967e-04</td>\n",
       "      <td>5.406e-07</td>\n",
       "      <td>2.980e-04</td>\n",
       "    </tr>\n",
       "  </tbody>\n",
       "</table>\n",
       "<p>768 rows × 9 columns</p>\n",
       "</div>"
      ],
      "text/plain": [
       "     относительная компактность  площадь поверхности  площадь сплошной стены  \\\n",
       "0                     1.625e-03                0.853                   0.488   \n",
       "1                     1.625e-03                0.853                   0.488   \n",
       "2                     1.625e-03                0.853                   0.488   \n",
       "3                     1.625e-03                0.853                   0.488   \n",
       "4                     1.365e-03                0.855                   0.483   \n",
       "..                          ...                  ...                     ...   \n",
       "763                   7.241e-04                0.887                   0.388   \n",
       "764                   6.774e-04                0.883                   0.402   \n",
       "765                   6.774e-04                0.883                   0.402   \n",
       "766                   6.774e-04                0.883                   0.402   \n",
       "767                   6.774e-04                0.883                   0.402   \n",
       "\n",
       "     зона крыши  общая высота  отопительная нагрузка  \\\n",
       "0         0.183         0.002                  0.026   \n",
       "1         0.183         0.002                  0.026   \n",
       "2         0.183         0.002                  0.026   \n",
       "3         0.183         0.002                  0.026   \n",
       "4         0.186         0.002                  0.032   \n",
       "..          ...           ...                    ...   \n",
       "763       0.249         0.000                  0.020   \n",
       "764       0.241         0.000                  0.018   \n",
       "765       0.241         0.000                  0.018   \n",
       "766       0.241         0.000                  0.018   \n",
       "767       0.241         0.000                  0.018   \n",
       "\n",
       "     отношение стенной площади ко всей площади дома  \\\n",
       "0                                         9.477e-04   \n",
       "1                                         9.477e-04   \n",
       "2                                         9.477e-04   \n",
       "3                                         9.477e-04   \n",
       "4                                         8.576e-04   \n",
       "..                                              ...   \n",
       "763                                       4.950e-04   \n",
       "764                                       4.967e-04   \n",
       "765                                       4.967e-04   \n",
       "766                                       4.967e-04   \n",
       "767                                       4.967e-04   \n",
       "\n",
       "     отношение остекленния ко всей площади дома  \\\n",
       "0                                     0.000e+00   \n",
       "1                                     0.000e+00   \n",
       "2                                     0.000e+00   \n",
       "3                                     0.000e+00   \n",
       "4                                     0.000e+00   \n",
       "..                                          ...   \n",
       "763                                   5.772e-07   \n",
       "764                                   5.406e-07   \n",
       "765                                   5.406e-07   \n",
       "766                                   5.406e-07   \n",
       "767                                   5.406e-07   \n",
       "\n",
       "     отношение площади крыши ко всей площади дома  \n",
       "0                                       3.554e-04  \n",
       "1                                       3.554e-04  \n",
       "2                                       3.554e-04  \n",
       "3                                       3.554e-04  \n",
       "4                                       3.298e-04  \n",
       "..                                            ...  \n",
       "763                                     3.182e-04  \n",
       "764                                     2.980e-04  \n",
       "765                                     2.980e-04  \n",
       "766                                     2.980e-04  \n",
       "767                                     2.980e-04  \n",
       "\n",
       "[768 rows x 9 columns]"
      ]
     },
     "metadata": {},
     "output_type": "display_data"
    },
    {
     "data": {
      "text/html": [
       "<div>\n",
       "<style scoped>\n",
       "    .dataframe tbody tr th:only-of-type {\n",
       "        vertical-align: middle;\n",
       "    }\n",
       "\n",
       "    .dataframe tbody tr th {\n",
       "        vertical-align: top;\n",
       "    }\n",
       "\n",
       "    .dataframe thead th {\n",
       "        text-align: right;\n",
       "    }\n",
       "</style>\n",
       "<table border=\"1\" class=\"dataframe\">\n",
       "  <thead>\n",
       "    <tr style=\"text-align: right;\">\n",
       "      <th></th>\n",
       "      <th>относительная компактность</th>\n",
       "      <th>площадь поверхности</th>\n",
       "      <th>площадь сплошной стены</th>\n",
       "      <th>зона крыши</th>\n",
       "      <th>общая высота</th>\n",
       "      <th>ориентация</th>\n",
       "      <th>площадь сплошного остекления</th>\n",
       "      <th>распределение площади остекления</th>\n",
       "      <th>отопительная нагрузка</th>\n",
       "    </tr>\n",
       "  </thead>\n",
       "  <tbody>\n",
       "    <tr>\n",
       "      <th>0</th>\n",
       "      <td>1.625e-03</td>\n",
       "      <td>0.853</td>\n",
       "      <td>0.488</td>\n",
       "      <td>0.183</td>\n",
       "      <td>0.012</td>\n",
       "      <td>0.003</td>\n",
       "      <td>0.000e+00</td>\n",
       "      <td>0.000</td>\n",
       "      <td>0.026</td>\n",
       "    </tr>\n",
       "    <tr>\n",
       "      <th>1</th>\n",
       "      <td>1.625e-03</td>\n",
       "      <td>0.853</td>\n",
       "      <td>0.488</td>\n",
       "      <td>0.183</td>\n",
       "      <td>0.012</td>\n",
       "      <td>0.005</td>\n",
       "      <td>0.000e+00</td>\n",
       "      <td>0.000</td>\n",
       "      <td>0.026</td>\n",
       "    </tr>\n",
       "    <tr>\n",
       "      <th>2</th>\n",
       "      <td>1.625e-03</td>\n",
       "      <td>0.853</td>\n",
       "      <td>0.488</td>\n",
       "      <td>0.183</td>\n",
       "      <td>0.012</td>\n",
       "      <td>0.007</td>\n",
       "      <td>0.000e+00</td>\n",
       "      <td>0.000</td>\n",
       "      <td>0.026</td>\n",
       "    </tr>\n",
       "    <tr>\n",
       "      <th>3</th>\n",
       "      <td>1.625e-03</td>\n",
       "      <td>0.853</td>\n",
       "      <td>0.488</td>\n",
       "      <td>0.183</td>\n",
       "      <td>0.012</td>\n",
       "      <td>0.008</td>\n",
       "      <td>0.000e+00</td>\n",
       "      <td>0.000</td>\n",
       "      <td>0.026</td>\n",
       "    </tr>\n",
       "    <tr>\n",
       "      <th>4</th>\n",
       "      <td>1.365e-03</td>\n",
       "      <td>0.855</td>\n",
       "      <td>0.483</td>\n",
       "      <td>0.186</td>\n",
       "      <td>0.011</td>\n",
       "      <td>0.003</td>\n",
       "      <td>0.000e+00</td>\n",
       "      <td>0.000</td>\n",
       "      <td>0.032</td>\n",
       "    </tr>\n",
       "    <tr>\n",
       "      <th>...</th>\n",
       "      <td>...</td>\n",
       "      <td>...</td>\n",
       "      <td>...</td>\n",
       "      <td>...</td>\n",
       "      <td>...</td>\n",
       "      <td>...</td>\n",
       "      <td>...</td>\n",
       "      <td>...</td>\n",
       "      <td>...</td>\n",
       "    </tr>\n",
       "    <tr>\n",
       "      <th>763</th>\n",
       "      <td>7.241e-04</td>\n",
       "      <td>0.887</td>\n",
       "      <td>0.388</td>\n",
       "      <td>0.249</td>\n",
       "      <td>0.004</td>\n",
       "      <td>0.006</td>\n",
       "      <td>4.525e-04</td>\n",
       "      <td>0.006</td>\n",
       "      <td>0.020</td>\n",
       "    </tr>\n",
       "    <tr>\n",
       "      <th>764</th>\n",
       "      <td>6.774e-04</td>\n",
       "      <td>0.883</td>\n",
       "      <td>0.402</td>\n",
       "      <td>0.241</td>\n",
       "      <td>0.004</td>\n",
       "      <td>0.002</td>\n",
       "      <td>4.370e-04</td>\n",
       "      <td>0.005</td>\n",
       "      <td>0.018</td>\n",
       "    </tr>\n",
       "    <tr>\n",
       "      <th>765</th>\n",
       "      <td>6.774e-04</td>\n",
       "      <td>0.883</td>\n",
       "      <td>0.402</td>\n",
       "      <td>0.241</td>\n",
       "      <td>0.004</td>\n",
       "      <td>0.003</td>\n",
       "      <td>4.370e-04</td>\n",
       "      <td>0.005</td>\n",
       "      <td>0.018</td>\n",
       "    </tr>\n",
       "    <tr>\n",
       "      <th>766</th>\n",
       "      <td>6.774e-04</td>\n",
       "      <td>0.883</td>\n",
       "      <td>0.402</td>\n",
       "      <td>0.241</td>\n",
       "      <td>0.004</td>\n",
       "      <td>0.004</td>\n",
       "      <td>4.370e-04</td>\n",
       "      <td>0.005</td>\n",
       "      <td>0.018</td>\n",
       "    </tr>\n",
       "    <tr>\n",
       "      <th>767</th>\n",
       "      <td>6.774e-04</td>\n",
       "      <td>0.883</td>\n",
       "      <td>0.402</td>\n",
       "      <td>0.241</td>\n",
       "      <td>0.004</td>\n",
       "      <td>0.005</td>\n",
       "      <td>4.370e-04</td>\n",
       "      <td>0.005</td>\n",
       "      <td>0.018</td>\n",
       "    </tr>\n",
       "  </tbody>\n",
       "</table>\n",
       "<p>768 rows × 9 columns</p>\n",
       "</div>"
      ],
      "text/plain": [
       "     относительная компактность  площадь поверхности  площадь сплошной стены  \\\n",
       "0                     1.625e-03                0.853                   0.488   \n",
       "1                     1.625e-03                0.853                   0.488   \n",
       "2                     1.625e-03                0.853                   0.488   \n",
       "3                     1.625e-03                0.853                   0.488   \n",
       "4                     1.365e-03                0.855                   0.483   \n",
       "..                          ...                  ...                     ...   \n",
       "763                   7.241e-04                0.887                   0.388   \n",
       "764                   6.774e-04                0.883                   0.402   \n",
       "765                   6.774e-04                0.883                   0.402   \n",
       "766                   6.774e-04                0.883                   0.402   \n",
       "767                   6.774e-04                0.883                   0.402   \n",
       "\n",
       "     зона крыши  общая высота  ориентация  площадь сплошного остекления  \\\n",
       "0         0.183         0.012       0.003                     0.000e+00   \n",
       "1         0.183         0.012       0.005                     0.000e+00   \n",
       "2         0.183         0.012       0.007                     0.000e+00   \n",
       "3         0.183         0.012       0.008                     0.000e+00   \n",
       "4         0.186         0.011       0.003                     0.000e+00   \n",
       "..          ...           ...         ...                           ...   \n",
       "763       0.249         0.004       0.006                     4.525e-04   \n",
       "764       0.241         0.004       0.002                     4.370e-04   \n",
       "765       0.241         0.004       0.003                     4.370e-04   \n",
       "766       0.241         0.004       0.004                     4.370e-04   \n",
       "767       0.241         0.004       0.005                     4.370e-04   \n",
       "\n",
       "     распределение площади остекления  отопительная нагрузка  \n",
       "0                               0.000                  0.026  \n",
       "1                               0.000                  0.026  \n",
       "2                               0.000                  0.026  \n",
       "3                               0.000                  0.026  \n",
       "4                               0.000                  0.032  \n",
       "..                                ...                    ...  \n",
       "763                             0.006                  0.020  \n",
       "764                             0.005                  0.018  \n",
       "765                             0.005                  0.018  \n",
       "766                             0.005                  0.018  \n",
       "767                             0.005                  0.018  \n",
       "\n",
       "[768 rows x 9 columns]"
      ]
     },
     "metadata": {},
     "output_type": "display_data"
    }
   ],
   "source": [
    "def scale(data_frame):\n",
    "    df_normalized = pd.DataFrame(Normalizer().fit_transform(data_frame))\n",
    "    #_ = list(df.columns)\n",
    "    #_.remove('отопительная нагрузка')\n",
    "    df_normalized.columns = data_frame.columns\n",
    "    display(df_normalized)\n",
    "    return df_normalized\n",
    "df_normalized = scale(df)\n",
    "df_base_normilized = scale(df_base)"
   ]
  },
  {
   "cell_type": "code",
   "execution_count": 32,
   "id": "4e984d8a-13c0-4a92-954b-b325166ed20e",
   "metadata": {},
   "outputs": [],
   "source": [
    "df_X = df_normalized.drop(columns='отопительная нагрузка')\n",
    "df_Y = df_normalized['отопительная нагрузка']\n",
    "\n"
   ]
  },
  {
   "cell_type": "code",
   "execution_count": 33,
   "id": "278c59d0-1565-4110-9c93-478fc4b013f8",
   "metadata": {},
   "outputs": [],
   "source": [
    "TEST_SIZE = 0.2\n",
    "VALID_SIZE = 0.1\n",
    "\n",
    "SEED = 1337\n",
    "\n",
    "assert VALID_SIZE*1.5 <= TEST_SIZE\n",
    "VALID_SIZE = VALID_SIZE / TEST_SIZE"
   ]
  },
  {
   "cell_type": "code",
   "execution_count": 91,
   "id": "92fee0e1-df24-4c26-951b-896b17699a52",
   "metadata": {},
   "outputs": [
    {
     "name": "stdout",
     "output_type": "stream",
     "text": [
      "frame = ['el', 'df_normalized']\n",
      "frame = ['df', 'el']\n"
     ]
    },
    {
     "name": "stderr",
     "output_type": "stream",
     "text": [
      "S:\\anaconda\\envs\\study\\Lib\\site-packages\\sklearn\\linear_model\\_ridge.py:254: UserWarning:\n",
      "\n",
      "Singular matrix in solving dual problem. Using least-squares solution instead.\n",
      "\n"
     ]
    },
    {
     "name": "stdout",
     "output_type": "stream",
     "text": [
      "frame = ['el', 'df_base_normilized']\n",
      "frame = ['df_base', 'el']\n",
      "frame = ['el', 'WITHOUT_CUSTOM']\n",
      "\n",
      "\n",
      "\n",
      "['df_normalized']\n"
     ]
    },
    {
     "name": "stderr",
     "output_type": "stream",
     "text": [
      "S:\\anaconda\\envs\\study\\Lib\\site-packages\\sklearn\\linear_model\\_ridge.py:254: UserWarning:\n",
      "\n",
      "Singular matrix in solving dual problem. Using least-squares solution instead.\n",
      "\n"
     ]
    },
    {
     "data": {
      "text/plain": [
       "'LinearRegression     \\tRMSE = \\t0.0028625870701039463 \\tR2_score = \\t0.9652047401656899'"
      ]
     },
     "metadata": {},
     "output_type": "display_data"
    },
    {
     "data": {
      "text/plain": [
       "'Ridge                \\tRMSE = \\t0.007894071294026576 \\tR2_score = \\t0.735390908304088'"
      ]
     },
     "metadata": {},
     "output_type": "display_data"
    },
    {
     "data": {
      "text/plain": [
       "'LinearRegression     \\tRMSE = \\t0.00033248260684678874 \\tR2_score = \\t0.9995306027560326'"
      ]
     },
     "metadata": {},
     "output_type": "display_data"
    },
    {
     "data": {
      "text/plain": [
       "'Ridge                \\tRMSE = \\t0.007705798052821815 \\tR2_score = \\t0.7478622228692589'"
      ]
     },
     "metadata": {},
     "output_type": "display_data"
    },
    {
     "data": {
      "text/plain": [
       "'LinearRegression     \\tRMSE = \\t0.00010622931439259085 \\tR2_score = \\t0.9999520828002301'"
      ]
     },
     "metadata": {},
     "output_type": "display_data"
    },
    {
     "data": {
      "text/plain": [
       "'Ridge                \\tRMSE = \\t0.007664253313281545 \\tR2_score = \\t0.7505736256230419'"
      ]
     },
     "metadata": {},
     "output_type": "display_data"
    },
    {
     "data": {
      "text/plain": [
       "'LinearRegression     \\tRMSE = \\t5.185655250174346e-05 \\tR2_score = \\t0.9999885814763672'"
      ]
     },
     "metadata": {},
     "output_type": "display_data"
    },
    {
     "data": {
      "text/plain": [
       "'Ridge                \\tRMSE = \\t0.007637156842838078 \\tR2_score = \\t0.7523341695024495'"
      ]
     },
     "metadata": {},
     "output_type": "display_data"
    },
    {
     "data": {
      "text/plain": [
       "'LinearRegression     \\tRMSE = \\t5.280073823186377e-05 \\tR2_score = \\t0.9999881618820537'"
      ]
     },
     "metadata": {},
     "output_type": "display_data"
    },
    {
     "data": {
      "text/plain": [
       "'Ridge                \\tRMSE = \\t0.007612098573366036 \\tR2_score = \\t0.7539567355619619'"
      ]
     },
     "metadata": {},
     "output_type": "display_data"
    },
    {
     "name": "stdout",
     "output_type": "stream",
     "text": [
      "\n",
      "min(RMSE) = [np.float64(5.185655250174346e-05), np.float64(0.007894071294026576)] max(R2) = [0.9999885814763672, 0.735390908304088]\n",
      "\n",
      "['df']\n"
     ]
    },
    {
     "data": {
      "text/plain": [
       "'LinearRegression     \\tRMSE = \\t2.7327164922034304 \\tR2_score = \\t0.9232629946069103'"
      ]
     },
     "metadata": {},
     "output_type": "display_data"
    },
    {
     "data": {
      "text/plain": [
       "'Ridge                \\tRMSE = \\t3.85246785147415 \\tR2_score = \\t0.8474916094013639'"
      ]
     },
     "metadata": {},
     "output_type": "display_data"
    },
    {
     "data": {
      "text/plain": [
       "'LinearRegression     \\tRMSE = \\t0.8687689777880861 \\tR2_score = \\t0.9922442410837444'"
      ]
     },
     "metadata": {},
     "output_type": "display_data"
    },
    {
     "data": {
      "text/plain": [
       "'Ridge                \\tRMSE = \\t2.0206616210346136 \\tR2_score = \\t0.9580431497951718'"
      ]
     },
     "metadata": {},
     "output_type": "display_data"
    },
    {
     "data": {
      "text/plain": [
       "'LinearRegression     \\tRMSE = \\t0.8690964481132595 \\tR2_score = \\t0.992238393131926'"
      ]
     },
     "metadata": {},
     "output_type": "display_data"
    },
    {
     "data": {
      "text/plain": [
       "'Ridge                \\tRMSE = \\t1.0754191819784489 \\tR2_score = \\t0.9881157645139528'"
      ]
     },
     "metadata": {},
     "output_type": "display_data"
    },
    {
     "data": {
      "text/plain": [
       "'LinearRegression     \\tRMSE = \\t1.0392062125847055 \\tR2_score = \\t0.9889026531482616'"
      ]
     },
     "metadata": {},
     "output_type": "display_data"
    },
    {
     "data": {
      "text/plain": [
       "'Ridge                \\tRMSE = \\t0.9815821329818049 \\tR2_score = \\t0.9900992297927758'"
      ]
     },
     "metadata": {},
     "output_type": "display_data"
    },
    {
     "data": {
      "text/plain": [
       "'LinearRegression     \\tRMSE = \\t1.0395774436449134 \\tR2_score = \\t0.9888947232194084'"
      ]
     },
     "metadata": {},
     "output_type": "display_data"
    },
    {
     "data": {
      "text/plain": [
       "'Ridge                \\tRMSE = \\t1.5343639670719398 \\tR2_score = \\t0.9758079610232627'"
      ]
     },
     "metadata": {},
     "output_type": "display_data"
    },
    {
     "name": "stdout",
     "output_type": "stream",
     "text": [
      "\n",
      "min(RMSE) = [np.float64(0.8687689777880861), np.float64(3.85246785147415)] max(R2) = [0.9922442410837444, 0.8474916094013639]\n",
      "\n",
      "['df_base_normilized']\n"
     ]
    },
    {
     "data": {
      "text/plain": [
       "'LinearRegression     \\tRMSE = \\t0.0037453160526461906 \\tR2_score = \\t0.9404245829662548'"
      ]
     },
     "metadata": {},
     "output_type": "display_data"
    },
    {
     "data": {
      "text/plain": [
       "'Ridge                \\tRMSE = \\t0.007873913874925977 \\tR2_score = \\t0.7366875054762947'"
      ]
     },
     "metadata": {},
     "output_type": "display_data"
    },
    {
     "data": {
      "text/plain": [
       "'LinearRegression     \\tRMSE = \\t0.0003634435936591228 \\tR2_score = \\t0.9994389982923502'"
      ]
     },
     "metadata": {},
     "output_type": "display_data"
    },
    {
     "data": {
      "text/plain": [
       "'Ridge                \\tRMSE = \\t0.007673656307646612 \\tR2_score = \\t0.7499108590075629'"
      ]
     },
     "metadata": {},
     "output_type": "display_data"
    },
    {
     "data": {
      "text/plain": [
       "'LinearRegression     \\tRMSE = \\t6.22692461750607e-05 \\tR2_score = \\t0.9999835321325163'"
      ]
     },
     "metadata": {},
     "output_type": "display_data"
    },
    {
     "data": {
      "text/plain": [
       "'Ridge                \\tRMSE = \\t0.007622383090609257 \\tR2_score = \\t0.753241744537938'"
      ]
     },
     "metadata": {},
     "output_type": "display_data"
    },
    {
     "data": {
      "text/plain": [
       "'LinearRegression     \\tRMSE = \\t1.6706919143179762e-05 \\tR2_score = \\t0.9999988145509618'"
      ]
     },
     "metadata": {},
     "output_type": "display_data"
    },
    {
     "data": {
      "text/plain": [
       "'Ridge                \\tRMSE = \\t0.007587864101684943 \\tR2_score = \\t0.7554716399081204'"
      ]
     },
     "metadata": {},
     "output_type": "display_data"
    },
    {
     "data": {
      "text/plain": [
       "'LinearRegression     \\tRMSE = \\t1.6938869259408966e-05 \\tR2_score = \\t0.9999987814061582'"
      ]
     },
     "metadata": {},
     "output_type": "display_data"
    },
    {
     "data": {
      "text/plain": [
       "'Ridge                \\tRMSE = \\t0.007557261111862714 \\tR2_score = \\t0.7574401011730185'"
      ]
     },
     "metadata": {},
     "output_type": "display_data"
    },
    {
     "name": "stdout",
     "output_type": "stream",
     "text": [
      "\n",
      "min(RMSE) = [np.float64(1.6706919143179762e-05), np.float64(0.007873913874925977)] max(R2) = [0.9999988145509618, 0.7366875054762947]\n",
      "\n",
      "['df_base']\n"
     ]
    },
    {
     "data": {
      "text/plain": [
       "'LinearRegression     \\tRMSE = \\t2.7896994531464276 \\tR2_score = \\t0.9200293683833963'"
      ]
     },
     "metadata": {},
     "output_type": "display_data"
    },
    {
     "data": {
      "text/plain": [
       "'Ridge                \\tRMSE = \\t2.8481024680964864 \\tR2_score = \\t0.9166459105207373'"
      ]
     },
     "metadata": {},
     "output_type": "display_data"
    },
    {
     "data": {
      "text/plain": [
       "'LinearRegression     \\tRMSE = \\t0.7249369253069297 \\tR2_score = \\t0.9945997217867458'"
      ]
     },
     "metadata": {},
     "output_type": "display_data"
    },
    {
     "data": {
      "text/plain": [
       "'Ridge                \\tRMSE = \\t1.7948976931941596 \\tR2_score = \\t0.9668948858015003'"
      ]
     },
     "metadata": {},
     "output_type": "display_data"
    },
    {
     "data": {
      "text/plain": [
       "'LinearRegression     \\tRMSE = \\t0.4317589060209965 \\tR2_score = \\t0.9980844287915878'"
      ]
     },
     "metadata": {},
     "output_type": "display_data"
    },
    {
     "data": {
      "text/plain": [
       "'Ridge                \\tRMSE = \\t0.5329993978857637 \\tR2_score = \\t0.9970807645225156'"
      ]
     },
     "metadata": {},
     "output_type": "display_data"
    },
    {
     "data": {
      "text/plain": [
       "'LinearRegression     \\tRMSE = \\t0.34405193033659837 \\tR2_score = \\t0.9987836356327848'"
      ]
     },
     "metadata": {},
     "output_type": "display_data"
    },
    {
     "data": {
      "text/plain": [
       "'Ridge                \\tRMSE = \\t0.3437186172450183 \\tR2_score = \\t0.9987859912875231'"
      ]
     },
     "metadata": {},
     "output_type": "display_data"
    },
    {
     "data": {
      "text/plain": [
       "'LinearRegression     \\tRMSE = \\t0.34093352954640893 \\tR2_score = \\t0.9988055853523632'"
      ]
     },
     "metadata": {},
     "output_type": "display_data"
    },
    {
     "data": {
      "text/plain": [
       "'Ridge                \\tRMSE = \\t0.8484732624133535 \\tR2_score = \\t0.9926023800847635'"
      ]
     },
     "metadata": {},
     "output_type": "display_data"
    },
    {
     "name": "stdout",
     "output_type": "stream",
     "text": [
      "\n",
      "min(RMSE) = [np.float64(0.34093352954640893), np.float64(2.8481024680964864)] max(R2) = [0.9988055853523632, 0.9166459105207373]\n",
      "\n",
      "['WITHOUT_CUSTOM']\n"
     ]
    },
    {
     "data": {
      "text/plain": [
       "'LinearRegression     \\tRMSE = \\t0.005181918127367088 \\tR2_score = \\t0.8859792830885226'"
      ]
     },
     "metadata": {},
     "output_type": "display_data"
    },
    {
     "data": {
      "text/plain": [
       "'Ridge                \\tRMSE = \\t0.007894099446016037 \\tR2_score = \\t0.7353890209926195'"
      ]
     },
     "metadata": {},
     "output_type": "display_data"
    },
    {
     "data": {
      "text/plain": [
       "'LinearRegression     \\tRMSE = \\t0.0005933686779948827 \\tR2_score = \\t0.9985049631116283'"
      ]
     },
     "metadata": {},
     "output_type": "display_data"
    },
    {
     "data": {
      "text/plain": [
       "'Ridge                \\tRMSE = \\t0.007705839155927268 \\tR2_score = \\t0.7478595330315'"
      ]
     },
     "metadata": {},
     "output_type": "display_data"
    },
    {
     "data": {
      "text/plain": [
       "'LinearRegression     \\tRMSE = \\t0.0002318850983620323 \\tR2_score = \\t0.9997716776875877'"
      ]
     },
     "metadata": {},
     "output_type": "display_data"
    },
    {
     "data": {
      "text/plain": [
       "'Ridge                \\tRMSE = \\t0.007664305260842431 \\tR2_score = \\t0.7505702444363429'"
      ]
     },
     "metadata": {},
     "output_type": "display_data"
    },
    {
     "data": {
      "text/plain": [
       "'LinearRegression     \\tRMSE = \\t5.898393369920039e-05 \\tR2_score = \\t0.9999852269509837'"
      ]
     },
     "metadata": {},
     "output_type": "display_data"
    },
    {
     "data": {
      "text/plain": [
       "'Ridge                \\tRMSE = \\t0.007637216884863584 \\tR2_score = \\t0.7523302752740417'"
      ]
     },
     "metadata": {},
     "output_type": "display_data"
    },
    {
     "data": {
      "text/plain": [
       "'LinearRegression     \\tRMSE = \\t5.516053124832521e-05 \\tR2_score = \\t0.9999870800880558'"
      ]
     },
     "metadata": {},
     "output_type": "display_data"
    },
    {
     "data": {
      "text/plain": [
       "'Ridge                \\tRMSE = \\t0.00761216440306801 \\tR2_score = \\t0.7539524799615777'"
      ]
     },
     "metadata": {},
     "output_type": "display_data"
    },
    {
     "name": "stdout",
     "output_type": "stream",
     "text": [
      "\n",
      "min(RMSE) = [np.float64(5.516053124832521e-05), np.float64(0.007894099446016037)] max(R2) = [0.9999870800880558, 0.7353890209926195]\n",
      "\n",
      "\n",
      "\n",
      " min(RMSE) = [np.float64(1.6706919143179762e-05), np.float64(0.007873913874925977)] max(R2) = [0.9999988145509618, 0.9166459105207373]\n",
      "\n"
     ]
    }
   ],
   "source": [
    "def var2str(var, vars_data=locals()):\n",
    "    return [var_name for var_name in vars_data if id(var) == id(vars_data[var_name])]\n",
    "    \n",
    "def test(data_frame, data_type=0, degrees=[1, 2], alpha = 1):\n",
    "    df_X = data_frame.drop(columns='отопительная нагрузка')\n",
    "    df_Y = data_frame['отопительная нагрузка']\n",
    "\n",
    "\n",
    "    print(f\"frame = {var2str(data_frame)}\")\n",
    "    #display(X_train, X_test)\n",
    "    arr = []\n",
    "    for d in degrees:\n",
    "        X_train, X_test, Y_train, Y_test = train_test_split(df_X, df_Y, test_size=TEST_SIZE, random_state=SEED)\n",
    "        X_test, X_valid, Y_test, Y_valid = train_test_split(X_test, Y_test, test_size=VALID_SIZE, random_state=SEED)\n",
    "        YY = [Y_train, Y_test, Y_valid]\n",
    "\n",
    "        #print(f\"d = {d}\")\n",
    "        if d > 1:\n",
    "            model_poly = PolynomialFeatures(degree=d)\n",
    "            \n",
    "            #print(len(X_train))\n",
    "            X_train = pd.DataFrame(model_poly.fit_transform(X_train))\n",
    "            X_test = pd.DataFrame(model_poly.fit_transform(X_test))\n",
    "            X_valid = pd.DataFrame(model_poly.fit_transform(X_valid))\n",
    "\n",
    "        #print((X_train.shape))\n",
    "        XX = [X_train, X_test, X_valid]\n",
    "\n",
    "        rates = []\n",
    "        model_lr = LinearRegression()\n",
    "        moder_ridge = Ridge(alpha=alpha)\n",
    "        #models = [model_lr, moder_ridge]\n",
    "        models = [model_lr, moder_ridge]\n",
    "        names = [\"LinearRegression\", \"Ridge\"]\n",
    "        res = []\n",
    "        for m in models:\n",
    "            m.fit(X_train, Y_train)\n",
    "            res.append(m.predict(XX[data_type]))\n",
    "\n",
    "        \n",
    "        for i in range(len(models)):\n",
    "            rates.append((np.sqrt(mean_squared_error(res[i], YY[data_type])), r2_score(YY[data_type], res[i])))\n",
    "        \n",
    "            #print(f\"{names[i]+' '*(20-len(names[i]))} \\tRMSE = \\t{rates[i][0]} \\tR2_score = \\t{rates[i][1]}\")\n",
    "            arr.append( (f\"{names[i]+' '*(20-len(names[i]))} \\tRMSE = \\t{rates[i][0]} \\tR2_score = \\t{rates[i][1]}\", rates[i][0], rates[i][1]))\n",
    "    return arr\n",
    "TO_REMOVE = [\"отношение стенной площади ко всей площади дома\", \"отношение остекленния ко всей площади дома\", \"отношение площади крыши ко всей площади дома\"]\n",
    "\n",
    "WITHOUT_CUSTOM = df_normalized.copy()\n",
    "for col in TO_REMOVE:\n",
    "    if col in WITHOUT_CUSTOM.columns:\n",
    "        WITHOUT_CUSTOM.drop(col, axis=1, inplace = True)\n",
    "datasets = [df_normalized, df, df_base_normilized, df_base, WITHOUT_CUSTOM]\n",
    "arr = []\n",
    "for el in datasets:\n",
    "    arr.append(test(el, 0, [1,2,3,4, 5], alpha=0.6))\n",
    "    #print(el.head(1))\n",
    "\n",
    "i = 0\n",
    "print(\"\\n\\n\")\n",
    "\n",
    "models = 2\n",
    "local_r2_all = [0, 0]\n",
    "local_rmse_all = [1, 1]\n",
    "for df_ in arr:\n",
    "    print(var2str(datasets[i]))\n",
    "    local_r2 = [df_[0][2], df_[1][2]]\n",
    "    local_rmse = [df_[0][1], df_[1][1]]\n",
    "    c = 0\n",
    "    for el in df_:\n",
    "        local_r2[c % models] = max(local_r2[c % models], el[2])\n",
    "        local_rmse[c % models] = min(local_rmse[c % models], el[1])\n",
    "\n",
    "        display(el[0])\n",
    "\n",
    "    c+=1\n",
    "    print(f\"\\nmin(RMSE) = {local_rmse} max(R2) = {local_r2}\\n\")\n",
    "    for j in range(models):\n",
    "        \n",
    "        local_r2_all[j] = max(local_r2[j], local_r2_all[j])\n",
    "        local_rmse_all[j] = min(local_rmse[j], local_rmse_all[j])\n",
    "    i+=1\n",
    "print(f\"\\n\\n min(RMSE) = {local_rmse_all} max(R2) = {local_r2_all}\\n\")\n"
   ]
  },
  {
   "cell_type": "code",
   "execution_count": null,
   "id": "6b2bd993-5b5e-48c1-b8ad-834b29768123",
   "metadata": {},
   "outputs": [
    {
     "name": "stdout",
     "output_type": "stream",
     "text": [
      "=== ЛИНЕЙНЫЕ МОДЕЛИ ===\n",
      "Linear Regression: RMSE = 0.003, R² = 0.957\n",
      "Ridge Regression: RMSE = 0.005, R² = 0.916\n",
      "\n",
      "=== ПОЛИНОМИАЛЬНЫЕ РЕГРЕССИИ ===\n",
      "Polynomial Regression (degree=2): RMSE = 0.000, R² = 0.999\n",
      "Polynomial Regression (degree=3): RMSE = 0.000, R² = 1.000\n",
      "Polynomial Regression (degree=5): RMSE = 21.204, R² = -1682276.796\n"
     ]
    }
   ],
   "source": [
    "# X_train, X_test, y_train, y_test = train_test_split(df_X, df_Y, test_size=TEST_SIZE, random_state=SEED)\n",
    "# X_test, X_valid, y_test, y_valid = train_test_split(X_test, y_test, test_size=VALID_SIZE, random_state=SEED)\n",
    "\n",
    "# # Масштабирование\n",
    "# scaler = StandardScaler()\n",
    "# X_train_scaled = scaler.fit_transform(X_train)\n",
    "# X_test_scaled = scaler.transform(X_test)\n",
    "# X_valid_scaled = scaler.transform(X_valid)\n",
    "\n",
    "# ### === 1. ЛИНЕЙНЫЕ МОДЕЛИ === ###\n",
    "\n",
    "\n",
    "# for name, model in models.items():\n",
    "#     model.fit(X_train_scaled, y_train)\n",
    "#     y_pred = model.predict(X_test_scaled)\n",
    "\n",
    "#     rmse = np.sqrt(mean_squared_error(y_test, y_pred))\n",
    "#     r2 = r2_score(y_test, y_pred)\n",
    "\n",
    "#     print(f\"{name}: RMSE = {rmse:.3f}, R² = {r2:.3f}\")\n",
    "\n",
    "# degrees = [2, 3, 4, 5] \n",
    "\n",
    "\n",
    "# for d in degrees:\n",
    "#     poly = PolynomialFeatures(degree=d)\n",
    "#     X_train_poly = poly.fit_transform(X_train_scaled)\n",
    "#     X_test_poly = poly.transform(X_test_scaled)\n",
    "\n",
    "#     model_poly = LinearRegression()\n",
    "#     model_poly.fit(X_train_poly, y_train)\n",
    "#     y_pred_poly = model_poly.predict(X_test_poly)\n",
    "\n",
    "#     rmse_poly = np.sqrt(mean_squared_error(y_test, y_pred_poly))\n",
    "#     r2_poly = r2_score(y_test, y_pred_poly)\n",
    "\n",
    "#     print(f\"Polynomial Regression (degree={d}): RMSE = {rmse_poly:.3f}, R² = {r2_poly:.3f}\")\n",
    "\n"
   ]
  },
  {
   "cell_type": "code",
   "execution_count": 41,
   "id": "6dcb5255",
   "metadata": {},
   "outputs": [
    {
     "name": "stdout",
     "output_type": "stream",
     "text": [
      "frame = ['el', 'df_normalized']\n",
      "d = 1\n",
      "Ridge                \tRMSE = \t0.009068128689975502 \tR2_score = \t0.6923195806761742\n",
      "d = 2\n",
      "Ridge                \tRMSE = \t0.008588782423984953 \tR2_score = \t0.7239881605549088\n",
      "d = 3\n",
      "Ridge                \tRMSE = \t0.008478005237882343 \tR2_score = \t0.7310621860987983\n",
      "d = 5\n",
      "Ridge                \tRMSE = \t0.008385357315318575 \tR2_score = \t0.7369079917404532\n",
      "frame = ['df', 'el']\n",
      "d = 1\n",
      "Ridge                \tRMSE = \t4.768476913484225 \tR2_score = \t0.811371370408148\n",
      "d = 2\n",
      "Ridge                \tRMSE = \t2.489989852519457 \tR2_score = \t0.9485668177880566\n",
      "d = 3\n",
      "Ridge                \tRMSE = \t1.4649702479808666 \tR2_score = \t0.9821964810855596\n",
      "d = 5\n",
      "Ridge                \tRMSE = \t2.0268555474049106 \tR2_score = \t0.9659204511621511\n",
      "frame = ['el', 'df_base_normilized']\n",
      "d = 1\n",
      "Ridge                \tRMSE = \t0.009055185485195343 \tR2_score = \t0.6931400135094957\n",
      "d = 2\n",
      "Ridge                \tRMSE = \t0.008570086879422786 \tR2_score = \t0.7251371728011831\n",
      "d = 3\n",
      "Ridge                \tRMSE = \t0.008454455907616976 \tR2_score = \t0.7325042495276102\n",
      "d = 5\n",
      "Ridge                \tRMSE = \t0.008355218561491243 \tR2_score = \t0.7387470579080081\n",
      "frame = ['df_base', 'el']\n",
      "d = 1\n",
      "Ridge                \tRMSE = \t3.6601359074262967 \tR2_score = \t0.888867095607196\n",
      "d = 2\n",
      "Ridge                \tRMSE = \t2.1954917381647 \tR2_score = \t0.9600136415171402\n",
      "d = 3\n",
      "Ridge                \tRMSE = \t0.5304395576557094 \tR2_score = \t0.9976658968253554\n",
      "d = 5\n",
      "Ridge                \tRMSE = \t1.0501918898074962 \tR2_score = \t0.990850748602247\n"
     ]
    },
    {
     "name": "stderr",
     "output_type": "stream",
     "text": [
      "S:\\anaconda\\envs\\study\\Lib\\site-packages\\sklearn\\linear_model\\_ridge.py:254: UserWarning:\n",
      "\n",
      "Singular matrix in solving dual problem. Using least-squares solution instead.\n",
      "\n",
      "S:\\anaconda\\envs\\study\\Lib\\site-packages\\sklearn\\linear_model\\_ridge.py:254: UserWarning:\n",
      "\n",
      "Singular matrix in solving dual problem. Using least-squares solution instead.\n",
      "\n"
     ]
    }
   ],
   "source": [
    "def test(data_frame, data_type=0, degrees=[1, 2, 3, 5]):\n",
    "    df_X = data_frame.drop(columns='отопительная нагрузка')\n",
    "    df_Y = data_frame['отопительная нагрузка']\n",
    "\n",
    "    X_train, X_test, Y_train, Y_test = train_test_split(df_X, df_Y, test_size=TEST_SIZE, random_state=SEED)\n",
    "    X_test, X_valid, Y_test, Y_valid = train_test_split(X_test, Y_test, test_size=VALID_SIZE, random_state=SEED)\n",
    "    \n",
    "    print(f\"frame = {var2str(data_frame)}\")\n",
    "    YY = [Y_train, Y_test, Y_valid]\n",
    "    \n",
    "    for d in degrees:\n",
    "        X_train_poly, X_test_poly, X_valid_poly = X_train, X_test, X_valid\n",
    "        \n",
    "        if d > 1:\n",
    "            model_poly = PolynomialFeatures(degree=d)\n",
    "            X_train_poly = pd.DataFrame(model_poly.fit_transform(X_train))\n",
    "            X_test_poly = pd.DataFrame(model_poly.fit_transform(X_test))\n",
    "            X_valid_poly = pd.DataFrame(model_poly.fit_transform(X_valid))\n",
    "\n",
    "        XX = [X_train_poly, X_test_poly, X_valid_poly]\n",
    "        \n",
    "        rates = []\n",
    "        model_ridge = Ridge(alpha=1.0)  # Гребневая регрессия\n",
    "        models = [model_ridge]\n",
    "        names = [\"Ridge\"]\n",
    "        res = []\n",
    "        \n",
    "        for m in models:\n",
    "            m.fit(X_train_poly, Y_train)\n",
    "            res.append(m.predict(XX[data_type]))\n",
    "        \n",
    "        print(f\"d = {d}\")\n",
    "        for i in range(len(models)):\n",
    "            rates.append((np.sqrt(mean_squared_error(res[i], YY[data_type])), r2_score(YY[data_type], res[i])))\n",
    "            print(f\"{names[i]+' '*(20-len(names[i]))} \\tRMSE = \\t{rates[i][0]} \\tR2_score = \\t{rates[i][1]}\")\n",
    "\n",
    "datasets = [df_normalized, df, df_base_normilized, df_base]  # Можно добавить другие наборы данных\n",
    "for el in datasets:\n",
    "    test(el, 1, [1, 2, 3,4, 5])"
   ]
  },
  {
   "cell_type": "code",
   "execution_count": null,
   "id": "1cbbc081-a8f4-4c0f-a159-a457b8d2f6e5",
   "metadata": {},
   "outputs": [],
   "source": [
    "df_base.head()"
   ]
  },
  {
   "cell_type": "markdown",
   "id": "fa0dadc8-078e-40e1-b72a-cd257d9e54cf",
   "metadata": {},
   "source": [
    "ipywidgets          8.1.5\n",
    "\n",
    "matplotlib          3.10.0\n",
    "\n",
    "numpy               2.1.3\n",
    "\n",
    "pandas              2.2.3\n",
    "\n",
    "plotly              5.24.1\n",
    "\n",
    "seaborn             0.13.2\n",
    "\n",
    "session_info        1.0.0\n",
    "\n",
    "sklearn             1.6.1\n"
   ]
  },
  {
   "cell_type": "code",
   "execution_count": null,
   "id": "9113a358-45eb-4154-80cd-24f7078f46b3",
   "metadata": {},
   "outputs": [],
   "source": []
  }
 ],
 "metadata": {
  "kernelspec": {
   "display_name": "Python 3 (ipykernel)",
   "language": "python",
   "name": "python3"
  },
  "language_info": {
   "codemirror_mode": {
    "name": "ipython",
    "version": 3
   },
   "file_extension": ".py",
   "mimetype": "text/x-python",
   "name": "python",
   "nbconvert_exporter": "python",
   "pygments_lexer": "ipython3",
   "version": "3.12.9"
  }
 },
 "nbformat": 4,
 "nbformat_minor": 5
}

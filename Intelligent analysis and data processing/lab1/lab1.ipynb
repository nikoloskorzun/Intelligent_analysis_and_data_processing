{
 "cells": [
  {
   "cell_type": "markdown",
   "id": "2c50635f-097c-4bad-8c09-d3386c4044ab",
   "metadata": {},
   "source": [
    "<h1 style=\"text-align: center; font-size: 60px;\"> Интеллектуальный анализ и обработка данных</h1>\n",
    "<hr>\n",
    "<h2 style=\"text-align: center;font-size: 40px;\"> ЛАБОРАТОРНАЯ РАБОТА №1 <br>\n",
    " Разведочный и предиктивный анализ данных на основе регрессионных моделей</h2>\n",
    " <hr>"
   ]
  },
  {
   "cell_type": "markdown",
   "id": "2ca1efed-55c1-4de4-8fc7-35cd60cc3d0f",
   "metadata": {},
   "source": [
    "<h3 style=\"text-align: center; font-size: 30px;\">Исполнители</h3>\n",
    "<p><b>Корзун Николай Вадимович</b> <a href=\"https://github.com/nikoloskorzun\">GitHub</a></p>\n"
   ]
  },
  {
   "cell_type": "markdown",
   "id": "a28d82fe-5f58-426a-9a77-ef7aefd1e0da",
   "metadata": {},
   "source": [
    "<hr>\n",
    "<h3 style=\"text-align: center; font-size: 30px;\">Постановка задачи</h3>"
   ]
  },
  {
   "cell_type": "markdown",
   "id": "66b58d1f-97c8-497e-a931-dd6d977e7ec1",
   "metadata": {},
   "source": [
    "<p><b>Вариант №12</b></p>\n",
    "<p>Набор данных различных форм зданий, различающихся по площади остекления, распределению площади остекления, ориентации и другим параметрам. <br>В зависимости от параметров здания других признаков аргументов. Построить регрессионную модель оценки целевого признака требований к тепловой нагрузке зданий:</p>\n",
    "\n",
    "<ol>\n",
    "    <li>X1 вещественный, относительная компактность</li>\n",
    "    <li>X2 вещественный, площадь поверхности</li>\n",
    "    <li>X3 вещественный, площадь сплошной стены</li>\n",
    "    <li>X4 вещественный, зона крыши</li>\n",
    "    <li>X5 вещественный, общая высота</li>\n",
    "    <li>X6 целочисленный, ориентация</li>\n",
    "    <li>X7 вещественный, площадь сплошного остекления</li>\n",
    "    <li>X8 целочисленный, распределение площади остекления</li>    \n",
    "    <li>Y1 целевой признак, вещественный, отопительная нагрузка</li>\n",
    "</ol>\n",
    "\n",
    "a. Пункт 3.h – Нормализация\n",
    "b. Пункт 4 – гребневая регрессия (регуляризованная линейная регрессия"
   ]
  },
  {
   "cell_type": "markdown",
   "id": "2dee89ea-16bf-4a76-869b-481679a5adc3",
   "metadata": {},
   "source": [
    "<h3 style=\"text-align: center; font-size: 30px;\">Выполнение задачи</h3>\n",
    "<h4 style=\"text-align: center; font-size: 24px;\">Этап 2<br>Загрузка датасета</h4>"
   ]
  },
  {
   "cell_type": "code",
   "execution_count": 32,
   "id": "fca6ff6e-27ff-417b-8327-9099999fef99",
   "metadata": {},
   "outputs": [],
   "source": [
    "names = ['относительная компактность', 'площадь поверхности', 'площадь сплошной стены',\n",
    "         'зона крыши', 'общая высота', 'ориентация', 'площадь сплошного остекления',\n",
    "         'распределение площади остекления', 'отопительная нагрузка']\n"
   ]
  },
  {
   "cell_type": "code",
   "execution_count": 86,
   "id": "6f0c2f4d-b5d3-474d-8b4c-3f7d324a5b73",
   "metadata": {},
   "outputs": [],
   "source": [
    "import numpy as np\n",
    "\n",
    "%matplotlib inline\n",
    "import matplotlib.pyplot as plt\n",
    "from matplotlib.colors import LinearSegmentedColormap\n",
    "\n",
    "\n",
    "from IPython.core.display import HTML\n",
    "from IPython.display import display\n",
    "\n",
    "import ipywidgets as widgets\n",
    "\n",
    "\n",
    "import pandas as pd\n",
    "\n",
    "import seaborn as sns\n",
    "\n",
    "\n",
    "\n",
    "\n",
    "\n",
    "import plotly.graph_objects as go\n",
    "from plotly.subplots import make_subplots\n",
    "import plotly.express as px\n",
    "\n",
    "\n",
    "from sklearn.feature_selection import SelectKBest, f_regression, \n"
   ]
  },
  {
   "cell_type": "code",
   "execution_count": 37,
   "id": "e2b7d4fd-eeea-4ced-a7ee-2a2a1e53b53a",
   "metadata": {},
   "outputs": [],
   "source": [
    "global df\n",
    "df = pd.read_excel(\"../V12.xlsx\", names = names)\n",
    "global corr"
   ]
  },
  {
   "cell_type": "markdown",
   "id": "ffbb5381-0491-4cb7-ad38-f528981670ed",
   "metadata": {},
   "source": [
    "<h4 style=\"text-align: center; font-size: 24px;\">Этап 3<br>Разведочный анализ данных</h4>\n",
    "<h5 style=\"text-align: center; font-size: 20px;\">Описательная статистика</h5>"
   ]
  },
  {
   "cell_type": "code",
   "execution_count": 38,
   "id": "bfbc6a40-aa76-436e-bc1a-6c0bd1301211",
   "metadata": {},
   "outputs": [
    {
     "data": {
      "text/html": [
       "<p>размерность набора данных: <b>(768, 9)</b></p>"
      ],
      "text/plain": [
       "<IPython.core.display.HTML object>"
      ]
     },
     "execution_count": 38,
     "metadata": {},
     "output_type": "execute_result"
    }
   ],
   "source": [
    "HTML(f'<p>размерность набора данных: <b>{df.shape}</b></p>')"
   ]
  },
  {
   "cell_type": "code",
   "execution_count": 39,
   "id": "5677b332-cfb1-4377-94fb-a925a6f3a2e7",
   "metadata": {},
   "outputs": [
    {
     "name": "stdout",
     "output_type": "stream",
     "text": [
      "Типы атрибутов:\n",
      "\n",
      "<class 'pandas.core.frame.DataFrame'>\n",
      "RangeIndex: 768 entries, 0 to 767\n",
      "Data columns (total 9 columns):\n",
      " #   Column                            Non-Null Count  Dtype  \n",
      "---  ------                            --------------  -----  \n",
      " 0   относительная компактность        768 non-null    float64\n",
      " 1   площадь поверхности               768 non-null    float64\n",
      " 2   площадь сплошной стены            768 non-null    float64\n",
      " 3   зона крыши                        768 non-null    float64\n",
      " 4   общая высота                      768 non-null    float64\n",
      " 5   ориентация                        768 non-null    int64  \n",
      " 6   площадь сплошного остекления      768 non-null    float64\n",
      " 7   распределение площади остекления  768 non-null    int64  \n",
      " 8   отопительная нагрузка             768 non-null    float64\n",
      "dtypes: float64(7), int64(2)\n",
      "memory usage: 54.1 KB\n"
     ]
    }
   ],
   "source": [
    "print(\"Типы атрибутов:\", end=\"\\n\\n\")\n",
    "df.info()\n",
    "#df.head()"
   ]
  },
  {
   "cell_type": "code",
   "execution_count": 75,
   "id": "4cf84ede-b261-4c98-b11f-f16fcd59648c",
   "metadata": {},
   "outputs": [
    {
     "data": {
      "text/html": [
       "<div>\n",
       "<style scoped>\n",
       "    .dataframe tbody tr th:only-of-type {\n",
       "        vertical-align: middle;\n",
       "    }\n",
       "\n",
       "    .dataframe tbody tr th {\n",
       "        vertical-align: top;\n",
       "    }\n",
       "\n",
       "    .dataframe thead th {\n",
       "        text-align: right;\n",
       "    }\n",
       "</style>\n",
       "<table border=\"1\" class=\"dataframe\">\n",
       "  <thead>\n",
       "    <tr style=\"text-align: right;\">\n",
       "      <th></th>\n",
       "      <th>относительная компактность</th>\n",
       "      <th>площадь поверхности</th>\n",
       "      <th>площадь сплошной стены</th>\n",
       "      <th>зона крыши</th>\n",
       "      <th>общая высота</th>\n",
       "      <th>ориентация</th>\n",
       "      <th>площадь сплошного остекления</th>\n",
       "      <th>распределение площади остекления</th>\n",
       "      <th>отопительная нагрузка</th>\n",
       "      <th>отношение стенной площади ко всей площади дома</th>\n",
       "      <th>отношение остекленния ко всей площади дома</th>\n",
       "      <th>отношение площади крыши ко всей площади дома</th>\n",
       "    </tr>\n",
       "  </thead>\n",
       "  <tbody>\n",
       "    <tr>\n",
       "      <th>count</th>\n",
       "      <td>768.000</td>\n",
       "      <td>768.000</td>\n",
       "      <td>768.000</td>\n",
       "      <td>768.000</td>\n",
       "      <td>768.000</td>\n",
       "      <td>768.000</td>\n",
       "      <td>768.000</td>\n",
       "      <td>768.000</td>\n",
       "      <td>768.000</td>\n",
       "      <td>768.000</td>\n",
       "      <td>7.680e+02</td>\n",
       "      <td>768.000</td>\n",
       "    </tr>\n",
       "    <tr>\n",
       "      <th>mean</th>\n",
       "      <td>0.764</td>\n",
       "      <td>671.708</td>\n",
       "      <td>318.500</td>\n",
       "      <td>176.604</td>\n",
       "      <td>5.250</td>\n",
       "      <td>3.500</td>\n",
       "      <td>0.234</td>\n",
       "      <td>2.812</td>\n",
       "      <td>22.307</td>\n",
       "      <td>0.481</td>\n",
       "      <td>3.552e-04</td>\n",
       "      <td>0.259</td>\n",
       "    </tr>\n",
       "    <tr>\n",
       "      <th>std</th>\n",
       "      <td>0.106</td>\n",
       "      <td>88.086</td>\n",
       "      <td>43.626</td>\n",
       "      <td>45.166</td>\n",
       "      <td>1.751</td>\n",
       "      <td>1.119</td>\n",
       "      <td>0.133</td>\n",
       "      <td>1.551</td>\n",
       "      <td>10.090</td>\n",
       "      <td>0.082</td>\n",
       "      <td>2.095e-04</td>\n",
       "      <td>0.041</td>\n",
       "    </tr>\n",
       "    <tr>\n",
       "      <th>min</th>\n",
       "      <td>0.620</td>\n",
       "      <td>514.500</td>\n",
       "      <td>245.000</td>\n",
       "      <td>110.250</td>\n",
       "      <td>3.500</td>\n",
       "      <td>2.000</td>\n",
       "      <td>0.000</td>\n",
       "      <td>0.000</td>\n",
       "      <td>6.010</td>\n",
       "      <td>0.357</td>\n",
       "      <td>0.000e+00</td>\n",
       "      <td>0.185</td>\n",
       "    </tr>\n",
       "    <tr>\n",
       "      <th>25%</th>\n",
       "      <td>0.682</td>\n",
       "      <td>606.375</td>\n",
       "      <td>294.000</td>\n",
       "      <td>140.875</td>\n",
       "      <td>3.500</td>\n",
       "      <td>2.750</td>\n",
       "      <td>0.100</td>\n",
       "      <td>1.750</td>\n",
       "      <td>12.992</td>\n",
       "      <td>0.415</td>\n",
       "      <td>1.570e-04</td>\n",
       "      <td>0.227</td>\n",
       "    </tr>\n",
       "    <tr>\n",
       "      <th>50%</th>\n",
       "      <td>0.750</td>\n",
       "      <td>673.750</td>\n",
       "      <td>318.500</td>\n",
       "      <td>183.750</td>\n",
       "      <td>5.250</td>\n",
       "      <td>3.500</td>\n",
       "      <td>0.250</td>\n",
       "      <td>3.000</td>\n",
       "      <td>18.950</td>\n",
       "      <td>0.477</td>\n",
       "      <td>3.519e-04</td>\n",
       "      <td>0.261</td>\n",
       "    </tr>\n",
       "    <tr>\n",
       "      <th>75%</th>\n",
       "      <td>0.830</td>\n",
       "      <td>741.125</td>\n",
       "      <td>343.000</td>\n",
       "      <td>220.500</td>\n",
       "      <td>7.000</td>\n",
       "      <td>4.250</td>\n",
       "      <td>0.400</td>\n",
       "      <td>4.000</td>\n",
       "      <td>31.668</td>\n",
       "      <td>0.545</td>\n",
       "      <td>5.267e-04</td>\n",
       "      <td>0.293</td>\n",
       "    </tr>\n",
       "    <tr>\n",
       "      <th>max</th>\n",
       "      <td>0.980</td>\n",
       "      <td>808.500</td>\n",
       "      <td>416.500</td>\n",
       "      <td>220.500</td>\n",
       "      <td>7.000</td>\n",
       "      <td>5.000</td>\n",
       "      <td>0.400</td>\n",
       "      <td>5.000</td>\n",
       "      <td>43.100</td>\n",
       "      <td>0.630</td>\n",
       "      <td>7.775e-04</td>\n",
       "      <td>0.321</td>\n",
       "    </tr>\n",
       "  </tbody>\n",
       "</table>\n",
       "</div>"
      ],
      "text/plain": [
       "       относительная компактность  площадь поверхности  \\\n",
       "count                     768.000              768.000   \n",
       "mean                        0.764              671.708   \n",
       "std                         0.106               88.086   \n",
       "min                         0.620              514.500   \n",
       "25%                         0.682              606.375   \n",
       "50%                         0.750              673.750   \n",
       "75%                         0.830              741.125   \n",
       "max                         0.980              808.500   \n",
       "\n",
       "       площадь сплошной стены  зона крыши  общая высота  ориентация  \\\n",
       "count                 768.000     768.000       768.000     768.000   \n",
       "mean                  318.500     176.604         5.250       3.500   \n",
       "std                    43.626      45.166         1.751       1.119   \n",
       "min                   245.000     110.250         3.500       2.000   \n",
       "25%                   294.000     140.875         3.500       2.750   \n",
       "50%                   318.500     183.750         5.250       3.500   \n",
       "75%                   343.000     220.500         7.000       4.250   \n",
       "max                   416.500     220.500         7.000       5.000   \n",
       "\n",
       "       площадь сплошного остекления  распределение площади остекления  \\\n",
       "count                       768.000                           768.000   \n",
       "mean                          0.234                             2.812   \n",
       "std                           0.133                             1.551   \n",
       "min                           0.000                             0.000   \n",
       "25%                           0.100                             1.750   \n",
       "50%                           0.250                             3.000   \n",
       "75%                           0.400                             4.000   \n",
       "max                           0.400                             5.000   \n",
       "\n",
       "       отопительная нагрузка  отношение стенной площади ко всей площади дома  \\\n",
       "count                768.000                                         768.000   \n",
       "mean                  22.307                                           0.481   \n",
       "std                   10.090                                           0.082   \n",
       "min                    6.010                                           0.357   \n",
       "25%                   12.992                                           0.415   \n",
       "50%                   18.950                                           0.477   \n",
       "75%                   31.668                                           0.545   \n",
       "max                   43.100                                           0.630   \n",
       "\n",
       "       отношение остекленния ко всей площади дома  \\\n",
       "count                                   7.680e+02   \n",
       "mean                                    3.552e-04   \n",
       "std                                     2.095e-04   \n",
       "min                                     0.000e+00   \n",
       "25%                                     1.570e-04   \n",
       "50%                                     3.519e-04   \n",
       "75%                                     5.267e-04   \n",
       "max                                     7.775e-04   \n",
       "\n",
       "       отношение площади крыши ко всей площади дома  \n",
       "count                                       768.000  \n",
       "mean                                          0.259  \n",
       "std                                           0.041  \n",
       "min                                           0.185  \n",
       "25%                                           0.227  \n",
       "50%                                           0.261  \n",
       "75%                                           0.293  \n",
       "max                                           0.321  "
      ]
     },
     "execution_count": 75,
     "metadata": {},
     "output_type": "execute_result"
    }
   ],
   "source": [
    "pd.set_option('display.precision', 3)\n",
    "df.describe()"
   ]
  },
  {
   "cell_type": "markdown",
   "id": "0132a543-aa7c-4856-ab8a-babd2843408d",
   "metadata": {},
   "source": [
    "<h5 style=\"text-align: center; font-size: 20px;\">Визуализация данных</h5>"
   ]
  },
  {
   "cell_type": "code",
   "execution_count": 41,
   "id": "5b341e99-e21a-45fc-9c13-00025d61845c",
   "metadata": {},
   "outputs": [
    {
     "data": {
      "application/vnd.jupyter.widget-view+json": {
       "model_id": "59d2da8b5243492eb02639437927003d",
       "version_major": 2,
       "version_minor": 0
      },
      "text/plain": [
       "interactive(children=(Dropdown(description='относительная компактность:', options=('100_n', 'sturges', 'scott'…"
      ]
     },
     "metadata": {},
     "output_type": "display_data"
    },
    {
     "data": {
      "text/plain": [
       "<function __main__.update_plots(**rules)>"
      ]
     },
     "execution_count": 41,
     "metadata": {},
     "output_type": "execute_result"
    }
   ],
   "source": [
    "\n",
    "# Функции для расчета количества бинов по разным правилам\n",
    "def sturges_bins(data):\n",
    "    n = len(data)\n",
    "    return int(np.ceil(np.log2(n)) + 1)\n",
    "\n",
    "def scott_bins(data):\n",
    "    h = 3.5 * np.std(data) / (len(data) ** (1/3))\n",
    "    return int(np.ceil((np.max(data) - np.min(data)) / h))\n",
    "\n",
    "def fd_bins(data):\n",
    "    iqr = np.percentile(data, 75) - np.percentile(data, 25)\n",
    "    h = 2 * iqr / (len(data) ** (1/3))\n",
    "    return int(np.ceil((np.max(data) - np.min(data)) / h))\n",
    "\n",
    "def sqrt_bins(data):\n",
    "    return int(np.ceil(np.sqrt(len(data))))\n",
    "\n",
    "# Словарь с доступными правилами\n",
    "rules_dict = {\n",
    "    '100_n': lambda _: 100,\n",
    "    'sturges': sturges_bins,\n",
    "    'scott': scott_bins,\n",
    "    'fd': fd_bins,\n",
    "    'sqrt': sqrt_bins,\n",
    "    '50_n': lambda _: 50,\n",
    "    '20_n': lambda _: 20,\n",
    "    '10_n': lambda _: 10,\n",
    "\n",
    "}\n",
    "# Создаем выпадающие списки для каждого столбца\n",
    "rule_widgets = {column: widgets.Dropdown(options=list(rules_dict.keys()), description=f'{column}:') for column in df.columns}\n",
    "\n",
    "# Функция для обновления графиков\n",
    "def update_plots(**rules):\n",
    "    n_cols = 3  # Количество графиков в ряду\n",
    "    n_rows = (len(df.columns) + n_cols - 1) // n_cols  # Количество рядов\n",
    "    \n",
    "    # Создаем subplot с помощью Plotly\n",
    "    fig = make_subplots(rows=n_rows, cols=n_cols, subplot_titles=df.columns)\n",
    "    \n",
    "    for i, column in enumerate(df.columns):\n",
    "        row = (i // n_cols) + 1\n",
    "        col = (i % n_cols) + 1\n",
    "        \n",
    "        rule = rules[column]  # Получаем правило для текущего столбца\n",
    "        \n",
    "        # Выбираем количество бинов в зависимости от правила\n",
    "\n",
    "        bins = rules_dict[rule](df[column])\n",
    "        #print(bins)\n",
    "        # Строим гистограмму\n",
    "        fig.add_trace(\n",
    "            go.Histogram(x=df[column], nbinsx=bins, name=column),\n",
    "            row=row, col=col\n",
    "        )\n",
    "    \n",
    "    # Настраиваем макет\n",
    "    fig.update_layout(\n",
    "        height=n_rows * 400,  # Высота графика\n",
    "        width=1200,  # Ширина графика\n",
    "        showlegend=False,  # Скрываем легенду\n",
    "        title_text=\"Одномерные графики - Гистограммы\"\n",
    "    )\n",
    "    \n",
    "    # Показываем график\n",
    "    fig.show()\n",
    "\n",
    "# Интерактивное обновление графиков\n",
    "widgets.interact(update_plots, **rule_widgets)"
   ]
  },
  {
   "cell_type": "markdown",
   "id": "7ca3fbd0-80e8-4a87-a09a-da3067ae1288",
   "metadata": {},
   "source": [
    "<h6 style=\"text-align: left; font-size: 20px;\">Одномерные графики - график плотности</h6>"
   ]
  },
  {
   "cell_type": "code",
   "execution_count": 8,
   "id": "74ac1ad7-7b8c-4a2e-b16e-fcc1c4b027ed",
   "metadata": {
    "scrolled": true
   },
   "outputs": [
    {
     "data": {
      "application/vnd.jupyter.widget-view+json": {
       "model_id": "e91ead94041f43e9b62da38515d715d6",
       "version_major": 2,
       "version_minor": 0
      },
      "text/plain": [
       "interactive(children=(Dropdown(description='kind', options=('density', 'kde'), value='density'), Output()), _d…"
      ]
     },
     "metadata": {},
     "output_type": "display_data"
    },
    {
     "data": {
      "text/plain": [
       "<function __main__.density(kind)>"
      ]
     },
     "execution_count": 8,
     "metadata": {},
     "output_type": "execute_result"
    }
   ],
   "source": [
    "def density(kind):\n",
    "    df.plot(kind=kind, subplots=True, layout=(3, 3), sharex=False, legend=True, fontsize=1, figsize=(15,15))\n",
    "    plt.show()\n",
    "widgets.interact(density, kind=[\"density\", \"kde\"]) #useless"
   ]
  },
  {
   "cell_type": "markdown",
   "id": "28757dcf-9757-4bff-ad8b-165329e19fb9",
   "metadata": {},
   "source": [
    "<h6 style=\"text-align: left; font-size: 20px;\">Многомерные графики: график корреляционной матрицы.</h6>\n"
   ]
  },
  {
   "cell_type": "code",
   "execution_count": 71,
   "id": "de46291e-6306-483f-859e-24669098fcac",
   "metadata": {},
   "outputs": [
    {
     "data": {
      "application/vnd.jupyter.widget-view+json": {
       "model_id": "75df3f01300041119c284b58cb780d93",
       "version_major": 2,
       "version_minor": 0
      },
      "text/plain": [
       "interactive(children=(Dropdown(description='method', options=('pearson', 'kendall', 'spearman'), value='pearso…"
      ]
     },
     "metadata": {},
     "output_type": "display_data"
    },
    {
     "data": {
      "text/plain": [
       "<function __main__.heatmap(method, **kwargs)>"
      ]
     },
     "execution_count": 71,
     "metadata": {},
     "output_type": "execute_result"
    }
   ],
   "source": [
    "\n",
    "def heatmap(method, **kwargs):\n",
    "    selected_items = [item for item, selected in kwargs.items() if selected]\n",
    "    if len(selected_items) <= 1:\n",
    "        return\n",
    "    \n",
    "    global corr\n",
    "    corr = df[selected_items].corr(method=method)\n",
    "\n",
    "    \n",
    "    colors = [(1, 1, 1), (0, 0, 0), (1, 1, 1)]  # Белый -> Черный -> Белый\n",
    "    # Создаем цветовую карту\n",
    "    cmap = LinearSegmentedColormap.from_list('custom_cmap', colors, N=256)\n",
    "    plt.figure(figsize=(15, 15))\n",
    "    plt.title(f\"Матрицы корреляции method = {method}\")\n",
    "    sns.heatmap(corr, vmax=1, square=True, annot=True, cmap=cmap)\n",
    "    plt.show()\n",
    "    corr = df.corr(method=method)\n",
    "\n",
    "widgets.interact(heatmap, method = [\"pearson\", \"kendall\", \"spearman\"], **{item: widgets.Checkbox(description=item, value=False) for item in list(df.columns)})\n"
   ]
  },
  {
   "cell_type": "markdown",
   "id": "87a9f08e-910a-42ef-98ca-93c439d63567",
   "metadata": {},
   "source": [
    "<h6 style=\"text-align: left; font-size: 20px;\">Многомерные графики: матрица диаграммы рассеяния.</h6>\n",
    "<a id='scatter-diag-plots'></a>"
   ]
  },
  {
   "cell_type": "code",
   "execution_count": 48,
   "id": "8cbc4857-1b41-4818-a535-fcbf414f5165",
   "metadata": {},
   "outputs": [
    {
     "data": {
      "application/vnd.jupyter.widget-view+json": {
       "model_id": "29314c7eca894a01b999228424bf1e7a",
       "version_major": 2,
       "version_minor": 0
      },
      "text/plain": [
       "interactive(children=(Checkbox(value=False, description='относительная компактность'), Checkbox(value=False, d…"
      ]
     },
     "metadata": {},
     "output_type": "display_data"
    },
    {
     "data": {
      "text/plain": [
       "<function __main__.scatterplots(**kwargs)>"
      ]
     },
     "execution_count": 48,
     "metadata": {},
     "output_type": "execute_result"
    }
   ],
   "source": [
    "\n",
    "# Функция, которая будет вызвана при изменении состояния чекбоксов\n",
    "def scatterplots(**kwargs):\n",
    "    selected_items = [item for item, selected in kwargs.items() if selected]\n",
    "    if len(selected_items) < 1:\n",
    "        return\n",
    "    pd.plotting.scatter_matrix(df[selected_items], figsize=(15, 15), diagonal='kde')\n",
    "    plt.show()\n",
    "\n",
    "\n",
    "widgets.interact(scatterplots, **{item: widgets.Checkbox(description=item, value=False) for item in list(df.columns)})  \n"
   ]
  },
  {
   "cell_type": "markdown",
   "id": "ffe93233-eb11-43de-be46-735f679e9f99",
   "metadata": {},
   "source": [
    "<h6 style=\"text-align: left; font-size: 20px;\">Многомерные графики: матрица диаграммы рассеяния.</h6>\n"
   ]
  },
  {
   "cell_type": "code",
   "execution_count": 52,
   "id": "75b737e3-6a23-4968-b927-49d5bd5b8065",
   "metadata": {},
   "outputs": [
    {
     "name": "stdout",
     "output_type": "stream",
     "text": [
      "общая высота                        0.889\n",
      "зона крыши                         -0.862\n",
      "площадь поверхности                -0.658\n",
      "относительная компактность          0.622\n",
      "площадь сплошной стены              0.456\n",
      "площадь сплошного остекления        0.270\n",
      "распределение площади остекления    0.087\n",
      "ориентация                         -0.003\n",
      "Name: отопительная нагрузка, dtype: float64\n"
     ]
    }
   ],
   "source": [
    "new_corr = corr[\"отопительная нагрузка\"].drop(\"отопительная нагрузка\").sort_values(ascending=False, key=lambda x: x.abs())\n",
    "print(new_corr)"
   ]
  },
  {
   "cell_type": "code",
   "execution_count": 55,
   "id": "0c2dc83c-3f5f-4706-806a-8321e321077f",
   "metadata": {},
   "outputs": [
    {
     "data": {
      "application/vnd.jupyter.widget-view+json": {
       "model_id": "b9b628364b31450ea0942c07dc6a4fa1",
       "version_major": 2,
       "version_minor": 0
      },
      "text/plain": [
       "interactive(children=(Checkbox(value=False, description='относительная компактность'), Checkbox(value=False, d…"
      ]
     },
     "metadata": {},
     "output_type": "display_data"
    },
    {
     "data": {
      "text/plain": [
       "<function __main__.scatterplots(**kwargs)>"
      ]
     },
     "execution_count": 55,
     "metadata": {},
     "output_type": "execute_result"
    }
   ],
   "source": [
    "widgets.interact(scatterplots, **{item: widgets.Checkbox(description=item, value=False) for item in list(df.columns)})  "
   ]
  },
  {
   "cell_type": "markdown",
   "id": "dc0dde63-04b1-425a-984a-857973d16d8e",
   "metadata": {},
   "source": [
    "<h6 style=\"text-align: left; font-size: 20px;\">Экспериментирование с комбинациями атрибутов</h6>\n"
   ]
  },
  {
   "cell_type": "code",
   "execution_count": 74,
   "id": "4b1a1a07-e4b8-4d11-ab65-8bd602572924",
   "metadata": {},
   "outputs": [
    {
     "name": "stdout",
     "output_type": "stream",
     "text": [
      "общая высота                                      0.889\n",
      "отношение стенной площади ко всей площади дома    0.866\n",
      "отношение площади крыши ко всей площади дома     -0.866\n",
      "зона крыши                                       -0.862\n",
      "площадь поверхности                              -0.658\n",
      "относительная компактность                        0.622\n",
      "площадь сплошной стены                            0.456\n",
      "отношение остекленния ко всей площади дома        0.416\n",
      "площадь сплошного остекления                      0.270\n",
      "распределение площади остекления                  0.087\n",
      "ориентация                                       -0.003\n",
      "Name: отопительная нагрузка, dtype: float64\n"
     ]
    }
   ],
   "source": [
    "df[\"отношение стенной площади ко всей площади дома\"] = df[\"площадь сплошной стены\"] / df[\"площадь поверхности\"]\n",
    "df[\"отношение остекленния ко всей площади дома\"] = df[\"площадь сплошного остекления\"] / df[\"площадь поверхности\"]\n",
    "df[\"отношение площади крыши ко всей площади дома\"] = df[\"зона крыши\"] / df[\"площадь поверхности\"]\n",
    "new_corr = corr[\"отопительная нагрузка\"].drop(\"отопительная нагрузка\").sort_values(ascending=False, key=lambda x: x.abs())\n",
    "print(new_corr)"
   ]
  },
  {
   "cell_type": "code",
   "execution_count": 73,
   "id": "1d49926d-9cbf-435d-8e38-1571551ebbf6",
   "metadata": {},
   "outputs": [
    {
     "data": {
      "application/vnd.jupyter.widget-view+json": {
       "model_id": "eade7785560e4eefa62c365fd83a4ff8",
       "version_major": 2,
       "version_minor": 0
      },
      "text/plain": [
       "interactive(children=(Dropdown(description='method', options=('pearson', 'kendall', 'spearman'), value='pearso…"
      ]
     },
     "metadata": {},
     "output_type": "display_data"
    },
    {
     "data": {
      "text/plain": [
       "<function __main__.heatmap(method, **kwargs)>"
      ]
     },
     "execution_count": 73,
     "metadata": {},
     "output_type": "execute_result"
    }
   ],
   "source": [
    "#widgets.interact(scatterplots, **{item: widgets.Checkbox(description=item, value=False) for item in list(df.columns)})\n",
    "widgets.interact(heatmap, method = [\"pearson\", \"kendall\", \"spearman\"], **{item: widgets.Checkbox(description=item, value=False) for item in list(df.columns)})\n"
   ]
  },
  {
   "cell_type": "markdown",
   "id": "135228b2-1a90-4da2-ac53-198cca3a61c4",
   "metadata": {},
   "source": [
    "<h4 style=\"text-align: center; font-size: 24px;\">Этап 4<br>Подготовка данных</h4>\n",
    "<h5 style=\"text-align: center; font-size: 20px;\">Очистка данных</h5>"
   ]
  },
  {
   "cell_type": "code",
   "execution_count": 84,
   "id": "b5b06416-dafa-4fc9-bd93-716b17639a56",
   "metadata": {},
   "outputs": [
    {
     "name": "stdout",
     "output_type": "stream",
     "text": [
      "Не требуется\n"
     ]
    }
   ],
   "source": [
    "if np.sum(df.describe().head(1).to_numpy())/(df.shape[0] * df.shape[1]) == 1: # ==1 bad idea\n",
    "    print(\"Не требуется\")\n",
    "else:\n",
    "    pass"
   ]
  },
  {
   "cell_type": "markdown",
   "id": "8aa77716-1b1f-4f97-993a-3a04dd73a401",
   "metadata": {},
   "source": [
    "<h5 style=\"text-align: center; font-size: 20px;\">Отбор существенных(информативных) признаков</h5>"
   ]
  },
  {
   "cell_type": "code",
   "execution_count": 96,
   "id": "565cb820-fbd7-4b9c-83c4-af38cd6afde5",
   "metadata": {},
   "outputs": [],
   "source": [
    "df_X = df.drop(columns='отопительная нагрузка')\n",
    "df_Y = df['отопительная нагрузка']"
   ]
  },
  {
   "cell_type": "code",
   "execution_count": 161,
   "id": "f2fc1118-4b50-4446-8634-d592d9143003",
   "metadata": {},
   "outputs": [],
   "source": [
    "bestfeatures = SelectKBest(f_regression, k=5)#todo поменять f_regression\n",
    "fit = bestfeatures.fit(df_X, df_Y)\n",
    "df_scores = pd.DataFrame(fit.scores_)\n",
    "df_columns = pd.DataFrame(df_X.columns)\n",
    "feature_scores = pd.concat([df_columns, df_scores, pd.DataFrame( corr[\"отопительная нагрузка\"].drop(\"отопительная нагрузка\").values)], axis=1)\n",
    "feature_scores.columns = ['Признак', 'Оценка', 'Коэффициент корреляции']\n",
    "feature_scores=feature_scores.sort_values(by='Оценка')"
   ]
  },
  {
   "cell_type": "code",
   "execution_count": 165,
   "id": "5a2d8061-e329-4fda-80e6-170f4252c6de",
   "metadata": {},
   "outputs": [
    {
     "data": {
      "text/html": [
       "<div>\n",
       "<style scoped>\n",
       "    .dataframe tbody tr th:only-of-type {\n",
       "        vertical-align: middle;\n",
       "    }\n",
       "\n",
       "    .dataframe tbody tr th {\n",
       "        vertical-align: top;\n",
       "    }\n",
       "\n",
       "    .dataframe thead th {\n",
       "        text-align: right;\n",
       "    }\n",
       "</style>\n",
       "<table border=\"1\" class=\"dataframe\">\n",
       "  <thead>\n",
       "    <tr style=\"text-align: right;\">\n",
       "      <th></th>\n",
       "      <th>Признак</th>\n",
       "      <th>Оценка</th>\n",
       "      <th>Коэффициент корреляции</th>\n",
       "    </tr>\n",
       "  </thead>\n",
       "  <tbody>\n",
       "    <tr>\n",
       "      <th>5</th>\n",
       "      <td>ориентация</td>\n",
       "      <td>0.005</td>\n",
       "      <td>-0.004</td>\n",
       "    </tr>\n",
       "    <tr>\n",
       "      <th>7</th>\n",
       "      <td>распределение площади остекления</td>\n",
       "      <td>5.892</td>\n",
       "      <td>0.068</td>\n",
       "    </tr>\n",
       "    <tr>\n",
       "      <th>6</th>\n",
       "      <td>площадь сплошного остекления</td>\n",
       "      <td>60.156</td>\n",
       "      <td>0.323</td>\n",
       "    </tr>\n",
       "    <tr>\n",
       "      <th>9</th>\n",
       "      <td>отношение остекленния ко всей площади дома</td>\n",
       "      <td>160.372</td>\n",
       "      <td>0.488</td>\n",
       "    </tr>\n",
       "    <tr>\n",
       "      <th>2</th>\n",
       "      <td>площадь сплошной стены</td>\n",
       "      <td>200.728</td>\n",
       "      <td>0.471</td>\n",
       "    </tr>\n",
       "    <tr>\n",
       "      <th>0</th>\n",
       "      <td>относительная компактность</td>\n",
       "      <td>484.046</td>\n",
       "      <td>0.622</td>\n",
       "    </tr>\n",
       "    <tr>\n",
       "      <th>1</th>\n",
       "      <td>площадь поверхности</td>\n",
       "      <td>585.260</td>\n",
       "      <td>-0.622</td>\n",
       "    </tr>\n",
       "    <tr>\n",
       "      <th>3</th>\n",
       "      <td>зона крыши</td>\n",
       "      <td>2211.620</td>\n",
       "      <td>-0.804</td>\n",
       "    </tr>\n",
       "    <tr>\n",
       "      <th>10</th>\n",
       "      <td>отношение площади крыши ко всей площади дома</td>\n",
       "      <td>2295.956</td>\n",
       "      <td>-0.854</td>\n",
       "    </tr>\n",
       "    <tr>\n",
       "      <th>8</th>\n",
       "      <td>отношение стенной площади ко всей площади дома</td>\n",
       "      <td>2295.956</td>\n",
       "      <td>0.854</td>\n",
       "    </tr>\n",
       "    <tr>\n",
       "      <th>4</th>\n",
       "      <td>общая высота</td>\n",
       "      <td>2900.590</td>\n",
       "      <td>0.861</td>\n",
       "    </tr>\n",
       "  </tbody>\n",
       "</table>\n",
       "</div>"
      ],
      "text/plain": [
       "                                           Признак    Оценка  \\\n",
       "5                                       ориентация     0.005   \n",
       "7                 распределение площади остекления     5.892   \n",
       "6                     площадь сплошного остекления    60.156   \n",
       "9       отношение остекленния ко всей площади дома   160.372   \n",
       "2                           площадь сплошной стены   200.728   \n",
       "0                       относительная компактность   484.046   \n",
       "1                              площадь поверхности   585.260   \n",
       "3                                       зона крыши  2211.620   \n",
       "10    отношение площади крыши ко всей площади дома  2295.956   \n",
       "8   отношение стенной площади ко всей площади дома  2295.956   \n",
       "4                                     общая высота  2900.590   \n",
       "\n",
       "    Коэффициент корреляции  \n",
       "5                   -0.004  \n",
       "7                    0.068  \n",
       "6                    0.323  \n",
       "9                    0.488  \n",
       "2                    0.471  \n",
       "0                    0.622  \n",
       "1                   -0.622  \n",
       "3                   -0.804  \n",
       "10                  -0.854  \n",
       "8                    0.854  \n",
       "4                    0.861  "
      ]
     },
     "execution_count": 165,
     "metadata": {},
     "output_type": "execute_result"
    }
   ],
   "source": [
    "feature_scores"
   ]
  },
  {
   "cell_type": "markdown",
   "id": "eee51bb0-bae4-4122-aa97-a638f703c2d2",
   "metadata": {},
   "source": [
    "Сноска: реверс анализ типов данных\n",
    "\n",
    "Исходя из здравого смысла и шестого чувства предположим, что\n",
    "1. ориентация - это стороны света => есть потенцциальная возможность разбить на пару север-юг запад-восток (если влияние ветра не велико)\n",
    "2. распределение площади остекления => куда выходят окна 0-не выходят никуда\n",
    "3. площадь сплошного остекления. Размерность отличается от общей площади. "
   ]
  },
  {
   "cell_type": "code",
   "execution_count": 170,
   "id": "c56e6eb4-5b86-45c2-b012-1ed6c8d31719",
   "metadata": {},
   "outputs": [
    {
     "name": "stdout",
     "output_type": "stream",
     "text": [
      "                            Признак  Оценка  Коэффициент корреляции\n",
      "5                        ориентация   0.005                  -0.004\n",
      "7  распределение площади остекления   5.892                   0.068\n",
      "6      площадь сплошного остекления  60.156                   0.323\n"
     ]
    }
   ],
   "source": [
    "print(feature_scores[:3])\n",
    "df.drop(feature_scores[:3][\"Признак\"].to_list(), axis=1, inplace=True)"
   ]
  },
  {
   "cell_type": "code",
   "execution_count": 171,
   "id": "afc4d7b7-5dcb-4441-9bb5-9c901abb95fe",
   "metadata": {},
   "outputs": [
    {
     "data": {
      "text/html": [
       "<div>\n",
       "<style scoped>\n",
       "    .dataframe tbody tr th:only-of-type {\n",
       "        vertical-align: middle;\n",
       "    }\n",
       "\n",
       "    .dataframe tbody tr th {\n",
       "        vertical-align: top;\n",
       "    }\n",
       "\n",
       "    .dataframe thead th {\n",
       "        text-align: right;\n",
       "    }\n",
       "</style>\n",
       "<table border=\"1\" class=\"dataframe\">\n",
       "  <thead>\n",
       "    <tr style=\"text-align: right;\">\n",
       "      <th></th>\n",
       "      <th>относительная компактность</th>\n",
       "      <th>площадь поверхности</th>\n",
       "      <th>площадь сплошной стены</th>\n",
       "      <th>зона крыши</th>\n",
       "      <th>общая высота</th>\n",
       "      <th>отопительная нагрузка</th>\n",
       "      <th>отношение стенной площади ко всей площади дома</th>\n",
       "      <th>отношение остекленния ко всей площади дома</th>\n",
       "      <th>отношение площади крыши ко всей площади дома</th>\n",
       "    </tr>\n",
       "  </thead>\n",
       "  <tbody>\n",
       "    <tr>\n",
       "      <th>0</th>\n",
       "      <td>0.98</td>\n",
       "      <td>514.5</td>\n",
       "      <td>294.0</td>\n",
       "      <td>110.25</td>\n",
       "      <td>7.0</td>\n",
       "      <td>15.55</td>\n",
       "      <td>0.571</td>\n",
       "      <td>0.000e+00</td>\n",
       "      <td>0.214</td>\n",
       "    </tr>\n",
       "    <tr>\n",
       "      <th>1</th>\n",
       "      <td>0.98</td>\n",
       "      <td>514.5</td>\n",
       "      <td>294.0</td>\n",
       "      <td>110.25</td>\n",
       "      <td>7.0</td>\n",
       "      <td>15.55</td>\n",
       "      <td>0.571</td>\n",
       "      <td>0.000e+00</td>\n",
       "      <td>0.214</td>\n",
       "    </tr>\n",
       "    <tr>\n",
       "      <th>2</th>\n",
       "      <td>0.98</td>\n",
       "      <td>514.5</td>\n",
       "      <td>294.0</td>\n",
       "      <td>110.25</td>\n",
       "      <td>7.0</td>\n",
       "      <td>15.55</td>\n",
       "      <td>0.571</td>\n",
       "      <td>0.000e+00</td>\n",
       "      <td>0.214</td>\n",
       "    </tr>\n",
       "    <tr>\n",
       "      <th>3</th>\n",
       "      <td>0.98</td>\n",
       "      <td>514.5</td>\n",
       "      <td>294.0</td>\n",
       "      <td>110.25</td>\n",
       "      <td>7.0</td>\n",
       "      <td>15.55</td>\n",
       "      <td>0.571</td>\n",
       "      <td>0.000e+00</td>\n",
       "      <td>0.214</td>\n",
       "    </tr>\n",
       "    <tr>\n",
       "      <th>4</th>\n",
       "      <td>0.90</td>\n",
       "      <td>563.5</td>\n",
       "      <td>318.5</td>\n",
       "      <td>122.50</td>\n",
       "      <td>7.0</td>\n",
       "      <td>20.84</td>\n",
       "      <td>0.565</td>\n",
       "      <td>0.000e+00</td>\n",
       "      <td>0.217</td>\n",
       "    </tr>\n",
       "    <tr>\n",
       "      <th>...</th>\n",
       "      <td>...</td>\n",
       "      <td>...</td>\n",
       "      <td>...</td>\n",
       "      <td>...</td>\n",
       "      <td>...</td>\n",
       "      <td>...</td>\n",
       "      <td>...</td>\n",
       "      <td>...</td>\n",
       "      <td>...</td>\n",
       "    </tr>\n",
       "    <tr>\n",
       "      <th>763</th>\n",
       "      <td>0.64</td>\n",
       "      <td>784.0</td>\n",
       "      <td>343.0</td>\n",
       "      <td>220.50</td>\n",
       "      <td>3.5</td>\n",
       "      <td>17.88</td>\n",
       "      <td>0.438</td>\n",
       "      <td>5.102e-04</td>\n",
       "      <td>0.281</td>\n",
       "    </tr>\n",
       "    <tr>\n",
       "      <th>764</th>\n",
       "      <td>0.62</td>\n",
       "      <td>808.5</td>\n",
       "      <td>367.5</td>\n",
       "      <td>220.50</td>\n",
       "      <td>3.5</td>\n",
       "      <td>16.54</td>\n",
       "      <td>0.455</td>\n",
       "      <td>4.947e-04</td>\n",
       "      <td>0.273</td>\n",
       "    </tr>\n",
       "    <tr>\n",
       "      <th>765</th>\n",
       "      <td>0.62</td>\n",
       "      <td>808.5</td>\n",
       "      <td>367.5</td>\n",
       "      <td>220.50</td>\n",
       "      <td>3.5</td>\n",
       "      <td>16.44</td>\n",
       "      <td>0.455</td>\n",
       "      <td>4.947e-04</td>\n",
       "      <td>0.273</td>\n",
       "    </tr>\n",
       "    <tr>\n",
       "      <th>766</th>\n",
       "      <td>0.62</td>\n",
       "      <td>808.5</td>\n",
       "      <td>367.5</td>\n",
       "      <td>220.50</td>\n",
       "      <td>3.5</td>\n",
       "      <td>16.48</td>\n",
       "      <td>0.455</td>\n",
       "      <td>4.947e-04</td>\n",
       "      <td>0.273</td>\n",
       "    </tr>\n",
       "    <tr>\n",
       "      <th>767</th>\n",
       "      <td>0.62</td>\n",
       "      <td>808.5</td>\n",
       "      <td>367.5</td>\n",
       "      <td>220.50</td>\n",
       "      <td>3.5</td>\n",
       "      <td>16.64</td>\n",
       "      <td>0.455</td>\n",
       "      <td>4.947e-04</td>\n",
       "      <td>0.273</td>\n",
       "    </tr>\n",
       "  </tbody>\n",
       "</table>\n",
       "<p>768 rows × 9 columns</p>\n",
       "</div>"
      ],
      "text/plain": [
       "     относительная компактность  площадь поверхности  площадь сплошной стены  \\\n",
       "0                          0.98                514.5                   294.0   \n",
       "1                          0.98                514.5                   294.0   \n",
       "2                          0.98                514.5                   294.0   \n",
       "3                          0.98                514.5                   294.0   \n",
       "4                          0.90                563.5                   318.5   \n",
       "..                          ...                  ...                     ...   \n",
       "763                        0.64                784.0                   343.0   \n",
       "764                        0.62                808.5                   367.5   \n",
       "765                        0.62                808.5                   367.5   \n",
       "766                        0.62                808.5                   367.5   \n",
       "767                        0.62                808.5                   367.5   \n",
       "\n",
       "     зона крыши  общая высота  отопительная нагрузка  \\\n",
       "0        110.25           7.0                  15.55   \n",
       "1        110.25           7.0                  15.55   \n",
       "2        110.25           7.0                  15.55   \n",
       "3        110.25           7.0                  15.55   \n",
       "4        122.50           7.0                  20.84   \n",
       "..          ...           ...                    ...   \n",
       "763      220.50           3.5                  17.88   \n",
       "764      220.50           3.5                  16.54   \n",
       "765      220.50           3.5                  16.44   \n",
       "766      220.50           3.5                  16.48   \n",
       "767      220.50           3.5                  16.64   \n",
       "\n",
       "     отношение стенной площади ко всей площади дома  \\\n",
       "0                                             0.571   \n",
       "1                                             0.571   \n",
       "2                                             0.571   \n",
       "3                                             0.571   \n",
       "4                                             0.565   \n",
       "..                                              ...   \n",
       "763                                           0.438   \n",
       "764                                           0.455   \n",
       "765                                           0.455   \n",
       "766                                           0.455   \n",
       "767                                           0.455   \n",
       "\n",
       "     отношение остекленния ко всей площади дома  \\\n",
       "0                                     0.000e+00   \n",
       "1                                     0.000e+00   \n",
       "2                                     0.000e+00   \n",
       "3                                     0.000e+00   \n",
       "4                                     0.000e+00   \n",
       "..                                          ...   \n",
       "763                                   5.102e-04   \n",
       "764                                   4.947e-04   \n",
       "765                                   4.947e-04   \n",
       "766                                   4.947e-04   \n",
       "767                                   4.947e-04   \n",
       "\n",
       "     отношение площади крыши ко всей площади дома  \n",
       "0                                           0.214  \n",
       "1                                           0.214  \n",
       "2                                           0.214  \n",
       "3                                           0.214  \n",
       "4                                           0.217  \n",
       "..                                            ...  \n",
       "763                                         0.281  \n",
       "764                                         0.273  \n",
       "765                                         0.273  \n",
       "766                                         0.273  \n",
       "767                                         0.273  \n",
       "\n",
       "[768 rows x 9 columns]"
      ]
     },
     "execution_count": 171,
     "metadata": {},
     "output_type": "execute_result"
    }
   ],
   "source": [
    "df"
   ]
  },
  {
   "cell_type": "markdown",
   "id": "dc7f6517-031d-4ae1-bf24-b03d4d961ad2",
   "metadata": {},
   "source": [
    "<h5 style=\"text-align: center; font-size: 20px;\">Преобразование данных</h5>"
   ]
  },
  {
   "cell_type": "code",
   "execution_count": null,
   "id": "92fee0e1-df24-4c26-951b-896b17699a52",
   "metadata": {},
   "outputs": [],
   "source": []
  },
  {
   "cell_type": "code",
   "execution_count": null,
   "id": "6b2bd993-5b5e-48c1-b8ad-834b29768123",
   "metadata": {},
   "outputs": [],
   "source": []
  },
  {
   "cell_type": "code",
   "execution_count": null,
   "id": "1cbbc081-a8f4-4c0f-a159-a457b8d2f6e5",
   "metadata": {},
   "outputs": [],
   "source": []
  },
  {
   "cell_type": "markdown",
   "id": "fa0dadc8-078e-40e1-b72a-cd257d9e54cf",
   "metadata": {},
   "source": [
    "ipywidgets          8.1.5\n",
    "\n",
    "matplotlib          3.10.0\n",
    "\n",
    "numpy               2.1.3\n",
    "\n",
    "pandas              2.2.3\n",
    "\n",
    "plotly              5.24.1\n",
    "\n",
    "seaborn             0.13.2\n",
    "\n",
    "session_info        1.0.0\n",
    "\n",
    "sklearn             1.6.1\n"
   ]
  },
  {
   "cell_type": "code",
   "execution_count": null,
   "id": "9113a358-45eb-4154-80cd-24f7078f46b3",
   "metadata": {},
   "outputs": [],
   "source": []
  }
 ],
 "metadata": {
  "kernelspec": {
   "display_name": "Python 3 (ipykernel)",
   "language": "python",
   "name": "python3"
  },
  "language_info": {
   "codemirror_mode": {
    "name": "ipython",
    "version": 3
   },
   "file_extension": ".py",
   "mimetype": "text/x-python",
   "name": "python",
   "nbconvert_exporter": "python",
   "pygments_lexer": "ipython3",
   "version": "3.12.9"
  }
 },
 "nbformat": 4,
 "nbformat_minor": 5
}
